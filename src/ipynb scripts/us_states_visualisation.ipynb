{
 "cells": [
  {
   "metadata": {},
   "cell_type": "code",
   "outputs": [],
   "execution_count": null,
   "source": [
    "import os\n",
    "import pandas as pd\n",
    "import seaborn as sns\n",
    "import matplotlib.pyplot as plt"
   ],
   "id": "f64da75d34616ff3"
  },
  {
   "metadata": {},
   "cell_type": "code",
   "outputs": [],
   "execution_count": null,
   "source": [
    "%load_ext autoreload\n",
    "%autoreload 2"
   ],
   "id": "7d38514df933ef22"
  },
  {
   "metadata": {},
   "cell_type": "code",
   "outputs": [],
   "execution_count": null,
   "source": [
    "from src.data.plot_state_map import PlotStateMap\n",
    "\n",
    "state_population_dict = {\n",
    "    \"CA\": 39538223,\n",
    "    \"TX\": 29145505,\n",
    "    \"FL\": 21538187,\n",
    "    \"NY\": 20201249,\n",
    "    \"PA\": 13002700,\n",
    "    \"IL\": 12812508,\n",
    "    \"OH\": 11799448,\n",
    "    \"GA\": 10711908,\n",
    "    \"NC\": 10439388,\n",
    "    \"MI\": 10077331\n",
    "}\n",
    "\n",
    "state_map = PlotStateMap(state_population_dict)\n",
    "state_map.plot_map()\n"
   ],
   "id": "cc80ea23fdeddc75"
  },
  {
   "metadata": {},
   "cell_type": "code",
   "outputs": [],
   "execution_count": null,
   "source": [
    "df = pd.DataFrame(list(state_population_dict.items()), columns=[\"State\", \"Income\"])\n",
    "PlotStateMap(df, \"My title\", \"Income\").plot_map()"
   ],
   "id": "8ab5f2c1ac79c054"
  },
  {
   "metadata": {},
   "cell_type": "code",
   "outputs": [],
   "execution_count": null,
   "source": "",
   "id": "62852164480787ae"
  }
 ],
 "metadata": {},
 "nbformat": 5,
 "nbformat_minor": 9
}
