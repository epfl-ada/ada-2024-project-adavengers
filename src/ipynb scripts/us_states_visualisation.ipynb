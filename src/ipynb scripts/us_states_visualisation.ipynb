{
 "cells": [
  {
   "cell_type": "code",
   "execution_count": 1,
   "id": "f64da75d34616ff3",
   "metadata": {},
   "outputs": [],
   "source": [
    "import pandas as pd\n",
    "import seaborn as sns\n",
    "import numpy as np \n",
    "import matplotlib.pyplot as plt\n",
    "import plotly.express as px\n",
    "import plotly\n",
    "import plotly.graph_objs as go\n",
    "\n",
    "\n",
    "from pathlib import Path\n",
    "\n",
    "import sys\n",
    "import os\n",
    "data_path = os.path.abspath('../data')\n",
    "sys.path.append(data_path)\n",
    "\n",
    "models_path = os.path.abspath('../models')\n",
    "sys.path.append(models_path)\n",
    "\n",
    "utils_path = os.path.abspath('../utils')\n",
    "sys.path.append(utils_path)\n",
    "\n",
    "import plot_state_map\n",
    "import correlations as corr\n",
    "import reviews_processing\n",
    "import load_and_find_party_winners\n",
    "import favourite_beers_processing\n",
    "import plotting_utils"
   ]
  },
  {
   "cell_type": "code",
   "execution_count": 2,
   "id": "7d38514df933ef22",
   "metadata": {},
   "outputs": [],
   "source": [
    "%load_ext autoreload\n",
    "%autoreload 2"
   ]
  },
  {
   "cell_type": "markdown",
   "id": "00858c0d",
   "metadata": {},
   "source": [
    "### Visualization of beer style preferences across US states  \n",
    "\n",
    "For each state, the plot displays favourite beer styles (one with the best average rating on the state level) over the years.  \n",
    "\n",
    "Over the years, U.S. favorites are Stouts, Porters and IPAs. \n",
    "\n",
    "It is worth noting that e.g. Kentucky, Massachusets, Connecticut, Ohio, Oregon chose Stouts without an exeption.  \n",
    "\n",
    "On the other hand Montana, North Dakota, South Dakota, Utah, Vermont, Wyoming have more diverse tastes over these years.  \n",
    "\n",
    "Another interesting observation is that after 2010 Stouts dominate as beer style favourite for majority of states, being favorite in 47 states in 2016."
   ]
  },
  {
   "cell_type": "code",
   "execution_count": 3,
   "id": "3720f1ce",
   "metadata": {},
   "outputs": [],
   "source": [
    "# Change for path where data is on your machine\n",
    "project_root = Path.cwd().parents[2]\n",
    "beer_advocate_path = project_root / \"BeerAdvocate\"\n",
    "reviews_path = str(beer_advocate_path / \"reviews_df.csv\")\n",
    "users_path = beer_advocate_path / \"users.csv\"\n",
    "\n",
    "project_dir = Path.cwd().parents[1]\n",
    "winners_path = project_dir / \"data/generated/party_winners_over_years.csv\"\n",
    "\n",
    "users_reviews = reviews_processing.Reviews(users_path, reviews_path)\n",
    "year_list = list(np.arange(2004, 2017, 1, dtype=int))\n",
    "results = users_reviews.aggregate_preferences_year(year_list, all_states=True)\n",
    "winners = load_and_find_party_winners.state_winner_years(winners_path)\n",
    "\n",
    "# Reviews for counts\n",
    "total_reviews = users_reviews.filter_beer_type()\n"
   ]
  },
  {
   "cell_type": "code",
   "execution_count": 4,
   "metadata": {},
   "outputs": [
    {
     "data": {
      "application/vnd.plotly.v1+json": {
       "config": {
        "plotlyServerURL": "https://plot.ly"
       },
       "data": [
        {
         "alignmentgroup": "True",
         "hovertemplate": "year=2004<br>Beer Style=%{x}<br>count=%{y}<extra></extra>",
         "legendgroup": "",
         "marker": {
          "color": "#636efa",
          "pattern": {
           "shape": ""
          }
         },
         "name": "",
         "offsetgroup": "",
         "orientation": "v",
         "showlegend": false,
         "textposition": "auto",
         "type": "bar",
         "x": [
          "Other Ale",
          "Pale Ale",
          "IPA",
          "Lager",
          "Stout",
          "Porter",
          "Red/Amber Ale",
          "Pilsner"
         ],
         "xaxis": "x",
         "y": [
          7956,
          6725,
          5766,
          5659,
          5179,
          2832,
          2363,
          1544
         ],
         "yaxis": "y"
        }
       ],
       "frames": [
        {
         "data": [
          {
           "alignmentgroup": "True",
           "hovertemplate": "year=2004<br>Beer Style=%{x}<br>count=%{y}<extra></extra>",
           "legendgroup": "",
           "marker": {
            "color": "#636efa",
            "pattern": {
             "shape": ""
            }
           },
           "name": "",
           "offsetgroup": "",
           "orientation": "v",
           "showlegend": false,
           "textposition": "auto",
           "type": "bar",
           "x": [
            "Other Ale",
            "Pale Ale",
            "IPA",
            "Lager",
            "Stout",
            "Porter",
            "Red/Amber Ale",
            "Pilsner"
           ],
           "xaxis": "x",
           "y": [
            7956,
            6725,
            5766,
            5659,
            5179,
            2832,
            2363,
            1544
           ],
           "yaxis": "y"
          }
         ],
         "name": "2004"
        },
        {
         "data": [
          {
           "alignmentgroup": "True",
           "hovertemplate": "year=2005<br>Beer Style=%{x}<br>count=%{y}<extra></extra>",
           "legendgroup": "",
           "marker": {
            "color": "#636efa",
            "pattern": {
             "shape": ""
            }
           },
           "name": "",
           "offsetgroup": "",
           "orientation": "v",
           "showlegend": false,
           "textposition": "auto",
           "type": "bar",
           "x": [
            "Other Ale",
            "Pale Ale",
            "IPA",
            "Lager",
            "Stout",
            "Porter",
            "Red/Amber Ale",
            "Pilsner"
           ],
           "xaxis": "x",
           "y": [
            10425,
            7860,
            7257,
            6414,
            6315,
            3398,
            2849,
            1745
           ],
           "yaxis": "y"
          }
         ],
         "name": "2005"
        },
        {
         "data": [
          {
           "alignmentgroup": "True",
           "hovertemplate": "year=2006<br>Beer Style=%{x}<br>count=%{y}<extra></extra>",
           "legendgroup": "",
           "marker": {
            "color": "#636efa",
            "pattern": {
             "shape": ""
            }
           },
           "name": "",
           "offsetgroup": "",
           "orientation": "v",
           "showlegend": false,
           "textposition": "auto",
           "type": "bar",
           "x": [
            "Other Ale",
            "IPA",
            "Pale Ale",
            "Stout",
            "Lager",
            "Porter",
            "Red/Amber Ale",
            "Pilsner"
           ],
           "xaxis": "x",
           "y": [
            15864,
            13260,
            10958,
            9896,
            8660,
            4752,
            4222,
            2487
           ],
           "yaxis": "y"
          }
         ],
         "name": "2006"
        },
        {
         "data": [
          {
           "alignmentgroup": "True",
           "hovertemplate": "year=2007<br>Beer Style=%{x}<br>count=%{y}<extra></extra>",
           "legendgroup": "",
           "marker": {
            "color": "#636efa",
            "pattern": {
             "shape": ""
            }
           },
           "name": "",
           "offsetgroup": "",
           "orientation": "v",
           "showlegend": false,
           "textposition": "auto",
           "type": "bar",
           "x": [
            "Other Ale",
            "IPA",
            "Pale Ale",
            "Stout",
            "Lager",
            "Porter",
            "Red/Amber Ale",
            "Pilsner"
           ],
           "xaxis": "x",
           "y": [
            17812,
            15800,
            12119,
            11256,
            9189,
            5418,
            4519,
            2518
           ],
           "yaxis": "y"
          }
         ],
         "name": "2007"
        },
        {
         "data": [
          {
           "alignmentgroup": "True",
           "hovertemplate": "year=2008<br>Beer Style=%{x}<br>count=%{y}<extra></extra>",
           "legendgroup": "",
           "marker": {
            "color": "#636efa",
            "pattern": {
             "shape": ""
            }
           },
           "name": "",
           "offsetgroup": "",
           "orientation": "v",
           "showlegend": false,
           "textposition": "auto",
           "type": "bar",
           "x": [
            "Other Ale",
            "IPA",
            "Stout",
            "Pale Ale",
            "Lager",
            "Porter",
            "Red/Amber Ale",
            "Pilsner"
           ],
           "xaxis": "x",
           "y": [
            27315,
            24926,
            20311,
            16895,
            12743,
            8502,
            8237,
            3430
           ],
           "yaxis": "y"
          }
         ],
         "name": "2008"
        },
        {
         "data": [
          {
           "alignmentgroup": "True",
           "hovertemplate": "year=2009<br>Beer Style=%{x}<br>count=%{y}<extra></extra>",
           "legendgroup": "",
           "marker": {
            "color": "#636efa",
            "pattern": {
             "shape": ""
            }
           },
           "name": "",
           "offsetgroup": "",
           "orientation": "v",
           "showlegend": false,
           "textposition": "auto",
           "type": "bar",
           "x": [
            "IPA",
            "Other Ale",
            "Stout",
            "Pale Ale",
            "Lager",
            "Porter",
            "Red/Amber Ale",
            "Pilsner"
           ],
           "xaxis": "x",
           "y": [
            34394,
            34294,
            25329,
            18988,
            12732,
            9405,
            8391,
            3736
           ],
           "yaxis": "y"
          }
         ],
         "name": "2009"
        },
        {
         "data": [
          {
           "alignmentgroup": "True",
           "hovertemplate": "year=2010<br>Beer Style=%{x}<br>count=%{y}<extra></extra>",
           "legendgroup": "",
           "marker": {
            "color": "#636efa",
            "pattern": {
             "shape": ""
            }
           },
           "name": "",
           "offsetgroup": "",
           "orientation": "v",
           "showlegend": false,
           "textposition": "auto",
           "type": "bar",
           "x": [
            "Other Ale",
            "IPA",
            "Stout",
            "Pale Ale",
            "Lager",
            "Porter",
            "Red/Amber Ale",
            "Pilsner"
           ],
           "xaxis": "x",
           "y": [
            43763,
            40624,
            30573,
            20558,
            12986,
            9863,
            8364,
            4693
           ],
           "yaxis": "y"
          }
         ],
         "name": "2010"
        },
        {
         "data": [
          {
           "alignmentgroup": "True",
           "hovertemplate": "year=2011<br>Beer Style=%{x}<br>count=%{y}<extra></extra>",
           "legendgroup": "",
           "marker": {
            "color": "#636efa",
            "pattern": {
             "shape": ""
            }
           },
           "name": "",
           "offsetgroup": "",
           "orientation": "v",
           "showlegend": false,
           "textposition": "auto",
           "type": "bar",
           "x": [
            "Other Ale",
            "IPA",
            "Stout",
            "Pale Ale",
            "Lager",
            "Porter",
            "Red/Amber Ale",
            "Pilsner"
           ],
           "xaxis": "x",
           "y": [
            54869,
            50878,
            37401,
            24356,
            13438,
            12527,
            9747,
            4421
           ],
           "yaxis": "y"
          }
         ],
         "name": "2011"
        },
        {
         "data": [
          {
           "alignmentgroup": "True",
           "hovertemplate": "year=2012<br>Beer Style=%{x}<br>count=%{y}<extra></extra>",
           "legendgroup": "",
           "marker": {
            "color": "#636efa",
            "pattern": {
             "shape": ""
            }
           },
           "name": "",
           "offsetgroup": "",
           "orientation": "v",
           "showlegend": false,
           "textposition": "auto",
           "type": "bar",
           "x": [
            "Other Ale",
            "IPA",
            "Stout",
            "Pale Ale",
            "Lager",
            "Porter",
            "Red/Amber Ale",
            "Pilsner"
           ],
           "xaxis": "x",
           "y": [
            38904,
            35799,
            24611,
            16087,
            8681,
            8343,
            6891,
            3170
           ],
           "yaxis": "y"
          }
         ],
         "name": "2012"
        },
        {
         "data": [
          {
           "alignmentgroup": "True",
           "hovertemplate": "year=2013<br>Beer Style=%{x}<br>count=%{y}<extra></extra>",
           "legendgroup": "",
           "marker": {
            "color": "#636efa",
            "pattern": {
             "shape": ""
            }
           },
           "name": "",
           "offsetgroup": "",
           "orientation": "v",
           "showlegend": false,
           "textposition": "auto",
           "type": "bar",
           "x": [
            "IPA",
            "Other Ale",
            "Stout",
            "Pale Ale",
            "Porter",
            "Lager",
            "Red/Amber Ale",
            "Pilsner"
           ],
           "xaxis": "x",
           "y": [
            35210,
            31494,
            22346,
            14376,
            7326,
            6856,
            5652,
            2534
           ],
           "yaxis": "y"
          }
         ],
         "name": "2013"
        },
        {
         "data": [
          {
           "alignmentgroup": "True",
           "hovertemplate": "year=2014<br>Beer Style=%{x}<br>count=%{y}<extra></extra>",
           "legendgroup": "",
           "marker": {
            "color": "#636efa",
            "pattern": {
             "shape": ""
            }
           },
           "name": "",
           "offsetgroup": "",
           "orientation": "v",
           "showlegend": false,
           "textposition": "auto",
           "type": "bar",
           "x": [
            "IPA",
            "Other Ale",
            "Stout",
            "Pale Ale",
            "Lager",
            "Porter",
            "Red/Amber Ale",
            "Pilsner"
           ],
           "xaxis": "x",
           "y": [
            34021,
            28220,
            20910,
            12680,
            6519,
            6316,
            4240,
            2448
           ],
           "yaxis": "y"
          }
         ],
         "name": "2014"
        },
        {
         "data": [
          {
           "alignmentgroup": "True",
           "hovertemplate": "year=2015<br>Beer Style=%{x}<br>count=%{y}<extra></extra>",
           "legendgroup": "",
           "marker": {
            "color": "#636efa",
            "pattern": {
             "shape": ""
            }
           },
           "name": "",
           "offsetgroup": "",
           "orientation": "v",
           "showlegend": false,
           "textposition": "auto",
           "type": "bar",
           "x": [
            "IPA",
            "Other Ale",
            "Stout",
            "Pale Ale",
            "Porter",
            "Lager",
            "Red/Amber Ale",
            "Pilsner"
           ],
           "xaxis": "x",
           "y": [
            46816,
            35831,
            28096,
            15171,
            8304,
            7416,
            4650,
            2976
           ],
           "yaxis": "y"
          }
         ],
         "name": "2015"
        },
        {
         "data": [
          {
           "alignmentgroup": "True",
           "hovertemplate": "year=2016<br>Beer Style=%{x}<br>count=%{y}<extra></extra>",
           "legendgroup": "",
           "marker": {
            "color": "#636efa",
            "pattern": {
             "shape": ""
            }
           },
           "name": "",
           "offsetgroup": "",
           "orientation": "v",
           "showlegend": false,
           "textposition": "auto",
           "type": "bar",
           "x": [
            "IPA",
            "Other Ale",
            "Stout",
            "Pale Ale",
            "Porter",
            "Lager",
            "Red/Amber Ale",
            "Pilsner"
           ],
           "xaxis": "x",
           "y": [
            46383,
            29457,
            26719,
            13824,
            6886,
            6543,
            4210,
            2967
           ],
           "yaxis": "y"
          }
         ],
         "name": "2016"
        }
       ],
       "layout": {
        "barmode": "relative",
        "legend": {
         "tracegroupgap": 0
        },
        "sliders": [
         {
          "active": 0,
          "currentvalue": {
           "prefix": "year="
          },
          "len": 0.9,
          "pad": {
           "b": 10,
           "t": 60
          },
          "steps": [
           {
            "args": [
             [
              "2004"
             ],
             {
              "frame": {
               "duration": 0,
               "redraw": true
              },
              "fromcurrent": true,
              "mode": "immediate",
              "transition": {
               "duration": 0,
               "easing": "linear"
              }
             }
            ],
            "label": "2004",
            "method": "animate"
           },
           {
            "args": [
             [
              "2005"
             ],
             {
              "frame": {
               "duration": 0,
               "redraw": true
              },
              "fromcurrent": true,
              "mode": "immediate",
              "transition": {
               "duration": 0,
               "easing": "linear"
              }
             }
            ],
            "label": "2005",
            "method": "animate"
           },
           {
            "args": [
             [
              "2006"
             ],
             {
              "frame": {
               "duration": 0,
               "redraw": true
              },
              "fromcurrent": true,
              "mode": "immediate",
              "transition": {
               "duration": 0,
               "easing": "linear"
              }
             }
            ],
            "label": "2006",
            "method": "animate"
           },
           {
            "args": [
             [
              "2007"
             ],
             {
              "frame": {
               "duration": 0,
               "redraw": true
              },
              "fromcurrent": true,
              "mode": "immediate",
              "transition": {
               "duration": 0,
               "easing": "linear"
              }
             }
            ],
            "label": "2007",
            "method": "animate"
           },
           {
            "args": [
             [
              "2008"
             ],
             {
              "frame": {
               "duration": 0,
               "redraw": true
              },
              "fromcurrent": true,
              "mode": "immediate",
              "transition": {
               "duration": 0,
               "easing": "linear"
              }
             }
            ],
            "label": "2008",
            "method": "animate"
           },
           {
            "args": [
             [
              "2009"
             ],
             {
              "frame": {
               "duration": 0,
               "redraw": true
              },
              "fromcurrent": true,
              "mode": "immediate",
              "transition": {
               "duration": 0,
               "easing": "linear"
              }
             }
            ],
            "label": "2009",
            "method": "animate"
           },
           {
            "args": [
             [
              "2010"
             ],
             {
              "frame": {
               "duration": 0,
               "redraw": true
              },
              "fromcurrent": true,
              "mode": "immediate",
              "transition": {
               "duration": 0,
               "easing": "linear"
              }
             }
            ],
            "label": "2010",
            "method": "animate"
           },
           {
            "args": [
             [
              "2011"
             ],
             {
              "frame": {
               "duration": 0,
               "redraw": true
              },
              "fromcurrent": true,
              "mode": "immediate",
              "transition": {
               "duration": 0,
               "easing": "linear"
              }
             }
            ],
            "label": "2011",
            "method": "animate"
           },
           {
            "args": [
             [
              "2012"
             ],
             {
              "frame": {
               "duration": 0,
               "redraw": true
              },
              "fromcurrent": true,
              "mode": "immediate",
              "transition": {
               "duration": 0,
               "easing": "linear"
              }
             }
            ],
            "label": "2012",
            "method": "animate"
           },
           {
            "args": [
             [
              "2013"
             ],
             {
              "frame": {
               "duration": 0,
               "redraw": true
              },
              "fromcurrent": true,
              "mode": "immediate",
              "transition": {
               "duration": 0,
               "easing": "linear"
              }
             }
            ],
            "label": "2013",
            "method": "animate"
           },
           {
            "args": [
             [
              "2014"
             ],
             {
              "frame": {
               "duration": 0,
               "redraw": true
              },
              "fromcurrent": true,
              "mode": "immediate",
              "transition": {
               "duration": 0,
               "easing": "linear"
              }
             }
            ],
            "label": "2014",
            "method": "animate"
           },
           {
            "args": [
             [
              "2015"
             ],
             {
              "frame": {
               "duration": 0,
               "redraw": true
              },
              "fromcurrent": true,
              "mode": "immediate",
              "transition": {
               "duration": 0,
               "easing": "linear"
              }
             }
            ],
            "label": "2015",
            "method": "animate"
           },
           {
            "args": [
             [
              "2016"
             ],
             {
              "frame": {
               "duration": 0,
               "redraw": true
              },
              "fromcurrent": true,
              "mode": "immediate",
              "transition": {
               "duration": 0,
               "easing": "linear"
              }
             }
            ],
            "label": "2016",
            "method": "animate"
           }
          ],
          "x": 0.1,
          "xanchor": "left",
          "y": 0,
          "yanchor": "top"
         }
        ],
        "template": {
         "data": {
          "bar": [
           {
            "error_x": {
             "color": "#2a3f5f"
            },
            "error_y": {
             "color": "#2a3f5f"
            },
            "marker": {
             "line": {
              "color": "#E5ECF6",
              "width": 0.5
             },
             "pattern": {
              "fillmode": "overlay",
              "size": 10,
              "solidity": 0.2
             }
            },
            "type": "bar"
           }
          ],
          "barpolar": [
           {
            "marker": {
             "line": {
              "color": "#E5ECF6",
              "width": 0.5
             },
             "pattern": {
              "fillmode": "overlay",
              "size": 10,
              "solidity": 0.2
             }
            },
            "type": "barpolar"
           }
          ],
          "carpet": [
           {
            "aaxis": {
             "endlinecolor": "#2a3f5f",
             "gridcolor": "white",
             "linecolor": "white",
             "minorgridcolor": "white",
             "startlinecolor": "#2a3f5f"
            },
            "baxis": {
             "endlinecolor": "#2a3f5f",
             "gridcolor": "white",
             "linecolor": "white",
             "minorgridcolor": "white",
             "startlinecolor": "#2a3f5f"
            },
            "type": "carpet"
           }
          ],
          "choropleth": [
           {
            "colorbar": {
             "outlinewidth": 0,
             "ticks": ""
            },
            "type": "choropleth"
           }
          ],
          "contour": [
           {
            "colorbar": {
             "outlinewidth": 0,
             "ticks": ""
            },
            "colorscale": [
             [
              0,
              "#0d0887"
             ],
             [
              0.1111111111111111,
              "#46039f"
             ],
             [
              0.2222222222222222,
              "#7201a8"
             ],
             [
              0.3333333333333333,
              "#9c179e"
             ],
             [
              0.4444444444444444,
              "#bd3786"
             ],
             [
              0.5555555555555556,
              "#d8576b"
             ],
             [
              0.6666666666666666,
              "#ed7953"
             ],
             [
              0.7777777777777778,
              "#fb9f3a"
             ],
             [
              0.8888888888888888,
              "#fdca26"
             ],
             [
              1,
              "#f0f921"
             ]
            ],
            "type": "contour"
           }
          ],
          "contourcarpet": [
           {
            "colorbar": {
             "outlinewidth": 0,
             "ticks": ""
            },
            "type": "contourcarpet"
           }
          ],
          "heatmap": [
           {
            "colorbar": {
             "outlinewidth": 0,
             "ticks": ""
            },
            "colorscale": [
             [
              0,
              "#0d0887"
             ],
             [
              0.1111111111111111,
              "#46039f"
             ],
             [
              0.2222222222222222,
              "#7201a8"
             ],
             [
              0.3333333333333333,
              "#9c179e"
             ],
             [
              0.4444444444444444,
              "#bd3786"
             ],
             [
              0.5555555555555556,
              "#d8576b"
             ],
             [
              0.6666666666666666,
              "#ed7953"
             ],
             [
              0.7777777777777778,
              "#fb9f3a"
             ],
             [
              0.8888888888888888,
              "#fdca26"
             ],
             [
              1,
              "#f0f921"
             ]
            ],
            "type": "heatmap"
           }
          ],
          "heatmapgl": [
           {
            "colorbar": {
             "outlinewidth": 0,
             "ticks": ""
            },
            "colorscale": [
             [
              0,
              "#0d0887"
             ],
             [
              0.1111111111111111,
              "#46039f"
             ],
             [
              0.2222222222222222,
              "#7201a8"
             ],
             [
              0.3333333333333333,
              "#9c179e"
             ],
             [
              0.4444444444444444,
              "#bd3786"
             ],
             [
              0.5555555555555556,
              "#d8576b"
             ],
             [
              0.6666666666666666,
              "#ed7953"
             ],
             [
              0.7777777777777778,
              "#fb9f3a"
             ],
             [
              0.8888888888888888,
              "#fdca26"
             ],
             [
              1,
              "#f0f921"
             ]
            ],
            "type": "heatmapgl"
           }
          ],
          "histogram": [
           {
            "marker": {
             "pattern": {
              "fillmode": "overlay",
              "size": 10,
              "solidity": 0.2
             }
            },
            "type": "histogram"
           }
          ],
          "histogram2d": [
           {
            "colorbar": {
             "outlinewidth": 0,
             "ticks": ""
            },
            "colorscale": [
             [
              0,
              "#0d0887"
             ],
             [
              0.1111111111111111,
              "#46039f"
             ],
             [
              0.2222222222222222,
              "#7201a8"
             ],
             [
              0.3333333333333333,
              "#9c179e"
             ],
             [
              0.4444444444444444,
              "#bd3786"
             ],
             [
              0.5555555555555556,
              "#d8576b"
             ],
             [
              0.6666666666666666,
              "#ed7953"
             ],
             [
              0.7777777777777778,
              "#fb9f3a"
             ],
             [
              0.8888888888888888,
              "#fdca26"
             ],
             [
              1,
              "#f0f921"
             ]
            ],
            "type": "histogram2d"
           }
          ],
          "histogram2dcontour": [
           {
            "colorbar": {
             "outlinewidth": 0,
             "ticks": ""
            },
            "colorscale": [
             [
              0,
              "#0d0887"
             ],
             [
              0.1111111111111111,
              "#46039f"
             ],
             [
              0.2222222222222222,
              "#7201a8"
             ],
             [
              0.3333333333333333,
              "#9c179e"
             ],
             [
              0.4444444444444444,
              "#bd3786"
             ],
             [
              0.5555555555555556,
              "#d8576b"
             ],
             [
              0.6666666666666666,
              "#ed7953"
             ],
             [
              0.7777777777777778,
              "#fb9f3a"
             ],
             [
              0.8888888888888888,
              "#fdca26"
             ],
             [
              1,
              "#f0f921"
             ]
            ],
            "type": "histogram2dcontour"
           }
          ],
          "mesh3d": [
           {
            "colorbar": {
             "outlinewidth": 0,
             "ticks": ""
            },
            "type": "mesh3d"
           }
          ],
          "parcoords": [
           {
            "line": {
             "colorbar": {
              "outlinewidth": 0,
              "ticks": ""
             }
            },
            "type": "parcoords"
           }
          ],
          "pie": [
           {
            "automargin": true,
            "type": "pie"
           }
          ],
          "scatter": [
           {
            "fillpattern": {
             "fillmode": "overlay",
             "size": 10,
             "solidity": 0.2
            },
            "type": "scatter"
           }
          ],
          "scatter3d": [
           {
            "line": {
             "colorbar": {
              "outlinewidth": 0,
              "ticks": ""
             }
            },
            "marker": {
             "colorbar": {
              "outlinewidth": 0,
              "ticks": ""
             }
            },
            "type": "scatter3d"
           }
          ],
          "scattercarpet": [
           {
            "marker": {
             "colorbar": {
              "outlinewidth": 0,
              "ticks": ""
             }
            },
            "type": "scattercarpet"
           }
          ],
          "scattergeo": [
           {
            "marker": {
             "colorbar": {
              "outlinewidth": 0,
              "ticks": ""
             }
            },
            "type": "scattergeo"
           }
          ],
          "scattergl": [
           {
            "marker": {
             "colorbar": {
              "outlinewidth": 0,
              "ticks": ""
             }
            },
            "type": "scattergl"
           }
          ],
          "scattermapbox": [
           {
            "marker": {
             "colorbar": {
              "outlinewidth": 0,
              "ticks": ""
             }
            },
            "type": "scattermapbox"
           }
          ],
          "scatterpolar": [
           {
            "marker": {
             "colorbar": {
              "outlinewidth": 0,
              "ticks": ""
             }
            },
            "type": "scatterpolar"
           }
          ],
          "scatterpolargl": [
           {
            "marker": {
             "colorbar": {
              "outlinewidth": 0,
              "ticks": ""
             }
            },
            "type": "scatterpolargl"
           }
          ],
          "scatterternary": [
           {
            "marker": {
             "colorbar": {
              "outlinewidth": 0,
              "ticks": ""
             }
            },
            "type": "scatterternary"
           }
          ],
          "surface": [
           {
            "colorbar": {
             "outlinewidth": 0,
             "ticks": ""
            },
            "colorscale": [
             [
              0,
              "#0d0887"
             ],
             [
              0.1111111111111111,
              "#46039f"
             ],
             [
              0.2222222222222222,
              "#7201a8"
             ],
             [
              0.3333333333333333,
              "#9c179e"
             ],
             [
              0.4444444444444444,
              "#bd3786"
             ],
             [
              0.5555555555555556,
              "#d8576b"
             ],
             [
              0.6666666666666666,
              "#ed7953"
             ],
             [
              0.7777777777777778,
              "#fb9f3a"
             ],
             [
              0.8888888888888888,
              "#fdca26"
             ],
             [
              1,
              "#f0f921"
             ]
            ],
            "type": "surface"
           }
          ],
          "table": [
           {
            "cells": {
             "fill": {
              "color": "#EBF0F8"
             },
             "line": {
              "color": "white"
             }
            },
            "header": {
             "fill": {
              "color": "#C8D4E3"
             },
             "line": {
              "color": "white"
             }
            },
            "type": "table"
           }
          ]
         },
         "layout": {
          "annotationdefaults": {
           "arrowcolor": "#2a3f5f",
           "arrowhead": 0,
           "arrowwidth": 1
          },
          "autotypenumbers": "strict",
          "coloraxis": {
           "colorbar": {
            "outlinewidth": 0,
            "ticks": ""
           }
          },
          "colorscale": {
           "diverging": [
            [
             0,
             "#8e0152"
            ],
            [
             0.1,
             "#c51b7d"
            ],
            [
             0.2,
             "#de77ae"
            ],
            [
             0.3,
             "#f1b6da"
            ],
            [
             0.4,
             "#fde0ef"
            ],
            [
             0.5,
             "#f7f7f7"
            ],
            [
             0.6,
             "#e6f5d0"
            ],
            [
             0.7,
             "#b8e186"
            ],
            [
             0.8,
             "#7fbc41"
            ],
            [
             0.9,
             "#4d9221"
            ],
            [
             1,
             "#276419"
            ]
           ],
           "sequential": [
            [
             0,
             "#0d0887"
            ],
            [
             0.1111111111111111,
             "#46039f"
            ],
            [
             0.2222222222222222,
             "#7201a8"
            ],
            [
             0.3333333333333333,
             "#9c179e"
            ],
            [
             0.4444444444444444,
             "#bd3786"
            ],
            [
             0.5555555555555556,
             "#d8576b"
            ],
            [
             0.6666666666666666,
             "#ed7953"
            ],
            [
             0.7777777777777778,
             "#fb9f3a"
            ],
            [
             0.8888888888888888,
             "#fdca26"
            ],
            [
             1,
             "#f0f921"
            ]
           ],
           "sequentialminus": [
            [
             0,
             "#0d0887"
            ],
            [
             0.1111111111111111,
             "#46039f"
            ],
            [
             0.2222222222222222,
             "#7201a8"
            ],
            [
             0.3333333333333333,
             "#9c179e"
            ],
            [
             0.4444444444444444,
             "#bd3786"
            ],
            [
             0.5555555555555556,
             "#d8576b"
            ],
            [
             0.6666666666666666,
             "#ed7953"
            ],
            [
             0.7777777777777778,
             "#fb9f3a"
            ],
            [
             0.8888888888888888,
             "#fdca26"
            ],
            [
             1,
             "#f0f921"
            ]
           ]
          },
          "colorway": [
           "#636efa",
           "#EF553B",
           "#00cc96",
           "#ab63fa",
           "#FFA15A",
           "#19d3f3",
           "#FF6692",
           "#B6E880",
           "#FF97FF",
           "#FECB52"
          ],
          "font": {
           "color": "#2a3f5f"
          },
          "geo": {
           "bgcolor": "white",
           "lakecolor": "white",
           "landcolor": "#E5ECF6",
           "showlakes": true,
           "showland": true,
           "subunitcolor": "white"
          },
          "hoverlabel": {
           "align": "left"
          },
          "hovermode": "closest",
          "mapbox": {
           "style": "light"
          },
          "paper_bgcolor": "white",
          "plot_bgcolor": "#E5ECF6",
          "polar": {
           "angularaxis": {
            "gridcolor": "white",
            "linecolor": "white",
            "ticks": ""
           },
           "bgcolor": "#E5ECF6",
           "radialaxis": {
            "gridcolor": "white",
            "linecolor": "white",
            "ticks": ""
           }
          },
          "scene": {
           "xaxis": {
            "backgroundcolor": "#E5ECF6",
            "gridcolor": "white",
            "gridwidth": 2,
            "linecolor": "white",
            "showbackground": true,
            "ticks": "",
            "zerolinecolor": "white"
           },
           "yaxis": {
            "backgroundcolor": "#E5ECF6",
            "gridcolor": "white",
            "gridwidth": 2,
            "linecolor": "white",
            "showbackground": true,
            "ticks": "",
            "zerolinecolor": "white"
           },
           "zaxis": {
            "backgroundcolor": "#E5ECF6",
            "gridcolor": "white",
            "gridwidth": 2,
            "linecolor": "white",
            "showbackground": true,
            "ticks": "",
            "zerolinecolor": "white"
           }
          },
          "shapedefaults": {
           "line": {
            "color": "#2a3f5f"
           }
          },
          "ternary": {
           "aaxis": {
            "gridcolor": "white",
            "linecolor": "white",
            "ticks": ""
           },
           "baxis": {
            "gridcolor": "white",
            "linecolor": "white",
            "ticks": ""
           },
           "bgcolor": "#E5ECF6",
           "caxis": {
            "gridcolor": "white",
            "linecolor": "white",
            "ticks": ""
           }
          },
          "title": {
           "x": 0.05
          },
          "xaxis": {
           "automargin": true,
           "gridcolor": "white",
           "linecolor": "white",
           "ticks": "",
           "title": {
            "standoff": 15
           },
           "zerolinecolor": "white",
           "zerolinewidth": 2
          },
          "yaxis": {
           "automargin": true,
           "gridcolor": "white",
           "linecolor": "white",
           "ticks": "",
           "title": {
            "standoff": 15
           },
           "zerolinecolor": "white",
           "zerolinewidth": 2
          }
         }
        },
        "title": {
         "text": "Count of Reviews by U.S. Users per Beer Style"
        },
        "updatemenus": [
         {
          "buttons": [
           {
            "args": [
             null,
             {
              "frame": {
               "duration": 500,
               "redraw": true
              },
              "fromcurrent": true,
              "mode": "immediate",
              "transition": {
               "duration": 500,
               "easing": "linear"
              }
             }
            ],
            "label": "&#9654;",
            "method": "animate"
           },
           {
            "args": [
             [
              null
             ],
             {
              "frame": {
               "duration": 0,
               "redraw": true
              },
              "fromcurrent": true,
              "mode": "immediate",
              "transition": {
               "duration": 0,
               "easing": "linear"
              }
             }
            ],
            "label": "&#9724;",
            "method": "animate"
           }
          ],
          "direction": "left",
          "pad": {
           "r": 10,
           "t": 70
          },
          "showactive": false,
          "type": "buttons",
          "x": 0.1,
          "xanchor": "right",
          "y": 0,
          "yanchor": "top"
         }
        ],
        "xaxis": {
         "anchor": "y",
         "domain": [
          0,
          1
         ],
         "title": {
          "text": "Beer Style"
         }
        },
        "yaxis": {
         "anchor": "x",
         "domain": [
          0,
          1
         ],
         "range": [
          0,
          54869
         ],
         "title": {
          "text": "count"
         }
        }
       }
      }
     },
     "metadata": {},
     "output_type": "display_data"
    }
   ],
   "source": [
    "fig = plotting_utils.plot_review_count(total_reviews, year_list)\n",
    "fig.write_html('count_total_reviews.html')"
   ]
  },
  {
   "cell_type": "code",
   "execution_count": 10,
   "metadata": {},
   "outputs": [],
   "source": [
    "# Reformat data for plotting\n",
    "favourite_beers = favourite_beers_processing.FavouriteBeers(results)\n",
    "data = favourite_beers.favbeer_process_for_mapplotting()\n",
    "data_plot = plot_state_map.transform_state_abbreviations(data)\n",
    "data_plot = data_plot.reset_index()\n",
    "\n",
    "winners_drop = winners[winners.index != 'District Of Columbia']\n",
    "winners_plot = plot_state_map.transform_state_abbreviations(winners_drop)\n",
    "winners_plot.sort_values(by='year', ascending=True, inplace=True)\n",
    "winners_plot = winners_plot.reset_index()"
   ]
  },
  {
   "cell_type": "code",
   "execution_count": 12,
   "metadata": {},
   "outputs": [
    {
     "data": {
      "application/vnd.plotly.v1+json": {
       "config": {
        "plotlyServerURL": "https://plot.ly"
       },
       "data": [
        {
         "name": "Alabama",
         "type": "bar",
         "visible": true,
         "x": [
          "Stout",
          "IPA"
         ],
         "y": [
          11,
          2
         ]
        },
        {
         "name": "Alaska",
         "type": "bar",
         "visible": false,
         "x": [
          "Stout",
          "Porter",
          "IPA",
          "Red/Amber Ale",
          "Pilsner",
          "Other Ale"
         ],
         "y": [
          5,
          4,
          1,
          1,
          1,
          1
         ]
        },
        {
         "name": "Arizona",
         "type": "bar",
         "visible": false,
         "x": [
          "Stout",
          "IPA",
          "Other Ale"
         ],
         "y": [
          11,
          1,
          1
         ]
        },
        {
         "name": "Arkansas",
         "type": "bar",
         "visible": false,
         "x": [
          "Stout",
          "IPA",
          "Pilsner",
          "Porter"
         ],
         "y": [
          6,
          4,
          2,
          1
         ]
        },
        {
         "name": "California",
         "type": "bar",
         "visible": false,
         "x": [
          "Stout",
          "IPA"
         ],
         "y": [
          12,
          1
         ]
        },
        {
         "name": "Colorado",
         "type": "bar",
         "visible": false,
         "x": [
          "Stout",
          "IPA"
         ],
         "y": [
          10,
          3
         ]
        },
        {
         "name": "Connecticut",
         "type": "bar",
         "visible": false,
         "x": [
          "Stout"
         ],
         "y": [
          13
         ]
        },
        {
         "name": "Delaware",
         "type": "bar",
         "visible": false,
         "x": [
          "Stout",
          "Porter",
          "IPA"
         ],
         "y": [
          9,
          3,
          1
         ]
        },
        {
         "name": "Florida",
         "type": "bar",
         "visible": false,
         "x": [
          "Stout",
          "IPA"
         ],
         "y": [
          7,
          6
         ]
        },
        {
         "name": "Georgia",
         "type": "bar",
         "visible": false,
         "x": [
          "Stout",
          "IPA"
         ],
         "y": [
          12,
          1
         ]
        },
        {
         "name": "Hawaii",
         "type": "bar",
         "visible": false,
         "x": [
          "Stout",
          "Porter",
          "IPA"
         ],
         "y": [
          10,
          2,
          1
         ]
        },
        {
         "name": "Idaho",
         "type": "bar",
         "visible": false,
         "x": [
          "Stout",
          "IPA",
          "Pilsner"
         ],
         "y": [
          9,
          3,
          1
         ]
        },
        {
         "name": "Illinois",
         "type": "bar",
         "visible": false,
         "x": [
          "Stout",
          "IPA"
         ],
         "y": [
          12,
          1
         ]
        },
        {
         "name": "Indiana",
         "type": "bar",
         "visible": false,
         "x": [
          "Stout",
          "Porter",
          "IPA"
         ],
         "y": [
          11,
          1,
          1
         ]
        },
        {
         "name": "Iowa",
         "type": "bar",
         "visible": false,
         "x": [
          "Stout",
          "IPA",
          "Porter"
         ],
         "y": [
          8,
          4,
          1
         ]
        },
        {
         "name": "Kansas",
         "type": "bar",
         "visible": false,
         "x": [
          "Porter",
          "IPA",
          "Stout"
         ],
         "y": [
          5,
          5,
          3
         ]
        },
        {
         "name": "Kentucky",
         "type": "bar",
         "visible": false,
         "x": [
          "Stout"
         ],
         "y": [
          13
         ]
        },
        {
         "name": "Louisiana",
         "type": "bar",
         "visible": false,
         "x": [
          "Stout",
          "IPA"
         ],
         "y": [
          8,
          5
         ]
        },
        {
         "name": "Maine",
         "type": "bar",
         "visible": false,
         "x": [
          "Stout",
          "IPA"
         ],
         "y": [
          10,
          3
         ]
        },
        {
         "name": "Maryland",
         "type": "bar",
         "visible": false,
         "x": [
          "Stout",
          "IPA",
          "Porter"
         ],
         "y": [
          10,
          2,
          1
         ]
        },
        {
         "name": "Massachusetts",
         "type": "bar",
         "visible": false,
         "x": [
          "Stout"
         ],
         "y": [
          13
         ]
        },
        {
         "name": "Michigan",
         "type": "bar",
         "visible": false,
         "x": [
          "Stout",
          "IPA",
          "Porter"
         ],
         "y": [
          10,
          2,
          1
         ]
        },
        {
         "name": "Minnesota",
         "type": "bar",
         "visible": false,
         "x": [
          "Stout",
          "IPA"
         ],
         "y": [
          10,
          3
         ]
        },
        {
         "name": "Mississippi",
         "type": "bar",
         "visible": false,
         "x": [
          "Stout",
          "Porter",
          "IPA"
         ],
         "y": [
          6,
          4,
          3
         ]
        },
        {
         "name": "Missouri",
         "type": "bar",
         "visible": false,
         "x": [
          "Stout",
          "IPA"
         ],
         "y": [
          9,
          4
         ]
        },
        {
         "name": "Montana",
         "type": "bar",
         "visible": false,
         "x": [
          "Stout",
          "Porter",
          "IPA",
          "Red/Amber Ale"
         ],
         "y": [
          6,
          4,
          2,
          1
         ]
        },
        {
         "name": "Nebraska",
         "type": "bar",
         "visible": false,
         "x": [
          "Stout",
          "IPA"
         ],
         "y": [
          7,
          6
         ]
        },
        {
         "name": "Nevada",
         "type": "bar",
         "visible": false,
         "x": [
          "Stout",
          "Porter",
          "IPA"
         ],
         "y": [
          9,
          2,
          2
         ]
        },
        {
         "name": "New Hampshire",
         "type": "bar",
         "visible": false,
         "x": [
          "Stout",
          "IPA"
         ],
         "y": [
          12,
          1
         ]
        },
        {
         "name": "New Jersey",
         "type": "bar",
         "visible": false,
         "x": [
          "Stout",
          "Porter"
         ],
         "y": [
          12,
          1
         ]
        },
        {
         "name": "New Mexico",
         "type": "bar",
         "visible": false,
         "x": [
          "Stout",
          "IPA"
         ],
         "y": [
          8,
          5
         ]
        },
        {
         "name": "New York",
         "type": "bar",
         "visible": false,
         "x": [
          "Stout",
          "IPA"
         ],
         "y": [
          11,
          2
         ]
        },
        {
         "name": "North Carolina",
         "type": "bar",
         "visible": false,
         "x": [
          "Stout"
         ],
         "y": [
          13
         ]
        },
        {
         "name": "North Dakota",
         "type": "bar",
         "visible": false,
         "x": [
          "Porter",
          "IPA",
          "Stout",
          "Other Ale",
          "Pale Ale",
          "Red/Amber Ale"
         ],
         "y": [
          4,
          3,
          3,
          1,
          1,
          1
         ]
        },
        {
         "name": "Ohio",
         "type": "bar",
         "visible": false,
         "x": [
          "Stout"
         ],
         "y": [
          13
         ]
        },
        {
         "name": "Oklahoma",
         "type": "bar",
         "visible": false,
         "x": [
          "Stout",
          "IPA",
          "Porter"
         ],
         "y": [
          9,
          3,
          1
         ]
        },
        {
         "name": "Oregon",
         "type": "bar",
         "visible": false,
         "x": [
          "Stout"
         ],
         "y": [
          13
         ]
        },
        {
         "name": "Pennsylvania",
         "type": "bar",
         "visible": false,
         "x": [
          "Stout",
          "IPA"
         ],
         "y": [
          12,
          1
         ]
        },
        {
         "name": "Rhode Island",
         "type": "bar",
         "visible": false,
         "x": [
          "Stout",
          "IPA"
         ],
         "y": [
          9,
          4
         ]
        },
        {
         "name": "South Carolina",
         "type": "bar",
         "visible": false,
         "x": [
          "Stout",
          "IPA"
         ],
         "y": [
          11,
          2
         ]
        },
        {
         "name": "South Dakota",
         "type": "bar",
         "visible": false,
         "x": [
          "Stout",
          "IPA",
          "Other Ale",
          "No Information",
          "Porter"
         ],
         "y": [
          8,
          2,
          1,
          1,
          1
         ]
        },
        {
         "name": "Tennessee",
         "type": "bar",
         "visible": false,
         "x": [
          "Stout",
          "IPA"
         ],
         "y": [
          11,
          2
         ]
        },
        {
         "name": "Texas",
         "type": "bar",
         "visible": false,
         "x": [
          "Stout",
          "IPA",
          "Porter"
         ],
         "y": [
          11,
          1,
          1
         ]
        },
        {
         "name": "Utah",
         "type": "bar",
         "visible": false,
         "x": [
          "Stout",
          "IPA",
          "Porter",
          "No Information",
          "Pale Ale",
          "Other Ale",
          "Red/Amber Ale"
         ],
         "y": [
          4,
          3,
          2,
          1,
          1,
          1,
          1
         ]
        },
        {
         "name": "Vermont",
         "type": "bar",
         "visible": false,
         "x": [
          "Stout",
          "IPA",
          "Porter",
          "Pilsner"
         ],
         "y": [
          7,
          3,
          2,
          1
         ]
        },
        {
         "name": "Virginia",
         "type": "bar",
         "visible": false,
         "x": [
          "Stout",
          "IPA"
         ],
         "y": [
          12,
          1
         ]
        },
        {
         "name": "Washington",
         "type": "bar",
         "visible": false,
         "x": [
          "Stout",
          "IPA"
         ],
         "y": [
          12,
          1
         ]
        },
        {
         "name": "West Virginia",
         "type": "bar",
         "visible": false,
         "x": [
          "Stout",
          "IPA",
          "Porter"
         ],
         "y": [
          7,
          4,
          2
         ]
        },
        {
         "name": "Wisconsin",
         "type": "bar",
         "visible": false,
         "x": [
          "Stout",
          "IPA"
         ],
         "y": [
          10,
          3
         ]
        },
        {
         "name": "Wyoming",
         "type": "bar",
         "visible": false,
         "x": [
          "Stout",
          "IPA",
          "Porter",
          "Pilsner"
         ],
         "y": [
          8,
          3,
          1,
          1
         ]
        }
       ],
       "layout": {
        "template": {
         "data": {
          "bar": [
           {
            "error_x": {
             "color": "#2a3f5f"
            },
            "error_y": {
             "color": "#2a3f5f"
            },
            "marker": {
             "line": {
              "color": "#E5ECF6",
              "width": 0.5
             },
             "pattern": {
              "fillmode": "overlay",
              "size": 10,
              "solidity": 0.2
             }
            },
            "type": "bar"
           }
          ],
          "barpolar": [
           {
            "marker": {
             "line": {
              "color": "#E5ECF6",
              "width": 0.5
             },
             "pattern": {
              "fillmode": "overlay",
              "size": 10,
              "solidity": 0.2
             }
            },
            "type": "barpolar"
           }
          ],
          "carpet": [
           {
            "aaxis": {
             "endlinecolor": "#2a3f5f",
             "gridcolor": "white",
             "linecolor": "white",
             "minorgridcolor": "white",
             "startlinecolor": "#2a3f5f"
            },
            "baxis": {
             "endlinecolor": "#2a3f5f",
             "gridcolor": "white",
             "linecolor": "white",
             "minorgridcolor": "white",
             "startlinecolor": "#2a3f5f"
            },
            "type": "carpet"
           }
          ],
          "choropleth": [
           {
            "colorbar": {
             "outlinewidth": 0,
             "ticks": ""
            },
            "type": "choropleth"
           }
          ],
          "contour": [
           {
            "colorbar": {
             "outlinewidth": 0,
             "ticks": ""
            },
            "colorscale": [
             [
              0,
              "#0d0887"
             ],
             [
              0.1111111111111111,
              "#46039f"
             ],
             [
              0.2222222222222222,
              "#7201a8"
             ],
             [
              0.3333333333333333,
              "#9c179e"
             ],
             [
              0.4444444444444444,
              "#bd3786"
             ],
             [
              0.5555555555555556,
              "#d8576b"
             ],
             [
              0.6666666666666666,
              "#ed7953"
             ],
             [
              0.7777777777777778,
              "#fb9f3a"
             ],
             [
              0.8888888888888888,
              "#fdca26"
             ],
             [
              1,
              "#f0f921"
             ]
            ],
            "type": "contour"
           }
          ],
          "contourcarpet": [
           {
            "colorbar": {
             "outlinewidth": 0,
             "ticks": ""
            },
            "type": "contourcarpet"
           }
          ],
          "heatmap": [
           {
            "colorbar": {
             "outlinewidth": 0,
             "ticks": ""
            },
            "colorscale": [
             [
              0,
              "#0d0887"
             ],
             [
              0.1111111111111111,
              "#46039f"
             ],
             [
              0.2222222222222222,
              "#7201a8"
             ],
             [
              0.3333333333333333,
              "#9c179e"
             ],
             [
              0.4444444444444444,
              "#bd3786"
             ],
             [
              0.5555555555555556,
              "#d8576b"
             ],
             [
              0.6666666666666666,
              "#ed7953"
             ],
             [
              0.7777777777777778,
              "#fb9f3a"
             ],
             [
              0.8888888888888888,
              "#fdca26"
             ],
             [
              1,
              "#f0f921"
             ]
            ],
            "type": "heatmap"
           }
          ],
          "heatmapgl": [
           {
            "colorbar": {
             "outlinewidth": 0,
             "ticks": ""
            },
            "colorscale": [
             [
              0,
              "#0d0887"
             ],
             [
              0.1111111111111111,
              "#46039f"
             ],
             [
              0.2222222222222222,
              "#7201a8"
             ],
             [
              0.3333333333333333,
              "#9c179e"
             ],
             [
              0.4444444444444444,
              "#bd3786"
             ],
             [
              0.5555555555555556,
              "#d8576b"
             ],
             [
              0.6666666666666666,
              "#ed7953"
             ],
             [
              0.7777777777777778,
              "#fb9f3a"
             ],
             [
              0.8888888888888888,
              "#fdca26"
             ],
             [
              1,
              "#f0f921"
             ]
            ],
            "type": "heatmapgl"
           }
          ],
          "histogram": [
           {
            "marker": {
             "pattern": {
              "fillmode": "overlay",
              "size": 10,
              "solidity": 0.2
             }
            },
            "type": "histogram"
           }
          ],
          "histogram2d": [
           {
            "colorbar": {
             "outlinewidth": 0,
             "ticks": ""
            },
            "colorscale": [
             [
              0,
              "#0d0887"
             ],
             [
              0.1111111111111111,
              "#46039f"
             ],
             [
              0.2222222222222222,
              "#7201a8"
             ],
             [
              0.3333333333333333,
              "#9c179e"
             ],
             [
              0.4444444444444444,
              "#bd3786"
             ],
             [
              0.5555555555555556,
              "#d8576b"
             ],
             [
              0.6666666666666666,
              "#ed7953"
             ],
             [
              0.7777777777777778,
              "#fb9f3a"
             ],
             [
              0.8888888888888888,
              "#fdca26"
             ],
             [
              1,
              "#f0f921"
             ]
            ],
            "type": "histogram2d"
           }
          ],
          "histogram2dcontour": [
           {
            "colorbar": {
             "outlinewidth": 0,
             "ticks": ""
            },
            "colorscale": [
             [
              0,
              "#0d0887"
             ],
             [
              0.1111111111111111,
              "#46039f"
             ],
             [
              0.2222222222222222,
              "#7201a8"
             ],
             [
              0.3333333333333333,
              "#9c179e"
             ],
             [
              0.4444444444444444,
              "#bd3786"
             ],
             [
              0.5555555555555556,
              "#d8576b"
             ],
             [
              0.6666666666666666,
              "#ed7953"
             ],
             [
              0.7777777777777778,
              "#fb9f3a"
             ],
             [
              0.8888888888888888,
              "#fdca26"
             ],
             [
              1,
              "#f0f921"
             ]
            ],
            "type": "histogram2dcontour"
           }
          ],
          "mesh3d": [
           {
            "colorbar": {
             "outlinewidth": 0,
             "ticks": ""
            },
            "type": "mesh3d"
           }
          ],
          "parcoords": [
           {
            "line": {
             "colorbar": {
              "outlinewidth": 0,
              "ticks": ""
             }
            },
            "type": "parcoords"
           }
          ],
          "pie": [
           {
            "automargin": true,
            "type": "pie"
           }
          ],
          "scatter": [
           {
            "fillpattern": {
             "fillmode": "overlay",
             "size": 10,
             "solidity": 0.2
            },
            "type": "scatter"
           }
          ],
          "scatter3d": [
           {
            "line": {
             "colorbar": {
              "outlinewidth": 0,
              "ticks": ""
             }
            },
            "marker": {
             "colorbar": {
              "outlinewidth": 0,
              "ticks": ""
             }
            },
            "type": "scatter3d"
           }
          ],
          "scattercarpet": [
           {
            "marker": {
             "colorbar": {
              "outlinewidth": 0,
              "ticks": ""
             }
            },
            "type": "scattercarpet"
           }
          ],
          "scattergeo": [
           {
            "marker": {
             "colorbar": {
              "outlinewidth": 0,
              "ticks": ""
             }
            },
            "type": "scattergeo"
           }
          ],
          "scattergl": [
           {
            "marker": {
             "colorbar": {
              "outlinewidth": 0,
              "ticks": ""
             }
            },
            "type": "scattergl"
           }
          ],
          "scattermapbox": [
           {
            "marker": {
             "colorbar": {
              "outlinewidth": 0,
              "ticks": ""
             }
            },
            "type": "scattermapbox"
           }
          ],
          "scatterpolar": [
           {
            "marker": {
             "colorbar": {
              "outlinewidth": 0,
              "ticks": ""
             }
            },
            "type": "scatterpolar"
           }
          ],
          "scatterpolargl": [
           {
            "marker": {
             "colorbar": {
              "outlinewidth": 0,
              "ticks": ""
             }
            },
            "type": "scatterpolargl"
           }
          ],
          "scatterternary": [
           {
            "marker": {
             "colorbar": {
              "outlinewidth": 0,
              "ticks": ""
             }
            },
            "type": "scatterternary"
           }
          ],
          "surface": [
           {
            "colorbar": {
             "outlinewidth": 0,
             "ticks": ""
            },
            "colorscale": [
             [
              0,
              "#0d0887"
             ],
             [
              0.1111111111111111,
              "#46039f"
             ],
             [
              0.2222222222222222,
              "#7201a8"
             ],
             [
              0.3333333333333333,
              "#9c179e"
             ],
             [
              0.4444444444444444,
              "#bd3786"
             ],
             [
              0.5555555555555556,
              "#d8576b"
             ],
             [
              0.6666666666666666,
              "#ed7953"
             ],
             [
              0.7777777777777778,
              "#fb9f3a"
             ],
             [
              0.8888888888888888,
              "#fdca26"
             ],
             [
              1,
              "#f0f921"
             ]
            ],
            "type": "surface"
           }
          ],
          "table": [
           {
            "cells": {
             "fill": {
              "color": "#EBF0F8"
             },
             "line": {
              "color": "white"
             }
            },
            "header": {
             "fill": {
              "color": "#C8D4E3"
             },
             "line": {
              "color": "white"
             }
            },
            "type": "table"
           }
          ]
         },
         "layout": {
          "annotationdefaults": {
           "arrowcolor": "#2a3f5f",
           "arrowhead": 0,
           "arrowwidth": 1
          },
          "autotypenumbers": "strict",
          "coloraxis": {
           "colorbar": {
            "outlinewidth": 0,
            "ticks": ""
           }
          },
          "colorscale": {
           "diverging": [
            [
             0,
             "#8e0152"
            ],
            [
             0.1,
             "#c51b7d"
            ],
            [
             0.2,
             "#de77ae"
            ],
            [
             0.3,
             "#f1b6da"
            ],
            [
             0.4,
             "#fde0ef"
            ],
            [
             0.5,
             "#f7f7f7"
            ],
            [
             0.6,
             "#e6f5d0"
            ],
            [
             0.7,
             "#b8e186"
            ],
            [
             0.8,
             "#7fbc41"
            ],
            [
             0.9,
             "#4d9221"
            ],
            [
             1,
             "#276419"
            ]
           ],
           "sequential": [
            [
             0,
             "#0d0887"
            ],
            [
             0.1111111111111111,
             "#46039f"
            ],
            [
             0.2222222222222222,
             "#7201a8"
            ],
            [
             0.3333333333333333,
             "#9c179e"
            ],
            [
             0.4444444444444444,
             "#bd3786"
            ],
            [
             0.5555555555555556,
             "#d8576b"
            ],
            [
             0.6666666666666666,
             "#ed7953"
            ],
            [
             0.7777777777777778,
             "#fb9f3a"
            ],
            [
             0.8888888888888888,
             "#fdca26"
            ],
            [
             1,
             "#f0f921"
            ]
           ],
           "sequentialminus": [
            [
             0,
             "#0d0887"
            ],
            [
             0.1111111111111111,
             "#46039f"
            ],
            [
             0.2222222222222222,
             "#7201a8"
            ],
            [
             0.3333333333333333,
             "#9c179e"
            ],
            [
             0.4444444444444444,
             "#bd3786"
            ],
            [
             0.5555555555555556,
             "#d8576b"
            ],
            [
             0.6666666666666666,
             "#ed7953"
            ],
            [
             0.7777777777777778,
             "#fb9f3a"
            ],
            [
             0.8888888888888888,
             "#fdca26"
            ],
            [
             1,
             "#f0f921"
            ]
           ]
          },
          "colorway": [
           "#636efa",
           "#EF553B",
           "#00cc96",
           "#ab63fa",
           "#FFA15A",
           "#19d3f3",
           "#FF6692",
           "#B6E880",
           "#FF97FF",
           "#FECB52"
          ],
          "font": {
           "color": "#2a3f5f"
          },
          "geo": {
           "bgcolor": "white",
           "lakecolor": "white",
           "landcolor": "#E5ECF6",
           "showlakes": true,
           "showland": true,
           "subunitcolor": "white"
          },
          "hoverlabel": {
           "align": "left"
          },
          "hovermode": "closest",
          "mapbox": {
           "style": "light"
          },
          "paper_bgcolor": "white",
          "plot_bgcolor": "#E5ECF6",
          "polar": {
           "angularaxis": {
            "gridcolor": "white",
            "linecolor": "white",
            "ticks": ""
           },
           "bgcolor": "#E5ECF6",
           "radialaxis": {
            "gridcolor": "white",
            "linecolor": "white",
            "ticks": ""
           }
          },
          "scene": {
           "xaxis": {
            "backgroundcolor": "#E5ECF6",
            "gridcolor": "white",
            "gridwidth": 2,
            "linecolor": "white",
            "showbackground": true,
            "ticks": "",
            "zerolinecolor": "white"
           },
           "yaxis": {
            "backgroundcolor": "#E5ECF6",
            "gridcolor": "white",
            "gridwidth": 2,
            "linecolor": "white",
            "showbackground": true,
            "ticks": "",
            "zerolinecolor": "white"
           },
           "zaxis": {
            "backgroundcolor": "#E5ECF6",
            "gridcolor": "white",
            "gridwidth": 2,
            "linecolor": "white",
            "showbackground": true,
            "ticks": "",
            "zerolinecolor": "white"
           }
          },
          "shapedefaults": {
           "line": {
            "color": "#2a3f5f"
           }
          },
          "ternary": {
           "aaxis": {
            "gridcolor": "white",
            "linecolor": "white",
            "ticks": ""
           },
           "baxis": {
            "gridcolor": "white",
            "linecolor": "white",
            "ticks": ""
           },
           "bgcolor": "#E5ECF6",
           "caxis": {
            "gridcolor": "white",
            "linecolor": "white",
            "ticks": ""
           }
          },
          "title": {
           "x": 0.05
          },
          "xaxis": {
           "automargin": true,
           "gridcolor": "white",
           "linecolor": "white",
           "ticks": "",
           "title": {
            "standoff": 15
           },
           "zerolinecolor": "white",
           "zerolinewidth": 2
          },
          "yaxis": {
           "automargin": true,
           "gridcolor": "white",
           "linecolor": "white",
           "ticks": "",
           "title": {
            "standoff": 15
           },
           "zerolinecolor": "white",
           "zerolinewidth": 2
          }
         }
        },
        "title": {
         "text": "Beer Style Counts by State"
        },
        "updatemenus": [
         {
          "buttons": [
           {
            "args": [
             {
              "visible": [
               true,
               false,
               false,
               false,
               false,
               false,
               false,
               false,
               false,
               false,
               false,
               false,
               false,
               false,
               false,
               false,
               false,
               false,
               false,
               false,
               false,
               false,
               false,
               false,
               false,
               false,
               false,
               false,
               false,
               false,
               false,
               false,
               false,
               false,
               false,
               false,
               false,
               false,
               false,
               false,
               false,
               false,
               false,
               false,
               false,
               false,
               false,
               false,
               false,
               false
              ]
             },
             {
              "title": "Beer Style Counts for Alabama"
             }
            ],
            "label": "Alabama",
            "method": "update"
           },
           {
            "args": [
             {
              "visible": [
               false,
               true,
               false,
               false,
               false,
               false,
               false,
               false,
               false,
               false,
               false,
               false,
               false,
               false,
               false,
               false,
               false,
               false,
               false,
               false,
               false,
               false,
               false,
               false,
               false,
               false,
               false,
               false,
               false,
               false,
               false,
               false,
               false,
               false,
               false,
               false,
               false,
               false,
               false,
               false,
               false,
               false,
               false,
               false,
               false,
               false,
               false,
               false,
               false,
               false
              ]
             },
             {
              "title": "Beer Style Counts for Alaska"
             }
            ],
            "label": "Alaska",
            "method": "update"
           },
           {
            "args": [
             {
              "visible": [
               false,
               false,
               true,
               false,
               false,
               false,
               false,
               false,
               false,
               false,
               false,
               false,
               false,
               false,
               false,
               false,
               false,
               false,
               false,
               false,
               false,
               false,
               false,
               false,
               false,
               false,
               false,
               false,
               false,
               false,
               false,
               false,
               false,
               false,
               false,
               false,
               false,
               false,
               false,
               false,
               false,
               false,
               false,
               false,
               false,
               false,
               false,
               false,
               false,
               false
              ]
             },
             {
              "title": "Beer Style Counts for Arizona"
             }
            ],
            "label": "Arizona",
            "method": "update"
           },
           {
            "args": [
             {
              "visible": [
               false,
               false,
               false,
               true,
               false,
               false,
               false,
               false,
               false,
               false,
               false,
               false,
               false,
               false,
               false,
               false,
               false,
               false,
               false,
               false,
               false,
               false,
               false,
               false,
               false,
               false,
               false,
               false,
               false,
               false,
               false,
               false,
               false,
               false,
               false,
               false,
               false,
               false,
               false,
               false,
               false,
               false,
               false,
               false,
               false,
               false,
               false,
               false,
               false,
               false
              ]
             },
             {
              "title": "Beer Style Counts for Arkansas"
             }
            ],
            "label": "Arkansas",
            "method": "update"
           },
           {
            "args": [
             {
              "visible": [
               false,
               false,
               false,
               false,
               true,
               false,
               false,
               false,
               false,
               false,
               false,
               false,
               false,
               false,
               false,
               false,
               false,
               false,
               false,
               false,
               false,
               false,
               false,
               false,
               false,
               false,
               false,
               false,
               false,
               false,
               false,
               false,
               false,
               false,
               false,
               false,
               false,
               false,
               false,
               false,
               false,
               false,
               false,
               false,
               false,
               false,
               false,
               false,
               false,
               false
              ]
             },
             {
              "title": "Beer Style Counts for California"
             }
            ],
            "label": "California",
            "method": "update"
           },
           {
            "args": [
             {
              "visible": [
               false,
               false,
               false,
               false,
               false,
               true,
               false,
               false,
               false,
               false,
               false,
               false,
               false,
               false,
               false,
               false,
               false,
               false,
               false,
               false,
               false,
               false,
               false,
               false,
               false,
               false,
               false,
               false,
               false,
               false,
               false,
               false,
               false,
               false,
               false,
               false,
               false,
               false,
               false,
               false,
               false,
               false,
               false,
               false,
               false,
               false,
               false,
               false,
               false,
               false
              ]
             },
             {
              "title": "Beer Style Counts for Colorado"
             }
            ],
            "label": "Colorado",
            "method": "update"
           },
           {
            "args": [
             {
              "visible": [
               false,
               false,
               false,
               false,
               false,
               false,
               true,
               false,
               false,
               false,
               false,
               false,
               false,
               false,
               false,
               false,
               false,
               false,
               false,
               false,
               false,
               false,
               false,
               false,
               false,
               false,
               false,
               false,
               false,
               false,
               false,
               false,
               false,
               false,
               false,
               false,
               false,
               false,
               false,
               false,
               false,
               false,
               false,
               false,
               false,
               false,
               false,
               false,
               false,
               false
              ]
             },
             {
              "title": "Beer Style Counts for Connecticut"
             }
            ],
            "label": "Connecticut",
            "method": "update"
           },
           {
            "args": [
             {
              "visible": [
               false,
               false,
               false,
               false,
               false,
               false,
               false,
               true,
               false,
               false,
               false,
               false,
               false,
               false,
               false,
               false,
               false,
               false,
               false,
               false,
               false,
               false,
               false,
               false,
               false,
               false,
               false,
               false,
               false,
               false,
               false,
               false,
               false,
               false,
               false,
               false,
               false,
               false,
               false,
               false,
               false,
               false,
               false,
               false,
               false,
               false,
               false,
               false,
               false,
               false
              ]
             },
             {
              "title": "Beer Style Counts for Delaware"
             }
            ],
            "label": "Delaware",
            "method": "update"
           },
           {
            "args": [
             {
              "visible": [
               false,
               false,
               false,
               false,
               false,
               false,
               false,
               false,
               true,
               false,
               false,
               false,
               false,
               false,
               false,
               false,
               false,
               false,
               false,
               false,
               false,
               false,
               false,
               false,
               false,
               false,
               false,
               false,
               false,
               false,
               false,
               false,
               false,
               false,
               false,
               false,
               false,
               false,
               false,
               false,
               false,
               false,
               false,
               false,
               false,
               false,
               false,
               false,
               false,
               false
              ]
             },
             {
              "title": "Beer Style Counts for Florida"
             }
            ],
            "label": "Florida",
            "method": "update"
           },
           {
            "args": [
             {
              "visible": [
               false,
               false,
               false,
               false,
               false,
               false,
               false,
               false,
               false,
               true,
               false,
               false,
               false,
               false,
               false,
               false,
               false,
               false,
               false,
               false,
               false,
               false,
               false,
               false,
               false,
               false,
               false,
               false,
               false,
               false,
               false,
               false,
               false,
               false,
               false,
               false,
               false,
               false,
               false,
               false,
               false,
               false,
               false,
               false,
               false,
               false,
               false,
               false,
               false,
               false
              ]
             },
             {
              "title": "Beer Style Counts for Georgia"
             }
            ],
            "label": "Georgia",
            "method": "update"
           },
           {
            "args": [
             {
              "visible": [
               false,
               false,
               false,
               false,
               false,
               false,
               false,
               false,
               false,
               false,
               true,
               false,
               false,
               false,
               false,
               false,
               false,
               false,
               false,
               false,
               false,
               false,
               false,
               false,
               false,
               false,
               false,
               false,
               false,
               false,
               false,
               false,
               false,
               false,
               false,
               false,
               false,
               false,
               false,
               false,
               false,
               false,
               false,
               false,
               false,
               false,
               false,
               false,
               false,
               false
              ]
             },
             {
              "title": "Beer Style Counts for Hawaii"
             }
            ],
            "label": "Hawaii",
            "method": "update"
           },
           {
            "args": [
             {
              "visible": [
               false,
               false,
               false,
               false,
               false,
               false,
               false,
               false,
               false,
               false,
               false,
               true,
               false,
               false,
               false,
               false,
               false,
               false,
               false,
               false,
               false,
               false,
               false,
               false,
               false,
               false,
               false,
               false,
               false,
               false,
               false,
               false,
               false,
               false,
               false,
               false,
               false,
               false,
               false,
               false,
               false,
               false,
               false,
               false,
               false,
               false,
               false,
               false,
               false,
               false
              ]
             },
             {
              "title": "Beer Style Counts for Idaho"
             }
            ],
            "label": "Idaho",
            "method": "update"
           },
           {
            "args": [
             {
              "visible": [
               false,
               false,
               false,
               false,
               false,
               false,
               false,
               false,
               false,
               false,
               false,
               false,
               true,
               false,
               false,
               false,
               false,
               false,
               false,
               false,
               false,
               false,
               false,
               false,
               false,
               false,
               false,
               false,
               false,
               false,
               false,
               false,
               false,
               false,
               false,
               false,
               false,
               false,
               false,
               false,
               false,
               false,
               false,
               false,
               false,
               false,
               false,
               false,
               false,
               false
              ]
             },
             {
              "title": "Beer Style Counts for Illinois"
             }
            ],
            "label": "Illinois",
            "method": "update"
           },
           {
            "args": [
             {
              "visible": [
               false,
               false,
               false,
               false,
               false,
               false,
               false,
               false,
               false,
               false,
               false,
               false,
               false,
               true,
               false,
               false,
               false,
               false,
               false,
               false,
               false,
               false,
               false,
               false,
               false,
               false,
               false,
               false,
               false,
               false,
               false,
               false,
               false,
               false,
               false,
               false,
               false,
               false,
               false,
               false,
               false,
               false,
               false,
               false,
               false,
               false,
               false,
               false,
               false,
               false
              ]
             },
             {
              "title": "Beer Style Counts for Indiana"
             }
            ],
            "label": "Indiana",
            "method": "update"
           },
           {
            "args": [
             {
              "visible": [
               false,
               false,
               false,
               false,
               false,
               false,
               false,
               false,
               false,
               false,
               false,
               false,
               false,
               false,
               true,
               false,
               false,
               false,
               false,
               false,
               false,
               false,
               false,
               false,
               false,
               false,
               false,
               false,
               false,
               false,
               false,
               false,
               false,
               false,
               false,
               false,
               false,
               false,
               false,
               false,
               false,
               false,
               false,
               false,
               false,
               false,
               false,
               false,
               false,
               false
              ]
             },
             {
              "title": "Beer Style Counts for Iowa"
             }
            ],
            "label": "Iowa",
            "method": "update"
           },
           {
            "args": [
             {
              "visible": [
               false,
               false,
               false,
               false,
               false,
               false,
               false,
               false,
               false,
               false,
               false,
               false,
               false,
               false,
               false,
               true,
               false,
               false,
               false,
               false,
               false,
               false,
               false,
               false,
               false,
               false,
               false,
               false,
               false,
               false,
               false,
               false,
               false,
               false,
               false,
               false,
               false,
               false,
               false,
               false,
               false,
               false,
               false,
               false,
               false,
               false,
               false,
               false,
               false,
               false
              ]
             },
             {
              "title": "Beer Style Counts for Kansas"
             }
            ],
            "label": "Kansas",
            "method": "update"
           },
           {
            "args": [
             {
              "visible": [
               false,
               false,
               false,
               false,
               false,
               false,
               false,
               false,
               false,
               false,
               false,
               false,
               false,
               false,
               false,
               false,
               true,
               false,
               false,
               false,
               false,
               false,
               false,
               false,
               false,
               false,
               false,
               false,
               false,
               false,
               false,
               false,
               false,
               false,
               false,
               false,
               false,
               false,
               false,
               false,
               false,
               false,
               false,
               false,
               false,
               false,
               false,
               false,
               false,
               false
              ]
             },
             {
              "title": "Beer Style Counts for Kentucky"
             }
            ],
            "label": "Kentucky",
            "method": "update"
           },
           {
            "args": [
             {
              "visible": [
               false,
               false,
               false,
               false,
               false,
               false,
               false,
               false,
               false,
               false,
               false,
               false,
               false,
               false,
               false,
               false,
               false,
               true,
               false,
               false,
               false,
               false,
               false,
               false,
               false,
               false,
               false,
               false,
               false,
               false,
               false,
               false,
               false,
               false,
               false,
               false,
               false,
               false,
               false,
               false,
               false,
               false,
               false,
               false,
               false,
               false,
               false,
               false,
               false,
               false
              ]
             },
             {
              "title": "Beer Style Counts for Louisiana"
             }
            ],
            "label": "Louisiana",
            "method": "update"
           },
           {
            "args": [
             {
              "visible": [
               false,
               false,
               false,
               false,
               false,
               false,
               false,
               false,
               false,
               false,
               false,
               false,
               false,
               false,
               false,
               false,
               false,
               false,
               true,
               false,
               false,
               false,
               false,
               false,
               false,
               false,
               false,
               false,
               false,
               false,
               false,
               false,
               false,
               false,
               false,
               false,
               false,
               false,
               false,
               false,
               false,
               false,
               false,
               false,
               false,
               false,
               false,
               false,
               false,
               false
              ]
             },
             {
              "title": "Beer Style Counts for Maine"
             }
            ],
            "label": "Maine",
            "method": "update"
           },
           {
            "args": [
             {
              "visible": [
               false,
               false,
               false,
               false,
               false,
               false,
               false,
               false,
               false,
               false,
               false,
               false,
               false,
               false,
               false,
               false,
               false,
               false,
               false,
               true,
               false,
               false,
               false,
               false,
               false,
               false,
               false,
               false,
               false,
               false,
               false,
               false,
               false,
               false,
               false,
               false,
               false,
               false,
               false,
               false,
               false,
               false,
               false,
               false,
               false,
               false,
               false,
               false,
               false,
               false
              ]
             },
             {
              "title": "Beer Style Counts for Maryland"
             }
            ],
            "label": "Maryland",
            "method": "update"
           },
           {
            "args": [
             {
              "visible": [
               false,
               false,
               false,
               false,
               false,
               false,
               false,
               false,
               false,
               false,
               false,
               false,
               false,
               false,
               false,
               false,
               false,
               false,
               false,
               false,
               true,
               false,
               false,
               false,
               false,
               false,
               false,
               false,
               false,
               false,
               false,
               false,
               false,
               false,
               false,
               false,
               false,
               false,
               false,
               false,
               false,
               false,
               false,
               false,
               false,
               false,
               false,
               false,
               false,
               false
              ]
             },
             {
              "title": "Beer Style Counts for Massachusetts"
             }
            ],
            "label": "Massachusetts",
            "method": "update"
           },
           {
            "args": [
             {
              "visible": [
               false,
               false,
               false,
               false,
               false,
               false,
               false,
               false,
               false,
               false,
               false,
               false,
               false,
               false,
               false,
               false,
               false,
               false,
               false,
               false,
               false,
               true,
               false,
               false,
               false,
               false,
               false,
               false,
               false,
               false,
               false,
               false,
               false,
               false,
               false,
               false,
               false,
               false,
               false,
               false,
               false,
               false,
               false,
               false,
               false,
               false,
               false,
               false,
               false,
               false
              ]
             },
             {
              "title": "Beer Style Counts for Michigan"
             }
            ],
            "label": "Michigan",
            "method": "update"
           },
           {
            "args": [
             {
              "visible": [
               false,
               false,
               false,
               false,
               false,
               false,
               false,
               false,
               false,
               false,
               false,
               false,
               false,
               false,
               false,
               false,
               false,
               false,
               false,
               false,
               false,
               false,
               true,
               false,
               false,
               false,
               false,
               false,
               false,
               false,
               false,
               false,
               false,
               false,
               false,
               false,
               false,
               false,
               false,
               false,
               false,
               false,
               false,
               false,
               false,
               false,
               false,
               false,
               false,
               false
              ]
             },
             {
              "title": "Beer Style Counts for Minnesota"
             }
            ],
            "label": "Minnesota",
            "method": "update"
           },
           {
            "args": [
             {
              "visible": [
               false,
               false,
               false,
               false,
               false,
               false,
               false,
               false,
               false,
               false,
               false,
               false,
               false,
               false,
               false,
               false,
               false,
               false,
               false,
               false,
               false,
               false,
               false,
               true,
               false,
               false,
               false,
               false,
               false,
               false,
               false,
               false,
               false,
               false,
               false,
               false,
               false,
               false,
               false,
               false,
               false,
               false,
               false,
               false,
               false,
               false,
               false,
               false,
               false,
               false
              ]
             },
             {
              "title": "Beer Style Counts for Mississippi"
             }
            ],
            "label": "Mississippi",
            "method": "update"
           },
           {
            "args": [
             {
              "visible": [
               false,
               false,
               false,
               false,
               false,
               false,
               false,
               false,
               false,
               false,
               false,
               false,
               false,
               false,
               false,
               false,
               false,
               false,
               false,
               false,
               false,
               false,
               false,
               false,
               true,
               false,
               false,
               false,
               false,
               false,
               false,
               false,
               false,
               false,
               false,
               false,
               false,
               false,
               false,
               false,
               false,
               false,
               false,
               false,
               false,
               false,
               false,
               false,
               false,
               false
              ]
             },
             {
              "title": "Beer Style Counts for Missouri"
             }
            ],
            "label": "Missouri",
            "method": "update"
           },
           {
            "args": [
             {
              "visible": [
               false,
               false,
               false,
               false,
               false,
               false,
               false,
               false,
               false,
               false,
               false,
               false,
               false,
               false,
               false,
               false,
               false,
               false,
               false,
               false,
               false,
               false,
               false,
               false,
               false,
               true,
               false,
               false,
               false,
               false,
               false,
               false,
               false,
               false,
               false,
               false,
               false,
               false,
               false,
               false,
               false,
               false,
               false,
               false,
               false,
               false,
               false,
               false,
               false,
               false
              ]
             },
             {
              "title": "Beer Style Counts for Montana"
             }
            ],
            "label": "Montana",
            "method": "update"
           },
           {
            "args": [
             {
              "visible": [
               false,
               false,
               false,
               false,
               false,
               false,
               false,
               false,
               false,
               false,
               false,
               false,
               false,
               false,
               false,
               false,
               false,
               false,
               false,
               false,
               false,
               false,
               false,
               false,
               false,
               false,
               true,
               false,
               false,
               false,
               false,
               false,
               false,
               false,
               false,
               false,
               false,
               false,
               false,
               false,
               false,
               false,
               false,
               false,
               false,
               false,
               false,
               false,
               false,
               false
              ]
             },
             {
              "title": "Beer Style Counts for Nebraska"
             }
            ],
            "label": "Nebraska",
            "method": "update"
           },
           {
            "args": [
             {
              "visible": [
               false,
               false,
               false,
               false,
               false,
               false,
               false,
               false,
               false,
               false,
               false,
               false,
               false,
               false,
               false,
               false,
               false,
               false,
               false,
               false,
               false,
               false,
               false,
               false,
               false,
               false,
               false,
               true,
               false,
               false,
               false,
               false,
               false,
               false,
               false,
               false,
               false,
               false,
               false,
               false,
               false,
               false,
               false,
               false,
               false,
               false,
               false,
               false,
               false,
               false
              ]
             },
             {
              "title": "Beer Style Counts for Nevada"
             }
            ],
            "label": "Nevada",
            "method": "update"
           },
           {
            "args": [
             {
              "visible": [
               false,
               false,
               false,
               false,
               false,
               false,
               false,
               false,
               false,
               false,
               false,
               false,
               false,
               false,
               false,
               false,
               false,
               false,
               false,
               false,
               false,
               false,
               false,
               false,
               false,
               false,
               false,
               false,
               true,
               false,
               false,
               false,
               false,
               false,
               false,
               false,
               false,
               false,
               false,
               false,
               false,
               false,
               false,
               false,
               false,
               false,
               false,
               false,
               false,
               false
              ]
             },
             {
              "title": "Beer Style Counts for New Hampshire"
             }
            ],
            "label": "New Hampshire",
            "method": "update"
           },
           {
            "args": [
             {
              "visible": [
               false,
               false,
               false,
               false,
               false,
               false,
               false,
               false,
               false,
               false,
               false,
               false,
               false,
               false,
               false,
               false,
               false,
               false,
               false,
               false,
               false,
               false,
               false,
               false,
               false,
               false,
               false,
               false,
               false,
               true,
               false,
               false,
               false,
               false,
               false,
               false,
               false,
               false,
               false,
               false,
               false,
               false,
               false,
               false,
               false,
               false,
               false,
               false,
               false,
               false
              ]
             },
             {
              "title": "Beer Style Counts for New Jersey"
             }
            ],
            "label": "New Jersey",
            "method": "update"
           },
           {
            "args": [
             {
              "visible": [
               false,
               false,
               false,
               false,
               false,
               false,
               false,
               false,
               false,
               false,
               false,
               false,
               false,
               false,
               false,
               false,
               false,
               false,
               false,
               false,
               false,
               false,
               false,
               false,
               false,
               false,
               false,
               false,
               false,
               false,
               true,
               false,
               false,
               false,
               false,
               false,
               false,
               false,
               false,
               false,
               false,
               false,
               false,
               false,
               false,
               false,
               false,
               false,
               false,
               false
              ]
             },
             {
              "title": "Beer Style Counts for New Mexico"
             }
            ],
            "label": "New Mexico",
            "method": "update"
           },
           {
            "args": [
             {
              "visible": [
               false,
               false,
               false,
               false,
               false,
               false,
               false,
               false,
               false,
               false,
               false,
               false,
               false,
               false,
               false,
               false,
               false,
               false,
               false,
               false,
               false,
               false,
               false,
               false,
               false,
               false,
               false,
               false,
               false,
               false,
               false,
               true,
               false,
               false,
               false,
               false,
               false,
               false,
               false,
               false,
               false,
               false,
               false,
               false,
               false,
               false,
               false,
               false,
               false,
               false
              ]
             },
             {
              "title": "Beer Style Counts for New York"
             }
            ],
            "label": "New York",
            "method": "update"
           },
           {
            "args": [
             {
              "visible": [
               false,
               false,
               false,
               false,
               false,
               false,
               false,
               false,
               false,
               false,
               false,
               false,
               false,
               false,
               false,
               false,
               false,
               false,
               false,
               false,
               false,
               false,
               false,
               false,
               false,
               false,
               false,
               false,
               false,
               false,
               false,
               false,
               true,
               false,
               false,
               false,
               false,
               false,
               false,
               false,
               false,
               false,
               false,
               false,
               false,
               false,
               false,
               false,
               false,
               false
              ]
             },
             {
              "title": "Beer Style Counts for North Carolina"
             }
            ],
            "label": "North Carolina",
            "method": "update"
           },
           {
            "args": [
             {
              "visible": [
               false,
               false,
               false,
               false,
               false,
               false,
               false,
               false,
               false,
               false,
               false,
               false,
               false,
               false,
               false,
               false,
               false,
               false,
               false,
               false,
               false,
               false,
               false,
               false,
               false,
               false,
               false,
               false,
               false,
               false,
               false,
               false,
               false,
               true,
               false,
               false,
               false,
               false,
               false,
               false,
               false,
               false,
               false,
               false,
               false,
               false,
               false,
               false,
               false,
               false
              ]
             },
             {
              "title": "Beer Style Counts for North Dakota"
             }
            ],
            "label": "North Dakota",
            "method": "update"
           },
           {
            "args": [
             {
              "visible": [
               false,
               false,
               false,
               false,
               false,
               false,
               false,
               false,
               false,
               false,
               false,
               false,
               false,
               false,
               false,
               false,
               false,
               false,
               false,
               false,
               false,
               false,
               false,
               false,
               false,
               false,
               false,
               false,
               false,
               false,
               false,
               false,
               false,
               false,
               true,
               false,
               false,
               false,
               false,
               false,
               false,
               false,
               false,
               false,
               false,
               false,
               false,
               false,
               false,
               false
              ]
             },
             {
              "title": "Beer Style Counts for Ohio"
             }
            ],
            "label": "Ohio",
            "method": "update"
           },
           {
            "args": [
             {
              "visible": [
               false,
               false,
               false,
               false,
               false,
               false,
               false,
               false,
               false,
               false,
               false,
               false,
               false,
               false,
               false,
               false,
               false,
               false,
               false,
               false,
               false,
               false,
               false,
               false,
               false,
               false,
               false,
               false,
               false,
               false,
               false,
               false,
               false,
               false,
               false,
               true,
               false,
               false,
               false,
               false,
               false,
               false,
               false,
               false,
               false,
               false,
               false,
               false,
               false,
               false
              ]
             },
             {
              "title": "Beer Style Counts for Oklahoma"
             }
            ],
            "label": "Oklahoma",
            "method": "update"
           },
           {
            "args": [
             {
              "visible": [
               false,
               false,
               false,
               false,
               false,
               false,
               false,
               false,
               false,
               false,
               false,
               false,
               false,
               false,
               false,
               false,
               false,
               false,
               false,
               false,
               false,
               false,
               false,
               false,
               false,
               false,
               false,
               false,
               false,
               false,
               false,
               false,
               false,
               false,
               false,
               false,
               true,
               false,
               false,
               false,
               false,
               false,
               false,
               false,
               false,
               false,
               false,
               false,
               false,
               false
              ]
             },
             {
              "title": "Beer Style Counts for Oregon"
             }
            ],
            "label": "Oregon",
            "method": "update"
           },
           {
            "args": [
             {
              "visible": [
               false,
               false,
               false,
               false,
               false,
               false,
               false,
               false,
               false,
               false,
               false,
               false,
               false,
               false,
               false,
               false,
               false,
               false,
               false,
               false,
               false,
               false,
               false,
               false,
               false,
               false,
               false,
               false,
               false,
               false,
               false,
               false,
               false,
               false,
               false,
               false,
               false,
               true,
               false,
               false,
               false,
               false,
               false,
               false,
               false,
               false,
               false,
               false,
               false,
               false
              ]
             },
             {
              "title": "Beer Style Counts for Pennsylvania"
             }
            ],
            "label": "Pennsylvania",
            "method": "update"
           },
           {
            "args": [
             {
              "visible": [
               false,
               false,
               false,
               false,
               false,
               false,
               false,
               false,
               false,
               false,
               false,
               false,
               false,
               false,
               false,
               false,
               false,
               false,
               false,
               false,
               false,
               false,
               false,
               false,
               false,
               false,
               false,
               false,
               false,
               false,
               false,
               false,
               false,
               false,
               false,
               false,
               false,
               false,
               true,
               false,
               false,
               false,
               false,
               false,
               false,
               false,
               false,
               false,
               false,
               false
              ]
             },
             {
              "title": "Beer Style Counts for Rhode Island"
             }
            ],
            "label": "Rhode Island",
            "method": "update"
           },
           {
            "args": [
             {
              "visible": [
               false,
               false,
               false,
               false,
               false,
               false,
               false,
               false,
               false,
               false,
               false,
               false,
               false,
               false,
               false,
               false,
               false,
               false,
               false,
               false,
               false,
               false,
               false,
               false,
               false,
               false,
               false,
               false,
               false,
               false,
               false,
               false,
               false,
               false,
               false,
               false,
               false,
               false,
               false,
               true,
               false,
               false,
               false,
               false,
               false,
               false,
               false,
               false,
               false,
               false
              ]
             },
             {
              "title": "Beer Style Counts for South Carolina"
             }
            ],
            "label": "South Carolina",
            "method": "update"
           },
           {
            "args": [
             {
              "visible": [
               false,
               false,
               false,
               false,
               false,
               false,
               false,
               false,
               false,
               false,
               false,
               false,
               false,
               false,
               false,
               false,
               false,
               false,
               false,
               false,
               false,
               false,
               false,
               false,
               false,
               false,
               false,
               false,
               false,
               false,
               false,
               false,
               false,
               false,
               false,
               false,
               false,
               false,
               false,
               false,
               true,
               false,
               false,
               false,
               false,
               false,
               false,
               false,
               false,
               false
              ]
             },
             {
              "title": "Beer Style Counts for South Dakota"
             }
            ],
            "label": "South Dakota",
            "method": "update"
           },
           {
            "args": [
             {
              "visible": [
               false,
               false,
               false,
               false,
               false,
               false,
               false,
               false,
               false,
               false,
               false,
               false,
               false,
               false,
               false,
               false,
               false,
               false,
               false,
               false,
               false,
               false,
               false,
               false,
               false,
               false,
               false,
               false,
               false,
               false,
               false,
               false,
               false,
               false,
               false,
               false,
               false,
               false,
               false,
               false,
               false,
               true,
               false,
               false,
               false,
               false,
               false,
               false,
               false,
               false
              ]
             },
             {
              "title": "Beer Style Counts for Tennessee"
             }
            ],
            "label": "Tennessee",
            "method": "update"
           },
           {
            "args": [
             {
              "visible": [
               false,
               false,
               false,
               false,
               false,
               false,
               false,
               false,
               false,
               false,
               false,
               false,
               false,
               false,
               false,
               false,
               false,
               false,
               false,
               false,
               false,
               false,
               false,
               false,
               false,
               false,
               false,
               false,
               false,
               false,
               false,
               false,
               false,
               false,
               false,
               false,
               false,
               false,
               false,
               false,
               false,
               false,
               true,
               false,
               false,
               false,
               false,
               false,
               false,
               false
              ]
             },
             {
              "title": "Beer Style Counts for Texas"
             }
            ],
            "label": "Texas",
            "method": "update"
           },
           {
            "args": [
             {
              "visible": [
               false,
               false,
               false,
               false,
               false,
               false,
               false,
               false,
               false,
               false,
               false,
               false,
               false,
               false,
               false,
               false,
               false,
               false,
               false,
               false,
               false,
               false,
               false,
               false,
               false,
               false,
               false,
               false,
               false,
               false,
               false,
               false,
               false,
               false,
               false,
               false,
               false,
               false,
               false,
               false,
               false,
               false,
               false,
               true,
               false,
               false,
               false,
               false,
               false,
               false
              ]
             },
             {
              "title": "Beer Style Counts for Utah"
             }
            ],
            "label": "Utah",
            "method": "update"
           },
           {
            "args": [
             {
              "visible": [
               false,
               false,
               false,
               false,
               false,
               false,
               false,
               false,
               false,
               false,
               false,
               false,
               false,
               false,
               false,
               false,
               false,
               false,
               false,
               false,
               false,
               false,
               false,
               false,
               false,
               false,
               false,
               false,
               false,
               false,
               false,
               false,
               false,
               false,
               false,
               false,
               false,
               false,
               false,
               false,
               false,
               false,
               false,
               false,
               true,
               false,
               false,
               false,
               false,
               false
              ]
             },
             {
              "title": "Beer Style Counts for Vermont"
             }
            ],
            "label": "Vermont",
            "method": "update"
           },
           {
            "args": [
             {
              "visible": [
               false,
               false,
               false,
               false,
               false,
               false,
               false,
               false,
               false,
               false,
               false,
               false,
               false,
               false,
               false,
               false,
               false,
               false,
               false,
               false,
               false,
               false,
               false,
               false,
               false,
               false,
               false,
               false,
               false,
               false,
               false,
               false,
               false,
               false,
               false,
               false,
               false,
               false,
               false,
               false,
               false,
               false,
               false,
               false,
               false,
               true,
               false,
               false,
               false,
               false
              ]
             },
             {
              "title": "Beer Style Counts for Virginia"
             }
            ],
            "label": "Virginia",
            "method": "update"
           },
           {
            "args": [
             {
              "visible": [
               false,
               false,
               false,
               false,
               false,
               false,
               false,
               false,
               false,
               false,
               false,
               false,
               false,
               false,
               false,
               false,
               false,
               false,
               false,
               false,
               false,
               false,
               false,
               false,
               false,
               false,
               false,
               false,
               false,
               false,
               false,
               false,
               false,
               false,
               false,
               false,
               false,
               false,
               false,
               false,
               false,
               false,
               false,
               false,
               false,
               false,
               true,
               false,
               false,
               false
              ]
             },
             {
              "title": "Beer Style Counts for Washington"
             }
            ],
            "label": "Washington",
            "method": "update"
           },
           {
            "args": [
             {
              "visible": [
               false,
               false,
               false,
               false,
               false,
               false,
               false,
               false,
               false,
               false,
               false,
               false,
               false,
               false,
               false,
               false,
               false,
               false,
               false,
               false,
               false,
               false,
               false,
               false,
               false,
               false,
               false,
               false,
               false,
               false,
               false,
               false,
               false,
               false,
               false,
               false,
               false,
               false,
               false,
               false,
               false,
               false,
               false,
               false,
               false,
               false,
               false,
               true,
               false,
               false
              ]
             },
             {
              "title": "Beer Style Counts for West Virginia"
             }
            ],
            "label": "West Virginia",
            "method": "update"
           },
           {
            "args": [
             {
              "visible": [
               false,
               false,
               false,
               false,
               false,
               false,
               false,
               false,
               false,
               false,
               false,
               false,
               false,
               false,
               false,
               false,
               false,
               false,
               false,
               false,
               false,
               false,
               false,
               false,
               false,
               false,
               false,
               false,
               false,
               false,
               false,
               false,
               false,
               false,
               false,
               false,
               false,
               false,
               false,
               false,
               false,
               false,
               false,
               false,
               false,
               false,
               false,
               false,
               true,
               false
              ]
             },
             {
              "title": "Beer Style Counts for Wisconsin"
             }
            ],
            "label": "Wisconsin",
            "method": "update"
           },
           {
            "args": [
             {
              "visible": [
               false,
               false,
               false,
               false,
               false,
               false,
               false,
               false,
               false,
               false,
               false,
               false,
               false,
               false,
               false,
               false,
               false,
               false,
               false,
               false,
               false,
               false,
               false,
               false,
               false,
               false,
               false,
               false,
               false,
               false,
               false,
               false,
               false,
               false,
               false,
               false,
               false,
               false,
               false,
               false,
               false,
               false,
               false,
               false,
               false,
               false,
               false,
               false,
               false,
               true
              ]
             },
             {
              "title": "Beer Style Counts for Wyoming"
             }
            ],
            "label": "Wyoming",
            "method": "update"
           }
          ],
          "direction": "down",
          "showactive": true
         }
        ]
       }
      }
     },
     "metadata": {},
     "output_type": "display_data"
    }
   ],
   "source": [
    "plot = plot_state_map.barplot_fav_styles_per_state(results, data)\n",
    "plot.write_html('count.html')"
   ]
  },
  {
   "cell_type": "code",
   "execution_count": 8,
   "metadata": {},
   "outputs": [
    {
     "data": {
      "application/vnd.plotly.v1+json": {
       "config": {
        "plotlyServerURL": "https://plot.ly"
       },
       "data": [
        {
         "hovertemplate": "<b>%{text}</b><br>Rating: %{y}<extra></extra>",
         "marker": {
          "color": [
           0,
           1,
           3,
           0,
           3,
           2,
           0,
           3,
           1,
           0,
           3,
           1,
           0,
           3,
           2,
           0,
           3,
           1,
           3,
           0,
           1,
           3,
           2,
           0,
           3,
           0,
           2,
           3,
           0,
           2,
           3,
           2,
           0,
           3,
           2,
           0,
           3,
           2,
           0
          ]
         },
         "name": "Top 3 Beers - Florida",
         "text": [
          "IPA",
          "Other Ale",
          "Stout",
          "IPA",
          "Stout",
          "Porter",
          "IPA",
          "Stout",
          "Other Ale",
          "IPA",
          "Stout",
          "Other Ale",
          "IPA",
          "Stout",
          "Porter",
          "IPA",
          "Stout",
          "Other Ale",
          "Stout",
          "IPA",
          "Other Ale",
          "Stout",
          "Porter",
          "IPA",
          "Stout",
          "IPA",
          "Porter",
          "Stout",
          "IPA",
          "Porter",
          "Stout",
          "Porter",
          "IPA",
          "Stout",
          "Porter",
          "IPA",
          "Stout",
          "Porter",
          "IPA"
         ],
         "type": "bar",
         "x": [
          "2004",
          "2004",
          "2004",
          "2005",
          "2005",
          "2005",
          "2006",
          "2006",
          "2006",
          "2007",
          "2007",
          "2007",
          "2008",
          "2008",
          "2008",
          "2009",
          "2009",
          "2009",
          "2010",
          "2010",
          "2010",
          "2011",
          "2011",
          "2011",
          "2012",
          "2012",
          "2012",
          "2013",
          "2013",
          "2013",
          "2014",
          "2014",
          "2014",
          "2015",
          "2015",
          "2015",
          "2016",
          "2016",
          "2016"
         ],
         "xaxis": "x",
         "y": [
          3.9795652173913045,
          3.9294117647058826,
          3.917469879518072,
          4.0344,
          4.0195,
          3.8741304347826087,
          3.9947247706422018,
          3.9208695652173913,
          3.7292615384615386,
          3.9650574712643674,
          3.9237106918238993,
          3.82852,
          3.898970588235294,
          3.8865476190476196,
          3.8710256410256414,
          3.922448979591837,
          3.8921082621082617,
          3.799738562091503,
          3.9929692832764507,
          3.912207084468665,
          3.8540044742729305,
          3.950059880239521,
          3.8823326133909286,
          3.82972972972973,
          3.8618471337579616,
          3.8324782608695656,
          3.8093207547169814,
          3.9769999999999994,
          3.952,
          3.901542857142857,
          4.130952380952381,
          4.065691056910569,
          4.04625,
          4.297004219409283,
          4.128676923076923,
          4.078659793814433,
          4.285839160839161,
          4.208431372549019,
          4.168695652173913
         ],
         "yaxis": "y"
        },
        {
         "hovertemplate": "<b>%{text}</b><br>Rating: %{y}<extra></extra>",
         "marker": {
          "color": [
           0,
           3,
           4,
           0,
           4,
           3,
           4,
           0,
           1,
           0,
           4,
           1,
           0,
           3,
           4,
           4,
           0,
           3,
           4,
           0,
           1,
           4,
           0,
           3,
           4,
           1,
           0,
           3,
           4,
           0,
           4,
           0,
           3,
           4,
           0,
           1,
           4,
           3,
           2
          ]
         },
         "name": "Top 3 Beers - Iowa",
         "text": [
          "IPA",
          "Porter",
          "Stout",
          "IPA",
          "Stout",
          "Porter",
          "Stout",
          "IPA",
          "Other Ale",
          "IPA",
          "Stout",
          "Other Ale",
          "IPA",
          "Porter",
          "Stout",
          "Stout",
          "IPA",
          "Porter",
          "Stout",
          "IPA",
          "Other Ale",
          "Stout",
          "IPA",
          "Porter",
          "Stout",
          "Other Ale",
          "IPA",
          "Porter",
          "Stout",
          "IPA",
          "Stout",
          "IPA",
          "Porter",
          "Stout",
          "IPA",
          "Other Ale",
          "Stout",
          "Porter",
          "Pale Ale"
         ],
         "type": "bar",
         "x": [
          "2004",
          "2004",
          "2004",
          "2005",
          "2005",
          "2005",
          "2006",
          "2006",
          "2006",
          "2007",
          "2007",
          "2007",
          "2008",
          "2008",
          "2008",
          "2009",
          "2009",
          "2009",
          "2010",
          "2010",
          "2010",
          "2011",
          "2011",
          "2011",
          "2012",
          "2012",
          "2012",
          "2013",
          "2013",
          "2013",
          "2014",
          "2014",
          "2014",
          "2015",
          "2015",
          "2015",
          "2016",
          "2016",
          "2016"
         ],
         "xaxis": "x2",
         "y": [
          3.9795652173913045,
          3.9294117647058826,
          3.917469879518072,
          4.0344,
          4.0195,
          3.8741304347826087,
          3.9947247706422018,
          3.9208695652173913,
          3.7292615384615386,
          3.9650574712643674,
          3.9237106918238993,
          3.82852,
          3.898970588235294,
          3.8865476190476196,
          3.8710256410256414,
          3.922448979591837,
          3.8921082621082617,
          3.799738562091503,
          3.9929692832764507,
          3.912207084468665,
          3.8540044742729305,
          3.950059880239521,
          3.8823326133909286,
          3.82972972972973,
          3.8618471337579616,
          3.8324782608695656,
          3.8093207547169814,
          3.9769999999999994,
          3.952,
          3.901542857142857,
          4.130952380952381,
          4.065691056910569,
          4.04625,
          4.297004219409283,
          4.128676923076923,
          4.078659793814433,
          4.285839160839161,
          4.208431372549019,
          4.168695652173913
         ],
         "yaxis": "y2"
        }
       ],
       "layout": {
        "annotations": [
         {
          "font": {
           "size": 16
          },
          "showarrow": false,
          "text": "Top 3 Beers in Florida",
          "x": 0.225,
          "xanchor": "center",
          "xref": "paper",
          "y": 1,
          "yanchor": "bottom",
          "yref": "paper"
         },
         {
          "font": {
           "size": 16
          },
          "showarrow": false,
          "text": "Top 3 Beers in Iowa",
          "x": 0.775,
          "xanchor": "center",
          "xref": "paper",
          "y": 1,
          "yanchor": "bottom",
          "yref": "paper"
         }
        ],
        "barmode": "group",
        "height": 500,
        "showlegend": false,
        "template": {
         "data": {
          "bar": [
           {
            "error_x": {
             "color": "#2a3f5f"
            },
            "error_y": {
             "color": "#2a3f5f"
            },
            "marker": {
             "line": {
              "color": "#E5ECF6",
              "width": 0.5
             },
             "pattern": {
              "fillmode": "overlay",
              "size": 10,
              "solidity": 0.2
             }
            },
            "type": "bar"
           }
          ],
          "barpolar": [
           {
            "marker": {
             "line": {
              "color": "#E5ECF6",
              "width": 0.5
             },
             "pattern": {
              "fillmode": "overlay",
              "size": 10,
              "solidity": 0.2
             }
            },
            "type": "barpolar"
           }
          ],
          "carpet": [
           {
            "aaxis": {
             "endlinecolor": "#2a3f5f",
             "gridcolor": "white",
             "linecolor": "white",
             "minorgridcolor": "white",
             "startlinecolor": "#2a3f5f"
            },
            "baxis": {
             "endlinecolor": "#2a3f5f",
             "gridcolor": "white",
             "linecolor": "white",
             "minorgridcolor": "white",
             "startlinecolor": "#2a3f5f"
            },
            "type": "carpet"
           }
          ],
          "choropleth": [
           {
            "colorbar": {
             "outlinewidth": 0,
             "ticks": ""
            },
            "type": "choropleth"
           }
          ],
          "contour": [
           {
            "colorbar": {
             "outlinewidth": 0,
             "ticks": ""
            },
            "colorscale": [
             [
              0,
              "#0d0887"
             ],
             [
              0.1111111111111111,
              "#46039f"
             ],
             [
              0.2222222222222222,
              "#7201a8"
             ],
             [
              0.3333333333333333,
              "#9c179e"
             ],
             [
              0.4444444444444444,
              "#bd3786"
             ],
             [
              0.5555555555555556,
              "#d8576b"
             ],
             [
              0.6666666666666666,
              "#ed7953"
             ],
             [
              0.7777777777777778,
              "#fb9f3a"
             ],
             [
              0.8888888888888888,
              "#fdca26"
             ],
             [
              1,
              "#f0f921"
             ]
            ],
            "type": "contour"
           }
          ],
          "contourcarpet": [
           {
            "colorbar": {
             "outlinewidth": 0,
             "ticks": ""
            },
            "type": "contourcarpet"
           }
          ],
          "heatmap": [
           {
            "colorbar": {
             "outlinewidth": 0,
             "ticks": ""
            },
            "colorscale": [
             [
              0,
              "#0d0887"
             ],
             [
              0.1111111111111111,
              "#46039f"
             ],
             [
              0.2222222222222222,
              "#7201a8"
             ],
             [
              0.3333333333333333,
              "#9c179e"
             ],
             [
              0.4444444444444444,
              "#bd3786"
             ],
             [
              0.5555555555555556,
              "#d8576b"
             ],
             [
              0.6666666666666666,
              "#ed7953"
             ],
             [
              0.7777777777777778,
              "#fb9f3a"
             ],
             [
              0.8888888888888888,
              "#fdca26"
             ],
             [
              1,
              "#f0f921"
             ]
            ],
            "type": "heatmap"
           }
          ],
          "heatmapgl": [
           {
            "colorbar": {
             "outlinewidth": 0,
             "ticks": ""
            },
            "colorscale": [
             [
              0,
              "#0d0887"
             ],
             [
              0.1111111111111111,
              "#46039f"
             ],
             [
              0.2222222222222222,
              "#7201a8"
             ],
             [
              0.3333333333333333,
              "#9c179e"
             ],
             [
              0.4444444444444444,
              "#bd3786"
             ],
             [
              0.5555555555555556,
              "#d8576b"
             ],
             [
              0.6666666666666666,
              "#ed7953"
             ],
             [
              0.7777777777777778,
              "#fb9f3a"
             ],
             [
              0.8888888888888888,
              "#fdca26"
             ],
             [
              1,
              "#f0f921"
             ]
            ],
            "type": "heatmapgl"
           }
          ],
          "histogram": [
           {
            "marker": {
             "pattern": {
              "fillmode": "overlay",
              "size": 10,
              "solidity": 0.2
             }
            },
            "type": "histogram"
           }
          ],
          "histogram2d": [
           {
            "colorbar": {
             "outlinewidth": 0,
             "ticks": ""
            },
            "colorscale": [
             [
              0,
              "#0d0887"
             ],
             [
              0.1111111111111111,
              "#46039f"
             ],
             [
              0.2222222222222222,
              "#7201a8"
             ],
             [
              0.3333333333333333,
              "#9c179e"
             ],
             [
              0.4444444444444444,
              "#bd3786"
             ],
             [
              0.5555555555555556,
              "#d8576b"
             ],
             [
              0.6666666666666666,
              "#ed7953"
             ],
             [
              0.7777777777777778,
              "#fb9f3a"
             ],
             [
              0.8888888888888888,
              "#fdca26"
             ],
             [
              1,
              "#f0f921"
             ]
            ],
            "type": "histogram2d"
           }
          ],
          "histogram2dcontour": [
           {
            "colorbar": {
             "outlinewidth": 0,
             "ticks": ""
            },
            "colorscale": [
             [
              0,
              "#0d0887"
             ],
             [
              0.1111111111111111,
              "#46039f"
             ],
             [
              0.2222222222222222,
              "#7201a8"
             ],
             [
              0.3333333333333333,
              "#9c179e"
             ],
             [
              0.4444444444444444,
              "#bd3786"
             ],
             [
              0.5555555555555556,
              "#d8576b"
             ],
             [
              0.6666666666666666,
              "#ed7953"
             ],
             [
              0.7777777777777778,
              "#fb9f3a"
             ],
             [
              0.8888888888888888,
              "#fdca26"
             ],
             [
              1,
              "#f0f921"
             ]
            ],
            "type": "histogram2dcontour"
           }
          ],
          "mesh3d": [
           {
            "colorbar": {
             "outlinewidth": 0,
             "ticks": ""
            },
            "type": "mesh3d"
           }
          ],
          "parcoords": [
           {
            "line": {
             "colorbar": {
              "outlinewidth": 0,
              "ticks": ""
             }
            },
            "type": "parcoords"
           }
          ],
          "pie": [
           {
            "automargin": true,
            "type": "pie"
           }
          ],
          "scatter": [
           {
            "fillpattern": {
             "fillmode": "overlay",
             "size": 10,
             "solidity": 0.2
            },
            "type": "scatter"
           }
          ],
          "scatter3d": [
           {
            "line": {
             "colorbar": {
              "outlinewidth": 0,
              "ticks": ""
             }
            },
            "marker": {
             "colorbar": {
              "outlinewidth": 0,
              "ticks": ""
             }
            },
            "type": "scatter3d"
           }
          ],
          "scattercarpet": [
           {
            "marker": {
             "colorbar": {
              "outlinewidth": 0,
              "ticks": ""
             }
            },
            "type": "scattercarpet"
           }
          ],
          "scattergeo": [
           {
            "marker": {
             "colorbar": {
              "outlinewidth": 0,
              "ticks": ""
             }
            },
            "type": "scattergeo"
           }
          ],
          "scattergl": [
           {
            "marker": {
             "colorbar": {
              "outlinewidth": 0,
              "ticks": ""
             }
            },
            "type": "scattergl"
           }
          ],
          "scattermapbox": [
           {
            "marker": {
             "colorbar": {
              "outlinewidth": 0,
              "ticks": ""
             }
            },
            "type": "scattermapbox"
           }
          ],
          "scatterpolar": [
           {
            "marker": {
             "colorbar": {
              "outlinewidth": 0,
              "ticks": ""
             }
            },
            "type": "scatterpolar"
           }
          ],
          "scatterpolargl": [
           {
            "marker": {
             "colorbar": {
              "outlinewidth": 0,
              "ticks": ""
             }
            },
            "type": "scatterpolargl"
           }
          ],
          "scatterternary": [
           {
            "marker": {
             "colorbar": {
              "outlinewidth": 0,
              "ticks": ""
             }
            },
            "type": "scatterternary"
           }
          ],
          "surface": [
           {
            "colorbar": {
             "outlinewidth": 0,
             "ticks": ""
            },
            "colorscale": [
             [
              0,
              "#0d0887"
             ],
             [
              0.1111111111111111,
              "#46039f"
             ],
             [
              0.2222222222222222,
              "#7201a8"
             ],
             [
              0.3333333333333333,
              "#9c179e"
             ],
             [
              0.4444444444444444,
              "#bd3786"
             ],
             [
              0.5555555555555556,
              "#d8576b"
             ],
             [
              0.6666666666666666,
              "#ed7953"
             ],
             [
              0.7777777777777778,
              "#fb9f3a"
             ],
             [
              0.8888888888888888,
              "#fdca26"
             ],
             [
              1,
              "#f0f921"
             ]
            ],
            "type": "surface"
           }
          ],
          "table": [
           {
            "cells": {
             "fill": {
              "color": "#EBF0F8"
             },
             "line": {
              "color": "white"
             }
            },
            "header": {
             "fill": {
              "color": "#C8D4E3"
             },
             "line": {
              "color": "white"
             }
            },
            "type": "table"
           }
          ]
         },
         "layout": {
          "annotationdefaults": {
           "arrowcolor": "#2a3f5f",
           "arrowhead": 0,
           "arrowwidth": 1
          },
          "autotypenumbers": "strict",
          "coloraxis": {
           "colorbar": {
            "outlinewidth": 0,
            "ticks": ""
           }
          },
          "colorscale": {
           "diverging": [
            [
             0,
             "#8e0152"
            ],
            [
             0.1,
             "#c51b7d"
            ],
            [
             0.2,
             "#de77ae"
            ],
            [
             0.3,
             "#f1b6da"
            ],
            [
             0.4,
             "#fde0ef"
            ],
            [
             0.5,
             "#f7f7f7"
            ],
            [
             0.6,
             "#e6f5d0"
            ],
            [
             0.7,
             "#b8e186"
            ],
            [
             0.8,
             "#7fbc41"
            ],
            [
             0.9,
             "#4d9221"
            ],
            [
             1,
             "#276419"
            ]
           ],
           "sequential": [
            [
             0,
             "#0d0887"
            ],
            [
             0.1111111111111111,
             "#46039f"
            ],
            [
             0.2222222222222222,
             "#7201a8"
            ],
            [
             0.3333333333333333,
             "#9c179e"
            ],
            [
             0.4444444444444444,
             "#bd3786"
            ],
            [
             0.5555555555555556,
             "#d8576b"
            ],
            [
             0.6666666666666666,
             "#ed7953"
            ],
            [
             0.7777777777777778,
             "#fb9f3a"
            ],
            [
             0.8888888888888888,
             "#fdca26"
            ],
            [
             1,
             "#f0f921"
            ]
           ],
           "sequentialminus": [
            [
             0,
             "#0d0887"
            ],
            [
             0.1111111111111111,
             "#46039f"
            ],
            [
             0.2222222222222222,
             "#7201a8"
            ],
            [
             0.3333333333333333,
             "#9c179e"
            ],
            [
             0.4444444444444444,
             "#bd3786"
            ],
            [
             0.5555555555555556,
             "#d8576b"
            ],
            [
             0.6666666666666666,
             "#ed7953"
            ],
            [
             0.7777777777777778,
             "#fb9f3a"
            ],
            [
             0.8888888888888888,
             "#fdca26"
            ],
            [
             1,
             "#f0f921"
            ]
           ]
          },
          "colorway": [
           "#636efa",
           "#EF553B",
           "#00cc96",
           "#ab63fa",
           "#FFA15A",
           "#19d3f3",
           "#FF6692",
           "#B6E880",
           "#FF97FF",
           "#FECB52"
          ],
          "font": {
           "color": "#2a3f5f"
          },
          "geo": {
           "bgcolor": "white",
           "lakecolor": "white",
           "landcolor": "#E5ECF6",
           "showlakes": true,
           "showland": true,
           "subunitcolor": "white"
          },
          "hoverlabel": {
           "align": "left"
          },
          "hovermode": "closest",
          "mapbox": {
           "style": "light"
          },
          "paper_bgcolor": "white",
          "plot_bgcolor": "#E5ECF6",
          "polar": {
           "angularaxis": {
            "gridcolor": "white",
            "linecolor": "white",
            "ticks": ""
           },
           "bgcolor": "#E5ECF6",
           "radialaxis": {
            "gridcolor": "white",
            "linecolor": "white",
            "ticks": ""
           }
          },
          "scene": {
           "xaxis": {
            "backgroundcolor": "#E5ECF6",
            "gridcolor": "white",
            "gridwidth": 2,
            "linecolor": "white",
            "showbackground": true,
            "ticks": "",
            "zerolinecolor": "white"
           },
           "yaxis": {
            "backgroundcolor": "#E5ECF6",
            "gridcolor": "white",
            "gridwidth": 2,
            "linecolor": "white",
            "showbackground": true,
            "ticks": "",
            "zerolinecolor": "white"
           },
           "zaxis": {
            "backgroundcolor": "#E5ECF6",
            "gridcolor": "white",
            "gridwidth": 2,
            "linecolor": "white",
            "showbackground": true,
            "ticks": "",
            "zerolinecolor": "white"
           }
          },
          "shapedefaults": {
           "line": {
            "color": "#2a3f5f"
           }
          },
          "ternary": {
           "aaxis": {
            "gridcolor": "white",
            "linecolor": "white",
            "ticks": ""
           },
           "baxis": {
            "gridcolor": "white",
            "linecolor": "white",
            "ticks": ""
           },
           "bgcolor": "#E5ECF6",
           "caxis": {
            "gridcolor": "white",
            "linecolor": "white",
            "ticks": ""
           }
          },
          "title": {
           "x": 0.05
          },
          "xaxis": {
           "automargin": true,
           "gridcolor": "white",
           "linecolor": "white",
           "ticks": "",
           "title": {
            "standoff": 15
           },
           "zerolinecolor": "white",
           "zerolinewidth": 2
          },
          "yaxis": {
           "automargin": true,
           "gridcolor": "white",
           "linecolor": "white",
           "ticks": "",
           "title": {
            "standoff": 15
           },
           "zerolinecolor": "white",
           "zerolinewidth": 2
          }
         }
        },
        "title": {
         "text": "Top 3 Beer Styles by Year for Florida and Iowa"
        },
        "width": 1200,
        "xaxis": {
         "anchor": "y",
         "domain": [
          0,
          0.45
         ],
         "title": {
          "text": "Year"
         }
        },
        "xaxis2": {
         "anchor": "y2",
         "domain": [
          0.55,
          1
         ]
        },
        "yaxis": {
         "anchor": "x",
         "domain": [
          0,
          1
         ],
         "title": {
          "text": "Rating"
         }
        },
        "yaxis2": {
         "anchor": "x2",
         "domain": [
          0,
          1
         ],
         "matches": "y",
         "showticklabels": false
        }
       }
      }
     },
     "metadata": {},
     "output_type": "display_data"
    }
   ],
   "source": [
    "# Compare top3 favourite beer styles between two selected states\n",
    "object_class = favourite_beers_processing.FavouriteBeers(results)\n",
    "top_three = object_class.threefavbeer_for_barplotting()\n",
    "\n",
    "state1 = 'Florida'\n",
    "state2 = 'Iowa'\n",
    "plot_state_map.barplot_threefav_styles_compare(top_three, state1, state2)"
   ]
  },
  {
   "cell_type": "code",
   "execution_count": 9,
   "metadata": {},
   "outputs": [
    {
     "name": "stdout",
     "output_type": "stream",
     "text": [
      "dataframe\n"
     ]
    },
    {
     "data": {
      "application/vnd.plotly.v1+json": {
       "config": {
        "plotlyServerURL": "https://plot.ly"
       },
       "data": [
        {
         "colorscale": [
          [
           0,
           "#EF553B"
          ],
          [
           1,
           "#EF553B"
          ]
         ],
         "customdata": [
          [
           "Stout",
           4.366,
           "2004"
          ],
          [
           "Stout",
           4.354909090909091,
           "2004"
          ],
          [
           "Stout",
           4.098452380952381,
           "2004"
          ],
          [
           "Stout",
           4.007745664739884,
           "2004"
          ],
          [
           "Stout",
           3.912093023255814,
           "2004"
          ],
          [
           "Stout",
           4.225294117647059,
           "2004"
          ],
          [
           "Stout",
           3.8366666666666664,
           "2004"
          ],
          [
           "Stout",
           3.9866363636363635,
           "2004"
          ],
          [
           "Stout",
           3.9594594594594597,
           "2004"
          ],
          [
           "Stout",
           4.031865284974093,
           "2004"
          ],
          [
           "Stout",
           4.4,
           "2004"
          ],
          [
           "Stout",
           4.079047619047619,
           "2004"
          ],
          [
           "Stout",
           3.8790384615384617,
           "2004"
          ],
          [
           "Stout",
           3.9252631578947366,
           "2004"
          ],
          [
           "Stout",
           3.983634020618557,
           "2004"
          ],
          [
           "Stout",
           3.9225238095238097,
           "2004"
          ],
          [
           "Stout",
           4.3725000000000005,
           "2004"
          ],
          [
           "Stout",
           4.8,
           "2004"
          ],
          [
           "Stout",
           4.027514450867052,
           "2004"
          ],
          [
           "Stout",
           3.883103448275862,
           "2004"
          ],
          [
           "Stout",
           4.134761904761905,
           "2004"
          ]
         ],
         "geo": "geo",
         "hovertemplate": "<b>%{hovertext}</b><br><br>beer_style=%{customdata[0]}<br>state=%{location}<br>ratings=%{customdata[1]}<extra></extra>",
         "hovertext": [
          "AL",
          "AK",
          "AZ",
          "CT",
          "GA",
          "HI",
          "ID",
          "KY",
          "ME",
          "MA",
          "MS",
          "NV",
          "NH",
          "NC",
          "OH",
          "OR",
          "SC",
          "SD",
          "VA",
          "WA",
          "WV"
         ],
         "locationmode": "USA-states",
         "locations": [
          "AL",
          "AK",
          "AZ",
          "CT",
          "GA",
          "HI",
          "ID",
          "KY",
          "ME",
          "MA",
          "MS",
          "NV",
          "NH",
          "NC",
          "OH",
          "OR",
          "SC",
          "SD",
          "VA",
          "WA",
          "WV"
         ],
         "name": "Stout",
         "showlegend": true,
         "showscale": false,
         "type": "choropleth",
         "z": [
          1,
          1,
          1,
          1,
          1,
          1,
          1,
          1,
          1,
          1,
          1,
          1,
          1,
          1,
          1,
          1,
          1,
          1,
          1,
          1,
          1
         ]
        },
        {
         "colorscale": [
          [
           0,
           "#636EFA"
          ],
          [
           1,
           "#636EFA"
          ]
         ],
         "customdata": [
          [
           "IPA",
           4.027636363636364,
           "2004"
          ],
          [
           "IPA",
           4.012169625246549,
           "2004"
          ],
          [
           "IPA",
           4.08264705882353,
           "2004"
          ],
          [
           "IPA",
           3.9703658536585364,
           "2004"
          ],
          [
           "IPA",
           3.9895035460992907,
           "2004"
          ],
          [
           "IPA",
           3.9795652173913045,
           "2004"
          ],
          [
           "IPA",
           4.084666666666667,
           "2004"
          ],
          [
           "IPA",
           4.084112554112554,
           "2004"
          ],
          [
           "IPA",
           3.8316528925619835,
           "2004"
          ],
          [
           "IPA",
           3.9583333333333335,
           "2004"
          ],
          [
           "IPA",
           4.0975,
           "2004"
          ],
          [
           "IPA",
           3.9988359788359786,
           "2004"
          ],
          [
           "IPA",
           4.0775,
           "2004"
          ],
          [
           "IPA",
           4.069707112970711,
           "2004"
          ],
          [
           "IPA",
           3.9228125,
           "2004"
          ],
          [
           "IPA",
           4.146489361702128,
           "2004"
          ],
          [
           "IPA",
           4.01056,
           "2004"
          ],
          [
           "IPA",
           4.195333333333333,
           "2004"
          ],
          [
           "IPA",
           4.003931623931623,
           "2004"
          ]
         ],
         "geo": "geo",
         "hovertemplate": "<b>%{hovertext}</b><br><br>beer_style=%{customdata[0]}<br>state=%{location}<br>ratings=%{customdata[1]}<extra></extra>",
         "hovertext": [
          "AR",
          "CA",
          "CO",
          "FL",
          "IL",
          "IA",
          "LA",
          "MN",
          "MO",
          "NE",
          "NM",
          "NY",
          "OK",
          "PA",
          "RI",
          "TN",
          "TX",
          "VT",
          "WI"
         ],
         "locationmode": "USA-states",
         "locations": [
          "AR",
          "CA",
          "CO",
          "FL",
          "IL",
          "IA",
          "LA",
          "MN",
          "MO",
          "NE",
          "NM",
          "NY",
          "OK",
          "PA",
          "RI",
          "TN",
          "TX",
          "VT",
          "WI"
         ],
         "name": "IPA",
         "showlegend": true,
         "showscale": false,
         "type": "choropleth",
         "z": [
          1,
          1,
          1,
          1,
          1,
          1,
          1,
          1,
          1,
          1,
          1,
          1,
          1,
          1,
          1,
          1,
          1,
          1,
          1
         ]
        },
        {
         "colorscale": [
          [
           0,
           "#00CC96"
          ],
          [
           1,
           "#00CC96"
          ]
         ],
         "customdata": [
          [
           "Porter",
           4.32,
           "2004"
          ],
          [
           "Porter",
           4.066875,
           "2004"
          ],
          [
           "Porter",
           4.058421052631579,
           "2004"
          ],
          [
           "Porter",
           4.0176923076923075,
           "2004"
          ],
          [
           "Porter",
           3.9681904761904763,
           "2004"
          ],
          [
           "Porter",
           4.165,
           "2004"
          ],
          [
           "Porter",
           4.055809523809524,
           "2004"
          ],
          [
           "Porter",
           4.43,
           "2004"
          ],
          [
           "Porter",
           4.3100000000000005,
           "2004"
          ]
         ],
         "geo": "geo",
         "hovertemplate": "<b>%{hovertext}</b><br><br>beer_style=%{customdata[0]}<br>state=%{location}<br>ratings=%{customdata[1]}<extra></extra>",
         "hovertext": [
          "DE",
          "IN",
          "KS",
          "MD",
          "MI",
          "MT",
          "NJ",
          "ND",
          "WY"
         ],
         "locationmode": "USA-states",
         "locations": [
          "DE",
          "IN",
          "KS",
          "MD",
          "MI",
          "MT",
          "NJ",
          "ND",
          "WY"
         ],
         "name": "Porter",
         "showlegend": true,
         "showscale": false,
         "type": "choropleth",
         "z": [
          1,
          1,
          1,
          1,
          1,
          1,
          1,
          1,
          1
         ]
        },
        {
         "colorscale": [
          [
           0,
           "#B6E880"
          ],
          [
           1,
           "#B6E880"
          ]
         ],
         "customdata": [
          [
           "No Information",
           "No Information",
           "2004"
          ]
         ],
         "geo": "geo",
         "hovertemplate": "<b>%{hovertext}</b><br><br>beer_style=%{customdata[0]}<br>state=%{location}<br>ratings=%{customdata[1]}<extra></extra>",
         "hovertext": [
          "UT"
         ],
         "locationmode": "USA-states",
         "locations": [
          "UT"
         ],
         "name": "No Information",
         "showlegend": true,
         "showscale": false,
         "type": "choropleth",
         "z": [
          1
         ]
        }
       ],
       "frames": [
        {
         "data": [
          {
           "colorscale": [
            [
             0,
             "#EF553B"
            ],
            [
             1,
             "#EF553B"
            ]
           ],
           "customdata": [
            [
             "Stout",
             4.366,
             "2004"
            ],
            [
             "Stout",
             4.354909090909091,
             "2004"
            ],
            [
             "Stout",
             4.098452380952381,
             "2004"
            ],
            [
             "Stout",
             4.007745664739884,
             "2004"
            ],
            [
             "Stout",
             3.912093023255814,
             "2004"
            ],
            [
             "Stout",
             4.225294117647059,
             "2004"
            ],
            [
             "Stout",
             3.8366666666666664,
             "2004"
            ],
            [
             "Stout",
             3.9866363636363635,
             "2004"
            ],
            [
             "Stout",
             3.9594594594594597,
             "2004"
            ],
            [
             "Stout",
             4.031865284974093,
             "2004"
            ],
            [
             "Stout",
             4.4,
             "2004"
            ],
            [
             "Stout",
             4.079047619047619,
             "2004"
            ],
            [
             "Stout",
             3.8790384615384617,
             "2004"
            ],
            [
             "Stout",
             3.9252631578947366,
             "2004"
            ],
            [
             "Stout",
             3.983634020618557,
             "2004"
            ],
            [
             "Stout",
             3.9225238095238097,
             "2004"
            ],
            [
             "Stout",
             4.3725000000000005,
             "2004"
            ],
            [
             "Stout",
             4.8,
             "2004"
            ],
            [
             "Stout",
             4.027514450867052,
             "2004"
            ],
            [
             "Stout",
             3.883103448275862,
             "2004"
            ],
            [
             "Stout",
             4.134761904761905,
             "2004"
            ]
           ],
           "geo": "geo",
           "hovertemplate": "<b>%{hovertext}</b><br><br>beer_style=%{customdata[0]}<br>state=%{location}<br>ratings=%{customdata[1]}<extra></extra>",
           "hovertext": [
            "AL",
            "AK",
            "AZ",
            "CT",
            "GA",
            "HI",
            "ID",
            "KY",
            "ME",
            "MA",
            "MS",
            "NV",
            "NH",
            "NC",
            "OH",
            "OR",
            "SC",
            "SD",
            "VA",
            "WA",
            "WV"
           ],
           "locationmode": "USA-states",
           "locations": [
            "AL",
            "AK",
            "AZ",
            "CT",
            "GA",
            "HI",
            "ID",
            "KY",
            "ME",
            "MA",
            "MS",
            "NV",
            "NH",
            "NC",
            "OH",
            "OR",
            "SC",
            "SD",
            "VA",
            "WA",
            "WV"
           ],
           "name": "Stout",
           "showlegend": true,
           "showscale": false,
           "type": "choropleth",
           "z": [
            1,
            1,
            1,
            1,
            1,
            1,
            1,
            1,
            1,
            1,
            1,
            1,
            1,
            1,
            1,
            1,
            1,
            1,
            1,
            1,
            1
           ]
          },
          {
           "colorscale": [
            [
             0,
             "#636EFA"
            ],
            [
             1,
             "#636EFA"
            ]
           ],
           "customdata": [
            [
             "IPA",
             4.027636363636364,
             "2004"
            ],
            [
             "IPA",
             4.012169625246549,
             "2004"
            ],
            [
             "IPA",
             4.08264705882353,
             "2004"
            ],
            [
             "IPA",
             3.9703658536585364,
             "2004"
            ],
            [
             "IPA",
             3.9895035460992907,
             "2004"
            ],
            [
             "IPA",
             3.9795652173913045,
             "2004"
            ],
            [
             "IPA",
             4.084666666666667,
             "2004"
            ],
            [
             "IPA",
             4.084112554112554,
             "2004"
            ],
            [
             "IPA",
             3.8316528925619835,
             "2004"
            ],
            [
             "IPA",
             3.9583333333333335,
             "2004"
            ],
            [
             "IPA",
             4.0975,
             "2004"
            ],
            [
             "IPA",
             3.9988359788359786,
             "2004"
            ],
            [
             "IPA",
             4.0775,
             "2004"
            ],
            [
             "IPA",
             4.069707112970711,
             "2004"
            ],
            [
             "IPA",
             3.9228125,
             "2004"
            ],
            [
             "IPA",
             4.146489361702128,
             "2004"
            ],
            [
             "IPA",
             4.01056,
             "2004"
            ],
            [
             "IPA",
             4.195333333333333,
             "2004"
            ],
            [
             "IPA",
             4.003931623931623,
             "2004"
            ]
           ],
           "geo": "geo",
           "hovertemplate": "<b>%{hovertext}</b><br><br>beer_style=%{customdata[0]}<br>state=%{location}<br>ratings=%{customdata[1]}<extra></extra>",
           "hovertext": [
            "AR",
            "CA",
            "CO",
            "FL",
            "IL",
            "IA",
            "LA",
            "MN",
            "MO",
            "NE",
            "NM",
            "NY",
            "OK",
            "PA",
            "RI",
            "TN",
            "TX",
            "VT",
            "WI"
           ],
           "locationmode": "USA-states",
           "locations": [
            "AR",
            "CA",
            "CO",
            "FL",
            "IL",
            "IA",
            "LA",
            "MN",
            "MO",
            "NE",
            "NM",
            "NY",
            "OK",
            "PA",
            "RI",
            "TN",
            "TX",
            "VT",
            "WI"
           ],
           "name": "IPA",
           "showlegend": true,
           "showscale": false,
           "type": "choropleth",
           "z": [
            1,
            1,
            1,
            1,
            1,
            1,
            1,
            1,
            1,
            1,
            1,
            1,
            1,
            1,
            1,
            1,
            1,
            1,
            1
           ]
          },
          {
           "colorscale": [
            [
             0,
             "#00CC96"
            ],
            [
             1,
             "#00CC96"
            ]
           ],
           "customdata": [
            [
             "Porter",
             4.32,
             "2004"
            ],
            [
             "Porter",
             4.066875,
             "2004"
            ],
            [
             "Porter",
             4.058421052631579,
             "2004"
            ],
            [
             "Porter",
             4.0176923076923075,
             "2004"
            ],
            [
             "Porter",
             3.9681904761904763,
             "2004"
            ],
            [
             "Porter",
             4.165,
             "2004"
            ],
            [
             "Porter",
             4.055809523809524,
             "2004"
            ],
            [
             "Porter",
             4.43,
             "2004"
            ],
            [
             "Porter",
             4.3100000000000005,
             "2004"
            ]
           ],
           "geo": "geo",
           "hovertemplate": "<b>%{hovertext}</b><br><br>beer_style=%{customdata[0]}<br>state=%{location}<br>ratings=%{customdata[1]}<extra></extra>",
           "hovertext": [
            "DE",
            "IN",
            "KS",
            "MD",
            "MI",
            "MT",
            "NJ",
            "ND",
            "WY"
           ],
           "locationmode": "USA-states",
           "locations": [
            "DE",
            "IN",
            "KS",
            "MD",
            "MI",
            "MT",
            "NJ",
            "ND",
            "WY"
           ],
           "name": "Porter",
           "showlegend": true,
           "showscale": false,
           "type": "choropleth",
           "z": [
            1,
            1,
            1,
            1,
            1,
            1,
            1,
            1,
            1
           ]
          },
          {
           "colorscale": [
            [
             0,
             "#B6E880"
            ],
            [
             1,
             "#B6E880"
            ]
           ],
           "customdata": [
            [
             "No Information",
             "No Information",
             "2004"
            ]
           ],
           "geo": "geo",
           "hovertemplate": "<b>%{hovertext}</b><br><br>beer_style=%{customdata[0]}<br>state=%{location}<br>ratings=%{customdata[1]}<extra></extra>",
           "hovertext": [
            "UT"
           ],
           "locationmode": "USA-states",
           "locations": [
            "UT"
           ],
           "name": "No Information",
           "showlegend": true,
           "showscale": false,
           "type": "choropleth",
           "z": [
            1
           ]
          }
         ],
         "name": "2004"
        },
        {
         "data": [
          {
           "colorscale": [
            [
             0,
             "#EF553B"
            ],
            [
             1,
             "#EF553B"
            ]
           ],
           "customdata": [
            [
             "Stout",
             4.07962962962963,
             "2005"
            ],
            [
             "Stout",
             3.9787500000000002,
             "2005"
            ],
            [
             "Stout",
             4.023660933660934,
             "2005"
            ],
            [
             "Stout",
             4.076432432432433,
             "2005"
            ],
            [
             "Stout",
             4.040444444444445,
             "2005"
            ],
            [
             "Stout",
             3.98,
             "2005"
            ],
            [
             "Stout",
             4.012727272727273,
             "2005"
            ],
            [
             "Stout",
             4.010705882352941,
             "2005"
            ],
            [
             "Stout",
             4.0906666666666665,
             "2005"
            ],
            [
             "Stout",
             4.012894736842106,
             "2005"
            ],
            [
             "Stout",
             4.017882352941176,
             "2005"
            ],
            [
             "Stout",
             3.9919736842105262,
             "2005"
            ],
            [
             "Stout",
             4.1316,
             "2005"
            ],
            [
             "Stout",
             4.0225,
             "2005"
            ],
            [
             "Stout",
             4.029774011299435,
             "2005"
            ],
            [
             "Stout",
             3.926753246753247,
             "2005"
            ],
            [
             "Stout",
             4.025074626865671,
             "2005"
            ],
            [
             "Stout",
             4.086438746438747,
             "2005"
            ],
            [
             "Stout",
             4.091482649842272,
             "2005"
            ],
            [
             "Stout",
             3.9062303664921467,
             "2005"
            ],
            [
             "Stout",
             4.077783595113439,
             "2005"
            ],
            [
             "Stout",
             4.045454545454546,
             "2005"
            ],
            [
             "Stout",
             3.9992857142857146,
             "2005"
            ],
            [
             "Stout",
             4.11125,
             "2005"
            ],
            [
             "Stout",
             4.006575875486382,
             "2005"
            ],
            [
             "Stout",
             4.10135294117647,
             "2005"
            ],
            [
             "Stout",
             4.5375,
             "2005"
            ]
           ],
           "geo": "geo",
           "hovertemplate": "<b>%{hovertext}</b><br><br>beer_style=%{customdata[0]}<br>state=%{location}<br>ratings=%{customdata[1]}<extra></extra>",
           "hovertext": [
            "AL",
            "AZ",
            "CA",
            "CT",
            "GA",
            "HI",
            "IL",
            "IN",
            "KY",
            "ME",
            "MA",
            "MI",
            "MN",
            "MS",
            "MO",
            "NH",
            "NJ",
            "NC",
            "OH",
            "OR",
            "PA",
            "RI",
            "SC",
            "TN",
            "TX",
            "VA",
            "WY"
           ],
           "locationmode": "USA-states",
           "locations": [
            "AL",
            "AZ",
            "CA",
            "CT",
            "GA",
            "HI",
            "IL",
            "IN",
            "KY",
            "ME",
            "MA",
            "MI",
            "MN",
            "MS",
            "MO",
            "NH",
            "NJ",
            "NC",
            "OH",
            "OR",
            "PA",
            "RI",
            "SC",
            "TN",
            "TX",
            "VA",
            "WY"
           ],
           "name": "Stout",
           "showlegend": true,
           "showscale": false,
           "type": "choropleth",
           "z": [
            1,
            1,
            1,
            1,
            1,
            1,
            1,
            1,
            1,
            1,
            1,
            1,
            1,
            1,
            1,
            1,
            1,
            1,
            1,
            1,
            1,
            1,
            1,
            1,
            1,
            1,
            1
           ]
          },
          {
           "colorscale": [
            [
             0,
             "#636EFA"
            ],
            [
             1,
             "#636EFA"
            ]
           ],
           "customdata": [
            [
             "IPA",
             4.067058823529412,
             "2005"
            ],
            [
             "IPA",
             3.9769047619047617,
             "2005"
            ],
            [
             "IPA",
             4.003666666666667,
             "2005"
            ],
            [
             "IPA",
             3.7716666666666665,
             "2005"
            ],
            [
             "IPA",
             4.0344,
             "2005"
            ],
            [
             "IPA",
             4.036666666666666,
             "2005"
            ],
            [
             "IPA",
             4.024722222222222,
             "2005"
            ],
            [
             "IPA",
             4.079768786127167,
             "2005"
            ],
            [
             "IPA",
             4.057865168539325,
             "2005"
            ],
            [
             "IPA",
             4.2424,
             "2005"
            ],
            [
             "IPA",
             3.971043689320388,
             "2005"
            ],
            [
             "IPA",
             4.47,
             "2005"
            ],
            [
             "IPA",
             4.295,
             "2005"
            ],
            [
             "IPA",
             3.9956744186046516,
             "2005"
            ],
            [
             "IPA",
             4.163529411764706,
             "2005"
            ],
            [
             "IPA",
             3.9810218978102188,
             "2005"
            ]
           ],
           "geo": "geo",
           "hovertemplate": "<b>%{hovertext}</b><br><br>beer_style=%{customdata[0]}<br>state=%{location}<br>ratings=%{customdata[1]}<extra></extra>",
           "hovertext": [
            "AR",
            "CO",
            "FL",
            "ID",
            "IA",
            "KS",
            "LA",
            "MD",
            "NE",
            "NM",
            "NY",
            "ND",
            "OK",
            "WA",
            "WV",
            "WI"
           ],
           "locationmode": "USA-states",
           "locations": [
            "AR",
            "CO",
            "FL",
            "ID",
            "IA",
            "KS",
            "LA",
            "MD",
            "NE",
            "NM",
            "NY",
            "ND",
            "OK",
            "WA",
            "WV",
            "WI"
           ],
           "name": "IPA",
           "showlegend": true,
           "showscale": false,
           "type": "choropleth",
           "z": [
            1,
            1,
            1,
            1,
            1,
            1,
            1,
            1,
            1,
            1,
            1,
            1,
            1,
            1,
            1,
            1
           ]
          },
          {
           "colorscale": [
            [
             0,
             "#00CC96"
            ],
            [
             1,
             "#00CC96"
            ]
           ],
           "customdata": [
            [
             "Porter",
             4.247857142857143,
             "2005"
            ],
            [
             "Porter",
             4.1,
             "2005"
            ],
            [
             "Porter",
             3.982083333333333,
             "2005"
            ],
            [
             "Porter",
             4.26625,
             "2005"
            ]
           ],
           "geo": "geo",
           "hovertemplate": "<b>%{hovertext}</b><br><br>beer_style=%{customdata[0]}<br>state=%{location}<br>ratings=%{customdata[1]}<extra></extra>",
           "hovertext": [
            "AK",
            "DE",
            "NV",
            "VT"
           ],
           "locationmode": "USA-states",
           "locations": [
            "AK",
            "DE",
            "NV",
            "VT"
           ],
           "name": "Porter",
           "showlegend": true,
           "showscale": false,
           "type": "choropleth",
           "z": [
            1,
            1,
            1,
            1
           ]
          },
          {
           "colorscale": [
            [
             0,
             "#FFA15A"
            ],
            [
             1,
             "#FFA15A"
            ]
           ],
           "customdata": [
            [
             "Other Ale",
             4.28,
             "2005"
            ]
           ],
           "geo": "geo",
           "hovertemplate": "<b>%{hovertext}</b><br><br>beer_style=%{customdata[0]}<br>state=%{location}<br>ratings=%{customdata[1]}<extra></extra>",
           "hovertext": [
            "SD"
           ],
           "locationmode": "USA-states",
           "locations": [
            "SD"
           ],
           "name": "Other Ale",
           "showlegend": true,
           "showscale": false,
           "type": "choropleth",
           "z": [
            1
           ]
          },
          {
           "colorscale": [
            [
             0,
             "#19D3F3"
            ],
            [
             1,
             "#19D3F3"
            ]
           ],
           "customdata": [
            [
             "Red/Amber Ale",
             4.215999999999999,
             "2005"
            ]
           ],
           "geo": "geo",
           "hovertemplate": "<b>%{hovertext}</b><br><br>beer_style=%{customdata[0]}<br>state=%{location}<br>ratings=%{customdata[1]}<extra></extra>",
           "hovertext": [
            "MT"
           ],
           "locationmode": "USA-states",
           "locations": [
            "MT"
           ],
           "name": "Red/Amber Ale",
           "showlegend": true,
           "showscale": false,
           "type": "choropleth",
           "z": [
            1
           ]
          },
          {
           "colorscale": [
            [
             0,
             "#696969"
            ],
            [
             1,
             "#696969"
            ]
           ],
           "customdata": [
            [
             "Pale Ale",
             4.05,
             "2005"
            ]
           ],
           "geo": "geo",
           "hovertemplate": "<b>%{hovertext}</b><br><br>beer_style=%{customdata[0]}<br>state=%{location}<br>ratings=%{customdata[1]}<extra></extra>",
           "hovertext": [
            "UT"
           ],
           "locationmode": "USA-states",
           "locations": [
            "UT"
           ],
           "name": "Pale Ale",
           "showlegend": true,
           "showscale": false,
           "type": "choropleth",
           "z": [
            1
           ]
          }
         ],
         "name": "2005"
        },
        {
         "data": [
          {
           "colorscale": [
            [
             0,
             "#EF553B"
            ],
            [
             1,
             "#EF553B"
            ]
           ],
           "customdata": [
            [
             "Stout",
             4.1255434782608695,
             "2006"
            ],
            [
             "Stout",
             3.986748768472906,
             "2006"
            ],
            [
             "Stout",
             4.041107871720117,
             "2006"
            ],
            [
             "Stout",
             4.006682692307693,
             "2006"
            ],
            [
             "Stout",
             4.037202797202798,
             "2006"
            ],
            [
             "Stout",
             4.08,
             "2006"
            ],
            [
             "Stout",
             4.0475066312997345,
             "2006"
            ],
            [
             "Stout",
             4.046685393258428,
             "2006"
            ],
            [
             "Stout",
             3.9947247706422018,
             "2006"
            ],
            [
             "Stout",
             3.9865432098765434,
             "2006"
            ],
            [
             "Stout",
             3.9774999999999996,
             "2006"
            ],
            [
             "Stout",
             3.963793103448276,
             "2006"
            ],
            [
             "Stout",
             4.054131736526946,
             "2006"
            ],
            [
             "Stout",
             4.030179153094463,
             "2006"
            ],
            [
             "Stout",
             3.9954079254079256,
             "2006"
            ],
            [
             "Stout",
             4.145714285714286,
             "2006"
            ],
            [
             "Stout",
             4.45,
             "2006"
            ],
            [
             "Stout",
             4.056185567010309,
             "2006"
            ],
            [
             "Stout",
             4.093999999999999,
             "2006"
            ],
            [
             "Stout",
             3.96006993006993,
             "2006"
            ],
            [
             "Stout",
             3.9427297297297295,
             "2006"
            ],
            [
             "Stout",
             4.201621621621622,
             "2006"
            ],
            [
             "Stout",
             3.9773584905660377,
             "2006"
            ],
            [
             "Stout",
             4.0086036036036035,
             "2006"
            ],
            [
             "Stout",
             4.076666666666666,
             "2006"
            ],
            [
             "Stout",
             4.0106239460371,
             "2006"
            ],
            [
             "Stout",
             4.009660194174757,
             "2006"
            ],
            [
             "Stout",
             4.031218592964824,
             "2006"
            ],
            [
             "Stout",
             3.914876033057851,
             "2006"
            ],
            [
             "Stout",
             4.55,
             "2006"
            ],
            [
             "Stout",
             4.036145833333333,
             "2006"
            ],
            [
             "Stout",
             4.005637393767706,
             "2006"
            ],
            [
             "Stout",
             4.057210884353741,
             "2006"
            ],
            [
             "Stout",
             3.9542244224422447,
             "2006"
            ]
           ],
           "geo": "geo",
           "hovertemplate": "<b>%{hovertext}</b><br><br>beer_style=%{customdata[0]}<br>state=%{location}<br>ratings=%{customdata[1]}<extra></extra>",
           "hovertext": [
            "AL",
            "AZ",
            "CA",
            "CO",
            "CT",
            "ID",
            "IL",
            "IN",
            "IA",
            "KY",
            "LA",
            "ME",
            "MD",
            "MA",
            "MI",
            "MS",
            "MT",
            "NE",
            "NV",
            "NH",
            "NJ",
            "NM",
            "NY",
            "NC",
            "ND",
            "OH",
            "OR",
            "PA",
            "RI",
            "SD",
            "TN",
            "TX",
            "VA",
            "WA"
           ],
           "locationmode": "USA-states",
           "locations": [
            "AL",
            "AZ",
            "CA",
            "CO",
            "CT",
            "ID",
            "IL",
            "IN",
            "IA",
            "KY",
            "LA",
            "ME",
            "MD",
            "MA",
            "MI",
            "MS",
            "MT",
            "NE",
            "NV",
            "NH",
            "NJ",
            "NM",
            "NY",
            "NC",
            "ND",
            "OH",
            "OR",
            "PA",
            "RI",
            "SD",
            "TN",
            "TX",
            "VA",
            "WA"
           ],
           "name": "Stout",
           "showlegend": true,
           "showscale": false,
           "type": "choropleth",
           "z": [
            1,
            1,
            1,
            1,
            1,
            1,
            1,
            1,
            1,
            1,
            1,
            1,
            1,
            1,
            1,
            1,
            1,
            1,
            1,
            1,
            1,
            1,
            1,
            1,
            1,
            1,
            1,
            1,
            1,
            1,
            1,
            1,
            1,
            1
           ]
          },
          {
           "colorscale": [
            [
             0,
             "#636EFA"
            ],
            [
             1,
             "#636EFA"
            ]
           ],
           "customdata": [
            [
             "IPA",
             4.326666666666667,
             "2006"
            ],
            [
             "IPA",
             4.059493670886075,
             "2006"
            ],
            [
             "IPA",
             4.020568181818182,
             "2006"
            ],
            [
             "IPA",
             3.974950166112957,
             "2006"
            ],
            [
             "IPA",
             3.9637764350453173,
             "2006"
            ],
            [
             "IPA",
             4.2101851851851855,
             "2006"
            ],
            [
             "IPA",
             4.07866028708134,
             "2006"
            ],
            [
             "IPA",
             4.041206896551724,
             "2006"
            ],
            [
             "IPA",
             4.03764705882353,
             "2006"
            ],
            [
             "IPA",
             4.1374,
             "2006"
            ],
            [
             "IPA",
             3.975,
             "2006"
            ],
            [
             "IPA",
             4.0003401360544215,
             "2006"
            ],
            [
             "IPA",
             3.9566292134831462,
             "2006"
            ],
            [
             "IPA",
             4.2075000000000005,
             "2006"
            ]
           ],
           "geo": "geo",
           "hovertemplate": "<b>%{hovertext}</b><br><br>beer_style=%{customdata[0]}<br>state=%{location}<br>ratings=%{customdata[1]}<extra></extra>",
           "hovertext": [
            "AK",
            "AR",
            "DE",
            "FL",
            "GA",
            "HI",
            "MN",
            "MO",
            "OK",
            "SC",
            "UT",
            "WV",
            "WI",
            "WY"
           ],
           "locationmode": "USA-states",
           "locations": [
            "AK",
            "AR",
            "DE",
            "FL",
            "GA",
            "HI",
            "MN",
            "MO",
            "OK",
            "SC",
            "UT",
            "WV",
            "WI",
            "WY"
           ],
           "name": "IPA",
           "showlegend": true,
           "showscale": false,
           "type": "choropleth",
           "z": [
            1,
            1,
            1,
            1,
            1,
            1,
            1,
            1,
            1,
            1,
            1,
            1,
            1,
            1
           ]
          },
          {
           "colorscale": [
            [
             0,
             "#00CC96"
            ],
            [
             1,
             "#00CC96"
            ]
           ],
           "customdata": [
            [
             "Porter",
             4.66,
             "2006"
            ]
           ],
           "geo": "geo",
           "hovertemplate": "<b>%{hovertext}</b><br><br>beer_style=%{customdata[0]}<br>state=%{location}<br>ratings=%{customdata[1]}<extra></extra>",
           "hovertext": [
            "KS"
           ],
           "locationmode": "USA-states",
           "locations": [
            "KS"
           ],
           "name": "Porter",
           "showlegend": true,
           "showscale": false,
           "type": "choropleth",
           "z": [
            1
           ]
          },
          {
           "colorscale": [
            [
             0,
             "#AB63FA"
            ],
            [
             1,
             "#AB63FA"
            ]
           ],
           "customdata": [
            [
             "Pilsner",
             3.927777777777778,
             "2006"
            ]
           ],
           "geo": "geo",
           "hovertemplate": "<b>%{hovertext}</b><br><br>beer_style=%{customdata[0]}<br>state=%{location}<br>ratings=%{customdata[1]}<extra></extra>",
           "hovertext": [
            "VT"
           ],
           "locationmode": "USA-states",
           "locations": [
            "VT"
           ],
           "name": "Pilsner",
           "showlegend": true,
           "showscale": false,
           "type": "choropleth",
           "z": [
            1
           ]
          }
         ],
         "name": "2006"
        },
        {
         "data": [
          {
           "colorscale": [
            [
             0,
             "#EF553B"
            ],
            [
             1,
             "#EF553B"
            ]
           ],
           "customdata": [
            [
             "Stout",
             3.845806451612903,
             "2007"
            ],
            [
             "Stout",
             4.173333333333333,
             "2007"
            ],
            [
             "Stout",
             4.048110328638498,
             "2007"
            ],
            [
             "Stout",
             4.012062663185378,
             "2007"
            ],
            [
             "Stout",
             4.0231,
             "2007"
            ],
            [
             "Stout",
             4.025,
             "2007"
            ],
            [
             "Stout",
             3.853396226415094,
             "2007"
            ],
            [
             "Stout",
             3.9485,
             "2007"
            ],
            [
             "Stout",
             4.02070987654321,
             "2007"
            ],
            [
             "Stout",
             3.983739837398374,
             "2007"
            ],
            [
             "Stout",
             4.018888888888889,
             "2007"
            ],
            [
             "Stout",
             4.09,
             "2007"
            ],
            [
             "Stout",
             3.98890350877193,
             "2007"
            ],
            [
             "Stout",
             4.038004246284501,
             "2007"
            ],
            [
             "Stout",
             3.9558671586715866,
             "2007"
            ],
            [
             "Stout",
             4.079855072463768,
             "2007"
            ],
            [
             "Stout",
             4.0927999999999995,
             "2007"
            ],
            [
             "Stout",
             4.034545454545455,
             "2007"
            ],
            [
             "Stout",
             3.9391591591591593,
             "2007"
            ],
            [
             "Stout",
             4.277777777777778,
             "2007"
            ],
            [
             "Stout",
             4.029647519582245,
             "2007"
            ],
            [
             "Stout",
             4.033152709359606,
             "2007"
            ],
            [
             "Stout",
             3.9896178343949042,
             "2007"
            ],
            [
             "Stout",
             4.261621621621622,
             "2007"
            ],
            [
             "Stout",
             3.984521072796935,
             "2007"
            ],
            [
             "Stout",
             4.034523160762943,
             "2007"
            ],
            [
             "Stout",
             3.9978358208955225,
             "2007"
            ],
            [
             "Stout",
             3.9693150684931506,
             "2007"
            ],
            [
             "Stout",
             4.007096774193548,
             "2007"
            ],
            [
             "Stout",
             3.9577627118644068,
             "2007"
            ]
           ],
           "geo": "geo",
           "hovertemplate": "<b>%{hovertext}</b><br><br>beer_style=%{customdata[0]}<br>state=%{location}<br>ratings=%{customdata[1]}<extra></extra>",
           "hovertext": [
            "AZ",
            "AR",
            "CA",
            "CO",
            "CT",
            "DE",
            "GA",
            "HI",
            "IL",
            "KY",
            "LA",
            "ME",
            "MD",
            "MA",
            "MI",
            "MN",
            "NV",
            "NH",
            "NJ",
            "NM",
            "NY",
            "NC",
            "OH",
            "OK",
            "OR",
            "PA",
            "TX",
            "VT",
            "WA",
            "WI"
           ],
           "locationmode": "USA-states",
           "locations": [
            "AZ",
            "AR",
            "CA",
            "CO",
            "CT",
            "DE",
            "GA",
            "HI",
            "IL",
            "KY",
            "LA",
            "ME",
            "MD",
            "MA",
            "MI",
            "MN",
            "NV",
            "NH",
            "NJ",
            "NM",
            "NY",
            "NC",
            "OH",
            "OK",
            "OR",
            "PA",
            "TX",
            "VT",
            "WA",
            "WI"
           ],
           "name": "Stout",
           "showlegend": true,
           "showscale": false,
           "type": "choropleth",
           "z": [
            1,
            1,
            1,
            1,
            1,
            1,
            1,
            1,
            1,
            1,
            1,
            1,
            1,
            1,
            1,
            1,
            1,
            1,
            1,
            1,
            1,
            1,
            1,
            1,
            1,
            1,
            1,
            1,
            1,
            1
           ]
          },
          {
           "colorscale": [
            [
             0,
             "#636EFA"
            ],
            [
             1,
             "#636EFA"
            ]
           ],
           "customdata": [
            [
             "IPA",
             4.041296296296296,
             "2007"
            ],
            [
             "IPA",
             3.999812834224599,
             "2007"
            ],
            [
             "IPA",
             3.952162162162162,
             "2007"
            ],
            [
             "IPA",
             3.9679910714285715,
             "2007"
            ],
            [
             "IPA",
             3.9650574712643674,
             "2007"
            ],
            [
             "IPA",
             4.0534375,
             "2007"
            ],
            [
             "IPA",
             3.96868778280543,
             "2007"
            ],
            [
             "IPA",
             4.000128205128205,
             "2007"
            ],
            [
             "IPA",
             3.9650000000000003,
             "2007"
            ],
            [
             "IPA",
             4.082686567164179,
             "2007"
            ],
            [
             "IPA",
             4.071573033707865,
             "2007"
            ],
            [
             "IPA",
             4.42,
             "2007"
            ],
            [
             "IPA",
             3.947948113207547,
             "2007"
            ],
            [
             "IPA",
             3.9838938053097346,
             "2007"
            ],
            [
             "IPA",
             4.174857142857143,
             "2007"
            ]
           ],
           "geo": "geo",
           "hovertemplate": "<b>%{hovertext}</b><br><br>beer_style=%{customdata[0]}<br>state=%{location}<br>ratings=%{customdata[1]}<extra></extra>",
           "hovertext": [
            "AL",
            "FL",
            "ID",
            "IN",
            "IA",
            "KS",
            "MO",
            "NE",
            "RI",
            "SC",
            "TN",
            "UT",
            "VA",
            "WV",
            "WY"
           ],
           "locationmode": "USA-states",
           "locations": [
            "AL",
            "FL",
            "ID",
            "IN",
            "IA",
            "KS",
            "MO",
            "NE",
            "RI",
            "SC",
            "TN",
            "UT",
            "VA",
            "WV",
            "WY"
           ],
           "name": "IPA",
           "showlegend": true,
           "showscale": false,
           "type": "choropleth",
           "z": [
            1,
            1,
            1,
            1,
            1,
            1,
            1,
            1,
            1,
            1,
            1,
            1,
            1,
            1,
            1
           ]
          },
          {
           "colorscale": [
            [
             0,
             "#00CC96"
            ],
            [
             1,
             "#00CC96"
            ]
           ],
           "customdata": [
            [
             "Porter",
             3.9894444444444446,
             "2007"
            ],
            [
             "Porter",
             4.266666666666667,
             "2007"
            ],
            [
             "Porter",
             3.7942857142857145,
             "2007"
            ]
           ],
           "geo": "geo",
           "hovertemplate": "<b>%{hovertext}</b><br><br>beer_style=%{customdata[0]}<br>state=%{location}<br>ratings=%{customdata[1]}<extra></extra>",
           "hovertext": [
            "MS",
            "MT",
            "ND"
           ],
           "locationmode": "USA-states",
           "locations": [
            "MS",
            "MT",
            "ND"
           ],
           "name": "Porter",
           "showlegend": true,
           "showscale": false,
           "type": "choropleth",
           "z": [
            1,
            1,
            1
           ]
          },
          {
           "colorscale": [
            [
             0,
             "#19D3F3"
            ],
            [
             1,
             "#19D3F3"
            ]
           ],
           "customdata": [
            [
             "Red/Amber Ale",
             4.65,
             "2007"
            ]
           ],
           "geo": "geo",
           "hovertemplate": "<b>%{hovertext}</b><br><br>beer_style=%{customdata[0]}<br>state=%{location}<br>ratings=%{customdata[1]}<extra></extra>",
           "hovertext": [
            "AK"
           ],
           "locationmode": "USA-states",
           "locations": [
            "AK"
           ],
           "name": "Red/Amber Ale",
           "showlegend": true,
           "showscale": false,
           "type": "choropleth",
           "z": [
            1
           ]
          },
          {
           "colorscale": [
            [
             0,
             "#B6E880"
            ],
            [
             1,
             "#B6E880"
            ]
           ],
           "customdata": [
            [
             "No Information",
             "No Information",
             "2007"
            ]
           ],
           "geo": "geo",
           "hovertemplate": "<b>%{hovertext}</b><br><br>beer_style=%{customdata[0]}<br>state=%{location}<br>ratings=%{customdata[1]}<extra></extra>",
           "hovertext": [
            "SD"
           ],
           "locationmode": "USA-states",
           "locations": [
            "SD"
           ],
           "name": "No Information",
           "showlegend": true,
           "showscale": false,
           "type": "choropleth",
           "z": [
            1
           ]
          }
         ],
         "name": "2007"
        },
        {
         "data": [
          {
           "colorscale": [
            [
             0,
             "#EF553B"
            ],
            [
             1,
             "#EF553B"
            ]
           ],
           "customdata": [
            [
             "Stout",
             4.038067226890757,
             "2008"
            ],
            [
             "Stout",
             4.213312101910828,
             "2008"
            ],
            [
             "Stout",
             3.9100829875518675,
             "2008"
            ],
            [
             "Stout",
             4.006502673796791,
             "2008"
            ],
            [
             "Stout",
             4.094098360655738,
             "2008"
            ],
            [
             "Stout",
             4.053529411764706,
             "2008"
            ],
            [
             "Stout",
             4.014538690476191,
             "2008"
            ],
            [
             "Stout",
             4.149814814814815,
             "2008"
            ],
            [
             "Stout",
             4.075301094890511,
             "2008"
            ],
            [
             "Stout",
             4.0416064257028115,
             "2008"
            ],
            [
             "Stout",
             4.105434782608696,
             "2008"
            ],
            [
             "Stout",
             4.008,
             "2008"
            ],
            [
             "Stout",
             4.041732365145228,
             "2008"
            ],
            [
             "Stout",
             4.198586956521739,
             "2008"
            ],
            [
             "Stout",
             4.028821548821549,
             "2008"
            ],
            [
             "Stout",
             4.151737451737452,
             "2008"
            ],
            [
             "Stout",
             4.0118077474892395,
             "2008"
            ],
            [
             "Stout",
             3.997184841453983,
             "2008"
            ],
            [
             "Stout",
             4.035979532163743,
             "2008"
            ],
            [
             "Stout",
             3.9965671641791047,
             "2008"
            ],
            [
             "Stout",
             4.0148809523809526,
             "2008"
            ],
            [
             "Stout",
             3.991716101694915,
             "2008"
            ],
            [
             "Stout",
             4.050662715517241,
             "2008"
            ],
            [
             "Stout",
             4.002822580645161,
             "2008"
            ],
            [
             "Stout",
             4.073744292237443,
             "2008"
            ],
            [
             "Stout",
             4.131677852348993,
             "2008"
            ],
            [
             "Stout",
             3.9399294947121035,
             "2008"
            ],
            [
             "Stout",
             4.083983739837398,
             "2008"
            ],
            [
             "Stout",
             4.013872633390705,
             "2008"
            ],
            [
             "Stout",
             4.000266666666667,
             "2008"
            ],
            [
             "Stout",
             3.9980519480519483,
             "2008"
            ],
            [
             "Stout",
             3.9975315315315316,
             "2008"
            ]
           ],
           "geo": "geo",
           "hovertemplate": "<b>%{hovertext}</b><br><br>beer_style=%{customdata[0]}<br>state=%{location}<br>ratings=%{customdata[1]}<extra></extra>",
           "hovertext": [
            "AL",
            "AK",
            "AZ",
            "CA",
            "CT",
            "DE",
            "GA",
            "ID",
            "IL",
            "IN",
            "KY",
            "MD",
            "MA",
            "MS",
            "MO",
            "NH",
            "NJ",
            "NY",
            "NC",
            "OH",
            "OK",
            "OR",
            "PA",
            "RI",
            "SC",
            "TN",
            "TX",
            "VT",
            "VA",
            "WA",
            "WV",
            "WI"
           ],
           "locationmode": "USA-states",
           "locations": [
            "AL",
            "AK",
            "AZ",
            "CA",
            "CT",
            "DE",
            "GA",
            "ID",
            "IL",
            "IN",
            "KY",
            "MD",
            "MA",
            "MS",
            "MO",
            "NH",
            "NJ",
            "NY",
            "NC",
            "OH",
            "OK",
            "OR",
            "PA",
            "RI",
            "SC",
            "TN",
            "TX",
            "VT",
            "VA",
            "WA",
            "WV",
            "WI"
           ],
           "name": "Stout",
           "showlegend": true,
           "showscale": false,
           "type": "choropleth",
           "z": [
            1,
            1,
            1,
            1,
            1,
            1,
            1,
            1,
            1,
            1,
            1,
            1,
            1,
            1,
            1,
            1,
            1,
            1,
            1,
            1,
            1,
            1,
            1,
            1,
            1,
            1,
            1,
            1,
            1,
            1,
            1,
            1
           ]
          },
          {
           "colorscale": [
            [
             0,
             "#636EFA"
            ],
            [
             1,
             "#636EFA"
            ]
           ],
           "customdata": [
            [
             "IPA",
             4.074333333333334,
             "2008"
            ],
            [
             "IPA",
             3.9985456885456885,
             "2008"
            ],
            [
             "IPA",
             3.9950411280846065,
             "2008"
            ],
            [
             "IPA",
             3.898970588235294,
             "2008"
            ],
            [
             "IPA",
             3.9896132596685083,
             "2008"
            ],
            [
             "IPA",
             4.017575757575758,
             "2008"
            ],
            [
             "IPA",
             4.072424242424242,
             "2008"
            ],
            [
             "IPA",
             4.033201438848921,
             "2008"
            ],
            [
             "IPA",
             4.0302546296296295,
             "2008"
            ],
            [
             "IPA",
             4.49,
             "2008"
            ],
            [
             "IPA",
             4.13390243902439,
             "2008"
            ],
            [
             "IPA",
             4.024893617021277,
             "2008"
            ],
            [
             "IPA",
             4.070769230769231,
             "2008"
            ],
            [
             "IPA",
             3.907777777777778,
             "2008"
            ],
            [
             "IPA",
             4.26,
             "2008"
            ],
            [
             "IPA",
             4.040454545454545,
             "2008"
            ]
           ],
           "geo": "geo",
           "hovertemplate": "<b>%{hovertext}</b><br><br>beer_style=%{customdata[0]}<br>state=%{location}<br>ratings=%{customdata[1]}<extra></extra>",
           "hovertext": [
            "AR",
            "CO",
            "FL",
            "IA",
            "KS",
            "LA",
            "ME",
            "MI",
            "MN",
            "MT",
            "NE",
            "NV",
            "NM",
            "ND",
            "SD",
            "UT"
           ],
           "locationmode": "USA-states",
           "locations": [
            "AR",
            "CO",
            "FL",
            "IA",
            "KS",
            "LA",
            "ME",
            "MI",
            "MN",
            "MT",
            "NE",
            "NV",
            "NM",
            "ND",
            "SD",
            "UT"
           ],
           "name": "IPA",
           "showlegend": true,
           "showscale": false,
           "type": "choropleth",
           "z": [
            1,
            1,
            1,
            1,
            1,
            1,
            1,
            1,
            1,
            1,
            1,
            1,
            1,
            1,
            1,
            1
           ]
          },
          {
           "colorscale": [
            [
             0,
             "#00CC96"
            ],
            [
             1,
             "#00CC96"
            ]
           ],
           "customdata": [
            [
             "Porter",
             4.2,
             "2008"
            ]
           ],
           "geo": "geo",
           "hovertemplate": "<b>%{hovertext}</b><br><br>beer_style=%{customdata[0]}<br>state=%{location}<br>ratings=%{customdata[1]}<extra></extra>",
           "hovertext": [
            "HI"
           ],
           "locationmode": "USA-states",
           "locations": [
            "HI"
           ],
           "name": "Porter",
           "showlegend": true,
           "showscale": false,
           "type": "choropleth",
           "z": [
            1
           ]
          },
          {
           "colorscale": [
            [
             0,
             "#AB63FA"
            ],
            [
             1,
             "#AB63FA"
            ]
           ],
           "customdata": [
            [
             "Pilsner",
             4.3225,
             "2008"
            ]
           ],
           "geo": "geo",
           "hovertemplate": "<b>%{hovertext}</b><br><br>beer_style=%{customdata[0]}<br>state=%{location}<br>ratings=%{customdata[1]}<extra></extra>",
           "hovertext": [
            "WY"
           ],
           "locationmode": "USA-states",
           "locations": [
            "WY"
           ],
           "name": "Pilsner",
           "showlegend": true,
           "showscale": false,
           "type": "choropleth",
           "z": [
            1
           ]
          }
         ],
         "name": "2008"
        },
        {
         "data": [
          {
           "colorscale": [
            [
             0,
             "#EF553B"
            ],
            [
             1,
             "#EF553B"
            ]
           ],
           "customdata": [
            [
             "Stout",
             4.133846153846154,
             "2009"
            ],
            [
             "Stout",
             3.9794897959183673,
             "2009"
            ],
            [
             "Stout",
             4.103544303797468,
             "2009"
            ],
            [
             "Stout",
             4.038400498545908,
             "2009"
            ],
            [
             "Stout",
             4.045444566410538,
             "2009"
            ],
            [
             "Stout",
             4.054013015184382,
             "2009"
            ],
            [
             "Stout",
             4.016,
             "2009"
            ],
            [
             "Stout",
             4.047325728770596,
             "2009"
            ],
            [
             "Stout",
             4.077906976744186,
             "2009"
            ],
            [
             "Stout",
             4.036827133479212,
             "2009"
            ],
            [
             "Stout",
             4.075130434782609,
             "2009"
            ],
            [
             "Stout",
             3.922448979591837,
             "2009"
            ],
            [
             "Stout",
             4.0885374149659865,
             "2009"
            ],
            [
             "Stout",
             4.132913043478261,
             "2009"
            ],
            [
             "Stout",
             4.032124019957235,
             "2009"
            ],
            [
             "Stout",
             4.018355263157894,
             "2009"
            ],
            [
             "Stout",
             4.052228310502283,
             "2009"
            ],
            [
             "Stout",
             4.125593220338983,
             "2009"
            ],
            [
             "Stout",
             4.0791743119266055,
             "2009"
            ],
            [
             "Stout",
             4.04939393939394,
             "2009"
            ],
            [
             "Stout",
             4.019814814814815,
             "2009"
            ],
            [
             "Stout",
             3.99595567867036,
             "2009"
            ],
            [
             "Stout",
             4.055314861460957,
             "2009"
            ],
            [
             "Stout",
             4.022924012158055,
             "2009"
            ],
            [
             "Stout",
             4.04764705882353,
             "2009"
            ],
            [
             "Stout",
             4.032551867219917,
             "2009"
            ],
            [
             "Stout",
             4.009739053516143,
             "2009"
            ],
            [
             "Stout",
             3.9771568627450984,
             "2009"
            ],
            [
             "Stout",
             4.068915989159891,
             "2009"
            ],
            [
             "Stout",
             4.247272727272727,
             "2009"
            ],
            [
             "Stout",
             4.053181818181818,
             "2009"
            ],
            [
             "Stout",
             3.9480721393034828,
             "2009"
            ],
            [
             "Stout",
             4.049731543624161,
             "2009"
            ],
            [
             "Stout",
             4.011550480769231,
             "2009"
            ],
            [
             "Stout",
             3.9430489731437595,
             "2009"
            ],
            [
             "Stout",
             3.995331010452962,
             "2009"
            ],
            [
             "Stout",
             4.164871794871795,
             "2009"
            ]
           ],
           "geo": "geo",
           "hovertemplate": "<b>%{hovertext}</b><br><br>beer_style=%{customdata[0]}<br>state=%{location}<br>ratings=%{customdata[1]}<extra></extra>",
           "hovertext": [
            "AL",
            "AZ",
            "AR",
            "CA",
            "CO",
            "CT",
            "DE",
            "GA",
            "HI",
            "IL",
            "IN",
            "IA",
            "KY",
            "ME",
            "MA",
            "MI",
            "MN",
            "MS",
            "NV",
            "NH",
            "NJ",
            "NY",
            "NC",
            "OH",
            "OK",
            "OR",
            "PA",
            "RI",
            "SC",
            "SD",
            "TN",
            "TX",
            "VT",
            "VA",
            "WA",
            "WI",
            "WY"
           ],
           "locationmode": "USA-states",
           "locations": [
            "AL",
            "AZ",
            "AR",
            "CA",
            "CO",
            "CT",
            "DE",
            "GA",
            "HI",
            "IL",
            "IN",
            "IA",
            "KY",
            "ME",
            "MA",
            "MI",
            "MN",
            "MS",
            "NV",
            "NH",
            "NJ",
            "NY",
            "NC",
            "OH",
            "OK",
            "OR",
            "PA",
            "RI",
            "SC",
            "SD",
            "TN",
            "TX",
            "VT",
            "VA",
            "WA",
            "WI",
            "WY"
           ],
           "name": "Stout",
           "showlegend": true,
           "showscale": false,
           "type": "choropleth",
           "z": [
            1,
            1,
            1,
            1,
            1,
            1,
            1,
            1,
            1,
            1,
            1,
            1,
            1,
            1,
            1,
            1,
            1,
            1,
            1,
            1,
            1,
            1,
            1,
            1,
            1,
            1,
            1,
            1,
            1,
            1,
            1,
            1,
            1,
            1,
            1,
            1,
            1
           ]
          },
          {
           "colorscale": [
            [
             0,
             "#636EFA"
            ],
            [
             1,
             "#636EFA"
            ]
           ],
           "customdata": [
            [
             "IPA",
             4.048024819027922,
             "2009"
            ],
            [
             "IPA",
             3.968795180722892,
             "2009"
            ],
            [
             "IPA",
             4.063048327137547,
             "2009"
            ],
            [
             "IPA",
             4.012385575589459,
             "2009"
            ],
            [
             "IPA",
             4.007936925098554,
             "2009"
            ],
            [
             "IPA",
             4.014035087719298,
             "2009"
            ],
            [
             "IPA",
             4.0895918367346935,
             "2009"
            ],
            [
             "IPA",
             3.9185714285714286,
             "2009"
            ]
           ],
           "geo": "geo",
           "hovertemplate": "<b>%{hovertext}</b><br><br>beer_style=%{customdata[0]}<br>state=%{location}<br>ratings=%{customdata[1]}<extra></extra>",
           "hovertext": [
            "FL",
            "KS",
            "LA",
            "MD",
            "MO",
            "NE",
            "NM",
            "ND"
           ],
           "locationmode": "USA-states",
           "locations": [
            "FL",
            "KS",
            "LA",
            "MD",
            "MO",
            "NE",
            "NM",
            "ND"
           ],
           "name": "IPA",
           "showlegend": true,
           "showscale": false,
           "type": "choropleth",
           "z": [
            1,
            1,
            1,
            1,
            1,
            1,
            1,
            1
           ]
          },
          {
           "colorscale": [
            [
             0,
             "#00CC96"
            ],
            [
             1,
             "#00CC96"
            ]
           ],
           "customdata": [
            [
             "Porter",
             4.383333333333334,
             "2009"
            ],
            [
             "Porter",
             4.443333333333334,
             "2009"
            ],
            [
             "Porter",
             4.0438709677419356,
             "2009"
            ]
           ],
           "geo": "geo",
           "hovertemplate": "<b>%{hovertext}</b><br><br>beer_style=%{customdata[0]}<br>state=%{location}<br>ratings=%{customdata[1]}<extra></extra>",
           "hovertext": [
            "MT",
            "UT",
            "WV"
           ],
           "locationmode": "USA-states",
           "locations": [
            "MT",
            "UT",
            "WV"
           ],
           "name": "Porter",
           "showlegend": true,
           "showscale": false,
           "type": "choropleth",
           "z": [
            1,
            1,
            1
           ]
          },
          {
           "colorscale": [
            [
             0,
             "#AB63FA"
            ],
            [
             1,
             "#AB63FA"
            ]
           ],
           "customdata": [
            [
             "Pilsner",
             4.115882352941177,
             "2009"
            ],
            [
             "Pilsner",
             4.183333333333334,
             "2009"
            ]
           ],
           "geo": "geo",
           "hovertemplate": "<b>%{hovertext}</b><br><br>beer_style=%{customdata[0]}<br>state=%{location}<br>ratings=%{customdata[1]}<extra></extra>",
           "hovertext": [
            "AK",
            "ID"
           ],
           "locationmode": "USA-states",
           "locations": [
            "AK",
            "ID"
           ],
           "name": "Pilsner",
           "showlegend": true,
           "showscale": false,
           "type": "choropleth",
           "z": [
            1,
            1
           ]
          }
         ],
         "name": "2009"
        },
        {
         "data": [
          {
           "colorscale": [
            [
             0,
             "#EF553B"
            ],
            [
             1,
             "#EF553B"
            ]
           ],
           "customdata": [
            [
             "Stout",
             4.017534246575343,
             "2010"
            ],
            [
             "Stout",
             3.9667307692307694,
             "2010"
            ],
            [
             "Stout",
             4.0026981764049125,
             "2010"
            ],
            [
             "Stout",
             3.9799180327868853,
             "2010"
            ],
            [
             "Stout",
             4.040729335494327,
             "2010"
            ],
            [
             "Stout",
             4.195970149253731,
             "2010"
            ],
            [
             "Stout",
             4.110309178743962,
             "2010"
            ],
            [
             "Stout",
             4.104017305315204,
             "2010"
            ],
            [
             "Stout",
             4.090877192982457,
             "2010"
            ],
            [
             "Stout",
             4.0282653061224485,
             "2010"
            ],
            [
             "Stout",
             3.997436577054146,
             "2010"
            ],
            [
             "Stout",
             4.0752492211838005,
             "2010"
            ],
            [
             "Stout",
             3.9929692832764507,
             "2010"
            ],
            [
             "Stout",
             4.0793506493506495,
             "2010"
            ],
            [
             "Stout",
             4.024615384615385,
             "2010"
            ],
            [
             "Stout",
             4.004460784313725,
             "2010"
            ],
            [
             "Stout",
             4.0354420731707314,
             "2010"
            ],
            [
             "Stout",
             4.005466074825618,
             "2010"
            ],
            [
             "Stout",
             4.051835205992509,
             "2010"
            ],
            [
             "Stout",
             3.9960540135033757,
             "2010"
            ],
            [
             "Stout",
             4.006335227272728,
             "2010"
            ],
            [
             "Stout",
             4.199736842105263,
             "2010"
            ],
            [
             "Stout",
             4.073552631578948,
             "2010"
            ],
            [
             "Stout",
             4.132325581395349,
             "2010"
            ],
            [
             "Stout",
             4.01,
             "2010"
            ],
            [
             "Stout",
             4.02616564417178,
             "2010"
            ],
            [
             "Stout",
             4.213815789473684,
             "2010"
            ],
            [
             "Stout",
             4.0394418362024,
             "2010"
            ],
            [
             "Stout",
             4.090026845637584,
             "2010"
            ],
            [
             "Stout",
             4.014059829059829,
             "2010"
            ],
            [
             "Stout",
             4.029874411302983,
             "2010"
            ],
            [
             "Stout",
             4.007759218405295,
             "2010"
            ],
            [
             "Stout",
             4.022577565632458,
             "2010"
            ],
            [
             "Stout",
             3.97365,
             "2010"
            ],
            [
             "Stout",
             4.396111111111111,
             "2010"
            ],
            [
             "Stout",
             4.066133333333333,
             "2010"
            ],
            [
             "Stout",
             4.029213630406291,
             "2010"
            ],
            [
             "Stout",
             3.9823460721868362,
             "2010"
            ],
            [
             "Stout",
             4.057927927927928,
             "2010"
            ],
            [
             "Stout",
             3.9758939393939396,
             "2010"
            ],
            [
             "Stout",
             4.078888888888889,
             "2010"
            ]
           ],
           "geo": "geo",
           "hovertemplate": "<b>%{hovertext}</b><br><br>beer_style=%{customdata[0]}<br>state=%{location}<br>ratings=%{customdata[1]}<extra></extra>",
           "hovertext": [
            "AZ",
            "AR",
            "CA",
            "CO",
            "CT",
            "DE",
            "FL",
            "GA",
            "HI",
            "ID",
            "IL",
            "IN",
            "IA",
            "KS",
            "KY",
            "LA",
            "MD",
            "MA",
            "MI",
            "MN",
            "MO",
            "MT",
            "NE",
            "NV",
            "NH",
            "NJ",
            "NM",
            "NY",
            "NC",
            "OH",
            "OR",
            "PA",
            "SC",
            "TN",
            "UT",
            "VT",
            "VA",
            "WA",
            "WV",
            "WI",
            "WY"
           ],
           "locationmode": "USA-states",
           "locations": [
            "AZ",
            "AR",
            "CA",
            "CO",
            "CT",
            "DE",
            "FL",
            "GA",
            "HI",
            "ID",
            "IL",
            "IN",
            "IA",
            "KS",
            "KY",
            "LA",
            "MD",
            "MA",
            "MI",
            "MN",
            "MO",
            "MT",
            "NE",
            "NV",
            "NH",
            "NJ",
            "NM",
            "NY",
            "NC",
            "OH",
            "OR",
            "PA",
            "SC",
            "TN",
            "UT",
            "VT",
            "VA",
            "WA",
            "WV",
            "WI",
            "WY"
           ],
           "name": "Stout",
           "showlegend": true,
           "showscale": false,
           "type": "choropleth",
           "z": [
            1,
            1,
            1,
            1,
            1,
            1,
            1,
            1,
            1,
            1,
            1,
            1,
            1,
            1,
            1,
            1,
            1,
            1,
            1,
            1,
            1,
            1,
            1,
            1,
            1,
            1,
            1,
            1,
            1,
            1,
            1,
            1,
            1,
            1,
            1,
            1,
            1,
            1,
            1,
            1,
            1
           ]
          },
          {
           "colorscale": [
            [
             0,
             "#636EFA"
            ],
            [
             1,
             "#636EFA"
            ]
           ],
           "customdata": [
            [
             "IPA",
             3.9656299212598425,
             "2010"
            ],
            [
             "IPA",
             4.024202898550724,
             "2010"
            ],
            [
             "IPA",
             3.962454873646209,
             "2010"
            ]
           ],
           "geo": "geo",
           "hovertemplate": "<b>%{hovertext}</b><br><br>beer_style=%{customdata[0]}<br>state=%{location}<br>ratings=%{customdata[1]}<extra></extra>",
           "hovertext": [
            "AL",
            "ME",
            "RI"
           ],
           "locationmode": "USA-states",
           "locations": [
            "AL",
            "ME",
            "RI"
           ],
           "name": "IPA",
           "showlegend": true,
           "showscale": false,
           "type": "choropleth",
           "z": [
            1,
            1,
            1
           ]
          },
          {
           "colorscale": [
            [
             0,
             "#00CC96"
            ],
            [
             1,
             "#00CC96"
            ]
           ],
           "customdata": [
            [
             "Porter",
             4.087999999999999,
             "2010"
            ],
            [
             "Porter",
             4.0605,
             "2010"
            ],
            [
             "Porter",
             4.015000000000001,
             "2010"
            ],
            [
             "Porter",
             3.9759103641456583,
             "2010"
            ]
           ],
           "geo": "geo",
           "hovertemplate": "<b>%{hovertext}</b><br><br>beer_style=%{customdata[0]}<br>state=%{location}<br>ratings=%{customdata[1]}<extra></extra>",
           "hovertext": [
            "MS",
            "OK",
            "SD",
            "TX"
           ],
           "locationmode": "USA-states",
           "locations": [
            "MS",
            "OK",
            "SD",
            "TX"
           ],
           "name": "Porter",
           "showlegend": true,
           "showscale": false,
           "type": "choropleth",
           "z": [
            1,
            1,
            1,
            1
           ]
          },
          {
           "colorscale": [
            [
             0,
             "#FFA15A"
            ],
            [
             1,
             "#FFA15A"
            ]
           ],
           "customdata": [
            [
             "Other Ale",
             4.1173913043478265,
             "2010"
            ],
            [
             "Other Ale",
             4.0065,
             "2010"
            ]
           ],
           "geo": "geo",
           "hovertemplate": "<b>%{hovertext}</b><br><br>beer_style=%{customdata[0]}<br>state=%{location}<br>ratings=%{customdata[1]}<extra></extra>",
           "hovertext": [
            "AK",
            "ND"
           ],
           "locationmode": "USA-states",
           "locations": [
            "AK",
            "ND"
           ],
           "name": "Other Ale",
           "showlegend": true,
           "showscale": false,
           "type": "choropleth",
           "z": [
            1,
            1
           ]
          }
         ],
         "name": "2010"
        },
        {
         "data": [
          {
           "colorscale": [
            [
             0,
             "#EF553B"
            ],
            [
             1,
             "#EF553B"
            ]
           ],
           "customdata": [
            [
             "Stout",
             4.027579908675799,
             "2011"
            ],
            [
             "Stout",
             4.224603174603174,
             "2011"
            ],
            [
             "Stout",
             3.979870096128865,
             "2011"
            ],
            [
             "Stout",
             3.8886268343815513,
             "2011"
            ],
            [
             "Stout",
             4.036417322834645,
             "2011"
            ],
            [
             "Stout",
             4.069727891156463,
             "2011"
            ],
            [
             "Stout",
             4.070444726810673,
             "2011"
            ],
            [
             "Stout",
             4.009785714285714,
             "2011"
            ],
            [
             "Stout",
             3.958736591179976,
             "2011"
            ],
            [
             "Stout",
             4.029927272727273,
             "2011"
            ],
            [
             "Stout",
             3.950059880239521,
             "2011"
            ],
            [
             "Stout",
             3.9633858267716535,
             "2011"
            ],
            [
             "Stout",
             4.018273224043716,
             "2011"
            ],
            [
             "Stout",
             4.020292607802874,
             "2011"
            ],
            [
             "Stout",
             3.983612648221344,
             "2011"
            ],
            [
             "Stout",
             4.006258064516129,
             "2011"
            ],
            [
             "Stout",
             4.067826086956522,
             "2011"
            ],
            [
             "Stout",
             3.9986427145708583,
             "2011"
            ],
            [
             "Stout",
             4.0062942191544435,
             "2011"
            ],
            [
             "Stout",
             3.978337438423645,
             "2011"
            ],
            [
             "Stout",
             4.475,
             "2011"
            ],
            [
             "Stout",
             4.01153187847668,
             "2011"
            ],
            [
             "Stout",
             4.097070063694267,
             "2011"
            ],
            [
             "Stout",
             3.953154761904762,
             "2011"
            ],
            [
             "Stout",
             3.943759220231823,
             "2011"
            ],
            [
             "Stout",
             3.9895054945054946,
             "2011"
            ],
            [
             "Stout",
             4.043659574468085,
             "2011"
            ],
            [
             "Stout",
             4.005322033898305,
             "2011"
            ],
            [
             "Stout",
             3.9876093514328805,
             "2011"
            ],
            [
             "Stout",
             3.9932003325020777,
             "2011"
            ],
            [
             "Stout",
             3.9756353194544154,
             "2011"
            ],
            [
             "Stout",
             3.967080152671756,
             "2011"
            ]
           ],
           "geo": "geo",
           "hovertemplate": "<b>%{hovertext}</b><br><br>beer_style=%{customdata[0]}<br>state=%{location}<br>ratings=%{customdata[1]}<extra></extra>",
           "hovertext": [
            "AL",
            "AK",
            "CA",
            "CO",
            "CT",
            "FL",
            "GA",
            "ID",
            "IL",
            "IN",
            "IA",
            "KY",
            "MD",
            "MA",
            "MN",
            "MO",
            "MT",
            "NJ",
            "NY",
            "NC",
            "ND",
            "OH",
            "OK",
            "OR",
            "PA",
            "RI",
            "SC",
            "TN",
            "TX",
            "VA",
            "WA",
            "WI"
           ],
           "locationmode": "USA-states",
           "locations": [
            "AL",
            "AK",
            "CA",
            "CO",
            "CT",
            "FL",
            "GA",
            "ID",
            "IL",
            "IN",
            "IA",
            "KY",
            "MD",
            "MA",
            "MN",
            "MO",
            "MT",
            "NJ",
            "NY",
            "NC",
            "ND",
            "OH",
            "OK",
            "OR",
            "PA",
            "RI",
            "SC",
            "TN",
            "TX",
            "VA",
            "WA",
            "WI"
           ],
           "name": "Stout",
           "showlegend": true,
           "showscale": false,
           "type": "choropleth",
           "z": [
            1,
            1,
            1,
            1,
            1,
            1,
            1,
            1,
            1,
            1,
            1,
            1,
            1,
            1,
            1,
            1,
            1,
            1,
            1,
            1,
            1,
            1,
            1,
            1,
            1,
            1,
            1,
            1,
            1,
            1,
            1,
            1
           ]
          },
          {
           "colorscale": [
            [
             0,
             "#636EFA"
            ],
            [
             1,
             "#636EFA"
            ]
           ],
           "customdata": [
            [
             "IPA",
             3.9623400365630714,
             "2011"
            ],
            [
             "IPA",
             3.9497119341563787,
             "2011"
            ],
            [
             "IPA",
             3.961060606060606,
             "2011"
            ],
            [
             "IPA",
             4.015803059273423,
             "2011"
            ],
            [
             "IPA",
             3.9926153846153842,
             "2011"
            ],
            [
             "IPA",
             4.052533333333334,
             "2011"
            ],
            [
             "IPA",
             3.9826876876876875,
             "2011"
            ],
            [
             "IPA",
             4.050212765957447,
             "2011"
            ],
            [
             "IPA",
             4.4992857142857146,
             "2011"
            ],
            [
             "IPA",
             3.9955882352941177,
             "2011"
            ]
           ],
           "geo": "geo",
           "hovertemplate": "<b>%{hovertext}</b><br><br>beer_style=%{customdata[0]}<br>state=%{location}<br>ratings=%{customdata[1]}<extra></extra>",
           "hovertext": [
            "AZ",
            "LA",
            "ME",
            "MI",
            "MS",
            "NE",
            "NH",
            "NM",
            "SD",
            "WY"
           ],
           "locationmode": "USA-states",
           "locations": [
            "AZ",
            "LA",
            "ME",
            "MI",
            "MS",
            "NE",
            "NH",
            "NM",
            "SD",
            "WY"
           ],
           "name": "IPA",
           "showlegend": true,
           "showscale": false,
           "type": "choropleth",
           "z": [
            1,
            1,
            1,
            1,
            1,
            1,
            1,
            1,
            1,
            1
           ]
          },
          {
           "colorscale": [
            [
             0,
             "#00CC96"
            ],
            [
             1,
             "#00CC96"
            ]
           ],
           "customdata": [
            [
             "Porter",
             4.131428571428571,
             "2011"
            ],
            [
             "Porter",
             4.072857142857143,
             "2011"
            ],
            [
             "Porter",
             4.050888888888888,
             "2011"
            ],
            [
             "Porter",
             4.0668,
             "2011"
            ],
            [
             "Porter",
             4.034264705882353,
             "2011"
            ],
            [
             "Porter",
             4.062352941176471,
             "2011"
            ]
           ],
           "geo": "geo",
           "hovertemplate": "<b>%{hovertext}</b><br><br>beer_style=%{customdata[0]}<br>state=%{location}<br>ratings=%{customdata[1]}<extra></extra>",
           "hovertext": [
            "DE",
            "HI",
            "KS",
            "NV",
            "VT",
            "WV"
           ],
           "locationmode": "USA-states",
           "locations": [
            "DE",
            "HI",
            "KS",
            "NV",
            "VT",
            "WV"
           ],
           "name": "Porter",
           "showlegend": true,
           "showscale": false,
           "type": "choropleth",
           "z": [
            1,
            1,
            1,
            1,
            1,
            1
           ]
          },
          {
           "colorscale": [
            [
             0,
             "#AB63FA"
            ],
            [
             1,
             "#AB63FA"
            ]
           ],
           "customdata": [
            [
             "Pilsner",
             4.015000000000001,
             "2011"
            ]
           ],
           "geo": "geo",
           "hovertemplate": "<b>%{hovertext}</b><br><br>beer_style=%{customdata[0]}<br>state=%{location}<br>ratings=%{customdata[1]}<extra></extra>",
           "hovertext": [
            "AR"
           ],
           "locationmode": "USA-states",
           "locations": [
            "AR"
           ],
           "name": "Pilsner",
           "showlegend": true,
           "showscale": false,
           "type": "choropleth",
           "z": [
            1
           ]
          },
          {
           "colorscale": [
            [
             0,
             "#FFA15A"
            ],
            [
             1,
             "#FFA15A"
            ]
           ],
           "customdata": [
            [
             "Other Ale",
             3.9481081081081086,
             "2011"
            ]
           ],
           "geo": "geo",
           "hovertemplate": "<b>%{hovertext}</b><br><br>beer_style=%{customdata[0]}<br>state=%{location}<br>ratings=%{customdata[1]}<extra></extra>",
           "hovertext": [
            "UT"
           ],
           "locationmode": "USA-states",
           "locations": [
            "UT"
           ],
           "name": "Other Ale",
           "showlegend": true,
           "showscale": false,
           "type": "choropleth",
           "z": [
            1
           ]
          }
         ],
         "name": "2011"
        },
        {
         "data": [
          {
           "colorscale": [
            [
             0,
             "#EF553B"
            ],
            [
             1,
             "#EF553B"
            ]
           ],
           "customdata": [
            [
             "Stout",
             4.131546391752577,
             "2012"
            ],
            [
             "Stout",
             4.229523809523809,
             "2012"
            ],
            [
             "Stout",
             4.021909090909091,
             "2012"
            ],
            [
             "Stout",
             3.984837758112094,
             "2012"
            ],
            [
             "Stout",
             3.9716859122401846,
             "2012"
            ],
            [
             "Stout",
             4.0407615894039735,
             "2012"
            ],
            [
             "Stout",
             4.120239520958084,
             "2012"
            ],
            [
             "Stout",
             4.03235576923077,
             "2012"
            ],
            [
             "Stout",
             4.018459016393443,
             "2012"
            ],
            [
             "Stout",
             4.197272727272727,
             "2012"
            ],
            [
             "Stout",
             3.943846153846154,
             "2012"
            ],
            [
             "Stout",
             4.015043103448276,
             "2012"
            ],
            [
             "Stout",
             4.044980544747082,
             "2012"
            ],
            [
             "Stout",
             3.8618471337579616,
             "2012"
            ],
            [
             "Stout",
             3.998253968253968,
             "2012"
            ],
            [
             "Stout",
             4.015722070844687,
             "2012"
            ],
            [
             "Stout",
             4.121728395061728,
             "2012"
            ],
            [
             "Stout",
             3.97539393939394,
             "2012"
            ],
            [
             "Stout",
             3.990217729393468,
             "2012"
            ],
            [
             "Stout",
             4.013860555196901,
             "2012"
            ],
            [
             "Stout",
             3.9960781249999995,
             "2012"
            ],
            [
             "Stout",
             4.037444876783398,
             "2012"
            ],
            [
             "Stout",
             4.005157232704403,
             "2012"
            ],
            [
             "Stout",
             3.9394117647058824,
             "2012"
            ],
            [
             "Stout",
             4.1925,
             "2012"
            ],
            [
             "Stout",
             3.9961,
             "2012"
            ],
            [
             "Stout",
             4.025625,
             "2012"
            ],
            [
             "Stout",
             3.954038461538462,
             "2012"
            ],
            [
             "Stout",
             4.0069825708061,
             "2012"
            ],
            [
             "Stout",
             4.032108183079057,
             "2012"
            ],
            [
             "Stout",
             4.044002134471718,
             "2012"
            ],
            [
             "Stout",
             4.009767441860465,
             "2012"
            ],
            [
             "Stout",
             3.9611304347826084,
             "2012"
            ],
            [
             "Stout",
             3.934176100628931,
             "2012"
            ],
            [
             "Stout",
             4.042105263157895,
             "2012"
            ],
            [
             "Stout",
             3.975583596214511,
             "2012"
            ],
            [
             "Stout",
             4.230833333333333,
             "2012"
            ],
            [
             "Stout",
             3.993785310734463,
             "2012"
            ],
            [
             "Stout",
             4.028403465346535,
             "2012"
            ],
            [
             "Stout",
             3.973181818181818,
             "2012"
            ],
            [
             "Stout",
             4.152162162162162,
             "2012"
            ],
            [
             "Stout",
             4.035800915331808,
             "2012"
            ],
            [
             "Stout",
             3.996456111566858,
             "2012"
            ],
            [
             "Stout",
             4.152054794520549,
             "2012"
            ],
            [
             "Stout",
             4.07978431372549,
             "2012"
            ],
            [
             "Stout",
             4.247142857142857,
             "2012"
            ]
           ],
           "geo": "geo",
           "hovertemplate": "<b>%{hovertext}</b><br><br>beer_style=%{customdata[0]}<br>state=%{location}<br>ratings=%{customdata[1]}<extra></extra>",
           "hovertext": [
            "AL",
            "AK",
            "AZ",
            "CA",
            "CO",
            "CT",
            "DE",
            "FL",
            "GA",
            "HI",
            "ID",
            "IL",
            "IN",
            "IA",
            "KS",
            "KY",
            "LA",
            "ME",
            "MD",
            "MA",
            "MI",
            "MN",
            "MO",
            "MT",
            "NE",
            "NH",
            "NJ",
            "NM",
            "NY",
            "NC",
            "OH",
            "OK",
            "OR",
            "PA",
            "RI",
            "SC",
            "SD",
            "TN",
            "TX",
            "UT",
            "VT",
            "VA",
            "WA",
            "WV",
            "WI",
            "WY"
           ],
           "locationmode": "USA-states",
           "locations": [
            "AL",
            "AK",
            "AZ",
            "CA",
            "CO",
            "CT",
            "DE",
            "FL",
            "GA",
            "HI",
            "ID",
            "IL",
            "IN",
            "IA",
            "KS",
            "KY",
            "LA",
            "ME",
            "MD",
            "MA",
            "MI",
            "MN",
            "MO",
            "MT",
            "NE",
            "NH",
            "NJ",
            "NM",
            "NY",
            "NC",
            "OH",
            "OK",
            "OR",
            "PA",
            "RI",
            "SC",
            "SD",
            "TN",
            "TX",
            "UT",
            "VT",
            "VA",
            "WA",
            "WV",
            "WI",
            "WY"
           ],
           "name": "Stout",
           "showlegend": true,
           "showscale": false,
           "type": "choropleth",
           "z": [
            1,
            1,
            1,
            1,
            1,
            1,
            1,
            1,
            1,
            1,
            1,
            1,
            1,
            1,
            1,
            1,
            1,
            1,
            1,
            1,
            1,
            1,
            1,
            1,
            1,
            1,
            1,
            1,
            1,
            1,
            1,
            1,
            1,
            1,
            1,
            1,
            1,
            1,
            1,
            1,
            1,
            1,
            1,
            1,
            1,
            1
           ]
          },
          {
           "colorscale": [
            [
             0,
             "#636EFA"
            ],
            [
             1,
             "#636EFA"
            ]
           ],
           "customdata": [
            [
             "IPA",
             3.9720833333333334,
             "2012"
            ]
           ],
           "geo": "geo",
           "hovertemplate": "<b>%{hovertext}</b><br><br>beer_style=%{customdata[0]}<br>state=%{location}<br>ratings=%{customdata[1]}<extra></extra>",
           "hovertext": [
            "NV"
           ],
           "locationmode": "USA-states",
           "locations": [
            "NV"
           ],
           "name": "IPA",
           "showlegend": true,
           "showscale": false,
           "type": "choropleth",
           "z": [
            1
           ]
          },
          {
           "colorscale": [
            [
             0,
             "#00CC96"
            ],
            [
             1,
             "#00CC96"
            ]
           ],
           "customdata": [
            [
             "Porter",
             3.9489473684210528,
             "2012"
            ],
            [
             "Porter",
             4.62,
             "2012"
            ]
           ],
           "geo": "geo",
           "hovertemplate": "<b>%{hovertext}</b><br><br>beer_style=%{customdata[0]}<br>state=%{location}<br>ratings=%{customdata[1]}<extra></extra>",
           "hovertext": [
            "MS",
            "ND"
           ],
           "locationmode": "USA-states",
           "locations": [
            "MS",
            "ND"
           ],
           "name": "Porter",
           "showlegend": true,
           "showscale": false,
           "type": "choropleth",
           "z": [
            1,
            1
           ]
          },
          {
           "colorscale": [
            [
             0,
             "#AB63FA"
            ],
            [
             1,
             "#AB63FA"
            ]
           ],
           "customdata": [
            [
             "Pilsner",
             4.38,
             "2012"
            ]
           ],
           "geo": "geo",
           "hovertemplate": "<b>%{hovertext}</b><br><br>beer_style=%{customdata[0]}<br>state=%{location}<br>ratings=%{customdata[1]}<extra></extra>",
           "hovertext": [
            "AR"
           ],
           "locationmode": "USA-states",
           "locations": [
            "AR"
           ],
           "name": "Pilsner",
           "showlegend": true,
           "showscale": false,
           "type": "choropleth",
           "z": [
            1
           ]
          }
         ],
         "name": "2012"
        },
        {
         "data": [
          {
           "colorscale": [
            [
             0,
             "#EF553B"
            ],
            [
             1,
             "#EF553B"
            ]
           ],
           "customdata": [
            [
             "Stout",
             4.1771666666666665,
             "2013"
            ],
            [
             "Stout",
             4.078432432432432,
             "2013"
            ],
            [
             "Stout",
             4.067142857142857,
             "2013"
            ],
            [
             "Stout",
             4.07539226519337,
             "2013"
            ],
            [
             "Stout",
             4.067147239263804,
             "2013"
            ],
            [
             "Stout",
             4.1145625,
             "2013"
            ],
            [
             "Stout",
             4.168947368421053,
             "2013"
            ],
            [
             "Stout",
             4.086670746634027,
             "2013"
            ],
            [
             "Stout",
             4.04495,
             "2013"
            ],
            [
             "Stout",
             4.014666666666667,
             "2013"
            ],
            [
             "Stout",
             4.048285714285714,
             "2013"
            ],
            [
             "Stout",
             4.127899896800826,
             "2013"
            ],
            [
             "Stout",
             4.089143518518519,
             "2013"
            ],
            [
             "Stout",
             4.085923261390887,
             "2013"
            ],
            [
             "Stout",
             4.1138219895287955,
             "2013"
            ],
            [
             "Stout",
             4.10015503875969,
             "2013"
            ],
            [
             "Stout",
             4.028923933209648,
             "2013"
            ],
            [
             "Stout",
             4.072303370786517,
             "2013"
            ],
            [
             "Stout",
             4.026383526383526,
             "2013"
            ],
            [
             "Stout",
             4.035606557377049,
             "2013"
            ],
            [
             "Stout",
             4.066461988304094,
             "2013"
            ],
            [
             "Stout",
             4.090149253731344,
             "2013"
            ],
            [
             "Stout",
             4.245,
             "2013"
            ],
            [
             "Stout",
             4.059147540983607,
             "2013"
            ],
            [
             "Stout",
             4.087925608011445,
             "2013"
            ],
            [
             "Stout",
             4.058623853211009,
             "2013"
            ],
            [
             "Stout",
             4.073031423290203,
             "2013"
            ],
            [
             "Stout",
             4.104933510638298,
             "2013"
            ],
            [
             "Stout",
             4.114131227217497,
             "2013"
            ],
            [
             "Stout",
             4.10989898989899,
             "2013"
            ],
            [
             "Stout",
             4.000923913043478,
             "2013"
            ],
            [
             "Stout",
             4.011859169199595,
             "2013"
            ],
            [
             "Stout",
             4.201777777777778,
             "2013"
            ],
            [
             "Stout",
             4.129338422391857,
             "2013"
            ],
            [
             "Stout",
             4.734999999999999,
             "2013"
            ],
            [
             "Stout",
             4.0964,
             "2013"
            ],
            [
             "Stout",
             4.13326409495549,
             "2013"
            ],
            [
             "Stout",
             4.29925925925926,
             "2013"
            ],
            [
             "Stout",
             4.058,
             "2013"
            ],
            [
             "Stout",
             4.005231431646933,
             "2013"
            ],
            [
             "Stout",
             4.156052141527002,
             "2013"
            ],
            [
             "Stout",
             4.025945945945947,
             "2013"
            ]
           ],
           "geo": "geo",
           "hovertemplate": "<b>%{hovertext}</b><br><br>beer_style=%{customdata[0]}<br>state=%{location}<br>ratings=%{customdata[1]}<extra></extra>",
           "hovertext": [
            "AL",
            "AZ",
            "AR",
            "CA",
            "CO",
            "CT",
            "DE",
            "FL",
            "GA",
            "HI",
            "ID",
            "IL",
            "IN",
            "KY",
            "LA",
            "ME",
            "MD",
            "MA",
            "MI",
            "MN",
            "MO",
            "NE",
            "NV",
            "NH",
            "NJ",
            "NM",
            "NY",
            "NC",
            "OH",
            "OK",
            "OR",
            "PA",
            "RI",
            "SC",
            "SD",
            "TN",
            "TX",
            "UT",
            "VA",
            "WA",
            "WI",
            "WY"
           ],
           "locationmode": "USA-states",
           "locations": [
            "AL",
            "AZ",
            "AR",
            "CA",
            "CO",
            "CT",
            "DE",
            "FL",
            "GA",
            "HI",
            "ID",
            "IL",
            "IN",
            "KY",
            "LA",
            "ME",
            "MD",
            "MA",
            "MI",
            "MN",
            "MO",
            "NE",
            "NV",
            "NH",
            "NJ",
            "NM",
            "NY",
            "NC",
            "OH",
            "OK",
            "OR",
            "PA",
            "RI",
            "SC",
            "SD",
            "TN",
            "TX",
            "UT",
            "VA",
            "WA",
            "WI",
            "WY"
           ],
           "name": "Stout",
           "showlegend": true,
           "showscale": false,
           "type": "choropleth",
           "z": [
            1,
            1,
            1,
            1,
            1,
            1,
            1,
            1,
            1,
            1,
            1,
            1,
            1,
            1,
            1,
            1,
            1,
            1,
            1,
            1,
            1,
            1,
            1,
            1,
            1,
            1,
            1,
            1,
            1,
            1,
            1,
            1,
            1,
            1,
            1,
            1,
            1,
            1,
            1,
            1,
            1,
            1
           ]
          },
          {
           "colorscale": [
            [
             0,
             "#636EFA"
            ],
            [
             1,
             "#636EFA"
            ]
           ],
           "customdata": [
            [
             "IPA",
             4.2422718808193665,
             "2013"
            ],
            [
             "IPA",
             3.9745999999999997,
             "2013"
            ]
           ],
           "geo": "geo",
           "hovertemplate": "<b>%{hovertext}</b><br><br>beer_style=%{customdata[0]}<br>state=%{location}<br>ratings=%{customdata[1]}<extra></extra>",
           "hovertext": [
            "VT",
            "WV"
           ],
           "locationmode": "USA-states",
           "locations": [
            "VT",
            "WV"
           ],
           "name": "IPA",
           "showlegend": true,
           "showscale": false,
           "type": "choropleth",
           "z": [
            1,
            1
           ]
          },
          {
           "colorscale": [
            [
             0,
             "#00CC96"
            ],
            [
             1,
             "#00CC96"
            ]
           ],
           "customdata": [
            [
             "Porter",
             4.31,
             "2013"
            ],
            [
             "Porter",
             3.9769999999999994,
             "2013"
            ],
            [
             "Porter",
             4.0438888888888895,
             "2013"
            ],
            [
             "Porter",
             4.057428571428571,
             "2013"
            ],
            [
             "Porter",
             4.08578947368421,
             "2013"
            ]
           ],
           "geo": "geo",
           "hovertemplate": "<b>%{hovertext}</b><br><br>beer_style=%{customdata[0]}<br>state=%{location}<br>ratings=%{customdata[1]}<extra></extra>",
           "hovertext": [
            "AK",
            "IA",
            "KS",
            "MS",
            "MT"
           ],
           "locationmode": "USA-states",
           "locations": [
            "AK",
            "IA",
            "KS",
            "MS",
            "MT"
           ],
           "name": "Porter",
           "showlegend": true,
           "showscale": false,
           "type": "choropleth",
           "z": [
            1,
            1,
            1,
            1,
            1
           ]
          },
          {
           "colorscale": [
            [
             0,
             "#696969"
            ],
            [
             1,
             "#696969"
            ]
           ],
           "customdata": [
            [
             "Pale Ale",
             4.28,
             "2013"
            ]
           ],
           "geo": "geo",
           "hovertemplate": "<b>%{hovertext}</b><br><br>beer_style=%{customdata[0]}<br>state=%{location}<br>ratings=%{customdata[1]}<extra></extra>",
           "hovertext": [
            "ND"
           ],
           "locationmode": "USA-states",
           "locations": [
            "ND"
           ],
           "name": "Pale Ale",
           "showlegend": true,
           "showscale": false,
           "type": "choropleth",
           "z": [
            1
           ]
          }
         ],
         "name": "2013"
        },
        {
         "data": [
          {
           "colorscale": [
            [
             0,
             "#EF553B"
            ],
            [
             1,
             "#EF553B"
            ]
           ],
           "customdata": [
            [
             "Stout",
             4.137783783783783,
             "2014"
            ],
            [
             "Stout",
             4.126126315789474,
             "2014"
            ],
            [
             "Stout",
             4.022046384720327,
             "2014"
            ],
            [
             "Stout",
             4.094172661870504,
             "2014"
            ],
            [
             "Stout",
             4.266056338028169,
             "2014"
            ],
            [
             "Stout",
             4.059597402597403,
             "2014"
            ],
            [
             "Stout",
             4.107424547283703,
             "2014"
            ],
            [
             "Stout",
             4.524,
             "2014"
            ],
            [
             "Stout",
             4.17274981765135,
             "2014"
            ],
            [
             "Stout",
             4.183072033898306,
             "2014"
            ],
            [
             "Stout",
             4.130952380952381,
             "2014"
            ],
            [
             "Stout",
             4.113828306264501,
             "2014"
            ],
            [
             "Stout",
             4.113471074380166,
             "2014"
            ],
            [
             "Stout",
             4.107456140350878,
             "2014"
            ],
            [
             "Stout",
             4.026613995485327,
             "2014"
            ],
            [
             "Stout",
             4.084672,
             "2014"
            ],
            [
             "Stout",
             4.08332,
             "2014"
            ],
            [
             "Stout",
             4.080366088631985,
             "2014"
            ],
            [
             "Stout",
             4.185041551246537,
             "2014"
            ],
            [
             "Stout",
             4.258351648351648,
             "2014"
            ],
            [
             "Stout",
             4.22927536231884,
             "2014"
            ],
            [
             "Stout",
             4.08193661971831,
             "2014"
            ],
            [
             "Stout",
             4.071508474576271,
             "2014"
            ],
            [
             "Stout",
             4.131526717557252,
             "2014"
            ],
            [
             "Stout",
             4.113042596348884,
             "2014"
            ],
            [
             "Stout",
             4.124044233807267,
             "2014"
            ],
            [
             "Stout",
             4.125625,
             "2014"
            ],
            [
             "Stout",
             4.224634146341463,
             "2014"
            ],
            [
             "Stout",
             4.084871794871795,
             "2014"
            ],
            [
             "Stout",
             4.028016019716574,
             "2014"
            ],
            [
             "Stout",
             4.115109489051095,
             "2014"
            ],
            [
             "Stout",
             4.026111111111111,
             "2014"
            ],
            [
             "Stout",
             4.314615384615385,
             "2014"
            ],
            [
             "Stout",
             4.128613861386139,
             "2014"
            ],
            [
             "Stout",
             4.126522327469553,
             "2014"
            ],
            [
             "Stout",
             4.279621212121212,
             "2014"
            ],
            [
             "Stout",
             4.053222222222223,
             "2014"
            ],
            [
             "Stout",
             4.022619047619048,
             "2014"
            ],
            [
             "Stout",
             4.145462184873949,
             "2014"
            ],
            [
             "Stout",
             4.103273322422258,
             "2014"
            ],
            [
             "Stout",
             3.9325,
             "2014"
            ]
           ],
           "geo": "geo",
           "hovertemplate": "<b>%{hovertext}</b><br><br>beer_style=%{customdata[0]}<br>state=%{location}<br>ratings=%{customdata[1]}<extra></extra>",
           "hovertext": [
            "AL",
            "CA",
            "CO",
            "CT",
            "DE",
            "FL",
            "GA",
            "HI",
            "IL",
            "IN",
            "IA",
            "KY",
            "LA",
            "ME",
            "MD",
            "MA",
            "MI",
            "MN",
            "MO",
            "NE",
            "NV",
            "NH",
            "NJ",
            "NM",
            "NY",
            "NC",
            "OH",
            "OK",
            "OR",
            "PA",
            "RI",
            "SC",
            "SD",
            "TN",
            "TX",
            "VT",
            "VA",
            "WA",
            "WV",
            "WI",
            "WY"
           ],
           "locationmode": "USA-states",
           "locations": [
            "AL",
            "CA",
            "CO",
            "CT",
            "DE",
            "FL",
            "GA",
            "HI",
            "IL",
            "IN",
            "IA",
            "KY",
            "LA",
            "ME",
            "MD",
            "MA",
            "MI",
            "MN",
            "MO",
            "NE",
            "NV",
            "NH",
            "NJ",
            "NM",
            "NY",
            "NC",
            "OH",
            "OK",
            "OR",
            "PA",
            "RI",
            "SC",
            "SD",
            "TN",
            "TX",
            "VT",
            "VA",
            "WA",
            "WV",
            "WI",
            "WY"
           ],
           "name": "Stout",
           "showlegend": true,
           "showscale": false,
           "type": "choropleth",
           "z": [
            1,
            1,
            1,
            1,
            1,
            1,
            1,
            1,
            1,
            1,
            1,
            1,
            1,
            1,
            1,
            1,
            1,
            1,
            1,
            1,
            1,
            1,
            1,
            1,
            1,
            1,
            1,
            1,
            1,
            1,
            1,
            1,
            1,
            1,
            1,
            1,
            1,
            1,
            1,
            1,
            1
           ]
          },
          {
           "colorscale": [
            [
             0,
             "#636EFA"
            ],
            [
             1,
             "#636EFA"
            ]
           ],
           "customdata": [
            [
             "IPA",
             3.8653731343283586,
             "2014"
            ],
            [
             "IPA",
             4.010140845070423,
             "2014"
            ],
            [
             "IPA",
             4.1525,
             "2014"
            ]
           ],
           "geo": "geo",
           "hovertemplate": "<b>%{hovertext}</b><br><br>beer_style=%{customdata[0]}<br>state=%{location}<br>ratings=%{customdata[1]}<extra></extra>",
           "hovertext": [
            "ID",
            "MS",
            "MT"
           ],
           "locationmode": "USA-states",
           "locations": [
            "ID",
            "MS",
            "MT"
           ],
           "name": "IPA",
           "showlegend": true,
           "showscale": false,
           "type": "choropleth",
           "z": [
            1,
            1,
            1
           ]
          },
          {
           "colorscale": [
            [
             0,
             "#00CC96"
            ],
            [
             1,
             "#00CC96"
            ]
           ],
           "customdata": [
            [
             "Porter",
             4.585,
             "2014"
            ],
            [
             "Porter",
             4.058333333333334,
             "2014"
            ],
            [
             "Porter",
             4.204444444444444,
             "2014"
            ]
           ],
           "geo": "geo",
           "hovertemplate": "<b>%{hovertext}</b><br><br>beer_style=%{customdata[0]}<br>state=%{location}<br>ratings=%{customdata[1]}<extra></extra>",
           "hovertext": [
            "AK",
            "AR",
            "KS"
           ],
           "locationmode": "USA-states",
           "locations": [
            "AK",
            "AR",
            "KS"
           ],
           "name": "Porter",
           "showlegend": true,
           "showscale": false,
           "type": "choropleth",
           "z": [
            1,
            1,
            1
           ]
          },
          {
           "colorscale": [
            [
             0,
             "#FFA15A"
            ],
            [
             1,
             "#FFA15A"
            ]
           ],
           "customdata": [
            [
             "Other Ale",
             4.072237288135593,
             "2014"
            ]
           ],
           "geo": "geo",
           "hovertemplate": "<b>%{hovertext}</b><br><br>beer_style=%{customdata[0]}<br>state=%{location}<br>ratings=%{customdata[1]}<extra></extra>",
           "hovertext": [
            "AZ"
           ],
           "locationmode": "USA-states",
           "locations": [
            "AZ"
           ],
           "name": "Other Ale",
           "showlegend": true,
           "showscale": false,
           "type": "choropleth",
           "z": [
            1
           ]
          },
          {
           "colorscale": [
            [
             0,
             "#19D3F3"
            ],
            [
             1,
             "#19D3F3"
            ]
           ],
           "customdata": [
            [
             "Red/Amber Ale",
             5,
             "2014"
            ],
            [
             "Red/Amber Ale",
             4.515,
             "2014"
            ]
           ],
           "geo": "geo",
           "hovertemplate": "<b>%{hovertext}</b><br><br>beer_style=%{customdata[0]}<br>state=%{location}<br>ratings=%{customdata[1]}<extra></extra>",
           "hovertext": [
            "ND",
            "UT"
           ],
           "locationmode": "USA-states",
           "locations": [
            "ND",
            "UT"
           ],
           "name": "Red/Amber Ale",
           "showlegend": true,
           "showscale": false,
           "type": "choropleth",
           "z": [
            1,
            1
           ]
          }
         ],
         "name": "2014"
        },
        {
         "data": [
          {
           "colorscale": [
            [
             0,
             "#EF553B"
            ],
            [
             1,
             "#EF553B"
            ]
           ],
           "customdata": [
            [
             "Stout",
             4.286808510638298,
             "2015"
            ],
            [
             "Stout",
             4.158051282051282,
             "2015"
            ],
            [
             "Stout",
             4.103858267716535,
             "2015"
            ],
            [
             "Stout",
             4.1667757210503655,
             "2015"
            ],
            [
             "Stout",
             4.092380368098159,
             "2015"
            ],
            [
             "Stout",
             4.163029612756264,
             "2015"
            ],
            [
             "Stout",
             4.263690476190476,
             "2015"
            ],
            [
             "Stout",
             4.139883495145631,
             "2015"
            ],
            [
             "Stout",
             4.162752293577982,
             "2015"
            ],
            [
             "Stout",
             4.093928571428571,
             "2015"
            ],
            [
             "Stout",
             3.9326126126126124,
             "2015"
            ],
            [
             "Stout",
             4.177962085308057,
             "2015"
            ],
            [
             "Stout",
             4.125311077389985,
             "2015"
            ],
            [
             "Stout",
             4.297004219409283,
             "2015"
            ],
            [
             "Stout",
             4.12368,
             "2015"
            ],
            [
             "Stout",
             4.173363228699551,
             "2015"
            ],
            [
             "Stout",
             4.218962264150943,
             "2015"
            ],
            [
             "Stout",
             4.124553264604811,
             "2015"
            ],
            [
             "Stout",
             4.1506430446194225,
             "2015"
            ],
            [
             "Stout",
             4.137858472998138,
             "2015"
            ],
            [
             "Stout",
             4.196156501726122,
             "2015"
            ],
            [
             "Stout",
             4.142480857580398,
             "2015"
            ],
            [
             "Stout",
             4.187307692307693,
             "2015"
            ],
            [
             "Stout",
             4.176363636363636,
             "2015"
            ],
            [
             "Stout",
             3.872109375,
             "2015"
            ],
            [
             "Stout",
             4.131743929359824,
             "2015"
            ],
            [
             "Stout",
             4.1878431372549025,
             "2015"
            ],
            [
             "Stout",
             4.115536723163842,
             "2015"
            ],
            [
             "Stout",
             4.1369473140495865,
             "2015"
            ],
            [
             "Stout",
             4.194954248366013,
             "2015"
            ],
            [
             "Stout",
             4.75,
             "2015"
            ],
            [
             "Stout",
             4.177237790232185,
             "2015"
            ],
            [
             "Stout",
             4.035733333333334,
             "2015"
            ],
            [
             "Stout",
             4.097537313432836,
             "2015"
            ],
            [
             "Stout",
             4.035079635949943,
             "2015"
            ],
            [
             "Stout",
             4.2305,
             "2015"
            ],
            [
             "Stout",
             4.013894472361809,
             "2015"
            ],
            [
             "Stout",
             4.474482758620689,
             "2015"
            ],
            [
             "Stout",
             4.22544,
             "2015"
            ],
            [
             "Stout",
             4.119494470774091,
             "2015"
            ],
            [
             "Stout",
             4.2170000000000005,
             "2015"
            ],
            [
             "Stout",
             4.0829029304029305,
             "2015"
            ],
            [
             "Stout",
             4.06480572597137,
             "2015"
            ],
            [
             "Stout",
             4.197857142857142,
             "2015"
            ],
            [
             "Stout",
             4.163754469606674,
             "2015"
            ],
            [
             "Stout",
             4.0890625,
             "2015"
            ]
           ],
           "geo": "geo",
           "hovertemplate": "<b>%{hovertext}</b><br><br>beer_style=%{customdata[0]}<br>state=%{location}<br>ratings=%{customdata[1]}<extra></extra>",
           "hovertext": [
            "AL",
            "AZ",
            "AR",
            "CA",
            "CO",
            "CT",
            "DE",
            "FL",
            "GA",
            "HI",
            "ID",
            "IL",
            "IN",
            "IA",
            "KY",
            "LA",
            "ME",
            "MD",
            "MA",
            "MI",
            "MN",
            "MO",
            "MT",
            "NE",
            "NV",
            "NH",
            "NJ",
            "NM",
            "NY",
            "NC",
            "ND",
            "OH",
            "OK",
            "OR",
            "PA",
            "RI",
            "SC",
            "SD",
            "TN",
            "TX",
            "UT",
            "VA",
            "WA",
            "WV",
            "WI",
            "WY"
           ],
           "locationmode": "USA-states",
           "locations": [
            "AL",
            "AZ",
            "AR",
            "CA",
            "CO",
            "CT",
            "DE",
            "FL",
            "GA",
            "HI",
            "ID",
            "IL",
            "IN",
            "IA",
            "KY",
            "LA",
            "ME",
            "MD",
            "MA",
            "MI",
            "MN",
            "MO",
            "MT",
            "NE",
            "NV",
            "NH",
            "NJ",
            "NM",
            "NY",
            "NC",
            "ND",
            "OH",
            "OK",
            "OR",
            "PA",
            "RI",
            "SC",
            "SD",
            "TN",
            "TX",
            "UT",
            "VA",
            "WA",
            "WV",
            "WI",
            "WY"
           ],
           "name": "Stout",
           "showlegend": true,
           "showscale": false,
           "type": "choropleth",
           "z": [
            1,
            1,
            1,
            1,
            1,
            1,
            1,
            1,
            1,
            1,
            1,
            1,
            1,
            1,
            1,
            1,
            1,
            1,
            1,
            1,
            1,
            1,
            1,
            1,
            1,
            1,
            1,
            1,
            1,
            1,
            1,
            1,
            1,
            1,
            1,
            1,
            1,
            1,
            1,
            1,
            1,
            1,
            1,
            1,
            1,
            1
           ]
          },
          {
           "colorscale": [
            [
             0,
             "#636EFA"
            ],
            [
             1,
             "#636EFA"
            ]
           ],
           "customdata": [
            [
             "IPA",
             4.0215966386554625,
             "2015"
            ],
            [
             "IPA",
             4.052481203007519,
             "2015"
            ],
            [
             "IPA",
             4.196129032258065,
             "2015"
            ]
           ],
           "geo": "geo",
           "hovertemplate": "<b>%{hovertext}</b><br><br>beer_style=%{customdata[0]}<br>state=%{location}<br>ratings=%{customdata[1]}<extra></extra>",
           "hovertext": [
            "KS",
            "MS",
            "VT"
           ],
           "locationmode": "USA-states",
           "locations": [
            "KS",
            "MS",
            "VT"
           ],
           "name": "IPA",
           "showlegend": true,
           "showscale": false,
           "type": "choropleth",
           "z": [
            1,
            1,
            1
           ]
          },
          {
           "colorscale": [
            [
             0,
             "#00CC96"
            ],
            [
             1,
             "#00CC96"
            ]
           ],
           "customdata": [
            [
             "Porter",
             4.263999999999999,
             "2015"
            ]
           ],
           "geo": "geo",
           "hovertemplate": "<b>%{hovertext}</b><br><br>beer_style=%{customdata[0]}<br>state=%{location}<br>ratings=%{customdata[1]}<extra></extra>",
           "hovertext": [
            "AK"
           ],
           "locationmode": "USA-states",
           "locations": [
            "AK"
           ],
           "name": "Porter",
           "showlegend": true,
           "showscale": false,
           "type": "choropleth",
           "z": [
            1
           ]
          }
         ],
         "name": "2015"
        },
        {
         "data": [
          {
           "colorscale": [
            [
             0,
             "#EF553B"
            ],
            [
             1,
             "#EF553B"
            ]
           ],
           "customdata": [
            [
             "Stout",
             4.1865517241379315,
             "2016"
            ],
            [
             "Stout",
             4.287741935483871,
             "2016"
            ],
            [
             "Stout",
             4.265,
             "2016"
            ],
            [
             "Stout",
             4.042857142857143,
             "2016"
            ],
            [
             "Stout",
             4.2230506666666665,
             "2016"
            ],
            [
             "Stout",
             4.114859375,
             "2016"
            ],
            [
             "Stout",
             4.2116326530612245,
             "2016"
            ],
            [
             "Stout",
             4.32015873015873,
             "2016"
            ],
            [
             "Stout",
             4.167335766423357,
             "2016"
            ],
            [
             "Stout",
             4.182108013937283,
             "2016"
            ],
            [
             "Stout",
             3.9395652173913045,
             "2016"
            ],
            [
             "Stout",
             3.8231981981981984,
             "2016"
            ],
            [
             "Stout",
             4.242601585728444,
             "2016"
            ],
            [
             "Stout",
             4.177561904761904,
             "2016"
            ],
            [
             "Stout",
             4.285839160839161,
             "2016"
            ],
            [
             "Stout",
             4.071935483870968,
             "2016"
            ],
            [
             "Stout",
             4.147399103139014,
             "2016"
            ],
            [
             "Stout",
             4.244700854700855,
             "2016"
            ],
            [
             "Stout",
             4.182458100558659,
             "2016"
            ],
            [
             "Stout",
             4.111073170731707,
             "2016"
            ],
            [
             "Stout",
             4.233140385894877,
             "2016"
            ],
            [
             "Stout",
             4.133759920634921,
             "2016"
            ],
            [
             "Stout",
             4.140876404494382,
             "2016"
            ],
            [
             "Stout",
             4.066323529411765,
             "2016"
            ],
            [
             "Stout",
             4.1848771021992235,
             "2016"
            ],
            [
             "Stout",
             4.142432432432432,
             "2016"
            ],
            [
             "Stout",
             4.394044943820225,
             "2016"
            ],
            [
             "Stout",
             3.8883911671924287,
             "2016"
            ],
            [
             "Stout",
             4.121223628691983,
             "2016"
            ],
            [
             "Stout",
             4.151932989690722,
             "2016"
            ],
            [
             "Stout",
             4.071694915254237,
             "2016"
            ],
            [
             "Stout",
             4.16021913415286,
             "2016"
            ],
            [
             "Stout",
             4.181333333333333,
             "2016"
            ],
            [
             "Stout",
             4.122026708562451,
             "2016"
            ],
            [
             "Stout",
             4.112727272727272,
             "2016"
            ],
            [
             "Stout",
             4.164586466165414,
             "2016"
            ],
            [
             "Stout",
             4.086996507566938,
             "2016"
            ],
            [
             "Stout",
             4.074095860566449,
             "2016"
            ],
            [
             "Stout",
             4.2192,
             "2016"
            ],
            [
             "Stout",
             4.181647727272727,
             "2016"
            ],
            [
             "Stout",
             4.1600696257615315,
             "2016"
            ],
            [
             "Stout",
             4.277894736842105,
             "2016"
            ],
            [
             "Stout",
             4.133732097725358,
             "2016"
            ],
            [
             "Stout",
             4.133556581986143,
             "2016"
            ],
            [
             "Stout",
             4.197666666666667,
             "2016"
            ],
            [
             "Stout",
             4.166407766990291,
             "2016"
            ],
            [
             "Stout",
             4.188918918918919,
             "2016"
            ]
           ],
           "geo": "geo",
           "hovertemplate": "<b>%{hovertext}</b><br><br>beer_style=%{customdata[0]}<br>state=%{location}<br>ratings=%{customdata[1]}<extra></extra>",
           "hovertext": [
            "AL",
            "AK",
            "AZ",
            "AR",
            "CA",
            "CO",
            "CT",
            "DE",
            "FL",
            "GA",
            "HI",
            "ID",
            "IL",
            "IN",
            "IA",
            "KS",
            "KY",
            "LA",
            "ME",
            "MD",
            "MA",
            "MI",
            "MN",
            "MS",
            "MO",
            "MT",
            "NE",
            "NV",
            "NH",
            "NJ",
            "NM",
            "NY",
            "NC",
            "OH",
            "OK",
            "OR",
            "PA",
            "SC",
            "SD",
            "TN",
            "TX",
            "VT",
            "VA",
            "WA",
            "WV",
            "WI",
            "WY"
           ],
           "locationmode": "USA-states",
           "locations": [
            "AL",
            "AK",
            "AZ",
            "AR",
            "CA",
            "CO",
            "CT",
            "DE",
            "FL",
            "GA",
            "HI",
            "ID",
            "IL",
            "IN",
            "IA",
            "KS",
            "KY",
            "LA",
            "ME",
            "MD",
            "MA",
            "MI",
            "MN",
            "MS",
            "MO",
            "MT",
            "NE",
            "NV",
            "NH",
            "NJ",
            "NM",
            "NY",
            "NC",
            "OH",
            "OK",
            "OR",
            "PA",
            "SC",
            "SD",
            "TN",
            "TX",
            "VT",
            "VA",
            "WA",
            "WV",
            "WI",
            "WY"
           ],
           "name": "Stout",
           "showlegend": true,
           "showscale": false,
           "type": "choropleth",
           "z": [
            1,
            1,
            1,
            1,
            1,
            1,
            1,
            1,
            1,
            1,
            1,
            1,
            1,
            1,
            1,
            1,
            1,
            1,
            1,
            1,
            1,
            1,
            1,
            1,
            1,
            1,
            1,
            1,
            1,
            1,
            1,
            1,
            1,
            1,
            1,
            1,
            1,
            1,
            1,
            1,
            1,
            1,
            1,
            1,
            1,
            1,
            1
           ]
          },
          {
           "colorscale": [
            [
             0,
             "#636EFA"
            ],
            [
             1,
             "#636EFA"
            ]
           ],
           "customdata": [
            [
             "IPA",
             4.096547987616099,
             "2016"
            ]
           ],
           "geo": "geo",
           "hovertemplate": "<b>%{hovertext}</b><br><br>beer_style=%{customdata[0]}<br>state=%{location}<br>ratings=%{customdata[1]}<extra></extra>",
           "hovertext": [
            "RI"
           ],
           "locationmode": "USA-states",
           "locations": [
            "RI"
           ],
           "name": "IPA",
           "showlegend": true,
           "showscale": false,
           "type": "choropleth",
           "z": [
            1
           ]
          },
          {
           "colorscale": [
            [
             0,
             "#00CC96"
            ],
            [
             1,
             "#00CC96"
            ]
           ],
           "customdata": [
            [
             "Porter",
             4.6899999999999995,
             "2016"
            ],
            [
             "Porter",
             4.16,
             "2016"
            ]
           ],
           "geo": "geo",
           "hovertemplate": "<b>%{hovertext}</b><br><br>beer_style=%{customdata[0]}<br>state=%{location}<br>ratings=%{customdata[1]}<extra></extra>",
           "hovertext": [
            "ND",
            "UT"
           ],
           "locationmode": "USA-states",
           "locations": [
            "ND",
            "UT"
           ],
           "name": "Porter",
           "showlegend": true,
           "showscale": false,
           "type": "choropleth",
           "z": [
            1,
            1
           ]
          }
         ],
         "name": "2016"
        }
       ],
       "layout": {
        "geo": {
         "center": {},
         "domain": {
          "x": [
           0,
           1
          ],
          "y": [
           0,
           1
          ]
         },
         "scope": "usa"
        },
        "legend": {
         "title": {
          "text": "beer_style"
         },
         "tracegroupgap": 0,
         "x": 1.02,
         "xanchor": "left",
         "y": 1,
         "yanchor": "top"
        },
        "sliders": [
         {
          "active": 0,
          "currentvalue": {
           "prefix": "years="
          },
          "len": 0.9,
          "pad": {
           "b": 10,
           "t": 60
          },
          "steps": [
           {
            "args": [
             [
              "2004"
             ],
             {
              "frame": {
               "duration": 0,
               "redraw": true
              },
              "fromcurrent": true,
              "mode": "immediate",
              "transition": {
               "duration": 0,
               "easing": "linear"
              }
             }
            ],
            "label": "2004",
            "method": "animate"
           },
           {
            "args": [
             [
              "2005"
             ],
             {
              "frame": {
               "duration": 0,
               "redraw": true
              },
              "fromcurrent": true,
              "mode": "immediate",
              "transition": {
               "duration": 0,
               "easing": "linear"
              }
             }
            ],
            "label": "2005",
            "method": "animate"
           },
           {
            "args": [
             [
              "2006"
             ],
             {
              "frame": {
               "duration": 0,
               "redraw": true
              },
              "fromcurrent": true,
              "mode": "immediate",
              "transition": {
               "duration": 0,
               "easing": "linear"
              }
             }
            ],
            "label": "2006",
            "method": "animate"
           },
           {
            "args": [
             [
              "2007"
             ],
             {
              "frame": {
               "duration": 0,
               "redraw": true
              },
              "fromcurrent": true,
              "mode": "immediate",
              "transition": {
               "duration": 0,
               "easing": "linear"
              }
             }
            ],
            "label": "2007",
            "method": "animate"
           },
           {
            "args": [
             [
              "2008"
             ],
             {
              "frame": {
               "duration": 0,
               "redraw": true
              },
              "fromcurrent": true,
              "mode": "immediate",
              "transition": {
               "duration": 0,
               "easing": "linear"
              }
             }
            ],
            "label": "2008",
            "method": "animate"
           },
           {
            "args": [
             [
              "2009"
             ],
             {
              "frame": {
               "duration": 0,
               "redraw": true
              },
              "fromcurrent": true,
              "mode": "immediate",
              "transition": {
               "duration": 0,
               "easing": "linear"
              }
             }
            ],
            "label": "2009",
            "method": "animate"
           },
           {
            "args": [
             [
              "2010"
             ],
             {
              "frame": {
               "duration": 0,
               "redraw": true
              },
              "fromcurrent": true,
              "mode": "immediate",
              "transition": {
               "duration": 0,
               "easing": "linear"
              }
             }
            ],
            "label": "2010",
            "method": "animate"
           },
           {
            "args": [
             [
              "2011"
             ],
             {
              "frame": {
               "duration": 0,
               "redraw": true
              },
              "fromcurrent": true,
              "mode": "immediate",
              "transition": {
               "duration": 0,
               "easing": "linear"
              }
             }
            ],
            "label": "2011",
            "method": "animate"
           },
           {
            "args": [
             [
              "2012"
             ],
             {
              "frame": {
               "duration": 0,
               "redraw": true
              },
              "fromcurrent": true,
              "mode": "immediate",
              "transition": {
               "duration": 0,
               "easing": "linear"
              }
             }
            ],
            "label": "2012",
            "method": "animate"
           },
           {
            "args": [
             [
              "2013"
             ],
             {
              "frame": {
               "duration": 0,
               "redraw": true
              },
              "fromcurrent": true,
              "mode": "immediate",
              "transition": {
               "duration": 0,
               "easing": "linear"
              }
             }
            ],
            "label": "2013",
            "method": "animate"
           },
           {
            "args": [
             [
              "2014"
             ],
             {
              "frame": {
               "duration": 0,
               "redraw": true
              },
              "fromcurrent": true,
              "mode": "immediate",
              "transition": {
               "duration": 0,
               "easing": "linear"
              }
             }
            ],
            "label": "2014",
            "method": "animate"
           },
           {
            "args": [
             [
              "2015"
             ],
             {
              "frame": {
               "duration": 0,
               "redraw": true
              },
              "fromcurrent": true,
              "mode": "immediate",
              "transition": {
               "duration": 0,
               "easing": "linear"
              }
             }
            ],
            "label": "2015",
            "method": "animate"
           },
           {
            "args": [
             [
              "2016"
             ],
             {
              "frame": {
               "duration": 0,
               "redraw": true
              },
              "fromcurrent": true,
              "mode": "immediate",
              "transition": {
               "duration": 0,
               "easing": "linear"
              }
             }
            ],
            "label": "2016",
            "method": "animate"
           }
          ],
          "x": 0.1,
          "xanchor": "left",
          "y": 0,
          "yanchor": "top"
         }
        ],
        "template": {
         "data": {
          "bar": [
           {
            "error_x": {
             "color": "#2a3f5f"
            },
            "error_y": {
             "color": "#2a3f5f"
            },
            "marker": {
             "line": {
              "color": "#E5ECF6",
              "width": 0.5
             },
             "pattern": {
              "fillmode": "overlay",
              "size": 10,
              "solidity": 0.2
             }
            },
            "type": "bar"
           }
          ],
          "barpolar": [
           {
            "marker": {
             "line": {
              "color": "#E5ECF6",
              "width": 0.5
             },
             "pattern": {
              "fillmode": "overlay",
              "size": 10,
              "solidity": 0.2
             }
            },
            "type": "barpolar"
           }
          ],
          "carpet": [
           {
            "aaxis": {
             "endlinecolor": "#2a3f5f",
             "gridcolor": "white",
             "linecolor": "white",
             "minorgridcolor": "white",
             "startlinecolor": "#2a3f5f"
            },
            "baxis": {
             "endlinecolor": "#2a3f5f",
             "gridcolor": "white",
             "linecolor": "white",
             "minorgridcolor": "white",
             "startlinecolor": "#2a3f5f"
            },
            "type": "carpet"
           }
          ],
          "choropleth": [
           {
            "colorbar": {
             "outlinewidth": 0,
             "ticks": ""
            },
            "type": "choropleth"
           }
          ],
          "contour": [
           {
            "colorbar": {
             "outlinewidth": 0,
             "ticks": ""
            },
            "colorscale": [
             [
              0,
              "#0d0887"
             ],
             [
              0.1111111111111111,
              "#46039f"
             ],
             [
              0.2222222222222222,
              "#7201a8"
             ],
             [
              0.3333333333333333,
              "#9c179e"
             ],
             [
              0.4444444444444444,
              "#bd3786"
             ],
             [
              0.5555555555555556,
              "#d8576b"
             ],
             [
              0.6666666666666666,
              "#ed7953"
             ],
             [
              0.7777777777777778,
              "#fb9f3a"
             ],
             [
              0.8888888888888888,
              "#fdca26"
             ],
             [
              1,
              "#f0f921"
             ]
            ],
            "type": "contour"
           }
          ],
          "contourcarpet": [
           {
            "colorbar": {
             "outlinewidth": 0,
             "ticks": ""
            },
            "type": "contourcarpet"
           }
          ],
          "heatmap": [
           {
            "colorbar": {
             "outlinewidth": 0,
             "ticks": ""
            },
            "colorscale": [
             [
              0,
              "#0d0887"
             ],
             [
              0.1111111111111111,
              "#46039f"
             ],
             [
              0.2222222222222222,
              "#7201a8"
             ],
             [
              0.3333333333333333,
              "#9c179e"
             ],
             [
              0.4444444444444444,
              "#bd3786"
             ],
             [
              0.5555555555555556,
              "#d8576b"
             ],
             [
              0.6666666666666666,
              "#ed7953"
             ],
             [
              0.7777777777777778,
              "#fb9f3a"
             ],
             [
              0.8888888888888888,
              "#fdca26"
             ],
             [
              1,
              "#f0f921"
             ]
            ],
            "type": "heatmap"
           }
          ],
          "heatmapgl": [
           {
            "colorbar": {
             "outlinewidth": 0,
             "ticks": ""
            },
            "colorscale": [
             [
              0,
              "#0d0887"
             ],
             [
              0.1111111111111111,
              "#46039f"
             ],
             [
              0.2222222222222222,
              "#7201a8"
             ],
             [
              0.3333333333333333,
              "#9c179e"
             ],
             [
              0.4444444444444444,
              "#bd3786"
             ],
             [
              0.5555555555555556,
              "#d8576b"
             ],
             [
              0.6666666666666666,
              "#ed7953"
             ],
             [
              0.7777777777777778,
              "#fb9f3a"
             ],
             [
              0.8888888888888888,
              "#fdca26"
             ],
             [
              1,
              "#f0f921"
             ]
            ],
            "type": "heatmapgl"
           }
          ],
          "histogram": [
           {
            "marker": {
             "pattern": {
              "fillmode": "overlay",
              "size": 10,
              "solidity": 0.2
             }
            },
            "type": "histogram"
           }
          ],
          "histogram2d": [
           {
            "colorbar": {
             "outlinewidth": 0,
             "ticks": ""
            },
            "colorscale": [
             [
              0,
              "#0d0887"
             ],
             [
              0.1111111111111111,
              "#46039f"
             ],
             [
              0.2222222222222222,
              "#7201a8"
             ],
             [
              0.3333333333333333,
              "#9c179e"
             ],
             [
              0.4444444444444444,
              "#bd3786"
             ],
             [
              0.5555555555555556,
              "#d8576b"
             ],
             [
              0.6666666666666666,
              "#ed7953"
             ],
             [
              0.7777777777777778,
              "#fb9f3a"
             ],
             [
              0.8888888888888888,
              "#fdca26"
             ],
             [
              1,
              "#f0f921"
             ]
            ],
            "type": "histogram2d"
           }
          ],
          "histogram2dcontour": [
           {
            "colorbar": {
             "outlinewidth": 0,
             "ticks": ""
            },
            "colorscale": [
             [
              0,
              "#0d0887"
             ],
             [
              0.1111111111111111,
              "#46039f"
             ],
             [
              0.2222222222222222,
              "#7201a8"
             ],
             [
              0.3333333333333333,
              "#9c179e"
             ],
             [
              0.4444444444444444,
              "#bd3786"
             ],
             [
              0.5555555555555556,
              "#d8576b"
             ],
             [
              0.6666666666666666,
              "#ed7953"
             ],
             [
              0.7777777777777778,
              "#fb9f3a"
             ],
             [
              0.8888888888888888,
              "#fdca26"
             ],
             [
              1,
              "#f0f921"
             ]
            ],
            "type": "histogram2dcontour"
           }
          ],
          "mesh3d": [
           {
            "colorbar": {
             "outlinewidth": 0,
             "ticks": ""
            },
            "type": "mesh3d"
           }
          ],
          "parcoords": [
           {
            "line": {
             "colorbar": {
              "outlinewidth": 0,
              "ticks": ""
             }
            },
            "type": "parcoords"
           }
          ],
          "pie": [
           {
            "automargin": true,
            "type": "pie"
           }
          ],
          "scatter": [
           {
            "fillpattern": {
             "fillmode": "overlay",
             "size": 10,
             "solidity": 0.2
            },
            "type": "scatter"
           }
          ],
          "scatter3d": [
           {
            "line": {
             "colorbar": {
              "outlinewidth": 0,
              "ticks": ""
             }
            },
            "marker": {
             "colorbar": {
              "outlinewidth": 0,
              "ticks": ""
             }
            },
            "type": "scatter3d"
           }
          ],
          "scattercarpet": [
           {
            "marker": {
             "colorbar": {
              "outlinewidth": 0,
              "ticks": ""
             }
            },
            "type": "scattercarpet"
           }
          ],
          "scattergeo": [
           {
            "marker": {
             "colorbar": {
              "outlinewidth": 0,
              "ticks": ""
             }
            },
            "type": "scattergeo"
           }
          ],
          "scattergl": [
           {
            "marker": {
             "colorbar": {
              "outlinewidth": 0,
              "ticks": ""
             }
            },
            "type": "scattergl"
           }
          ],
          "scattermapbox": [
           {
            "marker": {
             "colorbar": {
              "outlinewidth": 0,
              "ticks": ""
             }
            },
            "type": "scattermapbox"
           }
          ],
          "scatterpolar": [
           {
            "marker": {
             "colorbar": {
              "outlinewidth": 0,
              "ticks": ""
             }
            },
            "type": "scatterpolar"
           }
          ],
          "scatterpolargl": [
           {
            "marker": {
             "colorbar": {
              "outlinewidth": 0,
              "ticks": ""
             }
            },
            "type": "scatterpolargl"
           }
          ],
          "scatterternary": [
           {
            "marker": {
             "colorbar": {
              "outlinewidth": 0,
              "ticks": ""
             }
            },
            "type": "scatterternary"
           }
          ],
          "surface": [
           {
            "colorbar": {
             "outlinewidth": 0,
             "ticks": ""
            },
            "colorscale": [
             [
              0,
              "#0d0887"
             ],
             [
              0.1111111111111111,
              "#46039f"
             ],
             [
              0.2222222222222222,
              "#7201a8"
             ],
             [
              0.3333333333333333,
              "#9c179e"
             ],
             [
              0.4444444444444444,
              "#bd3786"
             ],
             [
              0.5555555555555556,
              "#d8576b"
             ],
             [
              0.6666666666666666,
              "#ed7953"
             ],
             [
              0.7777777777777778,
              "#fb9f3a"
             ],
             [
              0.8888888888888888,
              "#fdca26"
             ],
             [
              1,
              "#f0f921"
             ]
            ],
            "type": "surface"
           }
          ],
          "table": [
           {
            "cells": {
             "fill": {
              "color": "#EBF0F8"
             },
             "line": {
              "color": "white"
             }
            },
            "header": {
             "fill": {
              "color": "#C8D4E3"
             },
             "line": {
              "color": "white"
             }
            },
            "type": "table"
           }
          ]
         },
         "layout": {
          "annotationdefaults": {
           "arrowcolor": "#2a3f5f",
           "arrowhead": 0,
           "arrowwidth": 1
          },
          "autotypenumbers": "strict",
          "coloraxis": {
           "colorbar": {
            "outlinewidth": 0,
            "ticks": ""
           }
          },
          "colorscale": {
           "diverging": [
            [
             0,
             "#8e0152"
            ],
            [
             0.1,
             "#c51b7d"
            ],
            [
             0.2,
             "#de77ae"
            ],
            [
             0.3,
             "#f1b6da"
            ],
            [
             0.4,
             "#fde0ef"
            ],
            [
             0.5,
             "#f7f7f7"
            ],
            [
             0.6,
             "#e6f5d0"
            ],
            [
             0.7,
             "#b8e186"
            ],
            [
             0.8,
             "#7fbc41"
            ],
            [
             0.9,
             "#4d9221"
            ],
            [
             1,
             "#276419"
            ]
           ],
           "sequential": [
            [
             0,
             "#0d0887"
            ],
            [
             0.1111111111111111,
             "#46039f"
            ],
            [
             0.2222222222222222,
             "#7201a8"
            ],
            [
             0.3333333333333333,
             "#9c179e"
            ],
            [
             0.4444444444444444,
             "#bd3786"
            ],
            [
             0.5555555555555556,
             "#d8576b"
            ],
            [
             0.6666666666666666,
             "#ed7953"
            ],
            [
             0.7777777777777778,
             "#fb9f3a"
            ],
            [
             0.8888888888888888,
             "#fdca26"
            ],
            [
             1,
             "#f0f921"
            ]
           ],
           "sequentialminus": [
            [
             0,
             "#0d0887"
            ],
            [
             0.1111111111111111,
             "#46039f"
            ],
            [
             0.2222222222222222,
             "#7201a8"
            ],
            [
             0.3333333333333333,
             "#9c179e"
            ],
            [
             0.4444444444444444,
             "#bd3786"
            ],
            [
             0.5555555555555556,
             "#d8576b"
            ],
            [
             0.6666666666666666,
             "#ed7953"
            ],
            [
             0.7777777777777778,
             "#fb9f3a"
            ],
            [
             0.8888888888888888,
             "#fdca26"
            ],
            [
             1,
             "#f0f921"
            ]
           ]
          },
          "colorway": [
           "#636efa",
           "#EF553B",
           "#00cc96",
           "#ab63fa",
           "#FFA15A",
           "#19d3f3",
           "#FF6692",
           "#B6E880",
           "#FF97FF",
           "#FECB52"
          ],
          "font": {
           "color": "#2a3f5f"
          },
          "geo": {
           "bgcolor": "white",
           "lakecolor": "white",
           "landcolor": "#E5ECF6",
           "showlakes": true,
           "showland": true,
           "subunitcolor": "white"
          },
          "hoverlabel": {
           "align": "left"
          },
          "hovermode": "closest",
          "mapbox": {
           "style": "light"
          },
          "paper_bgcolor": "white",
          "plot_bgcolor": "#E5ECF6",
          "polar": {
           "angularaxis": {
            "gridcolor": "white",
            "linecolor": "white",
            "ticks": ""
           },
           "bgcolor": "#E5ECF6",
           "radialaxis": {
            "gridcolor": "white",
            "linecolor": "white",
            "ticks": ""
           }
          },
          "scene": {
           "xaxis": {
            "backgroundcolor": "#E5ECF6",
            "gridcolor": "white",
            "gridwidth": 2,
            "linecolor": "white",
            "showbackground": true,
            "ticks": "",
            "zerolinecolor": "white"
           },
           "yaxis": {
            "backgroundcolor": "#E5ECF6",
            "gridcolor": "white",
            "gridwidth": 2,
            "linecolor": "white",
            "showbackground": true,
            "ticks": "",
            "zerolinecolor": "white"
           },
           "zaxis": {
            "backgroundcolor": "#E5ECF6",
            "gridcolor": "white",
            "gridwidth": 2,
            "linecolor": "white",
            "showbackground": true,
            "ticks": "",
            "zerolinecolor": "white"
           }
          },
          "shapedefaults": {
           "line": {
            "color": "#2a3f5f"
           }
          },
          "ternary": {
           "aaxis": {
            "gridcolor": "white",
            "linecolor": "white",
            "ticks": ""
           },
           "baxis": {
            "gridcolor": "white",
            "linecolor": "white",
            "ticks": ""
           },
           "bgcolor": "#E5ECF6",
           "caxis": {
            "gridcolor": "white",
            "linecolor": "white",
            "ticks": ""
           }
          },
          "title": {
           "x": 0.05
          },
          "xaxis": {
           "automargin": true,
           "gridcolor": "white",
           "linecolor": "white",
           "ticks": "",
           "title": {
            "standoff": 15
           },
           "zerolinecolor": "white",
           "zerolinewidth": 2
          },
          "yaxis": {
           "automargin": true,
           "gridcolor": "white",
           "linecolor": "white",
           "ticks": "",
           "title": {
            "standoff": 15
           },
           "zerolinecolor": "white",
           "zerolinewidth": 2
          }
         }
        },
        "title": {
         "text": "Favourite Beer Styles Across U.S. States"
        },
        "updatemenus": [
         {
          "buttons": [
           {
            "args": [
             null,
             {
              "frame": {
               "duration": 500,
               "redraw": true
              },
              "fromcurrent": true,
              "mode": "immediate",
              "transition": {
               "duration": 500,
               "easing": "linear"
              }
             }
            ],
            "label": "&#9654;",
            "method": "animate"
           },
           {
            "args": [
             [
              null
             ],
             {
              "frame": {
               "duration": 0,
               "redraw": true
              },
              "fromcurrent": true,
              "mode": "immediate",
              "transition": {
               "duration": 0,
               "easing": "linear"
              }
             }
            ],
            "label": "&#9724;",
            "method": "animate"
           }
          ],
          "direction": "left",
          "pad": {
           "r": 10,
           "t": 70
          },
          "showactive": false,
          "type": "buttons",
          "x": 0.1,
          "xanchor": "right",
          "y": 0,
          "yanchor": "top"
         }
        ]
       }
      }
     },
     "metadata": {},
     "output_type": "display_data"
    }
   ],
   "source": [
    "# Initialize the PlotStateMap object with already abbreviated state names\n",
    "hover_data = {\"beer_style\": True, \"ratings\": True, \"years\": False}\n",
    "state_map = plot_state_map.PlotStateMap(data_by_state=data_plot, hover_data=hover_data, animation_frame='years', title=\"Favourite Beer Styles Across U.S. States\", state_names_already_abbreviated=True, dataMetric=\"beer_style\")\n",
    "\n",
    "# Plot the map\n",
    "fig = state_map.plot_map()\n",
    "fig.write_html('fav_beer_us.html')"
   ]
  },
  {
   "cell_type": "code",
   "execution_count": 436,
   "metadata": {},
   "outputs": [
    {
     "name": "stdout",
     "output_type": "stream",
     "text": [
      "dataframe\n"
     ]
    },
    {
     "data": {
      "application/vnd.plotly.v1+json": {
       "config": {
        "plotlyServerURL": "https://plot.ly"
       },
       "data": [
        {
         "colorscale": [
          [
           0,
           "#EF553B"
          ],
          [
           1,
           "#EF553B"
          ]
         ],
         "customdata": [
          [
           "Republican",
           "AL",
           2004
          ],
          [
           "Republican",
           "OK",
           2004
          ],
          [
           "Republican",
           "ID",
           2004
          ],
          [
           "Republican",
           "TN",
           2004
          ],
          [
           "Republican",
           "IN",
           2004
          ],
          [
           "Republican",
           "OH",
           2004
          ],
          [
           "Republican",
           "KS",
           2004
          ],
          [
           "Republican",
           "ND",
           2004
          ],
          [
           "Republican",
           "KY",
           2004
          ],
          [
           "Republican",
           "LA",
           2004
          ],
          [
           "Republican",
           "VA",
           2004
          ],
          [
           "Republican",
           "NC",
           2004
          ],
          [
           "Republican",
           "NV",
           2004
          ],
          [
           "Republican",
           "UT",
           2004
          ],
          [
           "Republican",
           "NE",
           2004
          ],
          [
           "Republican",
           "MT",
           2004
          ],
          [
           "Republican",
           "MO",
           2004
          ],
          [
           "Republican",
           "WV",
           2004
          ],
          [
           "Republican",
           "NM",
           2004
          ],
          [
           "Republican",
           "TX",
           2004
          ],
          [
           "Republican",
           "MS",
           2004
          ],
          [
           "Republican",
           "GA",
           2004
          ],
          [
           "Republican",
           "IA",
           2004
          ],
          [
           "Republican",
           "AR",
           2004
          ],
          [
           "Republican",
           "WY",
           2004
          ],
          [
           "Republican",
           "SD",
           2004
          ],
          [
           "Republican",
           "CO",
           2004
          ],
          [
           "Republican",
           "AZ",
           2004
          ],
          [
           "Republican",
           "AK",
           2004
          ],
          [
           "Republican",
           "FL",
           2004
          ],
          [
           "Republican",
           "SC",
           2004
          ]
         ],
         "geo": "geo",
         "hovertemplate": "<b>%{hovertext}</b><br><br>winner=%{customdata[0]}<br>state=%{customdata[1]}<extra></extra>",
         "hovertext": [
          "AL",
          "OK",
          "ID",
          "TN",
          "IN",
          "OH",
          "KS",
          "ND",
          "KY",
          "LA",
          "VA",
          "NC",
          "NV",
          "UT",
          "NE",
          "MT",
          "MO",
          "WV",
          "NM",
          "TX",
          "MS",
          "GA",
          "IA",
          "AR",
          "WY",
          "SD",
          "CO",
          "AZ",
          "AK",
          "FL",
          "SC"
         ],
         "locationmode": "USA-states",
         "locations": [
          "AL",
          "OK",
          "ID",
          "TN",
          "IN",
          "OH",
          "KS",
          "ND",
          "KY",
          "LA",
          "VA",
          "NC",
          "NV",
          "UT",
          "NE",
          "MT",
          "MO",
          "WV",
          "NM",
          "TX",
          "MS",
          "GA",
          "IA",
          "AR",
          "WY",
          "SD",
          "CO",
          "AZ",
          "AK",
          "FL",
          "SC"
         ],
         "name": "Republican",
         "showlegend": true,
         "showscale": false,
         "type": "choropleth",
         "z": [
          1,
          1,
          1,
          1,
          1,
          1,
          1,
          1,
          1,
          1,
          1,
          1,
          1,
          1,
          1,
          1,
          1,
          1,
          1,
          1,
          1,
          1,
          1,
          1,
          1,
          1,
          1,
          1,
          1,
          1,
          1
         ]
        },
        {
         "colorscale": [
          [
           0,
           "#636EFA"
          ],
          [
           1,
           "#636EFA"
          ]
         ],
         "customdata": [
          [
           "Democrat",
           "HI",
           2004
          ],
          [
           "Democrat",
           "IL",
           2004
          ],
          [
           "Democrat",
           "WA",
           2004
          ],
          [
           "Democrat",
           "NH",
           2004
          ],
          [
           "Democrat",
           "ME",
           2004
          ],
          [
           "Democrat",
           "MD",
           2004
          ],
          [
           "Democrat",
           "NJ",
           2004
          ],
          [
           "Democrat",
           "MN",
           2004
          ],
          [
           "Democrat",
           "VT",
           2004
          ],
          [
           "Democrat",
           "NY",
           2004
          ],
          [
           "Democrat",
           "MI",
           2004
          ],
          [
           "Democrat",
           "MA",
           2004
          ],
          [
           "Democrat",
           "OR",
           2004
          ],
          [
           "Democrat",
           "WI",
           2004
          ],
          [
           "Democrat",
           "CT",
           2004
          ],
          [
           "Democrat",
           "CA",
           2004
          ],
          [
           "Democrat",
           "PA",
           2004
          ],
          [
           "Democrat",
           "DE",
           2004
          ],
          [
           "Democrat",
           "RI",
           2004
          ]
         ],
         "geo": "geo",
         "hovertemplate": "<b>%{hovertext}</b><br><br>winner=%{customdata[0]}<br>state=%{customdata[1]}<extra></extra>",
         "hovertext": [
          "HI",
          "IL",
          "WA",
          "NH",
          "ME",
          "MD",
          "NJ",
          "MN",
          "VT",
          "NY",
          "MI",
          "MA",
          "OR",
          "WI",
          "CT",
          "CA",
          "PA",
          "DE",
          "RI"
         ],
         "locationmode": "USA-states",
         "locations": [
          "HI",
          "IL",
          "WA",
          "NH",
          "ME",
          "MD",
          "NJ",
          "MN",
          "VT",
          "NY",
          "MI",
          "MA",
          "OR",
          "WI",
          "CT",
          "CA",
          "PA",
          "DE",
          "RI"
         ],
         "name": "Democrat",
         "showlegend": true,
         "showscale": false,
         "type": "choropleth",
         "z": [
          1,
          1,
          1,
          1,
          1,
          1,
          1,
          1,
          1,
          1,
          1,
          1,
          1,
          1,
          1,
          1,
          1,
          1,
          1
         ]
        }
       ],
       "frames": [
        {
         "data": [
          {
           "colorscale": [
            [
             0,
             "#EF553B"
            ],
            [
             1,
             "#EF553B"
            ]
           ],
           "customdata": [
            [
             "Republican",
             "AL",
             2004
            ],
            [
             "Republican",
             "OK",
             2004
            ],
            [
             "Republican",
             "ID",
             2004
            ],
            [
             "Republican",
             "TN",
             2004
            ],
            [
             "Republican",
             "IN",
             2004
            ],
            [
             "Republican",
             "OH",
             2004
            ],
            [
             "Republican",
             "KS",
             2004
            ],
            [
             "Republican",
             "ND",
             2004
            ],
            [
             "Republican",
             "KY",
             2004
            ],
            [
             "Republican",
             "LA",
             2004
            ],
            [
             "Republican",
             "VA",
             2004
            ],
            [
             "Republican",
             "NC",
             2004
            ],
            [
             "Republican",
             "NV",
             2004
            ],
            [
             "Republican",
             "UT",
             2004
            ],
            [
             "Republican",
             "NE",
             2004
            ],
            [
             "Republican",
             "MT",
             2004
            ],
            [
             "Republican",
             "MO",
             2004
            ],
            [
             "Republican",
             "WV",
             2004
            ],
            [
             "Republican",
             "NM",
             2004
            ],
            [
             "Republican",
             "TX",
             2004
            ],
            [
             "Republican",
             "MS",
             2004
            ],
            [
             "Republican",
             "GA",
             2004
            ],
            [
             "Republican",
             "IA",
             2004
            ],
            [
             "Republican",
             "AR",
             2004
            ],
            [
             "Republican",
             "WY",
             2004
            ],
            [
             "Republican",
             "SD",
             2004
            ],
            [
             "Republican",
             "CO",
             2004
            ],
            [
             "Republican",
             "AZ",
             2004
            ],
            [
             "Republican",
             "AK",
             2004
            ],
            [
             "Republican",
             "FL",
             2004
            ],
            [
             "Republican",
             "SC",
             2004
            ]
           ],
           "geo": "geo",
           "hovertemplate": "<b>%{hovertext}</b><br><br>winner=%{customdata[0]}<br>state=%{customdata[1]}<extra></extra>",
           "hovertext": [
            "AL",
            "OK",
            "ID",
            "TN",
            "IN",
            "OH",
            "KS",
            "ND",
            "KY",
            "LA",
            "VA",
            "NC",
            "NV",
            "UT",
            "NE",
            "MT",
            "MO",
            "WV",
            "NM",
            "TX",
            "MS",
            "GA",
            "IA",
            "AR",
            "WY",
            "SD",
            "CO",
            "AZ",
            "AK",
            "FL",
            "SC"
           ],
           "locationmode": "USA-states",
           "locations": [
            "AL",
            "OK",
            "ID",
            "TN",
            "IN",
            "OH",
            "KS",
            "ND",
            "KY",
            "LA",
            "VA",
            "NC",
            "NV",
            "UT",
            "NE",
            "MT",
            "MO",
            "WV",
            "NM",
            "TX",
            "MS",
            "GA",
            "IA",
            "AR",
            "WY",
            "SD",
            "CO",
            "AZ",
            "AK",
            "FL",
            "SC"
           ],
           "name": "Republican",
           "showlegend": true,
           "showscale": false,
           "type": "choropleth",
           "z": [
            1,
            1,
            1,
            1,
            1,
            1,
            1,
            1,
            1,
            1,
            1,
            1,
            1,
            1,
            1,
            1,
            1,
            1,
            1,
            1,
            1,
            1,
            1,
            1,
            1,
            1,
            1,
            1,
            1,
            1,
            1
           ]
          },
          {
           "colorscale": [
            [
             0,
             "#636EFA"
            ],
            [
             1,
             "#636EFA"
            ]
           ],
           "customdata": [
            [
             "Democrat",
             "HI",
             2004
            ],
            [
             "Democrat",
             "IL",
             2004
            ],
            [
             "Democrat",
             "WA",
             2004
            ],
            [
             "Democrat",
             "NH",
             2004
            ],
            [
             "Democrat",
             "ME",
             2004
            ],
            [
             "Democrat",
             "MD",
             2004
            ],
            [
             "Democrat",
             "NJ",
             2004
            ],
            [
             "Democrat",
             "MN",
             2004
            ],
            [
             "Democrat",
             "VT",
             2004
            ],
            [
             "Democrat",
             "NY",
             2004
            ],
            [
             "Democrat",
             "MI",
             2004
            ],
            [
             "Democrat",
             "MA",
             2004
            ],
            [
             "Democrat",
             "OR",
             2004
            ],
            [
             "Democrat",
             "WI",
             2004
            ],
            [
             "Democrat",
             "CT",
             2004
            ],
            [
             "Democrat",
             "CA",
             2004
            ],
            [
             "Democrat",
             "PA",
             2004
            ],
            [
             "Democrat",
             "DE",
             2004
            ],
            [
             "Democrat",
             "RI",
             2004
            ]
           ],
           "geo": "geo",
           "hovertemplate": "<b>%{hovertext}</b><br><br>winner=%{customdata[0]}<br>state=%{customdata[1]}<extra></extra>",
           "hovertext": [
            "HI",
            "IL",
            "WA",
            "NH",
            "ME",
            "MD",
            "NJ",
            "MN",
            "VT",
            "NY",
            "MI",
            "MA",
            "OR",
            "WI",
            "CT",
            "CA",
            "PA",
            "DE",
            "RI"
           ],
           "locationmode": "USA-states",
           "locations": [
            "HI",
            "IL",
            "WA",
            "NH",
            "ME",
            "MD",
            "NJ",
            "MN",
            "VT",
            "NY",
            "MI",
            "MA",
            "OR",
            "WI",
            "CT",
            "CA",
            "PA",
            "DE",
            "RI"
           ],
           "name": "Democrat",
           "showlegend": true,
           "showscale": false,
           "type": "choropleth",
           "z": [
            1,
            1,
            1,
            1,
            1,
            1,
            1,
            1,
            1,
            1,
            1,
            1,
            1,
            1,
            1,
            1,
            1,
            1,
            1
           ]
          }
         ],
         "name": "2004"
        },
        {
         "data": [
          {
           "colorscale": [
            [
             0,
             "#EF553B"
            ],
            [
             1,
             "#EF553B"
            ]
           ],
           "customdata": [
            [
             "Republican",
             "AR",
             2008
            ],
            [
             "Republican",
             "SC",
             2008
            ],
            [
             "Republican",
             "SD",
             2008
            ],
            [
             "Republican",
             "WV",
             2008
            ],
            [
             "Republican",
             "AZ",
             2008
            ],
            [
             "Republican",
             "MO",
             2008
            ],
            [
             "Republican",
             "TX",
             2008
            ],
            [
             "Republican",
             "AK",
             2008
            ],
            [
             "Republican",
             "MT",
             2008
            ],
            [
             "Republican",
             "UT",
             2008
            ],
            [
             "Republican",
             "NE",
             2008
            ],
            [
             "Republican",
             "WY",
             2008
            ],
            [
             "Republican",
             "AL",
             2008
            ],
            [
             "Republican",
             "MS",
             2008
            ],
            [
             "Republican",
             "GA",
             2008
            ],
            [
             "Republican",
             "OK",
             2008
            ],
            [
             "Republican",
             "ID",
             2008
            ],
            [
             "Republican",
             "TN",
             2008
            ],
            [
             "Republican",
             "LA",
             2008
            ],
            [
             "Republican",
             "KY",
             2008
            ],
            [
             "Republican",
             "KS",
             2008
            ],
            [
             "Republican",
             "ND",
             2008
            ]
           ],
           "geo": "geo",
           "hovertemplate": "<b>%{hovertext}</b><br><br>winner=%{customdata[0]}<br>state=%{customdata[1]}<extra></extra>",
           "hovertext": [
            "AR",
            "SC",
            "SD",
            "WV",
            "AZ",
            "MO",
            "TX",
            "AK",
            "MT",
            "UT",
            "NE",
            "WY",
            "AL",
            "MS",
            "GA",
            "OK",
            "ID",
            "TN",
            "LA",
            "KY",
            "KS",
            "ND"
           ],
           "locationmode": "USA-states",
           "locations": [
            "AR",
            "SC",
            "SD",
            "WV",
            "AZ",
            "MO",
            "TX",
            "AK",
            "MT",
            "UT",
            "NE",
            "WY",
            "AL",
            "MS",
            "GA",
            "OK",
            "ID",
            "TN",
            "LA",
            "KY",
            "KS",
            "ND"
           ],
           "name": "Republican",
           "showlegend": true,
           "showscale": false,
           "type": "choropleth",
           "z": [
            1,
            1,
            1,
            1,
            1,
            1,
            1,
            1,
            1,
            1,
            1,
            1,
            1,
            1,
            1,
            1,
            1,
            1,
            1,
            1,
            1,
            1
           ]
          },
          {
           "colorscale": [
            [
             0,
             "#636EFA"
            ],
            [
             1,
             "#636EFA"
            ]
           ],
           "customdata": [
            [
             "Democrat",
             "NY",
             2008
            ],
            [
             "Democrat",
             "MA",
             2008
            ],
            [
             "Democrat",
             "MI",
             2008
            ],
            [
             "Democrat",
             "MD",
             2008
            ],
            [
             "Democrat",
             "VT",
             2008
            ],
            [
             "Democrat",
             "RI",
             2008
            ],
            [
             "Democrat",
             "NM",
             2008
            ],
            [
             "Democrat",
             "NJ",
             2008
            ],
            [
             "Democrat",
             "NV",
             2008
            ],
            [
             "Democrat",
             "MN",
             2008
            ],
            [
             "Democrat",
             "NC",
             2008
            ],
            [
             "Democrat",
             "CA",
             2008
            ],
            [
             "Democrat",
             "FL",
             2008
            ],
            [
             "Democrat",
             "OR",
             2008
            ],
            [
             "Democrat",
             "HI",
             2008
            ],
            [
             "Democrat",
             "DE",
             2008
            ],
            [
             "Democrat",
             "IL",
             2008
            ],
            [
             "Democrat",
             "OH",
             2008
            ],
            [
             "Democrat",
             "WA",
             2008
            ],
            [
             "Democrat",
             "ME",
             2008
            ],
            [
             "Democrat",
             "CT",
             2008
            ],
            [
             "Democrat",
             "IA",
             2008
            ],
            [
             "Democrat",
             "IN",
             2008
            ],
            [
             "Democrat",
             "VA",
             2008
            ],
            [
             "Democrat",
             "WI",
             2008
            ],
            [
             "Democrat",
             "CO",
             2008
            ],
            [
             "Democrat",
             "NH",
             2008
            ],
            [
             "Democrat",
             "PA",
             2008
            ]
           ],
           "geo": "geo",
           "hovertemplate": "<b>%{hovertext}</b><br><br>winner=%{customdata[0]}<br>state=%{customdata[1]}<extra></extra>",
           "hovertext": [
            "NY",
            "MA",
            "MI",
            "MD",
            "VT",
            "RI",
            "NM",
            "NJ",
            "NV",
            "MN",
            "NC",
            "CA",
            "FL",
            "OR",
            "HI",
            "DE",
            "IL",
            "OH",
            "WA",
            "ME",
            "CT",
            "IA",
            "IN",
            "VA",
            "WI",
            "CO",
            "NH",
            "PA"
           ],
           "locationmode": "USA-states",
           "locations": [
            "NY",
            "MA",
            "MI",
            "MD",
            "VT",
            "RI",
            "NM",
            "NJ",
            "NV",
            "MN",
            "NC",
            "CA",
            "FL",
            "OR",
            "HI",
            "DE",
            "IL",
            "OH",
            "WA",
            "ME",
            "CT",
            "IA",
            "IN",
            "VA",
            "WI",
            "CO",
            "NH",
            "PA"
           ],
           "name": "Democrat",
           "showlegend": true,
           "showscale": false,
           "type": "choropleth",
           "z": [
            1,
            1,
            1,
            1,
            1,
            1,
            1,
            1,
            1,
            1,
            1,
            1,
            1,
            1,
            1,
            1,
            1,
            1,
            1,
            1,
            1,
            1,
            1,
            1,
            1,
            1,
            1,
            1
           ]
          }
         ],
         "name": "2008"
        },
        {
         "data": [
          {
           "colorscale": [
            [
             0,
             "#EF553B"
            ],
            [
             1,
             "#EF553B"
            ]
           ],
           "customdata": [
            [
             "Republican",
             "TX",
             2012
            ],
            [
             "Republican",
             "NC",
             2012
            ],
            [
             "Republican",
             "OK",
             2012
            ],
            [
             "Republican",
             "ND",
             2012
            ],
            [
             "Republican",
             "TN",
             2012
            ],
            [
             "Republican",
             "SD",
             2012
            ],
            [
             "Republican",
             "ID",
             2012
            ],
            [
             "Republican",
             "GA",
             2012
            ],
            [
             "Republican",
             "WV",
             2012
            ],
            [
             "Republican",
             "AR",
             2012
            ],
            [
             "Republican",
             "AZ",
             2012
            ],
            [
             "Republican",
             "AK",
             2012
            ],
            [
             "Republican",
             "AL",
             2012
            ],
            [
             "Republican",
             "IN",
             2012
            ],
            [
             "Republican",
             "NE",
             2012
            ],
            [
             "Republican",
             "MT",
             2012
            ],
            [
             "Republican",
             "WY",
             2012
            ],
            [
             "Republican",
             "MO",
             2012
            ],
            [
             "Republican",
             "UT",
             2012
            ],
            [
             "Republican",
             "MS",
             2012
            ],
            [
             "Republican",
             "KS",
             2012
            ],
            [
             "Republican",
             "SC",
             2012
            ],
            [
             "Republican",
             "LA",
             2012
            ],
            [
             "Republican",
             "KY",
             2012
            ]
           ],
           "geo": "geo",
           "hovertemplate": "<b>%{hovertext}</b><br><br>winner=%{customdata[0]}<br>state=%{customdata[1]}<extra></extra>",
           "hovertext": [
            "TX",
            "NC",
            "OK",
            "ND",
            "TN",
            "SD",
            "ID",
            "GA",
            "WV",
            "AR",
            "AZ",
            "AK",
            "AL",
            "IN",
            "NE",
            "MT",
            "WY",
            "MO",
            "UT",
            "MS",
            "KS",
            "SC",
            "LA",
            "KY"
           ],
           "locationmode": "USA-states",
           "locations": [
            "TX",
            "NC",
            "OK",
            "ND",
            "TN",
            "SD",
            "ID",
            "GA",
            "WV",
            "AR",
            "AZ",
            "AK",
            "AL",
            "IN",
            "NE",
            "MT",
            "WY",
            "MO",
            "UT",
            "MS",
            "KS",
            "SC",
            "LA",
            "KY"
           ],
           "name": "Republican",
           "showlegend": true,
           "showscale": false,
           "type": "choropleth",
           "z": [
            1,
            1,
            1,
            1,
            1,
            1,
            1,
            1,
            1,
            1,
            1,
            1,
            1,
            1,
            1,
            1,
            1,
            1,
            1,
            1,
            1,
            1,
            1,
            1
           ]
          },
          {
           "colorscale": [
            [
             0,
             "#636EFA"
            ],
            [
             1,
             "#636EFA"
            ]
           ],
           "customdata": [
            [
             "Democrat",
             "NH",
             2012
            ],
            [
             "Democrat",
             "PA",
             2012
            ],
            [
             "Democrat",
             "NY",
             2012
            ],
            [
             "Democrat",
             "RI",
             2012
            ],
            [
             "Democrat",
             "OH",
             2012
            ],
            [
             "Democrat",
             "NJ",
             2012
            ],
            [
             "Democrat",
             "OR",
             2012
            ],
            [
             "Democrat",
             "NM",
             2012
            ],
            [
             "Democrat",
             "VT",
             2012
            ],
            [
             "Democrat",
             "NV",
             2012
            ],
            [
             "Democrat",
             "WA",
             2012
            ],
            [
             "Democrat",
             "HI",
             2012
            ],
            [
             "Democrat",
             "FL",
             2012
            ],
            [
             "Democrat",
             "DE",
             2012
            ],
            [
             "Democrat",
             "CT",
             2012
            ],
            [
             "Democrat",
             "CO",
             2012
            ],
            [
             "Democrat",
             "CA",
             2012
            ],
            [
             "Democrat",
             "WI",
             2012
            ],
            [
             "Democrat",
             "IL",
             2012
            ],
            [
             "Democrat",
             "IA",
             2012
            ],
            [
             "Democrat",
             "MI",
             2012
            ],
            [
             "Democrat",
             "MN",
             2012
            ],
            [
             "Democrat",
             "MA",
             2012
            ],
            [
             "Democrat",
             "ME",
             2012
            ],
            [
             "Democrat",
             "VA",
             2012
            ],
            [
             "Democrat",
             "MD",
             2012
            ]
           ],
           "geo": "geo",
           "hovertemplate": "<b>%{hovertext}</b><br><br>winner=%{customdata[0]}<br>state=%{customdata[1]}<extra></extra>",
           "hovertext": [
            "NH",
            "PA",
            "NY",
            "RI",
            "OH",
            "NJ",
            "OR",
            "NM",
            "VT",
            "NV",
            "WA",
            "HI",
            "FL",
            "DE",
            "CT",
            "CO",
            "CA",
            "WI",
            "IL",
            "IA",
            "MI",
            "MN",
            "MA",
            "ME",
            "VA",
            "MD"
           ],
           "locationmode": "USA-states",
           "locations": [
            "NH",
            "PA",
            "NY",
            "RI",
            "OH",
            "NJ",
            "OR",
            "NM",
            "VT",
            "NV",
            "WA",
            "HI",
            "FL",
            "DE",
            "CT",
            "CO",
            "CA",
            "WI",
            "IL",
            "IA",
            "MI",
            "MN",
            "MA",
            "ME",
            "VA",
            "MD"
           ],
           "name": "Democrat",
           "showlegend": true,
           "showscale": false,
           "type": "choropleth",
           "z": [
            1,
            1,
            1,
            1,
            1,
            1,
            1,
            1,
            1,
            1,
            1,
            1,
            1,
            1,
            1,
            1,
            1,
            1,
            1,
            1,
            1,
            1,
            1,
            1,
            1,
            1
           ]
          }
         ],
         "name": "2012"
        },
        {
         "data": [
          {
           "colorscale": [
            [
             0,
             "#EF553B"
            ],
            [
             1,
             "#EF553B"
            ]
           ],
           "customdata": [
            [
             "Republican",
             "SD",
             2016
            ],
            [
             "Republican",
             "TN",
             2016
            ],
            [
             "Republican",
             "WV",
             2016
            ],
            [
             "Republican",
             "UT",
             2016
            ],
            [
             "Republican",
             "WI",
             2016
            ],
            [
             "Republican",
             "TX",
             2016
            ],
            [
             "Republican",
             "MO",
             2016
            ],
            [
             "Republican",
             "KS",
             2016
            ],
            [
             "Republican",
             "IA",
             2016
            ],
            [
             "Republican",
             "IN",
             2016
            ],
            [
             "Republican",
             "ID",
             2016
            ],
            [
             "Republican",
             "GA",
             2016
            ],
            [
             "Republican",
             "KY",
             2016
            ],
            [
             "Republican",
             "FL",
             2016
            ],
            [
             "Republican",
             "AR",
             2016
            ],
            [
             "Republican",
             "AZ",
             2016
            ],
            [
             "Republican",
             "AK",
             2016
            ],
            [
             "Republican",
             "AL",
             2016
            ],
            [
             "Republican",
             "LA",
             2016
            ],
            [
             "Republican",
             "PA",
             2016
            ],
            [
             "Republican",
             "OK",
             2016
            ],
            [
             "Republican",
             "OH",
             2016
            ],
            [
             "Republican",
             "ND",
             2016
            ],
            [
             "Republican",
             "NC",
             2016
            ],
            [
             "Republican",
             "NE",
             2016
            ],
            [
             "Republican",
             "MT",
             2016
            ],
            [
             "Republican",
             "MS",
             2016
            ],
            [
             "Republican",
             "MI",
             2016
            ],
            [
             "Republican",
             "SC",
             2016
            ],
            [
             "Republican",
             "WY",
             2016
            ]
           ],
           "geo": "geo",
           "hovertemplate": "<b>%{hovertext}</b><br><br>winner=%{customdata[0]}<br>state=%{customdata[1]}<extra></extra>",
           "hovertext": [
            "SD",
            "TN",
            "WV",
            "UT",
            "WI",
            "TX",
            "MO",
            "KS",
            "IA",
            "IN",
            "ID",
            "GA",
            "KY",
            "FL",
            "AR",
            "AZ",
            "AK",
            "AL",
            "LA",
            "PA",
            "OK",
            "OH",
            "ND",
            "NC",
            "NE",
            "MT",
            "MS",
            "MI",
            "SC",
            "WY"
           ],
           "locationmode": "USA-states",
           "locations": [
            "SD",
            "TN",
            "WV",
            "UT",
            "WI",
            "TX",
            "MO",
            "KS",
            "IA",
            "IN",
            "ID",
            "GA",
            "KY",
            "FL",
            "AR",
            "AZ",
            "AK",
            "AL",
            "LA",
            "PA",
            "OK",
            "OH",
            "ND",
            "NC",
            "NE",
            "MT",
            "MS",
            "MI",
            "SC",
            "WY"
           ],
           "name": "Republican",
           "showlegend": true,
           "showscale": false,
           "type": "choropleth",
           "z": [
            1,
            1,
            1,
            1,
            1,
            1,
            1,
            1,
            1,
            1,
            1,
            1,
            1,
            1,
            1,
            1,
            1,
            1,
            1,
            1,
            1,
            1,
            1,
            1,
            1,
            1,
            1,
            1,
            1,
            1
           ]
          },
          {
           "colorscale": [
            [
             0,
             "#636EFA"
            ],
            [
             1,
             "#636EFA"
            ]
           ],
           "customdata": [
            [
             "Democrat",
             "VT",
             2016
            ],
            [
             "Democrat",
             "WA",
             2016
            ],
            [
             "Democrat",
             "VA",
             2016
            ],
            [
             "Democrat",
             "RI",
             2016
            ],
            [
             "Democrat",
             "IL",
             2016
            ],
            [
             "Democrat",
             "HI",
             2016
            ],
            [
             "Democrat",
             "CT",
             2016
            ],
            [
             "Democrat",
             "CO",
             2016
            ],
            [
             "Democrat",
             "CA",
             2016
            ],
            [
             "Democrat",
             "DE",
             2016
            ],
            [
             "Democrat",
             "ME",
             2016
            ],
            [
             "Democrat",
             "MD",
             2016
            ],
            [
             "Democrat",
             "OR",
             2016
            ],
            [
             "Democrat",
             "NY",
             2016
            ],
            [
             "Democrat",
             "NM",
             2016
            ],
            [
             "Democrat",
             "NJ",
             2016
            ],
            [
             "Democrat",
             "NH",
             2016
            ],
            [
             "Democrat",
             "NV",
             2016
            ],
            [
             "Democrat",
             "MN",
             2016
            ],
            [
             "Democrat",
             "MA",
             2016
            ]
           ],
           "geo": "geo",
           "hovertemplate": "<b>%{hovertext}</b><br><br>winner=%{customdata[0]}<br>state=%{customdata[1]}<extra></extra>",
           "hovertext": [
            "VT",
            "WA",
            "VA",
            "RI",
            "IL",
            "HI",
            "CT",
            "CO",
            "CA",
            "DE",
            "ME",
            "MD",
            "OR",
            "NY",
            "NM",
            "NJ",
            "NH",
            "NV",
            "MN",
            "MA"
           ],
           "locationmode": "USA-states",
           "locations": [
            "VT",
            "WA",
            "VA",
            "RI",
            "IL",
            "HI",
            "CT",
            "CO",
            "CA",
            "DE",
            "ME",
            "MD",
            "OR",
            "NY",
            "NM",
            "NJ",
            "NH",
            "NV",
            "MN",
            "MA"
           ],
           "name": "Democrat",
           "showlegend": true,
           "showscale": false,
           "type": "choropleth",
           "z": [
            1,
            1,
            1,
            1,
            1,
            1,
            1,
            1,
            1,
            1,
            1,
            1,
            1,
            1,
            1,
            1,
            1,
            1,
            1,
            1
           ]
          }
         ],
         "name": "2016"
        }
       ],
       "layout": {
        "geo": {
         "center": {},
         "domain": {
          "x": [
           0,
           1
          ],
          "y": [
           0,
           1
          ]
         },
         "scope": "usa"
        },
        "legend": {
         "title": {
          "text": "winner"
         },
         "tracegroupgap": 0,
         "x": 1.02,
         "xanchor": "left",
         "y": 1,
         "yanchor": "top"
        },
        "sliders": [
         {
          "active": 0,
          "currentvalue": {
           "prefix": "year="
          },
          "len": 0.9,
          "pad": {
           "b": 10,
           "t": 60
          },
          "steps": [
           {
            "args": [
             [
              "2004"
             ],
             {
              "frame": {
               "duration": 0,
               "redraw": true
              },
              "fromcurrent": true,
              "mode": "immediate",
              "transition": {
               "duration": 0,
               "easing": "linear"
              }
             }
            ],
            "label": "2004",
            "method": "animate"
           },
           {
            "args": [
             [
              "2008"
             ],
             {
              "frame": {
               "duration": 0,
               "redraw": true
              },
              "fromcurrent": true,
              "mode": "immediate",
              "transition": {
               "duration": 0,
               "easing": "linear"
              }
             }
            ],
            "label": "2008",
            "method": "animate"
           },
           {
            "args": [
             [
              "2012"
             ],
             {
              "frame": {
               "duration": 0,
               "redraw": true
              },
              "fromcurrent": true,
              "mode": "immediate",
              "transition": {
               "duration": 0,
               "easing": "linear"
              }
             }
            ],
            "label": "2012",
            "method": "animate"
           },
           {
            "args": [
             [
              "2016"
             ],
             {
              "frame": {
               "duration": 0,
               "redraw": true
              },
              "fromcurrent": true,
              "mode": "immediate",
              "transition": {
               "duration": 0,
               "easing": "linear"
              }
             }
            ],
            "label": "2016",
            "method": "animate"
           }
          ],
          "x": 0.1,
          "xanchor": "left",
          "y": 0,
          "yanchor": "top"
         }
        ],
        "template": {
         "data": {
          "bar": [
           {
            "error_x": {
             "color": "#2a3f5f"
            },
            "error_y": {
             "color": "#2a3f5f"
            },
            "marker": {
             "line": {
              "color": "#E5ECF6",
              "width": 0.5
             },
             "pattern": {
              "fillmode": "overlay",
              "size": 10,
              "solidity": 0.2
             }
            },
            "type": "bar"
           }
          ],
          "barpolar": [
           {
            "marker": {
             "line": {
              "color": "#E5ECF6",
              "width": 0.5
             },
             "pattern": {
              "fillmode": "overlay",
              "size": 10,
              "solidity": 0.2
             }
            },
            "type": "barpolar"
           }
          ],
          "carpet": [
           {
            "aaxis": {
             "endlinecolor": "#2a3f5f",
             "gridcolor": "white",
             "linecolor": "white",
             "minorgridcolor": "white",
             "startlinecolor": "#2a3f5f"
            },
            "baxis": {
             "endlinecolor": "#2a3f5f",
             "gridcolor": "white",
             "linecolor": "white",
             "minorgridcolor": "white",
             "startlinecolor": "#2a3f5f"
            },
            "type": "carpet"
           }
          ],
          "choropleth": [
           {
            "colorbar": {
             "outlinewidth": 0,
             "ticks": ""
            },
            "type": "choropleth"
           }
          ],
          "contour": [
           {
            "colorbar": {
             "outlinewidth": 0,
             "ticks": ""
            },
            "colorscale": [
             [
              0,
              "#0d0887"
             ],
             [
              0.1111111111111111,
              "#46039f"
             ],
             [
              0.2222222222222222,
              "#7201a8"
             ],
             [
              0.3333333333333333,
              "#9c179e"
             ],
             [
              0.4444444444444444,
              "#bd3786"
             ],
             [
              0.5555555555555556,
              "#d8576b"
             ],
             [
              0.6666666666666666,
              "#ed7953"
             ],
             [
              0.7777777777777778,
              "#fb9f3a"
             ],
             [
              0.8888888888888888,
              "#fdca26"
             ],
             [
              1,
              "#f0f921"
             ]
            ],
            "type": "contour"
           }
          ],
          "contourcarpet": [
           {
            "colorbar": {
             "outlinewidth": 0,
             "ticks": ""
            },
            "type": "contourcarpet"
           }
          ],
          "heatmap": [
           {
            "colorbar": {
             "outlinewidth": 0,
             "ticks": ""
            },
            "colorscale": [
             [
              0,
              "#0d0887"
             ],
             [
              0.1111111111111111,
              "#46039f"
             ],
             [
              0.2222222222222222,
              "#7201a8"
             ],
             [
              0.3333333333333333,
              "#9c179e"
             ],
             [
              0.4444444444444444,
              "#bd3786"
             ],
             [
              0.5555555555555556,
              "#d8576b"
             ],
             [
              0.6666666666666666,
              "#ed7953"
             ],
             [
              0.7777777777777778,
              "#fb9f3a"
             ],
             [
              0.8888888888888888,
              "#fdca26"
             ],
             [
              1,
              "#f0f921"
             ]
            ],
            "type": "heatmap"
           }
          ],
          "heatmapgl": [
           {
            "colorbar": {
             "outlinewidth": 0,
             "ticks": ""
            },
            "colorscale": [
             [
              0,
              "#0d0887"
             ],
             [
              0.1111111111111111,
              "#46039f"
             ],
             [
              0.2222222222222222,
              "#7201a8"
             ],
             [
              0.3333333333333333,
              "#9c179e"
             ],
             [
              0.4444444444444444,
              "#bd3786"
             ],
             [
              0.5555555555555556,
              "#d8576b"
             ],
             [
              0.6666666666666666,
              "#ed7953"
             ],
             [
              0.7777777777777778,
              "#fb9f3a"
             ],
             [
              0.8888888888888888,
              "#fdca26"
             ],
             [
              1,
              "#f0f921"
             ]
            ],
            "type": "heatmapgl"
           }
          ],
          "histogram": [
           {
            "marker": {
             "pattern": {
              "fillmode": "overlay",
              "size": 10,
              "solidity": 0.2
             }
            },
            "type": "histogram"
           }
          ],
          "histogram2d": [
           {
            "colorbar": {
             "outlinewidth": 0,
             "ticks": ""
            },
            "colorscale": [
             [
              0,
              "#0d0887"
             ],
             [
              0.1111111111111111,
              "#46039f"
             ],
             [
              0.2222222222222222,
              "#7201a8"
             ],
             [
              0.3333333333333333,
              "#9c179e"
             ],
             [
              0.4444444444444444,
              "#bd3786"
             ],
             [
              0.5555555555555556,
              "#d8576b"
             ],
             [
              0.6666666666666666,
              "#ed7953"
             ],
             [
              0.7777777777777778,
              "#fb9f3a"
             ],
             [
              0.8888888888888888,
              "#fdca26"
             ],
             [
              1,
              "#f0f921"
             ]
            ],
            "type": "histogram2d"
           }
          ],
          "histogram2dcontour": [
           {
            "colorbar": {
             "outlinewidth": 0,
             "ticks": ""
            },
            "colorscale": [
             [
              0,
              "#0d0887"
             ],
             [
              0.1111111111111111,
              "#46039f"
             ],
             [
              0.2222222222222222,
              "#7201a8"
             ],
             [
              0.3333333333333333,
              "#9c179e"
             ],
             [
              0.4444444444444444,
              "#bd3786"
             ],
             [
              0.5555555555555556,
              "#d8576b"
             ],
             [
              0.6666666666666666,
              "#ed7953"
             ],
             [
              0.7777777777777778,
              "#fb9f3a"
             ],
             [
              0.8888888888888888,
              "#fdca26"
             ],
             [
              1,
              "#f0f921"
             ]
            ],
            "type": "histogram2dcontour"
           }
          ],
          "mesh3d": [
           {
            "colorbar": {
             "outlinewidth": 0,
             "ticks": ""
            },
            "type": "mesh3d"
           }
          ],
          "parcoords": [
           {
            "line": {
             "colorbar": {
              "outlinewidth": 0,
              "ticks": ""
             }
            },
            "type": "parcoords"
           }
          ],
          "pie": [
           {
            "automargin": true,
            "type": "pie"
           }
          ],
          "scatter": [
           {
            "fillpattern": {
             "fillmode": "overlay",
             "size": 10,
             "solidity": 0.2
            },
            "type": "scatter"
           }
          ],
          "scatter3d": [
           {
            "line": {
             "colorbar": {
              "outlinewidth": 0,
              "ticks": ""
             }
            },
            "marker": {
             "colorbar": {
              "outlinewidth": 0,
              "ticks": ""
             }
            },
            "type": "scatter3d"
           }
          ],
          "scattercarpet": [
           {
            "marker": {
             "colorbar": {
              "outlinewidth": 0,
              "ticks": ""
             }
            },
            "type": "scattercarpet"
           }
          ],
          "scattergeo": [
           {
            "marker": {
             "colorbar": {
              "outlinewidth": 0,
              "ticks": ""
             }
            },
            "type": "scattergeo"
           }
          ],
          "scattergl": [
           {
            "marker": {
             "colorbar": {
              "outlinewidth": 0,
              "ticks": ""
             }
            },
            "type": "scattergl"
           }
          ],
          "scattermapbox": [
           {
            "marker": {
             "colorbar": {
              "outlinewidth": 0,
              "ticks": ""
             }
            },
            "type": "scattermapbox"
           }
          ],
          "scatterpolar": [
           {
            "marker": {
             "colorbar": {
              "outlinewidth": 0,
              "ticks": ""
             }
            },
            "type": "scatterpolar"
           }
          ],
          "scatterpolargl": [
           {
            "marker": {
             "colorbar": {
              "outlinewidth": 0,
              "ticks": ""
             }
            },
            "type": "scatterpolargl"
           }
          ],
          "scatterternary": [
           {
            "marker": {
             "colorbar": {
              "outlinewidth": 0,
              "ticks": ""
             }
            },
            "type": "scatterternary"
           }
          ],
          "surface": [
           {
            "colorbar": {
             "outlinewidth": 0,
             "ticks": ""
            },
            "colorscale": [
             [
              0,
              "#0d0887"
             ],
             [
              0.1111111111111111,
              "#46039f"
             ],
             [
              0.2222222222222222,
              "#7201a8"
             ],
             [
              0.3333333333333333,
              "#9c179e"
             ],
             [
              0.4444444444444444,
              "#bd3786"
             ],
             [
              0.5555555555555556,
              "#d8576b"
             ],
             [
              0.6666666666666666,
              "#ed7953"
             ],
             [
              0.7777777777777778,
              "#fb9f3a"
             ],
             [
              0.8888888888888888,
              "#fdca26"
             ],
             [
              1,
              "#f0f921"
             ]
            ],
            "type": "surface"
           }
          ],
          "table": [
           {
            "cells": {
             "fill": {
              "color": "#EBF0F8"
             },
             "line": {
              "color": "white"
             }
            },
            "header": {
             "fill": {
              "color": "#C8D4E3"
             },
             "line": {
              "color": "white"
             }
            },
            "type": "table"
           }
          ]
         },
         "layout": {
          "annotationdefaults": {
           "arrowcolor": "#2a3f5f",
           "arrowhead": 0,
           "arrowwidth": 1
          },
          "autotypenumbers": "strict",
          "coloraxis": {
           "colorbar": {
            "outlinewidth": 0,
            "ticks": ""
           }
          },
          "colorscale": {
           "diverging": [
            [
             0,
             "#8e0152"
            ],
            [
             0.1,
             "#c51b7d"
            ],
            [
             0.2,
             "#de77ae"
            ],
            [
             0.3,
             "#f1b6da"
            ],
            [
             0.4,
             "#fde0ef"
            ],
            [
             0.5,
             "#f7f7f7"
            ],
            [
             0.6,
             "#e6f5d0"
            ],
            [
             0.7,
             "#b8e186"
            ],
            [
             0.8,
             "#7fbc41"
            ],
            [
             0.9,
             "#4d9221"
            ],
            [
             1,
             "#276419"
            ]
           ],
           "sequential": [
            [
             0,
             "#0d0887"
            ],
            [
             0.1111111111111111,
             "#46039f"
            ],
            [
             0.2222222222222222,
             "#7201a8"
            ],
            [
             0.3333333333333333,
             "#9c179e"
            ],
            [
             0.4444444444444444,
             "#bd3786"
            ],
            [
             0.5555555555555556,
             "#d8576b"
            ],
            [
             0.6666666666666666,
             "#ed7953"
            ],
            [
             0.7777777777777778,
             "#fb9f3a"
            ],
            [
             0.8888888888888888,
             "#fdca26"
            ],
            [
             1,
             "#f0f921"
            ]
           ],
           "sequentialminus": [
            [
             0,
             "#0d0887"
            ],
            [
             0.1111111111111111,
             "#46039f"
            ],
            [
             0.2222222222222222,
             "#7201a8"
            ],
            [
             0.3333333333333333,
             "#9c179e"
            ],
            [
             0.4444444444444444,
             "#bd3786"
            ],
            [
             0.5555555555555556,
             "#d8576b"
            ],
            [
             0.6666666666666666,
             "#ed7953"
            ],
            [
             0.7777777777777778,
             "#fb9f3a"
            ],
            [
             0.8888888888888888,
             "#fdca26"
            ],
            [
             1,
             "#f0f921"
            ]
           ]
          },
          "colorway": [
           "#636efa",
           "#EF553B",
           "#00cc96",
           "#ab63fa",
           "#FFA15A",
           "#19d3f3",
           "#FF6692",
           "#B6E880",
           "#FF97FF",
           "#FECB52"
          ],
          "font": {
           "color": "#2a3f5f"
          },
          "geo": {
           "bgcolor": "white",
           "lakecolor": "white",
           "landcolor": "#E5ECF6",
           "showlakes": true,
           "showland": true,
           "subunitcolor": "white"
          },
          "hoverlabel": {
           "align": "left"
          },
          "hovermode": "closest",
          "mapbox": {
           "style": "light"
          },
          "paper_bgcolor": "white",
          "plot_bgcolor": "#E5ECF6",
          "polar": {
           "angularaxis": {
            "gridcolor": "white",
            "linecolor": "white",
            "ticks": ""
           },
           "bgcolor": "#E5ECF6",
           "radialaxis": {
            "gridcolor": "white",
            "linecolor": "white",
            "ticks": ""
           }
          },
          "scene": {
           "xaxis": {
            "backgroundcolor": "#E5ECF6",
            "gridcolor": "white",
            "gridwidth": 2,
            "linecolor": "white",
            "showbackground": true,
            "ticks": "",
            "zerolinecolor": "white"
           },
           "yaxis": {
            "backgroundcolor": "#E5ECF6",
            "gridcolor": "white",
            "gridwidth": 2,
            "linecolor": "white",
            "showbackground": true,
            "ticks": "",
            "zerolinecolor": "white"
           },
           "zaxis": {
            "backgroundcolor": "#E5ECF6",
            "gridcolor": "white",
            "gridwidth": 2,
            "linecolor": "white",
            "showbackground": true,
            "ticks": "",
            "zerolinecolor": "white"
           }
          },
          "shapedefaults": {
           "line": {
            "color": "#2a3f5f"
           }
          },
          "ternary": {
           "aaxis": {
            "gridcolor": "white",
            "linecolor": "white",
            "ticks": ""
           },
           "baxis": {
            "gridcolor": "white",
            "linecolor": "white",
            "ticks": ""
           },
           "bgcolor": "#E5ECF6",
           "caxis": {
            "gridcolor": "white",
            "linecolor": "white",
            "ticks": ""
           }
          },
          "title": {
           "x": 0.05
          },
          "xaxis": {
           "automargin": true,
           "gridcolor": "white",
           "linecolor": "white",
           "ticks": "",
           "title": {
            "standoff": 15
           },
           "zerolinecolor": "white",
           "zerolinewidth": 2
          },
          "yaxis": {
           "automargin": true,
           "gridcolor": "white",
           "linecolor": "white",
           "ticks": "",
           "title": {
            "standoff": 15
           },
           "zerolinecolor": "white",
           "zerolinewidth": 2
          }
         }
        },
        "title": {
         "text": "Election Winners Across U.S. States"
        },
        "updatemenus": [
         {
          "buttons": [
           {
            "args": [
             null,
             {
              "frame": {
               "duration": 500,
               "redraw": true
              },
              "fromcurrent": true,
              "mode": "immediate",
              "transition": {
               "duration": 500,
               "easing": "linear"
              }
             }
            ],
            "label": "&#9654;",
            "method": "animate"
           },
           {
            "args": [
             [
              null
             ],
             {
              "frame": {
               "duration": 0,
               "redraw": true
              },
              "fromcurrent": true,
              "mode": "immediate",
              "transition": {
               "duration": 0,
               "easing": "linear"
              }
             }
            ],
            "label": "&#9724;",
            "method": "animate"
           }
          ],
          "direction": "left",
          "pad": {
           "r": 10,
           "t": 70
          },
          "showactive": false,
          "type": "buttons",
          "x": 0.1,
          "xanchor": "right",
          "y": 0,
          "yanchor": "top"
         }
        ]
       }
      }
     },
     "metadata": {},
     "output_type": "display_data"
    }
   ],
   "source": [
    "# Plot winning parties\n",
    "hover_data = {\"winner\": True, \"state\": True, \"year\": False}\n",
    "\n",
    "state_map = plot_state_map.PlotStateMap(data_by_state=winners_plot, hover_data=hover_data, animation_frame='year', title=\"Election Winners Across U.S. States\", state_names_already_abbreviated=True, dataMetric=\"winner\")\n",
    "\n",
    "# Plot the map\n",
    "fig1 = state_map.plot_map()\n",
    "fig1.write_html('usmap_politics.html')"
   ]
  }
 ],
 "metadata": {
  "kernelspec": {
   "display_name": "ada",
   "language": "python",
   "name": "python3"
  },
  "language_info": {
   "codemirror_mode": {
    "name": "ipython",
    "version": 3
   },
   "file_extension": ".py",
   "mimetype": "text/x-python",
   "name": "python",
   "nbconvert_exporter": "python",
   "pygments_lexer": "ipython3",
   "version": "3.11.6"
  }
 },
 "nbformat": 5,
 "nbformat_minor": 9
}
