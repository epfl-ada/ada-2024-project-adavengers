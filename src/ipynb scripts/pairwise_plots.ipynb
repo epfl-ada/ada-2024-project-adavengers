{
 "cells": [
  {
   "cell_type": "markdown",
   "metadata": {},
   "source": [
    "# Notebook for generating plots of pre-selected paired plots and correlation matrices for our subset of states  \n",
    "\n",
    "Even though we created Dash applications to allow nice visualization of trends for Ratings and Fraction of Positive Sentiment, we weren't able to put them on the website in our data story (app required backend support).  \n",
    "\n",
    "Therefore, we opted for selecting pairs of representative states to make comparison between their trends on the subset of beer styles.  \n",
    "\n",
    "When it comes to selected states, we chose:\n",
    "- New York and California - as representatives of consistently Democrat states\n",
    "- Arizona and Texas - as representatives of consistently Repulican states (and also ones that are close-by geographically)\n",
    "- New York and Georgia - as representatives of consistently Democrat and Republican states that are also close-by\n",
    "- New York and Arizona - as representatives of consistently Democrat and Republican states that are distant geographically\n",
    "- Arizona and South Carolina - as representatives of consistently Repulican states that are distant geographically\n",
    "- Nevada and Florida - two distant swing states\n",
    "- Pennsylvania and Virginia - two close-by swing states \n",
    "\n",
    "When it comes to beer styles we chose IPA and Stout, since they were consistently ranked as nation's favourites. Besides them we chose Lager, which is nation's least favourite choice. "
   ]
  },
  {
   "cell_type": "code",
   "execution_count": 1,
   "metadata": {},
   "outputs": [],
   "source": [
    "import plotly.graph_objects as go \n",
    "from plotly.subplots import make_subplots\n",
    "import plotly.express as px\n",
    "from pathlib import Path\n",
    "from dash import Dash, dcc, html \n",
    "from dash.dependencies import Input, Output\n",
    "from scipy.stats import pearsonr, spearmanr\n",
    "import numpy as np\n",
    "\n",
    "import sys\n",
    "import os\n",
    "data_path = os.path.abspath('../data')\n",
    "sys.path.append(data_path)\n",
    "\n",
    "utils_path = os.path.abspath('../utils')\n",
    "sys.path.append(utils_path)\n",
    "\n",
    "import reviews_processing\n",
    "import load_and_find_party_winners\n",
    "import plotting_utils"
   ]
  },
  {
   "cell_type": "code",
   "execution_count": 2,
   "metadata": {},
   "outputs": [],
   "source": [
    "%load_ext autoreload\n",
    "%autoreload 2"
   ]
  },
  {
   "cell_type": "code",
   "execution_count": 3,
   "metadata": {},
   "outputs": [],
   "source": [
    "# Necessary paths\n",
    "project_root = Path.cwd().parents[2]\n",
    "beer_advocate_path = project_root / \"BeerAdvocate\"\n",
    "reviews_path = str(beer_advocate_path / \"reviews_df.csv\")\n",
    "users_path = beer_advocate_path / \"users.csv\"\n",
    "\n",
    "project_dir = Path.cwd().parents[1]\n",
    "winners_path = project_dir / \"data/generated/party_winners_over_years.csv\"\n",
    "\n",
    "sentiment_path = str(beer_advocate_path / \"reviews2_df.pkl\")"
   ]
  },
  {
   "cell_type": "code",
   "execution_count": 4,
   "metadata": {},
   "outputs": [],
   "source": [
    "# Predefined states and beer styled \n",
    "predef_state1 = ['New York', 'Arizona', 'New York', 'New York', 'Arizona', 'Nevada', 'Pennsylvania']\n",
    "predef_state2 = ['California', 'Texas', 'Georgia', 'Arizona', 'South Carolina', 'Florida', 'Virginia']\n",
    "\n",
    "beer_styles = ['IPA', 'Stout', 'Lager']\n",
    "\n",
    "users_reviews = reviews_processing.Reviews(users_path, reviews_path)\n",
    "sentiment_reviews = reviews_processing.Reviews(users_path, sentiment_path)\n",
    "\n",
    "year_list = list(np.arange(2004, 2017, 1, dtype=int))\n",
    "election_years = [2004, 2008, 2012, 2016]\n",
    "\n",
    "results = users_reviews.aggregate_preferences_year(year_list)\n",
    "winners = load_and_find_party_winners.state_winner_years(winners_path)\n",
    "\n",
    "positive_sentiment = sentiment_reviews.sentiment_to_wide(sentiment_drop='NEGATIVE', sentiment_keep='POSITIVE', all_states=False, year_list=year_list)"
   ]
  },
  {
   "cell_type": "code",
   "execution_count": 5,
   "metadata": {},
   "outputs": [
    {
     "data": {
      "application/vnd.plotly.v1+json": {
       "config": {
        "plotlyServerURL": "https://plot.ly"
       },
       "data": [
        {
         "line": {
          "color": "blue"
         },
         "mode": "lines",
         "name": "Average Rating New York - IPA",
         "type": "scatter",
         "visible": false,
         "x": [
          2004,
          2005,
          2006,
          2007,
          2008,
          2009,
          2010,
          2011,
          2012,
          2013,
          2014,
          2015,
          2016
         ],
         "xaxis": "x",
         "y": [
          3.9988359788359786,
          3.971043689320388,
          3.9534058898847633,
          3.9607760314341847,
          3.9596075778078488,
          3.9362854198866564,
          3.96562775772162,
          3.9425774473358115,
          3.9445645756457566,
          4.002420058139535,
          4.011993047508691,
          4.077811135371179,
          4.1397855291067645
         ],
         "yaxis": "y"
        },
        {
         "hoverinfo": "text",
         "hovertext": [
          "Democrat",
          "Democrat",
          "Democrat",
          "Democrat"
         ],
         "marker": {
          "color": [
           "blue",
           "blue",
           "blue",
           "blue"
          ],
          "size": 10
         },
         "mode": "markers",
         "showlegend": false,
         "type": "scatter",
         "visible": false,
         "x": [
          2004,
          2008,
          2012,
          2016
         ],
         "xaxis": "x",
         "y": [
          3.9988359788359786,
          3.9596075778078488,
          3.9445645756457566,
          4.1397855291067645
         ],
         "yaxis": "y"
        },
        {
         "line": {
          "color": "orange"
         },
         "mode": "lines",
         "name": "Average Rating California - IPA",
         "type": "scatter",
         "visible": false,
         "x": [
          2004,
          2005,
          2006,
          2007,
          2008,
          2009,
          2010,
          2011,
          2012,
          2013,
          2014,
          2015,
          2016
         ],
         "xaxis": "x",
         "y": [
          4.012169625246549,
          4.007926267281106,
          3.994179543782193,
          4.006648501362398,
          3.9697289972899727,
          4.014706762417714,
          3.9660835509138384,
          3.9352653504799853,
          3.9428070175438594,
          3.994963789981895,
          4.058420569329661,
          4.045490575157081,
          4.100892325996431
         ],
         "yaxis": "y"
        },
        {
         "hoverinfo": "text",
         "hovertext": [
          "Democrat",
          "Democrat",
          "Democrat",
          "Democrat"
         ],
         "marker": {
          "color": [
           "blue",
           "blue",
           "blue",
           "blue"
          ],
          "size": 10
         },
         "mode": "markers",
         "showlegend": false,
         "type": "scatter",
         "visible": false,
         "x": [
          2004,
          2008,
          2012,
          2016
         ],
         "xaxis": "x",
         "y": [
          4.012169625246549,
          3.9697289972899727,
          3.9428070175438594,
          4.100892325996431
         ],
         "yaxis": "y"
        },
        {
         "line": {
          "color": "green"
         },
         "mode": "lines",
         "name": "Fraction Pos. Sentiment New York - IPA",
         "type": "scatter",
         "visible": false,
         "x": [
          2004,
          2005,
          2006,
          2007,
          2008,
          2009,
          2010,
          2011,
          2012,
          2013,
          2014,
          2015,
          2016
         ],
         "xaxis": "x",
         "y": [
          0.843915343915344,
          0.854368932038835,
          0.7976952624839949,
          0.8172888015717092,
          0.8044654939106901,
          0.7789799072642968,
          0.7517047733654232,
          0.7620817843866171,
          0.7214022140221402,
          0.7318313953488372,
          0.7767477790652761,
          0.7862991266375545,
          0.799670044779637
         ],
         "yaxis": "y2"
        },
        {
         "hoverinfo": "text",
         "hovertext": [
          "Democrat",
          "Democrat",
          "Democrat",
          "Democrat"
         ],
         "marker": {
          "color": [
           "blue",
           "blue",
           "blue",
           "blue"
          ],
          "size": 10
         },
         "mode": "markers",
         "showlegend": false,
         "type": "scatter",
         "visible": false,
         "x": [
          2004,
          2008,
          2012,
          2016
         ],
         "xaxis": "x",
         "y": [
          0.843915343915344,
          0.8044654939106901,
          0.7214022140221402,
          0.799670044779637
         ],
         "yaxis": "y2"
        },
        {
         "line": {
          "color": "red"
         },
         "mode": "lines",
         "name": "Fraction Pos. Sentiment California - IPA",
         "type": "scatter",
         "visible": false,
         "x": [
          2004,
          2005,
          2006,
          2007,
          2008,
          2009,
          2010,
          2011,
          2012,
          2013,
          2014,
          2015,
          2016
         ],
         "xaxis": "x",
         "y": [
          0.7889546351084813,
          0.8003072196620584,
          0.811626195732156,
          0.7472752043596731,
          0.7553232675183894,
          0.7603231597845601,
          0.7407310704960836,
          0.7168991124796232,
          0.7317870948557835,
          0.7468316234158117,
          0.7756351392715028,
          0.7392460125664573,
          0.7617489589530042
         ],
         "yaxis": "y2"
        },
        {
         "hoverinfo": "text",
         "hovertext": [
          "Democrat",
          "Democrat",
          "Democrat",
          "Democrat"
         ],
         "marker": {
          "color": [
           "blue",
           "blue",
           "blue",
           "blue"
          ],
          "size": 10
         },
         "mode": "markers",
         "showlegend": false,
         "type": "scatter",
         "visible": false,
         "x": [
          2004,
          2008,
          2012,
          2016
         ],
         "xaxis": "x",
         "y": [
          0.7889546351084813,
          0.7553232675183894,
          0.7317870948557835,
          0.7617489589530042
         ],
         "yaxis": "y2"
        },
        {
         "line": {
          "color": "blue"
         },
         "mode": "lines",
         "name": "Average Rating New York - Stout",
         "type": "scatter",
         "visible": false,
         "x": [
          2004,
          2005,
          2006,
          2007,
          2008,
          2009,
          2010,
          2011,
          2012,
          2013,
          2014,
          2015,
          2016
         ],
         "xaxis": "x2",
         "y": [
          3.98626404494382,
          3.9637533512064342,
          3.9773584905660377,
          4.029647519582245,
          3.997184841453983,
          3.99595567867036,
          4.0394418362024,
          4.0062942191544435,
          4.0069825708061,
          4.073031423290203,
          4.113042596348884,
          4.1369473140495865,
          4.16021913415286
         ],
         "yaxis": "y3"
        },
        {
         "hoverinfo": "text",
         "hovertext": [
          "Democrat",
          "Democrat",
          "Democrat",
          "Democrat"
         ],
         "marker": {
          "color": [
           "blue",
           "blue",
           "blue",
           "blue"
          ],
          "size": 10
         },
         "mode": "markers",
         "showlegend": false,
         "type": "scatter",
         "visible": false,
         "x": [
          2004,
          2008,
          2012,
          2016
         ],
         "xaxis": "x2",
         "y": [
          3.98626404494382,
          3.997184841453983,
          4.0069825708061,
          4.16021913415286
         ],
         "yaxis": "y3"
        },
        {
         "line": {
          "color": "orange"
         },
         "mode": "lines",
         "name": "Average Rating California - Stout",
         "type": "scatter",
         "visible": false,
         "x": [
          2004,
          2005,
          2006,
          2007,
          2008,
          2009,
          2010,
          2011,
          2012,
          2013,
          2014,
          2015,
          2016
         ],
         "xaxis": "x2",
         "y": [
          3.9792167101827673,
          4.023660933660934,
          4.041107871720117,
          4.048110328638498,
          4.006502673796791,
          4.038400498545908,
          4.0026981764049125,
          3.979870096128865,
          3.984837758112094,
          4.07539226519337,
          4.126126315789474,
          4.1667757210503655,
          4.2230506666666665
         ],
         "yaxis": "y3"
        },
        {
         "hoverinfo": "text",
         "hovertext": [
          "Democrat",
          "Democrat",
          "Democrat",
          "Democrat"
         ],
         "marker": {
          "color": [
           "blue",
           "blue",
           "blue",
           "blue"
          ],
          "size": 10
         },
         "mode": "markers",
         "showlegend": false,
         "type": "scatter",
         "visible": false,
         "x": [
          2004,
          2008,
          2012,
          2016
         ],
         "xaxis": "x2",
         "y": [
          3.9792167101827673,
          4.006502673796791,
          3.984837758112094,
          4.2230506666666665
         ],
         "yaxis": "y3"
        },
        {
         "line": {
          "color": "green"
         },
         "mode": "lines",
         "name": "Fraction Pos. Sentiment New York - Stout",
         "type": "scatter",
         "visible": false,
         "x": [
          2004,
          2005,
          2006,
          2007,
          2008,
          2009,
          2010,
          2011,
          2012,
          2013,
          2014,
          2015,
          2016
         ],
         "xaxis": "x2",
         "y": [
          0.8426966292134832,
          0.7908847184986595,
          0.730188679245283,
          0.7728459530026109,
          0.7726218097447796,
          0.7292243767313019,
          0.7188315075639019,
          0.7079378774805867,
          0.6933551198257081,
          0.7165742452248922,
          0.7633536173089925,
          0.7515495867768596,
          0.757883484767504
         ],
         "yaxis": "y4"
        },
        {
         "hoverinfo": "text",
         "hovertext": [
          "Democrat",
          "Democrat",
          "Democrat",
          "Democrat"
         ],
         "marker": {
          "color": [
           "blue",
           "blue",
           "blue",
           "blue"
          ],
          "size": 10
         },
         "mode": "markers",
         "showlegend": false,
         "type": "scatter",
         "visible": false,
         "x": [
          2004,
          2008,
          2012,
          2016
         ],
         "xaxis": "x2",
         "y": [
          0.8426966292134832,
          0.7726218097447796,
          0.6933551198257081,
          0.757883484767504
         ],
         "yaxis": "y4"
        },
        {
         "line": {
          "color": "red"
         },
         "mode": "lines",
         "name": "Fraction Pos. Sentiment California - Stout",
         "type": "scatter",
         "visible": false,
         "x": [
          2004,
          2005,
          2006,
          2007,
          2008,
          2009,
          2010,
          2011,
          2012,
          2013,
          2014,
          2015,
          2016
         ],
         "xaxis": "x2",
         "y": [
          0.7911227154046998,
          0.742014742014742,
          0.7886297376093294,
          0.7089201877934272,
          0.7053475935828877,
          0.7170751973410885,
          0.7208783029400818,
          0.6923876331514679,
          0.7045231071779745,
          0.7127071823204421,
          0.7463157894736843,
          0.7335342229875161,
          0.7274666666666667
         ],
         "yaxis": "y4"
        },
        {
         "hoverinfo": "text",
         "hovertext": [
          "Democrat",
          "Democrat",
          "Democrat",
          "Democrat"
         ],
         "marker": {
          "color": [
           "blue",
           "blue",
           "blue",
           "blue"
          ],
          "size": 10
         },
         "mode": "markers",
         "showlegend": false,
         "type": "scatter",
         "visible": false,
         "x": [
          2004,
          2008,
          2012,
          2016
         ],
         "xaxis": "x2",
         "y": [
          0.7911227154046998,
          0.7053475935828877,
          0.7045231071779745,
          0.7274666666666667
         ],
         "yaxis": "y4"
        },
        {
         "line": {
          "color": "blue"
         },
         "mode": "lines",
         "name": "Average Rating New York - Lager",
         "type": "scatter",
         "visible": false,
         "x": [
          2004,
          2005,
          2006,
          2007,
          2008,
          2009,
          2010,
          2011,
          2012,
          2013,
          2014,
          2015,
          2016
         ],
         "xaxis": "x3",
         "y": [
          3.0377251184834124,
          3.096842105263158,
          3.105751633986928,
          3.101659863945578,
          3.079911308203991,
          3.143558504221954,
          3.2051918465227818,
          3.1009247967479676,
          3.167714748784441,
          3.206441515650741,
          3.2830497925311204,
          3.231982905982906,
          3.2296830985915492
         ],
         "yaxis": "y5"
        },
        {
         "hoverinfo": "text",
         "hovertext": [
          "Democrat",
          "Democrat",
          "Democrat",
          "Democrat"
         ],
         "marker": {
          "color": [
           "blue",
           "blue",
           "blue",
           "blue"
          ],
          "size": 10
         },
         "mode": "markers",
         "showlegend": false,
         "type": "scatter",
         "visible": false,
         "x": [
          2004,
          2008,
          2012,
          2016
         ],
         "xaxis": "x3",
         "y": [
          3.0377251184834124,
          3.079911308203991,
          3.167714748784441,
          3.2296830985915492
         ],
         "yaxis": "y5"
        },
        {
         "line": {
          "color": "orange"
         },
         "mode": "lines",
         "name": "Average Rating California - Lager",
         "type": "scatter",
         "visible": false,
         "x": [
          2004,
          2005,
          2006,
          2007,
          2008,
          2009,
          2010,
          2011,
          2012,
          2013,
          2014,
          2015,
          2016
         ],
         "xaxis": "x3",
         "y": [
          3.013805309734513,
          3.073170103092784,
          3.068235294117647,
          2.9399717514124295,
          3.0254078549848944,
          3.1588888888888893,
          3.145523504273504,
          3.0689892051030423,
          3.2120454545454544,
          3.3112834224598933,
          3.313521126760563,
          3.3686965376782076,
          3.554089347079038
         ],
         "yaxis": "y5"
        },
        {
         "hoverinfo": "text",
         "hovertext": [
          "Democrat",
          "Democrat",
          "Democrat",
          "Democrat"
         ],
         "marker": {
          "color": [
           "blue",
           "blue",
           "blue",
           "blue"
          ],
          "size": 10
         },
         "mode": "markers",
         "showlegend": false,
         "type": "scatter",
         "visible": false,
         "x": [
          2004,
          2008,
          2012,
          2016
         ],
         "xaxis": "x3",
         "y": [
          3.013805309734513,
          3.0254078549848944,
          3.2120454545454544,
          3.554089347079038
         ],
         "yaxis": "y5"
        },
        {
         "line": {
          "color": "green"
         },
         "mode": "lines",
         "name": "Fraction Pos. Sentiment New York - Lager",
         "type": "scatter",
         "visible": false,
         "x": [
          2004,
          2005,
          2006,
          2007,
          2008,
          2009,
          2010,
          2011,
          2012,
          2013,
          2014,
          2015,
          2016
         ],
         "xaxis": "x3",
         "y": [
          0.6208530805687205,
          0.5894736842105264,
          0.5751633986928104,
          0.6095238095238096,
          0.6319290465631929,
          0.6296743063932448,
          0.5983213429256595,
          0.5467479674796748,
          0.6547811993517018,
          0.6622734761120264,
          0.6120331950207469,
          0.6393162393162393,
          0.6179577464788732
         ],
         "yaxis": "y6"
        },
        {
         "hoverinfo": "text",
         "hovertext": [
          "Democrat",
          "Democrat",
          "Democrat",
          "Democrat"
         ],
         "marker": {
          "color": [
           "blue",
           "blue",
           "blue",
           "blue"
          ],
          "size": 10
         },
         "mode": "markers",
         "showlegend": false,
         "type": "scatter",
         "visible": false,
         "x": [
          2004,
          2008,
          2012,
          2016
         ],
         "xaxis": "x3",
         "y": [
          0.6208530805687205,
          0.6319290465631929,
          0.6547811993517018,
          0.6179577464788732
         ],
         "yaxis": "y6"
        },
        {
         "line": {
          "color": "red"
         },
         "mode": "lines",
         "name": "Fraction Pos. Sentiment California - Lager",
         "type": "scatter",
         "visible": false,
         "x": [
          2004,
          2005,
          2006,
          2007,
          2008,
          2009,
          2010,
          2011,
          2012,
          2013,
          2014,
          2015,
          2016
         ],
         "xaxis": "x3",
         "y": [
          0.5951327433628318,
          0.5773195876288659,
          0.6113445378151261,
          0.48587570621468923,
          0.5367573011077542,
          0.5784008307372793,
          0.5726495726495726,
          0.6172718351324828,
          0.583916083916084,
          0.625668449197861,
          0.7018779342723005,
          0.6395112016293278,
          0.6701030927835052
         ],
         "yaxis": "y6"
        },
        {
         "hoverinfo": "text",
         "hovertext": [
          "Democrat",
          "Democrat",
          "Democrat",
          "Democrat"
         ],
         "marker": {
          "color": [
           "blue",
           "blue",
           "blue",
           "blue"
          ],
          "size": 10
         },
         "mode": "markers",
         "showlegend": false,
         "type": "scatter",
         "visible": false,
         "x": [
          2004,
          2008,
          2012,
          2016
         ],
         "xaxis": "x3",
         "y": [
          0.5951327433628318,
          0.5367573011077542,
          0.583916083916084,
          0.6701030927835052
         ],
         "yaxis": "y6"
        },
        {
         "line": {
          "color": "blue"
         },
         "mode": "lines",
         "name": "Average Rating Arizona - IPA",
         "type": "scatter",
         "visible": false,
         "x": [
          2004,
          2005,
          2006,
          2007,
          2008,
          2009,
          2010,
          2011,
          2012,
          2013,
          2014,
          2015,
          2016
         ],
         "xaxis": "x",
         "y": [
          4.078715596330275,
          3.8506730769230773,
          3.9636824324324325,
          3.8411838006230528,
          3.907269503546099,
          3.8973605947955394,
          3.966426332288401,
          3.9623400365630714,
          3.9611023622047243,
          4.033816155988858,
          4.006772334293948,
          4.0800717703349285,
          4.095420560747663
         ],
         "yaxis": "y"
        },
        {
         "hoverinfo": "text",
         "hovertext": [
          "Republican",
          "Republican",
          "Republican",
          "Republican"
         ],
         "marker": {
          "color": [
           "red",
           "red",
           "red",
           "red"
          ],
          "size": 10
         },
         "mode": "markers",
         "showlegend": false,
         "type": "scatter",
         "visible": false,
         "x": [
          2004,
          2008,
          2012,
          2016
         ],
         "xaxis": "x",
         "y": [
          4.078715596330275,
          3.907269503546099,
          3.9611023622047243,
          4.095420560747663
         ],
         "yaxis": "y"
        },
        {
         "line": {
          "color": "orange"
         },
         "mode": "lines",
         "name": "Average Rating Texas - IPA",
         "type": "scatter",
         "visible": false,
         "x": [
          2004,
          2005,
          2006,
          2007,
          2008,
          2009,
          2010,
          2011,
          2012,
          2013,
          2014,
          2015,
          2016
         ],
         "xaxis": "x",
         "y": [
          4.01056,
          3.983396226415094,
          3.984662162162162,
          3.9052188006482984,
          3.9207052441229657,
          3.933787401574803,
          3.942942965779468,
          3.941132752434649,
          3.9258584987057805,
          4.0517850467289716,
          4.038103130755065,
          4.015791798107255,
          4.080167182662539
         ],
         "yaxis": "y"
        },
        {
         "hoverinfo": "text",
         "hovertext": [
          "Republican",
          "Republican",
          "Republican",
          "Republican"
         ],
         "marker": {
          "color": [
           "red",
           "red",
           "red",
           "red"
          ],
          "size": 10
         },
         "mode": "markers",
         "showlegend": false,
         "type": "scatter",
         "visible": false,
         "x": [
          2004,
          2008,
          2012,
          2016
         ],
         "xaxis": "x",
         "y": [
          4.01056,
          3.9207052441229657,
          3.9258584987057805,
          4.080167182662539
         ],
         "yaxis": "y"
        },
        {
         "line": {
          "color": "green"
         },
         "mode": "lines",
         "name": "Fraction Pos. Sentiment Arizona - IPA",
         "type": "scatter",
         "visible": false,
         "x": [
          2004,
          2005,
          2006,
          2007,
          2008,
          2009,
          2010,
          2011,
          2012,
          2013,
          2014,
          2015,
          2016
         ],
         "xaxis": "x",
         "y": [
          0.926605504587156,
          0.9038461538461539,
          0.8648648648648649,
          0.7850467289719626,
          0.7765957446808511,
          0.8364312267657993,
          0.8338557993730408,
          0.8025594149908593,
          0.8228346456692913,
          0.7966573816155988,
          0.8587896253602305,
          0.861244019138756,
          0.9042056074766355
         ],
         "yaxis": "y2"
        },
        {
         "hoverinfo": "text",
         "hovertext": [
          "Republican",
          "Republican",
          "Republican",
          "Republican"
         ],
         "marker": {
          "color": [
           "red",
           "red",
           "red",
           "red"
          ],
          "size": 10
         },
         "mode": "markers",
         "showlegend": false,
         "type": "scatter",
         "visible": false,
         "x": [
          2004,
          2008,
          2012,
          2016
         ],
         "xaxis": "x",
         "y": [
          0.926605504587156,
          0.7765957446808511,
          0.8228346456692913,
          0.9042056074766355
         ],
         "yaxis": "y2"
        },
        {
         "line": {
          "color": "red"
         },
         "mode": "lines",
         "name": "Fraction Pos. Sentiment Texas - IPA",
         "type": "scatter",
         "visible": false,
         "x": [
          2004,
          2005,
          2006,
          2007,
          2008,
          2009,
          2010,
          2011,
          2012,
          2013,
          2014,
          2015,
          2016
         ],
         "xaxis": "x",
         "y": [
          0.752,
          0.8603773584905661,
          0.8400900900900901,
          0.8168557536466775,
          0.8155515370705244,
          0.7889763779527559,
          0.7718631178707225,
          0.7590978985135828,
          0.7851596203623814,
          0.7560747663551401,
          0.8416206261510129,
          0.7974763406940063,
          0.8086687306501548
         ],
         "yaxis": "y2"
        },
        {
         "hoverinfo": "text",
         "hovertext": [
          "Republican",
          "Republican",
          "Republican",
          "Republican"
         ],
         "marker": {
          "color": [
           "red",
           "red",
           "red",
           "red"
          ],
          "size": 10
         },
         "mode": "markers",
         "showlegend": false,
         "type": "scatter",
         "visible": false,
         "x": [
          2004,
          2008,
          2012,
          2016
         ],
         "xaxis": "x",
         "y": [
          0.752,
          0.8155515370705244,
          0.7851596203623814,
          0.8086687306501548
         ],
         "yaxis": "y2"
        },
        {
         "line": {
          "color": "blue"
         },
         "mode": "lines",
         "name": "Average Rating Arizona - Stout",
         "type": "scatter",
         "visible": false,
         "x": [
          2004,
          2005,
          2006,
          2007,
          2008,
          2009,
          2010,
          2011,
          2012,
          2013,
          2014,
          2015,
          2016
         ],
         "xaxis": "x2",
         "y": [
          4.098452380952381,
          3.9787500000000002,
          3.986748768472906,
          3.845806451612903,
          3.9100829875518675,
          3.9794897959183673,
          4.017534246575343,
          3.946818181818182,
          4.021909090909091,
          4.078432432432432,
          4.068100558659218,
          4.158051282051282,
          4.265
         ],
         "yaxis": "y3"
        },
        {
         "hoverinfo": "text",
         "hovertext": [
          "Republican",
          "Republican",
          "Republican",
          "Republican"
         ],
         "marker": {
          "color": [
           "red",
           "red",
           "red",
           "red"
          ],
          "size": 10
         },
         "mode": "markers",
         "showlegend": false,
         "type": "scatter",
         "visible": false,
         "x": [
          2004,
          2008,
          2012,
          2016
         ],
         "xaxis": "x2",
         "y": [
          4.098452380952381,
          3.9100829875518675,
          4.021909090909091,
          4.265
         ],
         "yaxis": "y3"
        },
        {
         "line": {
          "color": "orange"
         },
         "mode": "lines",
         "name": "Average Rating Texas - Stout",
         "type": "scatter",
         "visible": false,
         "x": [
          2004,
          2005,
          2006,
          2007,
          2008,
          2009,
          2010,
          2011,
          2012,
          2013,
          2014,
          2015,
          2016
         ],
         "xaxis": "x2",
         "y": [
          3.9796268656716416,
          4.006575875486382,
          4.005637393767706,
          3.9978358208955225,
          3.9399294947121035,
          3.9480721393034828,
          3.971388888888889,
          3.9876093514328805,
          4.028403465346535,
          4.13326409495549,
          4.126522327469553,
          4.119494470774091,
          4.1600696257615315
         ],
         "yaxis": "y3"
        },
        {
         "hoverinfo": "text",
         "hovertext": [
          "Republican",
          "Republican",
          "Republican",
          "Republican"
         ],
         "marker": {
          "color": [
           "red",
           "red",
           "red",
           "red"
          ],
          "size": 10
         },
         "mode": "markers",
         "showlegend": false,
         "type": "scatter",
         "visible": false,
         "x": [
          2004,
          2008,
          2012,
          2016
         ],
         "xaxis": "x2",
         "y": [
          3.9796268656716416,
          3.9399294947121035,
          4.028403465346535,
          4.1600696257615315
         ],
         "yaxis": "y3"
        },
        {
         "line": {
          "color": "green"
         },
         "mode": "lines",
         "name": "Fraction Pos. Sentiment Arizona - Stout",
         "type": "scatter",
         "visible": false,
         "x": [
          2004,
          2005,
          2006,
          2007,
          2008,
          2009,
          2010,
          2011,
          2012,
          2013,
          2014,
          2015,
          2016
         ],
         "xaxis": "x2",
         "y": [
          0.8571428571428572,
          0.8472222222222222,
          0.8029556650246306,
          0.6866359447004609,
          0.7302904564315353,
          0.7091836734693877,
          0.7899543378995434,
          0.7247474747474747,
          0.7727272727272727,
          0.6702702702702703,
          0.776536312849162,
          0.8256410256410256,
          0.8541666666666666
         ],
         "yaxis": "y4"
        },
        {
         "hoverinfo": "text",
         "hovertext": [
          "Republican",
          "Republican",
          "Republican",
          "Republican"
         ],
         "marker": {
          "color": [
           "red",
           "red",
           "red",
           "red"
          ],
          "size": 10
         },
         "mode": "markers",
         "showlegend": false,
         "type": "scatter",
         "visible": false,
         "x": [
          2004,
          2008,
          2012,
          2016
         ],
         "xaxis": "x2",
         "y": [
          0.8571428571428572,
          0.7302904564315353,
          0.7727272727272727,
          0.8541666666666666
         ],
         "yaxis": "y4"
        },
        {
         "line": {
          "color": "red"
         },
         "mode": "lines",
         "name": "Fraction Pos. Sentiment Texas - Stout",
         "type": "scatter",
         "visible": false,
         "x": [
          2004,
          2005,
          2006,
          2007,
          2008,
          2009,
          2010,
          2011,
          2012,
          2013,
          2014,
          2015,
          2016
         ],
         "xaxis": "x2",
         "y": [
          0.791044776119403,
          0.8210116731517509,
          0.7818696883852692,
          0.7711442786069651,
          0.7849588719153937,
          0.7599502487562189,
          0.6901709401709402,
          0.7036199095022624,
          0.7599009900990099,
          0.7477744807121662,
          0.7591339648173208,
          0.7488151658767772,
          0.7171453437771975
         ],
         "yaxis": "y4"
        },
        {
         "hoverinfo": "text",
         "hovertext": [
          "Republican",
          "Republican",
          "Republican",
          "Republican"
         ],
         "marker": {
          "color": [
           "red",
           "red",
           "red",
           "red"
          ],
          "size": 10
         },
         "mode": "markers",
         "showlegend": false,
         "type": "scatter",
         "visible": false,
         "x": [
          2004,
          2008,
          2012,
          2016
         ],
         "xaxis": "x2",
         "y": [
          0.791044776119403,
          0.7849588719153937,
          0.7599009900990099,
          0.7171453437771975
         ],
         "yaxis": "y4"
        },
        {
         "line": {
          "color": "blue"
         },
         "mode": "lines",
         "name": "Average Rating Arizona - Lager",
         "type": "scatter",
         "visible": false,
         "x": [
          2004,
          2005,
          2006,
          2007,
          2008,
          2009,
          2010,
          2011,
          2012,
          2013,
          2014,
          2015,
          2016
         ],
         "xaxis": "x3",
         "y": [
          2.693111111111111,
          2.879431818181818,
          2.8910628019323674,
          3.0431736526946107,
          3.155522388059701,
          3.2671014492753625,
          3.085821917808219,
          3.124230769230769,
          3.2145283018867925,
          3.246067415730337,
          3.4853703703703705,
          3.603529411764706,
          3.3979220779220776
         ],
         "yaxis": "y5"
        },
        {
         "hoverinfo": "text",
         "hovertext": [
          "Republican",
          "Republican",
          "Republican",
          "Republican"
         ],
         "marker": {
          "color": [
           "red",
           "red",
           "red",
           "red"
          ],
          "size": 10
         },
         "mode": "markers",
         "showlegend": false,
         "type": "scatter",
         "visible": false,
         "x": [
          2004,
          2008,
          2012,
          2016
         ],
         "xaxis": "x3",
         "y": [
          2.693111111111111,
          3.155522388059701,
          3.2145283018867925,
          3.3979220779220776
         ],
         "yaxis": "y5"
        },
        {
         "line": {
          "color": "orange"
         },
         "mode": "lines",
         "name": "Average Rating Texas - Lager",
         "type": "scatter",
         "visible": false,
         "x": [
          2004,
          2005,
          2006,
          2007,
          2008,
          2009,
          2010,
          2011,
          2012,
          2013,
          2014,
          2015,
          2016
         ],
         "xaxis": "x3",
         "y": [
          2.942840909090909,
          3.121920731707317,
          3.1149557522123894,
          3.1669160997732426,
          3.0535450516986704,
          3.132803889789303,
          3.089930795847751,
          3.0402818991097926,
          3.2345117845117843,
          3.367560975609756,
          3.24113074204947,
          3.2423828125,
          3.4242608695652175
         ],
         "yaxis": "y5"
        },
        {
         "hoverinfo": "text",
         "hovertext": [
          "Republican",
          "Republican",
          "Republican",
          "Republican"
         ],
         "marker": {
          "color": [
           "red",
           "red",
           "red",
           "red"
          ],
          "size": 10
         },
         "mode": "markers",
         "showlegend": false,
         "type": "scatter",
         "visible": false,
         "x": [
          2004,
          2008,
          2012,
          2016
         ],
         "xaxis": "x3",
         "y": [
          2.942840909090909,
          3.0535450516986704,
          3.2345117845117843,
          3.4242608695652175
         ],
         "yaxis": "y5"
        },
        {
         "line": {
          "color": "green"
         },
         "mode": "lines",
         "name": "Fraction Pos. Sentiment Arizona - Lager",
         "type": "scatter",
         "visible": false,
         "x": [
          2004,
          2005,
          2006,
          2007,
          2008,
          2009,
          2010,
          2011,
          2012,
          2013,
          2014,
          2015,
          2016
         ],
         "xaxis": "x3",
         "y": [
          0.5333333333333333,
          0.625,
          0.4879227053140096,
          0.5568862275449102,
          0.5522388059701493,
          0.6231884057971014,
          0.6027397260273972,
          0.6153846153846154,
          0.6603773584905661,
          0.6629213483146068,
          0.8148148148148149,
          0.803921568627451,
          0.8311688311688312
         ],
         "yaxis": "y6"
        },
        {
         "hoverinfo": "text",
         "hovertext": [
          "Republican",
          "Republican",
          "Republican",
          "Republican"
         ],
         "marker": {
          "color": [
           "red",
           "red",
           "red",
           "red"
          ],
          "size": 10
         },
         "mode": "markers",
         "showlegend": false,
         "type": "scatter",
         "visible": false,
         "x": [
          2004,
          2008,
          2012,
          2016
         ],
         "xaxis": "x3",
         "y": [
          0.5333333333333333,
          0.5522388059701493,
          0.6603773584905661,
          0.8311688311688312
         ],
         "yaxis": "y6"
        },
        {
         "line": {
          "color": "red"
         },
         "mode": "lines",
         "name": "Fraction Pos. Sentiment Texas - Lager",
         "type": "scatter",
         "visible": false,
         "x": [
          2004,
          2005,
          2006,
          2007,
          2008,
          2009,
          2010,
          2011,
          2012,
          2013,
          2014,
          2015,
          2016
         ],
         "xaxis": "x3",
         "y": [
          0.5984848484848485,
          0.649390243902439,
          0.6,
          0.6689342403628118,
          0.5967503692762186,
          0.580226904376013,
          0.5484429065743945,
          0.5489614243323442,
          0.6363636363636364,
          0.7073170731707317,
          0.657243816254417,
          0.63671875,
          0.6608695652173913
         ],
         "yaxis": "y6"
        },
        {
         "hoverinfo": "text",
         "hovertext": [
          "Republican",
          "Republican",
          "Republican",
          "Republican"
         ],
         "marker": {
          "color": [
           "red",
           "red",
           "red",
           "red"
          ],
          "size": 10
         },
         "mode": "markers",
         "showlegend": false,
         "type": "scatter",
         "visible": false,
         "x": [
          2004,
          2008,
          2012,
          2016
         ],
         "xaxis": "x3",
         "y": [
          0.5984848484848485,
          0.5967503692762186,
          0.6363636363636364,
          0.6608695652173913
         ],
         "yaxis": "y6"
        },
        {
         "line": {
          "color": "blue"
         },
         "mode": "lines",
         "name": "Average Rating New York - IPA",
         "type": "scatter",
         "visible": false,
         "x": [
          2004,
          2005,
          2006,
          2007,
          2008,
          2009,
          2010,
          2011,
          2012,
          2013,
          2014,
          2015,
          2016
         ],
         "xaxis": "x",
         "y": [
          3.9988359788359786,
          3.971043689320388,
          3.9534058898847633,
          3.9607760314341847,
          3.9596075778078488,
          3.9362854198866564,
          3.96562775772162,
          3.9425774473358115,
          3.9445645756457566,
          4.002420058139535,
          4.011993047508691,
          4.077811135371179,
          4.1397855291067645
         ],
         "yaxis": "y"
        },
        {
         "hoverinfo": "text",
         "hovertext": [
          "Democrat",
          "Democrat",
          "Democrat",
          "Democrat"
         ],
         "marker": {
          "color": [
           "blue",
           "blue",
           "blue",
           "blue"
          ],
          "size": 10
         },
         "mode": "markers",
         "showlegend": false,
         "type": "scatter",
         "visible": false,
         "x": [
          2004,
          2008,
          2012,
          2016
         ],
         "xaxis": "x",
         "y": [
          3.9988359788359786,
          3.9596075778078488,
          3.9445645756457566,
          4.1397855291067645
         ],
         "yaxis": "y"
        },
        {
         "line": {
          "color": "orange"
         },
         "mode": "lines",
         "name": "Average Rating Georgia - IPA",
         "type": "scatter",
         "visible": false,
         "x": [
          2004,
          2005,
          2006,
          2007,
          2008,
          2009,
          2010,
          2011,
          2012,
          2013,
          2014,
          2015,
          2016
         ],
         "xaxis": "x",
         "y": [
          3.875467625899281,
          3.9892307692307694,
          3.9637764350453173,
          3.852271604938272,
          3.9420828402366865,
          3.9957291666666666,
          3.988833333333333,
          3.968154761904762,
          3.952344139650873,
          3.9789105058365757,
          4.010904033379695,
          4.081350861287397,
          4.097948430493274
         ],
         "yaxis": "y"
        },
        {
         "hoverinfo": "text",
         "hovertext": [
          "Republican",
          "Republican",
          "Republican",
          "Republican"
         ],
         "marker": {
          "color": [
           "red",
           "red",
           "red",
           "red"
          ],
          "size": 10
         },
         "mode": "markers",
         "showlegend": false,
         "type": "scatter",
         "visible": false,
         "x": [
          2004,
          2008,
          2012,
          2016
         ],
         "xaxis": "x",
         "y": [
          3.875467625899281,
          3.9420828402366865,
          3.952344139650873,
          4.097948430493274
         ],
         "yaxis": "y"
        },
        {
         "line": {
          "color": "green"
         },
         "mode": "lines",
         "name": "Fraction Pos. Sentiment New York - IPA",
         "type": "scatter",
         "visible": false,
         "x": [
          2004,
          2005,
          2006,
          2007,
          2008,
          2009,
          2010,
          2011,
          2012,
          2013,
          2014,
          2015,
          2016
         ],
         "xaxis": "x",
         "y": [
          0.843915343915344,
          0.854368932038835,
          0.7976952624839949,
          0.8172888015717092,
          0.8044654939106901,
          0.7789799072642968,
          0.7517047733654232,
          0.7620817843866171,
          0.7214022140221402,
          0.7318313953488372,
          0.7767477790652761,
          0.7862991266375545,
          0.799670044779637
         ],
         "yaxis": "y2"
        },
        {
         "hoverinfo": "text",
         "hovertext": [
          "Democrat",
          "Democrat",
          "Democrat",
          "Democrat"
         ],
         "marker": {
          "color": [
           "blue",
           "blue",
           "blue",
           "blue"
          ],
          "size": 10
         },
         "mode": "markers",
         "showlegend": false,
         "type": "scatter",
         "visible": false,
         "x": [
          2004,
          2008,
          2012,
          2016
         ],
         "xaxis": "x",
         "y": [
          0.843915343915344,
          0.8044654939106901,
          0.7214022140221402,
          0.799670044779637
         ],
         "yaxis": "y2"
        },
        {
         "line": {
          "color": "red"
         },
         "mode": "lines",
         "name": "Fraction Pos. Sentiment Georgia - IPA",
         "type": "scatter",
         "visible": false,
         "x": [
          2004,
          2005,
          2006,
          2007,
          2008,
          2009,
          2010,
          2011,
          2012,
          2013,
          2014,
          2015,
          2016
         ],
         "xaxis": "x",
         "y": [
          0.7410071942446044,
          0.6634615384615384,
          0.7492447129909365,
          0.8148148148148149,
          0.7964497041420118,
          0.796875,
          0.7925925925925926,
          0.814484126984127,
          0.7842892768079801,
          0.7924773022049286,
          0.8497913769123783,
          0.8404351767905711,
          0.8139013452914798
         ],
         "yaxis": "y2"
        },
        {
         "hoverinfo": "text",
         "hovertext": [
          "Republican",
          "Republican",
          "Republican",
          "Republican"
         ],
         "marker": {
          "color": [
           "red",
           "red",
           "red",
           "red"
          ],
          "size": 10
         },
         "mode": "markers",
         "showlegend": false,
         "type": "scatter",
         "visible": false,
         "x": [
          2004,
          2008,
          2012,
          2016
         ],
         "xaxis": "x",
         "y": [
          0.7410071942446044,
          0.7964497041420118,
          0.7842892768079801,
          0.8139013452914798
         ],
         "yaxis": "y2"
        },
        {
         "line": {
          "color": "blue"
         },
         "mode": "lines",
         "name": "Average Rating New York - Stout",
         "type": "scatter",
         "visible": false,
         "x": [
          2004,
          2005,
          2006,
          2007,
          2008,
          2009,
          2010,
          2011,
          2012,
          2013,
          2014,
          2015,
          2016
         ],
         "xaxis": "x2",
         "y": [
          3.98626404494382,
          3.9637533512064342,
          3.9773584905660377,
          4.029647519582245,
          3.997184841453983,
          3.99595567867036,
          4.0394418362024,
          4.0062942191544435,
          4.0069825708061,
          4.073031423290203,
          4.113042596348884,
          4.1369473140495865,
          4.16021913415286
         ],
         "yaxis": "y3"
        },
        {
         "hoverinfo": "text",
         "hovertext": [
          "Democrat",
          "Democrat",
          "Democrat",
          "Democrat"
         ],
         "marker": {
          "color": [
           "blue",
           "blue",
           "blue",
           "blue"
          ],
          "size": 10
         },
         "mode": "markers",
         "showlegend": false,
         "type": "scatter",
         "visible": false,
         "x": [
          2004,
          2008,
          2012,
          2016
         ],
         "xaxis": "x2",
         "y": [
          3.98626404494382,
          3.997184841453983,
          4.0069825708061,
          4.16021913415286
         ],
         "yaxis": "y3"
        },
        {
         "line": {
          "color": "orange"
         },
         "mode": "lines",
         "name": "Average Rating Georgia - Stout",
         "type": "scatter",
         "visible": false,
         "x": [
          2004,
          2005,
          2006,
          2007,
          2008,
          2009,
          2010,
          2011,
          2012,
          2013,
          2014,
          2015,
          2016
         ],
         "xaxis": "x2",
         "y": [
          3.912093023255814,
          4.040444444444445,
          3.872477064220184,
          3.853396226415094,
          4.014538690476191,
          4.047325728770596,
          4.104017305315204,
          4.070444726810673,
          4.018459016393443,
          4.04495,
          4.107424547283703,
          4.162752293577982,
          4.182108013937283
         ],
         "yaxis": "y3"
        },
        {
         "hoverinfo": "text",
         "hovertext": [
          "Republican",
          "Republican",
          "Republican",
          "Republican"
         ],
         "marker": {
          "color": [
           "red",
           "red",
           "red",
           "red"
          ],
          "size": 10
         },
         "mode": "markers",
         "showlegend": false,
         "type": "scatter",
         "visible": false,
         "x": [
          2004,
          2008,
          2012,
          2016
         ],
         "xaxis": "x2",
         "y": [
          3.912093023255814,
          4.014538690476191,
          4.018459016393443,
          4.182108013937283
         ],
         "yaxis": "y3"
        },
        {
         "line": {
          "color": "green"
         },
         "mode": "lines",
         "name": "Fraction Pos. Sentiment New York - Stout",
         "type": "scatter",
         "visible": false,
         "x": [
          2004,
          2005,
          2006,
          2007,
          2008,
          2009,
          2010,
          2011,
          2012,
          2013,
          2014,
          2015,
          2016
         ],
         "xaxis": "x2",
         "y": [
          0.8426966292134832,
          0.7908847184986595,
          0.730188679245283,
          0.7728459530026109,
          0.7726218097447796,
          0.7292243767313019,
          0.7188315075639019,
          0.7079378774805867,
          0.6933551198257081,
          0.7165742452248922,
          0.7633536173089925,
          0.7515495867768596,
          0.757883484767504
         ],
         "yaxis": "y4"
        },
        {
         "hoverinfo": "text",
         "hovertext": [
          "Democrat",
          "Democrat",
          "Democrat",
          "Democrat"
         ],
         "marker": {
          "color": [
           "blue",
           "blue",
           "blue",
           "blue"
          ],
          "size": 10
         },
         "mode": "markers",
         "showlegend": false,
         "type": "scatter",
         "visible": false,
         "x": [
          2004,
          2008,
          2012,
          2016
         ],
         "xaxis": "x2",
         "y": [
          0.8426966292134832,
          0.7726218097447796,
          0.6933551198257081,
          0.757883484767504
         ],
         "yaxis": "y4"
        },
        {
         "line": {
          "color": "red"
         },
         "mode": "lines",
         "name": "Fraction Pos. Sentiment Georgia - Stout",
         "type": "scatter",
         "visible": false,
         "x": [
          2004,
          2005,
          2006,
          2007,
          2008,
          2009,
          2010,
          2011,
          2012,
          2013,
          2014,
          2015,
          2016
         ],
         "xaxis": "x2",
         "y": [
          0.7364341085271318,
          0.7333333333333334,
          0.7201834862385321,
          0.8364779874213837,
          0.7886904761904762,
          0.8010139416983524,
          0.8059332509270705,
          0.7738246505717916,
          0.7163934426229508,
          0.7025,
          0.8249496981891348,
          0.8180428134556574,
          0.7979094076655052
         ],
         "yaxis": "y4"
        },
        {
         "hoverinfo": "text",
         "hovertext": [
          "Republican",
          "Republican",
          "Republican",
          "Republican"
         ],
         "marker": {
          "color": [
           "red",
           "red",
           "red",
           "red"
          ],
          "size": 10
         },
         "mode": "markers",
         "showlegend": false,
         "type": "scatter",
         "visible": false,
         "x": [
          2004,
          2008,
          2012,
          2016
         ],
         "xaxis": "x2",
         "y": [
          0.7364341085271318,
          0.7886904761904762,
          0.7163934426229508,
          0.7979094076655052
         ],
         "yaxis": "y4"
        },
        {
         "line": {
          "color": "blue"
         },
         "mode": "lines",
         "name": "Average Rating New York - Lager",
         "type": "scatter",
         "visible": false,
         "x": [
          2004,
          2005,
          2006,
          2007,
          2008,
          2009,
          2010,
          2011,
          2012,
          2013,
          2014,
          2015,
          2016
         ],
         "xaxis": "x3",
         "y": [
          3.0377251184834124,
          3.096842105263158,
          3.105751633986928,
          3.101659863945578,
          3.079911308203991,
          3.143558504221954,
          3.2051918465227818,
          3.1009247967479676,
          3.167714748784441,
          3.206441515650741,
          3.2830497925311204,
          3.231982905982906,
          3.2296830985915492
         ],
         "yaxis": "y5"
        },
        {
         "hoverinfo": "text",
         "hovertext": [
          "Democrat",
          "Democrat",
          "Democrat",
          "Democrat"
         ],
         "marker": {
          "color": [
           "blue",
           "blue",
           "blue",
           "blue"
          ],
          "size": 10
         },
         "mode": "markers",
         "showlegend": false,
         "type": "scatter",
         "visible": false,
         "x": [
          2004,
          2008,
          2012,
          2016
         ],
         "xaxis": "x3",
         "y": [
          3.0377251184834124,
          3.079911308203991,
          3.167714748784441,
          3.2296830985915492
         ],
         "yaxis": "y5"
        },
        {
         "line": {
          "color": "orange"
         },
         "mode": "lines",
         "name": "Average Rating Georgia - Lager",
         "type": "scatter",
         "visible": false,
         "x": [
          2004,
          2005,
          2006,
          2007,
          2008,
          2009,
          2010,
          2011,
          2012,
          2013,
          2014,
          2015,
          2016
         ],
         "xaxis": "x3",
         "y": [
          3.0620689655172413,
          2.905686274509804,
          2.825164319248826,
          2.826836363636364,
          3.083988764044944,
          3.085632530120482,
          3.171567398119122,
          3.1402919708029193,
          3.1336111111111107,
          3.3006451612903223,
          3.2333862433862435,
          3.2510833333333333,
          3.3961744966442953
         ],
         "yaxis": "y5"
        },
        {
         "hoverinfo": "text",
         "hovertext": [
          "Republican",
          "Republican",
          "Republican",
          "Republican"
         ],
         "marker": {
          "color": [
           "red",
           "red",
           "red",
           "red"
          ],
          "size": 10
         },
         "mode": "markers",
         "showlegend": false,
         "type": "scatter",
         "visible": false,
         "x": [
          2004,
          2008,
          2012,
          2016
         ],
         "xaxis": "x3",
         "y": [
          3.0620689655172413,
          3.083988764044944,
          3.1336111111111107,
          3.3961744966442953
         ],
         "yaxis": "y5"
        },
        {
         "line": {
          "color": "green"
         },
         "mode": "lines",
         "name": "Fraction Pos. Sentiment New York - Lager",
         "type": "scatter",
         "visible": false,
         "x": [
          2004,
          2005,
          2006,
          2007,
          2008,
          2009,
          2010,
          2011,
          2012,
          2013,
          2014,
          2015,
          2016
         ],
         "xaxis": "x3",
         "y": [
          0.6208530805687205,
          0.5894736842105264,
          0.5751633986928104,
          0.6095238095238096,
          0.6319290465631929,
          0.6296743063932448,
          0.5983213429256595,
          0.5467479674796748,
          0.6547811993517018,
          0.6622734761120264,
          0.6120331950207469,
          0.6393162393162393,
          0.6179577464788732
         ],
         "yaxis": "y6"
        },
        {
         "hoverinfo": "text",
         "hovertext": [
          "Democrat",
          "Democrat",
          "Democrat",
          "Democrat"
         ],
         "marker": {
          "color": [
           "blue",
           "blue",
           "blue",
           "blue"
          ],
          "size": 10
         },
         "mode": "markers",
         "showlegend": false,
         "type": "scatter",
         "visible": false,
         "x": [
          2004,
          2008,
          2012,
          2016
         ],
         "xaxis": "x3",
         "y": [
          0.6208530805687205,
          0.6319290465631929,
          0.6547811993517018,
          0.6179577464788732
         ],
         "yaxis": "y6"
        },
        {
         "line": {
          "color": "red"
         },
         "mode": "lines",
         "name": "Fraction Pos. Sentiment Georgia - Lager",
         "type": "scatter",
         "visible": false,
         "x": [
          2004,
          2005,
          2006,
          2007,
          2008,
          2009,
          2010,
          2011,
          2012,
          2013,
          2014,
          2015,
          2016
         ],
         "xaxis": "x3",
         "y": [
          0.6436781609195402,
          0.5686274509803921,
          0.4741784037558685,
          0.6290909090909091,
          0.6825842696629214,
          0.5963855421686747,
          0.6300940438871474,
          0.6605839416058394,
          0.6833333333333333,
          0.6989247311827957,
          0.7195767195767195,
          0.7041666666666666,
          0.651006711409396
         ],
         "yaxis": "y6"
        },
        {
         "hoverinfo": "text",
         "hovertext": [
          "Republican",
          "Republican",
          "Republican",
          "Republican"
         ],
         "marker": {
          "color": [
           "red",
           "red",
           "red",
           "red"
          ],
          "size": 10
         },
         "mode": "markers",
         "showlegend": false,
         "type": "scatter",
         "visible": false,
         "x": [
          2004,
          2008,
          2012,
          2016
         ],
         "xaxis": "x3",
         "y": [
          0.6436781609195402,
          0.6825842696629214,
          0.6833333333333333,
          0.651006711409396
         ],
         "yaxis": "y6"
        },
        {
         "line": {
          "color": "blue"
         },
         "mode": "lines",
         "name": "Average Rating New York - IPA",
         "type": "scatter",
         "visible": false,
         "x": [
          2004,
          2005,
          2006,
          2007,
          2008,
          2009,
          2010,
          2011,
          2012,
          2013,
          2014,
          2015,
          2016
         ],
         "xaxis": "x",
         "y": [
          3.9988359788359786,
          3.971043689320388,
          3.9534058898847633,
          3.9607760314341847,
          3.9596075778078488,
          3.9362854198866564,
          3.96562775772162,
          3.9425774473358115,
          3.9445645756457566,
          4.002420058139535,
          4.011993047508691,
          4.077811135371179,
          4.1397855291067645
         ],
         "yaxis": "y"
        },
        {
         "hoverinfo": "text",
         "hovertext": [
          "Democrat",
          "Democrat",
          "Democrat",
          "Democrat"
         ],
         "marker": {
          "color": [
           "blue",
           "blue",
           "blue",
           "blue"
          ],
          "size": 10
         },
         "mode": "markers",
         "showlegend": false,
         "type": "scatter",
         "visible": false,
         "x": [
          2004,
          2008,
          2012,
          2016
         ],
         "xaxis": "x",
         "y": [
          3.9988359788359786,
          3.9596075778078488,
          3.9445645756457566,
          4.1397855291067645
         ],
         "yaxis": "y"
        },
        {
         "line": {
          "color": "orange"
         },
         "mode": "lines",
         "name": "Average Rating Arizona - IPA",
         "type": "scatter",
         "visible": false,
         "x": [
          2004,
          2005,
          2006,
          2007,
          2008,
          2009,
          2010,
          2011,
          2012,
          2013,
          2014,
          2015,
          2016
         ],
         "xaxis": "x",
         "y": [
          4.078715596330275,
          3.8506730769230773,
          3.9636824324324325,
          3.8411838006230528,
          3.907269503546099,
          3.8973605947955394,
          3.966426332288401,
          3.9623400365630714,
          3.9611023622047243,
          4.033816155988858,
          4.006772334293948,
          4.0800717703349285,
          4.095420560747663
         ],
         "yaxis": "y"
        },
        {
         "hoverinfo": "text",
         "hovertext": [
          "Republican",
          "Republican",
          "Republican",
          "Republican"
         ],
         "marker": {
          "color": [
           "red",
           "red",
           "red",
           "red"
          ],
          "size": 10
         },
         "mode": "markers",
         "showlegend": false,
         "type": "scatter",
         "visible": false,
         "x": [
          2004,
          2008,
          2012,
          2016
         ],
         "xaxis": "x",
         "y": [
          4.078715596330275,
          3.907269503546099,
          3.9611023622047243,
          4.095420560747663
         ],
         "yaxis": "y"
        },
        {
         "line": {
          "color": "green"
         },
         "mode": "lines",
         "name": "Fraction Pos. Sentiment New York - IPA",
         "type": "scatter",
         "visible": false,
         "x": [
          2004,
          2005,
          2006,
          2007,
          2008,
          2009,
          2010,
          2011,
          2012,
          2013,
          2014,
          2015,
          2016
         ],
         "xaxis": "x",
         "y": [
          0.843915343915344,
          0.854368932038835,
          0.7976952624839949,
          0.8172888015717092,
          0.8044654939106901,
          0.7789799072642968,
          0.7517047733654232,
          0.7620817843866171,
          0.7214022140221402,
          0.7318313953488372,
          0.7767477790652761,
          0.7862991266375545,
          0.799670044779637
         ],
         "yaxis": "y2"
        },
        {
         "hoverinfo": "text",
         "hovertext": [
          "Democrat",
          "Democrat",
          "Democrat",
          "Democrat"
         ],
         "marker": {
          "color": [
           "blue",
           "blue",
           "blue",
           "blue"
          ],
          "size": 10
         },
         "mode": "markers",
         "showlegend": false,
         "type": "scatter",
         "visible": false,
         "x": [
          2004,
          2008,
          2012,
          2016
         ],
         "xaxis": "x",
         "y": [
          0.843915343915344,
          0.8044654939106901,
          0.7214022140221402,
          0.799670044779637
         ],
         "yaxis": "y2"
        },
        {
         "line": {
          "color": "red"
         },
         "mode": "lines",
         "name": "Fraction Pos. Sentiment Arizona - IPA",
         "type": "scatter",
         "visible": false,
         "x": [
          2004,
          2005,
          2006,
          2007,
          2008,
          2009,
          2010,
          2011,
          2012,
          2013,
          2014,
          2015,
          2016
         ],
         "xaxis": "x",
         "y": [
          0.926605504587156,
          0.9038461538461539,
          0.8648648648648649,
          0.7850467289719626,
          0.7765957446808511,
          0.8364312267657993,
          0.8338557993730408,
          0.8025594149908593,
          0.8228346456692913,
          0.7966573816155988,
          0.8587896253602305,
          0.861244019138756,
          0.9042056074766355
         ],
         "yaxis": "y2"
        },
        {
         "hoverinfo": "text",
         "hovertext": [
          "Republican",
          "Republican",
          "Republican",
          "Republican"
         ],
         "marker": {
          "color": [
           "red",
           "red",
           "red",
           "red"
          ],
          "size": 10
         },
         "mode": "markers",
         "showlegend": false,
         "type": "scatter",
         "visible": false,
         "x": [
          2004,
          2008,
          2012,
          2016
         ],
         "xaxis": "x",
         "y": [
          0.926605504587156,
          0.7765957446808511,
          0.8228346456692913,
          0.9042056074766355
         ],
         "yaxis": "y2"
        },
        {
         "line": {
          "color": "blue"
         },
         "mode": "lines",
         "name": "Average Rating New York - Stout",
         "type": "scatter",
         "visible": false,
         "x": [
          2004,
          2005,
          2006,
          2007,
          2008,
          2009,
          2010,
          2011,
          2012,
          2013,
          2014,
          2015,
          2016
         ],
         "xaxis": "x2",
         "y": [
          3.98626404494382,
          3.9637533512064342,
          3.9773584905660377,
          4.029647519582245,
          3.997184841453983,
          3.99595567867036,
          4.0394418362024,
          4.0062942191544435,
          4.0069825708061,
          4.073031423290203,
          4.113042596348884,
          4.1369473140495865,
          4.16021913415286
         ],
         "yaxis": "y3"
        },
        {
         "hoverinfo": "text",
         "hovertext": [
          "Democrat",
          "Democrat",
          "Democrat",
          "Democrat"
         ],
         "marker": {
          "color": [
           "blue",
           "blue",
           "blue",
           "blue"
          ],
          "size": 10
         },
         "mode": "markers",
         "showlegend": false,
         "type": "scatter",
         "visible": false,
         "x": [
          2004,
          2008,
          2012,
          2016
         ],
         "xaxis": "x2",
         "y": [
          3.98626404494382,
          3.997184841453983,
          4.0069825708061,
          4.16021913415286
         ],
         "yaxis": "y3"
        },
        {
         "line": {
          "color": "orange"
         },
         "mode": "lines",
         "name": "Average Rating Arizona - Stout",
         "type": "scatter",
         "visible": false,
         "x": [
          2004,
          2005,
          2006,
          2007,
          2008,
          2009,
          2010,
          2011,
          2012,
          2013,
          2014,
          2015,
          2016
         ],
         "xaxis": "x2",
         "y": [
          4.098452380952381,
          3.9787500000000002,
          3.986748768472906,
          3.845806451612903,
          3.9100829875518675,
          3.9794897959183673,
          4.017534246575343,
          3.946818181818182,
          4.021909090909091,
          4.078432432432432,
          4.068100558659218,
          4.158051282051282,
          4.265
         ],
         "yaxis": "y3"
        },
        {
         "hoverinfo": "text",
         "hovertext": [
          "Republican",
          "Republican",
          "Republican",
          "Republican"
         ],
         "marker": {
          "color": [
           "red",
           "red",
           "red",
           "red"
          ],
          "size": 10
         },
         "mode": "markers",
         "showlegend": false,
         "type": "scatter",
         "visible": false,
         "x": [
          2004,
          2008,
          2012,
          2016
         ],
         "xaxis": "x2",
         "y": [
          4.098452380952381,
          3.9100829875518675,
          4.021909090909091,
          4.265
         ],
         "yaxis": "y3"
        },
        {
         "line": {
          "color": "green"
         },
         "mode": "lines",
         "name": "Fraction Pos. Sentiment New York - Stout",
         "type": "scatter",
         "visible": false,
         "x": [
          2004,
          2005,
          2006,
          2007,
          2008,
          2009,
          2010,
          2011,
          2012,
          2013,
          2014,
          2015,
          2016
         ],
         "xaxis": "x2",
         "y": [
          0.8426966292134832,
          0.7908847184986595,
          0.730188679245283,
          0.7728459530026109,
          0.7726218097447796,
          0.7292243767313019,
          0.7188315075639019,
          0.7079378774805867,
          0.6933551198257081,
          0.7165742452248922,
          0.7633536173089925,
          0.7515495867768596,
          0.757883484767504
         ],
         "yaxis": "y4"
        },
        {
         "hoverinfo": "text",
         "hovertext": [
          "Democrat",
          "Democrat",
          "Democrat",
          "Democrat"
         ],
         "marker": {
          "color": [
           "blue",
           "blue",
           "blue",
           "blue"
          ],
          "size": 10
         },
         "mode": "markers",
         "showlegend": false,
         "type": "scatter",
         "visible": false,
         "x": [
          2004,
          2008,
          2012,
          2016
         ],
         "xaxis": "x2",
         "y": [
          0.8426966292134832,
          0.7726218097447796,
          0.6933551198257081,
          0.757883484767504
         ],
         "yaxis": "y4"
        },
        {
         "line": {
          "color": "red"
         },
         "mode": "lines",
         "name": "Fraction Pos. Sentiment Arizona - Stout",
         "type": "scatter",
         "visible": false,
         "x": [
          2004,
          2005,
          2006,
          2007,
          2008,
          2009,
          2010,
          2011,
          2012,
          2013,
          2014,
          2015,
          2016
         ],
         "xaxis": "x2",
         "y": [
          0.8571428571428572,
          0.8472222222222222,
          0.8029556650246306,
          0.6866359447004609,
          0.7302904564315353,
          0.7091836734693877,
          0.7899543378995434,
          0.7247474747474747,
          0.7727272727272727,
          0.6702702702702703,
          0.776536312849162,
          0.8256410256410256,
          0.8541666666666666
         ],
         "yaxis": "y4"
        },
        {
         "hoverinfo": "text",
         "hovertext": [
          "Republican",
          "Republican",
          "Republican",
          "Republican"
         ],
         "marker": {
          "color": [
           "red",
           "red",
           "red",
           "red"
          ],
          "size": 10
         },
         "mode": "markers",
         "showlegend": false,
         "type": "scatter",
         "visible": false,
         "x": [
          2004,
          2008,
          2012,
          2016
         ],
         "xaxis": "x2",
         "y": [
          0.8571428571428572,
          0.7302904564315353,
          0.7727272727272727,
          0.8541666666666666
         ],
         "yaxis": "y4"
        },
        {
         "line": {
          "color": "blue"
         },
         "mode": "lines",
         "name": "Average Rating New York - Lager",
         "type": "scatter",
         "visible": false,
         "x": [
          2004,
          2005,
          2006,
          2007,
          2008,
          2009,
          2010,
          2011,
          2012,
          2013,
          2014,
          2015,
          2016
         ],
         "xaxis": "x3",
         "y": [
          3.0377251184834124,
          3.096842105263158,
          3.105751633986928,
          3.101659863945578,
          3.079911308203991,
          3.143558504221954,
          3.2051918465227818,
          3.1009247967479676,
          3.167714748784441,
          3.206441515650741,
          3.2830497925311204,
          3.231982905982906,
          3.2296830985915492
         ],
         "yaxis": "y5"
        },
        {
         "hoverinfo": "text",
         "hovertext": [
          "Democrat",
          "Democrat",
          "Democrat",
          "Democrat"
         ],
         "marker": {
          "color": [
           "blue",
           "blue",
           "blue",
           "blue"
          ],
          "size": 10
         },
         "mode": "markers",
         "showlegend": false,
         "type": "scatter",
         "visible": false,
         "x": [
          2004,
          2008,
          2012,
          2016
         ],
         "xaxis": "x3",
         "y": [
          3.0377251184834124,
          3.079911308203991,
          3.167714748784441,
          3.2296830985915492
         ],
         "yaxis": "y5"
        },
        {
         "line": {
          "color": "orange"
         },
         "mode": "lines",
         "name": "Average Rating Arizona - Lager",
         "type": "scatter",
         "visible": false,
         "x": [
          2004,
          2005,
          2006,
          2007,
          2008,
          2009,
          2010,
          2011,
          2012,
          2013,
          2014,
          2015,
          2016
         ],
         "xaxis": "x3",
         "y": [
          2.693111111111111,
          2.879431818181818,
          2.8910628019323674,
          3.0431736526946107,
          3.155522388059701,
          3.2671014492753625,
          3.085821917808219,
          3.124230769230769,
          3.2145283018867925,
          3.246067415730337,
          3.4853703703703705,
          3.603529411764706,
          3.3979220779220776
         ],
         "yaxis": "y5"
        },
        {
         "hoverinfo": "text",
         "hovertext": [
          "Republican",
          "Republican",
          "Republican",
          "Republican"
         ],
         "marker": {
          "color": [
           "red",
           "red",
           "red",
           "red"
          ],
          "size": 10
         },
         "mode": "markers",
         "showlegend": false,
         "type": "scatter",
         "visible": false,
         "x": [
          2004,
          2008,
          2012,
          2016
         ],
         "xaxis": "x3",
         "y": [
          2.693111111111111,
          3.155522388059701,
          3.2145283018867925,
          3.3979220779220776
         ],
         "yaxis": "y5"
        },
        {
         "line": {
          "color": "green"
         },
         "mode": "lines",
         "name": "Fraction Pos. Sentiment New York - Lager",
         "type": "scatter",
         "visible": false,
         "x": [
          2004,
          2005,
          2006,
          2007,
          2008,
          2009,
          2010,
          2011,
          2012,
          2013,
          2014,
          2015,
          2016
         ],
         "xaxis": "x3",
         "y": [
          0.6208530805687205,
          0.5894736842105264,
          0.5751633986928104,
          0.6095238095238096,
          0.6319290465631929,
          0.6296743063932448,
          0.5983213429256595,
          0.5467479674796748,
          0.6547811993517018,
          0.6622734761120264,
          0.6120331950207469,
          0.6393162393162393,
          0.6179577464788732
         ],
         "yaxis": "y6"
        },
        {
         "hoverinfo": "text",
         "hovertext": [
          "Democrat",
          "Democrat",
          "Democrat",
          "Democrat"
         ],
         "marker": {
          "color": [
           "blue",
           "blue",
           "blue",
           "blue"
          ],
          "size": 10
         },
         "mode": "markers",
         "showlegend": false,
         "type": "scatter",
         "visible": false,
         "x": [
          2004,
          2008,
          2012,
          2016
         ],
         "xaxis": "x3",
         "y": [
          0.6208530805687205,
          0.6319290465631929,
          0.6547811993517018,
          0.6179577464788732
         ],
         "yaxis": "y6"
        },
        {
         "line": {
          "color": "red"
         },
         "mode": "lines",
         "name": "Fraction Pos. Sentiment Arizona - Lager",
         "type": "scatter",
         "visible": false,
         "x": [
          2004,
          2005,
          2006,
          2007,
          2008,
          2009,
          2010,
          2011,
          2012,
          2013,
          2014,
          2015,
          2016
         ],
         "xaxis": "x3",
         "y": [
          0.5333333333333333,
          0.625,
          0.4879227053140096,
          0.5568862275449102,
          0.5522388059701493,
          0.6231884057971014,
          0.6027397260273972,
          0.6153846153846154,
          0.6603773584905661,
          0.6629213483146068,
          0.8148148148148149,
          0.803921568627451,
          0.8311688311688312
         ],
         "yaxis": "y6"
        },
        {
         "hoverinfo": "text",
         "hovertext": [
          "Republican",
          "Republican",
          "Republican",
          "Republican"
         ],
         "marker": {
          "color": [
           "red",
           "red",
           "red",
           "red"
          ],
          "size": 10
         },
         "mode": "markers",
         "showlegend": false,
         "type": "scatter",
         "visible": false,
         "x": [
          2004,
          2008,
          2012,
          2016
         ],
         "xaxis": "x3",
         "y": [
          0.5333333333333333,
          0.5522388059701493,
          0.6603773584905661,
          0.8311688311688312
         ],
         "yaxis": "y6"
        },
        {
         "line": {
          "color": "blue"
         },
         "mode": "lines",
         "name": "Average Rating Arizona - IPA",
         "type": "scatter",
         "visible": false,
         "x": [
          2004,
          2005,
          2006,
          2007,
          2008,
          2009,
          2010,
          2011,
          2012,
          2013,
          2014,
          2015,
          2016
         ],
         "xaxis": "x",
         "y": [
          4.078715596330275,
          3.8506730769230773,
          3.9636824324324325,
          3.8411838006230528,
          3.907269503546099,
          3.8973605947955394,
          3.966426332288401,
          3.9623400365630714,
          3.9611023622047243,
          4.033816155988858,
          4.006772334293948,
          4.0800717703349285,
          4.095420560747663
         ],
         "yaxis": "y"
        },
        {
         "hoverinfo": "text",
         "hovertext": [
          "Republican",
          "Republican",
          "Republican",
          "Republican"
         ],
         "marker": {
          "color": [
           "red",
           "red",
           "red",
           "red"
          ],
          "size": 10
         },
         "mode": "markers",
         "showlegend": false,
         "type": "scatter",
         "visible": false,
         "x": [
          2004,
          2008,
          2012,
          2016
         ],
         "xaxis": "x",
         "y": [
          4.078715596330275,
          3.907269503546099,
          3.9611023622047243,
          4.095420560747663
         ],
         "yaxis": "y"
        },
        {
         "line": {
          "color": "orange"
         },
         "mode": "lines",
         "name": "Average Rating South Carolina - IPA",
         "type": "scatter",
         "visible": false,
         "x": [
          2004,
          2005,
          2006,
          2007,
          2008,
          2009,
          2010,
          2011,
          2012,
          2013,
          2014,
          2015,
          2016
         ],
         "xaxis": "x",
         "y": [
          4.1899999999999995,
          3.951904761904762,
          4.1374,
          4.082686567164179,
          3.979372197309417,
          3.9943033509700174,
          3.9534841628959274,
          3.9549927007299273,
          3.9047972972972973,
          4.03578449905482,
          3.846793349168646,
          3.941608961303462,
          3.904583333333333
         ],
         "yaxis": "y"
        },
        {
         "hoverinfo": "text",
         "hovertext": [
          "Republican",
          "Republican",
          "Republican",
          "Republican"
         ],
         "marker": {
          "color": [
           "red",
           "red",
           "red",
           "red"
          ],
          "size": 10
         },
         "mode": "markers",
         "showlegend": false,
         "type": "scatter",
         "visible": false,
         "x": [
          2004,
          2008,
          2012,
          2016
         ],
         "xaxis": "x",
         "y": [
          4.1899999999999995,
          3.979372197309417,
          3.9047972972972973,
          3.904583333333333
         ],
         "yaxis": "y"
        },
        {
         "line": {
          "color": "green"
         },
         "mode": "lines",
         "name": "Fraction Pos. Sentiment Arizona - IPA",
         "type": "scatter",
         "visible": false,
         "x": [
          2004,
          2005,
          2006,
          2007,
          2008,
          2009,
          2010,
          2011,
          2012,
          2013,
          2014,
          2015,
          2016
         ],
         "xaxis": "x",
         "y": [
          0.926605504587156,
          0.9038461538461539,
          0.8648648648648649,
          0.7850467289719626,
          0.7765957446808511,
          0.8364312267657993,
          0.8338557993730408,
          0.8025594149908593,
          0.8228346456692913,
          0.7966573816155988,
          0.8587896253602305,
          0.861244019138756,
          0.9042056074766355
         ],
         "yaxis": "y2"
        },
        {
         "hoverinfo": "text",
         "hovertext": [
          "Republican",
          "Republican",
          "Republican",
          "Republican"
         ],
         "marker": {
          "color": [
           "red",
           "red",
           "red",
           "red"
          ],
          "size": 10
         },
         "mode": "markers",
         "showlegend": false,
         "type": "scatter",
         "visible": false,
         "x": [
          2004,
          2008,
          2012,
          2016
         ],
         "xaxis": "x",
         "y": [
          0.926605504587156,
          0.7765957446808511,
          0.8228346456692913,
          0.9042056074766355
         ],
         "yaxis": "y2"
        },
        {
         "line": {
          "color": "red"
         },
         "mode": "lines",
         "name": "Fraction Pos. Sentiment South Carolina - IPA",
         "type": "scatter",
         "visible": false,
         "x": [
          2004,
          2005,
          2006,
          2007,
          2008,
          2009,
          2010,
          2011,
          2012,
          2013,
          2014,
          2015,
          2016
         ],
         "xaxis": "x",
         "y": [
          1,
          0.8571428571428572,
          0.84,
          0.8507462686567164,
          0.8430493273542601,
          0.8201058201058201,
          0.8340874811463047,
          0.7664233576642336,
          0.6756756756756757,
          0.7051039697542534,
          0.7672209026128266,
          0.7881873727087576,
          0.8420138888888888
         ],
         "yaxis": "y2"
        },
        {
         "hoverinfo": "text",
         "hovertext": [
          "Republican",
          "Republican",
          "Republican",
          "Republican"
         ],
         "marker": {
          "color": [
           "red",
           "red",
           "red",
           "red"
          ],
          "size": 10
         },
         "mode": "markers",
         "showlegend": false,
         "type": "scatter",
         "visible": false,
         "x": [
          2004,
          2008,
          2012,
          2016
         ],
         "xaxis": "x",
         "y": [
          1,
          0.8430493273542601,
          0.6756756756756757,
          0.8420138888888888
         ],
         "yaxis": "y2"
        },
        {
         "line": {
          "color": "blue"
         },
         "mode": "lines",
         "name": "Average Rating Arizona - Stout",
         "type": "scatter",
         "visible": false,
         "x": [
          2004,
          2005,
          2006,
          2007,
          2008,
          2009,
          2010,
          2011,
          2012,
          2013,
          2014,
          2015,
          2016
         ],
         "xaxis": "x2",
         "y": [
          4.098452380952381,
          3.9787500000000002,
          3.986748768472906,
          3.845806451612903,
          3.9100829875518675,
          3.9794897959183673,
          4.017534246575343,
          3.946818181818182,
          4.021909090909091,
          4.078432432432432,
          4.068100558659218,
          4.158051282051282,
          4.265
         ],
         "yaxis": "y3"
        },
        {
         "hoverinfo": "text",
         "hovertext": [
          "Republican",
          "Republican",
          "Republican",
          "Republican"
         ],
         "marker": {
          "color": [
           "red",
           "red",
           "red",
           "red"
          ],
          "size": 10
         },
         "mode": "markers",
         "showlegend": false,
         "type": "scatter",
         "visible": false,
         "x": [
          2004,
          2008,
          2012,
          2016
         ],
         "xaxis": "x2",
         "y": [
          4.098452380952381,
          3.9100829875518675,
          4.021909090909091,
          4.265
         ],
         "yaxis": "y3"
        },
        {
         "line": {
          "color": "orange"
         },
         "mode": "lines",
         "name": "Average Rating South Carolina - Stout",
         "type": "scatter",
         "visible": false,
         "x": [
          2004,
          2005,
          2006,
          2007,
          2008,
          2009,
          2010,
          2011,
          2012,
          2013,
          2014,
          2015,
          2016
         ],
         "xaxis": "x2",
         "y": [
          4.3725000000000005,
          3.9992857142857146,
          3.983896103896104,
          4.064954954954954,
          4.073744292237443,
          4.068915989159891,
          4.022577565632458,
          4.043659574468085,
          3.975583596214511,
          4.129338422391857,
          4.026111111111111,
          4.013894472361809,
          4.074095860566449
         ],
         "yaxis": "y3"
        },
        {
         "hoverinfo": "text",
         "hovertext": [
          "Republican",
          "Republican",
          "Republican",
          "Republican"
         ],
         "marker": {
          "color": [
           "red",
           "red",
           "red",
           "red"
          ],
          "size": 10
         },
         "mode": "markers",
         "showlegend": false,
         "type": "scatter",
         "visible": false,
         "x": [
          2004,
          2008,
          2012,
          2016
         ],
         "xaxis": "x2",
         "y": [
          4.3725000000000005,
          4.073744292237443,
          3.975583596214511,
          4.074095860566449
         ],
         "yaxis": "y3"
        },
        {
         "line": {
          "color": "green"
         },
         "mode": "lines",
         "name": "Fraction Pos. Sentiment Arizona - Stout",
         "type": "scatter",
         "visible": false,
         "x": [
          2004,
          2005,
          2006,
          2007,
          2008,
          2009,
          2010,
          2011,
          2012,
          2013,
          2014,
          2015,
          2016
         ],
         "xaxis": "x2",
         "y": [
          0.8571428571428572,
          0.8472222222222222,
          0.8029556650246306,
          0.6866359447004609,
          0.7302904564315353,
          0.7091836734693877,
          0.7899543378995434,
          0.7247474747474747,
          0.7727272727272727,
          0.6702702702702703,
          0.776536312849162,
          0.8256410256410256,
          0.8541666666666666
         ],
         "yaxis": "y4"
        },
        {
         "hoverinfo": "text",
         "hovertext": [
          "Republican",
          "Republican",
          "Republican",
          "Republican"
         ],
         "marker": {
          "color": [
           "red",
           "red",
           "red",
           "red"
          ],
          "size": 10
         },
         "mode": "markers",
         "showlegend": false,
         "type": "scatter",
         "visible": false,
         "x": [
          2004,
          2008,
          2012,
          2016
         ],
         "xaxis": "x2",
         "y": [
          0.8571428571428572,
          0.7302904564315353,
          0.7727272727272727,
          0.8541666666666666
         ],
         "yaxis": "y4"
        },
        {
         "line": {
          "color": "red"
         },
         "mode": "lines",
         "name": "Fraction Pos. Sentiment South Carolina - Stout",
         "type": "scatter",
         "visible": false,
         "x": [
          2004,
          2005,
          2006,
          2007,
          2008,
          2009,
          2010,
          2011,
          2012,
          2013,
          2014,
          2015,
          2016
         ],
         "xaxis": "x2",
         "y": [
          1,
          0.7857142857142857,
          0.6753246753246753,
          0.7927927927927928,
          0.8264840182648402,
          0.7913279132791328,
          0.7565632458233891,
          0.7276595744680852,
          0.6403785488958991,
          0.633587786259542,
          0.6164021164021164,
          0.6884422110552764,
          0.7625272331154684
         ],
         "yaxis": "y4"
        },
        {
         "hoverinfo": "text",
         "hovertext": [
          "Republican",
          "Republican",
          "Republican",
          "Republican"
         ],
         "marker": {
          "color": [
           "red",
           "red",
           "red",
           "red"
          ],
          "size": 10
         },
         "mode": "markers",
         "showlegend": false,
         "type": "scatter",
         "visible": false,
         "x": [
          2004,
          2008,
          2012,
          2016
         ],
         "xaxis": "x2",
         "y": [
          1,
          0.8264840182648402,
          0.6403785488958991,
          0.7625272331154684
         ],
         "yaxis": "y4"
        },
        {
         "line": {
          "color": "blue"
         },
         "mode": "lines",
         "name": "Average Rating Arizona - Lager",
         "type": "scatter",
         "visible": false,
         "x": [
          2004,
          2005,
          2006,
          2007,
          2008,
          2009,
          2010,
          2011,
          2012,
          2013,
          2014,
          2015,
          2016
         ],
         "xaxis": "x3",
         "y": [
          2.693111111111111,
          2.879431818181818,
          2.8910628019323674,
          3.0431736526946107,
          3.155522388059701,
          3.2671014492753625,
          3.085821917808219,
          3.124230769230769,
          3.2145283018867925,
          3.246067415730337,
          3.4853703703703705,
          3.603529411764706,
          3.3979220779220776
         ],
         "yaxis": "y5"
        },
        {
         "hoverinfo": "text",
         "hovertext": [
          "Republican",
          "Republican",
          "Republican",
          "Republican"
         ],
         "marker": {
          "color": [
           "red",
           "red",
           "red",
           "red"
          ],
          "size": 10
         },
         "mode": "markers",
         "showlegend": false,
         "type": "scatter",
         "visible": false,
         "x": [
          2004,
          2008,
          2012,
          2016
         ],
         "xaxis": "x3",
         "y": [
          2.693111111111111,
          3.155522388059701,
          3.2145283018867925,
          3.3979220779220776
         ],
         "yaxis": "y5"
        },
        {
         "line": {
          "color": "orange"
         },
         "mode": "lines",
         "name": "Average Rating South Carolina - Lager",
         "type": "scatter",
         "visible": false,
         "x": [
          2004,
          2005,
          2006,
          2007,
          2008,
          2009,
          2010,
          2011,
          2012,
          2013,
          2014,
          2015,
          2016
         ],
         "xaxis": "x3",
         "y": [
          2.597142857142857,
          2.925957446808511,
          2.9435185185185184,
          3.0852830188679246,
          2.9585470085470083,
          3.077433628318584,
          3.0715333333333334,
          3.1151381215469613,
          3.2813559322033896,
          3.0903125,
          3.122777777777778,
          3.328819875776398,
          3.4736986301369863
         ],
         "yaxis": "y5"
        },
        {
         "hoverinfo": "text",
         "hovertext": [
          "Republican",
          "Republican",
          "Republican",
          "Republican"
         ],
         "marker": {
          "color": [
           "red",
           "red",
           "red",
           "red"
          ],
          "size": 10
         },
         "mode": "markers",
         "showlegend": false,
         "type": "scatter",
         "visible": false,
         "x": [
          2004,
          2008,
          2012,
          2016
         ],
         "xaxis": "x3",
         "y": [
          2.597142857142857,
          2.9585470085470083,
          3.2813559322033896,
          3.4736986301369863
         ],
         "yaxis": "y5"
        },
        {
         "line": {
          "color": "green"
         },
         "mode": "lines",
         "name": "Fraction Pos. Sentiment Arizona - Lager",
         "type": "scatter",
         "visible": false,
         "x": [
          2004,
          2005,
          2006,
          2007,
          2008,
          2009,
          2010,
          2011,
          2012,
          2013,
          2014,
          2015,
          2016
         ],
         "xaxis": "x3",
         "y": [
          0.5333333333333333,
          0.625,
          0.4879227053140096,
          0.5568862275449102,
          0.5522388059701493,
          0.6231884057971014,
          0.6027397260273972,
          0.6153846153846154,
          0.6603773584905661,
          0.6629213483146068,
          0.8148148148148149,
          0.803921568627451,
          0.8311688311688312
         ],
         "yaxis": "y6"
        },
        {
         "hoverinfo": "text",
         "hovertext": [
          "Republican",
          "Republican",
          "Republican",
          "Republican"
         ],
         "marker": {
          "color": [
           "red",
           "red",
           "red",
           "red"
          ],
          "size": 10
         },
         "mode": "markers",
         "showlegend": false,
         "type": "scatter",
         "visible": false,
         "x": [
          2004,
          2008,
          2012,
          2016
         ],
         "xaxis": "x3",
         "y": [
          0.5333333333333333,
          0.5522388059701493,
          0.6603773584905661,
          0.8311688311688312
         ],
         "yaxis": "y6"
        },
        {
         "line": {
          "color": "red"
         },
         "mode": "lines",
         "name": "Fraction Pos. Sentiment South Carolina - Lager",
         "type": "scatter",
         "visible": false,
         "x": [
          2004,
          2005,
          2006,
          2007,
          2008,
          2009,
          2010,
          2011,
          2012,
          2013,
          2014,
          2015,
          2016
         ],
         "xaxis": "x3",
         "y": [
          0.5238095238095238,
          0.5957446808510638,
          0.37037037037037035,
          0.5849056603773585,
          0.7264957264957265,
          0.584070796460177,
          0.48,
          0.580110497237569,
          0.5254237288135593,
          0.47916666666666663,
          0.5833333333333333,
          0.6832298136645962,
          0.7808219178082192
         ],
         "yaxis": "y6"
        },
        {
         "hoverinfo": "text",
         "hovertext": [
          "Republican",
          "Republican",
          "Republican",
          "Republican"
         ],
         "marker": {
          "color": [
           "red",
           "red",
           "red",
           "red"
          ],
          "size": 10
         },
         "mode": "markers",
         "showlegend": false,
         "type": "scatter",
         "visible": false,
         "x": [
          2004,
          2008,
          2012,
          2016
         ],
         "xaxis": "x3",
         "y": [
          0.5238095238095238,
          0.7264957264957265,
          0.5254237288135593,
          0.7808219178082192
         ],
         "yaxis": "y6"
        },
        {
         "line": {
          "color": "blue"
         },
         "mode": "lines",
         "name": "Average Rating Nevada - IPA",
         "type": "scatter",
         "visible": false,
         "x": [
          2004,
          2005,
          2006,
          2007,
          2008,
          2009,
          2010,
          2011,
          2012,
          2013,
          2014,
          2015,
          2016
         ],
         "xaxis": "x",
         "y": [
          3.93,
          3.9377142857142857,
          4.081724137931035,
          4.0067032967032965,
          4.024893617021277,
          4.026341463414634,
          4.077608695652174,
          3.9537878787878786,
          3.9720833333333334,
          4.038818897637795,
          4.176947368421053,
          3.8108510638297868,
          3.6431649331352154
         ],
         "yaxis": "y"
        },
        {
         "hoverinfo": "text",
         "hovertext": [
          "Republican",
          "Democrat",
          "Democrat",
          "Democrat"
         ],
         "marker": {
          "color": [
           "red",
           "blue",
           "blue",
           "blue"
          ],
          "size": 10
         },
         "mode": "markers",
         "showlegend": false,
         "type": "scatter",
         "visible": false,
         "x": [
          2004,
          2008,
          2012,
          2016
         ],
         "xaxis": "x",
         "y": [
          3.93,
          4.024893617021277,
          3.9720833333333334,
          3.6431649331352154
         ],
         "yaxis": "y"
        },
        {
         "line": {
          "color": "orange"
         },
         "mode": "lines",
         "name": "Average Rating Florida - IPA",
         "type": "scatter",
         "visible": false,
         "x": [
          2004,
          2005,
          2006,
          2007,
          2008,
          2009,
          2010,
          2011,
          2012,
          2013,
          2014,
          2015,
          2016
         ],
         "xaxis": "x",
         "y": [
          3.9703658536585364,
          4.003666666666667,
          3.974950166112957,
          3.999812834224599,
          3.9950411280846065,
          4.048024819027922,
          3.9984235668789814,
          3.984013554216868,
          3.964655737704918,
          3.9942829457364346,
          3.9335087719298247,
          3.9886145648312614,
          4.027201426024956
         ],
         "yaxis": "y"
        },
        {
         "hoverinfo": "text",
         "hovertext": [
          "Republican",
          "Democrat",
          "Democrat",
          "Republican"
         ],
         "marker": {
          "color": [
           "red",
           "blue",
           "blue",
           "red"
          ],
          "size": 10
         },
         "mode": "markers",
         "showlegend": false,
         "type": "scatter",
         "visible": false,
         "x": [
          2004,
          2008,
          2012,
          2016
         ],
         "xaxis": "x",
         "y": [
          3.9703658536585364,
          3.9950411280846065,
          3.964655737704918,
          4.027201426024956
         ],
         "yaxis": "y"
        },
        {
         "line": {
          "color": "green"
         },
         "mode": "lines",
         "name": "Fraction Pos. Sentiment Nevada - IPA",
         "type": "scatter",
         "visible": false,
         "x": [
          2004,
          2005,
          2006,
          2007,
          2008,
          2009,
          2010,
          2011,
          2012,
          2013,
          2014,
          2015,
          2016
         ],
         "xaxis": "x",
         "y": [
          0.8095238095238095,
          0.7714285714285715,
          0.8275862068965517,
          0.9010989010989011,
          0.9148936170212766,
          0.6747967479674797,
          0.8043478260869565,
          0.6363636363636364,
          0.7916666666666666,
          0.6692913385826771,
          0.6947368421052631,
          0.6063829787234043,
          0.5898959881129272
         ],
         "yaxis": "y2"
        },
        {
         "hoverinfo": "text",
         "hovertext": [
          "Republican",
          "Democrat",
          "Democrat",
          "Democrat"
         ],
         "marker": {
          "color": [
           "red",
           "blue",
           "blue",
           "blue"
          ],
          "size": 10
         },
         "mode": "markers",
         "showlegend": false,
         "type": "scatter",
         "visible": false,
         "x": [
          2004,
          2008,
          2012,
          2016
         ],
         "xaxis": "x",
         "y": [
          0.8095238095238095,
          0.9148936170212766,
          0.7916666666666666,
          0.5898959881129272
         ],
         "yaxis": "y2"
        },
        {
         "line": {
          "color": "red"
         },
         "mode": "lines",
         "name": "Fraction Pos. Sentiment Florida - IPA",
         "type": "scatter",
         "visible": false,
         "x": [
          2004,
          2005,
          2006,
          2007,
          2008,
          2009,
          2010,
          2011,
          2012,
          2013,
          2014,
          2015,
          2016
         ],
         "xaxis": "x",
         "y": [
          0.8536585365853658,
          0.775,
          0.8272425249169435,
          0.786096256684492,
          0.8354876615746181,
          0.7642192347466391,
          0.7707006369426752,
          0.7191265060240963,
          0.6907103825136611,
          0.7005813953488372,
          0.7005847953216374,
          0.7539964476021315,
          0.7397504456327986
         ],
         "yaxis": "y2"
        },
        {
         "hoverinfo": "text",
         "hovertext": [
          "Republican",
          "Democrat",
          "Democrat",
          "Republican"
         ],
         "marker": {
          "color": [
           "red",
           "blue",
           "blue",
           "red"
          ],
          "size": 10
         },
         "mode": "markers",
         "showlegend": false,
         "type": "scatter",
         "visible": false,
         "x": [
          2004,
          2008,
          2012,
          2016
         ],
         "xaxis": "x",
         "y": [
          0.8536585365853658,
          0.8354876615746181,
          0.6907103825136611,
          0.7397504456327986
         ],
         "yaxis": "y2"
        },
        {
         "line": {
          "color": "blue"
         },
         "mode": "lines",
         "name": "Average Rating Nevada - Stout",
         "type": "scatter",
         "visible": false,
         "x": [
          2004,
          2005,
          2006,
          2007,
          2008,
          2009,
          2010,
          2011,
          2012,
          2013,
          2014,
          2015,
          2016
         ],
         "xaxis": "x2",
         "y": [
          4.079047619047619,
          3.7333333333333334,
          4.093999999999999,
          4.0927999999999995,
          3.9946938775510206,
          4.0791743119266055,
          4.132325581395349,
          3.7253749999999997,
          3.9718181818181817,
          4.245,
          4.22927536231884,
          3.872109375,
          3.8883911671924287
         ],
         "yaxis": "y3"
        },
        {
         "hoverinfo": "text",
         "hovertext": [
          "Republican",
          "Democrat",
          "Democrat",
          "Democrat"
         ],
         "marker": {
          "color": [
           "red",
           "blue",
           "blue",
           "blue"
          ],
          "size": 10
         },
         "mode": "markers",
         "showlegend": false,
         "type": "scatter",
         "visible": false,
         "x": [
          2004,
          2008,
          2012,
          2016
         ],
         "xaxis": "x2",
         "y": [
          4.079047619047619,
          3.9946938775510206,
          3.9718181818181817,
          3.8883911671924287
         ],
         "yaxis": "y3"
        },
        {
         "line": {
          "color": "orange"
         },
         "mode": "lines",
         "name": "Average Rating Florida - Stout",
         "type": "scatter",
         "visible": false,
         "x": [
          2004,
          2005,
          2006,
          2007,
          2008,
          2009,
          2010,
          2011,
          2012,
          2013,
          2014,
          2015,
          2016
         ],
         "xaxis": "x2",
         "y": [
          3.8593650793650793,
          4.001574074074075,
          3.878623595505618,
          3.9637931034482756,
          3.9888217054263566,
          4.010191570881226,
          4.110309178743962,
          4.069727891156463,
          4.03235576923077,
          4.086670746634027,
          4.059597402597403,
          4.139883495145631,
          4.167335766423357
         ],
         "yaxis": "y3"
        },
        {
         "hoverinfo": "text",
         "hovertext": [
          "Republican",
          "Democrat",
          "Democrat",
          "Republican"
         ],
         "marker": {
          "color": [
           "red",
           "blue",
           "blue",
           "red"
          ],
          "size": 10
         },
         "mode": "markers",
         "showlegend": false,
         "type": "scatter",
         "visible": false,
         "x": [
          2004,
          2008,
          2012,
          2016
         ],
         "xaxis": "x2",
         "y": [
          3.8593650793650793,
          3.9888217054263566,
          4.03235576923077,
          4.167335766423357
         ],
         "yaxis": "y3"
        },
        {
         "line": {
          "color": "green"
         },
         "mode": "lines",
         "name": "Fraction Pos. Sentiment Nevada - Stout",
         "type": "scatter",
         "visible": false,
         "x": [
          2004,
          2005,
          2006,
          2007,
          2008,
          2009,
          2010,
          2011,
          2012,
          2013,
          2014,
          2015,
          2016
         ],
         "xaxis": "x2",
         "y": [
          0.6190476190476191,
          0.37037037037037035,
          0.8,
          0.84,
          0.8775510204081632,
          0.6880733944954128,
          0.813953488372093,
          0.5625,
          0.7142857142857143,
          0.6964285714285714,
          0.6231884057971014,
          0.6171875,
          0.6750788643533123
         ],
         "yaxis": "y4"
        },
        {
         "hoverinfo": "text",
         "hovertext": [
          "Republican",
          "Democrat",
          "Democrat",
          "Democrat"
         ],
         "marker": {
          "color": [
           "red",
           "blue",
           "blue",
           "blue"
          ],
          "size": 10
         },
         "mode": "markers",
         "showlegend": false,
         "type": "scatter",
         "visible": false,
         "x": [
          2004,
          2008,
          2012,
          2016
         ],
         "xaxis": "x2",
         "y": [
          0.6190476190476191,
          0.8775510204081632,
          0.7142857142857143,
          0.6750788643533123
         ],
         "yaxis": "y4"
        },
        {
         "line": {
          "color": "red"
         },
         "mode": "lines",
         "name": "Fraction Pos. Sentiment Florida - Stout",
         "type": "scatter",
         "visible": false,
         "x": [
          2004,
          2005,
          2006,
          2007,
          2008,
          2009,
          2010,
          2011,
          2012,
          2013,
          2014,
          2015,
          2016
         ],
         "xaxis": "x2",
         "y": [
          0.6825396825396826,
          0.7962962962962963,
          0.7640449438202247,
          0.7969348659003832,
          0.7643410852713178,
          0.7254150702426565,
          0.7613526570048309,
          0.6831875607385811,
          0.7115384615384616,
          0.6340269277845777,
          0.6623376623376623,
          0.7233009708737864,
          0.7308394160583942
         ],
         "yaxis": "y4"
        },
        {
         "hoverinfo": "text",
         "hovertext": [
          "Republican",
          "Democrat",
          "Democrat",
          "Republican"
         ],
         "marker": {
          "color": [
           "red",
           "blue",
           "blue",
           "red"
          ],
          "size": 10
         },
         "mode": "markers",
         "showlegend": false,
         "type": "scatter",
         "visible": false,
         "x": [
          2004,
          2008,
          2012,
          2016
         ],
         "xaxis": "x2",
         "y": [
          0.6825396825396826,
          0.7643410852713178,
          0.7115384615384616,
          0.7308394160583942
         ],
         "yaxis": "y4"
        },
        {
         "line": {
          "color": "blue"
         },
         "mode": "lines",
         "name": "Average Rating Nevada - Lager",
         "type": "scatter",
         "visible": false,
         "x": [
          2004,
          2005,
          2006,
          2007,
          2008,
          2009,
          2010,
          2011,
          2012,
          2013,
          2014,
          2015,
          2016
         ],
         "xaxis": "x3",
         "y": [
          3.0354838709677416,
          2.850263157894737,
          3.431363636363636,
          3.0914285714285716,
          2.989047619047619,
          3.2399999999999998,
          2.570625,
          3.5992307692307692,
          3.37875,
          3.1644,
          3.13,
          2.6969387755102043,
          2.802882882882883
         ],
         "yaxis": "y5"
        },
        {
         "hoverinfo": "text",
         "hovertext": [
          "Republican",
          "Democrat",
          "Democrat",
          "Democrat"
         ],
         "marker": {
          "color": [
           "red",
           "blue",
           "blue",
           "blue"
          ],
          "size": 10
         },
         "mode": "markers",
         "showlegend": false,
         "type": "scatter",
         "visible": false,
         "x": [
          2004,
          2008,
          2012,
          2016
         ],
         "xaxis": "x3",
         "y": [
          3.0354838709677416,
          2.989047619047619,
          3.37875,
          2.802882882882883
         ],
         "yaxis": "y5"
        },
        {
         "line": {
          "color": "orange"
         },
         "mode": "lines",
         "name": "Average Rating Florida - Lager",
         "type": "scatter",
         "visible": false,
         "x": [
          2004,
          2005,
          2006,
          2007,
          2008,
          2009,
          2010,
          2011,
          2012,
          2013,
          2014,
          2015,
          2016
         ],
         "xaxis": "x3",
         "y": [
          2.8283478260869566,
          3.0872560975609757,
          2.907734375,
          2.934869791666667,
          2.9637181663837016,
          3.100892857142857,
          3.0775959079283886,
          3.0711302211302214,
          2.9460368663594467,
          3.187129186602871,
          3.1073513513513515,
          3.2814851485148515,
          3.394057971014493
         ],
         "yaxis": "y5"
        },
        {
         "hoverinfo": "text",
         "hovertext": [
          "Republican",
          "Democrat",
          "Democrat",
          "Republican"
         ],
         "marker": {
          "color": [
           "red",
           "blue",
           "blue",
           "red"
          ],
          "size": 10
         },
         "mode": "markers",
         "showlegend": false,
         "type": "scatter",
         "visible": false,
         "x": [
          2004,
          2008,
          2012,
          2016
         ],
         "xaxis": "x3",
         "y": [
          2.8283478260869566,
          2.9637181663837016,
          2.9460368663594467,
          3.394057971014493
         ],
         "yaxis": "y5"
        },
        {
         "line": {
          "color": "green"
         },
         "mode": "lines",
         "name": "Fraction Pos. Sentiment Nevada - Lager",
         "type": "scatter",
         "visible": false,
         "x": [
          2004,
          2005,
          2006,
          2007,
          2008,
          2009,
          2010,
          2011,
          2012,
          2013,
          2014,
          2015,
          2016
         ],
         "xaxis": "x3",
         "y": [
          0.7096774193548387,
          0.5789473684210527,
          0.7727272727272727,
          0.8571428571428572,
          0.7619047619047619,
          0.4117647058823529,
          0.3125,
          0.6153846153846154,
          0.75,
          0.64,
          0.625,
          0.36734693877551017,
          0.3918918918918919
         ],
         "yaxis": "y6"
        },
        {
         "hoverinfo": "text",
         "hovertext": [
          "Republican",
          "Democrat",
          "Democrat",
          "Democrat"
         ],
         "marker": {
          "color": [
           "red",
           "blue",
           "blue",
           "blue"
          ],
          "size": 10
         },
         "mode": "markers",
         "showlegend": false,
         "type": "scatter",
         "visible": false,
         "x": [
          2004,
          2008,
          2012,
          2016
         ],
         "xaxis": "x3",
         "y": [
          0.7096774193548387,
          0.7619047619047619,
          0.75,
          0.3918918918918919
         ],
         "yaxis": "y6"
        },
        {
         "line": {
          "color": "red"
         },
         "mode": "lines",
         "name": "Fraction Pos. Sentiment Florida - Lager",
         "type": "scatter",
         "visible": false,
         "x": [
          2004,
          2005,
          2006,
          2007,
          2008,
          2009,
          2010,
          2011,
          2012,
          2013,
          2014,
          2015,
          2016
         ],
         "xaxis": "x3",
         "y": [
          0.5739130434782609,
          0.5853658536585367,
          0.5546875,
          0.5234375,
          0.5365025466893039,
          0.5892857142857143,
          0.5421994884910486,
          0.6142506142506142,
          0.6543778801843319,
          0.631578947368421,
          0.5729729729729729,
          0.6485148514851485,
          0.7463768115942029
         ],
         "yaxis": "y6"
        },
        {
         "hoverinfo": "text",
         "hovertext": [
          "Republican",
          "Democrat",
          "Democrat",
          "Republican"
         ],
         "marker": {
          "color": [
           "red",
           "blue",
           "blue",
           "red"
          ],
          "size": 10
         },
         "mode": "markers",
         "showlegend": false,
         "type": "scatter",
         "visible": false,
         "x": [
          2004,
          2008,
          2012,
          2016
         ],
         "xaxis": "x3",
         "y": [
          0.5739130434782609,
          0.5365025466893039,
          0.6543778801843319,
          0.7463768115942029
         ],
         "yaxis": "y6"
        },
        {
         "line": {
          "color": "blue"
         },
         "mode": "lines",
         "name": "Average Rating Pennsylvania - IPA",
         "type": "scatter",
         "visible": false,
         "x": [
          2004,
          2005,
          2006,
          2007,
          2008,
          2009,
          2010,
          2011,
          2012,
          2013,
          2014,
          2015,
          2016
         ],
         "xaxis": "x",
         "y": [
          4.069707112970711,
          3.999920106524634,
          4.016461011139675,
          3.957487562189055,
          4.005076037813399,
          3.9865071031500925,
          3.9706752873563222,
          3.8985060139269887,
          3.89934522151017,
          3.9511167192429024,
          3.9495842589654075,
          3.976904609475032,
          3.984107950872657
         ],
         "yaxis": "y"
        },
        {
         "hoverinfo": "text",
         "hovertext": [
          "Democrat",
          "Democrat",
          "Democrat",
          "Republican"
         ],
         "marker": {
          "color": [
           "blue",
           "blue",
           "blue",
           "red"
          ],
          "size": 10
         },
         "mode": "markers",
         "showlegend": false,
         "type": "scatter",
         "visible": false,
         "x": [
          2004,
          2008,
          2012,
          2016
         ],
         "xaxis": "x",
         "y": [
          4.069707112970711,
          4.005076037813399,
          3.89934522151017,
          3.984107950872657
         ],
         "yaxis": "y"
        },
        {
         "line": {
          "color": "orange"
         },
         "mode": "lines",
         "name": "Average Rating Virginia - IPA",
         "type": "scatter",
         "visible": false,
         "x": [
          2004,
          2005,
          2006,
          2007,
          2008,
          2009,
          2010,
          2011,
          2012,
          2013,
          2014,
          2015,
          2016
         ],
         "xaxis": "x",
         "y": [
          4.012034632034632,
          4.051347826086956,
          4.017155688622754,
          3.947948113207547,
          3.9949794801641585,
          3.9855922865013778,
          3.987017208413002,
          3.9558368326334734,
          3.961539138082674,
          3.9637465564738297,
          3.909279141104294,
          4.000655737704918,
          4.0687960155911655
         ],
         "yaxis": "y"
        },
        {
         "hoverinfo": "text",
         "hovertext": [
          "Republican",
          "Democrat",
          "Democrat",
          "Democrat"
         ],
         "marker": {
          "color": [
           "red",
           "blue",
           "blue",
           "blue"
          ],
          "size": 10
         },
         "mode": "markers",
         "showlegend": false,
         "type": "scatter",
         "visible": false,
         "x": [
          2004,
          2008,
          2012,
          2016
         ],
         "xaxis": "x",
         "y": [
          4.012034632034632,
          3.9949794801641585,
          3.961539138082674,
          4.0687960155911655
         ],
         "yaxis": "y"
        },
        {
         "line": {
          "color": "green"
         },
         "mode": "lines",
         "name": "Fraction Pos. Sentiment Pennsylvania - IPA",
         "type": "scatter",
         "visible": false,
         "x": [
          2004,
          2005,
          2006,
          2007,
          2008,
          2009,
          2010,
          2011,
          2012,
          2013,
          2014,
          2015,
          2016
         ],
         "xaxis": "x",
         "y": [
          0.799163179916318,
          0.8175765645805593,
          0.7754927163667523,
          0.7151741293532339,
          0.7949034114262228,
          0.7507720815318097,
          0.7612547892720307,
          0.7545895758598861,
          0.7506269155753692,
          0.7864353312302839,
          0.7359568390986988,
          0.7371959026888604,
          0.7062055591467356
         ],
         "yaxis": "y2"
        },
        {
         "hoverinfo": "text",
         "hovertext": [
          "Democrat",
          "Democrat",
          "Democrat",
          "Republican"
         ],
         "marker": {
          "color": [
           "blue",
           "blue",
           "blue",
           "red"
          ],
          "size": 10
         },
         "mode": "markers",
         "showlegend": false,
         "type": "scatter",
         "visible": false,
         "x": [
          2004,
          2008,
          2012,
          2016
         ],
         "xaxis": "x",
         "y": [
          0.799163179916318,
          0.7949034114262228,
          0.7506269155753692,
          0.7062055591467356
         ],
         "yaxis": "y2"
        },
        {
         "line": {
          "color": "red"
         },
         "mode": "lines",
         "name": "Fraction Pos. Sentiment Virginia - IPA",
         "type": "scatter",
         "visible": false,
         "x": [
          2004,
          2005,
          2006,
          2007,
          2008,
          2009,
          2010,
          2011,
          2012,
          2013,
          2014,
          2015,
          2016
         ],
         "xaxis": "x",
         "y": [
          0.7835497835497836,
          0.8391304347826087,
          0.8143712574850299,
          0.8160377358490566,
          0.7824897400820794,
          0.7355371900826446,
          0.7695984703632888,
          0.7954409118176364,
          0.8047493403693932,
          0.8172635445362718,
          0.8289877300613497,
          0.8092399403874814,
          0.8042442615851018
         ],
         "yaxis": "y2"
        },
        {
         "hoverinfo": "text",
         "hovertext": [
          "Republican",
          "Democrat",
          "Democrat",
          "Democrat"
         ],
         "marker": {
          "color": [
           "red",
           "blue",
           "blue",
           "blue"
          ],
          "size": 10
         },
         "mode": "markers",
         "showlegend": false,
         "type": "scatter",
         "visible": false,
         "x": [
          2004,
          2008,
          2012,
          2016
         ],
         "xaxis": "x",
         "y": [
          0.7835497835497836,
          0.7824897400820794,
          0.8047493403693932,
          0.8042442615851018
         ],
         "yaxis": "y2"
        },
        {
         "line": {
          "color": "blue"
         },
         "mode": "lines",
         "name": "Average Rating Pennsylvania - Stout",
         "type": "scatter",
         "visible": false,
         "x": [
          2004,
          2005,
          2006,
          2007,
          2008,
          2009,
          2010,
          2011,
          2012,
          2013,
          2014,
          2015,
          2016
         ],
         "xaxis": "x2",
         "y": [
          4.059688888888888,
          4.077783595113439,
          4.031218592964824,
          4.034523160762943,
          4.050662715517241,
          4.009739053516143,
          4.007759218405295,
          3.943759220231823,
          3.934176100628931,
          4.011859169199595,
          4.028016019716574,
          4.035079635949943,
          4.086996507566938
         ],
         "yaxis": "y3"
        },
        {
         "hoverinfo": "text",
         "hovertext": [
          "Democrat",
          "Democrat",
          "Democrat",
          "Republican"
         ],
         "marker": {
          "color": [
           "blue",
           "blue",
           "blue",
           "red"
          ],
          "size": 10
         },
         "mode": "markers",
         "showlegend": false,
         "type": "scatter",
         "visible": false,
         "x": [
          2004,
          2008,
          2012,
          2016
         ],
         "xaxis": "x2",
         "y": [
          4.059688888888888,
          4.050662715517241,
          3.934176100628931,
          4.086996507566938
         ],
         "yaxis": "y3"
        },
        {
         "line": {
          "color": "orange"
         },
         "mode": "lines",
         "name": "Average Rating Virginia - Stout",
         "type": "scatter",
         "visible": false,
         "x": [
          2004,
          2005,
          2006,
          2007,
          2008,
          2009,
          2010,
          2011,
          2012,
          2013,
          2014,
          2015,
          2016
         ],
         "xaxis": "x2",
         "y": [
          4.027514450867052,
          4.10135294117647,
          4.057210884353741,
          3.9403548387096774,
          4.013872633390705,
          4.011550480769231,
          4.029213630406291,
          3.9932003325020777,
          4.035800915331808,
          4.058,
          4.053222222222223,
          4.0829029304029305,
          4.133732097725358
         ],
         "yaxis": "y3"
        },
        {
         "hoverinfo": "text",
         "hovertext": [
          "Republican",
          "Democrat",
          "Democrat",
          "Democrat"
         ],
         "marker": {
          "color": [
           "red",
           "blue",
           "blue",
           "blue"
          ],
          "size": 10
         },
         "mode": "markers",
         "showlegend": false,
         "type": "scatter",
         "visible": false,
         "x": [
          2004,
          2008,
          2012,
          2016
         ],
         "xaxis": "x2",
         "y": [
          4.027514450867052,
          4.013872633390705,
          4.035800915331808,
          4.133732097725358
         ],
         "yaxis": "y3"
        },
        {
         "line": {
          "color": "green"
         },
         "mode": "lines",
         "name": "Fraction Pos. Sentiment Pennsylvania - Stout",
         "type": "scatter",
         "visible": false,
         "x": [
          2004,
          2005,
          2006,
          2007,
          2008,
          2009,
          2010,
          2011,
          2012,
          2013,
          2014,
          2015,
          2016
         ],
         "xaxis": "x2",
         "y": [
          0.8,
          0.8150087260034904,
          0.7437185929648241,
          0.7093551316984559,
          0.7731681034482758,
          0.7279964617425918,
          0.7283328080680744,
          0.7215489989462592,
          0.7144654088050315,
          0.7603850050658562,
          0.7060998151571165,
          0.6928327645051194,
          0.6833527357392317
         ],
         "yaxis": "y4"
        },
        {
         "hoverinfo": "text",
         "hovertext": [
          "Democrat",
          "Democrat",
          "Democrat",
          "Republican"
         ],
         "marker": {
          "color": [
           "blue",
           "blue",
           "blue",
           "red"
          ],
          "size": 10
         },
         "mode": "markers",
         "showlegend": false,
         "type": "scatter",
         "visible": false,
         "x": [
          2004,
          2008,
          2012,
          2016
         ],
         "xaxis": "x2",
         "y": [
          0.8,
          0.7731681034482758,
          0.7144654088050315,
          0.6833527357392317
         ],
         "yaxis": "y4"
        },
        {
         "line": {
          "color": "red"
         },
         "mode": "lines",
         "name": "Fraction Pos. Sentiment Virginia - Stout",
         "type": "scatter",
         "visible": false,
         "x": [
          2004,
          2005,
          2006,
          2007,
          2008,
          2009,
          2010,
          2011,
          2012,
          2013,
          2014,
          2015,
          2016
         ],
         "xaxis": "x2",
         "y": [
          0.699421965317919,
          0.8,
          0.7687074829931972,
          0.7967741935483871,
          0.7194492254733218,
          0.625,
          0.7391874180865007,
          0.7788861180382377,
          0.7917620137299771,
          0.8146341463414635,
          0.8152777777777778,
          0.8003663003663004,
          0.7556866048862679
         ],
         "yaxis": "y4"
        },
        {
         "hoverinfo": "text",
         "hovertext": [
          "Republican",
          "Democrat",
          "Democrat",
          "Democrat"
         ],
         "marker": {
          "color": [
           "red",
           "blue",
           "blue",
           "blue"
          ],
          "size": 10
         },
         "mode": "markers",
         "showlegend": false,
         "type": "scatter",
         "visible": false,
         "x": [
          2004,
          2008,
          2012,
          2016
         ],
         "xaxis": "x2",
         "y": [
          0.699421965317919,
          0.7194492254733218,
          0.7917620137299771,
          0.7556866048862679
         ],
         "yaxis": "y4"
        },
        {
         "line": {
          "color": "blue"
         },
         "mode": "lines",
         "name": "Average Rating Pennsylvania - Lager",
         "type": "scatter",
         "visible": false,
         "x": [
          2004,
          2005,
          2006,
          2007,
          2008,
          2009,
          2010,
          2011,
          2012,
          2013,
          2014,
          2015,
          2016
         ],
         "xaxis": "x3",
         "y": [
          3.180545851528384,
          3.0940518638573744,
          3.2761702127659573,
          3.331613876319759,
          3.236511387163561,
          3.1601883830455257,
          3.231541598694943,
          3.077276395427034,
          3.1554310344827585,
          3.3640300751879697,
          3.364121863799283,
          3.4237758620689656,
          3.5110208333333333
         ],
         "yaxis": "y5"
        },
        {
         "hoverinfo": "text",
         "hovertext": [
          "Democrat",
          "Democrat",
          "Democrat",
          "Republican"
         ],
         "marker": {
          "color": [
           "blue",
           "blue",
           "blue",
           "red"
          ],
          "size": 10
         },
         "mode": "markers",
         "showlegend": false,
         "type": "scatter",
         "visible": false,
         "x": [
          2004,
          2008,
          2012,
          2016
         ],
         "xaxis": "x3",
         "y": [
          3.180545851528384,
          3.236511387163561,
          3.1554310344827585,
          3.5110208333333333
         ],
         "yaxis": "y5"
        },
        {
         "line": {
          "color": "orange"
         },
         "mode": "lines",
         "name": "Average Rating Virginia - Lager",
         "type": "scatter",
         "visible": false,
         "x": [
          2004,
          2005,
          2006,
          2007,
          2008,
          2009,
          2010,
          2011,
          2012,
          2013,
          2014,
          2015,
          2016
         ],
         "xaxis": "x3",
         "y": [
          2.9731506849315066,
          3.1820512820512823,
          3.060953947368421,
          3.1823948220064726,
          3.1304044943820224,
          3.187380410022779,
          3.062098445595855,
          3.11556135770235,
          3.2471317829457362,
          3.2846825396825396,
          3.281588785046729,
          3.3402215189873417,
          3.502392026578073
         ],
         "yaxis": "y5"
        },
        {
         "hoverinfo": "text",
         "hovertext": [
          "Republican",
          "Democrat",
          "Democrat",
          "Democrat"
         ],
         "marker": {
          "color": [
           "red",
           "blue",
           "blue",
           "blue"
          ],
          "size": 10
         },
         "mode": "markers",
         "showlegend": false,
         "type": "scatter",
         "visible": false,
         "x": [
          2004,
          2008,
          2012,
          2016
         ],
         "xaxis": "x3",
         "y": [
          2.9731506849315066,
          3.1304044943820224,
          3.2471317829457362,
          3.502392026578073
         ],
         "yaxis": "y5"
        },
        {
         "line": {
          "color": "green"
         },
         "mode": "lines",
         "name": "Fraction Pos. Sentiment Pennsylvania - Lager",
         "type": "scatter",
         "visible": false,
         "x": [
          2004,
          2005,
          2006,
          2007,
          2008,
          2009,
          2010,
          2011,
          2012,
          2013,
          2014,
          2015,
          2016
         ],
         "xaxis": "x3",
         "y": [
          0.6375545851528384,
          0.6564019448946515,
          0.6468085106382979,
          0.6530920060331825,
          0.6428571428571428,
          0.6130298273155417,
          0.6076672104404568,
          0.6260928043039677,
          0.6282327586206897,
          0.6812030075187969,
          0.5931899641577061,
          0.5913793103448276,
          0.6229166666666667
         ],
         "yaxis": "y6"
        },
        {
         "hoverinfo": "text",
         "hovertext": [
          "Democrat",
          "Democrat",
          "Democrat",
          "Republican"
         ],
         "marker": {
          "color": [
           "blue",
           "blue",
           "blue",
           "red"
          ],
          "size": 10
         },
         "mode": "markers",
         "showlegend": false,
         "type": "scatter",
         "visible": false,
         "x": [
          2004,
          2008,
          2012,
          2016
         ],
         "xaxis": "x3",
         "y": [
          0.6375545851528384,
          0.6428571428571428,
          0.6282327586206897,
          0.6229166666666667
         ],
         "yaxis": "y6"
        },
        {
         "line": {
          "color": "red"
         },
         "mode": "lines",
         "name": "Fraction Pos. Sentiment Virginia - Lager",
         "type": "scatter",
         "visible": false,
         "x": [
          2004,
          2005,
          2006,
          2007,
          2008,
          2009,
          2010,
          2011,
          2012,
          2013,
          2014,
          2015,
          2016
         ],
         "xaxis": "x3",
         "y": [
          0.5034246575342466,
          0.5934065934065934,
          0.569078947368421,
          0.6601941747572815,
          0.5955056179775281,
          0.5102505694760819,
          0.5284974093264249,
          0.6240208877284595,
          0.6589147286821706,
          0.753968253968254,
          0.7383177570093458,
          0.6835443037974683,
          0.7242524916943522
         ],
         "yaxis": "y6"
        },
        {
         "hoverinfo": "text",
         "hovertext": [
          "Republican",
          "Democrat",
          "Democrat",
          "Democrat"
         ],
         "marker": {
          "color": [
           "red",
           "blue",
           "blue",
           "blue"
          ],
          "size": 10
         },
         "mode": "markers",
         "showlegend": false,
         "type": "scatter",
         "visible": false,
         "x": [
          2004,
          2008,
          2012,
          2016
         ],
         "xaxis": "x3",
         "y": [
          0.5034246575342466,
          0.5955056179775281,
          0.6589147286821706,
          0.7242524916943522
         ],
         "yaxis": "y6"
        }
       ],
       "layout": {
        "annotations": [
         {
          "font": {
           "size": 16
          },
          "showarrow": false,
          "text": "IPA",
          "x": 0.47,
          "xanchor": "center",
          "xref": "paper",
          "y": 1,
          "yanchor": "bottom",
          "yref": "paper"
         },
         {
          "font": {
           "size": 16
          },
          "showarrow": false,
          "text": "Stout",
          "x": 0.47,
          "xanchor": "center",
          "xref": "paper",
          "y": 0.6111111111111112,
          "yanchor": "bottom",
          "yref": "paper"
         },
         {
          "font": {
           "size": 16
          },
          "showarrow": false,
          "text": "Lager",
          "x": 0.47,
          "xanchor": "center",
          "xref": "paper",
          "y": 0.22222222222222224,
          "yanchor": "bottom",
          "yref": "paper"
         }
        ],
        "height": 1000,
        "template": {
         "data": {
          "bar": [
           {
            "error_x": {
             "color": "#2a3f5f"
            },
            "error_y": {
             "color": "#2a3f5f"
            },
            "marker": {
             "line": {
              "color": "#E5ECF6",
              "width": 0.5
             },
             "pattern": {
              "fillmode": "overlay",
              "size": 10,
              "solidity": 0.2
             }
            },
            "type": "bar"
           }
          ],
          "barpolar": [
           {
            "marker": {
             "line": {
              "color": "#E5ECF6",
              "width": 0.5
             },
             "pattern": {
              "fillmode": "overlay",
              "size": 10,
              "solidity": 0.2
             }
            },
            "type": "barpolar"
           }
          ],
          "carpet": [
           {
            "aaxis": {
             "endlinecolor": "#2a3f5f",
             "gridcolor": "white",
             "linecolor": "white",
             "minorgridcolor": "white",
             "startlinecolor": "#2a3f5f"
            },
            "baxis": {
             "endlinecolor": "#2a3f5f",
             "gridcolor": "white",
             "linecolor": "white",
             "minorgridcolor": "white",
             "startlinecolor": "#2a3f5f"
            },
            "type": "carpet"
           }
          ],
          "choropleth": [
           {
            "colorbar": {
             "outlinewidth": 0,
             "ticks": ""
            },
            "type": "choropleth"
           }
          ],
          "contour": [
           {
            "colorbar": {
             "outlinewidth": 0,
             "ticks": ""
            },
            "colorscale": [
             [
              0,
              "#0d0887"
             ],
             [
              0.1111111111111111,
              "#46039f"
             ],
             [
              0.2222222222222222,
              "#7201a8"
             ],
             [
              0.3333333333333333,
              "#9c179e"
             ],
             [
              0.4444444444444444,
              "#bd3786"
             ],
             [
              0.5555555555555556,
              "#d8576b"
             ],
             [
              0.6666666666666666,
              "#ed7953"
             ],
             [
              0.7777777777777778,
              "#fb9f3a"
             ],
             [
              0.8888888888888888,
              "#fdca26"
             ],
             [
              1,
              "#f0f921"
             ]
            ],
            "type": "contour"
           }
          ],
          "contourcarpet": [
           {
            "colorbar": {
             "outlinewidth": 0,
             "ticks": ""
            },
            "type": "contourcarpet"
           }
          ],
          "heatmap": [
           {
            "colorbar": {
             "outlinewidth": 0,
             "ticks": ""
            },
            "colorscale": [
             [
              0,
              "#0d0887"
             ],
             [
              0.1111111111111111,
              "#46039f"
             ],
             [
              0.2222222222222222,
              "#7201a8"
             ],
             [
              0.3333333333333333,
              "#9c179e"
             ],
             [
              0.4444444444444444,
              "#bd3786"
             ],
             [
              0.5555555555555556,
              "#d8576b"
             ],
             [
              0.6666666666666666,
              "#ed7953"
             ],
             [
              0.7777777777777778,
              "#fb9f3a"
             ],
             [
              0.8888888888888888,
              "#fdca26"
             ],
             [
              1,
              "#f0f921"
             ]
            ],
            "type": "heatmap"
           }
          ],
          "heatmapgl": [
           {
            "colorbar": {
             "outlinewidth": 0,
             "ticks": ""
            },
            "colorscale": [
             [
              0,
              "#0d0887"
             ],
             [
              0.1111111111111111,
              "#46039f"
             ],
             [
              0.2222222222222222,
              "#7201a8"
             ],
             [
              0.3333333333333333,
              "#9c179e"
             ],
             [
              0.4444444444444444,
              "#bd3786"
             ],
             [
              0.5555555555555556,
              "#d8576b"
             ],
             [
              0.6666666666666666,
              "#ed7953"
             ],
             [
              0.7777777777777778,
              "#fb9f3a"
             ],
             [
              0.8888888888888888,
              "#fdca26"
             ],
             [
              1,
              "#f0f921"
             ]
            ],
            "type": "heatmapgl"
           }
          ],
          "histogram": [
           {
            "marker": {
             "pattern": {
              "fillmode": "overlay",
              "size": 10,
              "solidity": 0.2
             }
            },
            "type": "histogram"
           }
          ],
          "histogram2d": [
           {
            "colorbar": {
             "outlinewidth": 0,
             "ticks": ""
            },
            "colorscale": [
             [
              0,
              "#0d0887"
             ],
             [
              0.1111111111111111,
              "#46039f"
             ],
             [
              0.2222222222222222,
              "#7201a8"
             ],
             [
              0.3333333333333333,
              "#9c179e"
             ],
             [
              0.4444444444444444,
              "#bd3786"
             ],
             [
              0.5555555555555556,
              "#d8576b"
             ],
             [
              0.6666666666666666,
              "#ed7953"
             ],
             [
              0.7777777777777778,
              "#fb9f3a"
             ],
             [
              0.8888888888888888,
              "#fdca26"
             ],
             [
              1,
              "#f0f921"
             ]
            ],
            "type": "histogram2d"
           }
          ],
          "histogram2dcontour": [
           {
            "colorbar": {
             "outlinewidth": 0,
             "ticks": ""
            },
            "colorscale": [
             [
              0,
              "#0d0887"
             ],
             [
              0.1111111111111111,
              "#46039f"
             ],
             [
              0.2222222222222222,
              "#7201a8"
             ],
             [
              0.3333333333333333,
              "#9c179e"
             ],
             [
              0.4444444444444444,
              "#bd3786"
             ],
             [
              0.5555555555555556,
              "#d8576b"
             ],
             [
              0.6666666666666666,
              "#ed7953"
             ],
             [
              0.7777777777777778,
              "#fb9f3a"
             ],
             [
              0.8888888888888888,
              "#fdca26"
             ],
             [
              1,
              "#f0f921"
             ]
            ],
            "type": "histogram2dcontour"
           }
          ],
          "mesh3d": [
           {
            "colorbar": {
             "outlinewidth": 0,
             "ticks": ""
            },
            "type": "mesh3d"
           }
          ],
          "parcoords": [
           {
            "line": {
             "colorbar": {
              "outlinewidth": 0,
              "ticks": ""
             }
            },
            "type": "parcoords"
           }
          ],
          "pie": [
           {
            "automargin": true,
            "type": "pie"
           }
          ],
          "scatter": [
           {
            "fillpattern": {
             "fillmode": "overlay",
             "size": 10,
             "solidity": 0.2
            },
            "type": "scatter"
           }
          ],
          "scatter3d": [
           {
            "line": {
             "colorbar": {
              "outlinewidth": 0,
              "ticks": ""
             }
            },
            "marker": {
             "colorbar": {
              "outlinewidth": 0,
              "ticks": ""
             }
            },
            "type": "scatter3d"
           }
          ],
          "scattercarpet": [
           {
            "marker": {
             "colorbar": {
              "outlinewidth": 0,
              "ticks": ""
             }
            },
            "type": "scattercarpet"
           }
          ],
          "scattergeo": [
           {
            "marker": {
             "colorbar": {
              "outlinewidth": 0,
              "ticks": ""
             }
            },
            "type": "scattergeo"
           }
          ],
          "scattergl": [
           {
            "marker": {
             "colorbar": {
              "outlinewidth": 0,
              "ticks": ""
             }
            },
            "type": "scattergl"
           }
          ],
          "scattermapbox": [
           {
            "marker": {
             "colorbar": {
              "outlinewidth": 0,
              "ticks": ""
             }
            },
            "type": "scattermapbox"
           }
          ],
          "scatterpolar": [
           {
            "marker": {
             "colorbar": {
              "outlinewidth": 0,
              "ticks": ""
             }
            },
            "type": "scatterpolar"
           }
          ],
          "scatterpolargl": [
           {
            "marker": {
             "colorbar": {
              "outlinewidth": 0,
              "ticks": ""
             }
            },
            "type": "scatterpolargl"
           }
          ],
          "scatterternary": [
           {
            "marker": {
             "colorbar": {
              "outlinewidth": 0,
              "ticks": ""
             }
            },
            "type": "scatterternary"
           }
          ],
          "surface": [
           {
            "colorbar": {
             "outlinewidth": 0,
             "ticks": ""
            },
            "colorscale": [
             [
              0,
              "#0d0887"
             ],
             [
              0.1111111111111111,
              "#46039f"
             ],
             [
              0.2222222222222222,
              "#7201a8"
             ],
             [
              0.3333333333333333,
              "#9c179e"
             ],
             [
              0.4444444444444444,
              "#bd3786"
             ],
             [
              0.5555555555555556,
              "#d8576b"
             ],
             [
              0.6666666666666666,
              "#ed7953"
             ],
             [
              0.7777777777777778,
              "#fb9f3a"
             ],
             [
              0.8888888888888888,
              "#fdca26"
             ],
             [
              1,
              "#f0f921"
             ]
            ],
            "type": "surface"
           }
          ],
          "table": [
           {
            "cells": {
             "fill": {
              "color": "#EBF0F8"
             },
             "line": {
              "color": "white"
             }
            },
            "header": {
             "fill": {
              "color": "#C8D4E3"
             },
             "line": {
              "color": "white"
             }
            },
            "type": "table"
           }
          ]
         },
         "layout": {
          "annotationdefaults": {
           "arrowcolor": "#2a3f5f",
           "arrowhead": 0,
           "arrowwidth": 1
          },
          "autotypenumbers": "strict",
          "coloraxis": {
           "colorbar": {
            "outlinewidth": 0,
            "ticks": ""
           }
          },
          "colorscale": {
           "diverging": [
            [
             0,
             "#8e0152"
            ],
            [
             0.1,
             "#c51b7d"
            ],
            [
             0.2,
             "#de77ae"
            ],
            [
             0.3,
             "#f1b6da"
            ],
            [
             0.4,
             "#fde0ef"
            ],
            [
             0.5,
             "#f7f7f7"
            ],
            [
             0.6,
             "#e6f5d0"
            ],
            [
             0.7,
             "#b8e186"
            ],
            [
             0.8,
             "#7fbc41"
            ],
            [
             0.9,
             "#4d9221"
            ],
            [
             1,
             "#276419"
            ]
           ],
           "sequential": [
            [
             0,
             "#0d0887"
            ],
            [
             0.1111111111111111,
             "#46039f"
            ],
            [
             0.2222222222222222,
             "#7201a8"
            ],
            [
             0.3333333333333333,
             "#9c179e"
            ],
            [
             0.4444444444444444,
             "#bd3786"
            ],
            [
             0.5555555555555556,
             "#d8576b"
            ],
            [
             0.6666666666666666,
             "#ed7953"
            ],
            [
             0.7777777777777778,
             "#fb9f3a"
            ],
            [
             0.8888888888888888,
             "#fdca26"
            ],
            [
             1,
             "#f0f921"
            ]
           ],
           "sequentialminus": [
            [
             0,
             "#0d0887"
            ],
            [
             0.1111111111111111,
             "#46039f"
            ],
            [
             0.2222222222222222,
             "#7201a8"
            ],
            [
             0.3333333333333333,
             "#9c179e"
            ],
            [
             0.4444444444444444,
             "#bd3786"
            ],
            [
             0.5555555555555556,
             "#d8576b"
            ],
            [
             0.6666666666666666,
             "#ed7953"
            ],
            [
             0.7777777777777778,
             "#fb9f3a"
            ],
            [
             0.8888888888888888,
             "#fdca26"
            ],
            [
             1,
             "#f0f921"
            ]
           ]
          },
          "colorway": [
           "#636efa",
           "#EF553B",
           "#00cc96",
           "#ab63fa",
           "#FFA15A",
           "#19d3f3",
           "#FF6692",
           "#B6E880",
           "#FF97FF",
           "#FECB52"
          ],
          "font": {
           "color": "#2a3f5f"
          },
          "geo": {
           "bgcolor": "white",
           "lakecolor": "white",
           "landcolor": "#E5ECF6",
           "showlakes": true,
           "showland": true,
           "subunitcolor": "white"
          },
          "hoverlabel": {
           "align": "left"
          },
          "hovermode": "closest",
          "mapbox": {
           "style": "light"
          },
          "paper_bgcolor": "white",
          "plot_bgcolor": "#E5ECF6",
          "polar": {
           "angularaxis": {
            "gridcolor": "white",
            "linecolor": "white",
            "ticks": ""
           },
           "bgcolor": "#E5ECF6",
           "radialaxis": {
            "gridcolor": "white",
            "linecolor": "white",
            "ticks": ""
           }
          },
          "scene": {
           "xaxis": {
            "backgroundcolor": "#E5ECF6",
            "gridcolor": "white",
            "gridwidth": 2,
            "linecolor": "white",
            "showbackground": true,
            "ticks": "",
            "zerolinecolor": "white"
           },
           "yaxis": {
            "backgroundcolor": "#E5ECF6",
            "gridcolor": "white",
            "gridwidth": 2,
            "linecolor": "white",
            "showbackground": true,
            "ticks": "",
            "zerolinecolor": "white"
           },
           "zaxis": {
            "backgroundcolor": "#E5ECF6",
            "gridcolor": "white",
            "gridwidth": 2,
            "linecolor": "white",
            "showbackground": true,
            "ticks": "",
            "zerolinecolor": "white"
           }
          },
          "shapedefaults": {
           "line": {
            "color": "#2a3f5f"
           }
          },
          "ternary": {
           "aaxis": {
            "gridcolor": "white",
            "linecolor": "white",
            "ticks": ""
           },
           "baxis": {
            "gridcolor": "white",
            "linecolor": "white",
            "ticks": ""
           },
           "bgcolor": "#E5ECF6",
           "caxis": {
            "gridcolor": "white",
            "linecolor": "white",
            "ticks": ""
           }
          },
          "title": {
           "x": 0.05
          },
          "xaxis": {
           "automargin": true,
           "gridcolor": "white",
           "linecolor": "white",
           "ticks": "",
           "title": {
            "standoff": 15
           },
           "zerolinecolor": "white",
           "zerolinewidth": 2
          },
          "yaxis": {
           "automargin": true,
           "gridcolor": "white",
           "linecolor": "white",
           "ticks": "",
           "title": {
            "standoff": 15
           },
           "zerolinecolor": "white",
           "zerolinewidth": 2
          }
         }
        },
        "title": {
         "text": "Analysis of Beer Trends (Average Rating and Fraction of Positive Sentiment) for Pairs of States"
        },
        "updatemenus": [
         {
          "buttons": [
           {
            "args": [
             {
              "visible": [
               true,
               true,
               true,
               true,
               true,
               true,
               true,
               true,
               true,
               true,
               true,
               true,
               true,
               true,
               true,
               true,
               true,
               true,
               true,
               true,
               true,
               true,
               true,
               true,
               false,
               false,
               false,
               false,
               false,
               false,
               false,
               false,
               false,
               false,
               false,
               false,
               false,
               false,
               false,
               false,
               false,
               false,
               false,
               false,
               false,
               false,
               false,
               false,
               false,
               false,
               false,
               false,
               false,
               false,
               false,
               false,
               false,
               false,
               false,
               false,
               false,
               false,
               false,
               false,
               false,
               false,
               false,
               false,
               false,
               false,
               false,
               false,
               false,
               false,
               false,
               false,
               false,
               false,
               false,
               false,
               false,
               false,
               false,
               false,
               false,
               false,
               false,
               false,
               false,
               false,
               false,
               false,
               false,
               false,
               false,
               false,
               false,
               false,
               false,
               false,
               false,
               false,
               false,
               false,
               false,
               false,
               false,
               false,
               false,
               false,
               false,
               false,
               false,
               false,
               false,
               false,
               false,
               false,
               false,
               false,
               false,
               false,
               false,
               false,
               false,
               false,
               false,
               false,
               false,
               false,
               false,
               false,
               false,
               false,
               false,
               false,
               false,
               false,
               false,
               false,
               false,
               false,
               false,
               false,
               false,
               false,
               false,
               false,
               false,
               false,
               false,
               false,
               false,
               false,
               false,
               false,
               false,
               false,
               false,
               false,
               false,
               false,
               false,
               false,
               false,
               false,
               false,
               false
              ]
             },
             {
              "annotations": [
               {
                "align": "center",
                "font": {
                 "size": 12
                },
                "showarrow": false,
                "text": "IPA // Spearman Corr. - Av. Rating (0.67) & Pos. Sent. (0.65)",
                "x": 0.5,
                "xref": "paper",
                "y": 1.05,
                "yref": "paper"
               },
               {
                "align": "center",
                "font": {
                 "size": 12
                },
                "showarrow": false,
                "text": "Stout // Spearman Corr. - Av. Rating (0.64) & Pos. Sent. (0.55)",
                "x": 0.5,
                "xref": "paper",
                "y": 0.65,
                "yref": "paper"
               },
               {
                "align": "center",
                "font": {
                 "size": 12
                },
                "showarrow": false,
                "text": "Lager // Spearman Corr. - Av. Rating (0.87) & Pos. Sent. (0.13)",
                "x": 0.5,
                "xref": "paper",
                "y": 0.25,
                "yref": "paper"
               }
              ]
             }
            ],
            "label": "New York & California",
            "method": "update"
           },
           {
            "args": [
             {
              "visible": [
               false,
               false,
               false,
               false,
               false,
               false,
               false,
               false,
               false,
               false,
               false,
               false,
               false,
               false,
               false,
               false,
               false,
               false,
               false,
               false,
               false,
               false,
               false,
               false,
               true,
               true,
               true,
               true,
               true,
               true,
               true,
               true,
               true,
               true,
               true,
               true,
               true,
               true,
               true,
               true,
               true,
               true,
               true,
               true,
               true,
               true,
               true,
               true,
               false,
               false,
               false,
               false,
               false,
               false,
               false,
               false,
               false,
               false,
               false,
               false,
               false,
               false,
               false,
               false,
               false,
               false,
               false,
               false,
               false,
               false,
               false,
               false,
               false,
               false,
               false,
               false,
               false,
               false,
               false,
               false,
               false,
               false,
               false,
               false,
               false,
               false,
               false,
               false,
               false,
               false,
               false,
               false,
               false,
               false,
               false,
               false,
               false,
               false,
               false,
               false,
               false,
               false,
               false,
               false,
               false,
               false,
               false,
               false,
               false,
               false,
               false,
               false,
               false,
               false,
               false,
               false,
               false,
               false,
               false,
               false,
               false,
               false,
               false,
               false,
               false,
               false,
               false,
               false,
               false,
               false,
               false,
               false,
               false,
               false,
               false,
               false,
               false,
               false,
               false,
               false,
               false,
               false,
               false,
               false,
               false,
               false,
               false,
               false,
               false,
               false,
               false,
               false,
               false,
               false,
               false,
               false,
               false,
               false,
               false,
               false,
               false,
               false,
               false,
               false,
               false,
               false,
               false,
               false
              ]
             },
             {
              "annotations": [
               {
                "align": "center",
                "font": {
                 "size": 12
                },
                "showarrow": false,
                "text": "IPA // Spearman Corr. - Av. Rating (0.85) & Pos. Sent. (0.12)",
                "x": 0.5,
                "xref": "paper",
                "y": 1.05,
                "yref": "paper"
               },
               {
                "align": "center",
                "font": {
                 "size": 12
                },
                "showarrow": false,
                "text": "Stout // Spearman Corr. - Av. Rating (0.63) & Pos. Sent. (0.21)",
                "x": 0.5,
                "xref": "paper",
                "y": 0.65,
                "yref": "paper"
               },
               {
                "align": "center",
                "font": {
                 "size": 12
                },
                "showarrow": false,
                "text": "Lager // Spearman Corr. - Av. Rating (0.73) & Pos. Sent. (0.51)",
                "x": 0.5,
                "xref": "paper",
                "y": 0.25,
                "yref": "paper"
               }
              ]
             }
            ],
            "label": "Arizona & Texas",
            "method": "update"
           },
           {
            "args": [
             {
              "visible": [
               false,
               false,
               false,
               false,
               false,
               false,
               false,
               false,
               false,
               false,
               false,
               false,
               false,
               false,
               false,
               false,
               false,
               false,
               false,
               false,
               false,
               false,
               false,
               false,
               false,
               false,
               false,
               false,
               false,
               false,
               false,
               false,
               false,
               false,
               false,
               false,
               false,
               false,
               false,
               false,
               false,
               false,
               false,
               false,
               false,
               false,
               false,
               false,
               true,
               true,
               true,
               true,
               true,
               true,
               true,
               true,
               true,
               true,
               true,
               true,
               true,
               true,
               true,
               true,
               true,
               true,
               true,
               true,
               true,
               true,
               true,
               true,
               false,
               false,
               false,
               false,
               false,
               false,
               false,
               false,
               false,
               false,
               false,
               false,
               false,
               false,
               false,
               false,
               false,
               false,
               false,
               false,
               false,
               false,
               false,
               false,
               false,
               false,
               false,
               false,
               false,
               false,
               false,
               false,
               false,
               false,
               false,
               false,
               false,
               false,
               false,
               false,
               false,
               false,
               false,
               false,
               false,
               false,
               false,
               false,
               false,
               false,
               false,
               false,
               false,
               false,
               false,
               false,
               false,
               false,
               false,
               false,
               false,
               false,
               false,
               false,
               false,
               false,
               false,
               false,
               false,
               false,
               false,
               false,
               false,
               false,
               false,
               false,
               false,
               false,
               false,
               false,
               false,
               false,
               false,
               false,
               false,
               false,
               false,
               false,
               false,
               false,
               false,
               false,
               false,
               false,
               false,
               false
              ]
             },
             {
              "annotations": [
               {
                "align": "center",
                "font": {
                 "size": 12
                },
                "showarrow": false,
                "text": "IPA // Spearman Corr. - Av. Rating (0.48) & Pos. Sent. (-0.19)",
                "x": 0.5,
                "xref": "paper",
                "y": 1.05,
                "yref": "paper"
               },
               {
                "align": "center",
                "font": {
                 "size": 12
                },
                "showarrow": false,
                "text": "Stout // Spearman Corr. - Av. Rating (0.69) & Pos. Sent. (0.32)",
                "x": 0.5,
                "xref": "paper",
                "y": 0.65,
                "yref": "paper"
               },
               {
                "align": "center",
                "font": {
                 "size": 12
                },
                "showarrow": false,
                "text": "Lager // Spearman Corr. - Av. Rating (0.76) & Pos. Sent. (0.58)",
                "x": 0.5,
                "xref": "paper",
                "y": 0.25,
                "yref": "paper"
               }
              ]
             }
            ],
            "label": "New York & Georgia",
            "method": "update"
           },
           {
            "args": [
             {
              "visible": [
               false,
               false,
               false,
               false,
               false,
               false,
               false,
               false,
               false,
               false,
               false,
               false,
               false,
               false,
               false,
               false,
               false,
               false,
               false,
               false,
               false,
               false,
               false,
               false,
               false,
               false,
               false,
               false,
               false,
               false,
               false,
               false,
               false,
               false,
               false,
               false,
               false,
               false,
               false,
               false,
               false,
               false,
               false,
               false,
               false,
               false,
               false,
               false,
               false,
               false,
               false,
               false,
               false,
               false,
               false,
               false,
               false,
               false,
               false,
               false,
               false,
               false,
               false,
               false,
               false,
               false,
               false,
               false,
               false,
               false,
               false,
               false,
               true,
               true,
               true,
               true,
               true,
               true,
               true,
               true,
               true,
               true,
               true,
               true,
               true,
               true,
               true,
               true,
               true,
               true,
               true,
               true,
               true,
               true,
               true,
               true,
               false,
               false,
               false,
               false,
               false,
               false,
               false,
               false,
               false,
               false,
               false,
               false,
               false,
               false,
               false,
               false,
               false,
               false,
               false,
               false,
               false,
               false,
               false,
               false,
               false,
               false,
               false,
               false,
               false,
               false,
               false,
               false,
               false,
               false,
               false,
               false,
               false,
               false,
               false,
               false,
               false,
               false,
               false,
               false,
               false,
               false,
               false,
               false,
               false,
               false,
               false,
               false,
               false,
               false,
               false,
               false,
               false,
               false,
               false,
               false,
               false,
               false,
               false,
               false,
               false,
               false,
               false,
               false,
               false,
               false,
               false,
               false
              ]
             },
             {
              "annotations": [
               {
                "align": "center",
                "font": {
                 "size": 12
                },
                "showarrow": false,
                "text": "IPA // Spearman Corr. - Av. Rating (0.71) & Pos. Sent. (0.40)",
                "x": 0.5,
                "xref": "paper",
                "y": 1.05,
                "yref": "paper"
               },
               {
                "align": "center",
                "font": {
                 "size": 12
                },
                "showarrow": false,
                "text": "Stout // Spearman Corr. - Av. Rating (0.54) & Pos. Sent. (0.46)",
                "x": 0.5,
                "xref": "paper",
                "y": 0.65,
                "yref": "paper"
               },
               {
                "align": "center",
                "font": {
                 "size": 12
                },
                "showarrow": false,
                "text": "Lager // Spearman Corr. - Av. Rating (0.81) & Pos. Sent. (0.36)",
                "x": 0.5,
                "xref": "paper",
                "y": 0.25,
                "yref": "paper"
               }
              ]
             }
            ],
            "label": "New York & Arizona",
            "method": "update"
           },
           {
            "args": [
             {
              "visible": [
               false,
               false,
               false,
               false,
               false,
               false,
               false,
               false,
               false,
               false,
               false,
               false,
               false,
               false,
               false,
               false,
               false,
               false,
               false,
               false,
               false,
               false,
               false,
               false,
               false,
               false,
               false,
               false,
               false,
               false,
               false,
               false,
               false,
               false,
               false,
               false,
               false,
               false,
               false,
               false,
               false,
               false,
               false,
               false,
               false,
               false,
               false,
               false,
               false,
               false,
               false,
               false,
               false,
               false,
               false,
               false,
               false,
               false,
               false,
               false,
               false,
               false,
               false,
               false,
               false,
               false,
               false,
               false,
               false,
               false,
               false,
               false,
               false,
               false,
               false,
               false,
               false,
               false,
               false,
               false,
               false,
               false,
               false,
               false,
               false,
               false,
               false,
               false,
               false,
               false,
               false,
               false,
               false,
               false,
               false,
               false,
               true,
               true,
               true,
               true,
               true,
               true,
               true,
               true,
               true,
               true,
               true,
               true,
               true,
               true,
               true,
               true,
               true,
               true,
               true,
               true,
               true,
               true,
               true,
               true,
               false,
               false,
               false,
               false,
               false,
               false,
               false,
               false,
               false,
               false,
               false,
               false,
               false,
               false,
               false,
               false,
               false,
               false,
               false,
               false,
               false,
               false,
               false,
               false,
               false,
               false,
               false,
               false,
               false,
               false,
               false,
               false,
               false,
               false,
               false,
               false,
               false,
               false,
               false,
               false,
               false,
               false,
               false,
               false,
               false,
               false,
               false,
               false
              ]
             },
             {
              "annotations": [
               {
                "align": "center",
                "font": {
                 "size": 12
                },
                "showarrow": false,
                "text": "IPA // Spearman Corr. - Av. Rating (-0.23) & Pos. Sent. (0.37)",
                "x": 0.5,
                "xref": "paper",
                "y": 1.05,
                "yref": "paper"
               },
               {
                "align": "center",
                "font": {
                 "size": 12
                },
                "showarrow": false,
                "text": "Stout // Spearman Corr. - Av. Rating (0.18) & Pos. Sent. (0.18)",
                "x": 0.5,
                "xref": "paper",
                "y": 0.65,
                "yref": "paper"
               },
               {
                "align": "center",
                "font": {
                 "size": 12
                },
                "showarrow": false,
                "text": "Lager // Spearman Corr. - Av. Rating (0.83) & Pos. Sent. (0.38)",
                "x": 0.5,
                "xref": "paper",
                "y": 0.25,
                "yref": "paper"
               }
              ]
             }
            ],
            "label": "Arizona & South Carolina",
            "method": "update"
           },
           {
            "args": [
             {
              "visible": [
               false,
               false,
               false,
               false,
               false,
               false,
               false,
               false,
               false,
               false,
               false,
               false,
               false,
               false,
               false,
               false,
               false,
               false,
               false,
               false,
               false,
               false,
               false,
               false,
               false,
               false,
               false,
               false,
               false,
               false,
               false,
               false,
               false,
               false,
               false,
               false,
               false,
               false,
               false,
               false,
               false,
               false,
               false,
               false,
               false,
               false,
               false,
               false,
               false,
               false,
               false,
               false,
               false,
               false,
               false,
               false,
               false,
               false,
               false,
               false,
               false,
               false,
               false,
               false,
               false,
               false,
               false,
               false,
               false,
               false,
               false,
               false,
               false,
               false,
               false,
               false,
               false,
               false,
               false,
               false,
               false,
               false,
               false,
               false,
               false,
               false,
               false,
               false,
               false,
               false,
               false,
               false,
               false,
               false,
               false,
               false,
               false,
               false,
               false,
               false,
               false,
               false,
               false,
               false,
               false,
               false,
               false,
               false,
               false,
               false,
               false,
               false,
               false,
               false,
               false,
               false,
               false,
               false,
               false,
               false,
               true,
               true,
               true,
               true,
               true,
               true,
               true,
               true,
               true,
               true,
               true,
               true,
               true,
               true,
               true,
               true,
               true,
               true,
               true,
               true,
               true,
               true,
               true,
               true,
               false,
               false,
               false,
               false,
               false,
               false,
               false,
               false,
               false,
               false,
               false,
               false,
               false,
               false,
               false,
               false,
               false,
               false,
               false,
               false,
               false,
               false,
               false,
               false
              ]
             },
             {
              "annotations": [
               {
                "align": "center",
                "font": {
                 "size": 12
                },
                "showarrow": false,
                "text": "IPA // Spearman Corr. - Av. Rating (-0.23) & Pos. Sent. (0.68)",
                "x": 0.5,
                "xref": "paper",
                "y": 1.05,
                "yref": "paper"
               },
               {
                "align": "center",
                "font": {
                 "size": 12
                },
                "showarrow": false,
                "text": "Stout // Spearman Corr. - Av. Rating (-0.12) & Pos. Sent. (0.39)",
                "x": 0.5,
                "xref": "paper",
                "y": 0.65,
                "yref": "paper"
               },
               {
                "align": "center",
                "font": {
                 "size": 12
                },
                "showarrow": false,
                "text": "Lager // Spearman Corr. - Av. Rating (-0.37) & Pos. Sent. (-0.44)",
                "x": 0.5,
                "xref": "paper",
                "y": 0.25,
                "yref": "paper"
               }
              ]
             }
            ],
            "label": "Nevada & Florida",
            "method": "update"
           },
           {
            "args": [
             {
              "visible": [
               false,
               false,
               false,
               false,
               false,
               false,
               false,
               false,
               false,
               false,
               false,
               false,
               false,
               false,
               false,
               false,
               false,
               false,
               false,
               false,
               false,
               false,
               false,
               false,
               false,
               false,
               false,
               false,
               false,
               false,
               false,
               false,
               false,
               false,
               false,
               false,
               false,
               false,
               false,
               false,
               false,
               false,
               false,
               false,
               false,
               false,
               false,
               false,
               false,
               false,
               false,
               false,
               false,
               false,
               false,
               false,
               false,
               false,
               false,
               false,
               false,
               false,
               false,
               false,
               false,
               false,
               false,
               false,
               false,
               false,
               false,
               false,
               false,
               false,
               false,
               false,
               false,
               false,
               false,
               false,
               false,
               false,
               false,
               false,
               false,
               false,
               false,
               false,
               false,
               false,
               false,
               false,
               false,
               false,
               false,
               false,
               false,
               false,
               false,
               false,
               false,
               false,
               false,
               false,
               false,
               false,
               false,
               false,
               false,
               false,
               false,
               false,
               false,
               false,
               false,
               false,
               false,
               false,
               false,
               false,
               false,
               false,
               false,
               false,
               false,
               false,
               false,
               false,
               false,
               false,
               false,
               false,
               false,
               false,
               false,
               false,
               false,
               false,
               false,
               false,
               false,
               false,
               false,
               false,
               true,
               true,
               true,
               true,
               true,
               true,
               true,
               true,
               true,
               true,
               true,
               true,
               true,
               true,
               true,
               true,
               true,
               true,
               true,
               true,
               true,
               true,
               true,
               true
              ]
             },
             {
              "annotations": [
               {
                "align": "center",
                "font": {
                 "size": 12
                },
                "showarrow": false,
                "text": "IPA // Spearman Corr. - Av. Rating (0.77) & Pos. Sent. (-0.05)",
                "x": 0.5,
                "xref": "paper",
                "y": 1.05,
                "yref": "paper"
               },
               {
                "align": "center",
                "font": {
                 "size": 12
                },
                "showarrow": false,
                "text": "Stout // Spearman Corr. - Av. Rating (0.44) & Pos. Sent. (-0.29)",
                "x": 0.5,
                "xref": "paper",
                "y": 0.65,
                "yref": "paper"
               },
               {
                "align": "center",
                "font": {
                 "size": 12
                },
                "showarrow": false,
                "text": "Lager // Spearman Corr. - Av. Rating (0.59) & Pos. Sent. (-0.02)",
                "x": 0.5,
                "xref": "paper",
                "y": 0.25,
                "yref": "paper"
               }
              ]
             }
            ],
            "label": "Pennsylvania & Virginia",
            "method": "update"
           }
          ],
          "direction": "down",
          "showactive": true
         }
        ],
        "width": 1200,
        "xaxis": {
         "anchor": "y",
         "domain": [
          0,
          0.94
         ]
        },
        "xaxis2": {
         "anchor": "y3",
         "domain": [
          0,
          0.94
         ]
        },
        "xaxis3": {
         "anchor": "y5",
         "domain": [
          0,
          0.94
         ]
        },
        "yaxis": {
         "anchor": "x",
         "domain": [
          0.7777777777777778,
          1
         ],
         "title": {
          "font": {
           "size": 10
          },
          "text": "Average Rating"
         }
        },
        "yaxis2": {
         "anchor": "x",
         "overlaying": "y",
         "side": "right",
         "title": {
          "font": {
           "size": 10
          },
          "text": "Fraction Positive Sentiment"
         }
        },
        "yaxis3": {
         "anchor": "x2",
         "domain": [
          0.3888888888888889,
          0.6111111111111112
         ],
         "title": {
          "font": {
           "size": 10
          },
          "text": "Average Rating"
         }
        },
        "yaxis4": {
         "anchor": "x2",
         "overlaying": "y3",
         "side": "right",
         "title": {
          "font": {
           "size": 10
          },
          "text": "Fraction Positive Sentiment"
         }
        },
        "yaxis5": {
         "anchor": "x3",
         "domain": [
          0,
          0.22222222222222224
         ],
         "title": {
          "font": {
           "size": 10
          },
          "text": "Average Rating"
         }
        },
        "yaxis6": {
         "anchor": "x3",
         "overlaying": "y5",
         "side": "right",
         "title": {
          "font": {
           "size": 10
          },
          "text": "Fraction Positive Sentiment"
         }
        }
       }
      }
     },
     "metadata": {},
     "output_type": "display_data"
    }
   ],
   "source": [
    "fig = plotting_utils.pairwise_trendplot(predef_state1, predef_state2, beer_styles, year_list, election_years, results, positive_sentiment, winners)"
   ]
  },
  {
   "cell_type": "code",
   "execution_count": 6,
   "metadata": {},
   "outputs": [],
   "source": [
    "fig.write_html('pairwise.html')"
   ]
  },
  {
   "cell_type": "code",
   "execution_count": null,
   "metadata": {},
   "outputs": [],
   "source": []
  }
 ],
 "metadata": {
  "kernelspec": {
   "display_name": "base",
   "language": "python",
   "name": "python3"
  },
  "language_info": {
   "codemirror_mode": {
    "name": "ipython",
    "version": 3
   },
   "file_extension": ".py",
   "mimetype": "text/x-python",
   "name": "python",
   "nbconvert_exporter": "python",
   "pygments_lexer": "ipython3",
   "version": "3.11.6"
  }
 },
 "nbformat": 4,
 "nbformat_minor": 2
}
