{
 "cells": [
  {
   "cell_type": "markdown",
   "metadata": {},
   "source": [
    "# Notebooks for comparing Fraction of Positive Sentiment Trends for different Beer Styles between different U.S. States \n",
    "\n",
    "This Notebooks contains interacitve Dash App created to allow easy comparison between *fraction of positive sentiment trends* for different *beer styles* between different *states*.  \n",
    "\n",
    "Through dropdown buttons user can specify two states between which it wants to conduct the comparison, as well as particular beer type out of set of available options (IPA, Lager, Pale Ale, Red/Amber Ale, Other Ale, Stout, Porter, Pilsner).  \n",
    "\n",
    "The plot of fraction of positive sentiment trends is displayed for the selected configuration of the states and beer type. Additionally, markers are displayed for election years (2004, 2008, 2012, 2016) on each trend to indicate the winning party, color coded for blue to represent Democrats and red to represent Republicans.  \n",
    "\n",
    "To evaluate the relationship between two trends Pearson and Sperman correlation coefficients are calculated and printed. "
   ]
  },
  {
   "cell_type": "code",
   "metadata": {
    "ExecuteTime": {
     "end_time": "2024-12-20T16:48:08.492148Z",
     "start_time": "2024-12-20T16:48:08.012028Z"
    }
   },
   "source": [
    "import pathlib\n",
    "import numpy as np\n",
    "\n",
    "data_dir_path = pathlib.Path(\"../../data\")\n",
    "\n",
    "from src.plots import plotting_utils\n",
    "from src.data import reviews_processing, load_and_find_party_winners"
   ],
   "outputs": [],
   "execution_count": 5
  },
  {
   "cell_type": "code",
   "metadata": {
    "ExecuteTime": {
     "end_time": "2024-12-20T16:07:58.994579Z",
     "start_time": "2024-12-20T16:07:58.929715Z"
    }
   },
   "source": [
    "%load_ext autoreload\n",
    "%autoreload 2"
   ],
   "outputs": [],
   "execution_count": 2
  },
  {
   "cell_type": "code",
   "metadata": {
    "ExecuteTime": {
     "end_time": "2024-12-20T16:49:09.646880Z",
     "start_time": "2024-12-20T16:48:09.751216Z"
    }
   },
   "source": [
    "users_path = data_dir_path / \"BeerAdvocate\" / \"users.csv\"\n",
    "reviews_path = data_dir_path / \"generated\" / \"reviews_df.csv\"\n",
    "sentiment_path = data_dir_path / \"generated\" / \"reviews2_df.pkl\"\n",
    "winners_path = data_dir_path / \"generated\" / \"party_winners_over_years.csv\"\n",
    "\n",
    "users_reviews = reviews_processing.Reviews(users_path, sentiment_path)\n",
    "\n",
    "\n",
    "sentiment_reviews = reviews_processing.Reviews(users_path, sentiment_path)\n",
    "year_list = list(np.arange(2004, 2017, 1, dtype=int))\n",
    "positive_sentiment = sentiment_reviews.sentiment_to_wide(sentiment_drop='NEGATIVE', sentiment_keep='POSITIVE', all_states=False, year_list=year_list)\n",
    "winners = load_and_find_party_winners.state_winner_years(winners_path)"
   ],
   "outputs": [],
   "execution_count": 6
  },
  {
   "cell_type": "code",
   "metadata": {
    "ExecuteTime": {
     "end_time": "2024-12-20T17:13:34.507211Z",
     "start_time": "2024-12-20T17:13:33.921383Z"
    }
   },
   "source": [
    "app = plotting_utils.BeerStyleTrendsDashApp(positive_sentiment, winners, plotting_utils.get_beer_styles_data, 'Positive Sentiment Fraction')\n",
    "app.run(port=8050)"
   ],
   "outputs": [
    {
     "data": {
      "text/plain": [
       "<IPython.lib.display.IFrame at 0x162d36010>"
      ],
      "text/html": [
       "\n",
       "        <iframe\n",
       "            width=\"100%\"\n",
       "            height=\"650\"\n",
       "            src=\"http://127.0.0.1:8050/\"\n",
       "            frameborder=\"0\"\n",
       "            allowfullscreen\n",
       "            \n",
       "        ></iframe>\n",
       "        "
      ]
     },
     "metadata": {},
     "output_type": "display_data"
    }
   ],
   "execution_count": 15
  }
 ],
 "metadata": {
  "kernelspec": {
   "display_name": "base",
   "language": "python",
   "name": "python3"
  },
  "language_info": {
   "codemirror_mode": {
    "name": "ipython",
    "version": 3
   },
   "file_extension": ".py",
   "mimetype": "text/x-python",
   "name": "python",
   "nbconvert_exporter": "python",
   "pygments_lexer": "ipython3",
   "version": "3.11.6"
  }
 },
 "nbformat": 4,
 "nbformat_minor": 2
}
