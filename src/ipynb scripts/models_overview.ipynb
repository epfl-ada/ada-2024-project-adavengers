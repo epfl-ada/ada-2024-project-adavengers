{
 "cells": [
  {
   "metadata": {},
   "cell_type": "markdown",
   "source": [
    "Here we provide an overview of the models that we will use for the project.\n",
    "The goal with this notebook is to play with the data and see how the models perform."
   ],
   "id": "bb00f39ebd2ec910"
  },
  {
   "metadata": {},
   "cell_type": "markdown",
   "source": [
    "The main goal is to provide a pipeline that can be used to analyze the reviews, to be able to answer our first research question. Tasks are : \n",
    "1) what is the sentiment of the review\n",
    "2) what styles of beers exist\n",
    "3) what emotions a beer is triggering"
   ],
   "id": "526454604207c13c"
  },
  {
   "metadata": {},
   "cell_type": "markdown",
   "source": "## Sentiment analysis",
   "id": "c46db2a0c3ddcdfd"
  },
  {
   "metadata": {
    "ExecuteTime": {
     "end_time": "2024-11-15T18:09:02.659709Z",
     "start_time": "2024-11-15T18:09:01.265933Z"
    }
   },
   "cell_type": "code",
   "source": [
    "from src.models.sentiment_analysis_model import SentimentAnalysisPipeline\n",
    "\n",
    "sentiment_analysis = SentimentAnalysisPipeline()\n",
    "print(sentiment_analysis.predict(\"I love this beer\"))\n",
    "print(sentiment_analysis.predict(\"I hate this beer\"))"
   ],
   "id": "337e0bc188cef03d",
   "outputs": [
    {
     "name": "stderr",
     "output_type": "stream",
     "text": [
      "emoji is not installed, thus not converting emoticons or emojis into text. Install emoji: pip3 install emoji==0.6.0\n",
      "Hardware accelerator e.g. GPU is available in the environment, but no `device` argument is passed to the `Pipeline` object. Model will be on CPU.\n"
     ]
    },
    {
     "name": "stdout",
     "output_type": "stream",
     "text": [
      "[{'label': 'POS', 'score': 0.9920633435249329}]\n",
      "[{'label': 'NEG', 'score': 0.9812145233154297}]\n"
     ]
    }
   ],
   "execution_count": 8
  },
  {
   "metadata": {},
   "cell_type": "markdown",
   "source": "## Topics analysis",
   "id": "2b42f536ba3e9d01"
  },
  {
   "metadata": {
    "ExecuteTime": {
     "end_time": "2024-11-15T18:15:30.599651Z",
     "start_time": "2024-11-15T18:15:30.567701Z"
    }
   },
   "cell_type": "code",
   "source": [
    "from src.models.lda_topics_analysis_model import LDAAnalysis\n",
    "\n",
    "# sample corpus with two main topics : computer science and health\n",
    "\n",
    "reviews = [\"The computer network relies on secure software for data protection.\",\n",
    "           \"A balanced diet and regular exercise are key to good health.\",\n",
    "           \"Programming AI systems requires a deep understanding of data.\",\n",
    "           \"Medicine and treatment plans are developed by the doctor for wellness.\",\n",
    "           \"Internet connectivity is essential for accessing modern software tools.\",\n",
    "           \"Exercise improves overall wellness and complements a healthy diet.\"\n",
    "           ]\n",
    "\n",
    "lda_analysis = LDAAnalysis(reviews)\n",
    "lda_analysis.load_dataset()\n",
    "lda_analysis.preprocess()\n",
    "lda_analysis.train_lda()\n",
    "lda_analysis.print_topics(num_words=2)\n",
    "print(\"as we can see the output makes sense we have a first topic about software and a second topic about exercise\")"
   ],
   "id": "17edfb283f72feca",
   "outputs": [
    {
     "name": "stdout",
     "output_type": "stream",
     "text": [
      "Loaded dataset with 6 reviews.\n",
      "starting preprocess\n",
      "preprocessing completed\n",
      "LDA model training completed.\n",
      "[(0, '0.816*\"software\" + 0.184*\"exercise\"'),\n",
      " (1, '0.815*\"exercise\" + 0.185*\"software\"')]\n",
      "as we can see the output makes sense we have a first topic about software and a second topic about exercise\n"
     ]
    }
   ],
   "execution_count": 13
  },
  {
   "metadata": {},
   "cell_type": "markdown",
   "source": "## Emotion analysis (embeddings)",
   "id": "1eb40268399fa243"
  },
  {
   "metadata": {
    "ExecuteTime": {
     "end_time": "2024-11-15T18:16:38.755271Z",
     "start_time": "2024-11-15T18:16:28.649725Z"
    }
   },
   "cell_type": "code",
   "source": [
    "from src.models.emotions_analysis_model import EmotionsAnalysisPipeline\n",
    "\n",
    "EmotionsAnalysisPipeline().analyse(\"This beer is very surprising, I didn't expect it to be so good.\")"
   ],
   "id": "132e584de72c53fd",
   "outputs": [
    {
     "name": "stdout",
     "output_type": "stream",
     "text": [
      "surprise                      : 0.3949018120765686\n",
      "disgust                       : 0.16275370121002197\n",
      "happiness                     : 0.11954759806394577\n",
      "sadness                       : 0.11160004138946533\n",
      "anger                         : 0.09775044023990631\n",
      "fear                          : 0.06247026473283768\n",
      "neutral                       : 0.10074402391910553\n"
     ]
    }
   ],
   "execution_count": 14
  }
 ],
 "metadata": {
  "kernelspec": {
   "display_name": "Python 3",
   "language": "python",
   "name": "python3"
  },
  "language_info": {
   "codemirror_mode": {
    "name": "ipython",
    "version": 2
   },
   "file_extension": ".py",
   "mimetype": "text/x-python",
   "name": "python",
   "nbconvert_exporter": "python",
   "pygments_lexer": "ipython2",
   "version": "2.7.6"
  }
 },
 "nbformat": 4,
 "nbformat_minor": 5
}
