{
 "cells": [
  {
   "cell_type": "markdown",
   "metadata": {},
   "source": [
    "# Notebooks for comparing Beer Rating Trends for different Beer Styles between different U.S. States \n",
    "\n",
    "This Notebooks contains interacitve Dash App created to allow easy comparison between *beer rating trends* for different *beer styles* between different *states*.  \n",
    "\n",
    "Through dropdown buttons user can specify two states between which it wants to conduct the comparison, as well as particular beer type out of set of available options (IPA, Lager, Pale Ale, Red/Amber Ale, Other Ale, Stout, Porter, Pilsner).  \n",
    "\n",
    "The plot of rating trends is displayed for the selected configuration of the states and beer type. Additionally, markers are displayed for election years (2004, 2008, 2012, 2016) on each trend to indicate the winning party, color coded for blue to represent Democrats and red to represent Republicans.  \n",
    "\n",
    "To evaluate the relationship between two trends Pearson and Sperman correlation coefficients are calculated and printed. "
   ]
  },
  {
   "cell_type": "code",
<<<<<<< HEAD
   "execution_count": 1,
=======
   "execution_count": null,
>>>>>>> 6175002 (sentiment plotting)
   "metadata": {},
   "outputs": [],
   "source": [
    "import plotly.graph_objects as go \n",
    "from dash import Dash, dcc, html \n",
    "from dash.dependencies import Input, Output\n",
    "from scipy.stats import pearsonr, spearmanr\n",
    "import numpy as np\n",
    "from pathlib import Path\n",
    "\n",
    "import sys\n",
    "import os\n",
    "data_path = os.path.abspath('../data')\n",
    "sys.path.append(data_path)\n",
    "\n",
    "utils_path = os.path.abspath('../utils')\n",
    "sys.path.append(utils_path)\n",
    "\n",
    "import reviews_processing\n",
    "import load_and_find_party_winners\n",
    "import plotting_utils"
   ]
  },
  {
   "cell_type": "code",
<<<<<<< HEAD
   "execution_count": 2,
=======
   "execution_count": null,
>>>>>>> 6175002 (sentiment plotting)
   "metadata": {},
   "outputs": [],
   "source": [
    "%load_ext autoreload\n",
    "%autoreload 2"
   ]
  },
  {
   "cell_type": "code",
<<<<<<< HEAD
   "execution_count": 3,
=======
   "execution_count": null,
>>>>>>> 6175002 (sentiment plotting)
   "metadata": {},
   "outputs": [],
   "source": [
    "project_root = Path.cwd().parents[2]\n",
    "\n",
    "beer_advocate_path = project_root / \"BeerAdvocate\"\n",
    "reviews_path = beer_advocate_path / \"reviews_df.csv\"\n",
    "users_path = beer_advocate_path / \"users.csv\"\n",
    "\n",
    "project_dir = Path.cwd().parents[1]\n",
    "winners_path = project_dir / \"data/generated/party_winners_over_years.csv\"\n",
    "\n",
    "users_reviews = reviews_processing.Reviews(users_path, reviews_path)\n",
    "year_list = list(np.arange(2004, 2017, 1, dtype=int))\n",
    "results = users_reviews.aggregate_preferences_year(year_list)\n",
    "winners = load_and_find_party_winners.state_winner_years(winners_path)"
   ]
  },
  {
   "cell_type": "code",
<<<<<<< HEAD
   "execution_count": 4,
   "metadata": {},
   "outputs": [
    {
     "data": {
      "text/html": [
       "\n",
       "        <iframe\n",
       "            width=\"100%\"\n",
       "            height=\"650\"\n",
       "            src=\"http://127.0.0.1:8050/\"\n",
       "            frameborder=\"0\"\n",
       "            allowfullscreen\n",
       "            \n",
       "        ></iframe>\n",
       "        "
      ],
      "text/plain": [
       "<IPython.lib.display.IFrame at 0x357d43b90>"
      ]
     },
     "metadata": {},
     "output_type": "display_data"
    }
   ],
=======
   "execution_count": null,
   "metadata": {},
   "outputs": [],
>>>>>>> 6175002 (sentiment plotting)
   "source": [
    "app = plotting_utils.BeerStyleTrendsDashApp(results, winners, plotting_utils.get_beer_styles_data)\n",
    "app.run()"
   ]
  }
 ],
 "metadata": {
  "kernelspec": {
   "display_name": "ada",
   "language": "python",
   "name": "python3"
  },
  "language_info": {
   "codemirror_mode": {
    "name": "ipython",
    "version": 3
   },
   "file_extension": ".py",
   "mimetype": "text/x-python",
   "name": "python",
   "nbconvert_exporter": "python",
   "pygments_lexer": "ipython3",
   "version": "3.11.9"
  }
 },
 "nbformat": 4,
 "nbformat_minor": 2
}
