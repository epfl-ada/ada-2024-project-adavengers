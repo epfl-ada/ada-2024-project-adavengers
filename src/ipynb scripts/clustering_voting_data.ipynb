{
 "cells": [
  {
   "cell_type": "code",
   "metadata": {
    "ExecuteTime": {
     "end_time": "2024-12-20T16:53:57.284010Z",
     "start_time": "2024-12-20T16:53:57.277085Z"
    }
   },
   "source": [
    "import pathlib\n",
    "from sklearn.decomposition import PCA\n",
    "from tslearn.clustering import KShape\n",
    "from tslearn.clustering import TimeSeriesKMeans\n",
    "from sklearn.cluster import KMeans\n",
    "from src.data import correlations\n",
    "from src.plots import plotting_utils\n",
    "import os\n",
    "from plots import plot_state_map\n",
    "\n",
    "\n",
    "data_dir_path = pathlib.Path(\"../../data\")\n",
    "models_path = os.path.abspath('../models')\n",
    "utils_path = os.path.abspath('../utils')"
   ],
   "outputs": [],
   "execution_count": 10
  },
  {
   "cell_type": "code",
   "metadata": {
    "ExecuteTime": {
     "end_time": "2024-12-20T16:53:57.800065Z",
     "start_time": "2024-12-20T16:53:57.339288Z"
    }
   },
   "source": [
    "%load_ext autoreload\n",
    "%autoreload 2"
   ],
   "outputs": [],
   "execution_count": 11
  },
  {
   "cell_type": "markdown",
   "metadata": {},
   "source": [
    "### Loading data \n",
    "\n",
    "`voting_data_merged:` Voting trends for election years 2004-2016. Each year comprises of percentage of votes for democrates/republicans for 3 different age groups: 18-29, 30-44, 45-65."
   ]
  },
  {
   "cell_type": "code",
   "metadata": {
    "ExecuteTime": {
     "end_time": "2024-12-20T16:53:57.951666Z",
     "start_time": "2024-12-20T16:53:57.807890Z"
    }
   },
   "source": "voting_data_merged = correlations.merge_voting_by_years(data_dir_path)",
   "outputs": [],
   "execution_count": 12
  },
  {
   "cell_type": "markdown",
   "metadata": {},
   "source": [
    "### Interpolating data for voting \n",
    "\n",
    "Since we have available only the voting data for election years, in order to have more fine-grained data, we interpolate the voting trends for the years in between, to obtain the trends for each year 2004-2016."
   ]
  },
  {
   "cell_type": "code",
   "metadata": {
    "ExecuteTime": {
     "end_time": "2024-12-20T16:53:58.208798Z",
     "start_time": "2024-12-20T16:53:57.970689Z"
    }
   },
   "source": [
    "interpolate_data = correlations.interpolate_votes(voting_data_merged)"
   ],
   "outputs": [],
   "execution_count": 13
  },
  {
   "cell_type": "markdown",
   "metadata": {},
   "source": [
    "### Clustering on original voting data\n",
    "\n",
    "Clustering states based on their voting trends throughout the election years."
   ]
  },
  {
   "cell_type": "code",
   "metadata": {
    "ExecuteTime": {
     "end_time": "2024-12-20T16:53:58.550518Z",
     "start_time": "2024-12-20T16:53:58.235589Z"
    }
   },
   "source": [
    "kmeans = KMeans(n_clusters=3, random_state=42, n_init=\"auto\").fit(voting_data_merged)\n",
    "states = voting_data_merged.index\n",
    "cluster_labels = kmeans.labels_\n",
    "state_clusters = dict(zip(states, cluster_labels))\n",
    "print(state_clusters)"
   ],
   "outputs": [
    {
     "name": "stdout",
     "output_type": "stream",
     "text": [
      "{'New York': 2, 'California': 2, 'New Hampshire': 0, 'Wisconsin': 0, 'Iowa': 0, 'Nevada': 0, 'Pennsylvania': 0, 'Virginia': 0, 'Ohio': 0, 'Florida': 0, 'North Carolina': 2, 'Arizona': 0, 'Indiana': 1, 'Georgia': 1, 'South Carolina': 1, 'Kentucky': 1, 'Texas': 1}\n"
     ]
    },
    {
     "name": "stderr",
     "output_type": "stream",
     "text": [
      "/opt/anaconda3/envs/ada/lib/python3.11/site-packages/threadpoolctl.py:1214: RuntimeWarning: \n",
      "Found Intel OpenMP ('libiomp') and LLVM OpenMP ('libomp') loaded at\n",
      "the same time. Both libraries are known to be incompatible and this\n",
      "can cause random crashes or deadlocks on Linux when loaded in the\n",
      "same Python program.\n",
      "Using threadpoolctl may cause crashes or deadlocks. For more\n",
      "information and possible workarounds, please see\n",
      "    https://github.com/joblib/threadpoolctl/blob/master/multiple_openmp.md\n",
      "\n",
      "  warnings.warn(msg, RuntimeWarning)\n"
     ]
    }
   ],
   "execution_count": 14
  },
  {
   "cell_type": "code",
   "metadata": {},
   "source": [
    "# Visualization of clustering on a lower dimension\n",
    "pca = PCA(n_components=2)\n",
    "reduced_data = pca.fit_transform(voting_data_merged)\n",
    "\n",
    "plotting_utils.plot_clustering(reduced_data[:, 0], reduced_data[:, 1], cluster_labels, states)"
   ],
   "outputs": [],
   "execution_count": null
  },
  {
   "cell_type": "markdown",
   "metadata": {},
   "source": [
    "### Performing clustering on interpolated data\n",
    "\n",
    "First, we need to prepare the data for time-series clustering. We are trying a few different clustering methods: \n",
    "- K-Shape\n",
    "- K-Means\n",
    "- Time Series K-Means using Dynamic Time Warping metric"
   ]
  },
  {
   "cell_type": "code",
   "metadata": {
    "ExecuteTime": {
     "end_time": "2024-12-20T16:54:24.720674Z",
     "start_time": "2024-12-20T16:53:59.785747Z"
    }
   },
   "source": [
    "# Drop all columns containing 'republican' in their names since they don't add more information \n",
    "interpolate_data_filt = interpolate_data.loc[:, ~interpolate_data.columns.str.contains('republican')]\n",
    "\n",
    "# This leaves us with 17x39 dataframe: For each state we have a time series for 13 years for 3 different age groups\n",
    "\n",
    "# Apply K-Shape\n",
    "kshape = KShape(n_clusters=3, random_state=42)\n",
    "kshape_labels = kshape.fit_predict(interpolate_data_filt)  \n",
    "print(\"Cluster Labels K-Shape:\", kshape_labels)\n",
    "\n",
    "# Apply K-Means \n",
    "kmeans = KMeans(n_clusters=3, random_state=42, n_init=\"auto\").fit(interpolate_data_filt)\n",
    "states = interpolate_data_filt.index\n",
    "kmeans_labels = kmeans.labels_\n",
    "state_clusters = dict(zip(states, kmeans_labels))\n",
    "print(\"Cluster Labels K-Means:\", kmeans_labels)\n",
    "\n",
    "# Apply Multivariate DTW-based clustering\n",
    "tskmeans = TimeSeriesKMeans(n_clusters=3, metric=\"dtw\", n_jobs=-1, random_state=42)\n",
    "tskmeans_labels = tskmeans.fit_predict(interpolate_data_filt)  \n",
    "state_clusters = dict(zip(states, tskmeans_labels))\n",
    "print(\"Cluster Labels Time Series K-Means:\", tskmeans_labels)\n"
   ],
   "outputs": [
    {
     "name": "stderr",
     "output_type": "stream",
     "text": [
      "OMP: Info #276: omp_set_nested routine deprecated, please use omp_set_max_active_levels instead.\n"
     ]
    },
    {
     "name": "stdout",
     "output_type": "stream",
     "text": [
      "Cluster Labels K-Shape: [2 2 2 2 2 2 2 2 2 2 2 2 2 2 2 2 2]\n",
      "Cluster Labels K-Means: [2 2 0 0 0 0 0 0 0 0 0 1 1 1 1 1 1]\n",
      "Cluster Labels Time Series K-Means: [0 0 0 0 0 0 0 0 0 0 2 0 1 0 1 1 1]\n"
     ]
    }
   ],
   "execution_count": 16
  },
  {
   "cell_type": "markdown",
   "metadata": {},
   "source": [
    "### For further analysis we choose to proceed with results from K-Means"
   ]
  },
  {
   "cell_type": "code",
   "metadata": {
    "ExecuteTime": {
     "end_time": "2024-12-20T16:54:25.064680Z",
     "start_time": "2024-12-20T16:54:24.784723Z"
    }
   },
   "source": [
    "# Visualization of clustering on a lower dimension\n",
    "pca = PCA(n_components=2)\n",
    "reduced_data = pca.fit_transform(interpolate_data_filt)\n",
    "\n",
    "fig = plotting_utils.plot_clustering(reduced_data[:, 0], reduced_data[:, 1], kmeans_labels, states)\n",
    "fig.write_html('clustering_states.html')"
   ],
   "outputs": [
    {
     "data": {
      "application/vnd.plotly.v1+json": {
       "data": [
        {
         "marker": {
          "color": [
           2,
           2,
           0,
           0,
           0,
           0,
           0,
           0,
           0,
           0,
           0,
           1,
           1,
           1,
           1,
           1,
           1
          ],
          "colorscale": [
           [
            0.0,
            "#440154"
           ],
           [
            0.1111111111111111,
            "#482878"
           ],
           [
            0.2222222222222222,
            "#3e4989"
           ],
           [
            0.3333333333333333,
            "#31688e"
           ],
           [
            0.4444444444444444,
            "#26828e"
           ],
           [
            0.5555555555555556,
            "#1f9e89"
           ],
           [
            0.6666666666666666,
            "#35b779"
           ],
           [
            0.7777777777777778,
            "#6ece58"
           ],
           [
            0.8888888888888888,
            "#b5de2b"
           ],
           [
            1.0,
            "#fde725"
           ]
          ],
          "showscale": false,
          "size": 10
         },
         "mode": "markers+text",
         "name": "States",
         "text": [
          "New York",
          "California",
          "New Hampshire",
          "Wisconsin",
          "Iowa",
          "Nevada",
          "Pennsylvania",
          "Virginia",
          "Ohio",
          "Florida",
          "North Carolina",
          "Arizona",
          "Indiana",
          "Georgia",
          "South Carolina",
          "Kentucky",
          "Texas"
         ],
         "textfont": {
          "size": 8
         },
         "textposition": "top center",
         "x": [
          0.7407293330675397,
          0.6891446517161024,
          0.05400789052378654,
          0.09729821225876636,
          -0.08991992577568625,
          0.20365511150410967,
          0.11953134508645127,
          0.0179667425833506,
          -0.019611383212889105,
          0.06296173387175326,
          0.28471631576088535,
          -0.23512023277233926,
          -0.3796274093965446,
          -0.16258399969505735,
          -0.39870006115049816,
          -0.746810930363902,
          -0.23763739400582848
         ],
         "y": [
          -0.1841457546121941,
          -0.04550580656685571,
          0.048735896462543934,
          0.00745773818316857,
          0.06971075239812391,
          -0.10540563046354258,
          -0.03606669406900833,
          -0.05204816190552866,
          0.013349235070305932,
          -0.08405029194912278,
          0.6424639723076557,
          0.004826101823724644,
          0.10030481560947822,
          -0.23459254855881628,
          -0.1525081781712271,
          0.07450764414726227,
          -0.06703308970596611
         ],
         "type": "scatter"
        }
       ],
       "layout": {
        "template": {
         "data": {
          "barpolar": [
           {
            "marker": {
             "line": {
              "color": "white",
              "width": 0.5
             },
             "pattern": {
              "fillmode": "overlay",
              "size": 10,
              "solidity": 0.2
             }
            },
            "type": "barpolar"
           }
          ],
          "bar": [
           {
            "error_x": {
             "color": "#2a3f5f"
            },
            "error_y": {
             "color": "#2a3f5f"
            },
            "marker": {
             "line": {
              "color": "white",
              "width": 0.5
             },
             "pattern": {
              "fillmode": "overlay",
              "size": 10,
              "solidity": 0.2
             }
            },
            "type": "bar"
           }
          ],
          "carpet": [
           {
            "aaxis": {
             "endlinecolor": "#2a3f5f",
             "gridcolor": "#C8D4E3",
             "linecolor": "#C8D4E3",
             "minorgridcolor": "#C8D4E3",
             "startlinecolor": "#2a3f5f"
            },
            "baxis": {
             "endlinecolor": "#2a3f5f",
             "gridcolor": "#C8D4E3",
             "linecolor": "#C8D4E3",
             "minorgridcolor": "#C8D4E3",
             "startlinecolor": "#2a3f5f"
            },
            "type": "carpet"
           }
          ],
          "choropleth": [
           {
            "colorbar": {
             "outlinewidth": 0,
             "ticks": ""
            },
            "type": "choropleth"
           }
          ],
          "contourcarpet": [
           {
            "colorbar": {
             "outlinewidth": 0,
             "ticks": ""
            },
            "type": "contourcarpet"
           }
          ],
          "contour": [
           {
            "colorbar": {
             "outlinewidth": 0,
             "ticks": ""
            },
            "colorscale": [
             [
              0.0,
              "#0d0887"
             ],
             [
              0.1111111111111111,
              "#46039f"
             ],
             [
              0.2222222222222222,
              "#7201a8"
             ],
             [
              0.3333333333333333,
              "#9c179e"
             ],
             [
              0.4444444444444444,
              "#bd3786"
             ],
             [
              0.5555555555555556,
              "#d8576b"
             ],
             [
              0.6666666666666666,
              "#ed7953"
             ],
             [
              0.7777777777777778,
              "#fb9f3a"
             ],
             [
              0.8888888888888888,
              "#fdca26"
             ],
             [
              1.0,
              "#f0f921"
             ]
            ],
            "type": "contour"
           }
          ],
          "heatmapgl": [
           {
            "colorbar": {
             "outlinewidth": 0,
             "ticks": ""
            },
            "colorscale": [
             [
              0.0,
              "#0d0887"
             ],
             [
              0.1111111111111111,
              "#46039f"
             ],
             [
              0.2222222222222222,
              "#7201a8"
             ],
             [
              0.3333333333333333,
              "#9c179e"
             ],
             [
              0.4444444444444444,
              "#bd3786"
             ],
             [
              0.5555555555555556,
              "#d8576b"
             ],
             [
              0.6666666666666666,
              "#ed7953"
             ],
             [
              0.7777777777777778,
              "#fb9f3a"
             ],
             [
              0.8888888888888888,
              "#fdca26"
             ],
             [
              1.0,
              "#f0f921"
             ]
            ],
            "type": "heatmapgl"
           }
          ],
          "heatmap": [
           {
            "colorbar": {
             "outlinewidth": 0,
             "ticks": ""
            },
            "colorscale": [
             [
              0.0,
              "#0d0887"
             ],
             [
              0.1111111111111111,
              "#46039f"
             ],
             [
              0.2222222222222222,
              "#7201a8"
             ],
             [
              0.3333333333333333,
              "#9c179e"
             ],
             [
              0.4444444444444444,
              "#bd3786"
             ],
             [
              0.5555555555555556,
              "#d8576b"
             ],
             [
              0.6666666666666666,
              "#ed7953"
             ],
             [
              0.7777777777777778,
              "#fb9f3a"
             ],
             [
              0.8888888888888888,
              "#fdca26"
             ],
             [
              1.0,
              "#f0f921"
             ]
            ],
            "type": "heatmap"
           }
          ],
          "histogram2dcontour": [
           {
            "colorbar": {
             "outlinewidth": 0,
             "ticks": ""
            },
            "colorscale": [
             [
              0.0,
              "#0d0887"
             ],
             [
              0.1111111111111111,
              "#46039f"
             ],
             [
              0.2222222222222222,
              "#7201a8"
             ],
             [
              0.3333333333333333,
              "#9c179e"
             ],
             [
              0.4444444444444444,
              "#bd3786"
             ],
             [
              0.5555555555555556,
              "#d8576b"
             ],
             [
              0.6666666666666666,
              "#ed7953"
             ],
             [
              0.7777777777777778,
              "#fb9f3a"
             ],
             [
              0.8888888888888888,
              "#fdca26"
             ],
             [
              1.0,
              "#f0f921"
             ]
            ],
            "type": "histogram2dcontour"
           }
          ],
          "histogram2d": [
           {
            "colorbar": {
             "outlinewidth": 0,
             "ticks": ""
            },
            "colorscale": [
             [
              0.0,
              "#0d0887"
             ],
             [
              0.1111111111111111,
              "#46039f"
             ],
             [
              0.2222222222222222,
              "#7201a8"
             ],
             [
              0.3333333333333333,
              "#9c179e"
             ],
             [
              0.4444444444444444,
              "#bd3786"
             ],
             [
              0.5555555555555556,
              "#d8576b"
             ],
             [
              0.6666666666666666,
              "#ed7953"
             ],
             [
              0.7777777777777778,
              "#fb9f3a"
             ],
             [
              0.8888888888888888,
              "#fdca26"
             ],
             [
              1.0,
              "#f0f921"
             ]
            ],
            "type": "histogram2d"
           }
          ],
          "histogram": [
           {
            "marker": {
             "pattern": {
              "fillmode": "overlay",
              "size": 10,
              "solidity": 0.2
             }
            },
            "type": "histogram"
           }
          ],
          "mesh3d": [
           {
            "colorbar": {
             "outlinewidth": 0,
             "ticks": ""
            },
            "type": "mesh3d"
           }
          ],
          "parcoords": [
           {
            "line": {
             "colorbar": {
              "outlinewidth": 0,
              "ticks": ""
             }
            },
            "type": "parcoords"
           }
          ],
          "pie": [
           {
            "automargin": true,
            "type": "pie"
           }
          ],
          "scatter3d": [
           {
            "line": {
             "colorbar": {
              "outlinewidth": 0,
              "ticks": ""
             }
            },
            "marker": {
             "colorbar": {
              "outlinewidth": 0,
              "ticks": ""
             }
            },
            "type": "scatter3d"
           }
          ],
          "scattercarpet": [
           {
            "marker": {
             "colorbar": {
              "outlinewidth": 0,
              "ticks": ""
             }
            },
            "type": "scattercarpet"
           }
          ],
          "scattergeo": [
           {
            "marker": {
             "colorbar": {
              "outlinewidth": 0,
              "ticks": ""
             }
            },
            "type": "scattergeo"
           }
          ],
          "scattergl": [
           {
            "marker": {
             "colorbar": {
              "outlinewidth": 0,
              "ticks": ""
             }
            },
            "type": "scattergl"
           }
          ],
          "scattermapbox": [
           {
            "marker": {
             "colorbar": {
              "outlinewidth": 0,
              "ticks": ""
             }
            },
            "type": "scattermapbox"
           }
          ],
          "scatterpolargl": [
           {
            "marker": {
             "colorbar": {
              "outlinewidth": 0,
              "ticks": ""
             }
            },
            "type": "scatterpolargl"
           }
          ],
          "scatterpolar": [
           {
            "marker": {
             "colorbar": {
              "outlinewidth": 0,
              "ticks": ""
             }
            },
            "type": "scatterpolar"
           }
          ],
          "scatter": [
           {
            "fillpattern": {
             "fillmode": "overlay",
             "size": 10,
             "solidity": 0.2
            },
            "type": "scatter"
           }
          ],
          "scatterternary": [
           {
            "marker": {
             "colorbar": {
              "outlinewidth": 0,
              "ticks": ""
             }
            },
            "type": "scatterternary"
           }
          ],
          "surface": [
           {
            "colorbar": {
             "outlinewidth": 0,
             "ticks": ""
            },
            "colorscale": [
             [
              0.0,
              "#0d0887"
             ],
             [
              0.1111111111111111,
              "#46039f"
             ],
             [
              0.2222222222222222,
              "#7201a8"
             ],
             [
              0.3333333333333333,
              "#9c179e"
             ],
             [
              0.4444444444444444,
              "#bd3786"
             ],
             [
              0.5555555555555556,
              "#d8576b"
             ],
             [
              0.6666666666666666,
              "#ed7953"
             ],
             [
              0.7777777777777778,
              "#fb9f3a"
             ],
             [
              0.8888888888888888,
              "#fdca26"
             ],
             [
              1.0,
              "#f0f921"
             ]
            ],
            "type": "surface"
           }
          ],
          "table": [
           {
            "cells": {
             "fill": {
              "color": "#EBF0F8"
             },
             "line": {
              "color": "white"
             }
            },
            "header": {
             "fill": {
              "color": "#C8D4E3"
             },
             "line": {
              "color": "white"
             }
            },
            "type": "table"
           }
          ]
         },
         "layout": {
          "annotationdefaults": {
           "arrowcolor": "#2a3f5f",
           "arrowhead": 0,
           "arrowwidth": 1
          },
          "autotypenumbers": "strict",
          "coloraxis": {
           "colorbar": {
            "outlinewidth": 0,
            "ticks": ""
           }
          },
          "colorscale": {
           "diverging": [
            [
             0,
             "#8e0152"
            ],
            [
             0.1,
             "#c51b7d"
            ],
            [
             0.2,
             "#de77ae"
            ],
            [
             0.3,
             "#f1b6da"
            ],
            [
             0.4,
             "#fde0ef"
            ],
            [
             0.5,
             "#f7f7f7"
            ],
            [
             0.6,
             "#e6f5d0"
            ],
            [
             0.7,
             "#b8e186"
            ],
            [
             0.8,
             "#7fbc41"
            ],
            [
             0.9,
             "#4d9221"
            ],
            [
             1,
             "#276419"
            ]
           ],
           "sequential": [
            [
             0.0,
             "#0d0887"
            ],
            [
             0.1111111111111111,
             "#46039f"
            ],
            [
             0.2222222222222222,
             "#7201a8"
            ],
            [
             0.3333333333333333,
             "#9c179e"
            ],
            [
             0.4444444444444444,
             "#bd3786"
            ],
            [
             0.5555555555555556,
             "#d8576b"
            ],
            [
             0.6666666666666666,
             "#ed7953"
            ],
            [
             0.7777777777777778,
             "#fb9f3a"
            ],
            [
             0.8888888888888888,
             "#fdca26"
            ],
            [
             1.0,
             "#f0f921"
            ]
           ],
           "sequentialminus": [
            [
             0.0,
             "#0d0887"
            ],
            [
             0.1111111111111111,
             "#46039f"
            ],
            [
             0.2222222222222222,
             "#7201a8"
            ],
            [
             0.3333333333333333,
             "#9c179e"
            ],
            [
             0.4444444444444444,
             "#bd3786"
            ],
            [
             0.5555555555555556,
             "#d8576b"
            ],
            [
             0.6666666666666666,
             "#ed7953"
            ],
            [
             0.7777777777777778,
             "#fb9f3a"
            ],
            [
             0.8888888888888888,
             "#fdca26"
            ],
            [
             1.0,
             "#f0f921"
            ]
           ]
          },
          "colorway": [
           "#636efa",
           "#EF553B",
           "#00cc96",
           "#ab63fa",
           "#FFA15A",
           "#19d3f3",
           "#FF6692",
           "#B6E880",
           "#FF97FF",
           "#FECB52"
          ],
          "font": {
           "color": "#2a3f5f"
          },
          "geo": {
           "bgcolor": "white",
           "lakecolor": "white",
           "landcolor": "white",
           "showlakes": true,
           "showland": true,
           "subunitcolor": "#C8D4E3"
          },
          "hoverlabel": {
           "align": "left"
          },
          "hovermode": "closest",
          "mapbox": {
           "style": "light"
          },
          "paper_bgcolor": "white",
          "plot_bgcolor": "white",
          "polar": {
           "angularaxis": {
            "gridcolor": "#EBF0F8",
            "linecolor": "#EBF0F8",
            "ticks": ""
           },
           "bgcolor": "white",
           "radialaxis": {
            "gridcolor": "#EBF0F8",
            "linecolor": "#EBF0F8",
            "ticks": ""
           }
          },
          "scene": {
           "xaxis": {
            "backgroundcolor": "white",
            "gridcolor": "#DFE8F3",
            "gridwidth": 2,
            "linecolor": "#EBF0F8",
            "showbackground": true,
            "ticks": "",
            "zerolinecolor": "#EBF0F8"
           },
           "yaxis": {
            "backgroundcolor": "white",
            "gridcolor": "#DFE8F3",
            "gridwidth": 2,
            "linecolor": "#EBF0F8",
            "showbackground": true,
            "ticks": "",
            "zerolinecolor": "#EBF0F8"
           },
           "zaxis": {
            "backgroundcolor": "white",
            "gridcolor": "#DFE8F3",
            "gridwidth": 2,
            "linecolor": "#EBF0F8",
            "showbackground": true,
            "ticks": "",
            "zerolinecolor": "#EBF0F8"
           }
          },
          "shapedefaults": {
           "line": {
            "color": "#2a3f5f"
           }
          },
          "ternary": {
           "aaxis": {
            "gridcolor": "#DFE8F3",
            "linecolor": "#A2B1C6",
            "ticks": ""
           },
           "baxis": {
            "gridcolor": "#DFE8F3",
            "linecolor": "#A2B1C6",
            "ticks": ""
           },
           "bgcolor": "white",
           "caxis": {
            "gridcolor": "#DFE8F3",
            "linecolor": "#A2B1C6",
            "ticks": ""
           }
          },
          "title": {
           "x": 0.05
          },
          "xaxis": {
           "automargin": true,
           "gridcolor": "#EBF0F8",
           "linecolor": "#EBF0F8",
           "ticks": "",
           "title": {
            "standoff": 15
           },
           "zerolinecolor": "#EBF0F8",
           "zerolinewidth": 2
          },
          "yaxis": {
           "automargin": true,
           "gridcolor": "#EBF0F8",
           "linecolor": "#EBF0F8",
           "ticks": "",
           "title": {
            "standoff": 15
           },
           "zerolinecolor": "#EBF0F8",
           "zerolinewidth": 2
          }
         }
        },
        "title": {
         "text": "Clustering of States Based on Voting Trends"
        },
        "xaxis": {
         "title": {
          "text": "PCA Component 1"
         }
        },
        "yaxis": {
         "title": {
          "text": "PCA Component 2"
         }
        }
       },
       "config": {
        "plotlyServerURL": "https://plot.ly"
       }
      },
      "text/html": [
       "<div>                            <div id=\"ea3eafbb-54e5-4376-8307-32a095bf69bc\" class=\"plotly-graph-div\" style=\"height:525px; width:100%;\"></div>            <script type=\"text/javascript\">                require([\"plotly\"], function(Plotly) {                    window.PLOTLYENV=window.PLOTLYENV || {};                                    if (document.getElementById(\"ea3eafbb-54e5-4376-8307-32a095bf69bc\")) {                    Plotly.newPlot(                        \"ea3eafbb-54e5-4376-8307-32a095bf69bc\",                        [{\"marker\":{\"color\":[2,2,0,0,0,0,0,0,0,0,0,1,1,1,1,1,1],\"colorscale\":[[0.0,\"#440154\"],[0.1111111111111111,\"#482878\"],[0.2222222222222222,\"#3e4989\"],[0.3333333333333333,\"#31688e\"],[0.4444444444444444,\"#26828e\"],[0.5555555555555556,\"#1f9e89\"],[0.6666666666666666,\"#35b779\"],[0.7777777777777778,\"#6ece58\"],[0.8888888888888888,\"#b5de2b\"],[1.0,\"#fde725\"]],\"showscale\":false,\"size\":10},\"mode\":\"markers+text\",\"name\":\"States\",\"text\":[\"New York\",\"California\",\"New Hampshire\",\"Wisconsin\",\"Iowa\",\"Nevada\",\"Pennsylvania\",\"Virginia\",\"Ohio\",\"Florida\",\"North Carolina\",\"Arizona\",\"Indiana\",\"Georgia\",\"South Carolina\",\"Kentucky\",\"Texas\"],\"textfont\":{\"size\":8},\"textposition\":\"top center\",\"x\":[0.7407293330675397,0.6891446517161024,0.05400789052378654,0.09729821225876636,-0.08991992577568625,0.20365511150410967,0.11953134508645127,0.0179667425833506,-0.019611383212889105,0.06296173387175326,0.28471631576088535,-0.23512023277233926,-0.3796274093965446,-0.16258399969505735,-0.39870006115049816,-0.746810930363902,-0.23763739400582848],\"y\":[-0.1841457546121941,-0.04550580656685571,0.048735896462543934,0.00745773818316857,0.06971075239812391,-0.10540563046354258,-0.03606669406900833,-0.05204816190552866,0.013349235070305932,-0.08405029194912278,0.6424639723076557,0.004826101823724644,0.10030481560947822,-0.23459254855881628,-0.1525081781712271,0.07450764414726227,-0.06703308970596611],\"type\":\"scatter\"}],                        {\"template\":{\"data\":{\"barpolar\":[{\"marker\":{\"line\":{\"color\":\"white\",\"width\":0.5},\"pattern\":{\"fillmode\":\"overlay\",\"size\":10,\"solidity\":0.2}},\"type\":\"barpolar\"}],\"bar\":[{\"error_x\":{\"color\":\"#2a3f5f\"},\"error_y\":{\"color\":\"#2a3f5f\"},\"marker\":{\"line\":{\"color\":\"white\",\"width\":0.5},\"pattern\":{\"fillmode\":\"overlay\",\"size\":10,\"solidity\":0.2}},\"type\":\"bar\"}],\"carpet\":[{\"aaxis\":{\"endlinecolor\":\"#2a3f5f\",\"gridcolor\":\"#C8D4E3\",\"linecolor\":\"#C8D4E3\",\"minorgridcolor\":\"#C8D4E3\",\"startlinecolor\":\"#2a3f5f\"},\"baxis\":{\"endlinecolor\":\"#2a3f5f\",\"gridcolor\":\"#C8D4E3\",\"linecolor\":\"#C8D4E3\",\"minorgridcolor\":\"#C8D4E3\",\"startlinecolor\":\"#2a3f5f\"},\"type\":\"carpet\"}],\"choropleth\":[{\"colorbar\":{\"outlinewidth\":0,\"ticks\":\"\"},\"type\":\"choropleth\"}],\"contourcarpet\":[{\"colorbar\":{\"outlinewidth\":0,\"ticks\":\"\"},\"type\":\"contourcarpet\"}],\"contour\":[{\"colorbar\":{\"outlinewidth\":0,\"ticks\":\"\"},\"colorscale\":[[0.0,\"#0d0887\"],[0.1111111111111111,\"#46039f\"],[0.2222222222222222,\"#7201a8\"],[0.3333333333333333,\"#9c179e\"],[0.4444444444444444,\"#bd3786\"],[0.5555555555555556,\"#d8576b\"],[0.6666666666666666,\"#ed7953\"],[0.7777777777777778,\"#fb9f3a\"],[0.8888888888888888,\"#fdca26\"],[1.0,\"#f0f921\"]],\"type\":\"contour\"}],\"heatmapgl\":[{\"colorbar\":{\"outlinewidth\":0,\"ticks\":\"\"},\"colorscale\":[[0.0,\"#0d0887\"],[0.1111111111111111,\"#46039f\"],[0.2222222222222222,\"#7201a8\"],[0.3333333333333333,\"#9c179e\"],[0.4444444444444444,\"#bd3786\"],[0.5555555555555556,\"#d8576b\"],[0.6666666666666666,\"#ed7953\"],[0.7777777777777778,\"#fb9f3a\"],[0.8888888888888888,\"#fdca26\"],[1.0,\"#f0f921\"]],\"type\":\"heatmapgl\"}],\"heatmap\":[{\"colorbar\":{\"outlinewidth\":0,\"ticks\":\"\"},\"colorscale\":[[0.0,\"#0d0887\"],[0.1111111111111111,\"#46039f\"],[0.2222222222222222,\"#7201a8\"],[0.3333333333333333,\"#9c179e\"],[0.4444444444444444,\"#bd3786\"],[0.5555555555555556,\"#d8576b\"],[0.6666666666666666,\"#ed7953\"],[0.7777777777777778,\"#fb9f3a\"],[0.8888888888888888,\"#fdca26\"],[1.0,\"#f0f921\"]],\"type\":\"heatmap\"}],\"histogram2dcontour\":[{\"colorbar\":{\"outlinewidth\":0,\"ticks\":\"\"},\"colorscale\":[[0.0,\"#0d0887\"],[0.1111111111111111,\"#46039f\"],[0.2222222222222222,\"#7201a8\"],[0.3333333333333333,\"#9c179e\"],[0.4444444444444444,\"#bd3786\"],[0.5555555555555556,\"#d8576b\"],[0.6666666666666666,\"#ed7953\"],[0.7777777777777778,\"#fb9f3a\"],[0.8888888888888888,\"#fdca26\"],[1.0,\"#f0f921\"]],\"type\":\"histogram2dcontour\"}],\"histogram2d\":[{\"colorbar\":{\"outlinewidth\":0,\"ticks\":\"\"},\"colorscale\":[[0.0,\"#0d0887\"],[0.1111111111111111,\"#46039f\"],[0.2222222222222222,\"#7201a8\"],[0.3333333333333333,\"#9c179e\"],[0.4444444444444444,\"#bd3786\"],[0.5555555555555556,\"#d8576b\"],[0.6666666666666666,\"#ed7953\"],[0.7777777777777778,\"#fb9f3a\"],[0.8888888888888888,\"#fdca26\"],[1.0,\"#f0f921\"]],\"type\":\"histogram2d\"}],\"histogram\":[{\"marker\":{\"pattern\":{\"fillmode\":\"overlay\",\"size\":10,\"solidity\":0.2}},\"type\":\"histogram\"}],\"mesh3d\":[{\"colorbar\":{\"outlinewidth\":0,\"ticks\":\"\"},\"type\":\"mesh3d\"}],\"parcoords\":[{\"line\":{\"colorbar\":{\"outlinewidth\":0,\"ticks\":\"\"}},\"type\":\"parcoords\"}],\"pie\":[{\"automargin\":true,\"type\":\"pie\"}],\"scatter3d\":[{\"line\":{\"colorbar\":{\"outlinewidth\":0,\"ticks\":\"\"}},\"marker\":{\"colorbar\":{\"outlinewidth\":0,\"ticks\":\"\"}},\"type\":\"scatter3d\"}],\"scattercarpet\":[{\"marker\":{\"colorbar\":{\"outlinewidth\":0,\"ticks\":\"\"}},\"type\":\"scattercarpet\"}],\"scattergeo\":[{\"marker\":{\"colorbar\":{\"outlinewidth\":0,\"ticks\":\"\"}},\"type\":\"scattergeo\"}],\"scattergl\":[{\"marker\":{\"colorbar\":{\"outlinewidth\":0,\"ticks\":\"\"}},\"type\":\"scattergl\"}],\"scattermapbox\":[{\"marker\":{\"colorbar\":{\"outlinewidth\":0,\"ticks\":\"\"}},\"type\":\"scattermapbox\"}],\"scatterpolargl\":[{\"marker\":{\"colorbar\":{\"outlinewidth\":0,\"ticks\":\"\"}},\"type\":\"scatterpolargl\"}],\"scatterpolar\":[{\"marker\":{\"colorbar\":{\"outlinewidth\":0,\"ticks\":\"\"}},\"type\":\"scatterpolar\"}],\"scatter\":[{\"fillpattern\":{\"fillmode\":\"overlay\",\"size\":10,\"solidity\":0.2},\"type\":\"scatter\"}],\"scatterternary\":[{\"marker\":{\"colorbar\":{\"outlinewidth\":0,\"ticks\":\"\"}},\"type\":\"scatterternary\"}],\"surface\":[{\"colorbar\":{\"outlinewidth\":0,\"ticks\":\"\"},\"colorscale\":[[0.0,\"#0d0887\"],[0.1111111111111111,\"#46039f\"],[0.2222222222222222,\"#7201a8\"],[0.3333333333333333,\"#9c179e\"],[0.4444444444444444,\"#bd3786\"],[0.5555555555555556,\"#d8576b\"],[0.6666666666666666,\"#ed7953\"],[0.7777777777777778,\"#fb9f3a\"],[0.8888888888888888,\"#fdca26\"],[1.0,\"#f0f921\"]],\"type\":\"surface\"}],\"table\":[{\"cells\":{\"fill\":{\"color\":\"#EBF0F8\"},\"line\":{\"color\":\"white\"}},\"header\":{\"fill\":{\"color\":\"#C8D4E3\"},\"line\":{\"color\":\"white\"}},\"type\":\"table\"}]},\"layout\":{\"annotationdefaults\":{\"arrowcolor\":\"#2a3f5f\",\"arrowhead\":0,\"arrowwidth\":1},\"autotypenumbers\":\"strict\",\"coloraxis\":{\"colorbar\":{\"outlinewidth\":0,\"ticks\":\"\"}},\"colorscale\":{\"diverging\":[[0,\"#8e0152\"],[0.1,\"#c51b7d\"],[0.2,\"#de77ae\"],[0.3,\"#f1b6da\"],[0.4,\"#fde0ef\"],[0.5,\"#f7f7f7\"],[0.6,\"#e6f5d0\"],[0.7,\"#b8e186\"],[0.8,\"#7fbc41\"],[0.9,\"#4d9221\"],[1,\"#276419\"]],\"sequential\":[[0.0,\"#0d0887\"],[0.1111111111111111,\"#46039f\"],[0.2222222222222222,\"#7201a8\"],[0.3333333333333333,\"#9c179e\"],[0.4444444444444444,\"#bd3786\"],[0.5555555555555556,\"#d8576b\"],[0.6666666666666666,\"#ed7953\"],[0.7777777777777778,\"#fb9f3a\"],[0.8888888888888888,\"#fdca26\"],[1.0,\"#f0f921\"]],\"sequentialminus\":[[0.0,\"#0d0887\"],[0.1111111111111111,\"#46039f\"],[0.2222222222222222,\"#7201a8\"],[0.3333333333333333,\"#9c179e\"],[0.4444444444444444,\"#bd3786\"],[0.5555555555555556,\"#d8576b\"],[0.6666666666666666,\"#ed7953\"],[0.7777777777777778,\"#fb9f3a\"],[0.8888888888888888,\"#fdca26\"],[1.0,\"#f0f921\"]]},\"colorway\":[\"#636efa\",\"#EF553B\",\"#00cc96\",\"#ab63fa\",\"#FFA15A\",\"#19d3f3\",\"#FF6692\",\"#B6E880\",\"#FF97FF\",\"#FECB52\"],\"font\":{\"color\":\"#2a3f5f\"},\"geo\":{\"bgcolor\":\"white\",\"lakecolor\":\"white\",\"landcolor\":\"white\",\"showlakes\":true,\"showland\":true,\"subunitcolor\":\"#C8D4E3\"},\"hoverlabel\":{\"align\":\"left\"},\"hovermode\":\"closest\",\"mapbox\":{\"style\":\"light\"},\"paper_bgcolor\":\"white\",\"plot_bgcolor\":\"white\",\"polar\":{\"angularaxis\":{\"gridcolor\":\"#EBF0F8\",\"linecolor\":\"#EBF0F8\",\"ticks\":\"\"},\"bgcolor\":\"white\",\"radialaxis\":{\"gridcolor\":\"#EBF0F8\",\"linecolor\":\"#EBF0F8\",\"ticks\":\"\"}},\"scene\":{\"xaxis\":{\"backgroundcolor\":\"white\",\"gridcolor\":\"#DFE8F3\",\"gridwidth\":2,\"linecolor\":\"#EBF0F8\",\"showbackground\":true,\"ticks\":\"\",\"zerolinecolor\":\"#EBF0F8\"},\"yaxis\":{\"backgroundcolor\":\"white\",\"gridcolor\":\"#DFE8F3\",\"gridwidth\":2,\"linecolor\":\"#EBF0F8\",\"showbackground\":true,\"ticks\":\"\",\"zerolinecolor\":\"#EBF0F8\"},\"zaxis\":{\"backgroundcolor\":\"white\",\"gridcolor\":\"#DFE8F3\",\"gridwidth\":2,\"linecolor\":\"#EBF0F8\",\"showbackground\":true,\"ticks\":\"\",\"zerolinecolor\":\"#EBF0F8\"}},\"shapedefaults\":{\"line\":{\"color\":\"#2a3f5f\"}},\"ternary\":{\"aaxis\":{\"gridcolor\":\"#DFE8F3\",\"linecolor\":\"#A2B1C6\",\"ticks\":\"\"},\"baxis\":{\"gridcolor\":\"#DFE8F3\",\"linecolor\":\"#A2B1C6\",\"ticks\":\"\"},\"bgcolor\":\"white\",\"caxis\":{\"gridcolor\":\"#DFE8F3\",\"linecolor\":\"#A2B1C6\",\"ticks\":\"\"}},\"title\":{\"x\":0.05},\"xaxis\":{\"automargin\":true,\"gridcolor\":\"#EBF0F8\",\"linecolor\":\"#EBF0F8\",\"ticks\":\"\",\"title\":{\"standoff\":15},\"zerolinecolor\":\"#EBF0F8\",\"zerolinewidth\":2},\"yaxis\":{\"automargin\":true,\"gridcolor\":\"#EBF0F8\",\"linecolor\":\"#EBF0F8\",\"ticks\":\"\",\"title\":{\"standoff\":15},\"zerolinecolor\":\"#EBF0F8\",\"zerolinewidth\":2}}},\"title\":{\"text\":\"Clustering of States Based on Voting Trends\"},\"xaxis\":{\"title\":{\"text\":\"PCA Component 1\"}},\"yaxis\":{\"title\":{\"text\":\"PCA Component 2\"}}},                        {\"responsive\": true}                    ).then(function(){\n",
       "                            \n",
       "var gd = document.getElementById('ea3eafbb-54e5-4376-8307-32a095bf69bc');\n",
       "var x = new MutationObserver(function (mutations, observer) {{\n",
       "        var display = window.getComputedStyle(gd).display;\n",
       "        if (!display || display === 'none') {{\n",
       "            console.log([gd, 'removed!']);\n",
       "            Plotly.purge(gd);\n",
       "            observer.disconnect();\n",
       "        }}\n",
       "}});\n",
       "\n",
       "// Listen for the removal of the full notebook cells\n",
       "var notebookContainer = gd.closest('#notebook-container');\n",
       "if (notebookContainer) {{\n",
       "    x.observe(notebookContainer, {childList: true});\n",
       "}}\n",
       "\n",
       "// Listen for the clearing of the current output cell\n",
       "var outputEl = gd.closest('.output');\n",
       "if (outputEl) {{\n",
       "    x.observe(outputEl, {childList: true});\n",
       "}}\n",
       "\n",
       "                        })                };                });            </script>        </div>"
      ]
     },
     "metadata": {},
     "output_type": "display_data"
    }
   ],
   "execution_count": 17
  },
  {
   "cell_type": "markdown",
   "metadata": {},
   "source": [
    "### Plotting the voting trends throughout the years"
   ]
  },
  {
   "cell_type": "code",
   "metadata": {
    "ExecuteTime": {
     "end_time": "2024-12-20T16:54:25.239944Z",
     "start_time": "2024-12-20T16:54:25.115424Z"
    }
   },
   "source": [
    "years = range(2004,2017)\n",
    "election_years = [2004, 2008, 2012, 2016]\n",
    "age_groups = [\"18_29\", \"30_44\", \"45_64\"]\n",
    "reshaped_data = correlations.reshape_data(voting_data_merged, election_years, age_groups)"
   ],
   "outputs": [],
   "execution_count": 18
  },
  {
   "cell_type": "markdown",
   "metadata": {},
   "source": [
    "### For election years"
   ]
  },
  {
   "cell_type": "code",
   "metadata": {
    "ExecuteTime": {
     "end_time": "2024-12-20T16:54:25.744847Z",
     "start_time": "2024-12-20T16:54:25.301356Z"
    }
   },
   "source": "plot_state_map.plot_vote_distribution(reshaped_data, age_groups)",
   "outputs": [
    {
     "data": {
      "application/vnd.plotly.v1+json": {
       "data": [
        {
         "alignmentgroup": "True",
         "hovertemplate": "Party=Democrat<br>Year=2004<br>Age Group=18-29<br>=%{x}<br>Vote Share=%{y}<extra></extra>",
         "legendgroup": "Democrat",
         "marker": {
          "color": "#636efa",
          "pattern": {
           "shape": ""
          }
         },
         "name": "Democrat",
         "offsetgroup": "Democrat",
         "orientation": "v",
         "showlegend": true,
         "textposition": "auto",
         "x": [
          "New York",
          "California",
          "New Hampshire",
          "Wisconsin",
          "Iowa",
          "Nevada",
          "Pennsylvania",
          "Virginia",
          "Ohio",
          "Florida",
          "North Carolina",
          "Arizona",
          "Indiana",
          "Georgia",
          "South Carolina",
          "Kentucky",
          "Texas"
         ],
         "xaxis": "x",
         "y": [
          0.7422680412371134,
          0.5979381443298969,
          0.57,
          0.5816326530612245,
          0.5353535353535354,
          0.5714285714285714,
          0.6060606060606061,
          0.54,
          0.5714285714285714,
          0.5858585858585859,
          0.5656565656565656,
          0.4897959183673469,
          0.47474747474747475,
          0.494949494949495,
          0.5757575757575758,
          0.53,
          0.5656565656565656
         ],
         "yaxis": "y",
         "type": "bar"
        },
        {
         "alignmentgroup": "True",
         "hovertemplate": "Party=Democrat<br>Year=2004<br>Age Group=30-44<br>=%{x}<br>Vote Share=%{y}<extra></extra>",
         "legendgroup": "Democrat",
         "marker": {
          "color": "#636efa",
          "pattern": {
           "shape": ""
          }
         },
         "name": "Democrat",
         "offsetgroup": "Democrat",
         "orientation": "v",
         "showlegend": false,
         "textposition": "auto",
         "x": [
          "New York",
          "California",
          "New Hampshire",
          "Wisconsin",
          "Iowa",
          "Nevada",
          "Pennsylvania",
          "Virginia",
          "Ohio",
          "Florida",
          "North Carolina",
          "Arizona",
          "Indiana",
          "Georgia",
          "South Carolina",
          "Kentucky",
          "Texas"
         ],
         "xaxis": "x2",
         "y": [
          0.61,
          0.5306122448979592,
          0.45918367346938777,
          0.44,
          0.4444444444444444,
          0.47959183673469385,
          0.48484848484848486,
          0.40404040404040403,
          0.47474747474747475,
          0.46464646464646464,
          0.37755102040816324,
          0.3838383838383838,
          0.3333333333333333,
          0.58,
          0.55,
          0.44329896907216493,
          0.4897959183673469
         ],
         "yaxis": "y2",
         "type": "bar"
        },
        {
         "alignmentgroup": "True",
         "hovertemplate": "Party=Democrat<br>Year=2004<br>Age Group=45-64<br>=%{x}<br>Vote Share=%{y}<extra></extra>",
         "legendgroup": "Democrat",
         "marker": {
          "color": "#636efa",
          "pattern": {
           "shape": ""
          }
         },
         "name": "Democrat",
         "offsetgroup": "Democrat",
         "orientation": "v",
         "showlegend": false,
         "textposition": "auto",
         "x": [
          "New York",
          "California",
          "New Hampshire",
          "Wisconsin",
          "Iowa",
          "Nevada",
          "Pennsylvania",
          "Virginia",
          "Ohio",
          "Florida",
          "North Carolina",
          "Arizona",
          "Indiana",
          "Georgia",
          "South Carolina",
          "Kentucky",
          "Texas"
         ],
         "xaxis": "x3",
         "y": [
          0.5252525252525253,
          0.6122448979591837,
          0.5151515151515151,
          0.5050505050505051,
          0.494949494949495,
          0.46464646464646464,
          0.48,
          0.45,
          0.48,
          0.42424242424242425,
          1.0,
          0.4329896907216495,
          0.42424242424242425,
          0.44,
          0.41,
          0.39,
          0.43434343434343436
         ],
         "yaxis": "y3",
         "type": "bar"
        },
        {
         "alignmentgroup": "True",
         "hovertemplate": "Party=Republican<br>Year=2004<br>Age Group=18-29<br>=%{x}<br>Vote Share=%{y}<extra></extra>",
         "legendgroup": "Republican",
         "marker": {
          "color": "#EF553B",
          "pattern": {
           "shape": ""
          }
         },
         "name": "Republican",
         "offsetgroup": "Republican",
         "orientation": "v",
         "showlegend": true,
         "textposition": "auto",
         "x": [
          "New York",
          "California",
          "New Hampshire",
          "Wisconsin",
          "Iowa",
          "Nevada",
          "Pennsylvania",
          "Virginia",
          "Ohio",
          "Florida",
          "North Carolina",
          "Arizona",
          "Indiana",
          "Georgia",
          "South Carolina",
          "Kentucky",
          "Texas"
         ],
         "xaxis": "x",
         "y": [
          0.25773195876288657,
          0.4020618556701031,
          0.43000000000000005,
          0.41836734693877553,
          0.46464646464646464,
          0.4285714285714286,
          0.3939393939393939,
          0.45999999999999996,
          0.4285714285714286,
          0.41414141414141414,
          0.43434343434343436,
          0.5102040816326531,
          0.5252525252525253,
          0.505050505050505,
          0.4242424242424242,
          0.47,
          0.43434343434343436
         ],
         "yaxis": "y",
         "type": "bar"
        },
        {
         "alignmentgroup": "True",
         "hovertemplate": "Party=Republican<br>Year=2004<br>Age Group=30-44<br>=%{x}<br>Vote Share=%{y}<extra></extra>",
         "legendgroup": "Republican",
         "marker": {
          "color": "#EF553B",
          "pattern": {
           "shape": ""
          }
         },
         "name": "Republican",
         "offsetgroup": "Republican",
         "orientation": "v",
         "showlegend": false,
         "textposition": "auto",
         "x": [
          "New York",
          "California",
          "New Hampshire",
          "Wisconsin",
          "Iowa",
          "Nevada",
          "Pennsylvania",
          "Virginia",
          "Ohio",
          "Florida",
          "North Carolina",
          "Arizona",
          "Indiana",
          "Georgia",
          "South Carolina",
          "Kentucky",
          "Texas"
         ],
         "xaxis": "x2",
         "y": [
          0.39,
          0.4693877551020408,
          0.5408163265306123,
          0.56,
          0.5555555555555556,
          0.5204081632653061,
          0.5151515151515151,
          0.595959595959596,
          0.5252525252525253,
          0.5353535353535354,
          0.6224489795918368,
          0.6161616161616161,
          0.6666666666666667,
          0.42000000000000004,
          0.44999999999999996,
          0.5567010309278351,
          0.5102040816326531
         ],
         "yaxis": "y2",
         "type": "bar"
        },
        {
         "alignmentgroup": "True",
         "hovertemplate": "Party=Republican<br>Year=2004<br>Age Group=45-64<br>=%{x}<br>Vote Share=%{y}<extra></extra>",
         "legendgroup": "Republican",
         "marker": {
          "color": "#EF553B",
          "pattern": {
           "shape": ""
          }
         },
         "name": "Republican",
         "offsetgroup": "Republican",
         "orientation": "v",
         "showlegend": false,
         "textposition": "auto",
         "x": [
          "New York",
          "California",
          "New Hampshire",
          "Wisconsin",
          "Iowa",
          "Nevada",
          "Pennsylvania",
          "Virginia",
          "Ohio",
          "Florida",
          "North Carolina",
          "Arizona",
          "Indiana",
          "Georgia",
          "South Carolina",
          "Kentucky",
          "Texas"
         ],
         "xaxis": "x3",
         "y": [
          0.4747474747474747,
          0.3877551020408163,
          0.48484848484848486,
          0.4949494949494949,
          0.505050505050505,
          0.5353535353535354,
          0.52,
          0.55,
          0.52,
          0.5757575757575757,
          0.0,
          0.5670103092783505,
          0.5757575757575757,
          0.56,
          0.5900000000000001,
          0.61,
          0.5656565656565656
         ],
         "yaxis": "y3",
         "type": "bar"
        }
       ],
       "layout": {
        "template": {
         "data": {
          "histogram2dcontour": [
           {
            "type": "histogram2dcontour",
            "colorbar": {
             "outlinewidth": 0,
             "ticks": ""
            },
            "colorscale": [
             [
              0.0,
              "#0d0887"
             ],
             [
              0.1111111111111111,
              "#46039f"
             ],
             [
              0.2222222222222222,
              "#7201a8"
             ],
             [
              0.3333333333333333,
              "#9c179e"
             ],
             [
              0.4444444444444444,
              "#bd3786"
             ],
             [
              0.5555555555555556,
              "#d8576b"
             ],
             [
              0.6666666666666666,
              "#ed7953"
             ],
             [
              0.7777777777777778,
              "#fb9f3a"
             ],
             [
              0.8888888888888888,
              "#fdca26"
             ],
             [
              1.0,
              "#f0f921"
             ]
            ]
           }
          ],
          "choropleth": [
           {
            "type": "choropleth",
            "colorbar": {
             "outlinewidth": 0,
             "ticks": ""
            }
           }
          ],
          "histogram2d": [
           {
            "type": "histogram2d",
            "colorbar": {
             "outlinewidth": 0,
             "ticks": ""
            },
            "colorscale": [
             [
              0.0,
              "#0d0887"
             ],
             [
              0.1111111111111111,
              "#46039f"
             ],
             [
              0.2222222222222222,
              "#7201a8"
             ],
             [
              0.3333333333333333,
              "#9c179e"
             ],
             [
              0.4444444444444444,
              "#bd3786"
             ],
             [
              0.5555555555555556,
              "#d8576b"
             ],
             [
              0.6666666666666666,
              "#ed7953"
             ],
             [
              0.7777777777777778,
              "#fb9f3a"
             ],
             [
              0.8888888888888888,
              "#fdca26"
             ],
             [
              1.0,
              "#f0f921"
             ]
            ]
           }
          ],
          "heatmap": [
           {
            "type": "heatmap",
            "colorbar": {
             "outlinewidth": 0,
             "ticks": ""
            },
            "colorscale": [
             [
              0.0,
              "#0d0887"
             ],
             [
              0.1111111111111111,
              "#46039f"
             ],
             [
              0.2222222222222222,
              "#7201a8"
             ],
             [
              0.3333333333333333,
              "#9c179e"
             ],
             [
              0.4444444444444444,
              "#bd3786"
             ],
             [
              0.5555555555555556,
              "#d8576b"
             ],
             [
              0.6666666666666666,
              "#ed7953"
             ],
             [
              0.7777777777777778,
              "#fb9f3a"
             ],
             [
              0.8888888888888888,
              "#fdca26"
             ],
             [
              1.0,
              "#f0f921"
             ]
            ]
           }
          ],
          "heatmapgl": [
           {
            "type": "heatmapgl",
            "colorbar": {
             "outlinewidth": 0,
             "ticks": ""
            },
            "colorscale": [
             [
              0.0,
              "#0d0887"
             ],
             [
              0.1111111111111111,
              "#46039f"
             ],
             [
              0.2222222222222222,
              "#7201a8"
             ],
             [
              0.3333333333333333,
              "#9c179e"
             ],
             [
              0.4444444444444444,
              "#bd3786"
             ],
             [
              0.5555555555555556,
              "#d8576b"
             ],
             [
              0.6666666666666666,
              "#ed7953"
             ],
             [
              0.7777777777777778,
              "#fb9f3a"
             ],
             [
              0.8888888888888888,
              "#fdca26"
             ],
             [
              1.0,
              "#f0f921"
             ]
            ]
           }
          ],
          "contourcarpet": [
           {
            "type": "contourcarpet",
            "colorbar": {
             "outlinewidth": 0,
             "ticks": ""
            }
           }
          ],
          "contour": [
           {
            "type": "contour",
            "colorbar": {
             "outlinewidth": 0,
             "ticks": ""
            },
            "colorscale": [
             [
              0.0,
              "#0d0887"
             ],
             [
              0.1111111111111111,
              "#46039f"
             ],
             [
              0.2222222222222222,
              "#7201a8"
             ],
             [
              0.3333333333333333,
              "#9c179e"
             ],
             [
              0.4444444444444444,
              "#bd3786"
             ],
             [
              0.5555555555555556,
              "#d8576b"
             ],
             [
              0.6666666666666666,
              "#ed7953"
             ],
             [
              0.7777777777777778,
              "#fb9f3a"
             ],
             [
              0.8888888888888888,
              "#fdca26"
             ],
             [
              1.0,
              "#f0f921"
             ]
            ]
           }
          ],
          "surface": [
           {
            "type": "surface",
            "colorbar": {
             "outlinewidth": 0,
             "ticks": ""
            },
            "colorscale": [
             [
              0.0,
              "#0d0887"
             ],
             [
              0.1111111111111111,
              "#46039f"
             ],
             [
              0.2222222222222222,
              "#7201a8"
             ],
             [
              0.3333333333333333,
              "#9c179e"
             ],
             [
              0.4444444444444444,
              "#bd3786"
             ],
             [
              0.5555555555555556,
              "#d8576b"
             ],
             [
              0.6666666666666666,
              "#ed7953"
             ],
             [
              0.7777777777777778,
              "#fb9f3a"
             ],
             [
              0.8888888888888888,
              "#fdca26"
             ],
             [
              1.0,
              "#f0f921"
             ]
            ]
           }
          ],
          "mesh3d": [
           {
            "type": "mesh3d",
            "colorbar": {
             "outlinewidth": 0,
             "ticks": ""
            }
           }
          ],
          "scatter": [
           {
            "fillpattern": {
             "fillmode": "overlay",
             "size": 10,
             "solidity": 0.2
            },
            "type": "scatter"
           }
          ],
          "parcoords": [
           {
            "type": "parcoords",
            "line": {
             "colorbar": {
              "outlinewidth": 0,
              "ticks": ""
             }
            }
           }
          ],
          "scatterpolargl": [
           {
            "type": "scatterpolargl",
            "marker": {
             "colorbar": {
              "outlinewidth": 0,
              "ticks": ""
             }
            }
           }
          ],
          "bar": [
           {
            "error_x": {
             "color": "#2a3f5f"
            },
            "error_y": {
             "color": "#2a3f5f"
            },
            "marker": {
             "line": {
              "color": "#E5ECF6",
              "width": 0.5
             },
             "pattern": {
              "fillmode": "overlay",
              "size": 10,
              "solidity": 0.2
             }
            },
            "type": "bar"
           }
          ],
          "scattergeo": [
           {
            "type": "scattergeo",
            "marker": {
             "colorbar": {
              "outlinewidth": 0,
              "ticks": ""
             }
            }
           }
          ],
          "scatterpolar": [
           {
            "type": "scatterpolar",
            "marker": {
             "colorbar": {
              "outlinewidth": 0,
              "ticks": ""
             }
            }
           }
          ],
          "histogram": [
           {
            "marker": {
             "pattern": {
              "fillmode": "overlay",
              "size": 10,
              "solidity": 0.2
             }
            },
            "type": "histogram"
           }
          ],
          "scattergl": [
           {
            "type": "scattergl",
            "marker": {
             "colorbar": {
              "outlinewidth": 0,
              "ticks": ""
             }
            }
           }
          ],
          "scatter3d": [
           {
            "type": "scatter3d",
            "line": {
             "colorbar": {
              "outlinewidth": 0,
              "ticks": ""
             }
            },
            "marker": {
             "colorbar": {
              "outlinewidth": 0,
              "ticks": ""
             }
            }
           }
          ],
          "scattermapbox": [
           {
            "type": "scattermapbox",
            "marker": {
             "colorbar": {
              "outlinewidth": 0,
              "ticks": ""
             }
            }
           }
          ],
          "scatterternary": [
           {
            "type": "scatterternary",
            "marker": {
             "colorbar": {
              "outlinewidth": 0,
              "ticks": ""
             }
            }
           }
          ],
          "scattercarpet": [
           {
            "type": "scattercarpet",
            "marker": {
             "colorbar": {
              "outlinewidth": 0,
              "ticks": ""
             }
            }
           }
          ],
          "carpet": [
           {
            "aaxis": {
             "endlinecolor": "#2a3f5f",
             "gridcolor": "white",
             "linecolor": "white",
             "minorgridcolor": "white",
             "startlinecolor": "#2a3f5f"
            },
            "baxis": {
             "endlinecolor": "#2a3f5f",
             "gridcolor": "white",
             "linecolor": "white",
             "minorgridcolor": "white",
             "startlinecolor": "#2a3f5f"
            },
            "type": "carpet"
           }
          ],
          "table": [
           {
            "cells": {
             "fill": {
              "color": "#EBF0F8"
             },
             "line": {
              "color": "white"
             }
            },
            "header": {
             "fill": {
              "color": "#C8D4E3"
             },
             "line": {
              "color": "white"
             }
            },
            "type": "table"
           }
          ],
          "barpolar": [
           {
            "marker": {
             "line": {
              "color": "#E5ECF6",
              "width": 0.5
             },
             "pattern": {
              "fillmode": "overlay",
              "size": 10,
              "solidity": 0.2
             }
            },
            "type": "barpolar"
           }
          ],
          "pie": [
           {
            "automargin": true,
            "type": "pie"
           }
          ]
         },
         "layout": {
          "autotypenumbers": "strict",
          "colorway": [
           "#636efa",
           "#EF553B",
           "#00cc96",
           "#ab63fa",
           "#FFA15A",
           "#19d3f3",
           "#FF6692",
           "#B6E880",
           "#FF97FF",
           "#FECB52"
          ],
          "font": {
           "color": "#2a3f5f"
          },
          "hovermode": "closest",
          "hoverlabel": {
           "align": "left"
          },
          "paper_bgcolor": "white",
          "plot_bgcolor": "#E5ECF6",
          "polar": {
           "bgcolor": "#E5ECF6",
           "angularaxis": {
            "gridcolor": "white",
            "linecolor": "white",
            "ticks": ""
           },
           "radialaxis": {
            "gridcolor": "white",
            "linecolor": "white",
            "ticks": ""
           }
          },
          "ternary": {
           "bgcolor": "#E5ECF6",
           "aaxis": {
            "gridcolor": "white",
            "linecolor": "white",
            "ticks": ""
           },
           "baxis": {
            "gridcolor": "white",
            "linecolor": "white",
            "ticks": ""
           },
           "caxis": {
            "gridcolor": "white",
            "linecolor": "white",
            "ticks": ""
           }
          },
          "coloraxis": {
           "colorbar": {
            "outlinewidth": 0,
            "ticks": ""
           }
          },
          "colorscale": {
           "sequential": [
            [
             0.0,
             "#0d0887"
            ],
            [
             0.1111111111111111,
             "#46039f"
            ],
            [
             0.2222222222222222,
             "#7201a8"
            ],
            [
             0.3333333333333333,
             "#9c179e"
            ],
            [
             0.4444444444444444,
             "#bd3786"
            ],
            [
             0.5555555555555556,
             "#d8576b"
            ],
            [
             0.6666666666666666,
             "#ed7953"
            ],
            [
             0.7777777777777778,
             "#fb9f3a"
            ],
            [
             0.8888888888888888,
             "#fdca26"
            ],
            [
             1.0,
             "#f0f921"
            ]
           ],
           "sequentialminus": [
            [
             0.0,
             "#0d0887"
            ],
            [
             0.1111111111111111,
             "#46039f"
            ],
            [
             0.2222222222222222,
             "#7201a8"
            ],
            [
             0.3333333333333333,
             "#9c179e"
            ],
            [
             0.4444444444444444,
             "#bd3786"
            ],
            [
             0.5555555555555556,
             "#d8576b"
            ],
            [
             0.6666666666666666,
             "#ed7953"
            ],
            [
             0.7777777777777778,
             "#fb9f3a"
            ],
            [
             0.8888888888888888,
             "#fdca26"
            ],
            [
             1.0,
             "#f0f921"
            ]
           ],
           "diverging": [
            [
             0,
             "#8e0152"
            ],
            [
             0.1,
             "#c51b7d"
            ],
            [
             0.2,
             "#de77ae"
            ],
            [
             0.3,
             "#f1b6da"
            ],
            [
             0.4,
             "#fde0ef"
            ],
            [
             0.5,
             "#f7f7f7"
            ],
            [
             0.6,
             "#e6f5d0"
            ],
            [
             0.7,
             "#b8e186"
            ],
            [
             0.8,
             "#7fbc41"
            ],
            [
             0.9,
             "#4d9221"
            ],
            [
             1,
             "#276419"
            ]
           ]
          },
          "xaxis": {
           "gridcolor": "white",
           "linecolor": "white",
           "ticks": "",
           "title": {
            "standoff": 15
           },
           "zerolinecolor": "white",
           "automargin": true,
           "zerolinewidth": 2
          },
          "yaxis": {
           "gridcolor": "white",
           "linecolor": "white",
           "ticks": "",
           "title": {
            "standoff": 15
           },
           "zerolinecolor": "white",
           "automargin": true,
           "zerolinewidth": 2
          },
          "scene": {
           "xaxis": {
            "backgroundcolor": "#E5ECF6",
            "gridcolor": "white",
            "linecolor": "white",
            "showbackground": true,
            "ticks": "",
            "zerolinecolor": "white",
            "gridwidth": 2
           },
           "yaxis": {
            "backgroundcolor": "#E5ECF6",
            "gridcolor": "white",
            "linecolor": "white",
            "showbackground": true,
            "ticks": "",
            "zerolinecolor": "white",
            "gridwidth": 2
           },
           "zaxis": {
            "backgroundcolor": "#E5ECF6",
            "gridcolor": "white",
            "linecolor": "white",
            "showbackground": true,
            "ticks": "",
            "zerolinecolor": "white",
            "gridwidth": 2
           }
          },
          "shapedefaults": {
           "line": {
            "color": "#2a3f5f"
           }
          },
          "annotationdefaults": {
           "arrowcolor": "#2a3f5f",
           "arrowhead": 0,
           "arrowwidth": 1
          },
          "geo": {
           "bgcolor": "white",
           "landcolor": "#E5ECF6",
           "subunitcolor": "white",
           "showland": true,
           "showlakes": true,
           "lakecolor": "white"
          },
          "title": {
           "x": 0.05
          },
          "mapbox": {
           "style": "light"
          }
         }
        },
        "xaxis": {
         "anchor": "y",
         "domain": [
          0.0,
          0.31999999999999995
         ],
         "title": {
          "text": ""
         },
         "tickangle": -45
        },
        "yaxis": {
         "anchor": "x",
         "domain": [
          0.0,
          1.0
         ],
         "title": {
          "text": "Vote Share"
         }
        },
        "xaxis2": {
         "anchor": "y2",
         "domain": [
          0.33999999999999997,
          0.6599999999999999
         ],
         "matches": "x",
         "title": {
          "text": ""
         },
         "tickangle": -45
        },
        "yaxis2": {
         "anchor": "x2",
         "domain": [
          0.0,
          1.0
         ],
         "matches": "y",
         "showticklabels": false
        },
        "xaxis3": {
         "anchor": "y3",
         "domain": [
          0.6799999999999999,
          0.9999999999999999
         ],
         "matches": "x",
         "title": {
          "text": ""
         },
         "tickangle": -45
        },
        "yaxis3": {
         "anchor": "x3",
         "domain": [
          0.0,
          1.0
         ],
         "matches": "y",
         "showticklabels": false
        },
        "annotations": [
         {
          "font": {},
          "showarrow": false,
          "text": "Age Group=18-29",
          "x": 0.15999999999999998,
          "xanchor": "center",
          "xref": "paper",
          "y": 1.0,
          "yanchor": "bottom",
          "yref": "paper"
         },
         {
          "font": {},
          "showarrow": false,
          "text": "Age Group=30-44",
          "x": 0.49999999999999994,
          "xanchor": "center",
          "xref": "paper",
          "y": 1.0,
          "yanchor": "bottom",
          "yref": "paper"
         },
         {
          "font": {},
          "showarrow": false,
          "text": "Age Group=45-64",
          "x": 0.8399999999999999,
          "xanchor": "center",
          "xref": "paper",
          "y": 1.0,
          "yanchor": "bottom",
          "yref": "paper"
         }
        ],
        "legend": {
         "title": {
          "text": "Party"
         },
         "tracegroupgap": 0
        },
        "title": {
         "text": "Vote Distribution by State, Age Group, and Year",
         "x": 0.5
        },
        "barmode": "stack",
        "height": 450,
        "updatemenus": [
         {
          "buttons": [
           {
            "args": [
             null,
             {
              "frame": {
               "duration": 500,
               "redraw": true
              },
              "mode": "immediate",
              "fromcurrent": true,
              "transition": {
               "duration": 500,
               "easing": "linear"
              }
             }
            ],
            "label": "&#9654;",
            "method": "animate"
           },
           {
            "args": [
             [
              null
             ],
             {
              "frame": {
               "duration": 0,
               "redraw": true
              },
              "mode": "immediate",
              "fromcurrent": true,
              "transition": {
               "duration": 0,
               "easing": "linear"
              }
             }
            ],
            "label": "&#9724;",
            "method": "animate"
           }
          ],
          "direction": "left",
          "pad": {
           "r": 10,
           "t": 70
          },
          "showactive": false,
          "type": "buttons",
          "x": 0.1,
          "xanchor": "right",
          "y": 0,
          "yanchor": "top"
         }
        ],
        "sliders": [
         {
          "active": 0,
          "currentvalue": {
           "prefix": "Year="
          },
          "len": 0.9,
          "pad": {
           "b": 10,
           "t": 60
          },
          "steps": [
           {
            "args": [
             [
              "2004"
             ],
             {
              "frame": {
               "duration": 0,
               "redraw": true
              },
              "mode": "immediate",
              "fromcurrent": true,
              "transition": {
               "duration": 0,
               "easing": "linear"
              }
             }
            ],
            "label": "2004",
            "method": "animate"
           },
           {
            "args": [
             [
              "2008"
             ],
             {
              "frame": {
               "duration": 0,
               "redraw": true
              },
              "mode": "immediate",
              "fromcurrent": true,
              "transition": {
               "duration": 0,
               "easing": "linear"
              }
             }
            ],
            "label": "2008",
            "method": "animate"
           },
           {
            "args": [
             [
              "2012"
             ],
             {
              "frame": {
               "duration": 0,
               "redraw": true
              },
              "mode": "immediate",
              "fromcurrent": true,
              "transition": {
               "duration": 0,
               "easing": "linear"
              }
             }
            ],
            "label": "2012",
            "method": "animate"
           },
           {
            "args": [
             [
              "2016"
             ],
             {
              "frame": {
               "duration": 0,
               "redraw": true
              },
              "mode": "immediate",
              "fromcurrent": true,
              "transition": {
               "duration": 0,
               "easing": "linear"
              }
             }
            ],
            "label": "2016",
            "method": "animate"
           }
          ],
          "x": 0.1,
          "xanchor": "left",
          "y": 0,
          "yanchor": "top"
         }
        ],
        "bargap": 0.4
       },
       "frames": [
        {
         "data": [
          {
           "alignmentgroup": "True",
           "hovertemplate": "Party=Democrat<br>Year=2004<br>Age Group=18-29<br>=%{x}<br>Vote Share=%{y}<extra></extra>",
           "legendgroup": "Democrat",
           "marker": {
            "color": "#636efa",
            "pattern": {
             "shape": ""
            }
           },
           "name": "Democrat",
           "offsetgroup": "Democrat",
           "orientation": "v",
           "showlegend": true,
           "textposition": "auto",
           "x": [
            "New York",
            "California",
            "New Hampshire",
            "Wisconsin",
            "Iowa",
            "Nevada",
            "Pennsylvania",
            "Virginia",
            "Ohio",
            "Florida",
            "North Carolina",
            "Arizona",
            "Indiana",
            "Georgia",
            "South Carolina",
            "Kentucky",
            "Texas"
           ],
           "xaxis": "x",
           "y": [
            0.7422680412371134,
            0.5979381443298969,
            0.57,
            0.5816326530612245,
            0.5353535353535354,
            0.5714285714285714,
            0.6060606060606061,
            0.54,
            0.5714285714285714,
            0.5858585858585859,
            0.5656565656565656,
            0.4897959183673469,
            0.47474747474747475,
            0.494949494949495,
            0.5757575757575758,
            0.53,
            0.5656565656565656
           ],
           "yaxis": "y",
           "type": "bar"
          },
          {
           "alignmentgroup": "True",
           "hovertemplate": "Party=Democrat<br>Year=2004<br>Age Group=30-44<br>=%{x}<br>Vote Share=%{y}<extra></extra>",
           "legendgroup": "Democrat",
           "marker": {
            "color": "#636efa",
            "pattern": {
             "shape": ""
            }
           },
           "name": "Democrat",
           "offsetgroup": "Democrat",
           "orientation": "v",
           "showlegend": false,
           "textposition": "auto",
           "x": [
            "New York",
            "California",
            "New Hampshire",
            "Wisconsin",
            "Iowa",
            "Nevada",
            "Pennsylvania",
            "Virginia",
            "Ohio",
            "Florida",
            "North Carolina",
            "Arizona",
            "Indiana",
            "Georgia",
            "South Carolina",
            "Kentucky",
            "Texas"
           ],
           "xaxis": "x2",
           "y": [
            0.61,
            0.5306122448979592,
            0.45918367346938777,
            0.44,
            0.4444444444444444,
            0.47959183673469385,
            0.48484848484848486,
            0.40404040404040403,
            0.47474747474747475,
            0.46464646464646464,
            0.37755102040816324,
            0.3838383838383838,
            0.3333333333333333,
            0.58,
            0.55,
            0.44329896907216493,
            0.4897959183673469
           ],
           "yaxis": "y2",
           "type": "bar"
          },
          {
           "alignmentgroup": "True",
           "hovertemplate": "Party=Democrat<br>Year=2004<br>Age Group=45-64<br>=%{x}<br>Vote Share=%{y}<extra></extra>",
           "legendgroup": "Democrat",
           "marker": {
            "color": "#636efa",
            "pattern": {
             "shape": ""
            }
           },
           "name": "Democrat",
           "offsetgroup": "Democrat",
           "orientation": "v",
           "showlegend": false,
           "textposition": "auto",
           "x": [
            "New York",
            "California",
            "New Hampshire",
            "Wisconsin",
            "Iowa",
            "Nevada",
            "Pennsylvania",
            "Virginia",
            "Ohio",
            "Florida",
            "North Carolina",
            "Arizona",
            "Indiana",
            "Georgia",
            "South Carolina",
            "Kentucky",
            "Texas"
           ],
           "xaxis": "x3",
           "y": [
            0.5252525252525253,
            0.6122448979591837,
            0.5151515151515151,
            0.5050505050505051,
            0.494949494949495,
            0.46464646464646464,
            0.48,
            0.45,
            0.48,
            0.42424242424242425,
            1.0,
            0.4329896907216495,
            0.42424242424242425,
            0.44,
            0.41,
            0.39,
            0.43434343434343436
           ],
           "yaxis": "y3",
           "type": "bar"
          },
          {
           "alignmentgroup": "True",
           "hovertemplate": "Party=Republican<br>Year=2004<br>Age Group=18-29<br>=%{x}<br>Vote Share=%{y}<extra></extra>",
           "legendgroup": "Republican",
           "marker": {
            "color": "#EF553B",
            "pattern": {
             "shape": ""
            }
           },
           "name": "Republican",
           "offsetgroup": "Republican",
           "orientation": "v",
           "showlegend": true,
           "textposition": "auto",
           "x": [
            "New York",
            "California",
            "New Hampshire",
            "Wisconsin",
            "Iowa",
            "Nevada",
            "Pennsylvania",
            "Virginia",
            "Ohio",
            "Florida",
            "North Carolina",
            "Arizona",
            "Indiana",
            "Georgia",
            "South Carolina",
            "Kentucky",
            "Texas"
           ],
           "xaxis": "x",
           "y": [
            0.25773195876288657,
            0.4020618556701031,
            0.43000000000000005,
            0.41836734693877553,
            0.46464646464646464,
            0.4285714285714286,
            0.3939393939393939,
            0.45999999999999996,
            0.4285714285714286,
            0.41414141414141414,
            0.43434343434343436,
            0.5102040816326531,
            0.5252525252525253,
            0.505050505050505,
            0.4242424242424242,
            0.47,
            0.43434343434343436
           ],
           "yaxis": "y",
           "type": "bar"
          },
          {
           "alignmentgroup": "True",
           "hovertemplate": "Party=Republican<br>Year=2004<br>Age Group=30-44<br>=%{x}<br>Vote Share=%{y}<extra></extra>",
           "legendgroup": "Republican",
           "marker": {
            "color": "#EF553B",
            "pattern": {
             "shape": ""
            }
           },
           "name": "Republican",
           "offsetgroup": "Republican",
           "orientation": "v",
           "showlegend": false,
           "textposition": "auto",
           "x": [
            "New York",
            "California",
            "New Hampshire",
            "Wisconsin",
            "Iowa",
            "Nevada",
            "Pennsylvania",
            "Virginia",
            "Ohio",
            "Florida",
            "North Carolina",
            "Arizona",
            "Indiana",
            "Georgia",
            "South Carolina",
            "Kentucky",
            "Texas"
           ],
           "xaxis": "x2",
           "y": [
            0.39,
            0.4693877551020408,
            0.5408163265306123,
            0.56,
            0.5555555555555556,
            0.5204081632653061,
            0.5151515151515151,
            0.595959595959596,
            0.5252525252525253,
            0.5353535353535354,
            0.6224489795918368,
            0.6161616161616161,
            0.6666666666666667,
            0.42000000000000004,
            0.44999999999999996,
            0.5567010309278351,
            0.5102040816326531
           ],
           "yaxis": "y2",
           "type": "bar"
          },
          {
           "alignmentgroup": "True",
           "hovertemplate": "Party=Republican<br>Year=2004<br>Age Group=45-64<br>=%{x}<br>Vote Share=%{y}<extra></extra>",
           "legendgroup": "Republican",
           "marker": {
            "color": "#EF553B",
            "pattern": {
             "shape": ""
            }
           },
           "name": "Republican",
           "offsetgroup": "Republican",
           "orientation": "v",
           "showlegend": false,
           "textposition": "auto",
           "x": [
            "New York",
            "California",
            "New Hampshire",
            "Wisconsin",
            "Iowa",
            "Nevada",
            "Pennsylvania",
            "Virginia",
            "Ohio",
            "Florida",
            "North Carolina",
            "Arizona",
            "Indiana",
            "Georgia",
            "South Carolina",
            "Kentucky",
            "Texas"
           ],
           "xaxis": "x3",
           "y": [
            0.4747474747474747,
            0.3877551020408163,
            0.48484848484848486,
            0.4949494949494949,
            0.505050505050505,
            0.5353535353535354,
            0.52,
            0.55,
            0.52,
            0.5757575757575757,
            0.0,
            0.5670103092783505,
            0.5757575757575757,
            0.56,
            0.5900000000000001,
            0.61,
            0.5656565656565656
           ],
           "yaxis": "y3",
           "type": "bar"
          }
         ],
         "name": "2004"
        },
        {
         "data": [
          {
           "alignmentgroup": "True",
           "hovertemplate": "Party=Democrat<br>Year=2008<br>Age Group=18-29<br>=%{x}<br>Vote Share=%{y}<extra></extra>",
           "legendgroup": "Democrat",
           "marker": {
            "color": "#636efa",
            "pattern": {
             "shape": ""
            }
           },
           "name": "Democrat",
           "offsetgroup": "Democrat",
           "orientation": "v",
           "showlegend": true,
           "textposition": "auto",
           "x": [
            "New York",
            "California",
            "New Hampshire",
            "Wisconsin",
            "Iowa",
            "Nevada",
            "Pennsylvania",
            "Virginia",
            "Ohio",
            "Florida",
            "North Carolina",
            "Arizona",
            "Indiana",
            "Georgia",
            "South Carolina",
            "Kentucky",
            "Texas"
           ],
           "xaxis": "x",
           "y": [
            0.7835051546391752,
            0.7676767676767676,
            0.6224489795918368,
            0.6464646464646465,
            0.6288659793814433,
            0.6836734693877551,
            0.65,
            0.6060606060606061,
            0.6288659793814433,
            0.6224489795918368,
            0.74,
            0.52,
            0.6428571428571429,
            0.48484848484848486,
            0.5555555555555556,
            0.5151515151515151,
            0.5454545454545454
           ],
           "yaxis": "y",
           "type": "bar"
          },
          {
           "alignmentgroup": "True",
           "hovertemplate": "Party=Democrat<br>Year=2008<br>Age Group=30-44<br>=%{x}<br>Vote Share=%{y}<extra></extra>",
           "legendgroup": "Democrat",
           "marker": {
            "color": "#636efa",
            "pattern": {
             "shape": ""
            }
           },
           "name": "Democrat",
           "offsetgroup": "Democrat",
           "orientation": "v",
           "showlegend": false,
           "textposition": "auto",
           "x": [
            "New York",
            "California",
            "New Hampshire",
            "Wisconsin",
            "Iowa",
            "Nevada",
            "Pennsylvania",
            "Virginia",
            "Ohio",
            "Florida",
            "North Carolina",
            "Arizona",
            "Indiana",
            "Georgia",
            "South Carolina",
            "Kentucky",
            "Texas"
           ],
           "xaxis": "x2",
           "y": [
            0.61,
            0.6020408163265306,
            0.5151515151515151,
            0.5510204081632653,
            0.4897959183673469,
            0.6185567010309279,
            0.5204081632653061,
            0.5204081632653061,
            0.5204081632653061,
            0.5,
            0.48,
            0.4742268041237113,
            0.47474747474747475,
            0.56,
            0.54,
            0.44329896907216493,
            0.46938775510204084
           ],
           "yaxis": "y2",
           "type": "bar"
          },
          {
           "alignmentgroup": "True",
           "hovertemplate": "Party=Democrat<br>Year=2008<br>Age Group=45-64<br>=%{x}<br>Vote Share=%{y}<extra></extra>",
           "legendgroup": "Democrat",
           "marker": {
            "color": "#636efa",
            "pattern": {
             "shape": ""
            }
           },
           "name": "Democrat",
           "offsetgroup": "Democrat",
           "orientation": "v",
           "showlegend": false,
           "textposition": "auto",
           "x": [
            "New York",
            "California",
            "New Hampshire",
            "Wisconsin",
            "Iowa",
            "Nevada",
            "Pennsylvania",
            "Virginia",
            "Ohio",
            "Florida",
            "North Carolina",
            "Arizona",
            "Indiana",
            "Georgia",
            "South Carolina",
            "Kentucky",
            "Texas"
           ],
           "xaxis": "x3",
           "y": [
            0.5959595959595959,
            0.6122448979591837,
            0.5656565656565656,
            0.5757575757575758,
            0.5510204081632653,
            0.5257731958762887,
            0.5612244897959183,
            0.5151515151515151,
            0.5353535353535354,
            0.5252525252525253,
            0.43434343434343436,
            0.42857142857142855,
            0.494949494949495,
            0.42,
            0.39,
            0.39,
            0.41414141414141414
           ],
           "yaxis": "y3",
           "type": "bar"
          },
          {
           "alignmentgroup": "True",
           "hovertemplate": "Party=Republican<br>Year=2008<br>Age Group=18-29<br>=%{x}<br>Vote Share=%{y}<extra></extra>",
           "legendgroup": "Republican",
           "marker": {
            "color": "#EF553B",
            "pattern": {
             "shape": ""
            }
           },
           "name": "Republican",
           "offsetgroup": "Republican",
           "orientation": "v",
           "showlegend": true,
           "textposition": "auto",
           "x": [
            "New York",
            "California",
            "New Hampshire",
            "Wisconsin",
            "Iowa",
            "Nevada",
            "Pennsylvania",
            "Virginia",
            "Ohio",
            "Florida",
            "North Carolina",
            "Arizona",
            "Indiana",
            "Georgia",
            "South Carolina",
            "Kentucky",
            "Texas"
           ],
           "xaxis": "x",
           "y": [
            0.21649484536082475,
            0.23232323232323238,
            0.37755102040816324,
            0.3535353535353535,
            0.3711340206185567,
            0.3163265306122449,
            0.35,
            0.3939393939393939,
            0.3711340206185567,
            0.37755102040816324,
            0.26,
            0.48,
            0.3571428571428571,
            0.5151515151515151,
            0.4444444444444444,
            0.48484848484848486,
            0.4545454545454546
           ],
           "yaxis": "y",
           "type": "bar"
          },
          {
           "alignmentgroup": "True",
           "hovertemplate": "Party=Republican<br>Year=2008<br>Age Group=30-44<br>=%{x}<br>Vote Share=%{y}<extra></extra>",
           "legendgroup": "Republican",
           "marker": {
            "color": "#EF553B",
            "pattern": {
             "shape": ""
            }
           },
           "name": "Republican",
           "offsetgroup": "Republican",
           "orientation": "v",
           "showlegend": false,
           "textposition": "auto",
           "x": [
            "New York",
            "California",
            "New Hampshire",
            "Wisconsin",
            "Iowa",
            "Nevada",
            "Pennsylvania",
            "Virginia",
            "Ohio",
            "Florida",
            "North Carolina",
            "Arizona",
            "Indiana",
            "Georgia",
            "South Carolina",
            "Kentucky",
            "Texas"
           ],
           "xaxis": "x2",
           "y": [
            0.39,
            0.3979591836734694,
            0.48484848484848486,
            0.44897959183673475,
            0.5102040816326531,
            0.38144329896907214,
            0.47959183673469385,
            0.47959183673469385,
            0.47959183673469385,
            0.5,
            0.52,
            0.5257731958762887,
            0.5252525252525253,
            0.43999999999999995,
            0.45999999999999996,
            0.5567010309278351,
            0.5306122448979591
           ],
           "yaxis": "y2",
           "type": "bar"
          },
          {
           "alignmentgroup": "True",
           "hovertemplate": "Party=Republican<br>Year=2008<br>Age Group=45-64<br>=%{x}<br>Vote Share=%{y}<extra></extra>",
           "legendgroup": "Republican",
           "marker": {
            "color": "#EF553B",
            "pattern": {
             "shape": ""
            }
           },
           "name": "Republican",
           "offsetgroup": "Republican",
           "orientation": "v",
           "showlegend": false,
           "textposition": "auto",
           "x": [
            "New York",
            "California",
            "New Hampshire",
            "Wisconsin",
            "Iowa",
            "Nevada",
            "Pennsylvania",
            "Virginia",
            "Ohio",
            "Florida",
            "North Carolina",
            "Arizona",
            "Indiana",
            "Georgia",
            "South Carolina",
            "Kentucky",
            "Texas"
           ],
           "xaxis": "x3",
           "y": [
            0.4040404040404041,
            0.3877551020408163,
            0.43434343434343436,
            0.4242424242424242,
            0.44897959183673475,
            0.4742268041237113,
            0.4387755102040817,
            0.48484848484848486,
            0.46464646464646464,
            0.4747474747474747,
            0.5656565656565656,
            0.5714285714285714,
            0.505050505050505,
            0.5800000000000001,
            0.61,
            0.61,
            0.5858585858585859
           ],
           "yaxis": "y3",
           "type": "bar"
          }
         ],
         "name": "2008"
        },
        {
         "data": [
          {
           "alignmentgroup": "True",
           "hovertemplate": "Party=Democrat<br>Year=2012<br>Age Group=18-29<br>=%{x}<br>Vote Share=%{y}<extra></extra>",
           "legendgroup": "Democrat",
           "marker": {
            "color": "#636efa",
            "pattern": {
             "shape": ""
            }
           },
           "name": "Democrat",
           "offsetgroup": "Democrat",
           "orientation": "v",
           "showlegend": true,
           "textposition": "auto",
           "x": [
            "New York",
            "California",
            "New Hampshire",
            "Wisconsin",
            "Iowa",
            "Nevada",
            "Pennsylvania",
            "Virginia",
            "Ohio",
            "Florida",
            "North Carolina",
            "Arizona",
            "Indiana",
            "Georgia",
            "South Carolina",
            "Kentucky",
            "Texas"
           ],
           "xaxis": "x",
           "y": [
            0.7422680412371134,
            0.7244897959183674,
            0.6458333333333334,
            0.6185567010309279,
            0.5833333333333334,
            0.6938775510204082,
            0.6428571428571429,
            0.6288659793814433,
            0.6428571428571429,
            0.673469387755102,
            0.6767676767676768,
            0.673469387755102,
            0.4842105263157895,
            0.5656565656565656,
            0.4479166666666667,
            0.5212765957446809,
            0.5876288659793815
           ],
           "yaxis": "y",
           "type": "bar"
          },
          {
           "alignmentgroup": "True",
           "hovertemplate": "Party=Democrat<br>Year=2012<br>Age Group=30-44<br>=%{x}<br>Vote Share=%{y}<extra></extra>",
           "legendgroup": "Democrat",
           "marker": {
            "color": "#636efa",
            "pattern": {
             "shape": ""
            }
           },
           "name": "Democrat",
           "offsetgroup": "Democrat",
           "orientation": "v",
           "showlegend": false,
           "textposition": "auto",
           "x": [
            "New York",
            "California",
            "New Hampshire",
            "Wisconsin",
            "Iowa",
            "Nevada",
            "Pennsylvania",
            "Virginia",
            "Ohio",
            "Florida",
            "North Carolina",
            "Arizona",
            "Indiana",
            "Georgia",
            "South Carolina",
            "Kentucky",
            "Texas"
           ],
           "xaxis": "x2",
           "y": [
            0.6224489795918368,
            0.625,
            0.4897959183673469,
            0.5151515151515151,
            0.5252525252525253,
            0.5625,
            0.5612244897959183,
            0.5510204081632653,
            0.5257731958762887,
            0.5306122448979592,
            0.5151515151515151,
            0.422680412371134,
            0.4948453608247423,
            0.5510204081632653,
            0.5102040816326531,
            0.4387755102040816,
            0.5
           ],
           "yaxis": "y2",
           "type": "bar"
          },
          {
           "alignmentgroup": "True",
           "hovertemplate": "Party=Democrat<br>Year=2012<br>Age Group=45-64<br>=%{x}<br>Vote Share=%{y}<extra></extra>",
           "legendgroup": "Democrat",
           "marker": {
            "color": "#636efa",
            "pattern": {
             "shape": ""
            }
           },
           "name": "Democrat",
           "offsetgroup": "Democrat",
           "orientation": "v",
           "showlegend": false,
           "textposition": "auto",
           "x": [
            "New York",
            "California",
            "New Hampshire",
            "Wisconsin",
            "Iowa",
            "Nevada",
            "Pennsylvania",
            "Virginia",
            "Ohio",
            "Florida",
            "North Carolina",
            "Arizona",
            "Indiana",
            "Georgia",
            "South Carolina",
            "Kentucky",
            "Texas"
           ],
           "xaxis": "x3",
           "y": [
            0.6161616161616161,
            0.5353535353535354,
            0.494949494949495,
            0.5151515151515151,
            0.5306122448979592,
            0.5,
            0.48484848484848486,
            0.46464646464646464,
            0.47959183673469385,
            0.48,
            0.47,
            0.43434343434343436,
            0.44,
            0.46464646464646464,
            0.42424242424242425,
            0.2755102040816326,
            0.4444444444444444
           ],
           "yaxis": "y3",
           "type": "bar"
          },
          {
           "alignmentgroup": "True",
           "hovertemplate": "Party=Republican<br>Year=2012<br>Age Group=18-29<br>=%{x}<br>Vote Share=%{y}<extra></extra>",
           "legendgroup": "Republican",
           "marker": {
            "color": "#EF553B",
            "pattern": {
             "shape": ""
            }
           },
           "name": "Republican",
           "offsetgroup": "Republican",
           "orientation": "v",
           "showlegend": true,
           "textposition": "auto",
           "x": [
            "New York",
            "California",
            "New Hampshire",
            "Wisconsin",
            "Iowa",
            "Nevada",
            "Pennsylvania",
            "Virginia",
            "Ohio",
            "Florida",
            "North Carolina",
            "Arizona",
            "Indiana",
            "Georgia",
            "South Carolina",
            "Kentucky",
            "Texas"
           ],
           "xaxis": "x",
           "y": [
            0.25773195876288657,
            0.2755102040816326,
            0.35416666666666663,
            0.38144329896907214,
            0.41666666666666663,
            0.30612244897959184,
            0.3571428571428571,
            0.3711340206185567,
            0.3571428571428571,
            0.326530612244898,
            0.3232323232323232,
            0.326530612244898,
            0.5157894736842106,
            0.43434343434343436,
            0.5520833333333333,
            0.4787234042553191,
            0.41237113402061853
           ],
           "yaxis": "y",
           "type": "bar"
          },
          {
           "alignmentgroup": "True",
           "hovertemplate": "Party=Republican<br>Year=2012<br>Age Group=30-44<br>=%{x}<br>Vote Share=%{y}<extra></extra>",
           "legendgroup": "Republican",
           "marker": {
            "color": "#EF553B",
            "pattern": {
             "shape": ""
            }
           },
           "name": "Republican",
           "offsetgroup": "Republican",
           "orientation": "v",
           "showlegend": false,
           "textposition": "auto",
           "x": [
            "New York",
            "California",
            "New Hampshire",
            "Wisconsin",
            "Iowa",
            "Nevada",
            "Pennsylvania",
            "Virginia",
            "Ohio",
            "Florida",
            "North Carolina",
            "Arizona",
            "Indiana",
            "Georgia",
            "South Carolina",
            "Kentucky",
            "Texas"
           ],
           "xaxis": "x2",
           "y": [
            0.37755102040816324,
            0.375,
            0.5102040816326531,
            0.48484848484848486,
            0.4747474747474747,
            0.4375,
            0.4387755102040817,
            0.44897959183673475,
            0.4742268041237113,
            0.4693877551020408,
            0.48484848484848486,
            0.5773195876288659,
            0.5051546391752577,
            0.44897959183673475,
            0.4897959183673469,
            0.5612244897959184,
            0.5
           ],
           "yaxis": "y2",
           "type": "bar"
          },
          {
           "alignmentgroup": "True",
           "hovertemplate": "Party=Republican<br>Year=2012<br>Age Group=45-64<br>=%{x}<br>Vote Share=%{y}<extra></extra>",
           "legendgroup": "Republican",
           "marker": {
            "color": "#EF553B",
            "pattern": {
             "shape": ""
            }
           },
           "name": "Republican",
           "offsetgroup": "Republican",
           "orientation": "v",
           "showlegend": false,
           "textposition": "auto",
           "x": [
            "New York",
            "California",
            "New Hampshire",
            "Wisconsin",
            "Iowa",
            "Nevada",
            "Pennsylvania",
            "Virginia",
            "Ohio",
            "Florida",
            "North Carolina",
            "Arizona",
            "Indiana",
            "Georgia",
            "South Carolina",
            "Kentucky",
            "Texas"
           ],
           "xaxis": "x3",
           "y": [
            0.38383838383838387,
            0.46464646464646464,
            0.505050505050505,
            0.48484848484848486,
            0.4693877551020408,
            0.5,
            0.5151515151515151,
            0.5353535353535354,
            0.5204081632653061,
            0.52,
            0.53,
            0.5656565656565656,
            0.56,
            0.5353535353535354,
            0.5757575757575757,
            0.7244897959183674,
            0.5555555555555556
           ],
           "yaxis": "y3",
           "type": "bar"
          }
         ],
         "name": "2012"
        },
        {
         "data": [
          {
           "alignmentgroup": "True",
           "hovertemplate": "Party=Democrat<br>Year=2016<br>Age Group=18-29<br>=%{x}<br>Vote Share=%{y}<extra></extra>",
           "legendgroup": "Democrat",
           "marker": {
            "color": "#636efa",
            "pattern": {
             "shape": ""
            }
           },
           "name": "Democrat",
           "offsetgroup": "Democrat",
           "orientation": "v",
           "showlegend": true,
           "textposition": "auto",
           "x": [
            "New York",
            "California",
            "New Hampshire",
            "Wisconsin",
            "Iowa",
            "Nevada",
            "Pennsylvania",
            "Virginia",
            "Ohio",
            "Florida",
            "North Carolina",
            "Arizona",
            "Indiana",
            "Georgia",
            "South Carolina",
            "Kentucky",
            "Texas"
           ],
           "xaxis": "x",
           "y": [
            0.7473684210526316,
            0.7415730337078652,
            0.5444444444444444,
            0.5164835164835165,
            0.4666666666666667,
            0.5977011494252874,
            0.5473684210526316,
            0.6,
            0.5483870967741935,
            0.6,
            0.6195652173913043,
            0.6067415730337079,
            0.5,
            0.65625,
            0.5,
            0.3655913978494624,
            0.6043956043956044
           ],
           "yaxis": "y",
           "type": "bar"
          },
          {
           "alignmentgroup": "True",
           "hovertemplate": "Party=Democrat<br>Year=2016<br>Age Group=30-44<br>=%{x}<br>Vote Share=%{y}<extra></extra>",
           "legendgroup": "Democrat",
           "marker": {
            "color": "#636efa",
            "pattern": {
             "shape": ""
            }
           },
           "name": "Democrat",
           "offsetgroup": "Democrat",
           "orientation": "v",
           "showlegend": false,
           "textposition": "auto",
           "x": [
            "New York",
            "California",
            "New Hampshire",
            "Wisconsin",
            "Iowa",
            "Nevada",
            "Pennsylvania",
            "Virginia",
            "Ohio",
            "Florida",
            "North Carolina",
            "Arizona",
            "Indiana",
            "Georgia",
            "South Carolina",
            "Kentucky",
            "Texas"
           ],
           "xaxis": "x2",
           "y": [
            0.65625,
            0.7127659574468085,
            0.5222222222222223,
            0.5978260869565217,
            0.4222222222222222,
            0.5652173913043478,
            0.5578947368421052,
            0.5698924731182796,
            0.45161290322580644,
            0.5806451612903226,
            0.5157894736842106,
            0.5340909090909091,
            0.39361702127659576,
            0.5368421052631579,
            0.4631578947368421,
            0.30526315789473685,
            0.4838709677419355
           ],
           "yaxis": "y2",
           "type": "bar"
          },
          {
           "alignmentgroup": "True",
           "hovertemplate": "Party=Democrat<br>Year=2016<br>Age Group=45-64<br>=%{x}<br>Vote Share=%{y}<extra></extra>",
           "legendgroup": "Democrat",
           "marker": {
            "color": "#636efa",
            "pattern": {
             "shape": ""
            }
           },
           "name": "Democrat",
           "offsetgroup": "Democrat",
           "orientation": "v",
           "showlegend": false,
           "textposition": "auto",
           "x": [
            "New York",
            "California",
            "New Hampshire",
            "Wisconsin",
            "Iowa",
            "Nevada",
            "Pennsylvania",
            "Virginia",
            "Ohio",
            "Florida",
            "North Carolina",
            "Arizona",
            "Indiana",
            "Georgia",
            "South Carolina",
            "Kentucky",
            "Texas"
           ],
           "xaxis": "x3",
           "y": [
            0.5520833333333334,
            0.59375,
            0.4742268041237113,
            0.422680412371134,
            0.4479166666666667,
            0.425531914893617,
            0.4639175257731959,
            0.4845360824742268,
            0.4166666666666667,
            0.43434343434343436,
            0.4387755102040816,
            0.43157894736842106,
            0.35051546391752575,
            0.41836734693877553,
            0.37373737373737376,
            0.34375,
            0.3979591836734694
           ],
           "yaxis": "y3",
           "type": "bar"
          },
          {
           "alignmentgroup": "True",
           "hovertemplate": "Party=Republican<br>Year=2016<br>Age Group=18-29<br>=%{x}<br>Vote Share=%{y}<extra></extra>",
           "legendgroup": "Republican",
           "marker": {
            "color": "#EF553B",
            "pattern": {
             "shape": ""
            }
           },
           "name": "Republican",
           "offsetgroup": "Republican",
           "orientation": "v",
           "showlegend": true,
           "textposition": "auto",
           "x": [
            "New York",
            "California",
            "New Hampshire",
            "Wisconsin",
            "Iowa",
            "Nevada",
            "Pennsylvania",
            "Virginia",
            "Ohio",
            "Florida",
            "North Carolina",
            "Arizona",
            "Indiana",
            "Georgia",
            "South Carolina",
            "Kentucky",
            "Texas"
           ],
           "xaxis": "x",
           "y": [
            0.25263157894736843,
            0.2584269662921348,
            0.4555555555555556,
            0.48351648351648346,
            0.5333333333333333,
            0.4022988505747126,
            0.4526315789473684,
            0.4,
            0.4516129032258065,
            0.4,
            0.3804347826086957,
            0.3932584269662921,
            0.5,
            0.34375,
            0.5,
            0.6344086021505376,
            0.39560439560439564
           ],
           "yaxis": "y",
           "type": "bar"
          },
          {
           "alignmentgroup": "True",
           "hovertemplate": "Party=Republican<br>Year=2016<br>Age Group=30-44<br>=%{x}<br>Vote Share=%{y}<extra></extra>",
           "legendgroup": "Republican",
           "marker": {
            "color": "#EF553B",
            "pattern": {
             "shape": ""
            }
           },
           "name": "Republican",
           "offsetgroup": "Republican",
           "orientation": "v",
           "showlegend": false,
           "textposition": "auto",
           "x": [
            "New York",
            "California",
            "New Hampshire",
            "Wisconsin",
            "Iowa",
            "Nevada",
            "Pennsylvania",
            "Virginia",
            "Ohio",
            "Florida",
            "North Carolina",
            "Arizona",
            "Indiana",
            "Georgia",
            "South Carolina",
            "Kentucky",
            "Texas"
           ],
           "xaxis": "x2",
           "y": [
            0.34375,
            0.2872340425531915,
            0.47777777777777775,
            0.40217391304347827,
            0.5777777777777777,
            0.4347826086956522,
            0.4421052631578948,
            0.4301075268817204,
            0.5483870967741935,
            0.4193548387096774,
            0.4842105263157894,
            0.46590909090909094,
            0.6063829787234043,
            0.4631578947368421,
            0.5368421052631579,
            0.6947368421052631,
            0.5161290322580645
           ],
           "yaxis": "y2",
           "type": "bar"
          },
          {
           "alignmentgroup": "True",
           "hovertemplate": "Party=Republican<br>Year=2016<br>Age Group=45-64<br>=%{x}<br>Vote Share=%{y}<extra></extra>",
           "legendgroup": "Republican",
           "marker": {
            "color": "#EF553B",
            "pattern": {
             "shape": ""
            }
           },
           "name": "Republican",
           "offsetgroup": "Republican",
           "orientation": "v",
           "showlegend": false,
           "textposition": "auto",
           "x": [
            "New York",
            "California",
            "New Hampshire",
            "Wisconsin",
            "Iowa",
            "Nevada",
            "Pennsylvania",
            "Virginia",
            "Ohio",
            "Florida",
            "North Carolina",
            "Arizona",
            "Indiana",
            "Georgia",
            "South Carolina",
            "Kentucky",
            "Texas"
           ],
           "xaxis": "x3",
           "y": [
            0.44791666666666663,
            0.40625,
            0.5257731958762887,
            0.5773195876288659,
            0.5520833333333333,
            0.574468085106383,
            0.5360824742268041,
            0.5154639175257731,
            0.5833333333333333,
            0.5656565656565656,
            0.5612244897959184,
            0.5684210526315789,
            0.6494845360824743,
            0.5816326530612245,
            0.6262626262626263,
            0.65625,
            0.6020408163265306
           ],
           "yaxis": "y3",
           "type": "bar"
          }
         ],
         "name": "2016"
        }
       ],
       "config": {
        "plotlyServerURL": "https://plot.ly"
       }
      },
      "text/html": [
       "<div>                            <div id=\"ca9f4fba-c56f-4e23-8b7e-a82aebc0d1aa\" class=\"plotly-graph-div\" style=\"height:450px; width:100%;\"></div>            <script type=\"text/javascript\">                require([\"plotly\"], function(Plotly) {                    window.PLOTLYENV=window.PLOTLYENV || {};                                    if (document.getElementById(\"ca9f4fba-c56f-4e23-8b7e-a82aebc0d1aa\")) {                    Plotly.newPlot(                        \"ca9f4fba-c56f-4e23-8b7e-a82aebc0d1aa\",                        [{\"alignmentgroup\":\"True\",\"hovertemplate\":\"Party=Democrat\\u003cbr\\u003eYear=2004\\u003cbr\\u003eAge Group=18-29\\u003cbr\\u003e=%{x}\\u003cbr\\u003eVote Share=%{y}\\u003cextra\\u003e\\u003c\\u002fextra\\u003e\",\"legendgroup\":\"Democrat\",\"marker\":{\"color\":\"#636efa\",\"pattern\":{\"shape\":\"\"}},\"name\":\"Democrat\",\"offsetgroup\":\"Democrat\",\"orientation\":\"v\",\"showlegend\":true,\"textposition\":\"auto\",\"x\":[\"New York\",\"California\",\"New Hampshire\",\"Wisconsin\",\"Iowa\",\"Nevada\",\"Pennsylvania\",\"Virginia\",\"Ohio\",\"Florida\",\"North Carolina\",\"Arizona\",\"Indiana\",\"Georgia\",\"South Carolina\",\"Kentucky\",\"Texas\"],\"xaxis\":\"x\",\"y\":[0.7422680412371134,0.5979381443298969,0.57,0.5816326530612245,0.5353535353535354,0.5714285714285714,0.6060606060606061,0.54,0.5714285714285714,0.5858585858585859,0.5656565656565656,0.4897959183673469,0.47474747474747475,0.494949494949495,0.5757575757575758,0.53,0.5656565656565656],\"yaxis\":\"y\",\"type\":\"bar\"},{\"alignmentgroup\":\"True\",\"hovertemplate\":\"Party=Democrat\\u003cbr\\u003eYear=2004\\u003cbr\\u003eAge Group=30-44\\u003cbr\\u003e=%{x}\\u003cbr\\u003eVote Share=%{y}\\u003cextra\\u003e\\u003c\\u002fextra\\u003e\",\"legendgroup\":\"Democrat\",\"marker\":{\"color\":\"#636efa\",\"pattern\":{\"shape\":\"\"}},\"name\":\"Democrat\",\"offsetgroup\":\"Democrat\",\"orientation\":\"v\",\"showlegend\":false,\"textposition\":\"auto\",\"x\":[\"New York\",\"California\",\"New Hampshire\",\"Wisconsin\",\"Iowa\",\"Nevada\",\"Pennsylvania\",\"Virginia\",\"Ohio\",\"Florida\",\"North Carolina\",\"Arizona\",\"Indiana\",\"Georgia\",\"South Carolina\",\"Kentucky\",\"Texas\"],\"xaxis\":\"x2\",\"y\":[0.61,0.5306122448979592,0.45918367346938777,0.44,0.4444444444444444,0.47959183673469385,0.48484848484848486,0.40404040404040403,0.47474747474747475,0.46464646464646464,0.37755102040816324,0.3838383838383838,0.3333333333333333,0.58,0.55,0.44329896907216493,0.4897959183673469],\"yaxis\":\"y2\",\"type\":\"bar\"},{\"alignmentgroup\":\"True\",\"hovertemplate\":\"Party=Democrat\\u003cbr\\u003eYear=2004\\u003cbr\\u003eAge Group=45-64\\u003cbr\\u003e=%{x}\\u003cbr\\u003eVote Share=%{y}\\u003cextra\\u003e\\u003c\\u002fextra\\u003e\",\"legendgroup\":\"Democrat\",\"marker\":{\"color\":\"#636efa\",\"pattern\":{\"shape\":\"\"}},\"name\":\"Democrat\",\"offsetgroup\":\"Democrat\",\"orientation\":\"v\",\"showlegend\":false,\"textposition\":\"auto\",\"x\":[\"New York\",\"California\",\"New Hampshire\",\"Wisconsin\",\"Iowa\",\"Nevada\",\"Pennsylvania\",\"Virginia\",\"Ohio\",\"Florida\",\"North Carolina\",\"Arizona\",\"Indiana\",\"Georgia\",\"South Carolina\",\"Kentucky\",\"Texas\"],\"xaxis\":\"x3\",\"y\":[0.5252525252525253,0.6122448979591837,0.5151515151515151,0.5050505050505051,0.494949494949495,0.46464646464646464,0.48,0.45,0.48,0.42424242424242425,1.0,0.4329896907216495,0.42424242424242425,0.44,0.41,0.39,0.43434343434343436],\"yaxis\":\"y3\",\"type\":\"bar\"},{\"alignmentgroup\":\"True\",\"hovertemplate\":\"Party=Republican\\u003cbr\\u003eYear=2004\\u003cbr\\u003eAge Group=18-29\\u003cbr\\u003e=%{x}\\u003cbr\\u003eVote Share=%{y}\\u003cextra\\u003e\\u003c\\u002fextra\\u003e\",\"legendgroup\":\"Republican\",\"marker\":{\"color\":\"#EF553B\",\"pattern\":{\"shape\":\"\"}},\"name\":\"Republican\",\"offsetgroup\":\"Republican\",\"orientation\":\"v\",\"showlegend\":true,\"textposition\":\"auto\",\"x\":[\"New York\",\"California\",\"New Hampshire\",\"Wisconsin\",\"Iowa\",\"Nevada\",\"Pennsylvania\",\"Virginia\",\"Ohio\",\"Florida\",\"North Carolina\",\"Arizona\",\"Indiana\",\"Georgia\",\"South Carolina\",\"Kentucky\",\"Texas\"],\"xaxis\":\"x\",\"y\":[0.25773195876288657,0.4020618556701031,0.43000000000000005,0.41836734693877553,0.46464646464646464,0.4285714285714286,0.3939393939393939,0.45999999999999996,0.4285714285714286,0.41414141414141414,0.43434343434343436,0.5102040816326531,0.5252525252525253,0.505050505050505,0.4242424242424242,0.47,0.43434343434343436],\"yaxis\":\"y\",\"type\":\"bar\"},{\"alignmentgroup\":\"True\",\"hovertemplate\":\"Party=Republican\\u003cbr\\u003eYear=2004\\u003cbr\\u003eAge Group=30-44\\u003cbr\\u003e=%{x}\\u003cbr\\u003eVote Share=%{y}\\u003cextra\\u003e\\u003c\\u002fextra\\u003e\",\"legendgroup\":\"Republican\",\"marker\":{\"color\":\"#EF553B\",\"pattern\":{\"shape\":\"\"}},\"name\":\"Republican\",\"offsetgroup\":\"Republican\",\"orientation\":\"v\",\"showlegend\":false,\"textposition\":\"auto\",\"x\":[\"New York\",\"California\",\"New Hampshire\",\"Wisconsin\",\"Iowa\",\"Nevada\",\"Pennsylvania\",\"Virginia\",\"Ohio\",\"Florida\",\"North Carolina\",\"Arizona\",\"Indiana\",\"Georgia\",\"South Carolina\",\"Kentucky\",\"Texas\"],\"xaxis\":\"x2\",\"y\":[0.39,0.4693877551020408,0.5408163265306123,0.56,0.5555555555555556,0.5204081632653061,0.5151515151515151,0.595959595959596,0.5252525252525253,0.5353535353535354,0.6224489795918368,0.6161616161616161,0.6666666666666667,0.42000000000000004,0.44999999999999996,0.5567010309278351,0.5102040816326531],\"yaxis\":\"y2\",\"type\":\"bar\"},{\"alignmentgroup\":\"True\",\"hovertemplate\":\"Party=Republican\\u003cbr\\u003eYear=2004\\u003cbr\\u003eAge Group=45-64\\u003cbr\\u003e=%{x}\\u003cbr\\u003eVote Share=%{y}\\u003cextra\\u003e\\u003c\\u002fextra\\u003e\",\"legendgroup\":\"Republican\",\"marker\":{\"color\":\"#EF553B\",\"pattern\":{\"shape\":\"\"}},\"name\":\"Republican\",\"offsetgroup\":\"Republican\",\"orientation\":\"v\",\"showlegend\":false,\"textposition\":\"auto\",\"x\":[\"New York\",\"California\",\"New Hampshire\",\"Wisconsin\",\"Iowa\",\"Nevada\",\"Pennsylvania\",\"Virginia\",\"Ohio\",\"Florida\",\"North Carolina\",\"Arizona\",\"Indiana\",\"Georgia\",\"South Carolina\",\"Kentucky\",\"Texas\"],\"xaxis\":\"x3\",\"y\":[0.4747474747474747,0.3877551020408163,0.48484848484848486,0.4949494949494949,0.505050505050505,0.5353535353535354,0.52,0.55,0.52,0.5757575757575757,0.0,0.5670103092783505,0.5757575757575757,0.56,0.5900000000000001,0.61,0.5656565656565656],\"yaxis\":\"y3\",\"type\":\"bar\"}],                        {\"template\":{\"data\":{\"histogram2dcontour\":[{\"type\":\"histogram2dcontour\",\"colorbar\":{\"outlinewidth\":0,\"ticks\":\"\"},\"colorscale\":[[0.0,\"#0d0887\"],[0.1111111111111111,\"#46039f\"],[0.2222222222222222,\"#7201a8\"],[0.3333333333333333,\"#9c179e\"],[0.4444444444444444,\"#bd3786\"],[0.5555555555555556,\"#d8576b\"],[0.6666666666666666,\"#ed7953\"],[0.7777777777777778,\"#fb9f3a\"],[0.8888888888888888,\"#fdca26\"],[1.0,\"#f0f921\"]]}],\"choropleth\":[{\"type\":\"choropleth\",\"colorbar\":{\"outlinewidth\":0,\"ticks\":\"\"}}],\"histogram2d\":[{\"type\":\"histogram2d\",\"colorbar\":{\"outlinewidth\":0,\"ticks\":\"\"},\"colorscale\":[[0.0,\"#0d0887\"],[0.1111111111111111,\"#46039f\"],[0.2222222222222222,\"#7201a8\"],[0.3333333333333333,\"#9c179e\"],[0.4444444444444444,\"#bd3786\"],[0.5555555555555556,\"#d8576b\"],[0.6666666666666666,\"#ed7953\"],[0.7777777777777778,\"#fb9f3a\"],[0.8888888888888888,\"#fdca26\"],[1.0,\"#f0f921\"]]}],\"heatmap\":[{\"type\":\"heatmap\",\"colorbar\":{\"outlinewidth\":0,\"ticks\":\"\"},\"colorscale\":[[0.0,\"#0d0887\"],[0.1111111111111111,\"#46039f\"],[0.2222222222222222,\"#7201a8\"],[0.3333333333333333,\"#9c179e\"],[0.4444444444444444,\"#bd3786\"],[0.5555555555555556,\"#d8576b\"],[0.6666666666666666,\"#ed7953\"],[0.7777777777777778,\"#fb9f3a\"],[0.8888888888888888,\"#fdca26\"],[1.0,\"#f0f921\"]]}],\"heatmapgl\":[{\"type\":\"heatmapgl\",\"colorbar\":{\"outlinewidth\":0,\"ticks\":\"\"},\"colorscale\":[[0.0,\"#0d0887\"],[0.1111111111111111,\"#46039f\"],[0.2222222222222222,\"#7201a8\"],[0.3333333333333333,\"#9c179e\"],[0.4444444444444444,\"#bd3786\"],[0.5555555555555556,\"#d8576b\"],[0.6666666666666666,\"#ed7953\"],[0.7777777777777778,\"#fb9f3a\"],[0.8888888888888888,\"#fdca26\"],[1.0,\"#f0f921\"]]}],\"contourcarpet\":[{\"type\":\"contourcarpet\",\"colorbar\":{\"outlinewidth\":0,\"ticks\":\"\"}}],\"contour\":[{\"type\":\"contour\",\"colorbar\":{\"outlinewidth\":0,\"ticks\":\"\"},\"colorscale\":[[0.0,\"#0d0887\"],[0.1111111111111111,\"#46039f\"],[0.2222222222222222,\"#7201a8\"],[0.3333333333333333,\"#9c179e\"],[0.4444444444444444,\"#bd3786\"],[0.5555555555555556,\"#d8576b\"],[0.6666666666666666,\"#ed7953\"],[0.7777777777777778,\"#fb9f3a\"],[0.8888888888888888,\"#fdca26\"],[1.0,\"#f0f921\"]]}],\"surface\":[{\"type\":\"surface\",\"colorbar\":{\"outlinewidth\":0,\"ticks\":\"\"},\"colorscale\":[[0.0,\"#0d0887\"],[0.1111111111111111,\"#46039f\"],[0.2222222222222222,\"#7201a8\"],[0.3333333333333333,\"#9c179e\"],[0.4444444444444444,\"#bd3786\"],[0.5555555555555556,\"#d8576b\"],[0.6666666666666666,\"#ed7953\"],[0.7777777777777778,\"#fb9f3a\"],[0.8888888888888888,\"#fdca26\"],[1.0,\"#f0f921\"]]}],\"mesh3d\":[{\"type\":\"mesh3d\",\"colorbar\":{\"outlinewidth\":0,\"ticks\":\"\"}}],\"scatter\":[{\"fillpattern\":{\"fillmode\":\"overlay\",\"size\":10,\"solidity\":0.2},\"type\":\"scatter\"}],\"parcoords\":[{\"type\":\"parcoords\",\"line\":{\"colorbar\":{\"outlinewidth\":0,\"ticks\":\"\"}}}],\"scatterpolargl\":[{\"type\":\"scatterpolargl\",\"marker\":{\"colorbar\":{\"outlinewidth\":0,\"ticks\":\"\"}}}],\"bar\":[{\"error_x\":{\"color\":\"#2a3f5f\"},\"error_y\":{\"color\":\"#2a3f5f\"},\"marker\":{\"line\":{\"color\":\"#E5ECF6\",\"width\":0.5},\"pattern\":{\"fillmode\":\"overlay\",\"size\":10,\"solidity\":0.2}},\"type\":\"bar\"}],\"scattergeo\":[{\"type\":\"scattergeo\",\"marker\":{\"colorbar\":{\"outlinewidth\":0,\"ticks\":\"\"}}}],\"scatterpolar\":[{\"type\":\"scatterpolar\",\"marker\":{\"colorbar\":{\"outlinewidth\":0,\"ticks\":\"\"}}}],\"histogram\":[{\"marker\":{\"pattern\":{\"fillmode\":\"overlay\",\"size\":10,\"solidity\":0.2}},\"type\":\"histogram\"}],\"scattergl\":[{\"type\":\"scattergl\",\"marker\":{\"colorbar\":{\"outlinewidth\":0,\"ticks\":\"\"}}}],\"scatter3d\":[{\"type\":\"scatter3d\",\"line\":{\"colorbar\":{\"outlinewidth\":0,\"ticks\":\"\"}},\"marker\":{\"colorbar\":{\"outlinewidth\":0,\"ticks\":\"\"}}}],\"scattermapbox\":[{\"type\":\"scattermapbox\",\"marker\":{\"colorbar\":{\"outlinewidth\":0,\"ticks\":\"\"}}}],\"scatterternary\":[{\"type\":\"scatterternary\",\"marker\":{\"colorbar\":{\"outlinewidth\":0,\"ticks\":\"\"}}}],\"scattercarpet\":[{\"type\":\"scattercarpet\",\"marker\":{\"colorbar\":{\"outlinewidth\":0,\"ticks\":\"\"}}}],\"carpet\":[{\"aaxis\":{\"endlinecolor\":\"#2a3f5f\",\"gridcolor\":\"white\",\"linecolor\":\"white\",\"minorgridcolor\":\"white\",\"startlinecolor\":\"#2a3f5f\"},\"baxis\":{\"endlinecolor\":\"#2a3f5f\",\"gridcolor\":\"white\",\"linecolor\":\"white\",\"minorgridcolor\":\"white\",\"startlinecolor\":\"#2a3f5f\"},\"type\":\"carpet\"}],\"table\":[{\"cells\":{\"fill\":{\"color\":\"#EBF0F8\"},\"line\":{\"color\":\"white\"}},\"header\":{\"fill\":{\"color\":\"#C8D4E3\"},\"line\":{\"color\":\"white\"}},\"type\":\"table\"}],\"barpolar\":[{\"marker\":{\"line\":{\"color\":\"#E5ECF6\",\"width\":0.5},\"pattern\":{\"fillmode\":\"overlay\",\"size\":10,\"solidity\":0.2}},\"type\":\"barpolar\"}],\"pie\":[{\"automargin\":true,\"type\":\"pie\"}]},\"layout\":{\"autotypenumbers\":\"strict\",\"colorway\":[\"#636efa\",\"#EF553B\",\"#00cc96\",\"#ab63fa\",\"#FFA15A\",\"#19d3f3\",\"#FF6692\",\"#B6E880\",\"#FF97FF\",\"#FECB52\"],\"font\":{\"color\":\"#2a3f5f\"},\"hovermode\":\"closest\",\"hoverlabel\":{\"align\":\"left\"},\"paper_bgcolor\":\"white\",\"plot_bgcolor\":\"#E5ECF6\",\"polar\":{\"bgcolor\":\"#E5ECF6\",\"angularaxis\":{\"gridcolor\":\"white\",\"linecolor\":\"white\",\"ticks\":\"\"},\"radialaxis\":{\"gridcolor\":\"white\",\"linecolor\":\"white\",\"ticks\":\"\"}},\"ternary\":{\"bgcolor\":\"#E5ECF6\",\"aaxis\":{\"gridcolor\":\"white\",\"linecolor\":\"white\",\"ticks\":\"\"},\"baxis\":{\"gridcolor\":\"white\",\"linecolor\":\"white\",\"ticks\":\"\"},\"caxis\":{\"gridcolor\":\"white\",\"linecolor\":\"white\",\"ticks\":\"\"}},\"coloraxis\":{\"colorbar\":{\"outlinewidth\":0,\"ticks\":\"\"}},\"colorscale\":{\"sequential\":[[0.0,\"#0d0887\"],[0.1111111111111111,\"#46039f\"],[0.2222222222222222,\"#7201a8\"],[0.3333333333333333,\"#9c179e\"],[0.4444444444444444,\"#bd3786\"],[0.5555555555555556,\"#d8576b\"],[0.6666666666666666,\"#ed7953\"],[0.7777777777777778,\"#fb9f3a\"],[0.8888888888888888,\"#fdca26\"],[1.0,\"#f0f921\"]],\"sequentialminus\":[[0.0,\"#0d0887\"],[0.1111111111111111,\"#46039f\"],[0.2222222222222222,\"#7201a8\"],[0.3333333333333333,\"#9c179e\"],[0.4444444444444444,\"#bd3786\"],[0.5555555555555556,\"#d8576b\"],[0.6666666666666666,\"#ed7953\"],[0.7777777777777778,\"#fb9f3a\"],[0.8888888888888888,\"#fdca26\"],[1.0,\"#f0f921\"]],\"diverging\":[[0,\"#8e0152\"],[0.1,\"#c51b7d\"],[0.2,\"#de77ae\"],[0.3,\"#f1b6da\"],[0.4,\"#fde0ef\"],[0.5,\"#f7f7f7\"],[0.6,\"#e6f5d0\"],[0.7,\"#b8e186\"],[0.8,\"#7fbc41\"],[0.9,\"#4d9221\"],[1,\"#276419\"]]},\"xaxis\":{\"gridcolor\":\"white\",\"linecolor\":\"white\",\"ticks\":\"\",\"title\":{\"standoff\":15},\"zerolinecolor\":\"white\",\"automargin\":true,\"zerolinewidth\":2},\"yaxis\":{\"gridcolor\":\"white\",\"linecolor\":\"white\",\"ticks\":\"\",\"title\":{\"standoff\":15},\"zerolinecolor\":\"white\",\"automargin\":true,\"zerolinewidth\":2},\"scene\":{\"xaxis\":{\"backgroundcolor\":\"#E5ECF6\",\"gridcolor\":\"white\",\"linecolor\":\"white\",\"showbackground\":true,\"ticks\":\"\",\"zerolinecolor\":\"white\",\"gridwidth\":2},\"yaxis\":{\"backgroundcolor\":\"#E5ECF6\",\"gridcolor\":\"white\",\"linecolor\":\"white\",\"showbackground\":true,\"ticks\":\"\",\"zerolinecolor\":\"white\",\"gridwidth\":2},\"zaxis\":{\"backgroundcolor\":\"#E5ECF6\",\"gridcolor\":\"white\",\"linecolor\":\"white\",\"showbackground\":true,\"ticks\":\"\",\"zerolinecolor\":\"white\",\"gridwidth\":2}},\"shapedefaults\":{\"line\":{\"color\":\"#2a3f5f\"}},\"annotationdefaults\":{\"arrowcolor\":\"#2a3f5f\",\"arrowhead\":0,\"arrowwidth\":1},\"geo\":{\"bgcolor\":\"white\",\"landcolor\":\"#E5ECF6\",\"subunitcolor\":\"white\",\"showland\":true,\"showlakes\":true,\"lakecolor\":\"white\"},\"title\":{\"x\":0.05},\"mapbox\":{\"style\":\"light\"}}},\"xaxis\":{\"anchor\":\"y\",\"domain\":[0.0,0.31999999999999995],\"title\":{\"text\":\"\"},\"tickangle\":-45},\"yaxis\":{\"anchor\":\"x\",\"domain\":[0.0,1.0],\"title\":{\"text\":\"Vote Share\"}},\"xaxis2\":{\"anchor\":\"y2\",\"domain\":[0.33999999999999997,0.6599999999999999],\"matches\":\"x\",\"title\":{\"text\":\"\"},\"tickangle\":-45},\"yaxis2\":{\"anchor\":\"x2\",\"domain\":[0.0,1.0],\"matches\":\"y\",\"showticklabels\":false},\"xaxis3\":{\"anchor\":\"y3\",\"domain\":[0.6799999999999999,0.9999999999999999],\"matches\":\"x\",\"title\":{\"text\":\"\"},\"tickangle\":-45},\"yaxis3\":{\"anchor\":\"x3\",\"domain\":[0.0,1.0],\"matches\":\"y\",\"showticklabels\":false},\"annotations\":[{\"font\":{},\"showarrow\":false,\"text\":\"Age Group=18-29\",\"x\":0.15999999999999998,\"xanchor\":\"center\",\"xref\":\"paper\",\"y\":1.0,\"yanchor\":\"bottom\",\"yref\":\"paper\"},{\"font\":{},\"showarrow\":false,\"text\":\"Age Group=30-44\",\"x\":0.49999999999999994,\"xanchor\":\"center\",\"xref\":\"paper\",\"y\":1.0,\"yanchor\":\"bottom\",\"yref\":\"paper\"},{\"font\":{},\"showarrow\":false,\"text\":\"Age Group=45-64\",\"x\":0.8399999999999999,\"xanchor\":\"center\",\"xref\":\"paper\",\"y\":1.0,\"yanchor\":\"bottom\",\"yref\":\"paper\"}],\"legend\":{\"title\":{\"text\":\"Party\"},\"tracegroupgap\":0},\"title\":{\"text\":\"Vote Distribution by State, Age Group, and Year\",\"x\":0.5},\"barmode\":\"stack\",\"height\":450,\"updatemenus\":[{\"buttons\":[{\"args\":[null,{\"frame\":{\"duration\":500,\"redraw\":true},\"mode\":\"immediate\",\"fromcurrent\":true,\"transition\":{\"duration\":500,\"easing\":\"linear\"}}],\"label\":\"&#9654;\",\"method\":\"animate\"},{\"args\":[[null],{\"frame\":{\"duration\":0,\"redraw\":true},\"mode\":\"immediate\",\"fromcurrent\":true,\"transition\":{\"duration\":0,\"easing\":\"linear\"}}],\"label\":\"&#9724;\",\"method\":\"animate\"}],\"direction\":\"left\",\"pad\":{\"r\":10,\"t\":70},\"showactive\":false,\"type\":\"buttons\",\"x\":0.1,\"xanchor\":\"right\",\"y\":0,\"yanchor\":\"top\"}],\"sliders\":[{\"active\":0,\"currentvalue\":{\"prefix\":\"Year=\"},\"len\":0.9,\"pad\":{\"b\":10,\"t\":60},\"steps\":[{\"args\":[[\"2004\"],{\"frame\":{\"duration\":0,\"redraw\":true},\"mode\":\"immediate\",\"fromcurrent\":true,\"transition\":{\"duration\":0,\"easing\":\"linear\"}}],\"label\":\"2004\",\"method\":\"animate\"},{\"args\":[[\"2008\"],{\"frame\":{\"duration\":0,\"redraw\":true},\"mode\":\"immediate\",\"fromcurrent\":true,\"transition\":{\"duration\":0,\"easing\":\"linear\"}}],\"label\":\"2008\",\"method\":\"animate\"},{\"args\":[[\"2012\"],{\"frame\":{\"duration\":0,\"redraw\":true},\"mode\":\"immediate\",\"fromcurrent\":true,\"transition\":{\"duration\":0,\"easing\":\"linear\"}}],\"label\":\"2012\",\"method\":\"animate\"},{\"args\":[[\"2016\"],{\"frame\":{\"duration\":0,\"redraw\":true},\"mode\":\"immediate\",\"fromcurrent\":true,\"transition\":{\"duration\":0,\"easing\":\"linear\"}}],\"label\":\"2016\",\"method\":\"animate\"}],\"x\":0.1,\"xanchor\":\"left\",\"y\":0,\"yanchor\":\"top\"}],\"bargap\":0.4},                        {\"responsive\": true}                    ).then(function(){\n",
       "                            Plotly.addFrames('ca9f4fba-c56f-4e23-8b7e-a82aebc0d1aa', [{\"data\":[{\"alignmentgroup\":\"True\",\"hovertemplate\":\"Party=Democrat\\u003cbr\\u003eYear=2004\\u003cbr\\u003eAge Group=18-29\\u003cbr\\u003e=%{x}\\u003cbr\\u003eVote Share=%{y}\\u003cextra\\u003e\\u003c\\u002fextra\\u003e\",\"legendgroup\":\"Democrat\",\"marker\":{\"color\":\"#636efa\",\"pattern\":{\"shape\":\"\"}},\"name\":\"Democrat\",\"offsetgroup\":\"Democrat\",\"orientation\":\"v\",\"showlegend\":true,\"textposition\":\"auto\",\"x\":[\"New York\",\"California\",\"New Hampshire\",\"Wisconsin\",\"Iowa\",\"Nevada\",\"Pennsylvania\",\"Virginia\",\"Ohio\",\"Florida\",\"North Carolina\",\"Arizona\",\"Indiana\",\"Georgia\",\"South Carolina\",\"Kentucky\",\"Texas\"],\"xaxis\":\"x\",\"y\":[0.7422680412371134,0.5979381443298969,0.57,0.5816326530612245,0.5353535353535354,0.5714285714285714,0.6060606060606061,0.54,0.5714285714285714,0.5858585858585859,0.5656565656565656,0.4897959183673469,0.47474747474747475,0.494949494949495,0.5757575757575758,0.53,0.5656565656565656],\"yaxis\":\"y\",\"type\":\"bar\"},{\"alignmentgroup\":\"True\",\"hovertemplate\":\"Party=Democrat\\u003cbr\\u003eYear=2004\\u003cbr\\u003eAge Group=30-44\\u003cbr\\u003e=%{x}\\u003cbr\\u003eVote Share=%{y}\\u003cextra\\u003e\\u003c\\u002fextra\\u003e\",\"legendgroup\":\"Democrat\",\"marker\":{\"color\":\"#636efa\",\"pattern\":{\"shape\":\"\"}},\"name\":\"Democrat\",\"offsetgroup\":\"Democrat\",\"orientation\":\"v\",\"showlegend\":false,\"textposition\":\"auto\",\"x\":[\"New York\",\"California\",\"New Hampshire\",\"Wisconsin\",\"Iowa\",\"Nevada\",\"Pennsylvania\",\"Virginia\",\"Ohio\",\"Florida\",\"North Carolina\",\"Arizona\",\"Indiana\",\"Georgia\",\"South Carolina\",\"Kentucky\",\"Texas\"],\"xaxis\":\"x2\",\"y\":[0.61,0.5306122448979592,0.45918367346938777,0.44,0.4444444444444444,0.47959183673469385,0.48484848484848486,0.40404040404040403,0.47474747474747475,0.46464646464646464,0.37755102040816324,0.3838383838383838,0.3333333333333333,0.58,0.55,0.44329896907216493,0.4897959183673469],\"yaxis\":\"y2\",\"type\":\"bar\"},{\"alignmentgroup\":\"True\",\"hovertemplate\":\"Party=Democrat\\u003cbr\\u003eYear=2004\\u003cbr\\u003eAge Group=45-64\\u003cbr\\u003e=%{x}\\u003cbr\\u003eVote Share=%{y}\\u003cextra\\u003e\\u003c\\u002fextra\\u003e\",\"legendgroup\":\"Democrat\",\"marker\":{\"color\":\"#636efa\",\"pattern\":{\"shape\":\"\"}},\"name\":\"Democrat\",\"offsetgroup\":\"Democrat\",\"orientation\":\"v\",\"showlegend\":false,\"textposition\":\"auto\",\"x\":[\"New York\",\"California\",\"New Hampshire\",\"Wisconsin\",\"Iowa\",\"Nevada\",\"Pennsylvania\",\"Virginia\",\"Ohio\",\"Florida\",\"North Carolina\",\"Arizona\",\"Indiana\",\"Georgia\",\"South Carolina\",\"Kentucky\",\"Texas\"],\"xaxis\":\"x3\",\"y\":[0.5252525252525253,0.6122448979591837,0.5151515151515151,0.5050505050505051,0.494949494949495,0.46464646464646464,0.48,0.45,0.48,0.42424242424242425,1.0,0.4329896907216495,0.42424242424242425,0.44,0.41,0.39,0.43434343434343436],\"yaxis\":\"y3\",\"type\":\"bar\"},{\"alignmentgroup\":\"True\",\"hovertemplate\":\"Party=Republican\\u003cbr\\u003eYear=2004\\u003cbr\\u003eAge Group=18-29\\u003cbr\\u003e=%{x}\\u003cbr\\u003eVote Share=%{y}\\u003cextra\\u003e\\u003c\\u002fextra\\u003e\",\"legendgroup\":\"Republican\",\"marker\":{\"color\":\"#EF553B\",\"pattern\":{\"shape\":\"\"}},\"name\":\"Republican\",\"offsetgroup\":\"Republican\",\"orientation\":\"v\",\"showlegend\":true,\"textposition\":\"auto\",\"x\":[\"New York\",\"California\",\"New Hampshire\",\"Wisconsin\",\"Iowa\",\"Nevada\",\"Pennsylvania\",\"Virginia\",\"Ohio\",\"Florida\",\"North Carolina\",\"Arizona\",\"Indiana\",\"Georgia\",\"South Carolina\",\"Kentucky\",\"Texas\"],\"xaxis\":\"x\",\"y\":[0.25773195876288657,0.4020618556701031,0.43000000000000005,0.41836734693877553,0.46464646464646464,0.4285714285714286,0.3939393939393939,0.45999999999999996,0.4285714285714286,0.41414141414141414,0.43434343434343436,0.5102040816326531,0.5252525252525253,0.505050505050505,0.4242424242424242,0.47,0.43434343434343436],\"yaxis\":\"y\",\"type\":\"bar\"},{\"alignmentgroup\":\"True\",\"hovertemplate\":\"Party=Republican\\u003cbr\\u003eYear=2004\\u003cbr\\u003eAge Group=30-44\\u003cbr\\u003e=%{x}\\u003cbr\\u003eVote Share=%{y}\\u003cextra\\u003e\\u003c\\u002fextra\\u003e\",\"legendgroup\":\"Republican\",\"marker\":{\"color\":\"#EF553B\",\"pattern\":{\"shape\":\"\"}},\"name\":\"Republican\",\"offsetgroup\":\"Republican\",\"orientation\":\"v\",\"showlegend\":false,\"textposition\":\"auto\",\"x\":[\"New York\",\"California\",\"New Hampshire\",\"Wisconsin\",\"Iowa\",\"Nevada\",\"Pennsylvania\",\"Virginia\",\"Ohio\",\"Florida\",\"North Carolina\",\"Arizona\",\"Indiana\",\"Georgia\",\"South Carolina\",\"Kentucky\",\"Texas\"],\"xaxis\":\"x2\",\"y\":[0.39,0.4693877551020408,0.5408163265306123,0.56,0.5555555555555556,0.5204081632653061,0.5151515151515151,0.595959595959596,0.5252525252525253,0.5353535353535354,0.6224489795918368,0.6161616161616161,0.6666666666666667,0.42000000000000004,0.44999999999999996,0.5567010309278351,0.5102040816326531],\"yaxis\":\"y2\",\"type\":\"bar\"},{\"alignmentgroup\":\"True\",\"hovertemplate\":\"Party=Republican\\u003cbr\\u003eYear=2004\\u003cbr\\u003eAge Group=45-64\\u003cbr\\u003e=%{x}\\u003cbr\\u003eVote Share=%{y}\\u003cextra\\u003e\\u003c\\u002fextra\\u003e\",\"legendgroup\":\"Republican\",\"marker\":{\"color\":\"#EF553B\",\"pattern\":{\"shape\":\"\"}},\"name\":\"Republican\",\"offsetgroup\":\"Republican\",\"orientation\":\"v\",\"showlegend\":false,\"textposition\":\"auto\",\"x\":[\"New York\",\"California\",\"New Hampshire\",\"Wisconsin\",\"Iowa\",\"Nevada\",\"Pennsylvania\",\"Virginia\",\"Ohio\",\"Florida\",\"North Carolina\",\"Arizona\",\"Indiana\",\"Georgia\",\"South Carolina\",\"Kentucky\",\"Texas\"],\"xaxis\":\"x3\",\"y\":[0.4747474747474747,0.3877551020408163,0.48484848484848486,0.4949494949494949,0.505050505050505,0.5353535353535354,0.52,0.55,0.52,0.5757575757575757,0.0,0.5670103092783505,0.5757575757575757,0.56,0.5900000000000001,0.61,0.5656565656565656],\"yaxis\":\"y3\",\"type\":\"bar\"}],\"name\":\"2004\"},{\"data\":[{\"alignmentgroup\":\"True\",\"hovertemplate\":\"Party=Democrat\\u003cbr\\u003eYear=2008\\u003cbr\\u003eAge Group=18-29\\u003cbr\\u003e=%{x}\\u003cbr\\u003eVote Share=%{y}\\u003cextra\\u003e\\u003c\\u002fextra\\u003e\",\"legendgroup\":\"Democrat\",\"marker\":{\"color\":\"#636efa\",\"pattern\":{\"shape\":\"\"}},\"name\":\"Democrat\",\"offsetgroup\":\"Democrat\",\"orientation\":\"v\",\"showlegend\":true,\"textposition\":\"auto\",\"x\":[\"New York\",\"California\",\"New Hampshire\",\"Wisconsin\",\"Iowa\",\"Nevada\",\"Pennsylvania\",\"Virginia\",\"Ohio\",\"Florida\",\"North Carolina\",\"Arizona\",\"Indiana\",\"Georgia\",\"South Carolina\",\"Kentucky\",\"Texas\"],\"xaxis\":\"x\",\"y\":[0.7835051546391752,0.7676767676767676,0.6224489795918368,0.6464646464646465,0.6288659793814433,0.6836734693877551,0.65,0.6060606060606061,0.6288659793814433,0.6224489795918368,0.74,0.52,0.6428571428571429,0.48484848484848486,0.5555555555555556,0.5151515151515151,0.5454545454545454],\"yaxis\":\"y\",\"type\":\"bar\"},{\"alignmentgroup\":\"True\",\"hovertemplate\":\"Party=Democrat\\u003cbr\\u003eYear=2008\\u003cbr\\u003eAge Group=30-44\\u003cbr\\u003e=%{x}\\u003cbr\\u003eVote Share=%{y}\\u003cextra\\u003e\\u003c\\u002fextra\\u003e\",\"legendgroup\":\"Democrat\",\"marker\":{\"color\":\"#636efa\",\"pattern\":{\"shape\":\"\"}},\"name\":\"Democrat\",\"offsetgroup\":\"Democrat\",\"orientation\":\"v\",\"showlegend\":false,\"textposition\":\"auto\",\"x\":[\"New York\",\"California\",\"New Hampshire\",\"Wisconsin\",\"Iowa\",\"Nevada\",\"Pennsylvania\",\"Virginia\",\"Ohio\",\"Florida\",\"North Carolina\",\"Arizona\",\"Indiana\",\"Georgia\",\"South Carolina\",\"Kentucky\",\"Texas\"],\"xaxis\":\"x2\",\"y\":[0.61,0.6020408163265306,0.5151515151515151,0.5510204081632653,0.4897959183673469,0.6185567010309279,0.5204081632653061,0.5204081632653061,0.5204081632653061,0.5,0.48,0.4742268041237113,0.47474747474747475,0.56,0.54,0.44329896907216493,0.46938775510204084],\"yaxis\":\"y2\",\"type\":\"bar\"},{\"alignmentgroup\":\"True\",\"hovertemplate\":\"Party=Democrat\\u003cbr\\u003eYear=2008\\u003cbr\\u003eAge Group=45-64\\u003cbr\\u003e=%{x}\\u003cbr\\u003eVote Share=%{y}\\u003cextra\\u003e\\u003c\\u002fextra\\u003e\",\"legendgroup\":\"Democrat\",\"marker\":{\"color\":\"#636efa\",\"pattern\":{\"shape\":\"\"}},\"name\":\"Democrat\",\"offsetgroup\":\"Democrat\",\"orientation\":\"v\",\"showlegend\":false,\"textposition\":\"auto\",\"x\":[\"New York\",\"California\",\"New Hampshire\",\"Wisconsin\",\"Iowa\",\"Nevada\",\"Pennsylvania\",\"Virginia\",\"Ohio\",\"Florida\",\"North Carolina\",\"Arizona\",\"Indiana\",\"Georgia\",\"South Carolina\",\"Kentucky\",\"Texas\"],\"xaxis\":\"x3\",\"y\":[0.5959595959595959,0.6122448979591837,0.5656565656565656,0.5757575757575758,0.5510204081632653,0.5257731958762887,0.5612244897959183,0.5151515151515151,0.5353535353535354,0.5252525252525253,0.43434343434343436,0.42857142857142855,0.494949494949495,0.42,0.39,0.39,0.41414141414141414],\"yaxis\":\"y3\",\"type\":\"bar\"},{\"alignmentgroup\":\"True\",\"hovertemplate\":\"Party=Republican\\u003cbr\\u003eYear=2008\\u003cbr\\u003eAge Group=18-29\\u003cbr\\u003e=%{x}\\u003cbr\\u003eVote Share=%{y}\\u003cextra\\u003e\\u003c\\u002fextra\\u003e\",\"legendgroup\":\"Republican\",\"marker\":{\"color\":\"#EF553B\",\"pattern\":{\"shape\":\"\"}},\"name\":\"Republican\",\"offsetgroup\":\"Republican\",\"orientation\":\"v\",\"showlegend\":true,\"textposition\":\"auto\",\"x\":[\"New York\",\"California\",\"New Hampshire\",\"Wisconsin\",\"Iowa\",\"Nevada\",\"Pennsylvania\",\"Virginia\",\"Ohio\",\"Florida\",\"North Carolina\",\"Arizona\",\"Indiana\",\"Georgia\",\"South Carolina\",\"Kentucky\",\"Texas\"],\"xaxis\":\"x\",\"y\":[0.21649484536082475,0.23232323232323238,0.37755102040816324,0.3535353535353535,0.3711340206185567,0.3163265306122449,0.35,0.3939393939393939,0.3711340206185567,0.37755102040816324,0.26,0.48,0.3571428571428571,0.5151515151515151,0.4444444444444444,0.48484848484848486,0.4545454545454546],\"yaxis\":\"y\",\"type\":\"bar\"},{\"alignmentgroup\":\"True\",\"hovertemplate\":\"Party=Republican\\u003cbr\\u003eYear=2008\\u003cbr\\u003eAge Group=30-44\\u003cbr\\u003e=%{x}\\u003cbr\\u003eVote Share=%{y}\\u003cextra\\u003e\\u003c\\u002fextra\\u003e\",\"legendgroup\":\"Republican\",\"marker\":{\"color\":\"#EF553B\",\"pattern\":{\"shape\":\"\"}},\"name\":\"Republican\",\"offsetgroup\":\"Republican\",\"orientation\":\"v\",\"showlegend\":false,\"textposition\":\"auto\",\"x\":[\"New York\",\"California\",\"New Hampshire\",\"Wisconsin\",\"Iowa\",\"Nevada\",\"Pennsylvania\",\"Virginia\",\"Ohio\",\"Florida\",\"North Carolina\",\"Arizona\",\"Indiana\",\"Georgia\",\"South Carolina\",\"Kentucky\",\"Texas\"],\"xaxis\":\"x2\",\"y\":[0.39,0.3979591836734694,0.48484848484848486,0.44897959183673475,0.5102040816326531,0.38144329896907214,0.47959183673469385,0.47959183673469385,0.47959183673469385,0.5,0.52,0.5257731958762887,0.5252525252525253,0.43999999999999995,0.45999999999999996,0.5567010309278351,0.5306122448979591],\"yaxis\":\"y2\",\"type\":\"bar\"},{\"alignmentgroup\":\"True\",\"hovertemplate\":\"Party=Republican\\u003cbr\\u003eYear=2008\\u003cbr\\u003eAge Group=45-64\\u003cbr\\u003e=%{x}\\u003cbr\\u003eVote Share=%{y}\\u003cextra\\u003e\\u003c\\u002fextra\\u003e\",\"legendgroup\":\"Republican\",\"marker\":{\"color\":\"#EF553B\",\"pattern\":{\"shape\":\"\"}},\"name\":\"Republican\",\"offsetgroup\":\"Republican\",\"orientation\":\"v\",\"showlegend\":false,\"textposition\":\"auto\",\"x\":[\"New York\",\"California\",\"New Hampshire\",\"Wisconsin\",\"Iowa\",\"Nevada\",\"Pennsylvania\",\"Virginia\",\"Ohio\",\"Florida\",\"North Carolina\",\"Arizona\",\"Indiana\",\"Georgia\",\"South Carolina\",\"Kentucky\",\"Texas\"],\"xaxis\":\"x3\",\"y\":[0.4040404040404041,0.3877551020408163,0.43434343434343436,0.4242424242424242,0.44897959183673475,0.4742268041237113,0.4387755102040817,0.48484848484848486,0.46464646464646464,0.4747474747474747,0.5656565656565656,0.5714285714285714,0.505050505050505,0.5800000000000001,0.61,0.61,0.5858585858585859],\"yaxis\":\"y3\",\"type\":\"bar\"}],\"name\":\"2008\"},{\"data\":[{\"alignmentgroup\":\"True\",\"hovertemplate\":\"Party=Democrat\\u003cbr\\u003eYear=2012\\u003cbr\\u003eAge Group=18-29\\u003cbr\\u003e=%{x}\\u003cbr\\u003eVote Share=%{y}\\u003cextra\\u003e\\u003c\\u002fextra\\u003e\",\"legendgroup\":\"Democrat\",\"marker\":{\"color\":\"#636efa\",\"pattern\":{\"shape\":\"\"}},\"name\":\"Democrat\",\"offsetgroup\":\"Democrat\",\"orientation\":\"v\",\"showlegend\":true,\"textposition\":\"auto\",\"x\":[\"New York\",\"California\",\"New Hampshire\",\"Wisconsin\",\"Iowa\",\"Nevada\",\"Pennsylvania\",\"Virginia\",\"Ohio\",\"Florida\",\"North Carolina\",\"Arizona\",\"Indiana\",\"Georgia\",\"South Carolina\",\"Kentucky\",\"Texas\"],\"xaxis\":\"x\",\"y\":[0.7422680412371134,0.7244897959183674,0.6458333333333334,0.6185567010309279,0.5833333333333334,0.6938775510204082,0.6428571428571429,0.6288659793814433,0.6428571428571429,0.673469387755102,0.6767676767676768,0.673469387755102,0.4842105263157895,0.5656565656565656,0.4479166666666667,0.5212765957446809,0.5876288659793815],\"yaxis\":\"y\",\"type\":\"bar\"},{\"alignmentgroup\":\"True\",\"hovertemplate\":\"Party=Democrat\\u003cbr\\u003eYear=2012\\u003cbr\\u003eAge Group=30-44\\u003cbr\\u003e=%{x}\\u003cbr\\u003eVote Share=%{y}\\u003cextra\\u003e\\u003c\\u002fextra\\u003e\",\"legendgroup\":\"Democrat\",\"marker\":{\"color\":\"#636efa\",\"pattern\":{\"shape\":\"\"}},\"name\":\"Democrat\",\"offsetgroup\":\"Democrat\",\"orientation\":\"v\",\"showlegend\":false,\"textposition\":\"auto\",\"x\":[\"New York\",\"California\",\"New Hampshire\",\"Wisconsin\",\"Iowa\",\"Nevada\",\"Pennsylvania\",\"Virginia\",\"Ohio\",\"Florida\",\"North Carolina\",\"Arizona\",\"Indiana\",\"Georgia\",\"South Carolina\",\"Kentucky\",\"Texas\"],\"xaxis\":\"x2\",\"y\":[0.6224489795918368,0.625,0.4897959183673469,0.5151515151515151,0.5252525252525253,0.5625,0.5612244897959183,0.5510204081632653,0.5257731958762887,0.5306122448979592,0.5151515151515151,0.422680412371134,0.4948453608247423,0.5510204081632653,0.5102040816326531,0.4387755102040816,0.5],\"yaxis\":\"y2\",\"type\":\"bar\"},{\"alignmentgroup\":\"True\",\"hovertemplate\":\"Party=Democrat\\u003cbr\\u003eYear=2012\\u003cbr\\u003eAge Group=45-64\\u003cbr\\u003e=%{x}\\u003cbr\\u003eVote Share=%{y}\\u003cextra\\u003e\\u003c\\u002fextra\\u003e\",\"legendgroup\":\"Democrat\",\"marker\":{\"color\":\"#636efa\",\"pattern\":{\"shape\":\"\"}},\"name\":\"Democrat\",\"offsetgroup\":\"Democrat\",\"orientation\":\"v\",\"showlegend\":false,\"textposition\":\"auto\",\"x\":[\"New York\",\"California\",\"New Hampshire\",\"Wisconsin\",\"Iowa\",\"Nevada\",\"Pennsylvania\",\"Virginia\",\"Ohio\",\"Florida\",\"North Carolina\",\"Arizona\",\"Indiana\",\"Georgia\",\"South Carolina\",\"Kentucky\",\"Texas\"],\"xaxis\":\"x3\",\"y\":[0.6161616161616161,0.5353535353535354,0.494949494949495,0.5151515151515151,0.5306122448979592,0.5,0.48484848484848486,0.46464646464646464,0.47959183673469385,0.48,0.47,0.43434343434343436,0.44,0.46464646464646464,0.42424242424242425,0.2755102040816326,0.4444444444444444],\"yaxis\":\"y3\",\"type\":\"bar\"},{\"alignmentgroup\":\"True\",\"hovertemplate\":\"Party=Republican\\u003cbr\\u003eYear=2012\\u003cbr\\u003eAge Group=18-29\\u003cbr\\u003e=%{x}\\u003cbr\\u003eVote Share=%{y}\\u003cextra\\u003e\\u003c\\u002fextra\\u003e\",\"legendgroup\":\"Republican\",\"marker\":{\"color\":\"#EF553B\",\"pattern\":{\"shape\":\"\"}},\"name\":\"Republican\",\"offsetgroup\":\"Republican\",\"orientation\":\"v\",\"showlegend\":true,\"textposition\":\"auto\",\"x\":[\"New York\",\"California\",\"New Hampshire\",\"Wisconsin\",\"Iowa\",\"Nevada\",\"Pennsylvania\",\"Virginia\",\"Ohio\",\"Florida\",\"North Carolina\",\"Arizona\",\"Indiana\",\"Georgia\",\"South Carolina\",\"Kentucky\",\"Texas\"],\"xaxis\":\"x\",\"y\":[0.25773195876288657,0.2755102040816326,0.35416666666666663,0.38144329896907214,0.41666666666666663,0.30612244897959184,0.3571428571428571,0.3711340206185567,0.3571428571428571,0.326530612244898,0.3232323232323232,0.326530612244898,0.5157894736842106,0.43434343434343436,0.5520833333333333,0.4787234042553191,0.41237113402061853],\"yaxis\":\"y\",\"type\":\"bar\"},{\"alignmentgroup\":\"True\",\"hovertemplate\":\"Party=Republican\\u003cbr\\u003eYear=2012\\u003cbr\\u003eAge Group=30-44\\u003cbr\\u003e=%{x}\\u003cbr\\u003eVote Share=%{y}\\u003cextra\\u003e\\u003c\\u002fextra\\u003e\",\"legendgroup\":\"Republican\",\"marker\":{\"color\":\"#EF553B\",\"pattern\":{\"shape\":\"\"}},\"name\":\"Republican\",\"offsetgroup\":\"Republican\",\"orientation\":\"v\",\"showlegend\":false,\"textposition\":\"auto\",\"x\":[\"New York\",\"California\",\"New Hampshire\",\"Wisconsin\",\"Iowa\",\"Nevada\",\"Pennsylvania\",\"Virginia\",\"Ohio\",\"Florida\",\"North Carolina\",\"Arizona\",\"Indiana\",\"Georgia\",\"South Carolina\",\"Kentucky\",\"Texas\"],\"xaxis\":\"x2\",\"y\":[0.37755102040816324,0.375,0.5102040816326531,0.48484848484848486,0.4747474747474747,0.4375,0.4387755102040817,0.44897959183673475,0.4742268041237113,0.4693877551020408,0.48484848484848486,0.5773195876288659,0.5051546391752577,0.44897959183673475,0.4897959183673469,0.5612244897959184,0.5],\"yaxis\":\"y2\",\"type\":\"bar\"},{\"alignmentgroup\":\"True\",\"hovertemplate\":\"Party=Republican\\u003cbr\\u003eYear=2012\\u003cbr\\u003eAge Group=45-64\\u003cbr\\u003e=%{x}\\u003cbr\\u003eVote Share=%{y}\\u003cextra\\u003e\\u003c\\u002fextra\\u003e\",\"legendgroup\":\"Republican\",\"marker\":{\"color\":\"#EF553B\",\"pattern\":{\"shape\":\"\"}},\"name\":\"Republican\",\"offsetgroup\":\"Republican\",\"orientation\":\"v\",\"showlegend\":false,\"textposition\":\"auto\",\"x\":[\"New York\",\"California\",\"New Hampshire\",\"Wisconsin\",\"Iowa\",\"Nevada\",\"Pennsylvania\",\"Virginia\",\"Ohio\",\"Florida\",\"North Carolina\",\"Arizona\",\"Indiana\",\"Georgia\",\"South Carolina\",\"Kentucky\",\"Texas\"],\"xaxis\":\"x3\",\"y\":[0.38383838383838387,0.46464646464646464,0.505050505050505,0.48484848484848486,0.4693877551020408,0.5,0.5151515151515151,0.5353535353535354,0.5204081632653061,0.52,0.53,0.5656565656565656,0.56,0.5353535353535354,0.5757575757575757,0.7244897959183674,0.5555555555555556],\"yaxis\":\"y3\",\"type\":\"bar\"}],\"name\":\"2012\"},{\"data\":[{\"alignmentgroup\":\"True\",\"hovertemplate\":\"Party=Democrat\\u003cbr\\u003eYear=2016\\u003cbr\\u003eAge Group=18-29\\u003cbr\\u003e=%{x}\\u003cbr\\u003eVote Share=%{y}\\u003cextra\\u003e\\u003c\\u002fextra\\u003e\",\"legendgroup\":\"Democrat\",\"marker\":{\"color\":\"#636efa\",\"pattern\":{\"shape\":\"\"}},\"name\":\"Democrat\",\"offsetgroup\":\"Democrat\",\"orientation\":\"v\",\"showlegend\":true,\"textposition\":\"auto\",\"x\":[\"New York\",\"California\",\"New Hampshire\",\"Wisconsin\",\"Iowa\",\"Nevada\",\"Pennsylvania\",\"Virginia\",\"Ohio\",\"Florida\",\"North Carolina\",\"Arizona\",\"Indiana\",\"Georgia\",\"South Carolina\",\"Kentucky\",\"Texas\"],\"xaxis\":\"x\",\"y\":[0.7473684210526316,0.7415730337078652,0.5444444444444444,0.5164835164835165,0.4666666666666667,0.5977011494252874,0.5473684210526316,0.6,0.5483870967741935,0.6,0.6195652173913043,0.6067415730337079,0.5,0.65625,0.5,0.3655913978494624,0.6043956043956044],\"yaxis\":\"y\",\"type\":\"bar\"},{\"alignmentgroup\":\"True\",\"hovertemplate\":\"Party=Democrat\\u003cbr\\u003eYear=2016\\u003cbr\\u003eAge Group=30-44\\u003cbr\\u003e=%{x}\\u003cbr\\u003eVote Share=%{y}\\u003cextra\\u003e\\u003c\\u002fextra\\u003e\",\"legendgroup\":\"Democrat\",\"marker\":{\"color\":\"#636efa\",\"pattern\":{\"shape\":\"\"}},\"name\":\"Democrat\",\"offsetgroup\":\"Democrat\",\"orientation\":\"v\",\"showlegend\":false,\"textposition\":\"auto\",\"x\":[\"New York\",\"California\",\"New Hampshire\",\"Wisconsin\",\"Iowa\",\"Nevada\",\"Pennsylvania\",\"Virginia\",\"Ohio\",\"Florida\",\"North Carolina\",\"Arizona\",\"Indiana\",\"Georgia\",\"South Carolina\",\"Kentucky\",\"Texas\"],\"xaxis\":\"x2\",\"y\":[0.65625,0.7127659574468085,0.5222222222222223,0.5978260869565217,0.4222222222222222,0.5652173913043478,0.5578947368421052,0.5698924731182796,0.45161290322580644,0.5806451612903226,0.5157894736842106,0.5340909090909091,0.39361702127659576,0.5368421052631579,0.4631578947368421,0.30526315789473685,0.4838709677419355],\"yaxis\":\"y2\",\"type\":\"bar\"},{\"alignmentgroup\":\"True\",\"hovertemplate\":\"Party=Democrat\\u003cbr\\u003eYear=2016\\u003cbr\\u003eAge Group=45-64\\u003cbr\\u003e=%{x}\\u003cbr\\u003eVote Share=%{y}\\u003cextra\\u003e\\u003c\\u002fextra\\u003e\",\"legendgroup\":\"Democrat\",\"marker\":{\"color\":\"#636efa\",\"pattern\":{\"shape\":\"\"}},\"name\":\"Democrat\",\"offsetgroup\":\"Democrat\",\"orientation\":\"v\",\"showlegend\":false,\"textposition\":\"auto\",\"x\":[\"New York\",\"California\",\"New Hampshire\",\"Wisconsin\",\"Iowa\",\"Nevada\",\"Pennsylvania\",\"Virginia\",\"Ohio\",\"Florida\",\"North Carolina\",\"Arizona\",\"Indiana\",\"Georgia\",\"South Carolina\",\"Kentucky\",\"Texas\"],\"xaxis\":\"x3\",\"y\":[0.5520833333333334,0.59375,0.4742268041237113,0.422680412371134,0.4479166666666667,0.425531914893617,0.4639175257731959,0.4845360824742268,0.4166666666666667,0.43434343434343436,0.4387755102040816,0.43157894736842106,0.35051546391752575,0.41836734693877553,0.37373737373737376,0.34375,0.3979591836734694],\"yaxis\":\"y3\",\"type\":\"bar\"},{\"alignmentgroup\":\"True\",\"hovertemplate\":\"Party=Republican\\u003cbr\\u003eYear=2016\\u003cbr\\u003eAge Group=18-29\\u003cbr\\u003e=%{x}\\u003cbr\\u003eVote Share=%{y}\\u003cextra\\u003e\\u003c\\u002fextra\\u003e\",\"legendgroup\":\"Republican\",\"marker\":{\"color\":\"#EF553B\",\"pattern\":{\"shape\":\"\"}},\"name\":\"Republican\",\"offsetgroup\":\"Republican\",\"orientation\":\"v\",\"showlegend\":true,\"textposition\":\"auto\",\"x\":[\"New York\",\"California\",\"New Hampshire\",\"Wisconsin\",\"Iowa\",\"Nevada\",\"Pennsylvania\",\"Virginia\",\"Ohio\",\"Florida\",\"North Carolina\",\"Arizona\",\"Indiana\",\"Georgia\",\"South Carolina\",\"Kentucky\",\"Texas\"],\"xaxis\":\"x\",\"y\":[0.25263157894736843,0.2584269662921348,0.4555555555555556,0.48351648351648346,0.5333333333333333,0.4022988505747126,0.4526315789473684,0.4,0.4516129032258065,0.4,0.3804347826086957,0.3932584269662921,0.5,0.34375,0.5,0.6344086021505376,0.39560439560439564],\"yaxis\":\"y\",\"type\":\"bar\"},{\"alignmentgroup\":\"True\",\"hovertemplate\":\"Party=Republican\\u003cbr\\u003eYear=2016\\u003cbr\\u003eAge Group=30-44\\u003cbr\\u003e=%{x}\\u003cbr\\u003eVote Share=%{y}\\u003cextra\\u003e\\u003c\\u002fextra\\u003e\",\"legendgroup\":\"Republican\",\"marker\":{\"color\":\"#EF553B\",\"pattern\":{\"shape\":\"\"}},\"name\":\"Republican\",\"offsetgroup\":\"Republican\",\"orientation\":\"v\",\"showlegend\":false,\"textposition\":\"auto\",\"x\":[\"New York\",\"California\",\"New Hampshire\",\"Wisconsin\",\"Iowa\",\"Nevada\",\"Pennsylvania\",\"Virginia\",\"Ohio\",\"Florida\",\"North Carolina\",\"Arizona\",\"Indiana\",\"Georgia\",\"South Carolina\",\"Kentucky\",\"Texas\"],\"xaxis\":\"x2\",\"y\":[0.34375,0.2872340425531915,0.47777777777777775,0.40217391304347827,0.5777777777777777,0.4347826086956522,0.4421052631578948,0.4301075268817204,0.5483870967741935,0.4193548387096774,0.4842105263157894,0.46590909090909094,0.6063829787234043,0.4631578947368421,0.5368421052631579,0.6947368421052631,0.5161290322580645],\"yaxis\":\"y2\",\"type\":\"bar\"},{\"alignmentgroup\":\"True\",\"hovertemplate\":\"Party=Republican\\u003cbr\\u003eYear=2016\\u003cbr\\u003eAge Group=45-64\\u003cbr\\u003e=%{x}\\u003cbr\\u003eVote Share=%{y}\\u003cextra\\u003e\\u003c\\u002fextra\\u003e\",\"legendgroup\":\"Republican\",\"marker\":{\"color\":\"#EF553B\",\"pattern\":{\"shape\":\"\"}},\"name\":\"Republican\",\"offsetgroup\":\"Republican\",\"orientation\":\"v\",\"showlegend\":false,\"textposition\":\"auto\",\"x\":[\"New York\",\"California\",\"New Hampshire\",\"Wisconsin\",\"Iowa\",\"Nevada\",\"Pennsylvania\",\"Virginia\",\"Ohio\",\"Florida\",\"North Carolina\",\"Arizona\",\"Indiana\",\"Georgia\",\"South Carolina\",\"Kentucky\",\"Texas\"],\"xaxis\":\"x3\",\"y\":[0.44791666666666663,0.40625,0.5257731958762887,0.5773195876288659,0.5520833333333333,0.574468085106383,0.5360824742268041,0.5154639175257731,0.5833333333333333,0.5656565656565656,0.5612244897959184,0.5684210526315789,0.6494845360824743,0.5816326530612245,0.6262626262626263,0.65625,0.6020408163265306],\"yaxis\":\"y3\",\"type\":\"bar\"}],\"name\":\"2016\"}]);\n",
       "                        }).then(function(){\n",
       "                            \n",
       "var gd = document.getElementById('ca9f4fba-c56f-4e23-8b7e-a82aebc0d1aa');\n",
       "var x = new MutationObserver(function (mutations, observer) {{\n",
       "        var display = window.getComputedStyle(gd).display;\n",
       "        if (!display || display === 'none') {{\n",
       "            console.log([gd, 'removed!']);\n",
       "            Plotly.purge(gd);\n",
       "            observer.disconnect();\n",
       "        }}\n",
       "}});\n",
       "\n",
       "// Listen for the removal of the full notebook cells\n",
       "var notebookContainer = gd.closest('#notebook-container');\n",
       "if (notebookContainer) {{\n",
       "    x.observe(notebookContainer, {childList: true});\n",
       "}}\n",
       "\n",
       "// Listen for the clearing of the current output cell\n",
       "var outputEl = gd.closest('.output');\n",
       "if (outputEl) {{\n",
       "    x.observe(outputEl, {childList: true});\n",
       "}}\n",
       "\n",
       "                        })                };                });            </script>        </div>"
      ]
     },
     "metadata": {},
     "output_type": "display_data"
    }
   ],
   "execution_count": 19
  },
  {
   "cell_type": "markdown",
   "metadata": {},
   "source": [
    "### For all the years (interpolated data)"
   ]
  },
  {
   "cell_type": "code",
   "metadata": {
    "ExecuteTime": {
     "end_time": "2024-12-20T16:58:23.774678Z",
     "start_time": "2024-12-20T16:58:23.154025Z"
    }
   },
   "source": [
    "interpolated_data_reshaped = correlations.reshape_data(interpolate_data, years, age_groups)\n",
    "plot_state_map.plot_vote_distribution(interpolated_data_reshaped, age_groups)"
   ],
   "outputs": [
    {
     "data": {
      "application/vnd.plotly.v1+json": {
       "data": [
        {
         "alignmentgroup": "True",
         "hovertemplate": "Party=Democrat<br>Year=2004<br>Age Group=18-29<br>=%{x}<br>Vote Share=%{y}<extra></extra>",
         "legendgroup": "Democrat",
         "marker": {
          "color": "#636efa",
          "pattern": {
           "shape": ""
          }
         },
         "name": "Democrat",
         "offsetgroup": "Democrat",
         "orientation": "v",
         "showlegend": true,
         "textposition": "auto",
         "x": [
          "New York",
          "California",
          "New Hampshire",
          "Wisconsin",
          "Iowa",
          "Nevada",
          "Pennsylvania",
          "Virginia",
          "Ohio",
          "Florida",
          "North Carolina",
          "Arizona",
          "Indiana",
          "Georgia",
          "South Carolina",
          "Kentucky",
          "Texas"
         ],
         "xaxis": "x",
         "y": [
          0.7422680412371134,
          0.5979381443298969,
          0.57,
          0.5816326530612245,
          0.5353535353535354,
          0.5714285714285714,
          0.6060606060606061,
          0.54,
          0.5714285714285714,
          0.5858585858585859,
          0.5656565656565656,
          0.4897959183673469,
          0.47474747474747475,
          0.494949494949495,
          0.5757575757575758,
          0.53,
          0.5656565656565656
         ],
         "yaxis": "y",
         "type": "bar"
        },
        {
         "alignmentgroup": "True",
         "hovertemplate": "Party=Democrat<br>Year=2004<br>Age Group=30-44<br>=%{x}<br>Vote Share=%{y}<extra></extra>",
         "legendgroup": "Democrat",
         "marker": {
          "color": "#636efa",
          "pattern": {
           "shape": ""
          }
         },
         "name": "Democrat",
         "offsetgroup": "Democrat",
         "orientation": "v",
         "showlegend": false,
         "textposition": "auto",
         "x": [
          "New York",
          "California",
          "New Hampshire",
          "Wisconsin",
          "Iowa",
          "Nevada",
          "Pennsylvania",
          "Virginia",
          "Ohio",
          "Florida",
          "North Carolina",
          "Arizona",
          "Indiana",
          "Georgia",
          "South Carolina",
          "Kentucky",
          "Texas"
         ],
         "xaxis": "x2",
         "y": [
          0.61,
          0.5306122448979592,
          0.45918367346938777,
          0.44,
          0.4444444444444444,
          0.47959183673469385,
          0.48484848484848486,
          0.40404040404040403,
          0.47474747474747475,
          0.46464646464646464,
          0.37755102040816324,
          0.3838383838383838,
          0.3333333333333333,
          0.58,
          0.55,
          0.44329896907216493,
          0.4897959183673469
         ],
         "yaxis": "y2",
         "type": "bar"
        },
        {
         "alignmentgroup": "True",
         "hovertemplate": "Party=Democrat<br>Year=2004<br>Age Group=45-64<br>=%{x}<br>Vote Share=%{y}<extra></extra>",
         "legendgroup": "Democrat",
         "marker": {
          "color": "#636efa",
          "pattern": {
           "shape": ""
          }
         },
         "name": "Democrat",
         "offsetgroup": "Democrat",
         "orientation": "v",
         "showlegend": false,
         "textposition": "auto",
         "x": [
          "New York",
          "California",
          "New Hampshire",
          "Wisconsin",
          "Iowa",
          "Nevada",
          "Pennsylvania",
          "Virginia",
          "Ohio",
          "Florida",
          "North Carolina",
          "Arizona",
          "Indiana",
          "Georgia",
          "South Carolina",
          "Kentucky",
          "Texas"
         ],
         "xaxis": "x3",
         "y": [
          0.5252525252525253,
          0.6122448979591837,
          0.5151515151515151,
          0.5050505050505051,
          0.494949494949495,
          0.46464646464646464,
          0.48,
          0.45,
          0.48,
          0.42424242424242425,
          1.0,
          0.4329896907216495,
          0.42424242424242425,
          0.44,
          0.41,
          0.39,
          0.43434343434343436
         ],
         "yaxis": "y3",
         "type": "bar"
        },
        {
         "alignmentgroup": "True",
         "hovertemplate": "Party=Republican<br>Year=2004<br>Age Group=18-29<br>=%{x}<br>Vote Share=%{y}<extra></extra>",
         "legendgroup": "Republican",
         "marker": {
          "color": "#EF553B",
          "pattern": {
           "shape": ""
          }
         },
         "name": "Republican",
         "offsetgroup": "Republican",
         "orientation": "v",
         "showlegend": true,
         "textposition": "auto",
         "x": [
          "New York",
          "California",
          "New Hampshire",
          "Wisconsin",
          "Iowa",
          "Nevada",
          "Pennsylvania",
          "Virginia",
          "Ohio",
          "Florida",
          "North Carolina",
          "Arizona",
          "Indiana",
          "Georgia",
          "South Carolina",
          "Kentucky",
          "Texas"
         ],
         "xaxis": "x",
         "y": [
          0.25773195876288657,
          0.4020618556701031,
          0.43000000000000005,
          0.41836734693877553,
          0.46464646464646464,
          0.4285714285714286,
          0.3939393939393939,
          0.45999999999999996,
          0.4285714285714286,
          0.41414141414141414,
          0.43434343434343436,
          0.5102040816326531,
          0.5252525252525253,
          0.505050505050505,
          0.4242424242424242,
          0.47,
          0.43434343434343436
         ],
         "yaxis": "y",
         "type": "bar"
        },
        {
         "alignmentgroup": "True",
         "hovertemplate": "Party=Republican<br>Year=2004<br>Age Group=30-44<br>=%{x}<br>Vote Share=%{y}<extra></extra>",
         "legendgroup": "Republican",
         "marker": {
          "color": "#EF553B",
          "pattern": {
           "shape": ""
          }
         },
         "name": "Republican",
         "offsetgroup": "Republican",
         "orientation": "v",
         "showlegend": false,
         "textposition": "auto",
         "x": [
          "New York",
          "California",
          "New Hampshire",
          "Wisconsin",
          "Iowa",
          "Nevada",
          "Pennsylvania",
          "Virginia",
          "Ohio",
          "Florida",
          "North Carolina",
          "Arizona",
          "Indiana",
          "Georgia",
          "South Carolina",
          "Kentucky",
          "Texas"
         ],
         "xaxis": "x2",
         "y": [
          0.39,
          0.4693877551020408,
          0.5408163265306123,
          0.56,
          0.5555555555555556,
          0.5204081632653061,
          0.5151515151515151,
          0.595959595959596,
          0.5252525252525253,
          0.5353535353535354,
          0.6224489795918368,
          0.6161616161616161,
          0.6666666666666667,
          0.42000000000000004,
          0.44999999999999996,
          0.5567010309278351,
          0.5102040816326531
         ],
         "yaxis": "y2",
         "type": "bar"
        },
        {
         "alignmentgroup": "True",
         "hovertemplate": "Party=Republican<br>Year=2004<br>Age Group=45-64<br>=%{x}<br>Vote Share=%{y}<extra></extra>",
         "legendgroup": "Republican",
         "marker": {
          "color": "#EF553B",
          "pattern": {
           "shape": ""
          }
         },
         "name": "Republican",
         "offsetgroup": "Republican",
         "orientation": "v",
         "showlegend": false,
         "textposition": "auto",
         "x": [
          "New York",
          "California",
          "New Hampshire",
          "Wisconsin",
          "Iowa",
          "Nevada",
          "Pennsylvania",
          "Virginia",
          "Ohio",
          "Florida",
          "North Carolina",
          "Arizona",
          "Indiana",
          "Georgia",
          "South Carolina",
          "Kentucky",
          "Texas"
         ],
         "xaxis": "x3",
         "y": [
          0.4747474747474747,
          0.3877551020408163,
          0.48484848484848486,
          0.4949494949494949,
          0.505050505050505,
          0.5353535353535354,
          0.52,
          0.55,
          0.52,
          0.5757575757575757,
          0.0,
          0.5670103092783505,
          0.5757575757575757,
          0.56,
          0.5900000000000001,
          0.61,
          0.5656565656565656
         ],
         "yaxis": "y3",
         "type": "bar"
        }
       ],
       "layout": {
        "template": {
         "data": {
          "histogram2dcontour": [
           {
            "type": "histogram2dcontour",
            "colorbar": {
             "outlinewidth": 0,
             "ticks": ""
            },
            "colorscale": [
             [
              0.0,
              "#0d0887"
             ],
             [
              0.1111111111111111,
              "#46039f"
             ],
             [
              0.2222222222222222,
              "#7201a8"
             ],
             [
              0.3333333333333333,
              "#9c179e"
             ],
             [
              0.4444444444444444,
              "#bd3786"
             ],
             [
              0.5555555555555556,
              "#d8576b"
             ],
             [
              0.6666666666666666,
              "#ed7953"
             ],
             [
              0.7777777777777778,
              "#fb9f3a"
             ],
             [
              0.8888888888888888,
              "#fdca26"
             ],
             [
              1.0,
              "#f0f921"
             ]
            ]
           }
          ],
          "choropleth": [
           {
            "type": "choropleth",
            "colorbar": {
             "outlinewidth": 0,
             "ticks": ""
            }
           }
          ],
          "histogram2d": [
           {
            "type": "histogram2d",
            "colorbar": {
             "outlinewidth": 0,
             "ticks": ""
            },
            "colorscale": [
             [
              0.0,
              "#0d0887"
             ],
             [
              0.1111111111111111,
              "#46039f"
             ],
             [
              0.2222222222222222,
              "#7201a8"
             ],
             [
              0.3333333333333333,
              "#9c179e"
             ],
             [
              0.4444444444444444,
              "#bd3786"
             ],
             [
              0.5555555555555556,
              "#d8576b"
             ],
             [
              0.6666666666666666,
              "#ed7953"
             ],
             [
              0.7777777777777778,
              "#fb9f3a"
             ],
             [
              0.8888888888888888,
              "#fdca26"
             ],
             [
              1.0,
              "#f0f921"
             ]
            ]
           }
          ],
          "heatmap": [
           {
            "type": "heatmap",
            "colorbar": {
             "outlinewidth": 0,
             "ticks": ""
            },
            "colorscale": [
             [
              0.0,
              "#0d0887"
             ],
             [
              0.1111111111111111,
              "#46039f"
             ],
             [
              0.2222222222222222,
              "#7201a8"
             ],
             [
              0.3333333333333333,
              "#9c179e"
             ],
             [
              0.4444444444444444,
              "#bd3786"
             ],
             [
              0.5555555555555556,
              "#d8576b"
             ],
             [
              0.6666666666666666,
              "#ed7953"
             ],
             [
              0.7777777777777778,
              "#fb9f3a"
             ],
             [
              0.8888888888888888,
              "#fdca26"
             ],
             [
              1.0,
              "#f0f921"
             ]
            ]
           }
          ],
          "heatmapgl": [
           {
            "type": "heatmapgl",
            "colorbar": {
             "outlinewidth": 0,
             "ticks": ""
            },
            "colorscale": [
             [
              0.0,
              "#0d0887"
             ],
             [
              0.1111111111111111,
              "#46039f"
             ],
             [
              0.2222222222222222,
              "#7201a8"
             ],
             [
              0.3333333333333333,
              "#9c179e"
             ],
             [
              0.4444444444444444,
              "#bd3786"
             ],
             [
              0.5555555555555556,
              "#d8576b"
             ],
             [
              0.6666666666666666,
              "#ed7953"
             ],
             [
              0.7777777777777778,
              "#fb9f3a"
             ],
             [
              0.8888888888888888,
              "#fdca26"
             ],
             [
              1.0,
              "#f0f921"
             ]
            ]
           }
          ],
          "contourcarpet": [
           {
            "type": "contourcarpet",
            "colorbar": {
             "outlinewidth": 0,
             "ticks": ""
            }
           }
          ],
          "contour": [
           {
            "type": "contour",
            "colorbar": {
             "outlinewidth": 0,
             "ticks": ""
            },
            "colorscale": [
             [
              0.0,
              "#0d0887"
             ],
             [
              0.1111111111111111,
              "#46039f"
             ],
             [
              0.2222222222222222,
              "#7201a8"
             ],
             [
              0.3333333333333333,
              "#9c179e"
             ],
             [
              0.4444444444444444,
              "#bd3786"
             ],
             [
              0.5555555555555556,
              "#d8576b"
             ],
             [
              0.6666666666666666,
              "#ed7953"
             ],
             [
              0.7777777777777778,
              "#fb9f3a"
             ],
             [
              0.8888888888888888,
              "#fdca26"
             ],
             [
              1.0,
              "#f0f921"
             ]
            ]
           }
          ],
          "surface": [
           {
            "type": "surface",
            "colorbar": {
             "outlinewidth": 0,
             "ticks": ""
            },
            "colorscale": [
             [
              0.0,
              "#0d0887"
             ],
             [
              0.1111111111111111,
              "#46039f"
             ],
             [
              0.2222222222222222,
              "#7201a8"
             ],
             [
              0.3333333333333333,
              "#9c179e"
             ],
             [
              0.4444444444444444,
              "#bd3786"
             ],
             [
              0.5555555555555556,
              "#d8576b"
             ],
             [
              0.6666666666666666,
              "#ed7953"
             ],
             [
              0.7777777777777778,
              "#fb9f3a"
             ],
             [
              0.8888888888888888,
              "#fdca26"
             ],
             [
              1.0,
              "#f0f921"
             ]
            ]
           }
          ],
          "mesh3d": [
           {
            "type": "mesh3d",
            "colorbar": {
             "outlinewidth": 0,
             "ticks": ""
            }
           }
          ],
          "scatter": [
           {
            "fillpattern": {
             "fillmode": "overlay",
             "size": 10,
             "solidity": 0.2
            },
            "type": "scatter"
           }
          ],
          "parcoords": [
           {
            "type": "parcoords",
            "line": {
             "colorbar": {
              "outlinewidth": 0,
              "ticks": ""
             }
            }
           }
          ],
          "scatterpolargl": [
           {
            "type": "scatterpolargl",
            "marker": {
             "colorbar": {
              "outlinewidth": 0,
              "ticks": ""
             }
            }
           }
          ],
          "bar": [
           {
            "error_x": {
             "color": "#2a3f5f"
            },
            "error_y": {
             "color": "#2a3f5f"
            },
            "marker": {
             "line": {
              "color": "#E5ECF6",
              "width": 0.5
             },
             "pattern": {
              "fillmode": "overlay",
              "size": 10,
              "solidity": 0.2
             }
            },
            "type": "bar"
           }
          ],
          "scattergeo": [
           {
            "type": "scattergeo",
            "marker": {
             "colorbar": {
              "outlinewidth": 0,
              "ticks": ""
             }
            }
           }
          ],
          "scatterpolar": [
           {
            "type": "scatterpolar",
            "marker": {
             "colorbar": {
              "outlinewidth": 0,
              "ticks": ""
             }
            }
           }
          ],
          "histogram": [
           {
            "marker": {
             "pattern": {
              "fillmode": "overlay",
              "size": 10,
              "solidity": 0.2
             }
            },
            "type": "histogram"
           }
          ],
          "scattergl": [
           {
            "type": "scattergl",
            "marker": {
             "colorbar": {
              "outlinewidth": 0,
              "ticks": ""
             }
            }
           }
          ],
          "scatter3d": [
           {
            "type": "scatter3d",
            "line": {
             "colorbar": {
              "outlinewidth": 0,
              "ticks": ""
             }
            },
            "marker": {
             "colorbar": {
              "outlinewidth": 0,
              "ticks": ""
             }
            }
           }
          ],
          "scattermapbox": [
           {
            "type": "scattermapbox",
            "marker": {
             "colorbar": {
              "outlinewidth": 0,
              "ticks": ""
             }
            }
           }
          ],
          "scatterternary": [
           {
            "type": "scatterternary",
            "marker": {
             "colorbar": {
              "outlinewidth": 0,
              "ticks": ""
             }
            }
           }
          ],
          "scattercarpet": [
           {
            "type": "scattercarpet",
            "marker": {
             "colorbar": {
              "outlinewidth": 0,
              "ticks": ""
             }
            }
           }
          ],
          "carpet": [
           {
            "aaxis": {
             "endlinecolor": "#2a3f5f",
             "gridcolor": "white",
             "linecolor": "white",
             "minorgridcolor": "white",
             "startlinecolor": "#2a3f5f"
            },
            "baxis": {
             "endlinecolor": "#2a3f5f",
             "gridcolor": "white",
             "linecolor": "white",
             "minorgridcolor": "white",
             "startlinecolor": "#2a3f5f"
            },
            "type": "carpet"
           }
          ],
          "table": [
           {
            "cells": {
             "fill": {
              "color": "#EBF0F8"
             },
             "line": {
              "color": "white"
             }
            },
            "header": {
             "fill": {
              "color": "#C8D4E3"
             },
             "line": {
              "color": "white"
             }
            },
            "type": "table"
           }
          ],
          "barpolar": [
           {
            "marker": {
             "line": {
              "color": "#E5ECF6",
              "width": 0.5
             },
             "pattern": {
              "fillmode": "overlay",
              "size": 10,
              "solidity": 0.2
             }
            },
            "type": "barpolar"
           }
          ],
          "pie": [
           {
            "automargin": true,
            "type": "pie"
           }
          ]
         },
         "layout": {
          "autotypenumbers": "strict",
          "colorway": [
           "#636efa",
           "#EF553B",
           "#00cc96",
           "#ab63fa",
           "#FFA15A",
           "#19d3f3",
           "#FF6692",
           "#B6E880",
           "#FF97FF",
           "#FECB52"
          ],
          "font": {
           "color": "#2a3f5f"
          },
          "hovermode": "closest",
          "hoverlabel": {
           "align": "left"
          },
          "paper_bgcolor": "white",
          "plot_bgcolor": "#E5ECF6",
          "polar": {
           "bgcolor": "#E5ECF6",
           "angularaxis": {
            "gridcolor": "white",
            "linecolor": "white",
            "ticks": ""
           },
           "radialaxis": {
            "gridcolor": "white",
            "linecolor": "white",
            "ticks": ""
           }
          },
          "ternary": {
           "bgcolor": "#E5ECF6",
           "aaxis": {
            "gridcolor": "white",
            "linecolor": "white",
            "ticks": ""
           },
           "baxis": {
            "gridcolor": "white",
            "linecolor": "white",
            "ticks": ""
           },
           "caxis": {
            "gridcolor": "white",
            "linecolor": "white",
            "ticks": ""
           }
          },
          "coloraxis": {
           "colorbar": {
            "outlinewidth": 0,
            "ticks": ""
           }
          },
          "colorscale": {
           "sequential": [
            [
             0.0,
             "#0d0887"
            ],
            [
             0.1111111111111111,
             "#46039f"
            ],
            [
             0.2222222222222222,
             "#7201a8"
            ],
            [
             0.3333333333333333,
             "#9c179e"
            ],
            [
             0.4444444444444444,
             "#bd3786"
            ],
            [
             0.5555555555555556,
             "#d8576b"
            ],
            [
             0.6666666666666666,
             "#ed7953"
            ],
            [
             0.7777777777777778,
             "#fb9f3a"
            ],
            [
             0.8888888888888888,
             "#fdca26"
            ],
            [
             1.0,
             "#f0f921"
            ]
           ],
           "sequentialminus": [
            [
             0.0,
             "#0d0887"
            ],
            [
             0.1111111111111111,
             "#46039f"
            ],
            [
             0.2222222222222222,
             "#7201a8"
            ],
            [
             0.3333333333333333,
             "#9c179e"
            ],
            [
             0.4444444444444444,
             "#bd3786"
            ],
            [
             0.5555555555555556,
             "#d8576b"
            ],
            [
             0.6666666666666666,
             "#ed7953"
            ],
            [
             0.7777777777777778,
             "#fb9f3a"
            ],
            [
             0.8888888888888888,
             "#fdca26"
            ],
            [
             1.0,
             "#f0f921"
            ]
           ],
           "diverging": [
            [
             0,
             "#8e0152"
            ],
            [
             0.1,
             "#c51b7d"
            ],
            [
             0.2,
             "#de77ae"
            ],
            [
             0.3,
             "#f1b6da"
            ],
            [
             0.4,
             "#fde0ef"
            ],
            [
             0.5,
             "#f7f7f7"
            ],
            [
             0.6,
             "#e6f5d0"
            ],
            [
             0.7,
             "#b8e186"
            ],
            [
             0.8,
             "#7fbc41"
            ],
            [
             0.9,
             "#4d9221"
            ],
            [
             1,
             "#276419"
            ]
           ]
          },
          "xaxis": {
           "gridcolor": "white",
           "linecolor": "white",
           "ticks": "",
           "title": {
            "standoff": 15
           },
           "zerolinecolor": "white",
           "automargin": true,
           "zerolinewidth": 2
          },
          "yaxis": {
           "gridcolor": "white",
           "linecolor": "white",
           "ticks": "",
           "title": {
            "standoff": 15
           },
           "zerolinecolor": "white",
           "automargin": true,
           "zerolinewidth": 2
          },
          "scene": {
           "xaxis": {
            "backgroundcolor": "#E5ECF6",
            "gridcolor": "white",
            "linecolor": "white",
            "showbackground": true,
            "ticks": "",
            "zerolinecolor": "white",
            "gridwidth": 2
           },
           "yaxis": {
            "backgroundcolor": "#E5ECF6",
            "gridcolor": "white",
            "linecolor": "white",
            "showbackground": true,
            "ticks": "",
            "zerolinecolor": "white",
            "gridwidth": 2
           },
           "zaxis": {
            "backgroundcolor": "#E5ECF6",
            "gridcolor": "white",
            "linecolor": "white",
            "showbackground": true,
            "ticks": "",
            "zerolinecolor": "white",
            "gridwidth": 2
           }
          },
          "shapedefaults": {
           "line": {
            "color": "#2a3f5f"
           }
          },
          "annotationdefaults": {
           "arrowcolor": "#2a3f5f",
           "arrowhead": 0,
           "arrowwidth": 1
          },
          "geo": {
           "bgcolor": "white",
           "landcolor": "#E5ECF6",
           "subunitcolor": "white",
           "showland": true,
           "showlakes": true,
           "lakecolor": "white"
          },
          "title": {
           "x": 0.05
          },
          "mapbox": {
           "style": "light"
          }
         }
        },
        "xaxis": {
         "anchor": "y",
         "domain": [
          0.0,
          0.31999999999999995
         ],
         "title": {
          "text": ""
         },
         "tickangle": -45
        },
        "yaxis": {
         "anchor": "x",
         "domain": [
          0.0,
          1.0
         ],
         "title": {
          "text": "Vote Share"
         }
        },
        "xaxis2": {
         "anchor": "y2",
         "domain": [
          0.33999999999999997,
          0.6599999999999999
         ],
         "matches": "x",
         "title": {
          "text": ""
         },
         "tickangle": -45
        },
        "yaxis2": {
         "anchor": "x2",
         "domain": [
          0.0,
          1.0
         ],
         "matches": "y",
         "showticklabels": false
        },
        "xaxis3": {
         "anchor": "y3",
         "domain": [
          0.6799999999999999,
          0.9999999999999999
         ],
         "matches": "x",
         "title": {
          "text": ""
         },
         "tickangle": -45
        },
        "yaxis3": {
         "anchor": "x3",
         "domain": [
          0.0,
          1.0
         ],
         "matches": "y",
         "showticklabels": false
        },
        "annotations": [
         {
          "font": {},
          "showarrow": false,
          "text": "Age Group=18-29",
          "x": 0.15999999999999998,
          "xanchor": "center",
          "xref": "paper",
          "y": 1.0,
          "yanchor": "bottom",
          "yref": "paper"
         },
         {
          "font": {},
          "showarrow": false,
          "text": "Age Group=30-44",
          "x": 0.49999999999999994,
          "xanchor": "center",
          "xref": "paper",
          "y": 1.0,
          "yanchor": "bottom",
          "yref": "paper"
         },
         {
          "font": {},
          "showarrow": false,
          "text": "Age Group=45-64",
          "x": 0.8399999999999999,
          "xanchor": "center",
          "xref": "paper",
          "y": 1.0,
          "yanchor": "bottom",
          "yref": "paper"
         }
        ],
        "legend": {
         "title": {
          "text": "Party"
         },
         "tracegroupgap": 0
        },
        "title": {
         "text": "Vote Distribution by State, Age Group, and Year",
         "x": 0.5
        },
        "barmode": "stack",
        "height": 450,
        "updatemenus": [
         {
          "buttons": [
           {
            "args": [
             null,
             {
              "frame": {
               "duration": 500,
               "redraw": true
              },
              "mode": "immediate",
              "fromcurrent": true,
              "transition": {
               "duration": 500,
               "easing": "linear"
              }
             }
            ],
            "label": "&#9654;",
            "method": "animate"
           },
           {
            "args": [
             [
              null
             ],
             {
              "frame": {
               "duration": 0,
               "redraw": true
              },
              "mode": "immediate",
              "fromcurrent": true,
              "transition": {
               "duration": 0,
               "easing": "linear"
              }
             }
            ],
            "label": "&#9724;",
            "method": "animate"
           }
          ],
          "direction": "left",
          "pad": {
           "r": 10,
           "t": 70
          },
          "showactive": false,
          "type": "buttons",
          "x": 0.1,
          "xanchor": "right",
          "y": 0,
          "yanchor": "top"
         }
        ],
        "sliders": [
         {
          "active": 0,
          "currentvalue": {
           "prefix": "Year="
          },
          "len": 0.9,
          "pad": {
           "b": 10,
           "t": 60
          },
          "steps": [
           {
            "args": [
             [
              "2004"
             ],
             {
              "frame": {
               "duration": 0,
               "redraw": true
              },
              "mode": "immediate",
              "fromcurrent": true,
              "transition": {
               "duration": 0,
               "easing": "linear"
              }
             }
            ],
            "label": "2004",
            "method": "animate"
           },
           {
            "args": [
             [
              "2005"
             ],
             {
              "frame": {
               "duration": 0,
               "redraw": true
              },
              "mode": "immediate",
              "fromcurrent": true,
              "transition": {
               "duration": 0,
               "easing": "linear"
              }
             }
            ],
            "label": "2005",
            "method": "animate"
           },
           {
            "args": [
             [
              "2006"
             ],
             {
              "frame": {
               "duration": 0,
               "redraw": true
              },
              "mode": "immediate",
              "fromcurrent": true,
              "transition": {
               "duration": 0,
               "easing": "linear"
              }
             }
            ],
            "label": "2006",
            "method": "animate"
           },
           {
            "args": [
             [
              "2007"
             ],
             {
              "frame": {
               "duration": 0,
               "redraw": true
              },
              "mode": "immediate",
              "fromcurrent": true,
              "transition": {
               "duration": 0,
               "easing": "linear"
              }
             }
            ],
            "label": "2007",
            "method": "animate"
           },
           {
            "args": [
             [
              "2008"
             ],
             {
              "frame": {
               "duration": 0,
               "redraw": true
              },
              "mode": "immediate",
              "fromcurrent": true,
              "transition": {
               "duration": 0,
               "easing": "linear"
              }
             }
            ],
            "label": "2008",
            "method": "animate"
           },
           {
            "args": [
             [
              "2009"
             ],
             {
              "frame": {
               "duration": 0,
               "redraw": true
              },
              "mode": "immediate",
              "fromcurrent": true,
              "transition": {
               "duration": 0,
               "easing": "linear"
              }
             }
            ],
            "label": "2009",
            "method": "animate"
           },
           {
            "args": [
             [
              "2010"
             ],
             {
              "frame": {
               "duration": 0,
               "redraw": true
              },
              "mode": "immediate",
              "fromcurrent": true,
              "transition": {
               "duration": 0,
               "easing": "linear"
              }
             }
            ],
            "label": "2010",
            "method": "animate"
           },
           {
            "args": [
             [
              "2011"
             ],
             {
              "frame": {
               "duration": 0,
               "redraw": true
              },
              "mode": "immediate",
              "fromcurrent": true,
              "transition": {
               "duration": 0,
               "easing": "linear"
              }
             }
            ],
            "label": "2011",
            "method": "animate"
           },
           {
            "args": [
             [
              "2012"
             ],
             {
              "frame": {
               "duration": 0,
               "redraw": true
              },
              "mode": "immediate",
              "fromcurrent": true,
              "transition": {
               "duration": 0,
               "easing": "linear"
              }
             }
            ],
            "label": "2012",
            "method": "animate"
           },
           {
            "args": [
             [
              "2013"
             ],
             {
              "frame": {
               "duration": 0,
               "redraw": true
              },
              "mode": "immediate",
              "fromcurrent": true,
              "transition": {
               "duration": 0,
               "easing": "linear"
              }
             }
            ],
            "label": "2013",
            "method": "animate"
           },
           {
            "args": [
             [
              "2014"
             ],
             {
              "frame": {
               "duration": 0,
               "redraw": true
              },
              "mode": "immediate",
              "fromcurrent": true,
              "transition": {
               "duration": 0,
               "easing": "linear"
              }
             }
            ],
            "label": "2014",
            "method": "animate"
           },
           {
            "args": [
             [
              "2015"
             ],
             {
              "frame": {
               "duration": 0,
               "redraw": true
              },
              "mode": "immediate",
              "fromcurrent": true,
              "transition": {
               "duration": 0,
               "easing": "linear"
              }
             }
            ],
            "label": "2015",
            "method": "animate"
           },
           {
            "args": [
             [
              "2016"
             ],
             {
              "frame": {
               "duration": 0,
               "redraw": true
              },
              "mode": "immediate",
              "fromcurrent": true,
              "transition": {
               "duration": 0,
               "easing": "linear"
              }
             }
            ],
            "label": "2016",
            "method": "animate"
           }
          ],
          "x": 0.1,
          "xanchor": "left",
          "y": 0,
          "yanchor": "top"
         }
        ],
        "bargap": 0.4
       },
       "frames": [
        {
         "data": [
          {
           "alignmentgroup": "True",
           "hovertemplate": "Party=Democrat<br>Year=2004<br>Age Group=18-29<br>=%{x}<br>Vote Share=%{y}<extra></extra>",
           "legendgroup": "Democrat",
           "marker": {
            "color": "#636efa",
            "pattern": {
             "shape": ""
            }
           },
           "name": "Democrat",
           "offsetgroup": "Democrat",
           "orientation": "v",
           "showlegend": true,
           "textposition": "auto",
           "x": [
            "New York",
            "California",
            "New Hampshire",
            "Wisconsin",
            "Iowa",
            "Nevada",
            "Pennsylvania",
            "Virginia",
            "Ohio",
            "Florida",
            "North Carolina",
            "Arizona",
            "Indiana",
            "Georgia",
            "South Carolina",
            "Kentucky",
            "Texas"
           ],
           "xaxis": "x",
           "y": [
            0.7422680412371134,
            0.5979381443298969,
            0.57,
            0.5816326530612245,
            0.5353535353535354,
            0.5714285714285714,
            0.6060606060606061,
            0.54,
            0.5714285714285714,
            0.5858585858585859,
            0.5656565656565656,
            0.4897959183673469,
            0.47474747474747475,
            0.494949494949495,
            0.5757575757575758,
            0.53,
            0.5656565656565656
           ],
           "yaxis": "y",
           "type": "bar"
          },
          {
           "alignmentgroup": "True",
           "hovertemplate": "Party=Democrat<br>Year=2004<br>Age Group=30-44<br>=%{x}<br>Vote Share=%{y}<extra></extra>",
           "legendgroup": "Democrat",
           "marker": {
            "color": "#636efa",
            "pattern": {
             "shape": ""
            }
           },
           "name": "Democrat",
           "offsetgroup": "Democrat",
           "orientation": "v",
           "showlegend": false,
           "textposition": "auto",
           "x": [
            "New York",
            "California",
            "New Hampshire",
            "Wisconsin",
            "Iowa",
            "Nevada",
            "Pennsylvania",
            "Virginia",
            "Ohio",
            "Florida",
            "North Carolina",
            "Arizona",
            "Indiana",
            "Georgia",
            "South Carolina",
            "Kentucky",
            "Texas"
           ],
           "xaxis": "x2",
           "y": [
            0.61,
            0.5306122448979592,
            0.45918367346938777,
            0.44,
            0.4444444444444444,
            0.47959183673469385,
            0.48484848484848486,
            0.40404040404040403,
            0.47474747474747475,
            0.46464646464646464,
            0.37755102040816324,
            0.3838383838383838,
            0.3333333333333333,
            0.58,
            0.55,
            0.44329896907216493,
            0.4897959183673469
           ],
           "yaxis": "y2",
           "type": "bar"
          },
          {
           "alignmentgroup": "True",
           "hovertemplate": "Party=Democrat<br>Year=2004<br>Age Group=45-64<br>=%{x}<br>Vote Share=%{y}<extra></extra>",
           "legendgroup": "Democrat",
           "marker": {
            "color": "#636efa",
            "pattern": {
             "shape": ""
            }
           },
           "name": "Democrat",
           "offsetgroup": "Democrat",
           "orientation": "v",
           "showlegend": false,
           "textposition": "auto",
           "x": [
            "New York",
            "California",
            "New Hampshire",
            "Wisconsin",
            "Iowa",
            "Nevada",
            "Pennsylvania",
            "Virginia",
            "Ohio",
            "Florida",
            "North Carolina",
            "Arizona",
            "Indiana",
            "Georgia",
            "South Carolina",
            "Kentucky",
            "Texas"
           ],
           "xaxis": "x3",
           "y": [
            0.5252525252525253,
            0.6122448979591837,
            0.5151515151515151,
            0.5050505050505051,
            0.494949494949495,
            0.46464646464646464,
            0.48,
            0.45,
            0.48,
            0.42424242424242425,
            1.0,
            0.4329896907216495,
            0.42424242424242425,
            0.44,
            0.41,
            0.39,
            0.43434343434343436
           ],
           "yaxis": "y3",
           "type": "bar"
          },
          {
           "alignmentgroup": "True",
           "hovertemplate": "Party=Republican<br>Year=2004<br>Age Group=18-29<br>=%{x}<br>Vote Share=%{y}<extra></extra>",
           "legendgroup": "Republican",
           "marker": {
            "color": "#EF553B",
            "pattern": {
             "shape": ""
            }
           },
           "name": "Republican",
           "offsetgroup": "Republican",
           "orientation": "v",
           "showlegend": true,
           "textposition": "auto",
           "x": [
            "New York",
            "California",
            "New Hampshire",
            "Wisconsin",
            "Iowa",
            "Nevada",
            "Pennsylvania",
            "Virginia",
            "Ohio",
            "Florida",
            "North Carolina",
            "Arizona",
            "Indiana",
            "Georgia",
            "South Carolina",
            "Kentucky",
            "Texas"
           ],
           "xaxis": "x",
           "y": [
            0.25773195876288657,
            0.4020618556701031,
            0.43000000000000005,
            0.41836734693877553,
            0.46464646464646464,
            0.4285714285714286,
            0.3939393939393939,
            0.45999999999999996,
            0.4285714285714286,
            0.41414141414141414,
            0.43434343434343436,
            0.5102040816326531,
            0.5252525252525253,
            0.505050505050505,
            0.4242424242424242,
            0.47,
            0.43434343434343436
           ],
           "yaxis": "y",
           "type": "bar"
          },
          {
           "alignmentgroup": "True",
           "hovertemplate": "Party=Republican<br>Year=2004<br>Age Group=30-44<br>=%{x}<br>Vote Share=%{y}<extra></extra>",
           "legendgroup": "Republican",
           "marker": {
            "color": "#EF553B",
            "pattern": {
             "shape": ""
            }
           },
           "name": "Republican",
           "offsetgroup": "Republican",
           "orientation": "v",
           "showlegend": false,
           "textposition": "auto",
           "x": [
            "New York",
            "California",
            "New Hampshire",
            "Wisconsin",
            "Iowa",
            "Nevada",
            "Pennsylvania",
            "Virginia",
            "Ohio",
            "Florida",
            "North Carolina",
            "Arizona",
            "Indiana",
            "Georgia",
            "South Carolina",
            "Kentucky",
            "Texas"
           ],
           "xaxis": "x2",
           "y": [
            0.39,
            0.4693877551020408,
            0.5408163265306123,
            0.56,
            0.5555555555555556,
            0.5204081632653061,
            0.5151515151515151,
            0.595959595959596,
            0.5252525252525253,
            0.5353535353535354,
            0.6224489795918368,
            0.6161616161616161,
            0.6666666666666667,
            0.42000000000000004,
            0.44999999999999996,
            0.5567010309278351,
            0.5102040816326531
           ],
           "yaxis": "y2",
           "type": "bar"
          },
          {
           "alignmentgroup": "True",
           "hovertemplate": "Party=Republican<br>Year=2004<br>Age Group=45-64<br>=%{x}<br>Vote Share=%{y}<extra></extra>",
           "legendgroup": "Republican",
           "marker": {
            "color": "#EF553B",
            "pattern": {
             "shape": ""
            }
           },
           "name": "Republican",
           "offsetgroup": "Republican",
           "orientation": "v",
           "showlegend": false,
           "textposition": "auto",
           "x": [
            "New York",
            "California",
            "New Hampshire",
            "Wisconsin",
            "Iowa",
            "Nevada",
            "Pennsylvania",
            "Virginia",
            "Ohio",
            "Florida",
            "North Carolina",
            "Arizona",
            "Indiana",
            "Georgia",
            "South Carolina",
            "Kentucky",
            "Texas"
           ],
           "xaxis": "x3",
           "y": [
            0.4747474747474747,
            0.3877551020408163,
            0.48484848484848486,
            0.4949494949494949,
            0.505050505050505,
            0.5353535353535354,
            0.52,
            0.55,
            0.52,
            0.5757575757575757,
            0.0,
            0.5670103092783505,
            0.5757575757575757,
            0.56,
            0.5900000000000001,
            0.61,
            0.5656565656565656
           ],
           "yaxis": "y3",
           "type": "bar"
          }
         ],
         "name": "2004"
        },
        {
         "data": [
          {
           "alignmentgroup": "True",
           "hovertemplate": "Party=Democrat<br>Year=2005<br>Age Group=18-29<br>=%{x}<br>Vote Share=%{y}<extra></extra>",
           "legendgroup": "Democrat",
           "marker": {
            "color": "#636efa",
            "pattern": {
             "shape": ""
            }
           },
           "name": "Democrat",
           "offsetgroup": "Democrat",
           "orientation": "v",
           "showlegend": true,
           "textposition": "auto",
           "x": [
            "New York",
            "California",
            "New Hampshire",
            "Wisconsin",
            "Iowa",
            "Nevada",
            "Pennsylvania",
            "Virginia",
            "Ohio",
            "Florida",
            "North Carolina",
            "Arizona",
            "Indiana",
            "Georgia",
            "South Carolina",
            "Kentucky",
            "Texas"
           ],
           "xaxis": "x",
           "y": [
            0.7525773195876289,
            0.6403728001666146,
            0.5831122448979591,
            0.59784065141208,
            0.5587316463605123,
            0.5994897959183674,
            0.6170454545454546,
            0.5565151515151515,
            0.5857879234167893,
            0.5950061842918986,
            0.6092424242424243,
            0.4973469387755102,
            0.5167748917748918,
            0.49242424242424243,
            0.5707070707070707,
            0.5262878787878789,
            0.5606060606060606
           ],
           "yaxis": "y",
           "type": "bar"
          },
          {
           "alignmentgroup": "True",
           "hovertemplate": "Party=Democrat<br>Year=2005<br>Age Group=30-44<br>=%{x}<br>Vote Share=%{y}<extra></extra>",
           "legendgroup": "Democrat",
           "marker": {
            "color": "#636efa",
            "pattern": {
             "shape": ""
            }
           },
           "name": "Democrat",
           "offsetgroup": "Democrat",
           "orientation": "v",
           "showlegend": false,
           "textposition": "auto",
           "x": [
            "New York",
            "California",
            "New Hampshire",
            "Wisconsin",
            "Iowa",
            "Nevada",
            "Pennsylvania",
            "Virginia",
            "Ohio",
            "Florida",
            "North Carolina",
            "Arizona",
            "Indiana",
            "Georgia",
            "South Carolina",
            "Kentucky",
            "Texas"
           ],
           "xaxis": "x2",
           "y": [
            0.61,
            0.5484693877551021,
            0.4731756338899196,
            0.46775510204081633,
            0.45578231292517,
            0.5143330528087524,
            0.4937384044526902,
            0.4331323438466296,
            0.4861626468769326,
            0.4734848484848485,
            0.40316326530612245,
            0.4064354889097157,
            0.3686868686868687,
            0.575,
            0.5475000000000001,
            0.44329896907216493,
            0.4846938775510204
           ],
           "yaxis": "y2",
           "type": "bar"
          },
          {
           "alignmentgroup": "True",
           "hovertemplate": "Party=Democrat<br>Year=2005<br>Age Group=45-64<br>=%{x}<br>Vote Share=%{y}<extra></extra>",
           "legendgroup": "Democrat",
           "marker": {
            "color": "#636efa",
            "pattern": {
             "shape": ""
            }
           },
           "name": "Democrat",
           "offsetgroup": "Democrat",
           "orientation": "v",
           "showlegend": false,
           "textposition": "auto",
           "x": [
            "New York",
            "California",
            "New Hampshire",
            "Wisconsin",
            "Iowa",
            "Nevada",
            "Pennsylvania",
            "Virginia",
            "Ohio",
            "Florida",
            "North Carolina",
            "Arizona",
            "Indiana",
            "Georgia",
            "South Carolina",
            "Kentucky",
            "Texas"
           ],
           "xaxis": "x3",
           "y": [
            0.5429292929292929,
            0.6122448979591837,
            0.5277777777777778,
            0.5227272727272727,
            0.5089672232529375,
            0.47992814745392065,
            0.5003061224489795,
            0.4662878787878788,
            0.49383838383838385,
            0.4494949494949495,
            0.8585858585858586,
            0.4318851251840943,
            0.44191919191919193,
            0.435,
            0.40499999999999997,
            0.39,
            0.4292929292929293
           ],
           "yaxis": "y3",
           "type": "bar"
          },
          {
           "alignmentgroup": "True",
           "hovertemplate": "Party=Republican<br>Year=2005<br>Age Group=18-29<br>=%{x}<br>Vote Share=%{y}<extra></extra>",
           "legendgroup": "Republican",
           "marker": {
            "color": "#EF553B",
            "pattern": {
             "shape": ""
            }
           },
           "name": "Republican",
           "offsetgroup": "Republican",
           "orientation": "v",
           "showlegend": true,
           "textposition": "auto",
           "x": [
            "New York",
            "California",
            "New Hampshire",
            "Wisconsin",
            "Iowa",
            "Nevada",
            "Pennsylvania",
            "Virginia",
            "Ohio",
            "Florida",
            "North Carolina",
            "Arizona",
            "Indiana",
            "Georgia",
            "South Carolina",
            "Kentucky",
            "Texas"
           ],
           "xaxis": "x",
           "y": [
            0.24742268041237114,
            0.3596271998333854,
            0.4168877551020409,
            0.40215934858792,
            0.4412683536394877,
            0.4005102040816326,
            0.38295454545454544,
            0.4434848484848485,
            0.4142120765832107,
            0.40499381570810145,
            0.39075757575757575,
            0.5026530612244898,
            0.4832251082251082,
            0.5075757575757576,
            0.4292929292929293,
            0.47371212121212114,
            0.43939393939393945
           ],
           "yaxis": "y",
           "type": "bar"
          },
          {
           "alignmentgroup": "True",
           "hovertemplate": "Party=Republican<br>Year=2005<br>Age Group=30-44<br>=%{x}<br>Vote Share=%{y}<extra></extra>",
           "legendgroup": "Republican",
           "marker": {
            "color": "#EF553B",
            "pattern": {
             "shape": ""
            }
           },
           "name": "Republican",
           "offsetgroup": "Republican",
           "orientation": "v",
           "showlegend": false,
           "textposition": "auto",
           "x": [
            "New York",
            "California",
            "New Hampshire",
            "Wisconsin",
            "Iowa",
            "Nevada",
            "Pennsylvania",
            "Virginia",
            "Ohio",
            "Florida",
            "North Carolina",
            "Arizona",
            "Indiana",
            "Georgia",
            "South Carolina",
            "Kentucky",
            "Texas"
           ],
           "xaxis": "x2",
           "y": [
            0.39,
            0.4515306122448979,
            0.5268243661100804,
            0.5322448979591836,
            0.54421768707483,
            0.4856669471912476,
            0.5062615955473098,
            0.5668676561533704,
            0.5138373531230673,
            0.5265151515151515,
            0.5968367346938775,
            0.5935645110902843,
            0.6313131313131313,
            0.42500000000000004,
            0.4524999999999999,
            0.5567010309278351,
            0.5153061224489797
           ],
           "yaxis": "y2",
           "type": "bar"
          },
          {
           "alignmentgroup": "True",
           "hovertemplate": "Party=Republican<br>Year=2005<br>Age Group=45-64<br>=%{x}<br>Vote Share=%{y}<extra></extra>",
           "legendgroup": "Republican",
           "marker": {
            "color": "#EF553B",
            "pattern": {
             "shape": ""
            }
           },
           "name": "Republican",
           "offsetgroup": "Republican",
           "orientation": "v",
           "showlegend": false,
           "textposition": "auto",
           "x": [
            "New York",
            "California",
            "New Hampshire",
            "Wisconsin",
            "Iowa",
            "Nevada",
            "Pennsylvania",
            "Virginia",
            "Ohio",
            "Florida",
            "North Carolina",
            "Arizona",
            "Indiana",
            "Georgia",
            "South Carolina",
            "Kentucky",
            "Texas"
           ],
           "xaxis": "x3",
           "y": [
            0.45707070707070707,
            0.3877551020408163,
            0.4722222222222222,
            0.4772727272727273,
            0.49103277674706247,
            0.5200718525460793,
            0.49969387755102046,
            0.5337121212121212,
            0.5061616161616161,
            0.5505050505050505,
            0.14141414141414144,
            0.5681148748159057,
            0.5580808080808081,
            0.565,
            0.595,
            0.61,
            0.5707070707070707
           ],
           "yaxis": "y3",
           "type": "bar"
          }
         ],
         "name": "2005"
        },
        {
         "data": [
          {
           "alignmentgroup": "True",
           "hovertemplate": "Party=Democrat<br>Year=2006<br>Age Group=18-29<br>=%{x}<br>Vote Share=%{y}<extra></extra>",
           "legendgroup": "Democrat",
           "marker": {
            "color": "#636efa",
            "pattern": {
             "shape": ""
            }
           },
           "name": "Democrat",
           "offsetgroup": "Democrat",
           "orientation": "v",
           "showlegend": true,
           "textposition": "auto",
           "x": [
            "New York",
            "California",
            "New Hampshire",
            "Wisconsin",
            "Iowa",
            "Nevada",
            "Pennsylvania",
            "Virginia",
            "Ohio",
            "Florida",
            "North Carolina",
            "Arizona",
            "Indiana",
            "Georgia",
            "South Carolina",
            "Kentucky",
            "Texas"
           ],
           "xaxis": "x",
           "y": [
            0.7628865979381443,
            0.6828074560033323,
            0.5962244897959184,
            0.6140486497629355,
            0.5821097573674894,
            0.6275510204081632,
            0.628030303030303,
            0.573030303030303,
            0.6001472754050073,
            0.6041537827252113,
            0.6528282828282828,
            0.5048979591836735,
            0.5588023088023089,
            0.48989898989898994,
            0.5656565656565657,
            0.5225757575757576,
            0.5555555555555556
           ],
           "yaxis": "y",
           "type": "bar"
          },
          {
           "alignmentgroup": "True",
           "hovertemplate": "Party=Democrat<br>Year=2006<br>Age Group=30-44<br>=%{x}<br>Vote Share=%{y}<extra></extra>",
           "legendgroup": "Democrat",
           "marker": {
            "color": "#636efa",
            "pattern": {
             "shape": ""
            }
           },
           "name": "Democrat",
           "offsetgroup": "Democrat",
           "orientation": "v",
           "showlegend": false,
           "textposition": "auto",
           "x": [
            "New York",
            "California",
            "New Hampshire",
            "Wisconsin",
            "Iowa",
            "Nevada",
            "Pennsylvania",
            "Virginia",
            "Ohio",
            "Florida",
            "North Carolina",
            "Arizona",
            "Indiana",
            "Georgia",
            "South Carolina",
            "Kentucky",
            "Texas"
           ],
           "xaxis": "x2",
           "y": [
            0.61,
            0.5663265306122449,
            0.4871675943104514,
            0.4955102040816326,
            0.4671201814058957,
            0.5490742688828109,
            0.5026283240568955,
            0.46222428365285506,
            0.4975778190063904,
            0.4823232323232323,
            0.4287755102040816,
            0.42903259398104754,
            0.40404040404040403,
            0.5700000000000001,
            0.545,
            0.44329896907216493,
            0.47959183673469385
           ],
           "yaxis": "y2",
           "type": "bar"
          },
          {
           "alignmentgroup": "True",
           "hovertemplate": "Party=Democrat<br>Year=2006<br>Age Group=45-64<br>=%{x}<br>Vote Share=%{y}<extra></extra>",
           "legendgroup": "Democrat",
           "marker": {
            "color": "#636efa",
            "pattern": {
             "shape": ""
            }
           },
           "name": "Democrat",
           "offsetgroup": "Democrat",
           "orientation": "v",
           "showlegend": false,
           "textposition": "auto",
           "x": [
            "New York",
            "California",
            "New Hampshire",
            "Wisconsin",
            "Iowa",
            "Nevada",
            "Pennsylvania",
            "Virginia",
            "Ohio",
            "Florida",
            "North Carolina",
            "Arizona",
            "Indiana",
            "Georgia",
            "South Carolina",
            "Kentucky",
            "Texas"
           ],
           "xaxis": "x3",
           "y": [
            0.5606060606060606,
            0.6122448979591837,
            0.5404040404040404,
            0.5404040404040404,
            0.5229849515563801,
            0.49520983026137666,
            0.5206122448979591,
            0.48257575757575755,
            0.5076767676767677,
            0.4747474747474748,
            0.7171717171717171,
            0.43078055964653905,
            0.4595959595959596,
            0.43,
            0.4,
            0.39,
            0.42424242424242425
           ],
           "yaxis": "y3",
           "type": "bar"
          },
          {
           "alignmentgroup": "True",
           "hovertemplate": "Party=Republican<br>Year=2006<br>Age Group=18-29<br>=%{x}<br>Vote Share=%{y}<extra></extra>",
           "legendgroup": "Republican",
           "marker": {
            "color": "#EF553B",
            "pattern": {
             "shape": ""
            }
           },
           "name": "Republican",
           "offsetgroup": "Republican",
           "orientation": "v",
           "showlegend": true,
           "textposition": "auto",
           "x": [
            "New York",
            "California",
            "New Hampshire",
            "Wisconsin",
            "Iowa",
            "Nevada",
            "Pennsylvania",
            "Virginia",
            "Ohio",
            "Florida",
            "North Carolina",
            "Arizona",
            "Indiana",
            "Georgia",
            "South Carolina",
            "Kentucky",
            "Texas"
           ],
           "xaxis": "x",
           "y": [
            0.23711340206185572,
            0.31719254399666774,
            0.40377551020408164,
            0.3859513502370645,
            0.4178902426325106,
            0.37244897959183676,
            0.37196969696969695,
            0.426969696969697,
            0.39985272459499266,
            0.39584621727478875,
            0.34717171717171724,
            0.49510204081632647,
            0.44119769119769114,
            0.51010101010101,
            0.43434343434343425,
            0.4774242424242424,
            0.4444444444444444
           ],
           "yaxis": "y",
           "type": "bar"
          },
          {
           "alignmentgroup": "True",
           "hovertemplate": "Party=Republican<br>Year=2006<br>Age Group=30-44<br>=%{x}<br>Vote Share=%{y}<extra></extra>",
           "legendgroup": "Republican",
           "marker": {
            "color": "#EF553B",
            "pattern": {
             "shape": ""
            }
           },
           "name": "Republican",
           "offsetgroup": "Republican",
           "orientation": "v",
           "showlegend": false,
           "textposition": "auto",
           "x": [
            "New York",
            "California",
            "New Hampshire",
            "Wisconsin",
            "Iowa",
            "Nevada",
            "Pennsylvania",
            "Virginia",
            "Ohio",
            "Florida",
            "North Carolina",
            "Arizona",
            "Indiana",
            "Georgia",
            "South Carolina",
            "Kentucky",
            "Texas"
           ],
           "xaxis": "x2",
           "y": [
            0.39,
            0.4336734693877551,
            0.5128324056895486,
            0.5044897959183674,
            0.5328798185941044,
            0.45092573111718914,
            0.4973716759431045,
            0.5377757163471449,
            0.5024221809936096,
            0.5176767676767677,
            0.5712244897959184,
            0.5709674060189525,
            0.595959595959596,
            0.42999999999999994,
            0.45499999999999996,
            0.5567010309278351,
            0.5204081632653061
           ],
           "yaxis": "y2",
           "type": "bar"
          },
          {
           "alignmentgroup": "True",
           "hovertemplate": "Party=Republican<br>Year=2006<br>Age Group=45-64<br>=%{x}<br>Vote Share=%{y}<extra></extra>",
           "legendgroup": "Republican",
           "marker": {
            "color": "#EF553B",
            "pattern": {
             "shape": ""
            }
           },
           "name": "Republican",
           "offsetgroup": "Republican",
           "orientation": "v",
           "showlegend": false,
           "textposition": "auto",
           "x": [
            "New York",
            "California",
            "New Hampshire",
            "Wisconsin",
            "Iowa",
            "Nevada",
            "Pennsylvania",
            "Virginia",
            "Ohio",
            "Florida",
            "North Carolina",
            "Arizona",
            "Indiana",
            "Georgia",
            "South Carolina",
            "Kentucky",
            "Texas"
           ],
           "xaxis": "x3",
           "y": [
            0.43939393939393945,
            0.3877551020408163,
            0.45959595959595956,
            0.45959595959595956,
            0.47701504844361986,
            0.5047901697386233,
            0.4793877551020409,
            0.5174242424242425,
            0.4923232323232323,
            0.5252525252525252,
            0.2828282828282829,
            0.569219440353461,
            0.5404040404040404,
            0.5700000000000001,
            0.6,
            0.61,
            0.5757575757575757
           ],
           "yaxis": "y3",
           "type": "bar"
          }
         ],
         "name": "2006"
        },
        {
         "data": [
          {
           "alignmentgroup": "True",
           "hovertemplate": "Party=Democrat<br>Year=2007<br>Age Group=18-29<br>=%{x}<br>Vote Share=%{y}<extra></extra>",
           "legendgroup": "Democrat",
           "marker": {
            "color": "#636efa",
            "pattern": {
             "shape": ""
            }
           },
           "name": "Democrat",
           "offsetgroup": "Democrat",
           "orientation": "v",
           "showlegend": true,
           "textposition": "auto",
           "x": [
            "New York",
            "California",
            "New Hampshire",
            "Wisconsin",
            "Iowa",
            "Nevada",
            "Pennsylvania",
            "Virginia",
            "Ohio",
            "Florida",
            "North Carolina",
            "Arizona",
            "Indiana",
            "Georgia",
            "South Carolina",
            "Kentucky",
            "Texas"
           ],
           "xaxis": "x",
           "y": [
            0.7731958762886598,
            0.7252421118400499,
            0.6093367346938776,
            0.630256648113791,
            0.6054878683744663,
            0.6556122448979591,
            0.6390151515151515,
            0.5895454545454546,
            0.6145066273932254,
            0.6133013811585241,
            0.6964141414141414,
            0.5124489795918368,
            0.6008297258297259,
            0.4873737373737374,
            0.5606060606060607,
            0.5188636363636363,
            0.5505050505050505
           ],
           "yaxis": "y",
           "type": "bar"
          },
          {
           "alignmentgroup": "True",
           "hovertemplate": "Party=Democrat<br>Year=2007<br>Age Group=30-44<br>=%{x}<br>Vote Share=%{y}<extra></extra>",
           "legendgroup": "Democrat",
           "marker": {
            "color": "#636efa",
            "pattern": {
             "shape": ""
            }
           },
           "name": "Democrat",
           "offsetgroup": "Democrat",
           "orientation": "v",
           "showlegend": false,
           "textposition": "auto",
           "x": [
            "New York",
            "California",
            "New Hampshire",
            "Wisconsin",
            "Iowa",
            "Nevada",
            "Pennsylvania",
            "Virginia",
            "Ohio",
            "Florida",
            "North Carolina",
            "Arizona",
            "Indiana",
            "Georgia",
            "South Carolina",
            "Kentucky",
            "Texas"
           ],
           "xaxis": "x2",
           "y": [
            0.61,
            0.5841836734693877,
            0.5011595547309833,
            0.5232653061224489,
            0.47845804988662133,
            0.5838154849568693,
            0.5115182436611008,
            0.4913162234590806,
            0.5089929911358483,
            0.49116161616161613,
            0.45438775510204077,
            0.45162969905237943,
            0.4393939393939394,
            0.5650000000000001,
            0.5425,
            0.44329896907216493,
            0.4744897959183674
           ],
           "yaxis": "y2",
           "type": "bar"
          },
          {
           "alignmentgroup": "True",
           "hovertemplate": "Party=Democrat<br>Year=2007<br>Age Group=45-64<br>=%{x}<br>Vote Share=%{y}<extra></extra>",
           "legendgroup": "Democrat",
           "marker": {
            "color": "#636efa",
            "pattern": {
             "shape": ""
            }
           },
           "name": "Democrat",
           "offsetgroup": "Democrat",
           "orientation": "v",
           "showlegend": false,
           "textposition": "auto",
           "x": [
            "New York",
            "California",
            "New Hampshire",
            "Wisconsin",
            "Iowa",
            "Nevada",
            "Pennsylvania",
            "Virginia",
            "Ohio",
            "Florida",
            "North Carolina",
            "Arizona",
            "Indiana",
            "Georgia",
            "South Carolina",
            "Kentucky",
            "Texas"
           ],
           "xaxis": "x3",
           "y": [
            0.5782828282828283,
            0.6122448979591837,
            0.553030303030303,
            0.5580808080808082,
            0.5370026798598226,
            0.5104915130688327,
            0.5409183673469388,
            0.49886363636363634,
            0.5215151515151515,
            0.5,
            0.5757575757575758,
            0.42967599410898377,
            0.4772727272727273,
            0.425,
            0.395,
            0.39,
            0.4191919191919192
           ],
           "yaxis": "y3",
           "type": "bar"
          },
          {
           "alignmentgroup": "True",
           "hovertemplate": "Party=Republican<br>Year=2007<br>Age Group=18-29<br>=%{x}<br>Vote Share=%{y}<extra></extra>",
           "legendgroup": "Republican",
           "marker": {
            "color": "#EF553B",
            "pattern": {
             "shape": ""
            }
           },
           "name": "Republican",
           "offsetgroup": "Republican",
           "orientation": "v",
           "showlegend": true,
           "textposition": "auto",
           "x": [
            "New York",
            "California",
            "New Hampshire",
            "Wisconsin",
            "Iowa",
            "Nevada",
            "Pennsylvania",
            "Virginia",
            "Ohio",
            "Florida",
            "North Carolina",
            "Arizona",
            "Indiana",
            "Georgia",
            "South Carolina",
            "Kentucky",
            "Texas"
           ],
           "xaxis": "x",
           "y": [
            0.22680412371134018,
            0.27475788815995006,
            0.3906632653061224,
            0.369743351886209,
            0.39451213162553367,
            0.3443877551020409,
            0.36098484848484846,
            0.4104545454545454,
            0.38549337260677463,
            0.38669861884147594,
            0.3035858585858586,
            0.4875510204081632,
            0.39917027417027406,
            0.5126262626262625,
            0.43939393939393934,
            0.4811363636363637,
            0.4494949494949495
           ],
           "yaxis": "y",
           "type": "bar"
          },
          {
           "alignmentgroup": "True",
           "hovertemplate": "Party=Republican<br>Year=2007<br>Age Group=30-44<br>=%{x}<br>Vote Share=%{y}<extra></extra>",
           "legendgroup": "Republican",
           "marker": {
            "color": "#EF553B",
            "pattern": {
             "shape": ""
            }
           },
           "name": "Republican",
           "offsetgroup": "Republican",
           "orientation": "v",
           "showlegend": false,
           "textposition": "auto",
           "x": [
            "New York",
            "California",
            "New Hampshire",
            "Wisconsin",
            "Iowa",
            "Nevada",
            "Pennsylvania",
            "Virginia",
            "Ohio",
            "Florida",
            "North Carolina",
            "Arizona",
            "Indiana",
            "Georgia",
            "South Carolina",
            "Kentucky",
            "Texas"
           ],
           "xaxis": "x2",
           "y": [
            0.39,
            0.4158163265306123,
            0.4988404452690167,
            0.4767346938775511,
            0.5215419501133787,
            0.4161845150431307,
            0.48848175633889923,
            0.5086837765409193,
            0.4910070088641517,
            0.5088383838383839,
            0.5456122448979592,
            0.5483703009476206,
            0.5606060606060606,
            0.43499999999999994,
            0.4575,
            0.5567010309278351,
            0.5255102040816326
           ],
           "yaxis": "y2",
           "type": "bar"
          },
          {
           "alignmentgroup": "True",
           "hovertemplate": "Party=Republican<br>Year=2007<br>Age Group=45-64<br>=%{x}<br>Vote Share=%{y}<extra></extra>",
           "legendgroup": "Republican",
           "marker": {
            "color": "#EF553B",
            "pattern": {
             "shape": ""
            }
           },
           "name": "Republican",
           "offsetgroup": "Republican",
           "orientation": "v",
           "showlegend": false,
           "textposition": "auto",
           "x": [
            "New York",
            "California",
            "New Hampshire",
            "Wisconsin",
            "Iowa",
            "Nevada",
            "Pennsylvania",
            "Virginia",
            "Ohio",
            "Florida",
            "North Carolina",
            "Arizona",
            "Indiana",
            "Georgia",
            "South Carolina",
            "Kentucky",
            "Texas"
           ],
           "xaxis": "x3",
           "y": [
            0.4217171717171717,
            0.3877551020408163,
            0.446969696969697,
            0.4419191919191918,
            0.46299732014017736,
            0.48950848693116733,
            0.45908163265306123,
            0.5011363636363637,
            0.4784848484848485,
            0.5,
            0.4242424242424242,
            0.5703240058910162,
            0.5227272727272727,
            0.575,
            0.605,
            0.61,
            0.5808080808080808
           ],
           "yaxis": "y3",
           "type": "bar"
          }
         ],
         "name": "2007"
        },
        {
         "data": [
          {
           "alignmentgroup": "True",
           "hovertemplate": "Party=Democrat<br>Year=2008<br>Age Group=18-29<br>=%{x}<br>Vote Share=%{y}<extra></extra>",
           "legendgroup": "Democrat",
           "marker": {
            "color": "#636efa",
            "pattern": {
             "shape": ""
            }
           },
           "name": "Democrat",
           "offsetgroup": "Democrat",
           "orientation": "v",
           "showlegend": true,
           "textposition": "auto",
           "x": [
            "New York",
            "California",
            "New Hampshire",
            "Wisconsin",
            "Iowa",
            "Nevada",
            "Pennsylvania",
            "Virginia",
            "Ohio",
            "Florida",
            "North Carolina",
            "Arizona",
            "Indiana",
            "Georgia",
            "South Carolina",
            "Kentucky",
            "Texas"
           ],
           "xaxis": "x",
           "y": [
            0.7835051546391752,
            0.7676767676767676,
            0.6224489795918368,
            0.6464646464646465,
            0.6288659793814433,
            0.6836734693877551,
            0.65,
            0.6060606060606061,
            0.6288659793814433,
            0.6224489795918368,
            0.74,
            0.52,
            0.6428571428571429,
            0.48484848484848486,
            0.5555555555555556,
            0.5151515151515151,
            0.5454545454545454
           ],
           "yaxis": "y",
           "type": "bar"
          },
          {
           "alignmentgroup": "True",
           "hovertemplate": "Party=Democrat<br>Year=2008<br>Age Group=30-44<br>=%{x}<br>Vote Share=%{y}<extra></extra>",
           "legendgroup": "Democrat",
           "marker": {
            "color": "#636efa",
            "pattern": {
             "shape": ""
            }
           },
           "name": "Democrat",
           "offsetgroup": "Democrat",
           "orientation": "v",
           "showlegend": false,
           "textposition": "auto",
           "x": [
            "New York",
            "California",
            "New Hampshire",
            "Wisconsin",
            "Iowa",
            "Nevada",
            "Pennsylvania",
            "Virginia",
            "Ohio",
            "Florida",
            "North Carolina",
            "Arizona",
            "Indiana",
            "Georgia",
            "South Carolina",
            "Kentucky",
            "Texas"
           ],
           "xaxis": "x2",
           "y": [
            0.61,
            0.6020408163265306,
            0.5151515151515151,
            0.5510204081632653,
            0.4897959183673469,
            0.6185567010309279,
            0.5204081632653061,
            0.5204081632653061,
            0.5204081632653061,
            0.5,
            0.48,
            0.4742268041237113,
            0.47474747474747475,
            0.56,
            0.54,
            0.44329896907216493,
            0.46938775510204084
           ],
           "yaxis": "y2",
           "type": "bar"
          },
          {
           "alignmentgroup": "True",
           "hovertemplate": "Party=Democrat<br>Year=2008<br>Age Group=45-64<br>=%{x}<br>Vote Share=%{y}<extra></extra>",
           "legendgroup": "Democrat",
           "marker": {
            "color": "#636efa",
            "pattern": {
             "shape": ""
            }
           },
           "name": "Democrat",
           "offsetgroup": "Democrat",
           "orientation": "v",
           "showlegend": false,
           "textposition": "auto",
           "x": [
            "New York",
            "California",
            "New Hampshire",
            "Wisconsin",
            "Iowa",
            "Nevada",
            "Pennsylvania",
            "Virginia",
            "Ohio",
            "Florida",
            "North Carolina",
            "Arizona",
            "Indiana",
            "Georgia",
            "South Carolina",
            "Kentucky",
            "Texas"
           ],
           "xaxis": "x3",
           "y": [
            0.5959595959595959,
            0.6122448979591837,
            0.5656565656565656,
            0.5757575757575758,
            0.5510204081632653,
            0.5257731958762887,
            0.5612244897959183,
            0.5151515151515151,
            0.5353535353535354,
            0.5252525252525253,
            0.43434343434343436,
            0.42857142857142855,
            0.494949494949495,
            0.42,
            0.39,
            0.39,
            0.41414141414141414
           ],
           "yaxis": "y3",
           "type": "bar"
          },
          {
           "alignmentgroup": "True",
           "hovertemplate": "Party=Republican<br>Year=2008<br>Age Group=18-29<br>=%{x}<br>Vote Share=%{y}<extra></extra>",
           "legendgroup": "Republican",
           "marker": {
            "color": "#EF553B",
            "pattern": {
             "shape": ""
            }
           },
           "name": "Republican",
           "offsetgroup": "Republican",
           "orientation": "v",
           "showlegend": true,
           "textposition": "auto",
           "x": [
            "New York",
            "California",
            "New Hampshire",
            "Wisconsin",
            "Iowa",
            "Nevada",
            "Pennsylvania",
            "Virginia",
            "Ohio",
            "Florida",
            "North Carolina",
            "Arizona",
            "Indiana",
            "Georgia",
            "South Carolina",
            "Kentucky",
            "Texas"
           ],
           "xaxis": "x",
           "y": [
            0.21649484536082475,
            0.23232323232323238,
            0.37755102040816324,
            0.3535353535353535,
            0.3711340206185567,
            0.3163265306122449,
            0.35,
            0.3939393939393939,
            0.3711340206185567,
            0.37755102040816324,
            0.26,
            0.48,
            0.3571428571428571,
            0.5151515151515151,
            0.4444444444444444,
            0.48484848484848486,
            0.4545454545454546
           ],
           "yaxis": "y",
           "type": "bar"
          },
          {
           "alignmentgroup": "True",
           "hovertemplate": "Party=Republican<br>Year=2008<br>Age Group=30-44<br>=%{x}<br>Vote Share=%{y}<extra></extra>",
           "legendgroup": "Republican",
           "marker": {
            "color": "#EF553B",
            "pattern": {
             "shape": ""
            }
           },
           "name": "Republican",
           "offsetgroup": "Republican",
           "orientation": "v",
           "showlegend": false,
           "textposition": "auto",
           "x": [
            "New York",
            "California",
            "New Hampshire",
            "Wisconsin",
            "Iowa",
            "Nevada",
            "Pennsylvania",
            "Virginia",
            "Ohio",
            "Florida",
            "North Carolina",
            "Arizona",
            "Indiana",
            "Georgia",
            "South Carolina",
            "Kentucky",
            "Texas"
           ],
           "xaxis": "x2",
           "y": [
            0.39,
            0.3979591836734694,
            0.48484848484848486,
            0.44897959183673475,
            0.5102040816326531,
            0.38144329896907214,
            0.47959183673469385,
            0.47959183673469385,
            0.47959183673469385,
            0.5,
            0.52,
            0.5257731958762887,
            0.5252525252525253,
            0.43999999999999995,
            0.45999999999999996,
            0.5567010309278351,
            0.5306122448979591
           ],
           "yaxis": "y2",
           "type": "bar"
          },
          {
           "alignmentgroup": "True",
           "hovertemplate": "Party=Republican<br>Year=2008<br>Age Group=45-64<br>=%{x}<br>Vote Share=%{y}<extra></extra>",
           "legendgroup": "Republican",
           "marker": {
            "color": "#EF553B",
            "pattern": {
             "shape": ""
            }
           },
           "name": "Republican",
           "offsetgroup": "Republican",
           "orientation": "v",
           "showlegend": false,
           "textposition": "auto",
           "x": [
            "New York",
            "California",
            "New Hampshire",
            "Wisconsin",
            "Iowa",
            "Nevada",
            "Pennsylvania",
            "Virginia",
            "Ohio",
            "Florida",
            "North Carolina",
            "Arizona",
            "Indiana",
            "Georgia",
            "South Carolina",
            "Kentucky",
            "Texas"
           ],
           "xaxis": "x3",
           "y": [
            0.4040404040404041,
            0.3877551020408163,
            0.43434343434343436,
            0.4242424242424242,
            0.44897959183673475,
            0.4742268041237113,
            0.4387755102040817,
            0.48484848484848486,
            0.46464646464646464,
            0.4747474747474747,
            0.5656565656565656,
            0.5714285714285714,
            0.505050505050505,
            0.5800000000000001,
            0.61,
            0.61,
            0.5858585858585859
           ],
           "yaxis": "y3",
           "type": "bar"
          }
         ],
         "name": "2008"
        },
        {
         "data": [
          {
           "alignmentgroup": "True",
           "hovertemplate": "Party=Democrat<br>Year=2009<br>Age Group=18-29<br>=%{x}<br>Vote Share=%{y}<extra></extra>",
           "legendgroup": "Democrat",
           "marker": {
            "color": "#636efa",
            "pattern": {
             "shape": ""
            }
           },
           "name": "Democrat",
           "offsetgroup": "Democrat",
           "orientation": "v",
           "showlegend": true,
           "textposition": "auto",
           "x": [
            "New York",
            "California",
            "New Hampshire",
            "Wisconsin",
            "Iowa",
            "Nevada",
            "Pennsylvania",
            "Virginia",
            "Ohio",
            "Florida",
            "North Carolina",
            "Arizona",
            "Indiana",
            "Georgia",
            "South Carolina",
            "Kentucky",
            "Texas"
           ],
           "xaxis": "x",
           "y": [
            0.7731958762886598,
            0.7568800247371675,
            0.6282950680272109,
            0.6394876601062168,
            0.6174828178694158,
            0.6862244897959183,
            0.6482142857142857,
            0.6117619493908154,
            0.6323637702503682,
            0.6352040816326531,
            0.7241919191919192,
            0.5583673469387755,
            0.6031954887218045,
            0.5050505050505051,
            0.5286458333333334,
            0.5166827852998066,
            0.5559981255857545
           ],
           "yaxis": "y",
           "type": "bar"
          },
          {
           "alignmentgroup": "True",
           "hovertemplate": "Party=Democrat<br>Year=2009<br>Age Group=30-44<br>=%{x}<br>Vote Share=%{y}<extra></extra>",
           "legendgroup": "Democrat",
           "marker": {
            "color": "#636efa",
            "pattern": {
             "shape": ""
            }
           },
           "name": "Democrat",
           "offsetgroup": "Democrat",
           "orientation": "v",
           "showlegend": false,
           "textposition": "auto",
           "x": [
            "New York",
            "California",
            "New Hampshire",
            "Wisconsin",
            "Iowa",
            "Nevada",
            "Pennsylvania",
            "Virginia",
            "Ohio",
            "Florida",
            "North Carolina",
            "Arizona",
            "Indiana",
            "Georgia",
            "South Carolina",
            "Kentucky",
            "Texas"
           ],
           "xaxis": "x2",
           "y": [
            0.6131122448979591,
            0.607780612244898,
            0.5088126159554731,
            0.5420531849103277,
            0.49866007008864155,
            0.6045425257731959,
            0.5306122448979592,
            0.528061224489796,
            0.5217494214180518,
            0.5076530612244898,
            0.48878787878787877,
            0.461340206185567,
            0.47977194626679165,
            0.5577551020408164,
            0.5325510204081633,
            0.4421681043551441,
            0.4770408163265306
           ],
           "yaxis": "y2",
           "type": "bar"
          },
          {
           "alignmentgroup": "True",
           "hovertemplate": "Party=Democrat<br>Year=2009<br>Age Group=45-64<br>=%{x}<br>Vote Share=%{y}<extra></extra>",
           "legendgroup": "Democrat",
           "marker": {
            "color": "#636efa",
            "pattern": {
             "shape": ""
            }
           },
           "name": "Democrat",
           "offsetgroup": "Democrat",
           "orientation": "v",
           "showlegend": false,
           "textposition": "auto",
           "x": [
            "New York",
            "California",
            "New Hampshire",
            "Wisconsin",
            "Iowa",
            "Nevada",
            "Pennsylvania",
            "Virginia",
            "Ohio",
            "Florida",
            "North Carolina",
            "Arizona",
            "Indiana",
            "Georgia",
            "South Carolina",
            "Kentucky",
            "Texas"
           ],
           "xaxis": "x3",
           "y": [
            0.601010101010101,
            0.5930220573077716,
            0.547979797979798,
            0.5606060606060607,
            0.5459183673469388,
            0.5193298969072165,
            0.54213048855906,
            0.5025252525252525,
            0.521413110698825,
            0.5139393939393939,
            0.44325757575757574,
            0.43001443001443,
            0.4812121212121212,
            0.43116161616161613,
            0.39856060606060606,
            0.36137755102040814,
            0.4217171717171717
           ],
           "yaxis": "y3",
           "type": "bar"
          },
          {
           "alignmentgroup": "True",
           "hovertemplate": "Party=Republican<br>Year=2009<br>Age Group=18-29<br>=%{x}<br>Vote Share=%{y}<extra></extra>",
           "legendgroup": "Republican",
           "marker": {
            "color": "#EF553B",
            "pattern": {
             "shape": ""
            }
           },
           "name": "Republican",
           "offsetgroup": "Republican",
           "orientation": "v",
           "showlegend": true,
           "textposition": "auto",
           "x": [
            "New York",
            "California",
            "New Hampshire",
            "Wisconsin",
            "Iowa",
            "Nevada",
            "Pennsylvania",
            "Virginia",
            "Ohio",
            "Florida",
            "North Carolina",
            "Arizona",
            "Indiana",
            "Georgia",
            "South Carolina",
            "Kentucky",
            "Texas"
           ],
           "xaxis": "x",
           "y": [
            0.22680412371134018,
            0.24311997526283247,
            0.3717049319727891,
            0.3605123398937832,
            0.38251718213058417,
            0.3137755102040817,
            0.35178571428571426,
            0.3882380506091846,
            0.36763622974963184,
            0.3647959183673469,
            0.27580808080808084,
            0.44163265306122446,
            0.3968045112781955,
            0.4949494949494949,
            0.47135416666666663,
            0.4833172147001934,
            0.44400187441424555
           ],
           "yaxis": "y",
           "type": "bar"
          },
          {
           "alignmentgroup": "True",
           "hovertemplate": "Party=Republican<br>Year=2009<br>Age Group=30-44<br>=%{x}<br>Vote Share=%{y}<extra></extra>",
           "legendgroup": "Republican",
           "marker": {
            "color": "#EF553B",
            "pattern": {
             "shape": ""
            }
           },
           "name": "Republican",
           "offsetgroup": "Republican",
           "orientation": "v",
           "showlegend": false,
           "textposition": "auto",
           "x": [
            "New York",
            "California",
            "New Hampshire",
            "Wisconsin",
            "Iowa",
            "Nevada",
            "Pennsylvania",
            "Virginia",
            "Ohio",
            "Florida",
            "North Carolina",
            "Arizona",
            "Indiana",
            "Georgia",
            "South Carolina",
            "Kentucky",
            "Texas"
           ],
           "xaxis": "x2",
           "y": [
            0.3868877551020409,
            0.392219387755102,
            0.4911873840445269,
            0.4579468150896723,
            0.5013399299113585,
            0.3954574742268041,
            0.4693877551020408,
            0.471938775510204,
            0.4782505785819482,
            0.49234693877551017,
            0.5112121212121212,
            0.5386597938144331,
            0.5202280537332084,
            0.44224489795918365,
            0.46744897959183673,
            0.5578318956448559,
            0.5229591836734694
           ],
           "yaxis": "y2",
           "type": "bar"
          },
          {
           "alignmentgroup": "True",
           "hovertemplate": "Party=Republican<br>Year=2009<br>Age Group=45-64<br>=%{x}<br>Vote Share=%{y}<extra></extra>",
           "legendgroup": "Republican",
           "marker": {
            "color": "#EF553B",
            "pattern": {
             "shape": ""
            }
           },
           "name": "Republican",
           "offsetgroup": "Republican",
           "orientation": "v",
           "showlegend": false,
           "textposition": "auto",
           "x": [
            "New York",
            "California",
            "New Hampshire",
            "Wisconsin",
            "Iowa",
            "Nevada",
            "Pennsylvania",
            "Virginia",
            "Ohio",
            "Florida",
            "North Carolina",
            "Arizona",
            "Indiana",
            "Georgia",
            "South Carolina",
            "Kentucky",
            "Texas"
           ],
           "xaxis": "x3",
           "y": [
            0.398989898989899,
            0.4069779426922284,
            0.452020202020202,
            0.43939393939393934,
            0.45408163265306123,
            0.48067010309278346,
            0.45786951144094,
            0.4974747474747475,
            0.478586889301175,
            0.4860606060606061,
            0.5567424242424243,
            0.56998556998557,
            0.5187878787878788,
            0.5688383838383839,
            0.6014393939393939,
            0.6386224489795919,
            0.5782828282828283
           ],
           "yaxis": "y3",
           "type": "bar"
          }
         ],
         "name": "2009"
        },
        {
         "data": [
          {
           "alignmentgroup": "True",
           "hovertemplate": "Party=Democrat<br>Year=2010<br>Age Group=18-29<br>=%{x}<br>Vote Share=%{y}<extra></extra>",
           "legendgroup": "Democrat",
           "marker": {
            "color": "#636efa",
            "pattern": {
             "shape": ""
            }
           },
           "name": "Democrat",
           "offsetgroup": "Democrat",
           "orientation": "v",
           "showlegend": true,
           "textposition": "auto",
           "x": [
            "New York",
            "California",
            "New Hampshire",
            "Wisconsin",
            "Iowa",
            "Nevada",
            "Pennsylvania",
            "Virginia",
            "Ohio",
            "Florida",
            "North Carolina",
            "Arizona",
            "Indiana",
            "Georgia",
            "South Carolina",
            "Kentucky",
            "Texas"
           ],
           "xaxis": "x",
           "y": [
            0.7628865979381443,
            0.7460832817975676,
            0.6341411564625851,
            0.6325106737477872,
            0.6060996563573884,
            0.6887755102040816,
            0.6464285714285715,
            0.6174632927210246,
            0.635861561119293,
            0.6479591836734694,
            0.7083838383838383,
            0.5967346938775511,
            0.5635338345864662,
            0.5252525252525253,
            0.5017361111111112,
            0.5182140554480981,
            0.5665417057169635
           ],
           "yaxis": "y",
           "type": "bar"
          },
          {
           "alignmentgroup": "True",
           "hovertemplate": "Party=Democrat<br>Year=2010<br>Age Group=30-44<br>=%{x}<br>Vote Share=%{y}<extra></extra>",
           "legendgroup": "Democrat",
           "marker": {
            "color": "#636efa",
            "pattern": {
             "shape": ""
            }
           },
           "name": "Democrat",
           "offsetgroup": "Democrat",
           "orientation": "v",
           "showlegend": false,
           "textposition": "auto",
           "x": [
            "New York",
            "California",
            "New Hampshire",
            "Wisconsin",
            "Iowa",
            "Nevada",
            "Pennsylvania",
            "Virginia",
            "Ohio",
            "Florida",
            "North Carolina",
            "Arizona",
            "Indiana",
            "Georgia",
            "South Carolina",
            "Kentucky",
            "Texas"
           ],
           "xaxis": "x2",
           "y": [
            0.6162244897959184,
            0.6135204081632653,
            0.5024737167594311,
            0.5330859616573902,
            0.5075242218099361,
            0.5905283505154639,
            0.5408163265306123,
            0.5357142857142857,
            0.5230906795707975,
            0.5153061224489797,
            0.49757575757575756,
            0.44845360824742264,
            0.4847964177861085,
            0.5555102040816327,
            0.5251020408163265,
            0.44103723963812325,
            0.48469387755102045
           ],
           "yaxis": "y2",
           "type": "bar"
          },
          {
           "alignmentgroup": "True",
           "hovertemplate": "Party=Democrat<br>Year=2010<br>Age Group=45-64<br>=%{x}<br>Vote Share=%{y}<extra></extra>",
           "legendgroup": "Democrat",
           "marker": {
            "color": "#636efa",
            "pattern": {
             "shape": ""
            }
           },
           "name": "Democrat",
           "offsetgroup": "Democrat",
           "orientation": "v",
           "showlegend": false,
           "textposition": "auto",
           "x": [
            "New York",
            "California",
            "New Hampshire",
            "Wisconsin",
            "Iowa",
            "Nevada",
            "Pennsylvania",
            "Virginia",
            "Ohio",
            "Florida",
            "North Carolina",
            "Arizona",
            "Indiana",
            "Georgia",
            "South Carolina",
            "Kentucky",
            "Texas"
           ],
           "xaxis": "x3",
           "y": [
            0.606060606060606,
            0.5737992166563595,
            0.5303030303030303,
            0.5454545454545454,
            0.5408163265306123,
            0.5128865979381443,
            0.5230364873222015,
            0.4898989898989899,
            0.5074726860441146,
            0.5026262626262626,
            0.45217171717171717,
            0.43145743145743143,
            0.4674747474747475,
            0.44232323232323234,
            0.4071212121212121,
            0.3327551020408163,
            0.4292929292929293
           ],
           "yaxis": "y3",
           "type": "bar"
          },
          {
           "alignmentgroup": "True",
           "hovertemplate": "Party=Republican<br>Year=2010<br>Age Group=18-29<br>=%{x}<br>Vote Share=%{y}<extra></extra>",
           "legendgroup": "Republican",
           "marker": {
            "color": "#EF553B",
            "pattern": {
             "shape": ""
            }
           },
           "name": "Republican",
           "offsetgroup": "Republican",
           "orientation": "v",
           "showlegend": true,
           "textposition": "auto",
           "x": [
            "New York",
            "California",
            "New Hampshire",
            "Wisconsin",
            "Iowa",
            "Nevada",
            "Pennsylvania",
            "Virginia",
            "Ohio",
            "Florida",
            "North Carolina",
            "Arizona",
            "Indiana",
            "Georgia",
            "South Carolina",
            "Kentucky",
            "Texas"
           ],
           "xaxis": "x",
           "y": [
            0.23711340206185572,
            0.25391671820243245,
            0.36585884353741494,
            0.36748932625221276,
            0.3939003436426116,
            0.31122448979591844,
            0.35357142857142854,
            0.3825367072789754,
            0.36413843888070696,
            0.3520408163265306,
            0.29161616161616166,
            0.40326530612244893,
            0.4364661654135338,
            0.4747474747474747,
            0.49826388888888884,
            0.48178594455190193,
            0.4334582942830365
           ],
           "yaxis": "y",
           "type": "bar"
          },
          {
           "alignmentgroup": "True",
           "hovertemplate": "Party=Republican<br>Year=2010<br>Age Group=30-44<br>=%{x}<br>Vote Share=%{y}<extra></extra>",
           "legendgroup": "Republican",
           "marker": {
            "color": "#EF553B",
            "pattern": {
             "shape": ""
            }
           },
           "name": "Republican",
           "offsetgroup": "Republican",
           "orientation": "v",
           "showlegend": false,
           "textposition": "auto",
           "x": [
            "New York",
            "California",
            "New Hampshire",
            "Wisconsin",
            "Iowa",
            "Nevada",
            "Pennsylvania",
            "Virginia",
            "Ohio",
            "Florida",
            "North Carolina",
            "Arizona",
            "Indiana",
            "Georgia",
            "South Carolina",
            "Kentucky",
            "Texas"
           ],
           "xaxis": "x2",
           "y": [
            0.3837755102040816,
            0.38647959183673475,
            0.4975262832405689,
            0.4669140383426098,
            0.49247577819006394,
            0.40947164948453607,
            0.4591836734693877,
            0.4642857142857143,
            0.47690932042920253,
            0.48469387755102034,
            0.5024242424242424,
            0.5515463917525774,
            0.5152035822138915,
            0.44448979591836735,
            0.4748979591836735,
            0.5589627603618768,
            0.5153061224489796
           ],
           "yaxis": "y2",
           "type": "bar"
          },
          {
           "alignmentgroup": "True",
           "hovertemplate": "Party=Republican<br>Year=2010<br>Age Group=45-64<br>=%{x}<br>Vote Share=%{y}<extra></extra>",
           "legendgroup": "Republican",
           "marker": {
            "color": "#EF553B",
            "pattern": {
             "shape": ""
            }
           },
           "name": "Republican",
           "offsetgroup": "Republican",
           "orientation": "v",
           "showlegend": false,
           "textposition": "auto",
           "x": [
            "New York",
            "California",
            "New Hampshire",
            "Wisconsin",
            "Iowa",
            "Nevada",
            "Pennsylvania",
            "Virginia",
            "Ohio",
            "Florida",
            "North Carolina",
            "Arizona",
            "Indiana",
            "Georgia",
            "South Carolina",
            "Kentucky",
            "Texas"
           ],
           "xaxis": "x3",
           "y": [
            0.39393939393939403,
            0.42620078334364053,
            0.4696969696969697,
            0.4545454545454546,
            0.4591836734693877,
            0.4871134020618557,
            0.47696351267779846,
            0.5101010101010102,
            0.49252731395588545,
            0.49737373737373736,
            0.5478282828282828,
            0.5685425685425686,
            0.5325252525252525,
            0.5576767676767677,
            0.5928787878787879,
            0.6672448979591836,
            0.5707070707070707
           ],
           "yaxis": "y3",
           "type": "bar"
          }
         ],
         "name": "2010"
        },
        {
         "data": [
          {
           "alignmentgroup": "True",
           "hovertemplate": "Party=Democrat<br>Year=2011<br>Age Group=18-29<br>=%{x}<br>Vote Share=%{y}<extra></extra>",
           "legendgroup": "Democrat",
           "marker": {
            "color": "#636efa",
            "pattern": {
             "shape": ""
            }
           },
           "name": "Democrat",
           "offsetgroup": "Democrat",
           "orientation": "v",
           "showlegend": true,
           "textposition": "auto",
           "x": [
            "New York",
            "California",
            "New Hampshire",
            "Wisconsin",
            "Iowa",
            "Nevada",
            "Pennsylvania",
            "Virginia",
            "Ohio",
            "Florida",
            "North Carolina",
            "Arizona",
            "Indiana",
            "Georgia",
            "South Carolina",
            "Kentucky",
            "Texas"
           ],
           "xaxis": "x",
           "y": [
            0.7525773195876289,
            0.7352865388579675,
            0.6399872448979592,
            0.6255336873893576,
            0.5947164948453608,
            0.6913265306122449,
            0.6446428571428572,
            0.623164636051234,
            0.639359351988218,
            0.6607142857142857,
            0.6925757575757576,
            0.6351020408163265,
            0.5238721804511278,
            0.5454545454545454,
            0.4748263888888889,
            0.5197453255963894,
            0.5770852858481724
           ],
           "yaxis": "y",
           "type": "bar"
          },
          {
           "alignmentgroup": "True",
           "hovertemplate": "Party=Democrat<br>Year=2011<br>Age Group=30-44<br>=%{x}<br>Vote Share=%{y}<extra></extra>",
           "legendgroup": "Democrat",
           "marker": {
            "color": "#636efa",
            "pattern": {
             "shape": ""
            }
           },
           "name": "Democrat",
           "offsetgroup": "Democrat",
           "orientation": "v",
           "showlegend": false,
           "textposition": "auto",
           "x": [
            "New York",
            "California",
            "New Hampshire",
            "Wisconsin",
            "Iowa",
            "Nevada",
            "Pennsylvania",
            "Virginia",
            "Ohio",
            "Florida",
            "North Carolina",
            "Arizona",
            "Indiana",
            "Georgia",
            "South Carolina",
            "Kentucky",
            "Texas"
           ],
           "xaxis": "x2",
           "y": [
            0.6193367346938776,
            0.6192602040816326,
            0.49613481756338895,
            0.5241187384044527,
            0.5163883735312307,
            0.576514175257732,
            0.5510204081632653,
            0.5433673469387754,
            0.524431937723543,
            0.5229591836734694,
            0.5063636363636363,
            0.43556701030927836,
            0.4898208893054254,
            0.553265306122449,
            0.5176530612244898,
            0.43990637492110246,
            0.4923469387755102
           ],
           "yaxis": "y2",
           "type": "bar"
          },
          {
           "alignmentgroup": "True",
           "hovertemplate": "Party=Democrat<br>Year=2011<br>Age Group=45-64<br>=%{x}<br>Vote Share=%{y}<extra></extra>",
           "legendgroup": "Democrat",
           "marker": {
            "color": "#636efa",
            "pattern": {
             "shape": ""
            }
           },
           "name": "Democrat",
           "offsetgroup": "Democrat",
           "orientation": "v",
           "showlegend": false,
           "textposition": "auto",
           "x": [
            "New York",
            "California",
            "New Hampshire",
            "Wisconsin",
            "Iowa",
            "Nevada",
            "Pennsylvania",
            "Virginia",
            "Ohio",
            "Florida",
            "North Carolina",
            "Arizona",
            "Indiana",
            "Georgia",
            "South Carolina",
            "Kentucky",
            "Texas"
           ],
           "xaxis": "x3",
           "y": [
            0.611111111111111,
            0.5545763760049475,
            0.5126262626262627,
            0.5303030303030303,
            0.5357142857142857,
            0.5064432989690721,
            0.5039424860853432,
            0.4772727272727273,
            0.4935322613894042,
            0.4913131313131313,
            0.4610858585858586,
            0.4329004329004329,
            0.4537373737373738,
            0.4534848484848485,
            0.4156818181818182,
            0.3041326530612245,
            0.43686868686868685
           ],
           "yaxis": "y3",
           "type": "bar"
          },
          {
           "alignmentgroup": "True",
           "hovertemplate": "Party=Republican<br>Year=2011<br>Age Group=18-29<br>=%{x}<br>Vote Share=%{y}<extra></extra>",
           "legendgroup": "Republican",
           "marker": {
            "color": "#EF553B",
            "pattern": {
             "shape": ""
            }
           },
           "name": "Republican",
           "offsetgroup": "Republican",
           "orientation": "v",
           "showlegend": true,
           "textposition": "auto",
           "x": [
            "New York",
            "California",
            "New Hampshire",
            "Wisconsin",
            "Iowa",
            "Nevada",
            "Pennsylvania",
            "Virginia",
            "Ohio",
            "Florida",
            "North Carolina",
            "Arizona",
            "Indiana",
            "Georgia",
            "South Carolina",
            "Kentucky",
            "Texas"
           ],
           "xaxis": "x",
           "y": [
            0.24742268041237114,
            0.26471346114203254,
            0.3600127551020408,
            0.37446631261064245,
            0.4052835051546392,
            0.3086734693877551,
            0.3553571428571428,
            0.37683536394876604,
            0.360640648011782,
            0.3392857142857143,
            0.3074242424242424,
            0.3648979591836735,
            0.4761278195488722,
            0.4545454545454546,
            0.5251736111111112,
            0.4802546744036106,
            0.4229147141518276
           ],
           "yaxis": "y",
           "type": "bar"
          },
          {
           "alignmentgroup": "True",
           "hovertemplate": "Party=Republican<br>Year=2011<br>Age Group=30-44<br>=%{x}<br>Vote Share=%{y}<extra></extra>",
           "legendgroup": "Republican",
           "marker": {
            "color": "#EF553B",
            "pattern": {
             "shape": ""
            }
           },
           "name": "Republican",
           "offsetgroup": "Republican",
           "orientation": "v",
           "showlegend": false,
           "textposition": "auto",
           "x": [
            "New York",
            "California",
            "New Hampshire",
            "Wisconsin",
            "Iowa",
            "Nevada",
            "Pennsylvania",
            "Virginia",
            "Ohio",
            "Florida",
            "North Carolina",
            "Arizona",
            "Indiana",
            "Georgia",
            "South Carolina",
            "Kentucky",
            "Texas"
           ],
           "xaxis": "x2",
           "y": [
            0.3806632653061224,
            0.3807397959183674,
            0.503865182436611,
            0.47588126159554733,
            0.4836116264687693,
            0.42348582474226804,
            0.44897959183673475,
            0.4566326530612246,
            0.475568062276457,
            0.4770408163265306,
            0.49363636363636365,
            0.5644329896907216,
            0.5101791106945746,
            0.44673469387755105,
            0.48234693877551016,
            0.5600936250788975,
            0.5076530612244898
           ],
           "yaxis": "y2",
           "type": "bar"
          },
          {
           "alignmentgroup": "True",
           "hovertemplate": "Party=Republican<br>Year=2011<br>Age Group=45-64<br>=%{x}<br>Vote Share=%{y}<extra></extra>",
           "legendgroup": "Republican",
           "marker": {
            "color": "#EF553B",
            "pattern": {
             "shape": ""
            }
           },
           "name": "Republican",
           "offsetgroup": "Republican",
           "orientation": "v",
           "showlegend": false,
           "textposition": "auto",
           "x": [
            "New York",
            "California",
            "New Hampshire",
            "Wisconsin",
            "Iowa",
            "Nevada",
            "Pennsylvania",
            "Virginia",
            "Ohio",
            "Florida",
            "North Carolina",
            "Arizona",
            "Indiana",
            "Georgia",
            "South Carolina",
            "Kentucky",
            "Texas"
           ],
           "xaxis": "x3",
           "y": [
            0.38888888888888895,
            0.44542362399505253,
            0.48737373737373735,
            0.4696969696969697,
            0.4642857142857143,
            0.49355670103092786,
            0.4960575139146568,
            0.5227272727272727,
            0.5064677386105958,
            0.5086868686868686,
            0.5389141414141414,
            0.5670995670995671,
            0.5462626262626262,
            0.5465151515151515,
            0.5843181818181817,
            0.6958673469387755,
            0.5631313131313131
           ],
           "yaxis": "y3",
           "type": "bar"
          }
         ],
         "name": "2011"
        },
        {
         "data": [
          {
           "alignmentgroup": "True",
           "hovertemplate": "Party=Democrat<br>Year=2012<br>Age Group=18-29<br>=%{x}<br>Vote Share=%{y}<extra></extra>",
           "legendgroup": "Democrat",
           "marker": {
            "color": "#636efa",
            "pattern": {
             "shape": ""
            }
           },
           "name": "Democrat",
           "offsetgroup": "Democrat",
           "orientation": "v",
           "showlegend": true,
           "textposition": "auto",
           "x": [
            "New York",
            "California",
            "New Hampshire",
            "Wisconsin",
            "Iowa",
            "Nevada",
            "Pennsylvania",
            "Virginia",
            "Ohio",
            "Florida",
            "North Carolina",
            "Arizona",
            "Indiana",
            "Georgia",
            "South Carolina",
            "Kentucky",
            "Texas"
           ],
           "xaxis": "x",
           "y": [
            0.7422680412371134,
            0.7244897959183674,
            0.6458333333333334,
            0.6185567010309279,
            0.5833333333333334,
            0.6938775510204082,
            0.6428571428571429,
            0.6288659793814433,
            0.6428571428571429,
            0.673469387755102,
            0.6767676767676768,
            0.673469387755102,
            0.4842105263157895,
            0.5656565656565656,
            0.4479166666666667,
            0.5212765957446809,
            0.5876288659793815
           ],
           "yaxis": "y",
           "type": "bar"
          },
          {
           "alignmentgroup": "True",
           "hovertemplate": "Party=Democrat<br>Year=2012<br>Age Group=30-44<br>=%{x}<br>Vote Share=%{y}<extra></extra>",
           "legendgroup": "Democrat",
           "marker": {
            "color": "#636efa",
            "pattern": {
             "shape": ""
            }
           },
           "name": "Democrat",
           "offsetgroup": "Democrat",
           "orientation": "v",
           "showlegend": false,
           "textposition": "auto",
           "x": [
            "New York",
            "California",
            "New Hampshire",
            "Wisconsin",
            "Iowa",
            "Nevada",
            "Pennsylvania",
            "Virginia",
            "Ohio",
            "Florida",
            "North Carolina",
            "Arizona",
            "Indiana",
            "Georgia",
            "South Carolina",
            "Kentucky",
            "Texas"
           ],
           "xaxis": "x2",
           "y": [
            0.6224489795918368,
            0.625,
            0.4897959183673469,
            0.5151515151515151,
            0.5252525252525253,
            0.5625,
            0.5612244897959183,
            0.5510204081632653,
            0.5257731958762887,
            0.5306122448979592,
            0.5151515151515151,
            0.422680412371134,
            0.4948453608247423,
            0.5510204081632653,
            0.5102040816326531,
            0.4387755102040816,
            0.5
           ],
           "yaxis": "y2",
           "type": "bar"
          },
          {
           "alignmentgroup": "True",
           "hovertemplate": "Party=Democrat<br>Year=2012<br>Age Group=45-64<br>=%{x}<br>Vote Share=%{y}<extra></extra>",
           "legendgroup": "Democrat",
           "marker": {
            "color": "#636efa",
            "pattern": {
             "shape": ""
            }
           },
           "name": "Democrat",
           "offsetgroup": "Democrat",
           "orientation": "v",
           "showlegend": false,
           "textposition": "auto",
           "x": [
            "New York",
            "California",
            "New Hampshire",
            "Wisconsin",
            "Iowa",
            "Nevada",
            "Pennsylvania",
            "Virginia",
            "Ohio",
            "Florida",
            "North Carolina",
            "Arizona",
            "Indiana",
            "Georgia",
            "South Carolina",
            "Kentucky",
            "Texas"
           ],
           "xaxis": "x3",
           "y": [
            0.6161616161616161,
            0.5353535353535354,
            0.494949494949495,
            0.5151515151515151,
            0.5306122448979592,
            0.5,
            0.48484848484848486,
            0.46464646464646464,
            0.47959183673469385,
            0.48,
            0.47,
            0.43434343434343436,
            0.44,
            0.46464646464646464,
            0.42424242424242425,
            0.2755102040816326,
            0.4444444444444444
           ],
           "yaxis": "y3",
           "type": "bar"
          },
          {
           "alignmentgroup": "True",
           "hovertemplate": "Party=Republican<br>Year=2012<br>Age Group=18-29<br>=%{x}<br>Vote Share=%{y}<extra></extra>",
           "legendgroup": "Republican",
           "marker": {
            "color": "#EF553B",
            "pattern": {
             "shape": ""
            }
           },
           "name": "Republican",
           "offsetgroup": "Republican",
           "orientation": "v",
           "showlegend": true,
           "textposition": "auto",
           "x": [
            "New York",
            "California",
            "New Hampshire",
            "Wisconsin",
            "Iowa",
            "Nevada",
            "Pennsylvania",
            "Virginia",
            "Ohio",
            "Florida",
            "North Carolina",
            "Arizona",
            "Indiana",
            "Georgia",
            "South Carolina",
            "Kentucky",
            "Texas"
           ],
           "xaxis": "x",
           "y": [
            0.25773195876288657,
            0.2755102040816326,
            0.35416666666666663,
            0.38144329896907214,
            0.41666666666666663,
            0.30612244897959184,
            0.3571428571428571,
            0.3711340206185567,
            0.3571428571428571,
            0.326530612244898,
            0.3232323232323232,
            0.326530612244898,
            0.5157894736842106,
            0.43434343434343436,
            0.5520833333333333,
            0.4787234042553191,
            0.41237113402061853
           ],
           "yaxis": "y",
           "type": "bar"
          },
          {
           "alignmentgroup": "True",
           "hovertemplate": "Party=Republican<br>Year=2012<br>Age Group=30-44<br>=%{x}<br>Vote Share=%{y}<extra></extra>",
           "legendgroup": "Republican",
           "marker": {
            "color": "#EF553B",
            "pattern": {
             "shape": ""
            }
           },
           "name": "Republican",
           "offsetgroup": "Republican",
           "orientation": "v",
           "showlegend": false,
           "textposition": "auto",
           "x": [
            "New York",
            "California",
            "New Hampshire",
            "Wisconsin",
            "Iowa",
            "Nevada",
            "Pennsylvania",
            "Virginia",
            "Ohio",
            "Florida",
            "North Carolina",
            "Arizona",
            "Indiana",
            "Georgia",
            "South Carolina",
            "Kentucky",
            "Texas"
           ],
           "xaxis": "x2",
           "y": [
            0.37755102040816324,
            0.375,
            0.5102040816326531,
            0.48484848484848486,
            0.4747474747474747,
            0.4375,
            0.4387755102040817,
            0.44897959183673475,
            0.4742268041237113,
            0.4693877551020408,
            0.48484848484848486,
            0.5773195876288659,
            0.5051546391752577,
            0.44897959183673475,
            0.4897959183673469,
            0.5612244897959184,
            0.5
           ],
           "yaxis": "y2",
           "type": "bar"
          },
          {
           "alignmentgroup": "True",
           "hovertemplate": "Party=Republican<br>Year=2012<br>Age Group=45-64<br>=%{x}<br>Vote Share=%{y}<extra></extra>",
           "legendgroup": "Republican",
           "marker": {
            "color": "#EF553B",
            "pattern": {
             "shape": ""
            }
           },
           "name": "Republican",
           "offsetgroup": "Republican",
           "orientation": "v",
           "showlegend": false,
           "textposition": "auto",
           "x": [
            "New York",
            "California",
            "New Hampshire",
            "Wisconsin",
            "Iowa",
            "Nevada",
            "Pennsylvania",
            "Virginia",
            "Ohio",
            "Florida",
            "North Carolina",
            "Arizona",
            "Indiana",
            "Georgia",
            "South Carolina",
            "Kentucky",
            "Texas"
           ],
           "xaxis": "x3",
           "y": [
            0.38383838383838387,
            0.46464646464646464,
            0.505050505050505,
            0.48484848484848486,
            0.4693877551020408,
            0.5,
            0.5151515151515151,
            0.5353535353535354,
            0.5204081632653061,
            0.52,
            0.53,
            0.5656565656565656,
            0.56,
            0.5353535353535354,
            0.5757575757575757,
            0.7244897959183674,
            0.5555555555555556
           ],
           "yaxis": "y3",
           "type": "bar"
          }
         ],
         "name": "2012"
        },
        {
         "data": [
          {
           "alignmentgroup": "True",
           "hovertemplate": "Party=Democrat<br>Year=2013<br>Age Group=18-29<br>=%{x}<br>Vote Share=%{y}<extra></extra>",
           "legendgroup": "Democrat",
           "marker": {
            "color": "#636efa",
            "pattern": {
             "shape": ""
            }
           },
           "name": "Democrat",
           "offsetgroup": "Democrat",
           "orientation": "v",
           "showlegend": true,
           "textposition": "auto",
           "x": [
            "New York",
            "California",
            "New Hampshire",
            "Wisconsin",
            "Iowa",
            "Nevada",
            "Pennsylvania",
            "Virginia",
            "Ohio",
            "Florida",
            "North Carolina",
            "Arizona",
            "Indiana",
            "Georgia",
            "South Carolina",
            "Kentucky",
            "Texas"
           ],
           "xaxis": "x",
           "y": [
            0.743543136190993,
            0.7287606053657418,
            0.6204861111111111,
            0.593038404894075,
            0.5541666666666667,
            0.6698334506216279,
            0.6189849624060151,
            0.6216494845360825,
            0.6192396313364056,
            0.6551020408163265,
            0.6624670619235837,
            0.6567874340747535,
            0.4881578947368421,
            0.5883049242424242,
            0.4609375,
            0.48235529627087625,
            0.5918205505834372
           ],
           "yaxis": "y",
           "type": "bar"
          },
          {
           "alignmentgroup": "True",
           "hovertemplate": "Party=Democrat<br>Year=2013<br>Age Group=30-44<br>=%{x}<br>Vote Share=%{y}<extra></extra>",
           "legendgroup": "Democrat",
           "marker": {
            "color": "#636efa",
            "pattern": {
             "shape": ""
            }
           },
           "name": "Democrat",
           "offsetgroup": "Democrat",
           "orientation": "v",
           "showlegend": false,
           "textposition": "auto",
           "x": [
            "New York",
            "California",
            "New Hampshire",
            "Wisconsin",
            "Iowa",
            "Nevada",
            "Pennsylvania",
            "Virginia",
            "Ohio",
            "Florida",
            "North Carolina",
            "Arizona",
            "Indiana",
            "Georgia",
            "South Carolina",
            "Kentucky",
            "Texas"
           ],
           "xaxis": "x2",
           "y": [
            0.6308992346938775,
            0.6469414893617021,
            0.49790249433106576,
            0.5358201581027668,
            0.49949494949494955,
            0.5631793478260869,
            0.5603920515574651,
            0.5557384244020188,
            0.5072331227136682,
            0.54312047399605,
            0.5153110047846889,
            0.4505330365510778,
            0.46953827593770564,
            0.5474758324382384,
            0.49844253490870033,
            0.40539742212674545,
            0.4959677419354839
           ],
           "yaxis": "y2",
           "type": "bar"
          },
          {
           "alignmentgroup": "True",
           "hovertemplate": "Party=Democrat<br>Year=2013<br>Age Group=45-64<br>=%{x}<br>Vote Share=%{y}<extra></extra>",
           "legendgroup": "Democrat",
           "marker": {
            "color": "#636efa",
            "pattern": {
             "shape": ""
            }
           },
           "name": "Democrat",
           "offsetgroup": "Democrat",
           "orientation": "v",
           "showlegend": false,
           "textposition": "auto",
           "x": [
            "New York",
            "California",
            "New Hampshire",
            "Wisconsin",
            "Iowa",
            "Nevada",
            "Pennsylvania",
            "Virginia",
            "Ohio",
            "Florida",
            "North Carolina",
            "Arizona",
            "Indiana",
            "Georgia",
            "South Carolina",
            "Kentucky",
            "Texas"
           ],
           "xaxis": "x3",
           "y": [
            0.6001420454545454,
            0.5499526515151515,
            0.4897688222430491,
            0.49203373945641987,
            0.5099383503401361,
            0.48138297872340424,
            0.47961574507966265,
            0.46961886910340517,
            0.4638605442176871,
            0.46858585858585855,
            0.46219387755102037,
            0.43365231259968107,
            0.4176288659793814,
            0.45307668521954236,
            0.41161616161616166,
            0.29257015306122447,
            0.43282312925170063
           ],
           "yaxis": "y3",
           "type": "bar"
          },
          {
           "alignmentgroup": "True",
           "hovertemplate": "Party=Republican<br>Year=2013<br>Age Group=18-29<br>=%{x}<br>Vote Share=%{y}<extra></extra>",
           "legendgroup": "Republican",
           "marker": {
            "color": "#EF553B",
            "pattern": {
             "shape": ""
            }
           },
           "name": "Republican",
           "offsetgroup": "Republican",
           "orientation": "v",
           "showlegend": true,
           "textposition": "auto",
           "x": [
            "New York",
            "California",
            "New Hampshire",
            "Wisconsin",
            "Iowa",
            "Nevada",
            "Pennsylvania",
            "Virginia",
            "Ohio",
            "Florida",
            "North Carolina",
            "Arizona",
            "Indiana",
            "Georgia",
            "South Carolina",
            "Kentucky",
            "Texas"
           ],
           "xaxis": "x",
           "y": [
            0.256456863809007,
            0.27123939463425817,
            0.37951388888888893,
            0.406961595105925,
            0.4458333333333333,
            0.3301665493783721,
            0.3810150375939849,
            0.3783505154639175,
            0.3807603686635944,
            0.3448979591836735,
            0.33753293807641627,
            0.3432125659252465,
            0.5118421052631579,
            0.4116950757575758,
            0.5390625,
            0.5176447037291237,
            0.4081794494165628
           ],
           "yaxis": "y",
           "type": "bar"
          },
          {
           "alignmentgroup": "True",
           "hovertemplate": "Party=Republican<br>Year=2013<br>Age Group=30-44<br>=%{x}<br>Vote Share=%{y}<extra></extra>",
           "legendgroup": "Republican",
           "marker": {
            "color": "#EF553B",
            "pattern": {
             "shape": ""
            }
           },
           "name": "Republican",
           "offsetgroup": "Republican",
           "orientation": "v",
           "showlegend": false,
           "textposition": "auto",
           "x": [
            "New York",
            "California",
            "New Hampshire",
            "Wisconsin",
            "Iowa",
            "Nevada",
            "Pennsylvania",
            "Virginia",
            "Ohio",
            "Florida",
            "North Carolina",
            "Arizona",
            "Indiana",
            "Georgia",
            "South Carolina",
            "Kentucky",
            "Texas"
           ],
           "xaxis": "x2",
           "y": [
            0.36910076530612246,
            0.35305851063829785,
            0.5020975056689343,
            0.46417984189723316,
            0.5005050505050505,
            0.4368206521739131,
            0.4396079484425349,
            0.4442615755979812,
            0.49276687728633184,
            0.45687952600395,
            0.48468899521531106,
            0.5494669634489222,
            0.5304617240622944,
            0.4525241675617616,
            0.5015574650912997,
            0.5946025778732545,
            0.5040322580645161
           ],
           "yaxis": "y2",
           "type": "bar"
          },
          {
           "alignmentgroup": "True",
           "hovertemplate": "Party=Republican<br>Year=2013<br>Age Group=45-64<br>=%{x}<br>Vote Share=%{y}<extra></extra>",
           "legendgroup": "Republican",
           "marker": {
            "color": "#EF553B",
            "pattern": {
             "shape": ""
            }
           },
           "name": "Republican",
           "offsetgroup": "Republican",
           "orientation": "v",
           "showlegend": false,
           "textposition": "auto",
           "x": [
            "New York",
            "California",
            "New Hampshire",
            "Wisconsin",
            "Iowa",
            "Nevada",
            "Pennsylvania",
            "Virginia",
            "Ohio",
            "Florida",
            "North Carolina",
            "Arizona",
            "Indiana",
            "Georgia",
            "South Carolina",
            "Kentucky",
            "Texas"
           ],
           "xaxis": "x3",
           "y": [
            0.3998579545454546,
            0.4500473484848485,
            0.5102311777569509,
            0.5079662605435802,
            0.4900616496598639,
            0.5186170212765957,
            0.5203842549203374,
            0.5303811308965949,
            0.5361394557823129,
            0.5314141414141414,
            0.5378061224489796,
            0.5663476874003189,
            0.5823711340206186,
            0.5469233147804576,
            0.5883838383838383,
            0.7074298469387755,
            0.5671768707482994
           ],
           "yaxis": "y3",
           "type": "bar"
          }
         ],
         "name": "2013"
        },
        {
         "data": [
          {
           "alignmentgroup": "True",
           "hovertemplate": "Party=Democrat<br>Year=2014<br>Age Group=18-29<br>=%{x}<br>Vote Share=%{y}<extra></extra>",
           "legendgroup": "Democrat",
           "marker": {
            "color": "#636efa",
            "pattern": {
             "shape": ""
            }
           },
           "name": "Democrat",
           "offsetgroup": "Democrat",
           "orientation": "v",
           "showlegend": true,
           "textposition": "auto",
           "x": [
            "New York",
            "California",
            "New Hampshire",
            "Wisconsin",
            "Iowa",
            "Nevada",
            "Pennsylvania",
            "Virginia",
            "Ohio",
            "Florida",
            "North Carolina",
            "Arizona",
            "Indiana",
            "Georgia",
            "South Carolina",
            "Kentucky",
            "Texas"
           ],
           "xaxis": "x",
           "y": [
            0.7448182311448726,
            0.7330314148131163,
            0.5951388888888889,
            0.5675201087572221,
            0.525,
            0.6457893502228478,
            0.5951127819548873,
            0.6144329896907217,
            0.5956221198156681,
            0.636734693877551,
            0.6481664470794906,
            0.640105480394405,
            0.4921052631578947,
            0.6109532828282829,
            0.47395833333333337,
            0.44343399679707163,
            0.5960122351874929
           ],
           "yaxis": "y",
           "type": "bar"
          },
          {
           "alignmentgroup": "True",
           "hovertemplate": "Party=Democrat<br>Year=2014<br>Age Group=30-44<br>=%{x}<br>Vote Share=%{y}<extra></extra>",
           "legendgroup": "Democrat",
           "marker": {
            "color": "#636efa",
            "pattern": {
             "shape": ""
            }
           },
           "name": "Democrat",
           "offsetgroup": "Democrat",
           "orientation": "v",
           "showlegend": false,
           "textposition": "auto",
           "x": [
            "New York",
            "California",
            "New Hampshire",
            "Wisconsin",
            "Iowa",
            "Nevada",
            "Pennsylvania",
            "Virginia",
            "Ohio",
            "Florida",
            "North Carolina",
            "Arizona",
            "Indiana",
            "Georgia",
            "South Carolina",
            "Kentucky",
            "Texas"
           ],
           "xaxis": "x2",
           "y": [
            0.6393494897959184,
            0.6688829787234043,
            0.5060090702947846,
            0.5564888010540184,
            0.4737373737373738,
            0.5638586956521738,
            0.5595596133190117,
            0.5604564406407724,
            0.48869304955104753,
            0.5556287030941409,
            0.5154704944178629,
            0.4783856607310215,
            0.444231191050669,
            0.5439312567132115,
            0.4866809881847476,
            0.37201933404940923,
            0.49193548387096775
           ],
           "yaxis": "y2",
           "type": "bar"
          },
          {
           "alignmentgroup": "True",
           "hovertemplate": "Party=Democrat<br>Year=2014<br>Age Group=45-64<br>=%{x}<br>Vote Share=%{y}<extra></extra>",
           "legendgroup": "Democrat",
           "marker": {
            "color": "#636efa",
            "pattern": {
             "shape": ""
            }
           },
           "name": "Democrat",
           "offsetgroup": "Democrat",
           "orientation": "v",
           "showlegend": false,
           "textposition": "auto",
           "x": [
            "New York",
            "California",
            "New Hampshire",
            "Wisconsin",
            "Iowa",
            "Nevada",
            "Pennsylvania",
            "Virginia",
            "Ohio",
            "Florida",
            "North Carolina",
            "Arizona",
            "Indiana",
            "Georgia",
            "South Carolina",
            "Kentucky",
            "Texas"
           ],
           "xaxis": "x3",
           "y": [
            0.5841224747474747,
            0.5645517676767677,
            0.4845881495366031,
            0.4689159637613246,
            0.4892644557823129,
            0.4627659574468085,
            0.4743830053108404,
            0.4745912735603457,
            0.4481292517006803,
            0.4571717171717172,
            0.45438775510204077,
            0.4329611908559277,
            0.3952577319587629,
            0.4415069057926201,
            0.398989898989899,
            0.3096301020408163,
            0.4212018140589569
           ],
           "yaxis": "y3",
           "type": "bar"
          },
          {
           "alignmentgroup": "True",
           "hovertemplate": "Party=Republican<br>Year=2014<br>Age Group=18-29<br>=%{x}<br>Vote Share=%{y}<extra></extra>",
           "legendgroup": "Republican",
           "marker": {
            "color": "#EF553B",
            "pattern": {
             "shape": ""
            }
           },
           "name": "Republican",
           "offsetgroup": "Republican",
           "orientation": "v",
           "showlegend": true,
           "textposition": "auto",
           "x": [
            "New York",
            "California",
            "New Hampshire",
            "Wisconsin",
            "Iowa",
            "Nevada",
            "Pennsylvania",
            "Virginia",
            "Ohio",
            "Florida",
            "North Carolina",
            "Arizona",
            "Indiana",
            "Georgia",
            "South Carolina",
            "Kentucky",
            "Texas"
           ],
           "xaxis": "x",
           "y": [
            0.25518176885512744,
            0.2669685851868837,
            0.4048611111111111,
            0.43247989124277786,
            0.475,
            0.3542106497771522,
            0.40488721804511274,
            0.3855670103092783,
            0.40437788018433185,
            0.363265306122449,
            0.35183355292050944,
            0.35989451960559504,
            0.5078947368421053,
            0.3890467171717171,
            0.5260416666666666,
            0.5565660032029284,
            0.4039877648125071
           ],
           "yaxis": "y",
           "type": "bar"
          },
          {
           "alignmentgroup": "True",
           "hovertemplate": "Party=Republican<br>Year=2014<br>Age Group=30-44<br>=%{x}<br>Vote Share=%{y}<extra></extra>",
           "legendgroup": "Republican",
           "marker": {
            "color": "#EF553B",
            "pattern": {
             "shape": ""
            }
           },
           "name": "Republican",
           "offsetgroup": "Republican",
           "orientation": "v",
           "showlegend": false,
           "textposition": "auto",
           "x": [
            "New York",
            "California",
            "New Hampshire",
            "Wisconsin",
            "Iowa",
            "Nevada",
            "Pennsylvania",
            "Virginia",
            "Ohio",
            "Florida",
            "North Carolina",
            "Arizona",
            "Indiana",
            "Georgia",
            "South Carolina",
            "Kentucky",
            "Texas"
           ],
           "xaxis": "x2",
           "y": [
            0.36065051020408156,
            0.3311170212765957,
            0.4939909297052154,
            0.44351119894598157,
            0.5262626262626262,
            0.43614130434782616,
            0.4404403866809883,
            0.4395435593592276,
            0.5113069504489525,
            0.4443712969058591,
            0.48452950558213714,
            0.5216143392689785,
            0.555768808949331,
            0.4560687432867885,
            0.5133190118152524,
            0.6279806659505908,
            0.5080645161290323
           ],
           "yaxis": "y2",
           "type": "bar"
          },
          {
           "alignmentgroup": "True",
           "hovertemplate": "Party=Republican<br>Year=2014<br>Age Group=45-64<br>=%{x}<br>Vote Share=%{y}<extra></extra>",
           "legendgroup": "Republican",
           "marker": {
            "color": "#EF553B",
            "pattern": {
             "shape": ""
            }
           },
           "name": "Republican",
           "offsetgroup": "Republican",
           "orientation": "v",
           "showlegend": false,
           "textposition": "auto",
           "x": [
            "New York",
            "California",
            "New Hampshire",
            "Wisconsin",
            "Iowa",
            "Nevada",
            "Pennsylvania",
            "Virginia",
            "Ohio",
            "Florida",
            "North Carolina",
            "Arizona",
            "Indiana",
            "Georgia",
            "South Carolina",
            "Kentucky",
            "Texas"
           ],
           "xaxis": "x3",
           "y": [
            0.4158775252525253,
            0.43544823232323226,
            0.5154118504633969,
            0.5310840362386754,
            0.5107355442176871,
            0.5372340425531915,
            0.5256169946891596,
            0.5254087264396543,
            0.5518707482993197,
            0.5428282828282829,
            0.5456122448979592,
            0.5670388091440723,
            0.6047422680412371,
            0.5584930942073799,
            0.601010101010101,
            0.6903698979591837,
            0.5787981859410432
           ],
           "yaxis": "y3",
           "type": "bar"
          }
         ],
         "name": "2014"
        },
        {
         "data": [
          {
           "alignmentgroup": "True",
           "hovertemplate": "Party=Democrat<br>Year=2015<br>Age Group=18-29<br>=%{x}<br>Vote Share=%{y}<extra></extra>",
           "legendgroup": "Democrat",
           "marker": {
            "color": "#636efa",
            "pattern": {
             "shape": ""
            }
           },
           "name": "Democrat",
           "offsetgroup": "Democrat",
           "orientation": "v",
           "showlegend": true,
           "textposition": "auto",
           "x": [
            "New York",
            "California",
            "New Hampshire",
            "Wisconsin",
            "Iowa",
            "Nevada",
            "Pennsylvania",
            "Virginia",
            "Ohio",
            "Florida",
            "North Carolina",
            "Arizona",
            "Indiana",
            "Georgia",
            "South Carolina",
            "Kentucky",
            "Texas"
           ],
           "xaxis": "x",
           "y": [
            0.746093326098752,
            0.7373022242604907,
            0.5697916666666667,
            0.5420018126203694,
            0.49583333333333335,
            0.6217452498240676,
            0.5712406015037594,
            0.6072164948453608,
            0.5720046082949308,
            0.6183673469387755,
            0.6338658322353974,
            0.6234235267140564,
            0.49605263157894736,
            0.6336016414141414,
            0.4869791666666667,
            0.404512697323267,
            0.6002039197915486
           ],
           "yaxis": "y",
           "type": "bar"
          },
          {
           "alignmentgroup": "True",
           "hovertemplate": "Party=Democrat<br>Year=2015<br>Age Group=30-44<br>=%{x}<br>Vote Share=%{y}<extra></extra>",
           "legendgroup": "Democrat",
           "marker": {
            "color": "#636efa",
            "pattern": {
             "shape": ""
            }
           },
           "name": "Democrat",
           "offsetgroup": "Democrat",
           "orientation": "v",
           "showlegend": false,
           "textposition": "auto",
           "x": [
            "New York",
            "California",
            "New Hampshire",
            "Wisconsin",
            "Iowa",
            "Nevada",
            "Pennsylvania",
            "Virginia",
            "Ohio",
            "Florida",
            "North Carolina",
            "Arizona",
            "Indiana",
            "Georgia",
            "South Carolina",
            "Kentucky",
            "Texas"
           ],
           "xaxis": "x2",
           "y": [
            0.6477997448979592,
            0.6908244680851063,
            0.5141156462585035,
            0.57715744400527,
            0.447979797979798,
            0.5645380434782609,
            0.5587271750805585,
            0.565174456879526,
            0.470152976388427,
            0.5681369321922318,
            0.5156299840510368,
            0.5062382849109653,
            0.4189241061636324,
            0.5403866809881848,
            0.47491944146079484,
            0.338641245972073,
            0.4879032258064516
           ],
           "yaxis": "y2",
           "type": "bar"
          },
          {
           "alignmentgroup": "True",
           "hovertemplate": "Party=Democrat<br>Year=2015<br>Age Group=45-64<br>=%{x}<br>Vote Share=%{y}<extra></extra>",
           "legendgroup": "Democrat",
           "marker": {
            "color": "#636efa",
            "pattern": {
             "shape": ""
            }
           },
           "name": "Democrat",
           "offsetgroup": "Democrat",
           "orientation": "v",
           "showlegend": false,
           "textposition": "auto",
           "x": [
            "New York",
            "California",
            "New Hampshire",
            "Wisconsin",
            "Iowa",
            "Nevada",
            "Pennsylvania",
            "Virginia",
            "Ohio",
            "Florida",
            "North Carolina",
            "Arizona",
            "Indiana",
            "Georgia",
            "South Carolina",
            "Kentucky",
            "Texas"
           ],
           "xaxis": "x3",
           "y": [
            0.5681029040404041,
            0.5791508838383839,
            0.4794074768301572,
            0.4457981880662293,
            0.46859056122448983,
            0.4441489361702128,
            0.4691502655420181,
            0.4795636780172863,
            0.43239795918367346,
            0.4457575757575758,
            0.4465816326530612,
            0.43227006911217436,
            0.3728865979381443,
            0.4299371263656978,
            0.38636363636363635,
            0.32669005102040816,
            0.40958049886621317
           ],
           "yaxis": "y3",
           "type": "bar"
          },
          {
           "alignmentgroup": "True",
           "hovertemplate": "Party=Republican<br>Year=2015<br>Age Group=18-29<br>=%{x}<br>Vote Share=%{y}<extra></extra>",
           "legendgroup": "Republican",
           "marker": {
            "color": "#EF553B",
            "pattern": {
             "shape": ""
            }
           },
           "name": "Republican",
           "offsetgroup": "Republican",
           "orientation": "v",
           "showlegend": true,
           "textposition": "auto",
           "x": [
            "New York",
            "California",
            "New Hampshire",
            "Wisconsin",
            "Iowa",
            "Nevada",
            "Pennsylvania",
            "Virginia",
            "Ohio",
            "Florida",
            "North Carolina",
            "Arizona",
            "Indiana",
            "Georgia",
            "South Carolina",
            "Kentucky",
            "Texas"
           ],
           "xaxis": "x",
           "y": [
            0.253906673901248,
            0.26269777573950925,
            0.4302083333333333,
            0.4579981873796306,
            0.5041666666666667,
            0.37825475017593235,
            0.42875939849624056,
            0.3927835051546392,
            0.4279953917050692,
            0.3816326530612245,
            0.3661341677646026,
            0.37657647328594357,
            0.5039473684210527,
            0.36639835858585856,
            0.5130208333333333,
            0.595487302676733,
            0.39979608020845137
           ],
           "yaxis": "y",
           "type": "bar"
          },
          {
           "alignmentgroup": "True",
           "hovertemplate": "Party=Republican<br>Year=2015<br>Age Group=30-44<br>=%{x}<br>Vote Share=%{y}<extra></extra>",
           "legendgroup": "Republican",
           "marker": {
            "color": "#EF553B",
            "pattern": {
             "shape": ""
            }
           },
           "name": "Republican",
           "offsetgroup": "Republican",
           "orientation": "v",
           "showlegend": false,
           "textposition": "auto",
           "x": [
            "New York",
            "California",
            "New Hampshire",
            "Wisconsin",
            "Iowa",
            "Nevada",
            "Pennsylvania",
            "Virginia",
            "Ohio",
            "Florida",
            "North Carolina",
            "Arizona",
            "Indiana",
            "Georgia",
            "South Carolina",
            "Kentucky",
            "Texas"
           ],
           "xaxis": "x2",
           "y": [
            0.3522002551020408,
            0.30917553191489366,
            0.4858843537414965,
            0.42284255599473,
            0.5520202020202021,
            0.43546195652173914,
            0.44127282491944153,
            0.43482554312047395,
            0.529847023611573,
            0.4318630678077682,
            0.48437001594896323,
            0.49376171508903466,
            0.5810758938363676,
            0.45961331901181524,
            0.5250805585392051,
            0.661358754027927,
            0.5120967741935484
           ],
           "yaxis": "y2",
           "type": "bar"
          },
          {
           "alignmentgroup": "True",
           "hovertemplate": "Party=Republican<br>Year=2015<br>Age Group=45-64<br>=%{x}<br>Vote Share=%{y}<extra></extra>",
           "legendgroup": "Republican",
           "marker": {
            "color": "#EF553B",
            "pattern": {
             "shape": ""
            }
           },
           "name": "Republican",
           "offsetgroup": "Republican",
           "orientation": "v",
           "showlegend": false,
           "textposition": "auto",
           "x": [
            "New York",
            "California",
            "New Hampshire",
            "Wisconsin",
            "Iowa",
            "Nevada",
            "Pennsylvania",
            "Virginia",
            "Ohio",
            "Florida",
            "North Carolina",
            "Arizona",
            "Indiana",
            "Georgia",
            "South Carolina",
            "Kentucky",
            "Texas"
           ],
           "xaxis": "x3",
           "y": [
            0.4318970959595959,
            0.42084911616161613,
            0.5205925231698427,
            0.5542018119337707,
            0.5314094387755102,
            0.5558510638297872,
            0.5308497344579819,
            0.5204363219827137,
            0.5676020408163265,
            0.5542424242424242,
            0.5534183673469388,
            0.5677299308878256,
            0.6271134020618556,
            0.5700628736343022,
            0.6136363636363636,
            0.6733099489795918,
            0.5904195011337868
           ],
           "yaxis": "y3",
           "type": "bar"
          }
         ],
         "name": "2015"
        },
        {
         "data": [
          {
           "alignmentgroup": "True",
           "hovertemplate": "Party=Democrat<br>Year=2016<br>Age Group=18-29<br>=%{x}<br>Vote Share=%{y}<extra></extra>",
           "legendgroup": "Democrat",
           "marker": {
            "color": "#636efa",
            "pattern": {
             "shape": ""
            }
           },
           "name": "Democrat",
           "offsetgroup": "Democrat",
           "orientation": "v",
           "showlegend": true,
           "textposition": "auto",
           "x": [
            "New York",
            "California",
            "New Hampshire",
            "Wisconsin",
            "Iowa",
            "Nevada",
            "Pennsylvania",
            "Virginia",
            "Ohio",
            "Florida",
            "North Carolina",
            "Arizona",
            "Indiana",
            "Georgia",
            "South Carolina",
            "Kentucky",
            "Texas"
           ],
           "xaxis": "x",
           "y": [
            0.7473684210526316,
            0.7415730337078652,
            0.5444444444444444,
            0.5164835164835165,
            0.4666666666666667,
            0.5977011494252874,
            0.5473684210526316,
            0.6,
            0.5483870967741935,
            0.6,
            0.6195652173913043,
            0.6067415730337079,
            0.5,
            0.65625,
            0.5,
            0.3655913978494624,
            0.6043956043956044
           ],
           "yaxis": "y",
           "type": "bar"
          },
          {
           "alignmentgroup": "True",
           "hovertemplate": "Party=Democrat<br>Year=2016<br>Age Group=30-44<br>=%{x}<br>Vote Share=%{y}<extra></extra>",
           "legendgroup": "Democrat",
           "marker": {
            "color": "#636efa",
            "pattern": {
             "shape": ""
            }
           },
           "name": "Democrat",
           "offsetgroup": "Democrat",
           "orientation": "v",
           "showlegend": false,
           "textposition": "auto",
           "x": [
            "New York",
            "California",
            "New Hampshire",
            "Wisconsin",
            "Iowa",
            "Nevada",
            "Pennsylvania",
            "Virginia",
            "Ohio",
            "Florida",
            "North Carolina",
            "Arizona",
            "Indiana",
            "Georgia",
            "South Carolina",
            "Kentucky",
            "Texas"
           ],
           "xaxis": "x2",
           "y": [
            0.65625,
            0.7127659574468085,
            0.5222222222222223,
            0.5978260869565217,
            0.4222222222222222,
            0.5652173913043478,
            0.5578947368421052,
            0.5698924731182796,
            0.45161290322580644,
            0.5806451612903226,
            0.5157894736842106,
            0.5340909090909091,
            0.39361702127659576,
            0.5368421052631579,
            0.4631578947368421,
            0.30526315789473685,
            0.4838709677419355
           ],
           "yaxis": "y2",
           "type": "bar"
          },
          {
           "alignmentgroup": "True",
           "hovertemplate": "Party=Democrat<br>Year=2016<br>Age Group=45-64<br>=%{x}<br>Vote Share=%{y}<extra></extra>",
           "legendgroup": "Democrat",
           "marker": {
            "color": "#636efa",
            "pattern": {
             "shape": ""
            }
           },
           "name": "Democrat",
           "offsetgroup": "Democrat",
           "orientation": "v",
           "showlegend": false,
           "textposition": "auto",
           "x": [
            "New York",
            "California",
            "New Hampshire",
            "Wisconsin",
            "Iowa",
            "Nevada",
            "Pennsylvania",
            "Virginia",
            "Ohio",
            "Florida",
            "North Carolina",
            "Arizona",
            "Indiana",
            "Georgia",
            "South Carolina",
            "Kentucky",
            "Texas"
           ],
           "xaxis": "x3",
           "y": [
            0.5520833333333334,
            0.59375,
            0.4742268041237113,
            0.422680412371134,
            0.4479166666666667,
            0.425531914893617,
            0.4639175257731959,
            0.4845360824742268,
            0.4166666666666667,
            0.43434343434343436,
            0.4387755102040816,
            0.43157894736842106,
            0.35051546391752575,
            0.41836734693877553,
            0.37373737373737376,
            0.34375,
            0.3979591836734694
           ],
           "yaxis": "y3",
           "type": "bar"
          },
          {
           "alignmentgroup": "True",
           "hovertemplate": "Party=Republican<br>Year=2016<br>Age Group=18-29<br>=%{x}<br>Vote Share=%{y}<extra></extra>",
           "legendgroup": "Republican",
           "marker": {
            "color": "#EF553B",
            "pattern": {
             "shape": ""
            }
           },
           "name": "Republican",
           "offsetgroup": "Republican",
           "orientation": "v",
           "showlegend": true,
           "textposition": "auto",
           "x": [
            "New York",
            "California",
            "New Hampshire",
            "Wisconsin",
            "Iowa",
            "Nevada",
            "Pennsylvania",
            "Virginia",
            "Ohio",
            "Florida",
            "North Carolina",
            "Arizona",
            "Indiana",
            "Georgia",
            "South Carolina",
            "Kentucky",
            "Texas"
           ],
           "xaxis": "x",
           "y": [
            0.25263157894736843,
            0.2584269662921348,
            0.4555555555555556,
            0.48351648351648346,
            0.5333333333333333,
            0.4022988505747126,
            0.4526315789473684,
            0.4,
            0.4516129032258065,
            0.4,
            0.3804347826086957,
            0.3932584269662921,
            0.5,
            0.34375,
            0.5,
            0.6344086021505376,
            0.39560439560439564
           ],
           "yaxis": "y",
           "type": "bar"
          },
          {
           "alignmentgroup": "True",
           "hovertemplate": "Party=Republican<br>Year=2016<br>Age Group=30-44<br>=%{x}<br>Vote Share=%{y}<extra></extra>",
           "legendgroup": "Republican",
           "marker": {
            "color": "#EF553B",
            "pattern": {
             "shape": ""
            }
           },
           "name": "Republican",
           "offsetgroup": "Republican",
           "orientation": "v",
           "showlegend": false,
           "textposition": "auto",
           "x": [
            "New York",
            "California",
            "New Hampshire",
            "Wisconsin",
            "Iowa",
            "Nevada",
            "Pennsylvania",
            "Virginia",
            "Ohio",
            "Florida",
            "North Carolina",
            "Arizona",
            "Indiana",
            "Georgia",
            "South Carolina",
            "Kentucky",
            "Texas"
           ],
           "xaxis": "x2",
           "y": [
            0.34375,
            0.2872340425531915,
            0.47777777777777775,
            0.40217391304347827,
            0.5777777777777777,
            0.4347826086956522,
            0.4421052631578948,
            0.4301075268817204,
            0.5483870967741935,
            0.4193548387096774,
            0.4842105263157894,
            0.46590909090909094,
            0.6063829787234043,
            0.4631578947368421,
            0.5368421052631579,
            0.6947368421052631,
            0.5161290322580645
           ],
           "yaxis": "y2",
           "type": "bar"
          },
          {
           "alignmentgroup": "True",
           "hovertemplate": "Party=Republican<br>Year=2016<br>Age Group=45-64<br>=%{x}<br>Vote Share=%{y}<extra></extra>",
           "legendgroup": "Republican",
           "marker": {
            "color": "#EF553B",
            "pattern": {
             "shape": ""
            }
           },
           "name": "Republican",
           "offsetgroup": "Republican",
           "orientation": "v",
           "showlegend": false,
           "textposition": "auto",
           "x": [
            "New York",
            "California",
            "New Hampshire",
            "Wisconsin",
            "Iowa",
            "Nevada",
            "Pennsylvania",
            "Virginia",
            "Ohio",
            "Florida",
            "North Carolina",
            "Arizona",
            "Indiana",
            "Georgia",
            "South Carolina",
            "Kentucky",
            "Texas"
           ],
           "xaxis": "x3",
           "y": [
            0.44791666666666663,
            0.40625,
            0.5257731958762887,
            0.5773195876288659,
            0.5520833333333333,
            0.574468085106383,
            0.5360824742268041,
            0.5154639175257731,
            0.5833333333333333,
            0.5656565656565656,
            0.5612244897959184,
            0.5684210526315789,
            0.6494845360824743,
            0.5816326530612245,
            0.6262626262626263,
            0.65625,
            0.6020408163265306
           ],
           "yaxis": "y3",
           "type": "bar"
          }
         ],
         "name": "2016"
        }
       ],
       "config": {
        "plotlyServerURL": "https://plot.ly"
       }
      },
      "text/html": [
       "<div>                            <div id=\"6fda36fb-e793-4981-b1de-cf1eacefcfb3\" class=\"plotly-graph-div\" style=\"height:450px; width:100%;\"></div>            <script type=\"text/javascript\">                require([\"plotly\"], function(Plotly) {                    window.PLOTLYENV=window.PLOTLYENV || {};                                    if (document.getElementById(\"6fda36fb-e793-4981-b1de-cf1eacefcfb3\")) {                    Plotly.newPlot(                        \"6fda36fb-e793-4981-b1de-cf1eacefcfb3\",                        [{\"alignmentgroup\":\"True\",\"hovertemplate\":\"Party=Democrat\\u003cbr\\u003eYear=2004\\u003cbr\\u003eAge Group=18-29\\u003cbr\\u003e=%{x}\\u003cbr\\u003eVote Share=%{y}\\u003cextra\\u003e\\u003c\\u002fextra\\u003e\",\"legendgroup\":\"Democrat\",\"marker\":{\"color\":\"#636efa\",\"pattern\":{\"shape\":\"\"}},\"name\":\"Democrat\",\"offsetgroup\":\"Democrat\",\"orientation\":\"v\",\"showlegend\":true,\"textposition\":\"auto\",\"x\":[\"New York\",\"California\",\"New Hampshire\",\"Wisconsin\",\"Iowa\",\"Nevada\",\"Pennsylvania\",\"Virginia\",\"Ohio\",\"Florida\",\"North Carolina\",\"Arizona\",\"Indiana\",\"Georgia\",\"South Carolina\",\"Kentucky\",\"Texas\"],\"xaxis\":\"x\",\"y\":[0.7422680412371134,0.5979381443298969,0.57,0.5816326530612245,0.5353535353535354,0.5714285714285714,0.6060606060606061,0.54,0.5714285714285714,0.5858585858585859,0.5656565656565656,0.4897959183673469,0.47474747474747475,0.494949494949495,0.5757575757575758,0.53,0.5656565656565656],\"yaxis\":\"y\",\"type\":\"bar\"},{\"alignmentgroup\":\"True\",\"hovertemplate\":\"Party=Democrat\\u003cbr\\u003eYear=2004\\u003cbr\\u003eAge Group=30-44\\u003cbr\\u003e=%{x}\\u003cbr\\u003eVote Share=%{y}\\u003cextra\\u003e\\u003c\\u002fextra\\u003e\",\"legendgroup\":\"Democrat\",\"marker\":{\"color\":\"#636efa\",\"pattern\":{\"shape\":\"\"}},\"name\":\"Democrat\",\"offsetgroup\":\"Democrat\",\"orientation\":\"v\",\"showlegend\":false,\"textposition\":\"auto\",\"x\":[\"New York\",\"California\",\"New Hampshire\",\"Wisconsin\",\"Iowa\",\"Nevada\",\"Pennsylvania\",\"Virginia\",\"Ohio\",\"Florida\",\"North Carolina\",\"Arizona\",\"Indiana\",\"Georgia\",\"South Carolina\",\"Kentucky\",\"Texas\"],\"xaxis\":\"x2\",\"y\":[0.61,0.5306122448979592,0.45918367346938777,0.44,0.4444444444444444,0.47959183673469385,0.48484848484848486,0.40404040404040403,0.47474747474747475,0.46464646464646464,0.37755102040816324,0.3838383838383838,0.3333333333333333,0.58,0.55,0.44329896907216493,0.4897959183673469],\"yaxis\":\"y2\",\"type\":\"bar\"},{\"alignmentgroup\":\"True\",\"hovertemplate\":\"Party=Democrat\\u003cbr\\u003eYear=2004\\u003cbr\\u003eAge Group=45-64\\u003cbr\\u003e=%{x}\\u003cbr\\u003eVote Share=%{y}\\u003cextra\\u003e\\u003c\\u002fextra\\u003e\",\"legendgroup\":\"Democrat\",\"marker\":{\"color\":\"#636efa\",\"pattern\":{\"shape\":\"\"}},\"name\":\"Democrat\",\"offsetgroup\":\"Democrat\",\"orientation\":\"v\",\"showlegend\":false,\"textposition\":\"auto\",\"x\":[\"New York\",\"California\",\"New Hampshire\",\"Wisconsin\",\"Iowa\",\"Nevada\",\"Pennsylvania\",\"Virginia\",\"Ohio\",\"Florida\",\"North Carolina\",\"Arizona\",\"Indiana\",\"Georgia\",\"South Carolina\",\"Kentucky\",\"Texas\"],\"xaxis\":\"x3\",\"y\":[0.5252525252525253,0.6122448979591837,0.5151515151515151,0.5050505050505051,0.494949494949495,0.46464646464646464,0.48,0.45,0.48,0.42424242424242425,1.0,0.4329896907216495,0.42424242424242425,0.44,0.41,0.39,0.43434343434343436],\"yaxis\":\"y3\",\"type\":\"bar\"},{\"alignmentgroup\":\"True\",\"hovertemplate\":\"Party=Republican\\u003cbr\\u003eYear=2004\\u003cbr\\u003eAge Group=18-29\\u003cbr\\u003e=%{x}\\u003cbr\\u003eVote Share=%{y}\\u003cextra\\u003e\\u003c\\u002fextra\\u003e\",\"legendgroup\":\"Republican\",\"marker\":{\"color\":\"#EF553B\",\"pattern\":{\"shape\":\"\"}},\"name\":\"Republican\",\"offsetgroup\":\"Republican\",\"orientation\":\"v\",\"showlegend\":true,\"textposition\":\"auto\",\"x\":[\"New York\",\"California\",\"New Hampshire\",\"Wisconsin\",\"Iowa\",\"Nevada\",\"Pennsylvania\",\"Virginia\",\"Ohio\",\"Florida\",\"North Carolina\",\"Arizona\",\"Indiana\",\"Georgia\",\"South Carolina\",\"Kentucky\",\"Texas\"],\"xaxis\":\"x\",\"y\":[0.25773195876288657,0.4020618556701031,0.43000000000000005,0.41836734693877553,0.46464646464646464,0.4285714285714286,0.3939393939393939,0.45999999999999996,0.4285714285714286,0.41414141414141414,0.43434343434343436,0.5102040816326531,0.5252525252525253,0.505050505050505,0.4242424242424242,0.47,0.43434343434343436],\"yaxis\":\"y\",\"type\":\"bar\"},{\"alignmentgroup\":\"True\",\"hovertemplate\":\"Party=Republican\\u003cbr\\u003eYear=2004\\u003cbr\\u003eAge Group=30-44\\u003cbr\\u003e=%{x}\\u003cbr\\u003eVote Share=%{y}\\u003cextra\\u003e\\u003c\\u002fextra\\u003e\",\"legendgroup\":\"Republican\",\"marker\":{\"color\":\"#EF553B\",\"pattern\":{\"shape\":\"\"}},\"name\":\"Republican\",\"offsetgroup\":\"Republican\",\"orientation\":\"v\",\"showlegend\":false,\"textposition\":\"auto\",\"x\":[\"New York\",\"California\",\"New Hampshire\",\"Wisconsin\",\"Iowa\",\"Nevada\",\"Pennsylvania\",\"Virginia\",\"Ohio\",\"Florida\",\"North Carolina\",\"Arizona\",\"Indiana\",\"Georgia\",\"South Carolina\",\"Kentucky\",\"Texas\"],\"xaxis\":\"x2\",\"y\":[0.39,0.4693877551020408,0.5408163265306123,0.56,0.5555555555555556,0.5204081632653061,0.5151515151515151,0.595959595959596,0.5252525252525253,0.5353535353535354,0.6224489795918368,0.6161616161616161,0.6666666666666667,0.42000000000000004,0.44999999999999996,0.5567010309278351,0.5102040816326531],\"yaxis\":\"y2\",\"type\":\"bar\"},{\"alignmentgroup\":\"True\",\"hovertemplate\":\"Party=Republican\\u003cbr\\u003eYear=2004\\u003cbr\\u003eAge Group=45-64\\u003cbr\\u003e=%{x}\\u003cbr\\u003eVote Share=%{y}\\u003cextra\\u003e\\u003c\\u002fextra\\u003e\",\"legendgroup\":\"Republican\",\"marker\":{\"color\":\"#EF553B\",\"pattern\":{\"shape\":\"\"}},\"name\":\"Republican\",\"offsetgroup\":\"Republican\",\"orientation\":\"v\",\"showlegend\":false,\"textposition\":\"auto\",\"x\":[\"New York\",\"California\",\"New Hampshire\",\"Wisconsin\",\"Iowa\",\"Nevada\",\"Pennsylvania\",\"Virginia\",\"Ohio\",\"Florida\",\"North Carolina\",\"Arizona\",\"Indiana\",\"Georgia\",\"South Carolina\",\"Kentucky\",\"Texas\"],\"xaxis\":\"x3\",\"y\":[0.4747474747474747,0.3877551020408163,0.48484848484848486,0.4949494949494949,0.505050505050505,0.5353535353535354,0.52,0.55,0.52,0.5757575757575757,0.0,0.5670103092783505,0.5757575757575757,0.56,0.5900000000000001,0.61,0.5656565656565656],\"yaxis\":\"y3\",\"type\":\"bar\"}],                        {\"template\":{\"data\":{\"histogram2dcontour\":[{\"type\":\"histogram2dcontour\",\"colorbar\":{\"outlinewidth\":0,\"ticks\":\"\"},\"colorscale\":[[0.0,\"#0d0887\"],[0.1111111111111111,\"#46039f\"],[0.2222222222222222,\"#7201a8\"],[0.3333333333333333,\"#9c179e\"],[0.4444444444444444,\"#bd3786\"],[0.5555555555555556,\"#d8576b\"],[0.6666666666666666,\"#ed7953\"],[0.7777777777777778,\"#fb9f3a\"],[0.8888888888888888,\"#fdca26\"],[1.0,\"#f0f921\"]]}],\"choropleth\":[{\"type\":\"choropleth\",\"colorbar\":{\"outlinewidth\":0,\"ticks\":\"\"}}],\"histogram2d\":[{\"type\":\"histogram2d\",\"colorbar\":{\"outlinewidth\":0,\"ticks\":\"\"},\"colorscale\":[[0.0,\"#0d0887\"],[0.1111111111111111,\"#46039f\"],[0.2222222222222222,\"#7201a8\"],[0.3333333333333333,\"#9c179e\"],[0.4444444444444444,\"#bd3786\"],[0.5555555555555556,\"#d8576b\"],[0.6666666666666666,\"#ed7953\"],[0.7777777777777778,\"#fb9f3a\"],[0.8888888888888888,\"#fdca26\"],[1.0,\"#f0f921\"]]}],\"heatmap\":[{\"type\":\"heatmap\",\"colorbar\":{\"outlinewidth\":0,\"ticks\":\"\"},\"colorscale\":[[0.0,\"#0d0887\"],[0.1111111111111111,\"#46039f\"],[0.2222222222222222,\"#7201a8\"],[0.3333333333333333,\"#9c179e\"],[0.4444444444444444,\"#bd3786\"],[0.5555555555555556,\"#d8576b\"],[0.6666666666666666,\"#ed7953\"],[0.7777777777777778,\"#fb9f3a\"],[0.8888888888888888,\"#fdca26\"],[1.0,\"#f0f921\"]]}],\"heatmapgl\":[{\"type\":\"heatmapgl\",\"colorbar\":{\"outlinewidth\":0,\"ticks\":\"\"},\"colorscale\":[[0.0,\"#0d0887\"],[0.1111111111111111,\"#46039f\"],[0.2222222222222222,\"#7201a8\"],[0.3333333333333333,\"#9c179e\"],[0.4444444444444444,\"#bd3786\"],[0.5555555555555556,\"#d8576b\"],[0.6666666666666666,\"#ed7953\"],[0.7777777777777778,\"#fb9f3a\"],[0.8888888888888888,\"#fdca26\"],[1.0,\"#f0f921\"]]}],\"contourcarpet\":[{\"type\":\"contourcarpet\",\"colorbar\":{\"outlinewidth\":0,\"ticks\":\"\"}}],\"contour\":[{\"type\":\"contour\",\"colorbar\":{\"outlinewidth\":0,\"ticks\":\"\"},\"colorscale\":[[0.0,\"#0d0887\"],[0.1111111111111111,\"#46039f\"],[0.2222222222222222,\"#7201a8\"],[0.3333333333333333,\"#9c179e\"],[0.4444444444444444,\"#bd3786\"],[0.5555555555555556,\"#d8576b\"],[0.6666666666666666,\"#ed7953\"],[0.7777777777777778,\"#fb9f3a\"],[0.8888888888888888,\"#fdca26\"],[1.0,\"#f0f921\"]]}],\"surface\":[{\"type\":\"surface\",\"colorbar\":{\"outlinewidth\":0,\"ticks\":\"\"},\"colorscale\":[[0.0,\"#0d0887\"],[0.1111111111111111,\"#46039f\"],[0.2222222222222222,\"#7201a8\"],[0.3333333333333333,\"#9c179e\"],[0.4444444444444444,\"#bd3786\"],[0.5555555555555556,\"#d8576b\"],[0.6666666666666666,\"#ed7953\"],[0.7777777777777778,\"#fb9f3a\"],[0.8888888888888888,\"#fdca26\"],[1.0,\"#f0f921\"]]}],\"mesh3d\":[{\"type\":\"mesh3d\",\"colorbar\":{\"outlinewidth\":0,\"ticks\":\"\"}}],\"scatter\":[{\"fillpattern\":{\"fillmode\":\"overlay\",\"size\":10,\"solidity\":0.2},\"type\":\"scatter\"}],\"parcoords\":[{\"type\":\"parcoords\",\"line\":{\"colorbar\":{\"outlinewidth\":0,\"ticks\":\"\"}}}],\"scatterpolargl\":[{\"type\":\"scatterpolargl\",\"marker\":{\"colorbar\":{\"outlinewidth\":0,\"ticks\":\"\"}}}],\"bar\":[{\"error_x\":{\"color\":\"#2a3f5f\"},\"error_y\":{\"color\":\"#2a3f5f\"},\"marker\":{\"line\":{\"color\":\"#E5ECF6\",\"width\":0.5},\"pattern\":{\"fillmode\":\"overlay\",\"size\":10,\"solidity\":0.2}},\"type\":\"bar\"}],\"scattergeo\":[{\"type\":\"scattergeo\",\"marker\":{\"colorbar\":{\"outlinewidth\":0,\"ticks\":\"\"}}}],\"scatterpolar\":[{\"type\":\"scatterpolar\",\"marker\":{\"colorbar\":{\"outlinewidth\":0,\"ticks\":\"\"}}}],\"histogram\":[{\"marker\":{\"pattern\":{\"fillmode\":\"overlay\",\"size\":10,\"solidity\":0.2}},\"type\":\"histogram\"}],\"scattergl\":[{\"type\":\"scattergl\",\"marker\":{\"colorbar\":{\"outlinewidth\":0,\"ticks\":\"\"}}}],\"scatter3d\":[{\"type\":\"scatter3d\",\"line\":{\"colorbar\":{\"outlinewidth\":0,\"ticks\":\"\"}},\"marker\":{\"colorbar\":{\"outlinewidth\":0,\"ticks\":\"\"}}}],\"scattermapbox\":[{\"type\":\"scattermapbox\",\"marker\":{\"colorbar\":{\"outlinewidth\":0,\"ticks\":\"\"}}}],\"scatterternary\":[{\"type\":\"scatterternary\",\"marker\":{\"colorbar\":{\"outlinewidth\":0,\"ticks\":\"\"}}}],\"scattercarpet\":[{\"type\":\"scattercarpet\",\"marker\":{\"colorbar\":{\"outlinewidth\":0,\"ticks\":\"\"}}}],\"carpet\":[{\"aaxis\":{\"endlinecolor\":\"#2a3f5f\",\"gridcolor\":\"white\",\"linecolor\":\"white\",\"minorgridcolor\":\"white\",\"startlinecolor\":\"#2a3f5f\"},\"baxis\":{\"endlinecolor\":\"#2a3f5f\",\"gridcolor\":\"white\",\"linecolor\":\"white\",\"minorgridcolor\":\"white\",\"startlinecolor\":\"#2a3f5f\"},\"type\":\"carpet\"}],\"table\":[{\"cells\":{\"fill\":{\"color\":\"#EBF0F8\"},\"line\":{\"color\":\"white\"}},\"header\":{\"fill\":{\"color\":\"#C8D4E3\"},\"line\":{\"color\":\"white\"}},\"type\":\"table\"}],\"barpolar\":[{\"marker\":{\"line\":{\"color\":\"#E5ECF6\",\"width\":0.5},\"pattern\":{\"fillmode\":\"overlay\",\"size\":10,\"solidity\":0.2}},\"type\":\"barpolar\"}],\"pie\":[{\"automargin\":true,\"type\":\"pie\"}]},\"layout\":{\"autotypenumbers\":\"strict\",\"colorway\":[\"#636efa\",\"#EF553B\",\"#00cc96\",\"#ab63fa\",\"#FFA15A\",\"#19d3f3\",\"#FF6692\",\"#B6E880\",\"#FF97FF\",\"#FECB52\"],\"font\":{\"color\":\"#2a3f5f\"},\"hovermode\":\"closest\",\"hoverlabel\":{\"align\":\"left\"},\"paper_bgcolor\":\"white\",\"plot_bgcolor\":\"#E5ECF6\",\"polar\":{\"bgcolor\":\"#E5ECF6\",\"angularaxis\":{\"gridcolor\":\"white\",\"linecolor\":\"white\",\"ticks\":\"\"},\"radialaxis\":{\"gridcolor\":\"white\",\"linecolor\":\"white\",\"ticks\":\"\"}},\"ternary\":{\"bgcolor\":\"#E5ECF6\",\"aaxis\":{\"gridcolor\":\"white\",\"linecolor\":\"white\",\"ticks\":\"\"},\"baxis\":{\"gridcolor\":\"white\",\"linecolor\":\"white\",\"ticks\":\"\"},\"caxis\":{\"gridcolor\":\"white\",\"linecolor\":\"white\",\"ticks\":\"\"}},\"coloraxis\":{\"colorbar\":{\"outlinewidth\":0,\"ticks\":\"\"}},\"colorscale\":{\"sequential\":[[0.0,\"#0d0887\"],[0.1111111111111111,\"#46039f\"],[0.2222222222222222,\"#7201a8\"],[0.3333333333333333,\"#9c179e\"],[0.4444444444444444,\"#bd3786\"],[0.5555555555555556,\"#d8576b\"],[0.6666666666666666,\"#ed7953\"],[0.7777777777777778,\"#fb9f3a\"],[0.8888888888888888,\"#fdca26\"],[1.0,\"#f0f921\"]],\"sequentialminus\":[[0.0,\"#0d0887\"],[0.1111111111111111,\"#46039f\"],[0.2222222222222222,\"#7201a8\"],[0.3333333333333333,\"#9c179e\"],[0.4444444444444444,\"#bd3786\"],[0.5555555555555556,\"#d8576b\"],[0.6666666666666666,\"#ed7953\"],[0.7777777777777778,\"#fb9f3a\"],[0.8888888888888888,\"#fdca26\"],[1.0,\"#f0f921\"]],\"diverging\":[[0,\"#8e0152\"],[0.1,\"#c51b7d\"],[0.2,\"#de77ae\"],[0.3,\"#f1b6da\"],[0.4,\"#fde0ef\"],[0.5,\"#f7f7f7\"],[0.6,\"#e6f5d0\"],[0.7,\"#b8e186\"],[0.8,\"#7fbc41\"],[0.9,\"#4d9221\"],[1,\"#276419\"]]},\"xaxis\":{\"gridcolor\":\"white\",\"linecolor\":\"white\",\"ticks\":\"\",\"title\":{\"standoff\":15},\"zerolinecolor\":\"white\",\"automargin\":true,\"zerolinewidth\":2},\"yaxis\":{\"gridcolor\":\"white\",\"linecolor\":\"white\",\"ticks\":\"\",\"title\":{\"standoff\":15},\"zerolinecolor\":\"white\",\"automargin\":true,\"zerolinewidth\":2},\"scene\":{\"xaxis\":{\"backgroundcolor\":\"#E5ECF6\",\"gridcolor\":\"white\",\"linecolor\":\"white\",\"showbackground\":true,\"ticks\":\"\",\"zerolinecolor\":\"white\",\"gridwidth\":2},\"yaxis\":{\"backgroundcolor\":\"#E5ECF6\",\"gridcolor\":\"white\",\"linecolor\":\"white\",\"showbackground\":true,\"ticks\":\"\",\"zerolinecolor\":\"white\",\"gridwidth\":2},\"zaxis\":{\"backgroundcolor\":\"#E5ECF6\",\"gridcolor\":\"white\",\"linecolor\":\"white\",\"showbackground\":true,\"ticks\":\"\",\"zerolinecolor\":\"white\",\"gridwidth\":2}},\"shapedefaults\":{\"line\":{\"color\":\"#2a3f5f\"}},\"annotationdefaults\":{\"arrowcolor\":\"#2a3f5f\",\"arrowhead\":0,\"arrowwidth\":1},\"geo\":{\"bgcolor\":\"white\",\"landcolor\":\"#E5ECF6\",\"subunitcolor\":\"white\",\"showland\":true,\"showlakes\":true,\"lakecolor\":\"white\"},\"title\":{\"x\":0.05},\"mapbox\":{\"style\":\"light\"}}},\"xaxis\":{\"anchor\":\"y\",\"domain\":[0.0,0.31999999999999995],\"title\":{\"text\":\"\"},\"tickangle\":-45},\"yaxis\":{\"anchor\":\"x\",\"domain\":[0.0,1.0],\"title\":{\"text\":\"Vote Share\"}},\"xaxis2\":{\"anchor\":\"y2\",\"domain\":[0.33999999999999997,0.6599999999999999],\"matches\":\"x\",\"title\":{\"text\":\"\"},\"tickangle\":-45},\"yaxis2\":{\"anchor\":\"x2\",\"domain\":[0.0,1.0],\"matches\":\"y\",\"showticklabels\":false},\"xaxis3\":{\"anchor\":\"y3\",\"domain\":[0.6799999999999999,0.9999999999999999],\"matches\":\"x\",\"title\":{\"text\":\"\"},\"tickangle\":-45},\"yaxis3\":{\"anchor\":\"x3\",\"domain\":[0.0,1.0],\"matches\":\"y\",\"showticklabels\":false},\"annotations\":[{\"font\":{},\"showarrow\":false,\"text\":\"Age Group=18-29\",\"x\":0.15999999999999998,\"xanchor\":\"center\",\"xref\":\"paper\",\"y\":1.0,\"yanchor\":\"bottom\",\"yref\":\"paper\"},{\"font\":{},\"showarrow\":false,\"text\":\"Age Group=30-44\",\"x\":0.49999999999999994,\"xanchor\":\"center\",\"xref\":\"paper\",\"y\":1.0,\"yanchor\":\"bottom\",\"yref\":\"paper\"},{\"font\":{},\"showarrow\":false,\"text\":\"Age Group=45-64\",\"x\":0.8399999999999999,\"xanchor\":\"center\",\"xref\":\"paper\",\"y\":1.0,\"yanchor\":\"bottom\",\"yref\":\"paper\"}],\"legend\":{\"title\":{\"text\":\"Party\"},\"tracegroupgap\":0},\"title\":{\"text\":\"Vote Distribution by State, Age Group, and Year\",\"x\":0.5},\"barmode\":\"stack\",\"height\":450,\"updatemenus\":[{\"buttons\":[{\"args\":[null,{\"frame\":{\"duration\":500,\"redraw\":true},\"mode\":\"immediate\",\"fromcurrent\":true,\"transition\":{\"duration\":500,\"easing\":\"linear\"}}],\"label\":\"&#9654;\",\"method\":\"animate\"},{\"args\":[[null],{\"frame\":{\"duration\":0,\"redraw\":true},\"mode\":\"immediate\",\"fromcurrent\":true,\"transition\":{\"duration\":0,\"easing\":\"linear\"}}],\"label\":\"&#9724;\",\"method\":\"animate\"}],\"direction\":\"left\",\"pad\":{\"r\":10,\"t\":70},\"showactive\":false,\"type\":\"buttons\",\"x\":0.1,\"xanchor\":\"right\",\"y\":0,\"yanchor\":\"top\"}],\"sliders\":[{\"active\":0,\"currentvalue\":{\"prefix\":\"Year=\"},\"len\":0.9,\"pad\":{\"b\":10,\"t\":60},\"steps\":[{\"args\":[[\"2004\"],{\"frame\":{\"duration\":0,\"redraw\":true},\"mode\":\"immediate\",\"fromcurrent\":true,\"transition\":{\"duration\":0,\"easing\":\"linear\"}}],\"label\":\"2004\",\"method\":\"animate\"},{\"args\":[[\"2005\"],{\"frame\":{\"duration\":0,\"redraw\":true},\"mode\":\"immediate\",\"fromcurrent\":true,\"transition\":{\"duration\":0,\"easing\":\"linear\"}}],\"label\":\"2005\",\"method\":\"animate\"},{\"args\":[[\"2006\"],{\"frame\":{\"duration\":0,\"redraw\":true},\"mode\":\"immediate\",\"fromcurrent\":true,\"transition\":{\"duration\":0,\"easing\":\"linear\"}}],\"label\":\"2006\",\"method\":\"animate\"},{\"args\":[[\"2007\"],{\"frame\":{\"duration\":0,\"redraw\":true},\"mode\":\"immediate\",\"fromcurrent\":true,\"transition\":{\"duration\":0,\"easing\":\"linear\"}}],\"label\":\"2007\",\"method\":\"animate\"},{\"args\":[[\"2008\"],{\"frame\":{\"duration\":0,\"redraw\":true},\"mode\":\"immediate\",\"fromcurrent\":true,\"transition\":{\"duration\":0,\"easing\":\"linear\"}}],\"label\":\"2008\",\"method\":\"animate\"},{\"args\":[[\"2009\"],{\"frame\":{\"duration\":0,\"redraw\":true},\"mode\":\"immediate\",\"fromcurrent\":true,\"transition\":{\"duration\":0,\"easing\":\"linear\"}}],\"label\":\"2009\",\"method\":\"animate\"},{\"args\":[[\"2010\"],{\"frame\":{\"duration\":0,\"redraw\":true},\"mode\":\"immediate\",\"fromcurrent\":true,\"transition\":{\"duration\":0,\"easing\":\"linear\"}}],\"label\":\"2010\",\"method\":\"animate\"},{\"args\":[[\"2011\"],{\"frame\":{\"duration\":0,\"redraw\":true},\"mode\":\"immediate\",\"fromcurrent\":true,\"transition\":{\"duration\":0,\"easing\":\"linear\"}}],\"label\":\"2011\",\"method\":\"animate\"},{\"args\":[[\"2012\"],{\"frame\":{\"duration\":0,\"redraw\":true},\"mode\":\"immediate\",\"fromcurrent\":true,\"transition\":{\"duration\":0,\"easing\":\"linear\"}}],\"label\":\"2012\",\"method\":\"animate\"},{\"args\":[[\"2013\"],{\"frame\":{\"duration\":0,\"redraw\":true},\"mode\":\"immediate\",\"fromcurrent\":true,\"transition\":{\"duration\":0,\"easing\":\"linear\"}}],\"label\":\"2013\",\"method\":\"animate\"},{\"args\":[[\"2014\"],{\"frame\":{\"duration\":0,\"redraw\":true},\"mode\":\"immediate\",\"fromcurrent\":true,\"transition\":{\"duration\":0,\"easing\":\"linear\"}}],\"label\":\"2014\",\"method\":\"animate\"},{\"args\":[[\"2015\"],{\"frame\":{\"duration\":0,\"redraw\":true},\"mode\":\"immediate\",\"fromcurrent\":true,\"transition\":{\"duration\":0,\"easing\":\"linear\"}}],\"label\":\"2015\",\"method\":\"animate\"},{\"args\":[[\"2016\"],{\"frame\":{\"duration\":0,\"redraw\":true},\"mode\":\"immediate\",\"fromcurrent\":true,\"transition\":{\"duration\":0,\"easing\":\"linear\"}}],\"label\":\"2016\",\"method\":\"animate\"}],\"x\":0.1,\"xanchor\":\"left\",\"y\":0,\"yanchor\":\"top\"}],\"bargap\":0.4},                        {\"responsive\": true}                    ).then(function(){\n",
       "                            Plotly.addFrames('6fda36fb-e793-4981-b1de-cf1eacefcfb3', [{\"data\":[{\"alignmentgroup\":\"True\",\"hovertemplate\":\"Party=Democrat\\u003cbr\\u003eYear=2004\\u003cbr\\u003eAge Group=18-29\\u003cbr\\u003e=%{x}\\u003cbr\\u003eVote Share=%{y}\\u003cextra\\u003e\\u003c\\u002fextra\\u003e\",\"legendgroup\":\"Democrat\",\"marker\":{\"color\":\"#636efa\",\"pattern\":{\"shape\":\"\"}},\"name\":\"Democrat\",\"offsetgroup\":\"Democrat\",\"orientation\":\"v\",\"showlegend\":true,\"textposition\":\"auto\",\"x\":[\"New York\",\"California\",\"New Hampshire\",\"Wisconsin\",\"Iowa\",\"Nevada\",\"Pennsylvania\",\"Virginia\",\"Ohio\",\"Florida\",\"North Carolina\",\"Arizona\",\"Indiana\",\"Georgia\",\"South Carolina\",\"Kentucky\",\"Texas\"],\"xaxis\":\"x\",\"y\":[0.7422680412371134,0.5979381443298969,0.57,0.5816326530612245,0.5353535353535354,0.5714285714285714,0.6060606060606061,0.54,0.5714285714285714,0.5858585858585859,0.5656565656565656,0.4897959183673469,0.47474747474747475,0.494949494949495,0.5757575757575758,0.53,0.5656565656565656],\"yaxis\":\"y\",\"type\":\"bar\"},{\"alignmentgroup\":\"True\",\"hovertemplate\":\"Party=Democrat\\u003cbr\\u003eYear=2004\\u003cbr\\u003eAge Group=30-44\\u003cbr\\u003e=%{x}\\u003cbr\\u003eVote Share=%{y}\\u003cextra\\u003e\\u003c\\u002fextra\\u003e\",\"legendgroup\":\"Democrat\",\"marker\":{\"color\":\"#636efa\",\"pattern\":{\"shape\":\"\"}},\"name\":\"Democrat\",\"offsetgroup\":\"Democrat\",\"orientation\":\"v\",\"showlegend\":false,\"textposition\":\"auto\",\"x\":[\"New York\",\"California\",\"New Hampshire\",\"Wisconsin\",\"Iowa\",\"Nevada\",\"Pennsylvania\",\"Virginia\",\"Ohio\",\"Florida\",\"North Carolina\",\"Arizona\",\"Indiana\",\"Georgia\",\"South Carolina\",\"Kentucky\",\"Texas\"],\"xaxis\":\"x2\",\"y\":[0.61,0.5306122448979592,0.45918367346938777,0.44,0.4444444444444444,0.47959183673469385,0.48484848484848486,0.40404040404040403,0.47474747474747475,0.46464646464646464,0.37755102040816324,0.3838383838383838,0.3333333333333333,0.58,0.55,0.44329896907216493,0.4897959183673469],\"yaxis\":\"y2\",\"type\":\"bar\"},{\"alignmentgroup\":\"True\",\"hovertemplate\":\"Party=Democrat\\u003cbr\\u003eYear=2004\\u003cbr\\u003eAge Group=45-64\\u003cbr\\u003e=%{x}\\u003cbr\\u003eVote Share=%{y}\\u003cextra\\u003e\\u003c\\u002fextra\\u003e\",\"legendgroup\":\"Democrat\",\"marker\":{\"color\":\"#636efa\",\"pattern\":{\"shape\":\"\"}},\"name\":\"Democrat\",\"offsetgroup\":\"Democrat\",\"orientation\":\"v\",\"showlegend\":false,\"textposition\":\"auto\",\"x\":[\"New York\",\"California\",\"New Hampshire\",\"Wisconsin\",\"Iowa\",\"Nevada\",\"Pennsylvania\",\"Virginia\",\"Ohio\",\"Florida\",\"North Carolina\",\"Arizona\",\"Indiana\",\"Georgia\",\"South Carolina\",\"Kentucky\",\"Texas\"],\"xaxis\":\"x3\",\"y\":[0.5252525252525253,0.6122448979591837,0.5151515151515151,0.5050505050505051,0.494949494949495,0.46464646464646464,0.48,0.45,0.48,0.42424242424242425,1.0,0.4329896907216495,0.42424242424242425,0.44,0.41,0.39,0.43434343434343436],\"yaxis\":\"y3\",\"type\":\"bar\"},{\"alignmentgroup\":\"True\",\"hovertemplate\":\"Party=Republican\\u003cbr\\u003eYear=2004\\u003cbr\\u003eAge Group=18-29\\u003cbr\\u003e=%{x}\\u003cbr\\u003eVote Share=%{y}\\u003cextra\\u003e\\u003c\\u002fextra\\u003e\",\"legendgroup\":\"Republican\",\"marker\":{\"color\":\"#EF553B\",\"pattern\":{\"shape\":\"\"}},\"name\":\"Republican\",\"offsetgroup\":\"Republican\",\"orientation\":\"v\",\"showlegend\":true,\"textposition\":\"auto\",\"x\":[\"New York\",\"California\",\"New Hampshire\",\"Wisconsin\",\"Iowa\",\"Nevada\",\"Pennsylvania\",\"Virginia\",\"Ohio\",\"Florida\",\"North Carolina\",\"Arizona\",\"Indiana\",\"Georgia\",\"South Carolina\",\"Kentucky\",\"Texas\"],\"xaxis\":\"x\",\"y\":[0.25773195876288657,0.4020618556701031,0.43000000000000005,0.41836734693877553,0.46464646464646464,0.4285714285714286,0.3939393939393939,0.45999999999999996,0.4285714285714286,0.41414141414141414,0.43434343434343436,0.5102040816326531,0.5252525252525253,0.505050505050505,0.4242424242424242,0.47,0.43434343434343436],\"yaxis\":\"y\",\"type\":\"bar\"},{\"alignmentgroup\":\"True\",\"hovertemplate\":\"Party=Republican\\u003cbr\\u003eYear=2004\\u003cbr\\u003eAge Group=30-44\\u003cbr\\u003e=%{x}\\u003cbr\\u003eVote Share=%{y}\\u003cextra\\u003e\\u003c\\u002fextra\\u003e\",\"legendgroup\":\"Republican\",\"marker\":{\"color\":\"#EF553B\",\"pattern\":{\"shape\":\"\"}},\"name\":\"Republican\",\"offsetgroup\":\"Republican\",\"orientation\":\"v\",\"showlegend\":false,\"textposition\":\"auto\",\"x\":[\"New York\",\"California\",\"New Hampshire\",\"Wisconsin\",\"Iowa\",\"Nevada\",\"Pennsylvania\",\"Virginia\",\"Ohio\",\"Florida\",\"North Carolina\",\"Arizona\",\"Indiana\",\"Georgia\",\"South Carolina\",\"Kentucky\",\"Texas\"],\"xaxis\":\"x2\",\"y\":[0.39,0.4693877551020408,0.5408163265306123,0.56,0.5555555555555556,0.5204081632653061,0.5151515151515151,0.595959595959596,0.5252525252525253,0.5353535353535354,0.6224489795918368,0.6161616161616161,0.6666666666666667,0.42000000000000004,0.44999999999999996,0.5567010309278351,0.5102040816326531],\"yaxis\":\"y2\",\"type\":\"bar\"},{\"alignmentgroup\":\"True\",\"hovertemplate\":\"Party=Republican\\u003cbr\\u003eYear=2004\\u003cbr\\u003eAge Group=45-64\\u003cbr\\u003e=%{x}\\u003cbr\\u003eVote Share=%{y}\\u003cextra\\u003e\\u003c\\u002fextra\\u003e\",\"legendgroup\":\"Republican\",\"marker\":{\"color\":\"#EF553B\",\"pattern\":{\"shape\":\"\"}},\"name\":\"Republican\",\"offsetgroup\":\"Republican\",\"orientation\":\"v\",\"showlegend\":false,\"textposition\":\"auto\",\"x\":[\"New York\",\"California\",\"New Hampshire\",\"Wisconsin\",\"Iowa\",\"Nevada\",\"Pennsylvania\",\"Virginia\",\"Ohio\",\"Florida\",\"North Carolina\",\"Arizona\",\"Indiana\",\"Georgia\",\"South Carolina\",\"Kentucky\",\"Texas\"],\"xaxis\":\"x3\",\"y\":[0.4747474747474747,0.3877551020408163,0.48484848484848486,0.4949494949494949,0.505050505050505,0.5353535353535354,0.52,0.55,0.52,0.5757575757575757,0.0,0.5670103092783505,0.5757575757575757,0.56,0.5900000000000001,0.61,0.5656565656565656],\"yaxis\":\"y3\",\"type\":\"bar\"}],\"name\":\"2004\"},{\"data\":[{\"alignmentgroup\":\"True\",\"hovertemplate\":\"Party=Democrat\\u003cbr\\u003eYear=2005\\u003cbr\\u003eAge Group=18-29\\u003cbr\\u003e=%{x}\\u003cbr\\u003eVote Share=%{y}\\u003cextra\\u003e\\u003c\\u002fextra\\u003e\",\"legendgroup\":\"Democrat\",\"marker\":{\"color\":\"#636efa\",\"pattern\":{\"shape\":\"\"}},\"name\":\"Democrat\",\"offsetgroup\":\"Democrat\",\"orientation\":\"v\",\"showlegend\":true,\"textposition\":\"auto\",\"x\":[\"New York\",\"California\",\"New Hampshire\",\"Wisconsin\",\"Iowa\",\"Nevada\",\"Pennsylvania\",\"Virginia\",\"Ohio\",\"Florida\",\"North Carolina\",\"Arizona\",\"Indiana\",\"Georgia\",\"South Carolina\",\"Kentucky\",\"Texas\"],\"xaxis\":\"x\",\"y\":[0.7525773195876289,0.6403728001666146,0.5831122448979591,0.59784065141208,0.5587316463605123,0.5994897959183674,0.6170454545454546,0.5565151515151515,0.5857879234167893,0.5950061842918986,0.6092424242424243,0.4973469387755102,0.5167748917748918,0.49242424242424243,0.5707070707070707,0.5262878787878789,0.5606060606060606],\"yaxis\":\"y\",\"type\":\"bar\"},{\"alignmentgroup\":\"True\",\"hovertemplate\":\"Party=Democrat\\u003cbr\\u003eYear=2005\\u003cbr\\u003eAge Group=30-44\\u003cbr\\u003e=%{x}\\u003cbr\\u003eVote Share=%{y}\\u003cextra\\u003e\\u003c\\u002fextra\\u003e\",\"legendgroup\":\"Democrat\",\"marker\":{\"color\":\"#636efa\",\"pattern\":{\"shape\":\"\"}},\"name\":\"Democrat\",\"offsetgroup\":\"Democrat\",\"orientation\":\"v\",\"showlegend\":false,\"textposition\":\"auto\",\"x\":[\"New York\",\"California\",\"New Hampshire\",\"Wisconsin\",\"Iowa\",\"Nevada\",\"Pennsylvania\",\"Virginia\",\"Ohio\",\"Florida\",\"North Carolina\",\"Arizona\",\"Indiana\",\"Georgia\",\"South Carolina\",\"Kentucky\",\"Texas\"],\"xaxis\":\"x2\",\"y\":[0.61,0.5484693877551021,0.4731756338899196,0.46775510204081633,0.45578231292517,0.5143330528087524,0.4937384044526902,0.4331323438466296,0.4861626468769326,0.4734848484848485,0.40316326530612245,0.4064354889097157,0.3686868686868687,0.575,0.5475000000000001,0.44329896907216493,0.4846938775510204],\"yaxis\":\"y2\",\"type\":\"bar\"},{\"alignmentgroup\":\"True\",\"hovertemplate\":\"Party=Democrat\\u003cbr\\u003eYear=2005\\u003cbr\\u003eAge Group=45-64\\u003cbr\\u003e=%{x}\\u003cbr\\u003eVote Share=%{y}\\u003cextra\\u003e\\u003c\\u002fextra\\u003e\",\"legendgroup\":\"Democrat\",\"marker\":{\"color\":\"#636efa\",\"pattern\":{\"shape\":\"\"}},\"name\":\"Democrat\",\"offsetgroup\":\"Democrat\",\"orientation\":\"v\",\"showlegend\":false,\"textposition\":\"auto\",\"x\":[\"New York\",\"California\",\"New Hampshire\",\"Wisconsin\",\"Iowa\",\"Nevada\",\"Pennsylvania\",\"Virginia\",\"Ohio\",\"Florida\",\"North Carolina\",\"Arizona\",\"Indiana\",\"Georgia\",\"South Carolina\",\"Kentucky\",\"Texas\"],\"xaxis\":\"x3\",\"y\":[0.5429292929292929,0.6122448979591837,0.5277777777777778,0.5227272727272727,0.5089672232529375,0.47992814745392065,0.5003061224489795,0.4662878787878788,0.49383838383838385,0.4494949494949495,0.8585858585858586,0.4318851251840943,0.44191919191919193,0.435,0.40499999999999997,0.39,0.4292929292929293],\"yaxis\":\"y3\",\"type\":\"bar\"},{\"alignmentgroup\":\"True\",\"hovertemplate\":\"Party=Republican\\u003cbr\\u003eYear=2005\\u003cbr\\u003eAge Group=18-29\\u003cbr\\u003e=%{x}\\u003cbr\\u003eVote Share=%{y}\\u003cextra\\u003e\\u003c\\u002fextra\\u003e\",\"legendgroup\":\"Republican\",\"marker\":{\"color\":\"#EF553B\",\"pattern\":{\"shape\":\"\"}},\"name\":\"Republican\",\"offsetgroup\":\"Republican\",\"orientation\":\"v\",\"showlegend\":true,\"textposition\":\"auto\",\"x\":[\"New York\",\"California\",\"New Hampshire\",\"Wisconsin\",\"Iowa\",\"Nevada\",\"Pennsylvania\",\"Virginia\",\"Ohio\",\"Florida\",\"North Carolina\",\"Arizona\",\"Indiana\",\"Georgia\",\"South Carolina\",\"Kentucky\",\"Texas\"],\"xaxis\":\"x\",\"y\":[0.24742268041237114,0.3596271998333854,0.4168877551020409,0.40215934858792,0.4412683536394877,0.4005102040816326,0.38295454545454544,0.4434848484848485,0.4142120765832107,0.40499381570810145,0.39075757575757575,0.5026530612244898,0.4832251082251082,0.5075757575757576,0.4292929292929293,0.47371212121212114,0.43939393939393945],\"yaxis\":\"y\",\"type\":\"bar\"},{\"alignmentgroup\":\"True\",\"hovertemplate\":\"Party=Republican\\u003cbr\\u003eYear=2005\\u003cbr\\u003eAge Group=30-44\\u003cbr\\u003e=%{x}\\u003cbr\\u003eVote Share=%{y}\\u003cextra\\u003e\\u003c\\u002fextra\\u003e\",\"legendgroup\":\"Republican\",\"marker\":{\"color\":\"#EF553B\",\"pattern\":{\"shape\":\"\"}},\"name\":\"Republican\",\"offsetgroup\":\"Republican\",\"orientation\":\"v\",\"showlegend\":false,\"textposition\":\"auto\",\"x\":[\"New York\",\"California\",\"New Hampshire\",\"Wisconsin\",\"Iowa\",\"Nevada\",\"Pennsylvania\",\"Virginia\",\"Ohio\",\"Florida\",\"North Carolina\",\"Arizona\",\"Indiana\",\"Georgia\",\"South Carolina\",\"Kentucky\",\"Texas\"],\"xaxis\":\"x2\",\"y\":[0.39,0.4515306122448979,0.5268243661100804,0.5322448979591836,0.54421768707483,0.4856669471912476,0.5062615955473098,0.5668676561533704,0.5138373531230673,0.5265151515151515,0.5968367346938775,0.5935645110902843,0.6313131313131313,0.42500000000000004,0.4524999999999999,0.5567010309278351,0.5153061224489797],\"yaxis\":\"y2\",\"type\":\"bar\"},{\"alignmentgroup\":\"True\",\"hovertemplate\":\"Party=Republican\\u003cbr\\u003eYear=2005\\u003cbr\\u003eAge Group=45-64\\u003cbr\\u003e=%{x}\\u003cbr\\u003eVote Share=%{y}\\u003cextra\\u003e\\u003c\\u002fextra\\u003e\",\"legendgroup\":\"Republican\",\"marker\":{\"color\":\"#EF553B\",\"pattern\":{\"shape\":\"\"}},\"name\":\"Republican\",\"offsetgroup\":\"Republican\",\"orientation\":\"v\",\"showlegend\":false,\"textposition\":\"auto\",\"x\":[\"New York\",\"California\",\"New Hampshire\",\"Wisconsin\",\"Iowa\",\"Nevada\",\"Pennsylvania\",\"Virginia\",\"Ohio\",\"Florida\",\"North Carolina\",\"Arizona\",\"Indiana\",\"Georgia\",\"South Carolina\",\"Kentucky\",\"Texas\"],\"xaxis\":\"x3\",\"y\":[0.45707070707070707,0.3877551020408163,0.4722222222222222,0.4772727272727273,0.49103277674706247,0.5200718525460793,0.49969387755102046,0.5337121212121212,0.5061616161616161,0.5505050505050505,0.14141414141414144,0.5681148748159057,0.5580808080808081,0.565,0.595,0.61,0.5707070707070707],\"yaxis\":\"y3\",\"type\":\"bar\"}],\"name\":\"2005\"},{\"data\":[{\"alignmentgroup\":\"True\",\"hovertemplate\":\"Party=Democrat\\u003cbr\\u003eYear=2006\\u003cbr\\u003eAge Group=18-29\\u003cbr\\u003e=%{x}\\u003cbr\\u003eVote Share=%{y}\\u003cextra\\u003e\\u003c\\u002fextra\\u003e\",\"legendgroup\":\"Democrat\",\"marker\":{\"color\":\"#636efa\",\"pattern\":{\"shape\":\"\"}},\"name\":\"Democrat\",\"offsetgroup\":\"Democrat\",\"orientation\":\"v\",\"showlegend\":true,\"textposition\":\"auto\",\"x\":[\"New York\",\"California\",\"New Hampshire\",\"Wisconsin\",\"Iowa\",\"Nevada\",\"Pennsylvania\",\"Virginia\",\"Ohio\",\"Florida\",\"North Carolina\",\"Arizona\",\"Indiana\",\"Georgia\",\"South Carolina\",\"Kentucky\",\"Texas\"],\"xaxis\":\"x\",\"y\":[0.7628865979381443,0.6828074560033323,0.5962244897959184,0.6140486497629355,0.5821097573674894,0.6275510204081632,0.628030303030303,0.573030303030303,0.6001472754050073,0.6041537827252113,0.6528282828282828,0.5048979591836735,0.5588023088023089,0.48989898989898994,0.5656565656565657,0.5225757575757576,0.5555555555555556],\"yaxis\":\"y\",\"type\":\"bar\"},{\"alignmentgroup\":\"True\",\"hovertemplate\":\"Party=Democrat\\u003cbr\\u003eYear=2006\\u003cbr\\u003eAge Group=30-44\\u003cbr\\u003e=%{x}\\u003cbr\\u003eVote Share=%{y}\\u003cextra\\u003e\\u003c\\u002fextra\\u003e\",\"legendgroup\":\"Democrat\",\"marker\":{\"color\":\"#636efa\",\"pattern\":{\"shape\":\"\"}},\"name\":\"Democrat\",\"offsetgroup\":\"Democrat\",\"orientation\":\"v\",\"showlegend\":false,\"textposition\":\"auto\",\"x\":[\"New York\",\"California\",\"New Hampshire\",\"Wisconsin\",\"Iowa\",\"Nevada\",\"Pennsylvania\",\"Virginia\",\"Ohio\",\"Florida\",\"North Carolina\",\"Arizona\",\"Indiana\",\"Georgia\",\"South Carolina\",\"Kentucky\",\"Texas\"],\"xaxis\":\"x2\",\"y\":[0.61,0.5663265306122449,0.4871675943104514,0.4955102040816326,0.4671201814058957,0.5490742688828109,0.5026283240568955,0.46222428365285506,0.4975778190063904,0.4823232323232323,0.4287755102040816,0.42903259398104754,0.40404040404040403,0.5700000000000001,0.545,0.44329896907216493,0.47959183673469385],\"yaxis\":\"y2\",\"type\":\"bar\"},{\"alignmentgroup\":\"True\",\"hovertemplate\":\"Party=Democrat\\u003cbr\\u003eYear=2006\\u003cbr\\u003eAge Group=45-64\\u003cbr\\u003e=%{x}\\u003cbr\\u003eVote Share=%{y}\\u003cextra\\u003e\\u003c\\u002fextra\\u003e\",\"legendgroup\":\"Democrat\",\"marker\":{\"color\":\"#636efa\",\"pattern\":{\"shape\":\"\"}},\"name\":\"Democrat\",\"offsetgroup\":\"Democrat\",\"orientation\":\"v\",\"showlegend\":false,\"textposition\":\"auto\",\"x\":[\"New York\",\"California\",\"New Hampshire\",\"Wisconsin\",\"Iowa\",\"Nevada\",\"Pennsylvania\",\"Virginia\",\"Ohio\",\"Florida\",\"North Carolina\",\"Arizona\",\"Indiana\",\"Georgia\",\"South Carolina\",\"Kentucky\",\"Texas\"],\"xaxis\":\"x3\",\"y\":[0.5606060606060606,0.6122448979591837,0.5404040404040404,0.5404040404040404,0.5229849515563801,0.49520983026137666,0.5206122448979591,0.48257575757575755,0.5076767676767677,0.4747474747474748,0.7171717171717171,0.43078055964653905,0.4595959595959596,0.43,0.4,0.39,0.42424242424242425],\"yaxis\":\"y3\",\"type\":\"bar\"},{\"alignmentgroup\":\"True\",\"hovertemplate\":\"Party=Republican\\u003cbr\\u003eYear=2006\\u003cbr\\u003eAge Group=18-29\\u003cbr\\u003e=%{x}\\u003cbr\\u003eVote Share=%{y}\\u003cextra\\u003e\\u003c\\u002fextra\\u003e\",\"legendgroup\":\"Republican\",\"marker\":{\"color\":\"#EF553B\",\"pattern\":{\"shape\":\"\"}},\"name\":\"Republican\",\"offsetgroup\":\"Republican\",\"orientation\":\"v\",\"showlegend\":true,\"textposition\":\"auto\",\"x\":[\"New York\",\"California\",\"New Hampshire\",\"Wisconsin\",\"Iowa\",\"Nevada\",\"Pennsylvania\",\"Virginia\",\"Ohio\",\"Florida\",\"North Carolina\",\"Arizona\",\"Indiana\",\"Georgia\",\"South Carolina\",\"Kentucky\",\"Texas\"],\"xaxis\":\"x\",\"y\":[0.23711340206185572,0.31719254399666774,0.40377551020408164,0.3859513502370645,0.4178902426325106,0.37244897959183676,0.37196969696969695,0.426969696969697,0.39985272459499266,0.39584621727478875,0.34717171717171724,0.49510204081632647,0.44119769119769114,0.51010101010101,0.43434343434343425,0.4774242424242424,0.4444444444444444],\"yaxis\":\"y\",\"type\":\"bar\"},{\"alignmentgroup\":\"True\",\"hovertemplate\":\"Party=Republican\\u003cbr\\u003eYear=2006\\u003cbr\\u003eAge Group=30-44\\u003cbr\\u003e=%{x}\\u003cbr\\u003eVote Share=%{y}\\u003cextra\\u003e\\u003c\\u002fextra\\u003e\",\"legendgroup\":\"Republican\",\"marker\":{\"color\":\"#EF553B\",\"pattern\":{\"shape\":\"\"}},\"name\":\"Republican\",\"offsetgroup\":\"Republican\",\"orientation\":\"v\",\"showlegend\":false,\"textposition\":\"auto\",\"x\":[\"New York\",\"California\",\"New Hampshire\",\"Wisconsin\",\"Iowa\",\"Nevada\",\"Pennsylvania\",\"Virginia\",\"Ohio\",\"Florida\",\"North Carolina\",\"Arizona\",\"Indiana\",\"Georgia\",\"South Carolina\",\"Kentucky\",\"Texas\"],\"xaxis\":\"x2\",\"y\":[0.39,0.4336734693877551,0.5128324056895486,0.5044897959183674,0.5328798185941044,0.45092573111718914,0.4973716759431045,0.5377757163471449,0.5024221809936096,0.5176767676767677,0.5712244897959184,0.5709674060189525,0.595959595959596,0.42999999999999994,0.45499999999999996,0.5567010309278351,0.5204081632653061],\"yaxis\":\"y2\",\"type\":\"bar\"},{\"alignmentgroup\":\"True\",\"hovertemplate\":\"Party=Republican\\u003cbr\\u003eYear=2006\\u003cbr\\u003eAge Group=45-64\\u003cbr\\u003e=%{x}\\u003cbr\\u003eVote Share=%{y}\\u003cextra\\u003e\\u003c\\u002fextra\\u003e\",\"legendgroup\":\"Republican\",\"marker\":{\"color\":\"#EF553B\",\"pattern\":{\"shape\":\"\"}},\"name\":\"Republican\",\"offsetgroup\":\"Republican\",\"orientation\":\"v\",\"showlegend\":false,\"textposition\":\"auto\",\"x\":[\"New York\",\"California\",\"New Hampshire\",\"Wisconsin\",\"Iowa\",\"Nevada\",\"Pennsylvania\",\"Virginia\",\"Ohio\",\"Florida\",\"North Carolina\",\"Arizona\",\"Indiana\",\"Georgia\",\"South Carolina\",\"Kentucky\",\"Texas\"],\"xaxis\":\"x3\",\"y\":[0.43939393939393945,0.3877551020408163,0.45959595959595956,0.45959595959595956,0.47701504844361986,0.5047901697386233,0.4793877551020409,0.5174242424242425,0.4923232323232323,0.5252525252525252,0.2828282828282829,0.569219440353461,0.5404040404040404,0.5700000000000001,0.6,0.61,0.5757575757575757],\"yaxis\":\"y3\",\"type\":\"bar\"}],\"name\":\"2006\"},{\"data\":[{\"alignmentgroup\":\"True\",\"hovertemplate\":\"Party=Democrat\\u003cbr\\u003eYear=2007\\u003cbr\\u003eAge Group=18-29\\u003cbr\\u003e=%{x}\\u003cbr\\u003eVote Share=%{y}\\u003cextra\\u003e\\u003c\\u002fextra\\u003e\",\"legendgroup\":\"Democrat\",\"marker\":{\"color\":\"#636efa\",\"pattern\":{\"shape\":\"\"}},\"name\":\"Democrat\",\"offsetgroup\":\"Democrat\",\"orientation\":\"v\",\"showlegend\":true,\"textposition\":\"auto\",\"x\":[\"New York\",\"California\",\"New Hampshire\",\"Wisconsin\",\"Iowa\",\"Nevada\",\"Pennsylvania\",\"Virginia\",\"Ohio\",\"Florida\",\"North Carolina\",\"Arizona\",\"Indiana\",\"Georgia\",\"South Carolina\",\"Kentucky\",\"Texas\"],\"xaxis\":\"x\",\"y\":[0.7731958762886598,0.7252421118400499,0.6093367346938776,0.630256648113791,0.6054878683744663,0.6556122448979591,0.6390151515151515,0.5895454545454546,0.6145066273932254,0.6133013811585241,0.6964141414141414,0.5124489795918368,0.6008297258297259,0.4873737373737374,0.5606060606060607,0.5188636363636363,0.5505050505050505],\"yaxis\":\"y\",\"type\":\"bar\"},{\"alignmentgroup\":\"True\",\"hovertemplate\":\"Party=Democrat\\u003cbr\\u003eYear=2007\\u003cbr\\u003eAge Group=30-44\\u003cbr\\u003e=%{x}\\u003cbr\\u003eVote Share=%{y}\\u003cextra\\u003e\\u003c\\u002fextra\\u003e\",\"legendgroup\":\"Democrat\",\"marker\":{\"color\":\"#636efa\",\"pattern\":{\"shape\":\"\"}},\"name\":\"Democrat\",\"offsetgroup\":\"Democrat\",\"orientation\":\"v\",\"showlegend\":false,\"textposition\":\"auto\",\"x\":[\"New York\",\"California\",\"New Hampshire\",\"Wisconsin\",\"Iowa\",\"Nevada\",\"Pennsylvania\",\"Virginia\",\"Ohio\",\"Florida\",\"North Carolina\",\"Arizona\",\"Indiana\",\"Georgia\",\"South Carolina\",\"Kentucky\",\"Texas\"],\"xaxis\":\"x2\",\"y\":[0.61,0.5841836734693877,0.5011595547309833,0.5232653061224489,0.47845804988662133,0.5838154849568693,0.5115182436611008,0.4913162234590806,0.5089929911358483,0.49116161616161613,0.45438775510204077,0.45162969905237943,0.4393939393939394,0.5650000000000001,0.5425,0.44329896907216493,0.4744897959183674],\"yaxis\":\"y2\",\"type\":\"bar\"},{\"alignmentgroup\":\"True\",\"hovertemplate\":\"Party=Democrat\\u003cbr\\u003eYear=2007\\u003cbr\\u003eAge Group=45-64\\u003cbr\\u003e=%{x}\\u003cbr\\u003eVote Share=%{y}\\u003cextra\\u003e\\u003c\\u002fextra\\u003e\",\"legendgroup\":\"Democrat\",\"marker\":{\"color\":\"#636efa\",\"pattern\":{\"shape\":\"\"}},\"name\":\"Democrat\",\"offsetgroup\":\"Democrat\",\"orientation\":\"v\",\"showlegend\":false,\"textposition\":\"auto\",\"x\":[\"New York\",\"California\",\"New Hampshire\",\"Wisconsin\",\"Iowa\",\"Nevada\",\"Pennsylvania\",\"Virginia\",\"Ohio\",\"Florida\",\"North Carolina\",\"Arizona\",\"Indiana\",\"Georgia\",\"South Carolina\",\"Kentucky\",\"Texas\"],\"xaxis\":\"x3\",\"y\":[0.5782828282828283,0.6122448979591837,0.553030303030303,0.5580808080808082,0.5370026798598226,0.5104915130688327,0.5409183673469388,0.49886363636363634,0.5215151515151515,0.5,0.5757575757575758,0.42967599410898377,0.4772727272727273,0.425,0.395,0.39,0.4191919191919192],\"yaxis\":\"y3\",\"type\":\"bar\"},{\"alignmentgroup\":\"True\",\"hovertemplate\":\"Party=Republican\\u003cbr\\u003eYear=2007\\u003cbr\\u003eAge Group=18-29\\u003cbr\\u003e=%{x}\\u003cbr\\u003eVote Share=%{y}\\u003cextra\\u003e\\u003c\\u002fextra\\u003e\",\"legendgroup\":\"Republican\",\"marker\":{\"color\":\"#EF553B\",\"pattern\":{\"shape\":\"\"}},\"name\":\"Republican\",\"offsetgroup\":\"Republican\",\"orientation\":\"v\",\"showlegend\":true,\"textposition\":\"auto\",\"x\":[\"New York\",\"California\",\"New Hampshire\",\"Wisconsin\",\"Iowa\",\"Nevada\",\"Pennsylvania\",\"Virginia\",\"Ohio\",\"Florida\",\"North Carolina\",\"Arizona\",\"Indiana\",\"Georgia\",\"South Carolina\",\"Kentucky\",\"Texas\"],\"xaxis\":\"x\",\"y\":[0.22680412371134018,0.27475788815995006,0.3906632653061224,0.369743351886209,0.39451213162553367,0.3443877551020409,0.36098484848484846,0.4104545454545454,0.38549337260677463,0.38669861884147594,0.3035858585858586,0.4875510204081632,0.39917027417027406,0.5126262626262625,0.43939393939393934,0.4811363636363637,0.4494949494949495],\"yaxis\":\"y\",\"type\":\"bar\"},{\"alignmentgroup\":\"True\",\"hovertemplate\":\"Party=Republican\\u003cbr\\u003eYear=2007\\u003cbr\\u003eAge Group=30-44\\u003cbr\\u003e=%{x}\\u003cbr\\u003eVote Share=%{y}\\u003cextra\\u003e\\u003c\\u002fextra\\u003e\",\"legendgroup\":\"Republican\",\"marker\":{\"color\":\"#EF553B\",\"pattern\":{\"shape\":\"\"}},\"name\":\"Republican\",\"offsetgroup\":\"Republican\",\"orientation\":\"v\",\"showlegend\":false,\"textposition\":\"auto\",\"x\":[\"New York\",\"California\",\"New Hampshire\",\"Wisconsin\",\"Iowa\",\"Nevada\",\"Pennsylvania\",\"Virginia\",\"Ohio\",\"Florida\",\"North Carolina\",\"Arizona\",\"Indiana\",\"Georgia\",\"South Carolina\",\"Kentucky\",\"Texas\"],\"xaxis\":\"x2\",\"y\":[0.39,0.4158163265306123,0.4988404452690167,0.4767346938775511,0.5215419501133787,0.4161845150431307,0.48848175633889923,0.5086837765409193,0.4910070088641517,0.5088383838383839,0.5456122448979592,0.5483703009476206,0.5606060606060606,0.43499999999999994,0.4575,0.5567010309278351,0.5255102040816326],\"yaxis\":\"y2\",\"type\":\"bar\"},{\"alignmentgroup\":\"True\",\"hovertemplate\":\"Party=Republican\\u003cbr\\u003eYear=2007\\u003cbr\\u003eAge Group=45-64\\u003cbr\\u003e=%{x}\\u003cbr\\u003eVote Share=%{y}\\u003cextra\\u003e\\u003c\\u002fextra\\u003e\",\"legendgroup\":\"Republican\",\"marker\":{\"color\":\"#EF553B\",\"pattern\":{\"shape\":\"\"}},\"name\":\"Republican\",\"offsetgroup\":\"Republican\",\"orientation\":\"v\",\"showlegend\":false,\"textposition\":\"auto\",\"x\":[\"New York\",\"California\",\"New Hampshire\",\"Wisconsin\",\"Iowa\",\"Nevada\",\"Pennsylvania\",\"Virginia\",\"Ohio\",\"Florida\",\"North Carolina\",\"Arizona\",\"Indiana\",\"Georgia\",\"South Carolina\",\"Kentucky\",\"Texas\"],\"xaxis\":\"x3\",\"y\":[0.4217171717171717,0.3877551020408163,0.446969696969697,0.4419191919191918,0.46299732014017736,0.48950848693116733,0.45908163265306123,0.5011363636363637,0.4784848484848485,0.5,0.4242424242424242,0.5703240058910162,0.5227272727272727,0.575,0.605,0.61,0.5808080808080808],\"yaxis\":\"y3\",\"type\":\"bar\"}],\"name\":\"2007\"},{\"data\":[{\"alignmentgroup\":\"True\",\"hovertemplate\":\"Party=Democrat\\u003cbr\\u003eYear=2008\\u003cbr\\u003eAge Group=18-29\\u003cbr\\u003e=%{x}\\u003cbr\\u003eVote Share=%{y}\\u003cextra\\u003e\\u003c\\u002fextra\\u003e\",\"legendgroup\":\"Democrat\",\"marker\":{\"color\":\"#636efa\",\"pattern\":{\"shape\":\"\"}},\"name\":\"Democrat\",\"offsetgroup\":\"Democrat\",\"orientation\":\"v\",\"showlegend\":true,\"textposition\":\"auto\",\"x\":[\"New York\",\"California\",\"New Hampshire\",\"Wisconsin\",\"Iowa\",\"Nevada\",\"Pennsylvania\",\"Virginia\",\"Ohio\",\"Florida\",\"North Carolina\",\"Arizona\",\"Indiana\",\"Georgia\",\"South Carolina\",\"Kentucky\",\"Texas\"],\"xaxis\":\"x\",\"y\":[0.7835051546391752,0.7676767676767676,0.6224489795918368,0.6464646464646465,0.6288659793814433,0.6836734693877551,0.65,0.6060606060606061,0.6288659793814433,0.6224489795918368,0.74,0.52,0.6428571428571429,0.48484848484848486,0.5555555555555556,0.5151515151515151,0.5454545454545454],\"yaxis\":\"y\",\"type\":\"bar\"},{\"alignmentgroup\":\"True\",\"hovertemplate\":\"Party=Democrat\\u003cbr\\u003eYear=2008\\u003cbr\\u003eAge Group=30-44\\u003cbr\\u003e=%{x}\\u003cbr\\u003eVote Share=%{y}\\u003cextra\\u003e\\u003c\\u002fextra\\u003e\",\"legendgroup\":\"Democrat\",\"marker\":{\"color\":\"#636efa\",\"pattern\":{\"shape\":\"\"}},\"name\":\"Democrat\",\"offsetgroup\":\"Democrat\",\"orientation\":\"v\",\"showlegend\":false,\"textposition\":\"auto\",\"x\":[\"New York\",\"California\",\"New Hampshire\",\"Wisconsin\",\"Iowa\",\"Nevada\",\"Pennsylvania\",\"Virginia\",\"Ohio\",\"Florida\",\"North Carolina\",\"Arizona\",\"Indiana\",\"Georgia\",\"South Carolina\",\"Kentucky\",\"Texas\"],\"xaxis\":\"x2\",\"y\":[0.61,0.6020408163265306,0.5151515151515151,0.5510204081632653,0.4897959183673469,0.6185567010309279,0.5204081632653061,0.5204081632653061,0.5204081632653061,0.5,0.48,0.4742268041237113,0.47474747474747475,0.56,0.54,0.44329896907216493,0.46938775510204084],\"yaxis\":\"y2\",\"type\":\"bar\"},{\"alignmentgroup\":\"True\",\"hovertemplate\":\"Party=Democrat\\u003cbr\\u003eYear=2008\\u003cbr\\u003eAge Group=45-64\\u003cbr\\u003e=%{x}\\u003cbr\\u003eVote Share=%{y}\\u003cextra\\u003e\\u003c\\u002fextra\\u003e\",\"legendgroup\":\"Democrat\",\"marker\":{\"color\":\"#636efa\",\"pattern\":{\"shape\":\"\"}},\"name\":\"Democrat\",\"offsetgroup\":\"Democrat\",\"orientation\":\"v\",\"showlegend\":false,\"textposition\":\"auto\",\"x\":[\"New York\",\"California\",\"New Hampshire\",\"Wisconsin\",\"Iowa\",\"Nevada\",\"Pennsylvania\",\"Virginia\",\"Ohio\",\"Florida\",\"North Carolina\",\"Arizona\",\"Indiana\",\"Georgia\",\"South Carolina\",\"Kentucky\",\"Texas\"],\"xaxis\":\"x3\",\"y\":[0.5959595959595959,0.6122448979591837,0.5656565656565656,0.5757575757575758,0.5510204081632653,0.5257731958762887,0.5612244897959183,0.5151515151515151,0.5353535353535354,0.5252525252525253,0.43434343434343436,0.42857142857142855,0.494949494949495,0.42,0.39,0.39,0.41414141414141414],\"yaxis\":\"y3\",\"type\":\"bar\"},{\"alignmentgroup\":\"True\",\"hovertemplate\":\"Party=Republican\\u003cbr\\u003eYear=2008\\u003cbr\\u003eAge Group=18-29\\u003cbr\\u003e=%{x}\\u003cbr\\u003eVote Share=%{y}\\u003cextra\\u003e\\u003c\\u002fextra\\u003e\",\"legendgroup\":\"Republican\",\"marker\":{\"color\":\"#EF553B\",\"pattern\":{\"shape\":\"\"}},\"name\":\"Republican\",\"offsetgroup\":\"Republican\",\"orientation\":\"v\",\"showlegend\":true,\"textposition\":\"auto\",\"x\":[\"New York\",\"California\",\"New Hampshire\",\"Wisconsin\",\"Iowa\",\"Nevada\",\"Pennsylvania\",\"Virginia\",\"Ohio\",\"Florida\",\"North Carolina\",\"Arizona\",\"Indiana\",\"Georgia\",\"South Carolina\",\"Kentucky\",\"Texas\"],\"xaxis\":\"x\",\"y\":[0.21649484536082475,0.23232323232323238,0.37755102040816324,0.3535353535353535,0.3711340206185567,0.3163265306122449,0.35,0.3939393939393939,0.3711340206185567,0.37755102040816324,0.26,0.48,0.3571428571428571,0.5151515151515151,0.4444444444444444,0.48484848484848486,0.4545454545454546],\"yaxis\":\"y\",\"type\":\"bar\"},{\"alignmentgroup\":\"True\",\"hovertemplate\":\"Party=Republican\\u003cbr\\u003eYear=2008\\u003cbr\\u003eAge Group=30-44\\u003cbr\\u003e=%{x}\\u003cbr\\u003eVote Share=%{y}\\u003cextra\\u003e\\u003c\\u002fextra\\u003e\",\"legendgroup\":\"Republican\",\"marker\":{\"color\":\"#EF553B\",\"pattern\":{\"shape\":\"\"}},\"name\":\"Republican\",\"offsetgroup\":\"Republican\",\"orientation\":\"v\",\"showlegend\":false,\"textposition\":\"auto\",\"x\":[\"New York\",\"California\",\"New Hampshire\",\"Wisconsin\",\"Iowa\",\"Nevada\",\"Pennsylvania\",\"Virginia\",\"Ohio\",\"Florida\",\"North Carolina\",\"Arizona\",\"Indiana\",\"Georgia\",\"South Carolina\",\"Kentucky\",\"Texas\"],\"xaxis\":\"x2\",\"y\":[0.39,0.3979591836734694,0.48484848484848486,0.44897959183673475,0.5102040816326531,0.38144329896907214,0.47959183673469385,0.47959183673469385,0.47959183673469385,0.5,0.52,0.5257731958762887,0.5252525252525253,0.43999999999999995,0.45999999999999996,0.5567010309278351,0.5306122448979591],\"yaxis\":\"y2\",\"type\":\"bar\"},{\"alignmentgroup\":\"True\",\"hovertemplate\":\"Party=Republican\\u003cbr\\u003eYear=2008\\u003cbr\\u003eAge Group=45-64\\u003cbr\\u003e=%{x}\\u003cbr\\u003eVote Share=%{y}\\u003cextra\\u003e\\u003c\\u002fextra\\u003e\",\"legendgroup\":\"Republican\",\"marker\":{\"color\":\"#EF553B\",\"pattern\":{\"shape\":\"\"}},\"name\":\"Republican\",\"offsetgroup\":\"Republican\",\"orientation\":\"v\",\"showlegend\":false,\"textposition\":\"auto\",\"x\":[\"New York\",\"California\",\"New Hampshire\",\"Wisconsin\",\"Iowa\",\"Nevada\",\"Pennsylvania\",\"Virginia\",\"Ohio\",\"Florida\",\"North Carolina\",\"Arizona\",\"Indiana\",\"Georgia\",\"South Carolina\",\"Kentucky\",\"Texas\"],\"xaxis\":\"x3\",\"y\":[0.4040404040404041,0.3877551020408163,0.43434343434343436,0.4242424242424242,0.44897959183673475,0.4742268041237113,0.4387755102040817,0.48484848484848486,0.46464646464646464,0.4747474747474747,0.5656565656565656,0.5714285714285714,0.505050505050505,0.5800000000000001,0.61,0.61,0.5858585858585859],\"yaxis\":\"y3\",\"type\":\"bar\"}],\"name\":\"2008\"},{\"data\":[{\"alignmentgroup\":\"True\",\"hovertemplate\":\"Party=Democrat\\u003cbr\\u003eYear=2009\\u003cbr\\u003eAge Group=18-29\\u003cbr\\u003e=%{x}\\u003cbr\\u003eVote Share=%{y}\\u003cextra\\u003e\\u003c\\u002fextra\\u003e\",\"legendgroup\":\"Democrat\",\"marker\":{\"color\":\"#636efa\",\"pattern\":{\"shape\":\"\"}},\"name\":\"Democrat\",\"offsetgroup\":\"Democrat\",\"orientation\":\"v\",\"showlegend\":true,\"textposition\":\"auto\",\"x\":[\"New York\",\"California\",\"New Hampshire\",\"Wisconsin\",\"Iowa\",\"Nevada\",\"Pennsylvania\",\"Virginia\",\"Ohio\",\"Florida\",\"North Carolina\",\"Arizona\",\"Indiana\",\"Georgia\",\"South Carolina\",\"Kentucky\",\"Texas\"],\"xaxis\":\"x\",\"y\":[0.7731958762886598,0.7568800247371675,0.6282950680272109,0.6394876601062168,0.6174828178694158,0.6862244897959183,0.6482142857142857,0.6117619493908154,0.6323637702503682,0.6352040816326531,0.7241919191919192,0.5583673469387755,0.6031954887218045,0.5050505050505051,0.5286458333333334,0.5166827852998066,0.5559981255857545],\"yaxis\":\"y\",\"type\":\"bar\"},{\"alignmentgroup\":\"True\",\"hovertemplate\":\"Party=Democrat\\u003cbr\\u003eYear=2009\\u003cbr\\u003eAge Group=30-44\\u003cbr\\u003e=%{x}\\u003cbr\\u003eVote Share=%{y}\\u003cextra\\u003e\\u003c\\u002fextra\\u003e\",\"legendgroup\":\"Democrat\",\"marker\":{\"color\":\"#636efa\",\"pattern\":{\"shape\":\"\"}},\"name\":\"Democrat\",\"offsetgroup\":\"Democrat\",\"orientation\":\"v\",\"showlegend\":false,\"textposition\":\"auto\",\"x\":[\"New York\",\"California\",\"New Hampshire\",\"Wisconsin\",\"Iowa\",\"Nevada\",\"Pennsylvania\",\"Virginia\",\"Ohio\",\"Florida\",\"North Carolina\",\"Arizona\",\"Indiana\",\"Georgia\",\"South Carolina\",\"Kentucky\",\"Texas\"],\"xaxis\":\"x2\",\"y\":[0.6131122448979591,0.607780612244898,0.5088126159554731,0.5420531849103277,0.49866007008864155,0.6045425257731959,0.5306122448979592,0.528061224489796,0.5217494214180518,0.5076530612244898,0.48878787878787877,0.461340206185567,0.47977194626679165,0.5577551020408164,0.5325510204081633,0.4421681043551441,0.4770408163265306],\"yaxis\":\"y2\",\"type\":\"bar\"},{\"alignmentgroup\":\"True\",\"hovertemplate\":\"Party=Democrat\\u003cbr\\u003eYear=2009\\u003cbr\\u003eAge Group=45-64\\u003cbr\\u003e=%{x}\\u003cbr\\u003eVote Share=%{y}\\u003cextra\\u003e\\u003c\\u002fextra\\u003e\",\"legendgroup\":\"Democrat\",\"marker\":{\"color\":\"#636efa\",\"pattern\":{\"shape\":\"\"}},\"name\":\"Democrat\",\"offsetgroup\":\"Democrat\",\"orientation\":\"v\",\"showlegend\":false,\"textposition\":\"auto\",\"x\":[\"New York\",\"California\",\"New Hampshire\",\"Wisconsin\",\"Iowa\",\"Nevada\",\"Pennsylvania\",\"Virginia\",\"Ohio\",\"Florida\",\"North Carolina\",\"Arizona\",\"Indiana\",\"Georgia\",\"South Carolina\",\"Kentucky\",\"Texas\"],\"xaxis\":\"x3\",\"y\":[0.601010101010101,0.5930220573077716,0.547979797979798,0.5606060606060607,0.5459183673469388,0.5193298969072165,0.54213048855906,0.5025252525252525,0.521413110698825,0.5139393939393939,0.44325757575757574,0.43001443001443,0.4812121212121212,0.43116161616161613,0.39856060606060606,0.36137755102040814,0.4217171717171717],\"yaxis\":\"y3\",\"type\":\"bar\"},{\"alignmentgroup\":\"True\",\"hovertemplate\":\"Party=Republican\\u003cbr\\u003eYear=2009\\u003cbr\\u003eAge Group=18-29\\u003cbr\\u003e=%{x}\\u003cbr\\u003eVote Share=%{y}\\u003cextra\\u003e\\u003c\\u002fextra\\u003e\",\"legendgroup\":\"Republican\",\"marker\":{\"color\":\"#EF553B\",\"pattern\":{\"shape\":\"\"}},\"name\":\"Republican\",\"offsetgroup\":\"Republican\",\"orientation\":\"v\",\"showlegend\":true,\"textposition\":\"auto\",\"x\":[\"New York\",\"California\",\"New Hampshire\",\"Wisconsin\",\"Iowa\",\"Nevada\",\"Pennsylvania\",\"Virginia\",\"Ohio\",\"Florida\",\"North Carolina\",\"Arizona\",\"Indiana\",\"Georgia\",\"South Carolina\",\"Kentucky\",\"Texas\"],\"xaxis\":\"x\",\"y\":[0.22680412371134018,0.24311997526283247,0.3717049319727891,0.3605123398937832,0.38251718213058417,0.3137755102040817,0.35178571428571426,0.3882380506091846,0.36763622974963184,0.3647959183673469,0.27580808080808084,0.44163265306122446,0.3968045112781955,0.4949494949494949,0.47135416666666663,0.4833172147001934,0.44400187441424555],\"yaxis\":\"y\",\"type\":\"bar\"},{\"alignmentgroup\":\"True\",\"hovertemplate\":\"Party=Republican\\u003cbr\\u003eYear=2009\\u003cbr\\u003eAge Group=30-44\\u003cbr\\u003e=%{x}\\u003cbr\\u003eVote Share=%{y}\\u003cextra\\u003e\\u003c\\u002fextra\\u003e\",\"legendgroup\":\"Republican\",\"marker\":{\"color\":\"#EF553B\",\"pattern\":{\"shape\":\"\"}},\"name\":\"Republican\",\"offsetgroup\":\"Republican\",\"orientation\":\"v\",\"showlegend\":false,\"textposition\":\"auto\",\"x\":[\"New York\",\"California\",\"New Hampshire\",\"Wisconsin\",\"Iowa\",\"Nevada\",\"Pennsylvania\",\"Virginia\",\"Ohio\",\"Florida\",\"North Carolina\",\"Arizona\",\"Indiana\",\"Georgia\",\"South Carolina\",\"Kentucky\",\"Texas\"],\"xaxis\":\"x2\",\"y\":[0.3868877551020409,0.392219387755102,0.4911873840445269,0.4579468150896723,0.5013399299113585,0.3954574742268041,0.4693877551020408,0.471938775510204,0.4782505785819482,0.49234693877551017,0.5112121212121212,0.5386597938144331,0.5202280537332084,0.44224489795918365,0.46744897959183673,0.5578318956448559,0.5229591836734694],\"yaxis\":\"y2\",\"type\":\"bar\"},{\"alignmentgroup\":\"True\",\"hovertemplate\":\"Party=Republican\\u003cbr\\u003eYear=2009\\u003cbr\\u003eAge Group=45-64\\u003cbr\\u003e=%{x}\\u003cbr\\u003eVote Share=%{y}\\u003cextra\\u003e\\u003c\\u002fextra\\u003e\",\"legendgroup\":\"Republican\",\"marker\":{\"color\":\"#EF553B\",\"pattern\":{\"shape\":\"\"}},\"name\":\"Republican\",\"offsetgroup\":\"Republican\",\"orientation\":\"v\",\"showlegend\":false,\"textposition\":\"auto\",\"x\":[\"New York\",\"California\",\"New Hampshire\",\"Wisconsin\",\"Iowa\",\"Nevada\",\"Pennsylvania\",\"Virginia\",\"Ohio\",\"Florida\",\"North Carolina\",\"Arizona\",\"Indiana\",\"Georgia\",\"South Carolina\",\"Kentucky\",\"Texas\"],\"xaxis\":\"x3\",\"y\":[0.398989898989899,0.4069779426922284,0.452020202020202,0.43939393939393934,0.45408163265306123,0.48067010309278346,0.45786951144094,0.4974747474747475,0.478586889301175,0.4860606060606061,0.5567424242424243,0.56998556998557,0.5187878787878788,0.5688383838383839,0.6014393939393939,0.6386224489795919,0.5782828282828283],\"yaxis\":\"y3\",\"type\":\"bar\"}],\"name\":\"2009\"},{\"data\":[{\"alignmentgroup\":\"True\",\"hovertemplate\":\"Party=Democrat\\u003cbr\\u003eYear=2010\\u003cbr\\u003eAge Group=18-29\\u003cbr\\u003e=%{x}\\u003cbr\\u003eVote Share=%{y}\\u003cextra\\u003e\\u003c\\u002fextra\\u003e\",\"legendgroup\":\"Democrat\",\"marker\":{\"color\":\"#636efa\",\"pattern\":{\"shape\":\"\"}},\"name\":\"Democrat\",\"offsetgroup\":\"Democrat\",\"orientation\":\"v\",\"showlegend\":true,\"textposition\":\"auto\",\"x\":[\"New York\",\"California\",\"New Hampshire\",\"Wisconsin\",\"Iowa\",\"Nevada\",\"Pennsylvania\",\"Virginia\",\"Ohio\",\"Florida\",\"North Carolina\",\"Arizona\",\"Indiana\",\"Georgia\",\"South Carolina\",\"Kentucky\",\"Texas\"],\"xaxis\":\"x\",\"y\":[0.7628865979381443,0.7460832817975676,0.6341411564625851,0.6325106737477872,0.6060996563573884,0.6887755102040816,0.6464285714285715,0.6174632927210246,0.635861561119293,0.6479591836734694,0.7083838383838383,0.5967346938775511,0.5635338345864662,0.5252525252525253,0.5017361111111112,0.5182140554480981,0.5665417057169635],\"yaxis\":\"y\",\"type\":\"bar\"},{\"alignmentgroup\":\"True\",\"hovertemplate\":\"Party=Democrat\\u003cbr\\u003eYear=2010\\u003cbr\\u003eAge Group=30-44\\u003cbr\\u003e=%{x}\\u003cbr\\u003eVote Share=%{y}\\u003cextra\\u003e\\u003c\\u002fextra\\u003e\",\"legendgroup\":\"Democrat\",\"marker\":{\"color\":\"#636efa\",\"pattern\":{\"shape\":\"\"}},\"name\":\"Democrat\",\"offsetgroup\":\"Democrat\",\"orientation\":\"v\",\"showlegend\":false,\"textposition\":\"auto\",\"x\":[\"New York\",\"California\",\"New Hampshire\",\"Wisconsin\",\"Iowa\",\"Nevada\",\"Pennsylvania\",\"Virginia\",\"Ohio\",\"Florida\",\"North Carolina\",\"Arizona\",\"Indiana\",\"Georgia\",\"South Carolina\",\"Kentucky\",\"Texas\"],\"xaxis\":\"x2\",\"y\":[0.6162244897959184,0.6135204081632653,0.5024737167594311,0.5330859616573902,0.5075242218099361,0.5905283505154639,0.5408163265306123,0.5357142857142857,0.5230906795707975,0.5153061224489797,0.49757575757575756,0.44845360824742264,0.4847964177861085,0.5555102040816327,0.5251020408163265,0.44103723963812325,0.48469387755102045],\"yaxis\":\"y2\",\"type\":\"bar\"},{\"alignmentgroup\":\"True\",\"hovertemplate\":\"Party=Democrat\\u003cbr\\u003eYear=2010\\u003cbr\\u003eAge Group=45-64\\u003cbr\\u003e=%{x}\\u003cbr\\u003eVote Share=%{y}\\u003cextra\\u003e\\u003c\\u002fextra\\u003e\",\"legendgroup\":\"Democrat\",\"marker\":{\"color\":\"#636efa\",\"pattern\":{\"shape\":\"\"}},\"name\":\"Democrat\",\"offsetgroup\":\"Democrat\",\"orientation\":\"v\",\"showlegend\":false,\"textposition\":\"auto\",\"x\":[\"New York\",\"California\",\"New Hampshire\",\"Wisconsin\",\"Iowa\",\"Nevada\",\"Pennsylvania\",\"Virginia\",\"Ohio\",\"Florida\",\"North Carolina\",\"Arizona\",\"Indiana\",\"Georgia\",\"South Carolina\",\"Kentucky\",\"Texas\"],\"xaxis\":\"x3\",\"y\":[0.606060606060606,0.5737992166563595,0.5303030303030303,0.5454545454545454,0.5408163265306123,0.5128865979381443,0.5230364873222015,0.4898989898989899,0.5074726860441146,0.5026262626262626,0.45217171717171717,0.43145743145743143,0.4674747474747475,0.44232323232323234,0.4071212121212121,0.3327551020408163,0.4292929292929293],\"yaxis\":\"y3\",\"type\":\"bar\"},{\"alignmentgroup\":\"True\",\"hovertemplate\":\"Party=Republican\\u003cbr\\u003eYear=2010\\u003cbr\\u003eAge Group=18-29\\u003cbr\\u003e=%{x}\\u003cbr\\u003eVote Share=%{y}\\u003cextra\\u003e\\u003c\\u002fextra\\u003e\",\"legendgroup\":\"Republican\",\"marker\":{\"color\":\"#EF553B\",\"pattern\":{\"shape\":\"\"}},\"name\":\"Republican\",\"offsetgroup\":\"Republican\",\"orientation\":\"v\",\"showlegend\":true,\"textposition\":\"auto\",\"x\":[\"New York\",\"California\",\"New Hampshire\",\"Wisconsin\",\"Iowa\",\"Nevada\",\"Pennsylvania\",\"Virginia\",\"Ohio\",\"Florida\",\"North Carolina\",\"Arizona\",\"Indiana\",\"Georgia\",\"South Carolina\",\"Kentucky\",\"Texas\"],\"xaxis\":\"x\",\"y\":[0.23711340206185572,0.25391671820243245,0.36585884353741494,0.36748932625221276,0.3939003436426116,0.31122448979591844,0.35357142857142854,0.3825367072789754,0.36413843888070696,0.3520408163265306,0.29161616161616166,0.40326530612244893,0.4364661654135338,0.4747474747474747,0.49826388888888884,0.48178594455190193,0.4334582942830365],\"yaxis\":\"y\",\"type\":\"bar\"},{\"alignmentgroup\":\"True\",\"hovertemplate\":\"Party=Republican\\u003cbr\\u003eYear=2010\\u003cbr\\u003eAge Group=30-44\\u003cbr\\u003e=%{x}\\u003cbr\\u003eVote Share=%{y}\\u003cextra\\u003e\\u003c\\u002fextra\\u003e\",\"legendgroup\":\"Republican\",\"marker\":{\"color\":\"#EF553B\",\"pattern\":{\"shape\":\"\"}},\"name\":\"Republican\",\"offsetgroup\":\"Republican\",\"orientation\":\"v\",\"showlegend\":false,\"textposition\":\"auto\",\"x\":[\"New York\",\"California\",\"New Hampshire\",\"Wisconsin\",\"Iowa\",\"Nevada\",\"Pennsylvania\",\"Virginia\",\"Ohio\",\"Florida\",\"North Carolina\",\"Arizona\",\"Indiana\",\"Georgia\",\"South Carolina\",\"Kentucky\",\"Texas\"],\"xaxis\":\"x2\",\"y\":[0.3837755102040816,0.38647959183673475,0.4975262832405689,0.4669140383426098,0.49247577819006394,0.40947164948453607,0.4591836734693877,0.4642857142857143,0.47690932042920253,0.48469387755102034,0.5024242424242424,0.5515463917525774,0.5152035822138915,0.44448979591836735,0.4748979591836735,0.5589627603618768,0.5153061224489796],\"yaxis\":\"y2\",\"type\":\"bar\"},{\"alignmentgroup\":\"True\",\"hovertemplate\":\"Party=Republican\\u003cbr\\u003eYear=2010\\u003cbr\\u003eAge Group=45-64\\u003cbr\\u003e=%{x}\\u003cbr\\u003eVote Share=%{y}\\u003cextra\\u003e\\u003c\\u002fextra\\u003e\",\"legendgroup\":\"Republican\",\"marker\":{\"color\":\"#EF553B\",\"pattern\":{\"shape\":\"\"}},\"name\":\"Republican\",\"offsetgroup\":\"Republican\",\"orientation\":\"v\",\"showlegend\":false,\"textposition\":\"auto\",\"x\":[\"New York\",\"California\",\"New Hampshire\",\"Wisconsin\",\"Iowa\",\"Nevada\",\"Pennsylvania\",\"Virginia\",\"Ohio\",\"Florida\",\"North Carolina\",\"Arizona\",\"Indiana\",\"Georgia\",\"South Carolina\",\"Kentucky\",\"Texas\"],\"xaxis\":\"x3\",\"y\":[0.39393939393939403,0.42620078334364053,0.4696969696969697,0.4545454545454546,0.4591836734693877,0.4871134020618557,0.47696351267779846,0.5101010101010102,0.49252731395588545,0.49737373737373736,0.5478282828282828,0.5685425685425686,0.5325252525252525,0.5576767676767677,0.5928787878787879,0.6672448979591836,0.5707070707070707],\"yaxis\":\"y3\",\"type\":\"bar\"}],\"name\":\"2010\"},{\"data\":[{\"alignmentgroup\":\"True\",\"hovertemplate\":\"Party=Democrat\\u003cbr\\u003eYear=2011\\u003cbr\\u003eAge Group=18-29\\u003cbr\\u003e=%{x}\\u003cbr\\u003eVote Share=%{y}\\u003cextra\\u003e\\u003c\\u002fextra\\u003e\",\"legendgroup\":\"Democrat\",\"marker\":{\"color\":\"#636efa\",\"pattern\":{\"shape\":\"\"}},\"name\":\"Democrat\",\"offsetgroup\":\"Democrat\",\"orientation\":\"v\",\"showlegend\":true,\"textposition\":\"auto\",\"x\":[\"New York\",\"California\",\"New Hampshire\",\"Wisconsin\",\"Iowa\",\"Nevada\",\"Pennsylvania\",\"Virginia\",\"Ohio\",\"Florida\",\"North Carolina\",\"Arizona\",\"Indiana\",\"Georgia\",\"South Carolina\",\"Kentucky\",\"Texas\"],\"xaxis\":\"x\",\"y\":[0.7525773195876289,0.7352865388579675,0.6399872448979592,0.6255336873893576,0.5947164948453608,0.6913265306122449,0.6446428571428572,0.623164636051234,0.639359351988218,0.6607142857142857,0.6925757575757576,0.6351020408163265,0.5238721804511278,0.5454545454545454,0.4748263888888889,0.5197453255963894,0.5770852858481724],\"yaxis\":\"y\",\"type\":\"bar\"},{\"alignmentgroup\":\"True\",\"hovertemplate\":\"Party=Democrat\\u003cbr\\u003eYear=2011\\u003cbr\\u003eAge Group=30-44\\u003cbr\\u003e=%{x}\\u003cbr\\u003eVote Share=%{y}\\u003cextra\\u003e\\u003c\\u002fextra\\u003e\",\"legendgroup\":\"Democrat\",\"marker\":{\"color\":\"#636efa\",\"pattern\":{\"shape\":\"\"}},\"name\":\"Democrat\",\"offsetgroup\":\"Democrat\",\"orientation\":\"v\",\"showlegend\":false,\"textposition\":\"auto\",\"x\":[\"New York\",\"California\",\"New Hampshire\",\"Wisconsin\",\"Iowa\",\"Nevada\",\"Pennsylvania\",\"Virginia\",\"Ohio\",\"Florida\",\"North Carolina\",\"Arizona\",\"Indiana\",\"Georgia\",\"South Carolina\",\"Kentucky\",\"Texas\"],\"xaxis\":\"x2\",\"y\":[0.6193367346938776,0.6192602040816326,0.49613481756338895,0.5241187384044527,0.5163883735312307,0.576514175257732,0.5510204081632653,0.5433673469387754,0.524431937723543,0.5229591836734694,0.5063636363636363,0.43556701030927836,0.4898208893054254,0.553265306122449,0.5176530612244898,0.43990637492110246,0.4923469387755102],\"yaxis\":\"y2\",\"type\":\"bar\"},{\"alignmentgroup\":\"True\",\"hovertemplate\":\"Party=Democrat\\u003cbr\\u003eYear=2011\\u003cbr\\u003eAge Group=45-64\\u003cbr\\u003e=%{x}\\u003cbr\\u003eVote Share=%{y}\\u003cextra\\u003e\\u003c\\u002fextra\\u003e\",\"legendgroup\":\"Democrat\",\"marker\":{\"color\":\"#636efa\",\"pattern\":{\"shape\":\"\"}},\"name\":\"Democrat\",\"offsetgroup\":\"Democrat\",\"orientation\":\"v\",\"showlegend\":false,\"textposition\":\"auto\",\"x\":[\"New York\",\"California\",\"New Hampshire\",\"Wisconsin\",\"Iowa\",\"Nevada\",\"Pennsylvania\",\"Virginia\",\"Ohio\",\"Florida\",\"North Carolina\",\"Arizona\",\"Indiana\",\"Georgia\",\"South Carolina\",\"Kentucky\",\"Texas\"],\"xaxis\":\"x3\",\"y\":[0.611111111111111,0.5545763760049475,0.5126262626262627,0.5303030303030303,0.5357142857142857,0.5064432989690721,0.5039424860853432,0.4772727272727273,0.4935322613894042,0.4913131313131313,0.4610858585858586,0.4329004329004329,0.4537373737373738,0.4534848484848485,0.4156818181818182,0.3041326530612245,0.43686868686868685],\"yaxis\":\"y3\",\"type\":\"bar\"},{\"alignmentgroup\":\"True\",\"hovertemplate\":\"Party=Republican\\u003cbr\\u003eYear=2011\\u003cbr\\u003eAge Group=18-29\\u003cbr\\u003e=%{x}\\u003cbr\\u003eVote Share=%{y}\\u003cextra\\u003e\\u003c\\u002fextra\\u003e\",\"legendgroup\":\"Republican\",\"marker\":{\"color\":\"#EF553B\",\"pattern\":{\"shape\":\"\"}},\"name\":\"Republican\",\"offsetgroup\":\"Republican\",\"orientation\":\"v\",\"showlegend\":true,\"textposition\":\"auto\",\"x\":[\"New York\",\"California\",\"New Hampshire\",\"Wisconsin\",\"Iowa\",\"Nevada\",\"Pennsylvania\",\"Virginia\",\"Ohio\",\"Florida\",\"North Carolina\",\"Arizona\",\"Indiana\",\"Georgia\",\"South Carolina\",\"Kentucky\",\"Texas\"],\"xaxis\":\"x\",\"y\":[0.24742268041237114,0.26471346114203254,0.3600127551020408,0.37446631261064245,0.4052835051546392,0.3086734693877551,0.3553571428571428,0.37683536394876604,0.360640648011782,0.3392857142857143,0.3074242424242424,0.3648979591836735,0.4761278195488722,0.4545454545454546,0.5251736111111112,0.4802546744036106,0.4229147141518276],\"yaxis\":\"y\",\"type\":\"bar\"},{\"alignmentgroup\":\"True\",\"hovertemplate\":\"Party=Republican\\u003cbr\\u003eYear=2011\\u003cbr\\u003eAge Group=30-44\\u003cbr\\u003e=%{x}\\u003cbr\\u003eVote Share=%{y}\\u003cextra\\u003e\\u003c\\u002fextra\\u003e\",\"legendgroup\":\"Republican\",\"marker\":{\"color\":\"#EF553B\",\"pattern\":{\"shape\":\"\"}},\"name\":\"Republican\",\"offsetgroup\":\"Republican\",\"orientation\":\"v\",\"showlegend\":false,\"textposition\":\"auto\",\"x\":[\"New York\",\"California\",\"New Hampshire\",\"Wisconsin\",\"Iowa\",\"Nevada\",\"Pennsylvania\",\"Virginia\",\"Ohio\",\"Florida\",\"North Carolina\",\"Arizona\",\"Indiana\",\"Georgia\",\"South Carolina\",\"Kentucky\",\"Texas\"],\"xaxis\":\"x2\",\"y\":[0.3806632653061224,0.3807397959183674,0.503865182436611,0.47588126159554733,0.4836116264687693,0.42348582474226804,0.44897959183673475,0.4566326530612246,0.475568062276457,0.4770408163265306,0.49363636363636365,0.5644329896907216,0.5101791106945746,0.44673469387755105,0.48234693877551016,0.5600936250788975,0.5076530612244898],\"yaxis\":\"y2\",\"type\":\"bar\"},{\"alignmentgroup\":\"True\",\"hovertemplate\":\"Party=Republican\\u003cbr\\u003eYear=2011\\u003cbr\\u003eAge Group=45-64\\u003cbr\\u003e=%{x}\\u003cbr\\u003eVote Share=%{y}\\u003cextra\\u003e\\u003c\\u002fextra\\u003e\",\"legendgroup\":\"Republican\",\"marker\":{\"color\":\"#EF553B\",\"pattern\":{\"shape\":\"\"}},\"name\":\"Republican\",\"offsetgroup\":\"Republican\",\"orientation\":\"v\",\"showlegend\":false,\"textposition\":\"auto\",\"x\":[\"New York\",\"California\",\"New Hampshire\",\"Wisconsin\",\"Iowa\",\"Nevada\",\"Pennsylvania\",\"Virginia\",\"Ohio\",\"Florida\",\"North Carolina\",\"Arizona\",\"Indiana\",\"Georgia\",\"South Carolina\",\"Kentucky\",\"Texas\"],\"xaxis\":\"x3\",\"y\":[0.38888888888888895,0.44542362399505253,0.48737373737373735,0.4696969696969697,0.4642857142857143,0.49355670103092786,0.4960575139146568,0.5227272727272727,0.5064677386105958,0.5086868686868686,0.5389141414141414,0.5670995670995671,0.5462626262626262,0.5465151515151515,0.5843181818181817,0.6958673469387755,0.5631313131313131],\"yaxis\":\"y3\",\"type\":\"bar\"}],\"name\":\"2011\"},{\"data\":[{\"alignmentgroup\":\"True\",\"hovertemplate\":\"Party=Democrat\\u003cbr\\u003eYear=2012\\u003cbr\\u003eAge Group=18-29\\u003cbr\\u003e=%{x}\\u003cbr\\u003eVote Share=%{y}\\u003cextra\\u003e\\u003c\\u002fextra\\u003e\",\"legendgroup\":\"Democrat\",\"marker\":{\"color\":\"#636efa\",\"pattern\":{\"shape\":\"\"}},\"name\":\"Democrat\",\"offsetgroup\":\"Democrat\",\"orientation\":\"v\",\"showlegend\":true,\"textposition\":\"auto\",\"x\":[\"New York\",\"California\",\"New Hampshire\",\"Wisconsin\",\"Iowa\",\"Nevada\",\"Pennsylvania\",\"Virginia\",\"Ohio\",\"Florida\",\"North Carolina\",\"Arizona\",\"Indiana\",\"Georgia\",\"South Carolina\",\"Kentucky\",\"Texas\"],\"xaxis\":\"x\",\"y\":[0.7422680412371134,0.7244897959183674,0.6458333333333334,0.6185567010309279,0.5833333333333334,0.6938775510204082,0.6428571428571429,0.6288659793814433,0.6428571428571429,0.673469387755102,0.6767676767676768,0.673469387755102,0.4842105263157895,0.5656565656565656,0.4479166666666667,0.5212765957446809,0.5876288659793815],\"yaxis\":\"y\",\"type\":\"bar\"},{\"alignmentgroup\":\"True\",\"hovertemplate\":\"Party=Democrat\\u003cbr\\u003eYear=2012\\u003cbr\\u003eAge Group=30-44\\u003cbr\\u003e=%{x}\\u003cbr\\u003eVote Share=%{y}\\u003cextra\\u003e\\u003c\\u002fextra\\u003e\",\"legendgroup\":\"Democrat\",\"marker\":{\"color\":\"#636efa\",\"pattern\":{\"shape\":\"\"}},\"name\":\"Democrat\",\"offsetgroup\":\"Democrat\",\"orientation\":\"v\",\"showlegend\":false,\"textposition\":\"auto\",\"x\":[\"New York\",\"California\",\"New Hampshire\",\"Wisconsin\",\"Iowa\",\"Nevada\",\"Pennsylvania\",\"Virginia\",\"Ohio\",\"Florida\",\"North Carolina\",\"Arizona\",\"Indiana\",\"Georgia\",\"South Carolina\",\"Kentucky\",\"Texas\"],\"xaxis\":\"x2\",\"y\":[0.6224489795918368,0.625,0.4897959183673469,0.5151515151515151,0.5252525252525253,0.5625,0.5612244897959183,0.5510204081632653,0.5257731958762887,0.5306122448979592,0.5151515151515151,0.422680412371134,0.4948453608247423,0.5510204081632653,0.5102040816326531,0.4387755102040816,0.5],\"yaxis\":\"y2\",\"type\":\"bar\"},{\"alignmentgroup\":\"True\",\"hovertemplate\":\"Party=Democrat\\u003cbr\\u003eYear=2012\\u003cbr\\u003eAge Group=45-64\\u003cbr\\u003e=%{x}\\u003cbr\\u003eVote Share=%{y}\\u003cextra\\u003e\\u003c\\u002fextra\\u003e\",\"legendgroup\":\"Democrat\",\"marker\":{\"color\":\"#636efa\",\"pattern\":{\"shape\":\"\"}},\"name\":\"Democrat\",\"offsetgroup\":\"Democrat\",\"orientation\":\"v\",\"showlegend\":false,\"textposition\":\"auto\",\"x\":[\"New York\",\"California\",\"New Hampshire\",\"Wisconsin\",\"Iowa\",\"Nevada\",\"Pennsylvania\",\"Virginia\",\"Ohio\",\"Florida\",\"North Carolina\",\"Arizona\",\"Indiana\",\"Georgia\",\"South Carolina\",\"Kentucky\",\"Texas\"],\"xaxis\":\"x3\",\"y\":[0.6161616161616161,0.5353535353535354,0.494949494949495,0.5151515151515151,0.5306122448979592,0.5,0.48484848484848486,0.46464646464646464,0.47959183673469385,0.48,0.47,0.43434343434343436,0.44,0.46464646464646464,0.42424242424242425,0.2755102040816326,0.4444444444444444],\"yaxis\":\"y3\",\"type\":\"bar\"},{\"alignmentgroup\":\"True\",\"hovertemplate\":\"Party=Republican\\u003cbr\\u003eYear=2012\\u003cbr\\u003eAge Group=18-29\\u003cbr\\u003e=%{x}\\u003cbr\\u003eVote Share=%{y}\\u003cextra\\u003e\\u003c\\u002fextra\\u003e\",\"legendgroup\":\"Republican\",\"marker\":{\"color\":\"#EF553B\",\"pattern\":{\"shape\":\"\"}},\"name\":\"Republican\",\"offsetgroup\":\"Republican\",\"orientation\":\"v\",\"showlegend\":true,\"textposition\":\"auto\",\"x\":[\"New York\",\"California\",\"New Hampshire\",\"Wisconsin\",\"Iowa\",\"Nevada\",\"Pennsylvania\",\"Virginia\",\"Ohio\",\"Florida\",\"North Carolina\",\"Arizona\",\"Indiana\",\"Georgia\",\"South Carolina\",\"Kentucky\",\"Texas\"],\"xaxis\":\"x\",\"y\":[0.25773195876288657,0.2755102040816326,0.35416666666666663,0.38144329896907214,0.41666666666666663,0.30612244897959184,0.3571428571428571,0.3711340206185567,0.3571428571428571,0.326530612244898,0.3232323232323232,0.326530612244898,0.5157894736842106,0.43434343434343436,0.5520833333333333,0.4787234042553191,0.41237113402061853],\"yaxis\":\"y\",\"type\":\"bar\"},{\"alignmentgroup\":\"True\",\"hovertemplate\":\"Party=Republican\\u003cbr\\u003eYear=2012\\u003cbr\\u003eAge Group=30-44\\u003cbr\\u003e=%{x}\\u003cbr\\u003eVote Share=%{y}\\u003cextra\\u003e\\u003c\\u002fextra\\u003e\",\"legendgroup\":\"Republican\",\"marker\":{\"color\":\"#EF553B\",\"pattern\":{\"shape\":\"\"}},\"name\":\"Republican\",\"offsetgroup\":\"Republican\",\"orientation\":\"v\",\"showlegend\":false,\"textposition\":\"auto\",\"x\":[\"New York\",\"California\",\"New Hampshire\",\"Wisconsin\",\"Iowa\",\"Nevada\",\"Pennsylvania\",\"Virginia\",\"Ohio\",\"Florida\",\"North Carolina\",\"Arizona\",\"Indiana\",\"Georgia\",\"South Carolina\",\"Kentucky\",\"Texas\"],\"xaxis\":\"x2\",\"y\":[0.37755102040816324,0.375,0.5102040816326531,0.48484848484848486,0.4747474747474747,0.4375,0.4387755102040817,0.44897959183673475,0.4742268041237113,0.4693877551020408,0.48484848484848486,0.5773195876288659,0.5051546391752577,0.44897959183673475,0.4897959183673469,0.5612244897959184,0.5],\"yaxis\":\"y2\",\"type\":\"bar\"},{\"alignmentgroup\":\"True\",\"hovertemplate\":\"Party=Republican\\u003cbr\\u003eYear=2012\\u003cbr\\u003eAge Group=45-64\\u003cbr\\u003e=%{x}\\u003cbr\\u003eVote Share=%{y}\\u003cextra\\u003e\\u003c\\u002fextra\\u003e\",\"legendgroup\":\"Republican\",\"marker\":{\"color\":\"#EF553B\",\"pattern\":{\"shape\":\"\"}},\"name\":\"Republican\",\"offsetgroup\":\"Republican\",\"orientation\":\"v\",\"showlegend\":false,\"textposition\":\"auto\",\"x\":[\"New York\",\"California\",\"New Hampshire\",\"Wisconsin\",\"Iowa\",\"Nevada\",\"Pennsylvania\",\"Virginia\",\"Ohio\",\"Florida\",\"North Carolina\",\"Arizona\",\"Indiana\",\"Georgia\",\"South Carolina\",\"Kentucky\",\"Texas\"],\"xaxis\":\"x3\",\"y\":[0.38383838383838387,0.46464646464646464,0.505050505050505,0.48484848484848486,0.4693877551020408,0.5,0.5151515151515151,0.5353535353535354,0.5204081632653061,0.52,0.53,0.5656565656565656,0.56,0.5353535353535354,0.5757575757575757,0.7244897959183674,0.5555555555555556],\"yaxis\":\"y3\",\"type\":\"bar\"}],\"name\":\"2012\"},{\"data\":[{\"alignmentgroup\":\"True\",\"hovertemplate\":\"Party=Democrat\\u003cbr\\u003eYear=2013\\u003cbr\\u003eAge Group=18-29\\u003cbr\\u003e=%{x}\\u003cbr\\u003eVote Share=%{y}\\u003cextra\\u003e\\u003c\\u002fextra\\u003e\",\"legendgroup\":\"Democrat\",\"marker\":{\"color\":\"#636efa\",\"pattern\":{\"shape\":\"\"}},\"name\":\"Democrat\",\"offsetgroup\":\"Democrat\",\"orientation\":\"v\",\"showlegend\":true,\"textposition\":\"auto\",\"x\":[\"New York\",\"California\",\"New Hampshire\",\"Wisconsin\",\"Iowa\",\"Nevada\",\"Pennsylvania\",\"Virginia\",\"Ohio\",\"Florida\",\"North Carolina\",\"Arizona\",\"Indiana\",\"Georgia\",\"South Carolina\",\"Kentucky\",\"Texas\"],\"xaxis\":\"x\",\"y\":[0.743543136190993,0.7287606053657418,0.6204861111111111,0.593038404894075,0.5541666666666667,0.6698334506216279,0.6189849624060151,0.6216494845360825,0.6192396313364056,0.6551020408163265,0.6624670619235837,0.6567874340747535,0.4881578947368421,0.5883049242424242,0.4609375,0.48235529627087625,0.5918205505834372],\"yaxis\":\"y\",\"type\":\"bar\"},{\"alignmentgroup\":\"True\",\"hovertemplate\":\"Party=Democrat\\u003cbr\\u003eYear=2013\\u003cbr\\u003eAge Group=30-44\\u003cbr\\u003e=%{x}\\u003cbr\\u003eVote Share=%{y}\\u003cextra\\u003e\\u003c\\u002fextra\\u003e\",\"legendgroup\":\"Democrat\",\"marker\":{\"color\":\"#636efa\",\"pattern\":{\"shape\":\"\"}},\"name\":\"Democrat\",\"offsetgroup\":\"Democrat\",\"orientation\":\"v\",\"showlegend\":false,\"textposition\":\"auto\",\"x\":[\"New York\",\"California\",\"New Hampshire\",\"Wisconsin\",\"Iowa\",\"Nevada\",\"Pennsylvania\",\"Virginia\",\"Ohio\",\"Florida\",\"North Carolina\",\"Arizona\",\"Indiana\",\"Georgia\",\"South Carolina\",\"Kentucky\",\"Texas\"],\"xaxis\":\"x2\",\"y\":[0.6308992346938775,0.6469414893617021,0.49790249433106576,0.5358201581027668,0.49949494949494955,0.5631793478260869,0.5603920515574651,0.5557384244020188,0.5072331227136682,0.54312047399605,0.5153110047846889,0.4505330365510778,0.46953827593770564,0.5474758324382384,0.49844253490870033,0.40539742212674545,0.4959677419354839],\"yaxis\":\"y2\",\"type\":\"bar\"},{\"alignmentgroup\":\"True\",\"hovertemplate\":\"Party=Democrat\\u003cbr\\u003eYear=2013\\u003cbr\\u003eAge Group=45-64\\u003cbr\\u003e=%{x}\\u003cbr\\u003eVote Share=%{y}\\u003cextra\\u003e\\u003c\\u002fextra\\u003e\",\"legendgroup\":\"Democrat\",\"marker\":{\"color\":\"#636efa\",\"pattern\":{\"shape\":\"\"}},\"name\":\"Democrat\",\"offsetgroup\":\"Democrat\",\"orientation\":\"v\",\"showlegend\":false,\"textposition\":\"auto\",\"x\":[\"New York\",\"California\",\"New Hampshire\",\"Wisconsin\",\"Iowa\",\"Nevada\",\"Pennsylvania\",\"Virginia\",\"Ohio\",\"Florida\",\"North Carolina\",\"Arizona\",\"Indiana\",\"Georgia\",\"South Carolina\",\"Kentucky\",\"Texas\"],\"xaxis\":\"x3\",\"y\":[0.6001420454545454,0.5499526515151515,0.4897688222430491,0.49203373945641987,0.5099383503401361,0.48138297872340424,0.47961574507966265,0.46961886910340517,0.4638605442176871,0.46858585858585855,0.46219387755102037,0.43365231259968107,0.4176288659793814,0.45307668521954236,0.41161616161616166,0.29257015306122447,0.43282312925170063],\"yaxis\":\"y3\",\"type\":\"bar\"},{\"alignmentgroup\":\"True\",\"hovertemplate\":\"Party=Republican\\u003cbr\\u003eYear=2013\\u003cbr\\u003eAge Group=18-29\\u003cbr\\u003e=%{x}\\u003cbr\\u003eVote Share=%{y}\\u003cextra\\u003e\\u003c\\u002fextra\\u003e\",\"legendgroup\":\"Republican\",\"marker\":{\"color\":\"#EF553B\",\"pattern\":{\"shape\":\"\"}},\"name\":\"Republican\",\"offsetgroup\":\"Republican\",\"orientation\":\"v\",\"showlegend\":true,\"textposition\":\"auto\",\"x\":[\"New York\",\"California\",\"New Hampshire\",\"Wisconsin\",\"Iowa\",\"Nevada\",\"Pennsylvania\",\"Virginia\",\"Ohio\",\"Florida\",\"North Carolina\",\"Arizona\",\"Indiana\",\"Georgia\",\"South Carolina\",\"Kentucky\",\"Texas\"],\"xaxis\":\"x\",\"y\":[0.256456863809007,0.27123939463425817,0.37951388888888893,0.406961595105925,0.4458333333333333,0.3301665493783721,0.3810150375939849,0.3783505154639175,0.3807603686635944,0.3448979591836735,0.33753293807641627,0.3432125659252465,0.5118421052631579,0.4116950757575758,0.5390625,0.5176447037291237,0.4081794494165628],\"yaxis\":\"y\",\"type\":\"bar\"},{\"alignmentgroup\":\"True\",\"hovertemplate\":\"Party=Republican\\u003cbr\\u003eYear=2013\\u003cbr\\u003eAge Group=30-44\\u003cbr\\u003e=%{x}\\u003cbr\\u003eVote Share=%{y}\\u003cextra\\u003e\\u003c\\u002fextra\\u003e\",\"legendgroup\":\"Republican\",\"marker\":{\"color\":\"#EF553B\",\"pattern\":{\"shape\":\"\"}},\"name\":\"Republican\",\"offsetgroup\":\"Republican\",\"orientation\":\"v\",\"showlegend\":false,\"textposition\":\"auto\",\"x\":[\"New York\",\"California\",\"New Hampshire\",\"Wisconsin\",\"Iowa\",\"Nevada\",\"Pennsylvania\",\"Virginia\",\"Ohio\",\"Florida\",\"North Carolina\",\"Arizona\",\"Indiana\",\"Georgia\",\"South Carolina\",\"Kentucky\",\"Texas\"],\"xaxis\":\"x2\",\"y\":[0.36910076530612246,0.35305851063829785,0.5020975056689343,0.46417984189723316,0.5005050505050505,0.4368206521739131,0.4396079484425349,0.4442615755979812,0.49276687728633184,0.45687952600395,0.48468899521531106,0.5494669634489222,0.5304617240622944,0.4525241675617616,0.5015574650912997,0.5946025778732545,0.5040322580645161],\"yaxis\":\"y2\",\"type\":\"bar\"},{\"alignmentgroup\":\"True\",\"hovertemplate\":\"Party=Republican\\u003cbr\\u003eYear=2013\\u003cbr\\u003eAge Group=45-64\\u003cbr\\u003e=%{x}\\u003cbr\\u003eVote Share=%{y}\\u003cextra\\u003e\\u003c\\u002fextra\\u003e\",\"legendgroup\":\"Republican\",\"marker\":{\"color\":\"#EF553B\",\"pattern\":{\"shape\":\"\"}},\"name\":\"Republican\",\"offsetgroup\":\"Republican\",\"orientation\":\"v\",\"showlegend\":false,\"textposition\":\"auto\",\"x\":[\"New York\",\"California\",\"New Hampshire\",\"Wisconsin\",\"Iowa\",\"Nevada\",\"Pennsylvania\",\"Virginia\",\"Ohio\",\"Florida\",\"North Carolina\",\"Arizona\",\"Indiana\",\"Georgia\",\"South Carolina\",\"Kentucky\",\"Texas\"],\"xaxis\":\"x3\",\"y\":[0.3998579545454546,0.4500473484848485,0.5102311777569509,0.5079662605435802,0.4900616496598639,0.5186170212765957,0.5203842549203374,0.5303811308965949,0.5361394557823129,0.5314141414141414,0.5378061224489796,0.5663476874003189,0.5823711340206186,0.5469233147804576,0.5883838383838383,0.7074298469387755,0.5671768707482994],\"yaxis\":\"y3\",\"type\":\"bar\"}],\"name\":\"2013\"},{\"data\":[{\"alignmentgroup\":\"True\",\"hovertemplate\":\"Party=Democrat\\u003cbr\\u003eYear=2014\\u003cbr\\u003eAge Group=18-29\\u003cbr\\u003e=%{x}\\u003cbr\\u003eVote Share=%{y}\\u003cextra\\u003e\\u003c\\u002fextra\\u003e\",\"legendgroup\":\"Democrat\",\"marker\":{\"color\":\"#636efa\",\"pattern\":{\"shape\":\"\"}},\"name\":\"Democrat\",\"offsetgroup\":\"Democrat\",\"orientation\":\"v\",\"showlegend\":true,\"textposition\":\"auto\",\"x\":[\"New York\",\"California\",\"New Hampshire\",\"Wisconsin\",\"Iowa\",\"Nevada\",\"Pennsylvania\",\"Virginia\",\"Ohio\",\"Florida\",\"North Carolina\",\"Arizona\",\"Indiana\",\"Georgia\",\"South Carolina\",\"Kentucky\",\"Texas\"],\"xaxis\":\"x\",\"y\":[0.7448182311448726,0.7330314148131163,0.5951388888888889,0.5675201087572221,0.525,0.6457893502228478,0.5951127819548873,0.6144329896907217,0.5956221198156681,0.636734693877551,0.6481664470794906,0.640105480394405,0.4921052631578947,0.6109532828282829,0.47395833333333337,0.44343399679707163,0.5960122351874929],\"yaxis\":\"y\",\"type\":\"bar\"},{\"alignmentgroup\":\"True\",\"hovertemplate\":\"Party=Democrat\\u003cbr\\u003eYear=2014\\u003cbr\\u003eAge Group=30-44\\u003cbr\\u003e=%{x}\\u003cbr\\u003eVote Share=%{y}\\u003cextra\\u003e\\u003c\\u002fextra\\u003e\",\"legendgroup\":\"Democrat\",\"marker\":{\"color\":\"#636efa\",\"pattern\":{\"shape\":\"\"}},\"name\":\"Democrat\",\"offsetgroup\":\"Democrat\",\"orientation\":\"v\",\"showlegend\":false,\"textposition\":\"auto\",\"x\":[\"New York\",\"California\",\"New Hampshire\",\"Wisconsin\",\"Iowa\",\"Nevada\",\"Pennsylvania\",\"Virginia\",\"Ohio\",\"Florida\",\"North Carolina\",\"Arizona\",\"Indiana\",\"Georgia\",\"South Carolina\",\"Kentucky\",\"Texas\"],\"xaxis\":\"x2\",\"y\":[0.6393494897959184,0.6688829787234043,0.5060090702947846,0.5564888010540184,0.4737373737373738,0.5638586956521738,0.5595596133190117,0.5604564406407724,0.48869304955104753,0.5556287030941409,0.5154704944178629,0.4783856607310215,0.444231191050669,0.5439312567132115,0.4866809881847476,0.37201933404940923,0.49193548387096775],\"yaxis\":\"y2\",\"type\":\"bar\"},{\"alignmentgroup\":\"True\",\"hovertemplate\":\"Party=Democrat\\u003cbr\\u003eYear=2014\\u003cbr\\u003eAge Group=45-64\\u003cbr\\u003e=%{x}\\u003cbr\\u003eVote Share=%{y}\\u003cextra\\u003e\\u003c\\u002fextra\\u003e\",\"legendgroup\":\"Democrat\",\"marker\":{\"color\":\"#636efa\",\"pattern\":{\"shape\":\"\"}},\"name\":\"Democrat\",\"offsetgroup\":\"Democrat\",\"orientation\":\"v\",\"showlegend\":false,\"textposition\":\"auto\",\"x\":[\"New York\",\"California\",\"New Hampshire\",\"Wisconsin\",\"Iowa\",\"Nevada\",\"Pennsylvania\",\"Virginia\",\"Ohio\",\"Florida\",\"North Carolina\",\"Arizona\",\"Indiana\",\"Georgia\",\"South Carolina\",\"Kentucky\",\"Texas\"],\"xaxis\":\"x3\",\"y\":[0.5841224747474747,0.5645517676767677,0.4845881495366031,0.4689159637613246,0.4892644557823129,0.4627659574468085,0.4743830053108404,0.4745912735603457,0.4481292517006803,0.4571717171717172,0.45438775510204077,0.4329611908559277,0.3952577319587629,0.4415069057926201,0.398989898989899,0.3096301020408163,0.4212018140589569],\"yaxis\":\"y3\",\"type\":\"bar\"},{\"alignmentgroup\":\"True\",\"hovertemplate\":\"Party=Republican\\u003cbr\\u003eYear=2014\\u003cbr\\u003eAge Group=18-29\\u003cbr\\u003e=%{x}\\u003cbr\\u003eVote Share=%{y}\\u003cextra\\u003e\\u003c\\u002fextra\\u003e\",\"legendgroup\":\"Republican\",\"marker\":{\"color\":\"#EF553B\",\"pattern\":{\"shape\":\"\"}},\"name\":\"Republican\",\"offsetgroup\":\"Republican\",\"orientation\":\"v\",\"showlegend\":true,\"textposition\":\"auto\",\"x\":[\"New York\",\"California\",\"New Hampshire\",\"Wisconsin\",\"Iowa\",\"Nevada\",\"Pennsylvania\",\"Virginia\",\"Ohio\",\"Florida\",\"North Carolina\",\"Arizona\",\"Indiana\",\"Georgia\",\"South Carolina\",\"Kentucky\",\"Texas\"],\"xaxis\":\"x\",\"y\":[0.25518176885512744,0.2669685851868837,0.4048611111111111,0.43247989124277786,0.475,0.3542106497771522,0.40488721804511274,0.3855670103092783,0.40437788018433185,0.363265306122449,0.35183355292050944,0.35989451960559504,0.5078947368421053,0.3890467171717171,0.5260416666666666,0.5565660032029284,0.4039877648125071],\"yaxis\":\"y\",\"type\":\"bar\"},{\"alignmentgroup\":\"True\",\"hovertemplate\":\"Party=Republican\\u003cbr\\u003eYear=2014\\u003cbr\\u003eAge Group=30-44\\u003cbr\\u003e=%{x}\\u003cbr\\u003eVote Share=%{y}\\u003cextra\\u003e\\u003c\\u002fextra\\u003e\",\"legendgroup\":\"Republican\",\"marker\":{\"color\":\"#EF553B\",\"pattern\":{\"shape\":\"\"}},\"name\":\"Republican\",\"offsetgroup\":\"Republican\",\"orientation\":\"v\",\"showlegend\":false,\"textposition\":\"auto\",\"x\":[\"New York\",\"California\",\"New Hampshire\",\"Wisconsin\",\"Iowa\",\"Nevada\",\"Pennsylvania\",\"Virginia\",\"Ohio\",\"Florida\",\"North Carolina\",\"Arizona\",\"Indiana\",\"Georgia\",\"South Carolina\",\"Kentucky\",\"Texas\"],\"xaxis\":\"x2\",\"y\":[0.36065051020408156,0.3311170212765957,0.4939909297052154,0.44351119894598157,0.5262626262626262,0.43614130434782616,0.4404403866809883,0.4395435593592276,0.5113069504489525,0.4443712969058591,0.48452950558213714,0.5216143392689785,0.555768808949331,0.4560687432867885,0.5133190118152524,0.6279806659505908,0.5080645161290323],\"yaxis\":\"y2\",\"type\":\"bar\"},{\"alignmentgroup\":\"True\",\"hovertemplate\":\"Party=Republican\\u003cbr\\u003eYear=2014\\u003cbr\\u003eAge Group=45-64\\u003cbr\\u003e=%{x}\\u003cbr\\u003eVote Share=%{y}\\u003cextra\\u003e\\u003c\\u002fextra\\u003e\",\"legendgroup\":\"Republican\",\"marker\":{\"color\":\"#EF553B\",\"pattern\":{\"shape\":\"\"}},\"name\":\"Republican\",\"offsetgroup\":\"Republican\",\"orientation\":\"v\",\"showlegend\":false,\"textposition\":\"auto\",\"x\":[\"New York\",\"California\",\"New Hampshire\",\"Wisconsin\",\"Iowa\",\"Nevada\",\"Pennsylvania\",\"Virginia\",\"Ohio\",\"Florida\",\"North Carolina\",\"Arizona\",\"Indiana\",\"Georgia\",\"South Carolina\",\"Kentucky\",\"Texas\"],\"xaxis\":\"x3\",\"y\":[0.4158775252525253,0.43544823232323226,0.5154118504633969,0.5310840362386754,0.5107355442176871,0.5372340425531915,0.5256169946891596,0.5254087264396543,0.5518707482993197,0.5428282828282829,0.5456122448979592,0.5670388091440723,0.6047422680412371,0.5584930942073799,0.601010101010101,0.6903698979591837,0.5787981859410432],\"yaxis\":\"y3\",\"type\":\"bar\"}],\"name\":\"2014\"},{\"data\":[{\"alignmentgroup\":\"True\",\"hovertemplate\":\"Party=Democrat\\u003cbr\\u003eYear=2015\\u003cbr\\u003eAge Group=18-29\\u003cbr\\u003e=%{x}\\u003cbr\\u003eVote Share=%{y}\\u003cextra\\u003e\\u003c\\u002fextra\\u003e\",\"legendgroup\":\"Democrat\",\"marker\":{\"color\":\"#636efa\",\"pattern\":{\"shape\":\"\"}},\"name\":\"Democrat\",\"offsetgroup\":\"Democrat\",\"orientation\":\"v\",\"showlegend\":true,\"textposition\":\"auto\",\"x\":[\"New York\",\"California\",\"New Hampshire\",\"Wisconsin\",\"Iowa\",\"Nevada\",\"Pennsylvania\",\"Virginia\",\"Ohio\",\"Florida\",\"North Carolina\",\"Arizona\",\"Indiana\",\"Georgia\",\"South Carolina\",\"Kentucky\",\"Texas\"],\"xaxis\":\"x\",\"y\":[0.746093326098752,0.7373022242604907,0.5697916666666667,0.5420018126203694,0.49583333333333335,0.6217452498240676,0.5712406015037594,0.6072164948453608,0.5720046082949308,0.6183673469387755,0.6338658322353974,0.6234235267140564,0.49605263157894736,0.6336016414141414,0.4869791666666667,0.404512697323267,0.6002039197915486],\"yaxis\":\"y\",\"type\":\"bar\"},{\"alignmentgroup\":\"True\",\"hovertemplate\":\"Party=Democrat\\u003cbr\\u003eYear=2015\\u003cbr\\u003eAge Group=30-44\\u003cbr\\u003e=%{x}\\u003cbr\\u003eVote Share=%{y}\\u003cextra\\u003e\\u003c\\u002fextra\\u003e\",\"legendgroup\":\"Democrat\",\"marker\":{\"color\":\"#636efa\",\"pattern\":{\"shape\":\"\"}},\"name\":\"Democrat\",\"offsetgroup\":\"Democrat\",\"orientation\":\"v\",\"showlegend\":false,\"textposition\":\"auto\",\"x\":[\"New York\",\"California\",\"New Hampshire\",\"Wisconsin\",\"Iowa\",\"Nevada\",\"Pennsylvania\",\"Virginia\",\"Ohio\",\"Florida\",\"North Carolina\",\"Arizona\",\"Indiana\",\"Georgia\",\"South Carolina\",\"Kentucky\",\"Texas\"],\"xaxis\":\"x2\",\"y\":[0.6477997448979592,0.6908244680851063,0.5141156462585035,0.57715744400527,0.447979797979798,0.5645380434782609,0.5587271750805585,0.565174456879526,0.470152976388427,0.5681369321922318,0.5156299840510368,0.5062382849109653,0.4189241061636324,0.5403866809881848,0.47491944146079484,0.338641245972073,0.4879032258064516],\"yaxis\":\"y2\",\"type\":\"bar\"},{\"alignmentgroup\":\"True\",\"hovertemplate\":\"Party=Democrat\\u003cbr\\u003eYear=2015\\u003cbr\\u003eAge Group=45-64\\u003cbr\\u003e=%{x}\\u003cbr\\u003eVote Share=%{y}\\u003cextra\\u003e\\u003c\\u002fextra\\u003e\",\"legendgroup\":\"Democrat\",\"marker\":{\"color\":\"#636efa\",\"pattern\":{\"shape\":\"\"}},\"name\":\"Democrat\",\"offsetgroup\":\"Democrat\",\"orientation\":\"v\",\"showlegend\":false,\"textposition\":\"auto\",\"x\":[\"New York\",\"California\",\"New Hampshire\",\"Wisconsin\",\"Iowa\",\"Nevada\",\"Pennsylvania\",\"Virginia\",\"Ohio\",\"Florida\",\"North Carolina\",\"Arizona\",\"Indiana\",\"Georgia\",\"South Carolina\",\"Kentucky\",\"Texas\"],\"xaxis\":\"x3\",\"y\":[0.5681029040404041,0.5791508838383839,0.4794074768301572,0.4457981880662293,0.46859056122448983,0.4441489361702128,0.4691502655420181,0.4795636780172863,0.43239795918367346,0.4457575757575758,0.4465816326530612,0.43227006911217436,0.3728865979381443,0.4299371263656978,0.38636363636363635,0.32669005102040816,0.40958049886621317],\"yaxis\":\"y3\",\"type\":\"bar\"},{\"alignmentgroup\":\"True\",\"hovertemplate\":\"Party=Republican\\u003cbr\\u003eYear=2015\\u003cbr\\u003eAge Group=18-29\\u003cbr\\u003e=%{x}\\u003cbr\\u003eVote Share=%{y}\\u003cextra\\u003e\\u003c\\u002fextra\\u003e\",\"legendgroup\":\"Republican\",\"marker\":{\"color\":\"#EF553B\",\"pattern\":{\"shape\":\"\"}},\"name\":\"Republican\",\"offsetgroup\":\"Republican\",\"orientation\":\"v\",\"showlegend\":true,\"textposition\":\"auto\",\"x\":[\"New York\",\"California\",\"New Hampshire\",\"Wisconsin\",\"Iowa\",\"Nevada\",\"Pennsylvania\",\"Virginia\",\"Ohio\",\"Florida\",\"North Carolina\",\"Arizona\",\"Indiana\",\"Georgia\",\"South Carolina\",\"Kentucky\",\"Texas\"],\"xaxis\":\"x\",\"y\":[0.253906673901248,0.26269777573950925,0.4302083333333333,0.4579981873796306,0.5041666666666667,0.37825475017593235,0.42875939849624056,0.3927835051546392,0.4279953917050692,0.3816326530612245,0.3661341677646026,0.37657647328594357,0.5039473684210527,0.36639835858585856,0.5130208333333333,0.595487302676733,0.39979608020845137],\"yaxis\":\"y\",\"type\":\"bar\"},{\"alignmentgroup\":\"True\",\"hovertemplate\":\"Party=Republican\\u003cbr\\u003eYear=2015\\u003cbr\\u003eAge Group=30-44\\u003cbr\\u003e=%{x}\\u003cbr\\u003eVote Share=%{y}\\u003cextra\\u003e\\u003c\\u002fextra\\u003e\",\"legendgroup\":\"Republican\",\"marker\":{\"color\":\"#EF553B\",\"pattern\":{\"shape\":\"\"}},\"name\":\"Republican\",\"offsetgroup\":\"Republican\",\"orientation\":\"v\",\"showlegend\":false,\"textposition\":\"auto\",\"x\":[\"New York\",\"California\",\"New Hampshire\",\"Wisconsin\",\"Iowa\",\"Nevada\",\"Pennsylvania\",\"Virginia\",\"Ohio\",\"Florida\",\"North Carolina\",\"Arizona\",\"Indiana\",\"Georgia\",\"South Carolina\",\"Kentucky\",\"Texas\"],\"xaxis\":\"x2\",\"y\":[0.3522002551020408,0.30917553191489366,0.4858843537414965,0.42284255599473,0.5520202020202021,0.43546195652173914,0.44127282491944153,0.43482554312047395,0.529847023611573,0.4318630678077682,0.48437001594896323,0.49376171508903466,0.5810758938363676,0.45961331901181524,0.5250805585392051,0.661358754027927,0.5120967741935484],\"yaxis\":\"y2\",\"type\":\"bar\"},{\"alignmentgroup\":\"True\",\"hovertemplate\":\"Party=Republican\\u003cbr\\u003eYear=2015\\u003cbr\\u003eAge Group=45-64\\u003cbr\\u003e=%{x}\\u003cbr\\u003eVote Share=%{y}\\u003cextra\\u003e\\u003c\\u002fextra\\u003e\",\"legendgroup\":\"Republican\",\"marker\":{\"color\":\"#EF553B\",\"pattern\":{\"shape\":\"\"}},\"name\":\"Republican\",\"offsetgroup\":\"Republican\",\"orientation\":\"v\",\"showlegend\":false,\"textposition\":\"auto\",\"x\":[\"New York\",\"California\",\"New Hampshire\",\"Wisconsin\",\"Iowa\",\"Nevada\",\"Pennsylvania\",\"Virginia\",\"Ohio\",\"Florida\",\"North Carolina\",\"Arizona\",\"Indiana\",\"Georgia\",\"South Carolina\",\"Kentucky\",\"Texas\"],\"xaxis\":\"x3\",\"y\":[0.4318970959595959,0.42084911616161613,0.5205925231698427,0.5542018119337707,0.5314094387755102,0.5558510638297872,0.5308497344579819,0.5204363219827137,0.5676020408163265,0.5542424242424242,0.5534183673469388,0.5677299308878256,0.6271134020618556,0.5700628736343022,0.6136363636363636,0.6733099489795918,0.5904195011337868],\"yaxis\":\"y3\",\"type\":\"bar\"}],\"name\":\"2015\"},{\"data\":[{\"alignmentgroup\":\"True\",\"hovertemplate\":\"Party=Democrat\\u003cbr\\u003eYear=2016\\u003cbr\\u003eAge Group=18-29\\u003cbr\\u003e=%{x}\\u003cbr\\u003eVote Share=%{y}\\u003cextra\\u003e\\u003c\\u002fextra\\u003e\",\"legendgroup\":\"Democrat\",\"marker\":{\"color\":\"#636efa\",\"pattern\":{\"shape\":\"\"}},\"name\":\"Democrat\",\"offsetgroup\":\"Democrat\",\"orientation\":\"v\",\"showlegend\":true,\"textposition\":\"auto\",\"x\":[\"New York\",\"California\",\"New Hampshire\",\"Wisconsin\",\"Iowa\",\"Nevada\",\"Pennsylvania\",\"Virginia\",\"Ohio\",\"Florida\",\"North Carolina\",\"Arizona\",\"Indiana\",\"Georgia\",\"South Carolina\",\"Kentucky\",\"Texas\"],\"xaxis\":\"x\",\"y\":[0.7473684210526316,0.7415730337078652,0.5444444444444444,0.5164835164835165,0.4666666666666667,0.5977011494252874,0.5473684210526316,0.6,0.5483870967741935,0.6,0.6195652173913043,0.6067415730337079,0.5,0.65625,0.5,0.3655913978494624,0.6043956043956044],\"yaxis\":\"y\",\"type\":\"bar\"},{\"alignmentgroup\":\"True\",\"hovertemplate\":\"Party=Democrat\\u003cbr\\u003eYear=2016\\u003cbr\\u003eAge Group=30-44\\u003cbr\\u003e=%{x}\\u003cbr\\u003eVote Share=%{y}\\u003cextra\\u003e\\u003c\\u002fextra\\u003e\",\"legendgroup\":\"Democrat\",\"marker\":{\"color\":\"#636efa\",\"pattern\":{\"shape\":\"\"}},\"name\":\"Democrat\",\"offsetgroup\":\"Democrat\",\"orientation\":\"v\",\"showlegend\":false,\"textposition\":\"auto\",\"x\":[\"New York\",\"California\",\"New Hampshire\",\"Wisconsin\",\"Iowa\",\"Nevada\",\"Pennsylvania\",\"Virginia\",\"Ohio\",\"Florida\",\"North Carolina\",\"Arizona\",\"Indiana\",\"Georgia\",\"South Carolina\",\"Kentucky\",\"Texas\"],\"xaxis\":\"x2\",\"y\":[0.65625,0.7127659574468085,0.5222222222222223,0.5978260869565217,0.4222222222222222,0.5652173913043478,0.5578947368421052,0.5698924731182796,0.45161290322580644,0.5806451612903226,0.5157894736842106,0.5340909090909091,0.39361702127659576,0.5368421052631579,0.4631578947368421,0.30526315789473685,0.4838709677419355],\"yaxis\":\"y2\",\"type\":\"bar\"},{\"alignmentgroup\":\"True\",\"hovertemplate\":\"Party=Democrat\\u003cbr\\u003eYear=2016\\u003cbr\\u003eAge Group=45-64\\u003cbr\\u003e=%{x}\\u003cbr\\u003eVote Share=%{y}\\u003cextra\\u003e\\u003c\\u002fextra\\u003e\",\"legendgroup\":\"Democrat\",\"marker\":{\"color\":\"#636efa\",\"pattern\":{\"shape\":\"\"}},\"name\":\"Democrat\",\"offsetgroup\":\"Democrat\",\"orientation\":\"v\",\"showlegend\":false,\"textposition\":\"auto\",\"x\":[\"New York\",\"California\",\"New Hampshire\",\"Wisconsin\",\"Iowa\",\"Nevada\",\"Pennsylvania\",\"Virginia\",\"Ohio\",\"Florida\",\"North Carolina\",\"Arizona\",\"Indiana\",\"Georgia\",\"South Carolina\",\"Kentucky\",\"Texas\"],\"xaxis\":\"x3\",\"y\":[0.5520833333333334,0.59375,0.4742268041237113,0.422680412371134,0.4479166666666667,0.425531914893617,0.4639175257731959,0.4845360824742268,0.4166666666666667,0.43434343434343436,0.4387755102040816,0.43157894736842106,0.35051546391752575,0.41836734693877553,0.37373737373737376,0.34375,0.3979591836734694],\"yaxis\":\"y3\",\"type\":\"bar\"},{\"alignmentgroup\":\"True\",\"hovertemplate\":\"Party=Republican\\u003cbr\\u003eYear=2016\\u003cbr\\u003eAge Group=18-29\\u003cbr\\u003e=%{x}\\u003cbr\\u003eVote Share=%{y}\\u003cextra\\u003e\\u003c\\u002fextra\\u003e\",\"legendgroup\":\"Republican\",\"marker\":{\"color\":\"#EF553B\",\"pattern\":{\"shape\":\"\"}},\"name\":\"Republican\",\"offsetgroup\":\"Republican\",\"orientation\":\"v\",\"showlegend\":true,\"textposition\":\"auto\",\"x\":[\"New York\",\"California\",\"New Hampshire\",\"Wisconsin\",\"Iowa\",\"Nevada\",\"Pennsylvania\",\"Virginia\",\"Ohio\",\"Florida\",\"North Carolina\",\"Arizona\",\"Indiana\",\"Georgia\",\"South Carolina\",\"Kentucky\",\"Texas\"],\"xaxis\":\"x\",\"y\":[0.25263157894736843,0.2584269662921348,0.4555555555555556,0.48351648351648346,0.5333333333333333,0.4022988505747126,0.4526315789473684,0.4,0.4516129032258065,0.4,0.3804347826086957,0.3932584269662921,0.5,0.34375,0.5,0.6344086021505376,0.39560439560439564],\"yaxis\":\"y\",\"type\":\"bar\"},{\"alignmentgroup\":\"True\",\"hovertemplate\":\"Party=Republican\\u003cbr\\u003eYear=2016\\u003cbr\\u003eAge Group=30-44\\u003cbr\\u003e=%{x}\\u003cbr\\u003eVote Share=%{y}\\u003cextra\\u003e\\u003c\\u002fextra\\u003e\",\"legendgroup\":\"Republican\",\"marker\":{\"color\":\"#EF553B\",\"pattern\":{\"shape\":\"\"}},\"name\":\"Republican\",\"offsetgroup\":\"Republican\",\"orientation\":\"v\",\"showlegend\":false,\"textposition\":\"auto\",\"x\":[\"New York\",\"California\",\"New Hampshire\",\"Wisconsin\",\"Iowa\",\"Nevada\",\"Pennsylvania\",\"Virginia\",\"Ohio\",\"Florida\",\"North Carolina\",\"Arizona\",\"Indiana\",\"Georgia\",\"South Carolina\",\"Kentucky\",\"Texas\"],\"xaxis\":\"x2\",\"y\":[0.34375,0.2872340425531915,0.47777777777777775,0.40217391304347827,0.5777777777777777,0.4347826086956522,0.4421052631578948,0.4301075268817204,0.5483870967741935,0.4193548387096774,0.4842105263157894,0.46590909090909094,0.6063829787234043,0.4631578947368421,0.5368421052631579,0.6947368421052631,0.5161290322580645],\"yaxis\":\"y2\",\"type\":\"bar\"},{\"alignmentgroup\":\"True\",\"hovertemplate\":\"Party=Republican\\u003cbr\\u003eYear=2016\\u003cbr\\u003eAge Group=45-64\\u003cbr\\u003e=%{x}\\u003cbr\\u003eVote Share=%{y}\\u003cextra\\u003e\\u003c\\u002fextra\\u003e\",\"legendgroup\":\"Republican\",\"marker\":{\"color\":\"#EF553B\",\"pattern\":{\"shape\":\"\"}},\"name\":\"Republican\",\"offsetgroup\":\"Republican\",\"orientation\":\"v\",\"showlegend\":false,\"textposition\":\"auto\",\"x\":[\"New York\",\"California\",\"New Hampshire\",\"Wisconsin\",\"Iowa\",\"Nevada\",\"Pennsylvania\",\"Virginia\",\"Ohio\",\"Florida\",\"North Carolina\",\"Arizona\",\"Indiana\",\"Georgia\",\"South Carolina\",\"Kentucky\",\"Texas\"],\"xaxis\":\"x3\",\"y\":[0.44791666666666663,0.40625,0.5257731958762887,0.5773195876288659,0.5520833333333333,0.574468085106383,0.5360824742268041,0.5154639175257731,0.5833333333333333,0.5656565656565656,0.5612244897959184,0.5684210526315789,0.6494845360824743,0.5816326530612245,0.6262626262626263,0.65625,0.6020408163265306],\"yaxis\":\"y3\",\"type\":\"bar\"}],\"name\":\"2016\"}]);\n",
       "                        }).then(function(){\n",
       "                            \n",
       "var gd = document.getElementById('6fda36fb-e793-4981-b1de-cf1eacefcfb3');\n",
       "var x = new MutationObserver(function (mutations, observer) {{\n",
       "        var display = window.getComputedStyle(gd).display;\n",
       "        if (!display || display === 'none') {{\n",
       "            console.log([gd, 'removed!']);\n",
       "            Plotly.purge(gd);\n",
       "            observer.disconnect();\n",
       "        }}\n",
       "}});\n",
       "\n",
       "// Listen for the removal of the full notebook cells\n",
       "var notebookContainer = gd.closest('#notebook-container');\n",
       "if (notebookContainer) {{\n",
       "    x.observe(notebookContainer, {childList: true});\n",
       "}}\n",
       "\n",
       "// Listen for the clearing of the current output cell\n",
       "var outputEl = gd.closest('.output');\n",
       "if (outputEl) {{\n",
       "    x.observe(outputEl, {childList: true});\n",
       "}}\n",
       "\n",
       "                        })                };                });            </script>        </div>"
      ]
     },
     "metadata": {},
     "output_type": "display_data"
    }
   ],
   "execution_count": 29
  }
 ],
 "metadata": {
  "kernelspec": {
   "display_name": "ada",
   "language": "python",
   "name": "python3"
  },
  "language_info": {
   "codemirror_mode": {
    "name": "ipython",
    "version": 3
   },
   "file_extension": ".py",
   "mimetype": "text/x-python",
   "name": "python",
   "nbconvert_exporter": "python",
   "pygments_lexer": "ipython3",
   "version": "3.11.6"
  }
 },
 "nbformat": 4,
 "nbformat_minor": 2
}
